{
 "cells": [
  {
   "cell_type": "markdown",
   "id": "bb14a4ad",
   "metadata": {},
   "source": [
    "## Datos de strava\n",
    "\n",
    "- Cargar el fichero 'data/activities_strava.csv'\n",
    "- Observar el número y tipo de columnas\n",
    "- Quedarse con las columnas: Activity.Date,  Activity.Type, Moving.Time y Elapsed.Time\n",
    "- Quedarse con las muestras que tengan: Moving.Time > 1000\n",
    "- Mostrar las filas del 4 al 8 de las columnas Activity.Type y Moving.Time\n",
    "- Crear una nueva columna llamada Moving.Minutes que sea igual a Moving.Time/60\n",
    "- ¿Cuantos tipos de Activity.Type hay? ¿Cuantos hay en cada categoría?\n",
    "- ¿Como obtendrías un resumen de todos los datos del dataframe?"
   ]
  },
  {
   "cell_type": "code",
   "execution_count": 2,
   "id": "2610c2fa",
   "metadata": {},
   "outputs": [
    {
     "data": {
      "text/html": [
       "<table class=\"dataframe\">\n",
       "<caption>A data.frame: 6 × 77</caption>\n",
       "<thead>\n",
       "\t<tr><th></th><th scope=col>Activity.ID</th><th scope=col>Activity.Date</th><th scope=col>Activity.Name</th><th scope=col>Activity.Type</th><th scope=col>Activity.Description</th><th scope=col>Elapsed.Time</th><th scope=col>Distance</th><th scope=col>Relative.Effort</th><th scope=col>Commute</th><th scope=col>Activity.Gear</th><th scope=col>⋯</th><th scope=col>Gear</th><th scope=col>Precipitation.Probability</th><th scope=col>Precipitation.Type</th><th scope=col>Cloud.Cover</th><th scope=col>Weather.Visibility</th><th scope=col>UV.Index</th><th scope=col>Weather.Ozone</th><th scope=col>translation.missing..en.US.lib.export.portability_exporter.activities.horton_values.jump_count</th><th scope=col>translation.missing..en.US.lib.export.portability_exporter.activities.horton_values.total_grit</th><th scope=col>translation.missing..en.US.lib.export.portability_exporter.activities.horton_values.avg_flow</th></tr>\n",
       "\t<tr><th></th><th scope=col>&lt;dbl&gt;</th><th scope=col>&lt;chr&gt;</th><th scope=col>&lt;chr&gt;</th><th scope=col>&lt;chr&gt;</th><th scope=col>&lt;lgl&gt;</th><th scope=col>&lt;int&gt;</th><th scope=col>&lt;dbl&gt;</th><th scope=col>&lt;lgl&gt;</th><th scope=col>&lt;chr&gt;</th><th scope=col>&lt;lgl&gt;</th><th scope=col>⋯</th><th scope=col>&lt;lgl&gt;</th><th scope=col>&lt;lgl&gt;</th><th scope=col>&lt;lgl&gt;</th><th scope=col>&lt;lgl&gt;</th><th scope=col>&lt;lgl&gt;</th><th scope=col>&lt;lgl&gt;</th><th scope=col>&lt;lgl&gt;</th><th scope=col>&lt;lgl&gt;</th><th scope=col>&lt;lgl&gt;</th><th scope=col>&lt;lgl&gt;</th></tr>\n",
       "</thead>\n",
       "<tbody>\n",
       "\t<tr><th scope=row>1</th><td>2583296920</td><td>Aug 1, 2019, 3:51:15 PM </td><td>Afternoon Ride</td><td>Ride</td><td>NA</td><td>50436</td><td> 8.14</td><td>NA</td><td>false</td><td>NA</td><td>⋯</td><td>NA</td><td>NA</td><td>NA</td><td>NA</td><td>NA</td><td>NA</td><td>NA</td><td>NA</td><td>NA</td><td>NA</td></tr>\n",
       "\t<tr><th scope=row>2</th><td>2583296929</td><td>Aug 2, 2019, 5:53:50 AM </td><td>Morning Ride  </td><td>Ride</td><td>NA</td><td> 1745</td><td> 7.96</td><td>NA</td><td>false</td><td>NA</td><td>⋯</td><td>NA</td><td>NA</td><td>NA</td><td>NA</td><td>NA</td><td>NA</td><td>NA</td><td>NA</td><td>NA</td><td>NA</td></tr>\n",
       "\t<tr><th scope=row>3</th><td>2584111125</td><td>Aug 2, 2019, 1:15:49 PM </td><td>Afternoon Ride</td><td>Ride</td><td>NA</td><td>  944</td><td> 6.97</td><td>NA</td><td>false</td><td>NA</td><td>⋯</td><td>NA</td><td>NA</td><td>NA</td><td>NA</td><td>NA</td><td>NA</td><td>NA</td><td>NA</td><td>NA</td><td>NA</td></tr>\n",
       "\t<tr><th scope=row>4</th><td>2613027582</td><td>Aug 12, 2019, 3:58:59 PM</td><td>Afternoon Ride</td><td>Ride</td><td>NA</td><td> 4170</td><td>10.52</td><td>NA</td><td>false</td><td>NA</td><td>⋯</td><td>NA</td><td>NA</td><td>NA</td><td>NA</td><td>NA</td><td>NA</td><td>NA</td><td>NA</td><td>NA</td><td>NA</td></tr>\n",
       "\t<tr><th scope=row>5</th><td>2631611632</td><td>Aug 19, 2019, 5:24:35 AM</td><td>Morning Ride  </td><td>Ride</td><td>NA</td><td> 1744</td><td> 7.62</td><td>NA</td><td>true </td><td>NA</td><td>⋯</td><td>NA</td><td>NA</td><td>NA</td><td>NA</td><td>NA</td><td>NA</td><td>NA</td><td>NA</td><td>NA</td><td>NA</td></tr>\n",
       "\t<tr><th scope=row>6</th><td>2632473031</td><td>Aug 19, 2019, 1:29:48 PM</td><td>Afternoon Ride</td><td>Ride</td><td>NA</td><td> 1046</td><td> 7.62</td><td>NA</td><td>true </td><td>NA</td><td>⋯</td><td>NA</td><td>NA</td><td>NA</td><td>NA</td><td>NA</td><td>NA</td><td>NA</td><td>NA</td><td>NA</td><td>NA</td></tr>\n",
       "</tbody>\n",
       "</table>\n"
      ],
      "text/latex": [
       "A data.frame: 6 × 77\n",
       "\\begin{tabular}{r|lllllllllllllllllllll}\n",
       "  & Activity.ID & Activity.Date & Activity.Name & Activity.Type & Activity.Description & Elapsed.Time & Distance & Relative.Effort & Commute & Activity.Gear & ⋯ & Gear & Precipitation.Probability & Precipitation.Type & Cloud.Cover & Weather.Visibility & UV.Index & Weather.Ozone & translation.missing..en.US.lib.export.portability\\_exporter.activities.horton\\_values.jump\\_count & translation.missing..en.US.lib.export.portability\\_exporter.activities.horton\\_values.total\\_grit & translation.missing..en.US.lib.export.portability\\_exporter.activities.horton\\_values.avg\\_flow\\\\\n",
       "  & <dbl> & <chr> & <chr> & <chr> & <lgl> & <int> & <dbl> & <lgl> & <chr> & <lgl> & ⋯ & <lgl> & <lgl> & <lgl> & <lgl> & <lgl> & <lgl> & <lgl> & <lgl> & <lgl> & <lgl>\\\\\n",
       "\\hline\n",
       "\t1 & 2583296920 & Aug 1, 2019, 3:51:15 PM  & Afternoon Ride & Ride & NA & 50436 &  8.14 & NA & false & NA & ⋯ & NA & NA & NA & NA & NA & NA & NA & NA & NA & NA\\\\\n",
       "\t2 & 2583296929 & Aug 2, 2019, 5:53:50 AM  & Morning Ride   & Ride & NA &  1745 &  7.96 & NA & false & NA & ⋯ & NA & NA & NA & NA & NA & NA & NA & NA & NA & NA\\\\\n",
       "\t3 & 2584111125 & Aug 2, 2019, 1:15:49 PM  & Afternoon Ride & Ride & NA &   944 &  6.97 & NA & false & NA & ⋯ & NA & NA & NA & NA & NA & NA & NA & NA & NA & NA\\\\\n",
       "\t4 & 2613027582 & Aug 12, 2019, 3:58:59 PM & Afternoon Ride & Ride & NA &  4170 & 10.52 & NA & false & NA & ⋯ & NA & NA & NA & NA & NA & NA & NA & NA & NA & NA\\\\\n",
       "\t5 & 2631611632 & Aug 19, 2019, 5:24:35 AM & Morning Ride   & Ride & NA &  1744 &  7.62 & NA & true  & NA & ⋯ & NA & NA & NA & NA & NA & NA & NA & NA & NA & NA\\\\\n",
       "\t6 & 2632473031 & Aug 19, 2019, 1:29:48 PM & Afternoon Ride & Ride & NA &  1046 &  7.62 & NA & true  & NA & ⋯ & NA & NA & NA & NA & NA & NA & NA & NA & NA & NA\\\\\n",
       "\\end{tabular}\n"
      ],
      "text/markdown": [
       "\n",
       "A data.frame: 6 × 77\n",
       "\n",
       "| <!--/--> | Activity.ID &lt;dbl&gt; | Activity.Date &lt;chr&gt; | Activity.Name &lt;chr&gt; | Activity.Type &lt;chr&gt; | Activity.Description &lt;lgl&gt; | Elapsed.Time &lt;int&gt; | Distance &lt;dbl&gt; | Relative.Effort &lt;lgl&gt; | Commute &lt;chr&gt; | Activity.Gear &lt;lgl&gt; | ⋯ ⋯ | Gear &lt;lgl&gt; | Precipitation.Probability &lt;lgl&gt; | Precipitation.Type &lt;lgl&gt; | Cloud.Cover &lt;lgl&gt; | Weather.Visibility &lt;lgl&gt; | UV.Index &lt;lgl&gt; | Weather.Ozone &lt;lgl&gt; | translation.missing..en.US.lib.export.portability_exporter.activities.horton_values.jump_count &lt;lgl&gt; | translation.missing..en.US.lib.export.portability_exporter.activities.horton_values.total_grit &lt;lgl&gt; | translation.missing..en.US.lib.export.portability_exporter.activities.horton_values.avg_flow &lt;lgl&gt; |\n",
       "|---|---|---|---|---|---|---|---|---|---|---|---|---|---|---|---|---|---|---|---|---|---|\n",
       "| 1 | 2583296920 | Aug 1, 2019, 3:51:15 PM  | Afternoon Ride | Ride | NA | 50436 |  8.14 | NA | false | NA | ⋯ | NA | NA | NA | NA | NA | NA | NA | NA | NA | NA |\n",
       "| 2 | 2583296929 | Aug 2, 2019, 5:53:50 AM  | Morning Ride   | Ride | NA |  1745 |  7.96 | NA | false | NA | ⋯ | NA | NA | NA | NA | NA | NA | NA | NA | NA | NA |\n",
       "| 3 | 2584111125 | Aug 2, 2019, 1:15:49 PM  | Afternoon Ride | Ride | NA |   944 |  6.97 | NA | false | NA | ⋯ | NA | NA | NA | NA | NA | NA | NA | NA | NA | NA |\n",
       "| 4 | 2613027582 | Aug 12, 2019, 3:58:59 PM | Afternoon Ride | Ride | NA |  4170 | 10.52 | NA | false | NA | ⋯ | NA | NA | NA | NA | NA | NA | NA | NA | NA | NA |\n",
       "| 5 | 2631611632 | Aug 19, 2019, 5:24:35 AM | Morning Ride   | Ride | NA |  1744 |  7.62 | NA | true  | NA | ⋯ | NA | NA | NA | NA | NA | NA | NA | NA | NA | NA |\n",
       "| 6 | 2632473031 | Aug 19, 2019, 1:29:48 PM | Afternoon Ride | Ride | NA |  1046 |  7.62 | NA | true  | NA | ⋯ | NA | NA | NA | NA | NA | NA | NA | NA | NA | NA |\n",
       "\n"
      ],
      "text/plain": [
       "  Activity.ID Activity.Date            Activity.Name  Activity.Type\n",
       "1 2583296920  Aug 1, 2019, 3:51:15 PM  Afternoon Ride Ride         \n",
       "2 2583296929  Aug 2, 2019, 5:53:50 AM  Morning Ride   Ride         \n",
       "3 2584111125  Aug 2, 2019, 1:15:49 PM  Afternoon Ride Ride         \n",
       "4 2613027582  Aug 12, 2019, 3:58:59 PM Afternoon Ride Ride         \n",
       "5 2631611632  Aug 19, 2019, 5:24:35 AM Morning Ride   Ride         \n",
       "6 2632473031  Aug 19, 2019, 1:29:48 PM Afternoon Ride Ride         \n",
       "  Activity.Description Elapsed.Time Distance Relative.Effort Commute\n",
       "1 NA                   50436         8.14    NA              false  \n",
       "2 NA                    1745         7.96    NA              false  \n",
       "3 NA                     944         6.97    NA              false  \n",
       "4 NA                    4170        10.52    NA              false  \n",
       "5 NA                    1744         7.62    NA              true   \n",
       "6 NA                    1046         7.62    NA              true   \n",
       "  Activity.Gear ⋯ Gear Precipitation.Probability Precipitation.Type Cloud.Cover\n",
       "1 NA            ⋯ NA   NA                        NA                 NA         \n",
       "2 NA            ⋯ NA   NA                        NA                 NA         \n",
       "3 NA            ⋯ NA   NA                        NA                 NA         \n",
       "4 NA            ⋯ NA   NA                        NA                 NA         \n",
       "5 NA            ⋯ NA   NA                        NA                 NA         \n",
       "6 NA            ⋯ NA   NA                        NA                 NA         \n",
       "  Weather.Visibility UV.Index Weather.Ozone\n",
       "1 NA                 NA       NA           \n",
       "2 NA                 NA       NA           \n",
       "3 NA                 NA       NA           \n",
       "4 NA                 NA       NA           \n",
       "5 NA                 NA       NA           \n",
       "6 NA                 NA       NA           \n",
       "  translation.missing..en.US.lib.export.portability_exporter.activities.horton_values.jump_count\n",
       "1 NA                                                                                            \n",
       "2 NA                                                                                            \n",
       "3 NA                                                                                            \n",
       "4 NA                                                                                            \n",
       "5 NA                                                                                            \n",
       "6 NA                                                                                            \n",
       "  translation.missing..en.US.lib.export.portability_exporter.activities.horton_values.total_grit\n",
       "1 NA                                                                                            \n",
       "2 NA                                                                                            \n",
       "3 NA                                                                                            \n",
       "4 NA                                                                                            \n",
       "5 NA                                                                                            \n",
       "6 NA                                                                                            \n",
       "  translation.missing..en.US.lib.export.portability_exporter.activities.horton_values.avg_flow\n",
       "1 NA                                                                                          \n",
       "2 NA                                                                                          \n",
       "3 NA                                                                                          \n",
       "4 NA                                                                                          \n",
       "5 NA                                                                                          \n",
       "6 NA                                                                                          "
      ]
     },
     "metadata": {},
     "output_type": "display_data"
    }
   ],
   "source": [
    "strava <- read.csv('data/activities_strava.csv')\n",
    "head(strava)"
   ]
  },
  {
   "cell_type": "code",
   "execution_count": 3,
   "id": "0669175d",
   "metadata": {},
   "outputs": [
    {
     "name": "stdout",
     "output_type": "stream",
     "text": [
      "'data.frame':\t95 obs. of  77 variables:\n",
      " $ Activity.ID                                                                                   : num  2.58e+09 2.58e+09 2.58e+09 2.61e+09 2.63e+09 ...\n",
      " $ Activity.Date                                                                                 : chr  \"Aug 1, 2019, 3:51:15 PM\" \"Aug 2, 2019, 5:53:50 AM\" \"Aug 2, 2019, 1:15:49 PM\" \"Aug 12, 2019, 3:58:59 PM\" ...\n",
      " $ Activity.Name                                                                                 : chr  \"Afternoon Ride\" \"Morning Ride\" \"Afternoon Ride\" \"Afternoon Ride\" ...\n",
      " $ Activity.Type                                                                                 : chr  \"Ride\" \"Ride\" \"Ride\" \"Ride\" ...\n",
      " $ Activity.Description                                                                          : logi  NA NA NA NA NA NA ...\n",
      " $ Elapsed.Time                                                                                  : int  50436 1745 944 4170 1744 1046 508 1825 1198 2365 ...\n",
      " $ Distance                                                                                      : num  8.14 7.96 6.97 10.52 7.62 ...\n",
      " $ Relative.Effort                                                                               : logi  NA NA NA NA NA NA ...\n",
      " $ Commute                                                                                       : chr  \"false\" \"false\" \"false\" \"false\" ...\n",
      " $ Activity.Gear                                                                                 : logi  NA NA NA NA NA NA ...\n",
      " $ Filename                                                                                      : chr  \"activities/2583296920.gpx\" \"activities/2583296929.gpx\" \"activities/2584111125.gpx\" \"activities/2613027582.gpx\" ...\n",
      " $ Athlete.Weight                                                                                : num  0 0 0 0 0 0 0 0 0 0 ...\n",
      " $ Bike.Weight                                                                                   : logi  NA NA NA NA NA NA ...\n",
      " $ Elapsed.Time.1                                                                                : num  50436 1745 944 4170 1744 ...\n",
      " $ Moving.Time                                                                                   : num  38641 1682 944 3003 1611 ...\n",
      " $ Distance.1                                                                                    : num  8144 7960 6970 10529 7629 ...\n",
      " $ Max.Speed                                                                                     : num  14.2 13.8 14.9 11.8 12 ...\n",
      " $ Average.Speed                                                                                 : num  NA NA NA NA NA NA NA NA NA NA ...\n",
      " $ Elevation.Gain                                                                                : num  29.8 128.8 17.2 62.3 128.8 ...\n",
      " $ Elevation.Loss                                                                                : num  NA NA NA NA NA NA NA NA NA NA ...\n",
      " $ Elevation.Low                                                                                 : num  606 584 584 766 584 ...\n",
      " $ Elevation.High                                                                                : num  704 704 704 795 704 ...\n",
      " $ Max.Grade                                                                                     : num  21.7 13 10.5 7.2 12.9 ...\n",
      " $ Average.Grade                                                                                 : num  -1.0339 1.1846 -1.5984 -0.0294 1.3318 ...\n",
      " $ Average.Positive.Grade                                                                        : logi  NA NA NA NA NA NA ...\n",
      " $ Average.Negative.Grade                                                                        : logi  NA NA NA NA NA NA ...\n",
      " $ Max.Cadence                                                                                   : logi  NA NA NA NA NA NA ...\n",
      " $ Average.Cadence                                                                               : num  NA NA NA NA NA NA NA NA NA NA ...\n",
      " $ Max.Heart.Rate                                                                                : logi  NA NA NA NA NA NA ...\n",
      " $ Average.Heart.Rate                                                                            : logi  NA NA NA NA NA NA ...\n",
      " $ Max.Watts                                                                                     : logi  NA NA NA NA NA NA ...\n",
      " $ Average.Watts                                                                                 : logi  NA NA NA NA NA NA ...\n",
      " $ Calories                                                                                      : num  NA NA NA NA NA NA NA NA NA NA ...\n",
      " $ Max.Temperature                                                                               : logi  NA NA NA NA NA NA ...\n",
      " $ Average.Temperature                                                                           : num  NA NA NA NA NA NA NA NA NA NA ...\n",
      " $ Relative.Effort.1                                                                             : logi  NA NA NA NA NA NA ...\n",
      " $ Total.Work                                                                                    : logi  NA NA NA NA NA NA ...\n",
      " $ Number.of.Runs                                                                                : logi  NA NA NA NA NA NA ...\n",
      " $ Uphill.Time                                                                                   : logi  NA NA NA NA NA NA ...\n",
      " $ Downhill.Time                                                                                 : logi  NA NA NA NA NA NA ...\n",
      " $ Other.Time                                                                                    : logi  NA NA NA NA NA NA ...\n",
      " $ Perceived.Exertion                                                                            : num  NA NA NA NA NA NA NA NA NA NA ...\n",
      " $ translation.missing..en.US.lib.export.portability_exporter.activities.horton_values.type      : logi  NA NA NA NA NA NA ...\n",
      " $ translation.missing..en.US.lib.export.portability_exporter.activities.horton_values.start_time: logi  NA NA NA NA NA NA ...\n",
      " $ Weighted.Average.Power                                                                        : logi  NA NA NA NA NA NA ...\n",
      " $ Power.Count                                                                                   : logi  NA NA NA NA NA NA ...\n",
      " $ Prefer.Perceived.Exertion                                                                     : num  NA NA NA NA NA NA NA NA NA NA ...\n",
      " $ Perceived.Relative.Effort                                                                     : num  NA NA NA NA NA NA NA NA NA NA ...\n",
      " $ Commute.1                                                                                     : num  NA NA NA NA NA NA NA NA NA NA ...\n",
      " $ Total.Weight.Lifted                                                                           : logi  NA NA NA NA NA NA ...\n",
      " $ From.Upload                                                                                   : num  NA NA NA NA NA NA NA NA NA NA ...\n",
      " $ Grade.Adjusted.Distance                                                                       : logi  NA NA NA NA NA NA ...\n",
      " $ Weather.Observation.Time                                                                      : logi  NA NA NA NA NA NA ...\n",
      " $ Weather.Condition                                                                             : logi  NA NA NA NA NA NA ...\n",
      " $ Weather.Temperature                                                                           : logi  NA NA NA NA NA NA ...\n",
      " $ Apparent.Temperature                                                                          : logi  NA NA NA NA NA NA ...\n",
      " $ Dewpoint                                                                                      : logi  NA NA NA NA NA NA ...\n",
      " $ Humidity                                                                                      : logi  NA NA NA NA NA NA ...\n",
      " $ Weather.Pressure                                                                              : logi  NA NA NA NA NA NA ...\n",
      " $ Wind.Speed                                                                                    : logi  NA NA NA NA NA NA ...\n",
      " $ Wind.Gust                                                                                     : logi  NA NA NA NA NA NA ...\n",
      " $ Wind.Bearing                                                                                  : logi  NA NA NA NA NA NA ...\n",
      " $ Precipitation.Intensity                                                                       : logi  NA NA NA NA NA NA ...\n",
      " $ Sunrise.Time                                                                                  : logi  NA NA NA NA NA NA ...\n",
      " $ Sunset.Time                                                                                   : logi  NA NA NA NA NA NA ...\n",
      " $ Moon.Phase                                                                                    : logi  NA NA NA NA NA NA ...\n",
      " $ Bike                                                                                          : logi  NA NA NA NA NA NA ...\n",
      " $ Gear                                                                                          : logi  NA NA NA NA NA NA ...\n",
      " $ Precipitation.Probability                                                                     : logi  NA NA NA NA NA NA ...\n",
      " $ Precipitation.Type                                                                            : logi  NA NA NA NA NA NA ...\n",
      " $ Cloud.Cover                                                                                   : logi  NA NA NA NA NA NA ...\n",
      " $ Weather.Visibility                                                                            : logi  NA NA NA NA NA NA ...\n",
      " $ UV.Index                                                                                      : logi  NA NA NA NA NA NA ...\n",
      " $ Weather.Ozone                                                                                 : logi  NA NA NA NA NA NA ...\n",
      " $ translation.missing..en.US.lib.export.portability_exporter.activities.horton_values.jump_count: logi  NA NA NA NA NA NA ...\n",
      " $ translation.missing..en.US.lib.export.portability_exporter.activities.horton_values.total_grit: logi  NA NA NA NA NA NA ...\n",
      " $ translation.missing..en.US.lib.export.portability_exporter.activities.horton_values.avg_flow  : logi  NA NA NA NA NA NA ...\n"
     ]
    }
   ],
   "source": [
    "# Numero de filas y columnas y tipo de columnas\n",
    "str(strava)"
   ]
  },
  {
   "cell_type": "code",
   "execution_count": 4,
   "id": "528d64b4",
   "metadata": {},
   "outputs": [
    {
     "data": {
      "text/html": [
       "<style>\n",
       ".list-inline {list-style: none; margin:0; padding: 0}\n",
       ".list-inline>li {display: inline-block}\n",
       ".list-inline>li:not(:last-child)::after {content: \"\\00b7\"; padding: 0 .5ex}\n",
       "</style>\n",
       "<ol class=list-inline><li>95</li><li>77</li></ol>\n"
      ],
      "text/latex": [
       "\\begin{enumerate*}\n",
       "\\item 95\n",
       "\\item 77\n",
       "\\end{enumerate*}\n"
      ],
      "text/markdown": [
       "1. 95\n",
       "2. 77\n",
       "\n",
       "\n"
      ],
      "text/plain": [
       "[1] 95 77"
      ]
     },
     "metadata": {},
     "output_type": "display_data"
    }
   ],
   "source": [
    "# Numero de filas y columnas\n",
    "dim(strava)"
   ]
  },
  {
   "cell_type": "code",
   "execution_count": 6,
   "id": "229beadd",
   "metadata": {},
   "outputs": [
    {
     "data": {
      "text/html": [
       "<table class=\"dataframe\">\n",
       "<caption>A data.frame: 6 × 4</caption>\n",
       "<thead>\n",
       "\t<tr><th></th><th scope=col>Activity.Date</th><th scope=col>Activity.Type</th><th scope=col>Moving.Time</th><th scope=col>Elapsed.Time</th></tr>\n",
       "\t<tr><th></th><th scope=col>&lt;chr&gt;</th><th scope=col>&lt;chr&gt;</th><th scope=col>&lt;dbl&gt;</th><th scope=col>&lt;int&gt;</th></tr>\n",
       "</thead>\n",
       "<tbody>\n",
       "\t<tr><th scope=row>1</th><td>Aug 1, 2019, 3:51:15 PM </td><td>Ride</td><td>38641</td><td>50436</td></tr>\n",
       "\t<tr><th scope=row>2</th><td>Aug 2, 2019, 5:53:50 AM </td><td>Ride</td><td> 1682</td><td> 1745</td></tr>\n",
       "\t<tr><th scope=row>3</th><td>Aug 2, 2019, 1:15:49 PM </td><td>Ride</td><td>  944</td><td>  944</td></tr>\n",
       "\t<tr><th scope=row>4</th><td>Aug 12, 2019, 3:58:59 PM</td><td>Ride</td><td> 3003</td><td> 4170</td></tr>\n",
       "\t<tr><th scope=row>5</th><td>Aug 19, 2019, 5:24:35 AM</td><td>Ride</td><td> 1611</td><td> 1744</td></tr>\n",
       "\t<tr><th scope=row>6</th><td>Aug 19, 2019, 1:29:48 PM</td><td>Ride</td><td> 1038</td><td> 1046</td></tr>\n",
       "</tbody>\n",
       "</table>\n"
      ],
      "text/latex": [
       "A data.frame: 6 × 4\n",
       "\\begin{tabular}{r|llll}\n",
       "  & Activity.Date & Activity.Type & Moving.Time & Elapsed.Time\\\\\n",
       "  & <chr> & <chr> & <dbl> & <int>\\\\\n",
       "\\hline\n",
       "\t1 & Aug 1, 2019, 3:51:15 PM  & Ride & 38641 & 50436\\\\\n",
       "\t2 & Aug 2, 2019, 5:53:50 AM  & Ride &  1682 &  1745\\\\\n",
       "\t3 & Aug 2, 2019, 1:15:49 PM  & Ride &   944 &   944\\\\\n",
       "\t4 & Aug 12, 2019, 3:58:59 PM & Ride &  3003 &  4170\\\\\n",
       "\t5 & Aug 19, 2019, 5:24:35 AM & Ride &  1611 &  1744\\\\\n",
       "\t6 & Aug 19, 2019, 1:29:48 PM & Ride &  1038 &  1046\\\\\n",
       "\\end{tabular}\n"
      ],
      "text/markdown": [
       "\n",
       "A data.frame: 6 × 4\n",
       "\n",
       "| <!--/--> | Activity.Date &lt;chr&gt; | Activity.Type &lt;chr&gt; | Moving.Time &lt;dbl&gt; | Elapsed.Time &lt;int&gt; |\n",
       "|---|---|---|---|---|\n",
       "| 1 | Aug 1, 2019, 3:51:15 PM  | Ride | 38641 | 50436 |\n",
       "| 2 | Aug 2, 2019, 5:53:50 AM  | Ride |  1682 |  1745 |\n",
       "| 3 | Aug 2, 2019, 1:15:49 PM  | Ride |   944 |   944 |\n",
       "| 4 | Aug 12, 2019, 3:58:59 PM | Ride |  3003 |  4170 |\n",
       "| 5 | Aug 19, 2019, 5:24:35 AM | Ride |  1611 |  1744 |\n",
       "| 6 | Aug 19, 2019, 1:29:48 PM | Ride |  1038 |  1046 |\n",
       "\n"
      ],
      "text/plain": [
       "  Activity.Date            Activity.Type Moving.Time Elapsed.Time\n",
       "1 Aug 1, 2019, 3:51:15 PM  Ride          38641       50436       \n",
       "2 Aug 2, 2019, 5:53:50 AM  Ride           1682        1745       \n",
       "3 Aug 2, 2019, 1:15:49 PM  Ride            944         944       \n",
       "4 Aug 12, 2019, 3:58:59 PM Ride           3003        4170       \n",
       "5 Aug 19, 2019, 5:24:35 AM Ride           1611        1744       \n",
       "6 Aug 19, 2019, 1:29:48 PM Ride           1038        1046       "
      ]
     },
     "metadata": {},
     "output_type": "display_data"
    }
   ],
   "source": [
    "# Quedarse con las columnas: Activity.Date,  Activity.Type, Moving.Time y Elapsed.Time\n",
    "strava <- strava[,c('Activity.Date', 'Activity.Type', 'Moving.Time','Elapsed.Time')]\n",
    "head(strava)"
   ]
  },
  {
   "cell_type": "code",
   "execution_count": 11,
   "id": "93b7c1a0",
   "metadata": {},
   "outputs": [],
   "source": [
    "# Quedarse con las muestras que tengan: Moving.Time > 1000\n",
    "strava <- strava[strava$Moving.Time > 1000,]"
   ]
  },
  {
   "cell_type": "code",
   "execution_count": 12,
   "id": "dfbf8cdd",
   "metadata": {},
   "outputs": [
    {
     "data": {
      "text/html": [
       "<table class=\"dataframe\">\n",
       "<caption>A data.frame: 5 × 2</caption>\n",
       "<thead>\n",
       "\t<tr><th></th><th scope=col>Activity.Type</th><th scope=col>Moving.Time</th></tr>\n",
       "\t<tr><th></th><th scope=col>&lt;chr&gt;</th><th scope=col>&lt;dbl&gt;</th></tr>\n",
       "</thead>\n",
       "<tbody>\n",
       "\t<tr><th scope=row>5</th><td>Ride</td><td>1611</td></tr>\n",
       "\t<tr><th scope=row>6</th><td>Ride</td><td>1038</td></tr>\n",
       "\t<tr><th scope=row>8</th><td>Ride</td><td>1697</td></tr>\n",
       "\t<tr><th scope=row>9</th><td>Ride</td><td>1147</td></tr>\n",
       "\t<tr><th scope=row>10</th><td>Ride</td><td>1862</td></tr>\n",
       "</tbody>\n",
       "</table>\n"
      ],
      "text/latex": [
       "A data.frame: 5 × 2\n",
       "\\begin{tabular}{r|ll}\n",
       "  & Activity.Type & Moving.Time\\\\\n",
       "  & <chr> & <dbl>\\\\\n",
       "\\hline\n",
       "\t5 & Ride & 1611\\\\\n",
       "\t6 & Ride & 1038\\\\\n",
       "\t8 & Ride & 1697\\\\\n",
       "\t9 & Ride & 1147\\\\\n",
       "\t10 & Ride & 1862\\\\\n",
       "\\end{tabular}\n"
      ],
      "text/markdown": [
       "\n",
       "A data.frame: 5 × 2\n",
       "\n",
       "| <!--/--> | Activity.Type &lt;chr&gt; | Moving.Time &lt;dbl&gt; |\n",
       "|---|---|---|\n",
       "| 5 | Ride | 1611 |\n",
       "| 6 | Ride | 1038 |\n",
       "| 8 | Ride | 1697 |\n",
       "| 9 | Ride | 1147 |\n",
       "| 10 | Ride | 1862 |\n",
       "\n"
      ],
      "text/plain": [
       "   Activity.Type Moving.Time\n",
       "5  Ride          1611       \n",
       "6  Ride          1038       \n",
       "8  Ride          1697       \n",
       "9  Ride          1147       \n",
       "10 Ride          1862       "
      ]
     },
     "metadata": {},
     "output_type": "display_data"
    }
   ],
   "source": [
    "# Mostrar las filas del 4 al 8 de las columnas Activity.Type y Moving.Time\n",
    "strava[4:8,c('Activity.Type','Moving.Time')]"
   ]
  },
  {
   "cell_type": "code",
   "execution_count": 14,
   "id": "1793edf3",
   "metadata": {},
   "outputs": [
    {
     "data": {
      "text/html": [
       "<table class=\"dataframe\">\n",
       "<caption>A data.frame: 6 × 5</caption>\n",
       "<thead>\n",
       "\t<tr><th></th><th scope=col>Activity.Date</th><th scope=col>Activity.Type</th><th scope=col>Moving.Time</th><th scope=col>Elapsed.Time</th><th scope=col>Moving.Minutes</th></tr>\n",
       "\t<tr><th></th><th scope=col>&lt;chr&gt;</th><th scope=col>&lt;chr&gt;</th><th scope=col>&lt;dbl&gt;</th><th scope=col>&lt;int&gt;</th><th scope=col>&lt;dbl&gt;</th></tr>\n",
       "</thead>\n",
       "<tbody>\n",
       "\t<tr><th scope=row>1</th><td>Aug 1, 2019, 3:51:15 PM </td><td>Ride</td><td>38641</td><td>50436</td><td>644.01667</td></tr>\n",
       "\t<tr><th scope=row>2</th><td>Aug 2, 2019, 5:53:50 AM </td><td>Ride</td><td> 1682</td><td> 1745</td><td> 28.03333</td></tr>\n",
       "\t<tr><th scope=row>4</th><td>Aug 12, 2019, 3:58:59 PM</td><td>Ride</td><td> 3003</td><td> 4170</td><td> 50.05000</td></tr>\n",
       "\t<tr><th scope=row>5</th><td>Aug 19, 2019, 5:24:35 AM</td><td>Ride</td><td> 1611</td><td> 1744</td><td> 26.85000</td></tr>\n",
       "\t<tr><th scope=row>6</th><td>Aug 19, 2019, 1:29:48 PM</td><td>Ride</td><td> 1038</td><td> 1046</td><td> 17.30000</td></tr>\n",
       "\t<tr><th scope=row>8</th><td>Aug 23, 2019, 5:37:38 AM</td><td>Ride</td><td> 1697</td><td> 1825</td><td> 28.28333</td></tr>\n",
       "</tbody>\n",
       "</table>\n"
      ],
      "text/latex": [
       "A data.frame: 6 × 5\n",
       "\\begin{tabular}{r|lllll}\n",
       "  & Activity.Date & Activity.Type & Moving.Time & Elapsed.Time & Moving.Minutes\\\\\n",
       "  & <chr> & <chr> & <dbl> & <int> & <dbl>\\\\\n",
       "\\hline\n",
       "\t1 & Aug 1, 2019, 3:51:15 PM  & Ride & 38641 & 50436 & 644.01667\\\\\n",
       "\t2 & Aug 2, 2019, 5:53:50 AM  & Ride &  1682 &  1745 &  28.03333\\\\\n",
       "\t4 & Aug 12, 2019, 3:58:59 PM & Ride &  3003 &  4170 &  50.05000\\\\\n",
       "\t5 & Aug 19, 2019, 5:24:35 AM & Ride &  1611 &  1744 &  26.85000\\\\\n",
       "\t6 & Aug 19, 2019, 1:29:48 PM & Ride &  1038 &  1046 &  17.30000\\\\\n",
       "\t8 & Aug 23, 2019, 5:37:38 AM & Ride &  1697 &  1825 &  28.28333\\\\\n",
       "\\end{tabular}\n"
      ],
      "text/markdown": [
       "\n",
       "A data.frame: 6 × 5\n",
       "\n",
       "| <!--/--> | Activity.Date &lt;chr&gt; | Activity.Type &lt;chr&gt; | Moving.Time &lt;dbl&gt; | Elapsed.Time &lt;int&gt; | Moving.Minutes &lt;dbl&gt; |\n",
       "|---|---|---|---|---|---|\n",
       "| 1 | Aug 1, 2019, 3:51:15 PM  | Ride | 38641 | 50436 | 644.01667 |\n",
       "| 2 | Aug 2, 2019, 5:53:50 AM  | Ride |  1682 |  1745 |  28.03333 |\n",
       "| 4 | Aug 12, 2019, 3:58:59 PM | Ride |  3003 |  4170 |  50.05000 |\n",
       "| 5 | Aug 19, 2019, 5:24:35 AM | Ride |  1611 |  1744 |  26.85000 |\n",
       "| 6 | Aug 19, 2019, 1:29:48 PM | Ride |  1038 |  1046 |  17.30000 |\n",
       "| 8 | Aug 23, 2019, 5:37:38 AM | Ride |  1697 |  1825 |  28.28333 |\n",
       "\n"
      ],
      "text/plain": [
       "  Activity.Date            Activity.Type Moving.Time Elapsed.Time\n",
       "1 Aug 1, 2019, 3:51:15 PM  Ride          38641       50436       \n",
       "2 Aug 2, 2019, 5:53:50 AM  Ride           1682        1745       \n",
       "4 Aug 12, 2019, 3:58:59 PM Ride           3003        4170       \n",
       "5 Aug 19, 2019, 5:24:35 AM Ride           1611        1744       \n",
       "6 Aug 19, 2019, 1:29:48 PM Ride           1038        1046       \n",
       "8 Aug 23, 2019, 5:37:38 AM Ride           1697        1825       \n",
       "  Moving.Minutes\n",
       "1 644.01667     \n",
       "2  28.03333     \n",
       "4  50.05000     \n",
       "5  26.85000     \n",
       "6  17.30000     \n",
       "8  28.28333     "
      ]
     },
     "metadata": {},
     "output_type": "display_data"
    }
   ],
   "source": [
    "# Crear una nueva columna llamada Moving.Minutes que sea igual a Moving.Time/60\n",
    "strava$Moving.Minutes <- strava$Moving.Time/60\n",
    "head(strava)"
   ]
  },
  {
   "cell_type": "code",
   "execution_count": 17,
   "id": "ed016ee1",
   "metadata": {},
   "outputs": [
    {
     "data": {
      "text/html": [
       "<style>\n",
       ".list-inline {list-style: none; margin:0; padding: 0}\n",
       ".list-inline>li {display: inline-block}\n",
       ".list-inline>li:not(:last-child)::after {content: \"\\00b7\"; padding: 0 .5ex}\n",
       "</style>\n",
       "<ol class=list-inline><li>'Ride'</li><li>'Run'</li><li>'Walk'</li><li>'Hike'</li></ol>\n"
      ],
      "text/latex": [
       "\\begin{enumerate*}\n",
       "\\item 'Ride'\n",
       "\\item 'Run'\n",
       "\\item 'Walk'\n",
       "\\item 'Hike'\n",
       "\\end{enumerate*}\n"
      ],
      "text/markdown": [
       "1. 'Ride'\n",
       "2. 'Run'\n",
       "3. 'Walk'\n",
       "4. 'Hike'\n",
       "\n",
       "\n"
      ],
      "text/plain": [
       "[1] \"Ride\" \"Run\"  \"Walk\" \"Hike\""
      ]
     },
     "metadata": {},
     "output_type": "display_data"
    },
    {
     "data": {
      "text/plain": [
       "\n",
       "Hike Ride  Run Walk \n",
       "   1   86    1    1 "
      ]
     },
     "metadata": {},
     "output_type": "display_data"
    }
   ],
   "source": [
    "# ¿Cuantos tipos de Activity.Type hay? \n",
    "unique(strava$Activity.Type)\n",
    "# ¿Cuantos hay en cada categoría?\n",
    "table(strava$Activity.Type)"
   ]
  },
  {
   "cell_type": "code",
   "execution_count": 18,
   "id": "42f20bab",
   "metadata": {},
   "outputs": [
    {
     "data": {
      "text/plain": [
       " Activity.Date      Activity.Type       Moving.Time     Elapsed.Time  \n",
       " Length:89          Length:89          Min.   : 1038   Min.   : 1046  \n",
       " Class :character   Class :character   1st Qu.: 1218   1st Qu.: 1254  \n",
       " Mode  :character   Mode  :character   Median : 1712   Median : 1825  \n",
       "                                       Mean   : 2268   Mean   : 2744  \n",
       "                                       3rd Qu.: 1986   3rd Qu.: 2126  \n",
       "                                       Max.   :38641   Max.   :50436  \n",
       " Moving.Minutes  \n",
       " Min.   : 17.30  \n",
       " 1st Qu.: 20.30  \n",
       " Median : 28.53  \n",
       " Mean   : 37.80  \n",
       " 3rd Qu.: 33.10  \n",
       " Max.   :644.02  "
      ]
     },
     "metadata": {},
     "output_type": "display_data"
    }
   ],
   "source": [
    "summary(strava)"
   ]
  },
  {
   "cell_type": "code",
   "execution_count": 19,
   "id": "cbfa3e5d",
   "metadata": {},
   "outputs": [
    {
     "data": {
      "text/html": [
       "<style>\n",
       ".list-inline {list-style: none; margin:0; padding: 0}\n",
       ".list-inline>li {display: inline-block}\n",
       ".list-inline>li:not(:last-child)::after {content: \"\\00b7\"; padding: 0 .5ex}\n",
       "</style>\n",
       "<ol class=list-inline><li>'Hike'</li><li>'Ride'</li><li>'Run'</li><li>'Walk'</li></ol>\n"
      ],
      "text/latex": [
       "\\begin{enumerate*}\n",
       "\\item 'Hike'\n",
       "\\item 'Ride'\n",
       "\\item 'Run'\n",
       "\\item 'Walk'\n",
       "\\end{enumerate*}\n"
      ],
      "text/markdown": [
       "1. 'Hike'\n",
       "2. 'Ride'\n",
       "3. 'Run'\n",
       "4. 'Walk'\n",
       "\n",
       "\n"
      ],
      "text/plain": [
       "[1] \"Hike\" \"Ride\" \"Run\"  \"Walk\""
      ]
     },
     "metadata": {},
     "output_type": "display_data"
    },
    {
     "data": {
      "text/html": [
       "<style>\n",
       ".dl-inline {width: auto; margin:0; padding: 0}\n",
       ".dl-inline>dt, .dl-inline>dd {float: none; width: auto; display: inline-block}\n",
       ".dl-inline>dt::after {content: \":\\0020\"; padding-right: .5ex}\n",
       ".dl-inline>dt:not(:first-of-type) {padding-left: .5ex}\n",
       "</style><dl class=dl-inline><dt>Hike</dt><dd>1</dd><dt>Ride</dt><dd>86</dd><dt>Run</dt><dd>1</dd><dt>Walk</dt><dd>1</dd></dl>\n"
      ],
      "text/latex": [
       "\\begin{description*}\n",
       "\\item[Hike] 1\n",
       "\\item[Ride] 86\n",
       "\\item[Run] 1\n",
       "\\item[Walk] 1\n",
       "\\end{description*}\n"
      ],
      "text/markdown": [
       "Hike\n",
       ":   1Ride\n",
       ":   86Run\n",
       ":   1Walk\n",
       ":   1\n",
       "\n"
      ],
      "text/plain": [
       "Hike Ride  Run Walk \n",
       "   1   86    1    1 "
      ]
     },
     "metadata": {},
     "output_type": "display_data"
    }
   ],
   "source": [
    "# ¿Cuantos tipos de Activity.Type hay? \n",
    "strava$Activity.Type <- factor(strava$Activity.Type)\n",
    "levels(strava$Activity.Type)\n",
    "# ¿Cuantos hay en cada categoría?\n",
    "summary(strava$Activity.Type)"
   ]
  },
  {
   "cell_type": "code",
   "execution_count": 20,
   "id": "60ea7cd8",
   "metadata": {},
   "outputs": [
    {
     "data": {
      "text/plain": [
       " Activity.Date      Activity.Type  Moving.Time     Elapsed.Time  \n",
       " Length:89          Hike: 1       Min.   : 1038   Min.   : 1046  \n",
       " Class :character   Ride:86       1st Qu.: 1218   1st Qu.: 1254  \n",
       " Mode  :character   Run : 1       Median : 1712   Median : 1825  \n",
       "                    Walk: 1       Mean   : 2268   Mean   : 2744  \n",
       "                                  3rd Qu.: 1986   3rd Qu.: 2126  \n",
       "                                  Max.   :38641   Max.   :50436  \n",
       " Moving.Minutes  \n",
       " Min.   : 17.30  \n",
       " 1st Qu.: 20.30  \n",
       " Median : 28.53  \n",
       " Mean   : 37.80  \n",
       " 3rd Qu.: 33.10  \n",
       " Max.   :644.02  "
      ]
     },
     "metadata": {},
     "output_type": "display_data"
    }
   ],
   "source": [
    "# ¿Como obtendrías un resumen de todos los datos del dataframe?+\n",
    "summary(strava)"
   ]
  }
 ],
 "metadata": {
  "kernelspec": {
   "display_name": "R",
   "language": "R",
   "name": "ir"
  },
  "language_info": {
   "codemirror_mode": "r",
   "file_extension": ".r",
   "mimetype": "text/x-r-source",
   "name": "R",
   "pygments_lexer": "r",
   "version": "4.1.1"
  }
 },
 "nbformat": 4,
 "nbformat_minor": 5
}
