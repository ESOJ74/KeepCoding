{
 "cells": [
  {
   "cell_type": "markdown",
   "metadata": {},
   "source": [
    "## Datos de strava\n",
    "\n",
    "- Filtrar y quedarse solo con Activity.Type=\"Ride\"\n",
    "- Convertir Activity.Date en un objeto posixct.\n",
    "- Crear una nueva columna que sea día de la semana\n",
    "- Crear una nueva columna que sea ida o vuelta al trabajo:\n",
    "    - Tiene que ser un día de lunes a viernes\n",
    "    - Ida: Entre las 7 y las 9\n",
    "    - Vuelta: Entre las 14 y las 19\n",
    "\n",
    "Para la columna Moving.Time: Calcular tiempo medio de ida, tiempo medio de vuelta, varianza y Boxplot de ambos. \n",
    "\n",
    "Ayuda: \n",
    "* Para elegir el día de la semana usa la función weekdays del paquete lubridate()\n",
    "* Para parsear la fecha, usa el siguiente formato: \"%b %d, %Y, %I:%M:%S %p\""
   ]
  },
  {
   "cell_type": "code",
   "execution_count": null,
   "metadata": {},
   "outputs": [],
   "source": [
    "Sys.setlocale(\"LC_ALL\",\"en_EN\")"
   ]
  },
  {
   "cell_type": "code",
   "execution_count": 2,
   "metadata": {},
   "outputs": [],
   "source": [
    "strava = read.csv(\"data/activities_strava.csv\")"
   ]
  },
  {
   "cell_type": "code",
   "execution_count": 3,
   "metadata": {},
   "outputs": [
    {
     "data": {
      "text/html": [
       "<table class=\"dataframe\">\n",
       "<caption>A data.frame: 6 × 77</caption>\n",
       "<thead>\n",
       "\t<tr><th></th><th scope=col>Activity.ID</th><th scope=col>Activity.Date</th><th scope=col>Activity.Name</th><th scope=col>Activity.Type</th><th scope=col>Activity.Description</th><th scope=col>Elapsed.Time</th><th scope=col>Distance</th><th scope=col>Relative.Effort</th><th scope=col>Commute</th><th scope=col>Activity.Gear</th><th scope=col>⋯</th><th scope=col>Gear</th><th scope=col>Precipitation.Probability</th><th scope=col>Precipitation.Type</th><th scope=col>Cloud.Cover</th><th scope=col>Weather.Visibility</th><th scope=col>UV.Index</th><th scope=col>Weather.Ozone</th><th scope=col>translation.missing..en.US.lib.export.portability_exporter.activities.horton_values.jump_count</th><th scope=col>translation.missing..en.US.lib.export.portability_exporter.activities.horton_values.total_grit</th><th scope=col>translation.missing..en.US.lib.export.portability_exporter.activities.horton_values.avg_flow</th></tr>\n",
       "\t<tr><th></th><th scope=col>&lt;dbl&gt;</th><th scope=col>&lt;chr&gt;</th><th scope=col>&lt;chr&gt;</th><th scope=col>&lt;chr&gt;</th><th scope=col>&lt;lgl&gt;</th><th scope=col>&lt;int&gt;</th><th scope=col>&lt;dbl&gt;</th><th scope=col>&lt;lgl&gt;</th><th scope=col>&lt;chr&gt;</th><th scope=col>&lt;lgl&gt;</th><th scope=col>⋯</th><th scope=col>&lt;lgl&gt;</th><th scope=col>&lt;lgl&gt;</th><th scope=col>&lt;lgl&gt;</th><th scope=col>&lt;lgl&gt;</th><th scope=col>&lt;lgl&gt;</th><th scope=col>&lt;lgl&gt;</th><th scope=col>&lt;lgl&gt;</th><th scope=col>&lt;lgl&gt;</th><th scope=col>&lt;lgl&gt;</th><th scope=col>&lt;lgl&gt;</th></tr>\n",
       "</thead>\n",
       "<tbody>\n",
       "\t<tr><th scope=row>1</th><td>2583296920</td><td>Aug 1, 2019, 3:51:15 PM </td><td>Afternoon Ride</td><td>Ride</td><td>NA</td><td>50436</td><td> 8.14</td><td>NA</td><td>false</td><td>NA</td><td>⋯</td><td>NA</td><td>NA</td><td>NA</td><td>NA</td><td>NA</td><td>NA</td><td>NA</td><td>NA</td><td>NA</td><td>NA</td></tr>\n",
       "\t<tr><th scope=row>2</th><td>2583296929</td><td>Aug 2, 2019, 5:53:50 AM </td><td>Morning Ride  </td><td>Ride</td><td>NA</td><td> 1745</td><td> 7.96</td><td>NA</td><td>false</td><td>NA</td><td>⋯</td><td>NA</td><td>NA</td><td>NA</td><td>NA</td><td>NA</td><td>NA</td><td>NA</td><td>NA</td><td>NA</td><td>NA</td></tr>\n",
       "\t<tr><th scope=row>3</th><td>2584111125</td><td>Aug 2, 2019, 1:15:49 PM </td><td>Afternoon Ride</td><td>Ride</td><td>NA</td><td>  944</td><td> 6.97</td><td>NA</td><td>false</td><td>NA</td><td>⋯</td><td>NA</td><td>NA</td><td>NA</td><td>NA</td><td>NA</td><td>NA</td><td>NA</td><td>NA</td><td>NA</td><td>NA</td></tr>\n",
       "\t<tr><th scope=row>4</th><td>2613027582</td><td>Aug 12, 2019, 3:58:59 PM</td><td>Afternoon Ride</td><td>Ride</td><td>NA</td><td> 4170</td><td>10.52</td><td>NA</td><td>false</td><td>NA</td><td>⋯</td><td>NA</td><td>NA</td><td>NA</td><td>NA</td><td>NA</td><td>NA</td><td>NA</td><td>NA</td><td>NA</td><td>NA</td></tr>\n",
       "\t<tr><th scope=row>5</th><td>2631611632</td><td>Aug 19, 2019, 5:24:35 AM</td><td>Morning Ride  </td><td>Ride</td><td>NA</td><td> 1744</td><td> 7.62</td><td>NA</td><td>true </td><td>NA</td><td>⋯</td><td>NA</td><td>NA</td><td>NA</td><td>NA</td><td>NA</td><td>NA</td><td>NA</td><td>NA</td><td>NA</td><td>NA</td></tr>\n",
       "\t<tr><th scope=row>6</th><td>2632473031</td><td>Aug 19, 2019, 1:29:48 PM</td><td>Afternoon Ride</td><td>Ride</td><td>NA</td><td> 1046</td><td> 7.62</td><td>NA</td><td>true </td><td>NA</td><td>⋯</td><td>NA</td><td>NA</td><td>NA</td><td>NA</td><td>NA</td><td>NA</td><td>NA</td><td>NA</td><td>NA</td><td>NA</td></tr>\n",
       "</tbody>\n",
       "</table>\n"
      ],
      "text/latex": [
       "A data.frame: 6 × 77\n",
       "\\begin{tabular}{r|lllllllllllllllllllll}\n",
       "  & Activity.ID & Activity.Date & Activity.Name & Activity.Type & Activity.Description & Elapsed.Time & Distance & Relative.Effort & Commute & Activity.Gear & ⋯ & Gear & Precipitation.Probability & Precipitation.Type & Cloud.Cover & Weather.Visibility & UV.Index & Weather.Ozone & translation.missing..en.US.lib.export.portability\\_exporter.activities.horton\\_values.jump\\_count & translation.missing..en.US.lib.export.portability\\_exporter.activities.horton\\_values.total\\_grit & translation.missing..en.US.lib.export.portability\\_exporter.activities.horton\\_values.avg\\_flow\\\\\n",
       "  & <dbl> & <chr> & <chr> & <chr> & <lgl> & <int> & <dbl> & <lgl> & <chr> & <lgl> & ⋯ & <lgl> & <lgl> & <lgl> & <lgl> & <lgl> & <lgl> & <lgl> & <lgl> & <lgl> & <lgl>\\\\\n",
       "\\hline\n",
       "\t1 & 2583296920 & Aug 1, 2019, 3:51:15 PM  & Afternoon Ride & Ride & NA & 50436 &  8.14 & NA & false & NA & ⋯ & NA & NA & NA & NA & NA & NA & NA & NA & NA & NA\\\\\n",
       "\t2 & 2583296929 & Aug 2, 2019, 5:53:50 AM  & Morning Ride   & Ride & NA &  1745 &  7.96 & NA & false & NA & ⋯ & NA & NA & NA & NA & NA & NA & NA & NA & NA & NA\\\\\n",
       "\t3 & 2584111125 & Aug 2, 2019, 1:15:49 PM  & Afternoon Ride & Ride & NA &   944 &  6.97 & NA & false & NA & ⋯ & NA & NA & NA & NA & NA & NA & NA & NA & NA & NA\\\\\n",
       "\t4 & 2613027582 & Aug 12, 2019, 3:58:59 PM & Afternoon Ride & Ride & NA &  4170 & 10.52 & NA & false & NA & ⋯ & NA & NA & NA & NA & NA & NA & NA & NA & NA & NA\\\\\n",
       "\t5 & 2631611632 & Aug 19, 2019, 5:24:35 AM & Morning Ride   & Ride & NA &  1744 &  7.62 & NA & true  & NA & ⋯ & NA & NA & NA & NA & NA & NA & NA & NA & NA & NA\\\\\n",
       "\t6 & 2632473031 & Aug 19, 2019, 1:29:48 PM & Afternoon Ride & Ride & NA &  1046 &  7.62 & NA & true  & NA & ⋯ & NA & NA & NA & NA & NA & NA & NA & NA & NA & NA\\\\\n",
       "\\end{tabular}\n"
      ],
      "text/markdown": [
       "\n",
       "A data.frame: 6 × 77\n",
       "\n",
       "| <!--/--> | Activity.ID &lt;dbl&gt; | Activity.Date &lt;chr&gt; | Activity.Name &lt;chr&gt; | Activity.Type &lt;chr&gt; | Activity.Description &lt;lgl&gt; | Elapsed.Time &lt;int&gt; | Distance &lt;dbl&gt; | Relative.Effort &lt;lgl&gt; | Commute &lt;chr&gt; | Activity.Gear &lt;lgl&gt; | ⋯ ⋯ | Gear &lt;lgl&gt; | Precipitation.Probability &lt;lgl&gt; | Precipitation.Type &lt;lgl&gt; | Cloud.Cover &lt;lgl&gt; | Weather.Visibility &lt;lgl&gt; | UV.Index &lt;lgl&gt; | Weather.Ozone &lt;lgl&gt; | translation.missing..en.US.lib.export.portability_exporter.activities.horton_values.jump_count &lt;lgl&gt; | translation.missing..en.US.lib.export.portability_exporter.activities.horton_values.total_grit &lt;lgl&gt; | translation.missing..en.US.lib.export.portability_exporter.activities.horton_values.avg_flow &lt;lgl&gt; |\n",
       "|---|---|---|---|---|---|---|---|---|---|---|---|---|---|---|---|---|---|---|---|---|---|\n",
       "| 1 | 2583296920 | Aug 1, 2019, 3:51:15 PM  | Afternoon Ride | Ride | NA | 50436 |  8.14 | NA | false | NA | ⋯ | NA | NA | NA | NA | NA | NA | NA | NA | NA | NA |\n",
       "| 2 | 2583296929 | Aug 2, 2019, 5:53:50 AM  | Morning Ride   | Ride | NA |  1745 |  7.96 | NA | false | NA | ⋯ | NA | NA | NA | NA | NA | NA | NA | NA | NA | NA |\n",
       "| 3 | 2584111125 | Aug 2, 2019, 1:15:49 PM  | Afternoon Ride | Ride | NA |   944 |  6.97 | NA | false | NA | ⋯ | NA | NA | NA | NA | NA | NA | NA | NA | NA | NA |\n",
       "| 4 | 2613027582 | Aug 12, 2019, 3:58:59 PM | Afternoon Ride | Ride | NA |  4170 | 10.52 | NA | false | NA | ⋯ | NA | NA | NA | NA | NA | NA | NA | NA | NA | NA |\n",
       "| 5 | 2631611632 | Aug 19, 2019, 5:24:35 AM | Morning Ride   | Ride | NA |  1744 |  7.62 | NA | true  | NA | ⋯ | NA | NA | NA | NA | NA | NA | NA | NA | NA | NA |\n",
       "| 6 | 2632473031 | Aug 19, 2019, 1:29:48 PM | Afternoon Ride | Ride | NA |  1046 |  7.62 | NA | true  | NA | ⋯ | NA | NA | NA | NA | NA | NA | NA | NA | NA | NA |\n",
       "\n"
      ],
      "text/plain": [
       "  Activity.ID Activity.Date            Activity.Name  Activity.Type\n",
       "1 2583296920  Aug 1, 2019, 3:51:15 PM  Afternoon Ride Ride         \n",
       "2 2583296929  Aug 2, 2019, 5:53:50 AM  Morning Ride   Ride         \n",
       "3 2584111125  Aug 2, 2019, 1:15:49 PM  Afternoon Ride Ride         \n",
       "4 2613027582  Aug 12, 2019, 3:58:59 PM Afternoon Ride Ride         \n",
       "5 2631611632  Aug 19, 2019, 5:24:35 AM Morning Ride   Ride         \n",
       "6 2632473031  Aug 19, 2019, 1:29:48 PM Afternoon Ride Ride         \n",
       "  Activity.Description Elapsed.Time Distance Relative.Effort Commute\n",
       "1 NA                   50436         8.14    NA              false  \n",
       "2 NA                    1745         7.96    NA              false  \n",
       "3 NA                     944         6.97    NA              false  \n",
       "4 NA                    4170        10.52    NA              false  \n",
       "5 NA                    1744         7.62    NA              true   \n",
       "6 NA                    1046         7.62    NA              true   \n",
       "  Activity.Gear ⋯ Gear Precipitation.Probability Precipitation.Type Cloud.Cover\n",
       "1 NA            ⋯ NA   NA                        NA                 NA         \n",
       "2 NA            ⋯ NA   NA                        NA                 NA         \n",
       "3 NA            ⋯ NA   NA                        NA                 NA         \n",
       "4 NA            ⋯ NA   NA                        NA                 NA         \n",
       "5 NA            ⋯ NA   NA                        NA                 NA         \n",
       "6 NA            ⋯ NA   NA                        NA                 NA         \n",
       "  Weather.Visibility UV.Index Weather.Ozone\n",
       "1 NA                 NA       NA           \n",
       "2 NA                 NA       NA           \n",
       "3 NA                 NA       NA           \n",
       "4 NA                 NA       NA           \n",
       "5 NA                 NA       NA           \n",
       "6 NA                 NA       NA           \n",
       "  translation.missing..en.US.lib.export.portability_exporter.activities.horton_values.jump_count\n",
       "1 NA                                                                                            \n",
       "2 NA                                                                                            \n",
       "3 NA                                                                                            \n",
       "4 NA                                                                                            \n",
       "5 NA                                                                                            \n",
       "6 NA                                                                                            \n",
       "  translation.missing..en.US.lib.export.portability_exporter.activities.horton_values.total_grit\n",
       "1 NA                                                                                            \n",
       "2 NA                                                                                            \n",
       "3 NA                                                                                            \n",
       "4 NA                                                                                            \n",
       "5 NA                                                                                            \n",
       "6 NA                                                                                            \n",
       "  translation.missing..en.US.lib.export.portability_exporter.activities.horton_values.avg_flow\n",
       "1 NA                                                                                          \n",
       "2 NA                                                                                          \n",
       "3 NA                                                                                          \n",
       "4 NA                                                                                          \n",
       "5 NA                                                                                          \n",
       "6 NA                                                                                          "
      ]
     },
     "metadata": {},
     "output_type": "display_data"
    }
   ],
   "source": [
    "head(strava)"
   ]
  },
  {
   "cell_type": "markdown",
   "metadata": {},
   "source": [
    " ## CSV edad española\n",
    " \n",
    " Usando el CSV del INE.¿Cual es la media de edad de la población española? ¿y la mediana? ¿la moda?"
   ]
  },
  {
   "cell_type": "markdown",
   "metadata": {},
   "source": [
    "Ayuda, función de la media:\n",
    "\\\\[ \n",
    "    \\bar{x} =  \\frac{1}{\\text{poblaciónTotal}} \\sum _{i=1}^N edad_i · poblaciónConEdad_i \n",
    "\\\\]"
   ]
  },
  {
   "cell_type": "code",
   "execution_count": 58,
   "metadata": {},
   "outputs": [
    {
     "name": "stderr",
     "output_type": "stream",
     "text": [
      "Warning message:\n",
      "“Problem with `mutate()` input `edad`.\n",
      "\u001b[34mℹ\u001b[39m NAs introduced by coercion\n",
      "\u001b[34mℹ\u001b[39m Input `edad` is `as.numeric(gsub(\"año(s|)\", \"\", Edad.simple))`.”\n",
      "Warning message in mask$eval_all_mutate(dots[[i]]):\n",
      "“NAs introduced by coercion”\n"
     ]
    },
    {
     "data": {
      "text/html": [
       "<table>\n",
       "<caption>A tibble: 6 × 4</caption>\n",
       "<thead>\n",
       "\t<tr><th scope=col>Ambos sexos</th><th scope=col>Hombres</th><th scope=col>Mujeres</th><th scope=col>edad</th></tr>\n",
       "\t<tr><th scope=col>&lt;dbl&gt;</th><th scope=col>&lt;dbl&gt;</th><th scope=col>&lt;dbl&gt;</th><th scope=col>&lt;dbl&gt;</th></tr>\n",
       "</thead>\n",
       "<tbody>\n",
       "\t<tr><td>359045</td><td>184664</td><td>174381</td><td>0</td></tr>\n",
       "\t<tr><td>378335</td><td>194408</td><td>183927</td><td>1</td></tr>\n",
       "\t<tr><td>405012</td><td>208634</td><td>196378</td><td>2</td></tr>\n",
       "\t<tr><td>428337</td><td>220121</td><td>208216</td><td>3</td></tr>\n",
       "\t<tr><td>439918</td><td>226483</td><td>213435</td><td>4</td></tr>\n",
       "\t<tr><td>447273</td><td>230836</td><td>216438</td><td>5</td></tr>\n",
       "</tbody>\n",
       "</table>\n"
      ],
      "text/latex": [
       "A tibble: 6 × 4\n",
       "\\begin{tabular}{llll}\n",
       " Ambos sexos & Hombres & Mujeres & edad\\\\\n",
       " <dbl> & <dbl> & <dbl> & <dbl>\\\\\n",
       "\\hline\n",
       "\t 359045 & 184664 & 174381 & 0\\\\\n",
       "\t 378335 & 194408 & 183927 & 1\\\\\n",
       "\t 405012 & 208634 & 196378 & 2\\\\\n",
       "\t 428337 & 220121 & 208216 & 3\\\\\n",
       "\t 439918 & 226483 & 213435 & 4\\\\\n",
       "\t 447273 & 230836 & 216438 & 5\\\\\n",
       "\\end{tabular}\n"
      ],
      "text/markdown": [
       "\n",
       "A tibble: 6 × 4\n",
       "\n",
       "| Ambos sexos &lt;dbl&gt; | Hombres &lt;dbl&gt; | Mujeres &lt;dbl&gt; | edad &lt;dbl&gt; |\n",
       "|---|---|---|---|\n",
       "| 359045 | 184664 | 174381 | 0 |\n",
       "| 378335 | 194408 | 183927 | 1 |\n",
       "| 405012 | 208634 | 196378 | 2 |\n",
       "| 428337 | 220121 | 208216 | 3 |\n",
       "| 439918 | 226483 | 213435 | 4 |\n",
       "| 447273 | 230836 | 216438 | 5 |\n",
       "\n"
      ],
      "text/plain": [
       "  Ambos sexos Hombres Mujeres edad\n",
       "1 359045      184664  174381  0   \n",
       "2 378335      194408  183927  1   \n",
       "3 405012      208634  196378  2   \n",
       "4 428337      220121  208216  3   \n",
       "5 439918      226483  213435  4   \n",
       "6 447273      230836  216438  5   "
      ]
     },
     "metadata": {},
     "output_type": "display_data"
    }
   ],
   "source": [
    "library(dplyr)\n",
    "library(tidyr)\n",
    "\n",
    "poblacion_raw<-read.csv(\"data/9663bsc.csv\",skip=0,fileEncoding=\"ISO-8859-1\",header=T, sep=';',stringsAsFactor=F)\n",
    "poblacion_raw$Total <- as.numeric(gsub('\\\\.','',poblacion_raw$Total))\n",
    "poblacion <- poblacion_raw %>% pivot_wider(names_from = Sexo, values_from = Total)  %>% \n",
    " mutate(edad=as.numeric(gsub(\"año(s|)\",\"\",Edad.simple))) %>% drop_na() %>% select(-c(Periodo,Edad.simple)) %>% arrange(edad)\n",
    "\n",
    "head(poblacion)"
   ]
  },
  {
   "cell_type": "code",
   "execution_count": null,
   "metadata": {},
   "outputs": [],
   "source": []
  }
 ],
 "metadata": {
  "kernelspec": {
   "display_name": "R",
   "language": "R",
   "name": "ir"
  },
  "language_info": {
   "codemirror_mode": "r",
   "file_extension": ".r",
   "mimetype": "text/x-r-source",
   "name": "R",
   "pygments_lexer": "r",
   "version": "4.1.1"
  }
 },
 "nbformat": 4,
 "nbformat_minor": 4
}
