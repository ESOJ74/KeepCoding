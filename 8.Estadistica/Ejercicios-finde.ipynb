{
 "cells": [
  {
   "cell_type": "markdown",
   "id": "5c090df0",
   "metadata": {},
   "source": [
    "### Ejemplo probabilidad COVID\n",
    "\n",
    "Supongamos que tenemos una población donde 5 de cada 1000 personas están infectadas.\n",
    "\n",
    "\n",
    "Pintar una curva donde se represente en el eje Y la probabilidad de encontrar **al menos un contagiado** en función del número de personas dado por el eje X"
   ]
  },
  {
   "cell_type": "code",
   "execution_count": null,
   "id": "84ec3e3a",
   "metadata": {},
   "outputs": [],
   "source": []
  },
  {
   "cell_type": "markdown",
   "id": "bb9ba1d6",
   "metadata": {},
   "source": [
    "Pintar una curva donde se represente en el eje Y la probabilidad de encontrar **exactamente dos contagiados** en función del número de personas dado por el eje X"
   ]
  },
  {
   "cell_type": "code",
   "execution_count": null,
   "id": "5048e88e",
   "metadata": {},
   "outputs": [],
   "source": []
  },
  {
   "cell_type": "markdown",
   "id": "4856e800",
   "metadata": {},
   "source": [
    "Pintar una curva donde se represente en el eje Y la probabilidad de encontrar **dos o más contagiados** en función del número de personas dado por el eje X"
   ]
  },
  {
   "cell_type": "code",
   "execution_count": null,
   "id": "77b0311a",
   "metadata": {},
   "outputs": [],
   "source": []
  },
  {
   "cell_type": "markdown",
   "id": "028b1523",
   "metadata": {},
   "source": [
    "## Peso al nacer\n",
    "\n",
    "Leer el dataset que se encuentra en data/birthweight_reduced.csv. \n",
    "Quedarse con la columna Birthweight.\n",
    "¿Sigue una distribución gaussiana?"
   ]
  },
  {
   "cell_type": "code",
   "execution_count": null,
   "id": "2cf486c5",
   "metadata": {},
   "outputs": [],
   "source": []
  },
  {
   "cell_type": "markdown",
   "id": "8664fb72",
   "metadata": {},
   "source": [
    "# Origen de la vida\n",
    "\n",
    "Datos basados en:\n",
    "* [Life Before Earth](https://arxiv.org/pdf/1304.3381.pdf)\n",
    "* [Genome increase as a clock for the origin and evolution of life](https://biologydirect.biomedcentral.com/track/pdf/10.1186/1745-6150-1-17?site=biologydirect.biomedcentral.com)\n",
    "\n",
    "\n",
    "La siguiente tabla muestra la complejidad de ADN, eliminando las redundancias, de diferentes grupos de animales y su aparición en la tierra:\n",
    "\n",
    "| especies | genoma completo | genoma sin redundancia | aparición |\n",
    "| - | - | - | - |\n",
    "| mamíferos | $3.2 · 10^9$pb | $4.8 · 10^8$pb | 125 ma |\n",
    "| peces     | $4.8 · 10^8$pb | $1.6 · 10^8$pb | 500 ma |\n",
    "| gusanos   | $9.7 · 10^7$pb | $7.2 · 10^7$pb | 1000ma |\n",
    "| eucariotas| $2.9 · 10^6$pb | $2.9 · 10^6$pb | 2100ma |\n",
    "| procariotas|$5 · 10^5$pb   | $5 · 10^5$pb   | 3500ma |\n",
    "\n",
    "\n",
    "Las columnas significan:\n",
    "* especies: especies de animales.\n",
    "* genoma completo: Longitud del genoma de una especie medido en pares de bases de ADN.\n",
    "* genoma completo: Longitud del genoma de una especie, eliminando la redundancia, medido en pares de bases de ADN.\n",
    "* aparición: Cuando ese conjunto de especies aparecieron.\n",
    "\n",
    "Con estos datos tratar de obtener una regresión que indique cuando apareció un organismo con solo 1 par de bases genéticas. Esto podría marcar el origen de la vida.\n",
    "\n",
    "¿Qué columna habría que coger para hacer la regresión la del genoma completo o el que elimina la redundancia?\n",
    "\n",
    "Ayuda: Es mejor usar escalas logarítmicas."
   ]
  },
  {
   "cell_type": "code",
   "execution_count": 2,
   "id": "bd53c106",
   "metadata": {},
   "outputs": [],
   "source": [
    "df<-data.frame(especie=c(\"mamíferos\",\"peces\",\"gusanos\",\"eucariotas\",\"procariotas\"),\n",
    "           gen_total=c(3.2e9,4.8e8,9.7e7,2.9e6,5e5),\n",
    "          gen_reduc=c(4.8e8,1.6e8,7.2e7,2.9e6,5e5),\n",
    "          aparicion=c(-125,-500,-1000,-2100,-3550))"
   ]
  },
  {
   "cell_type": "code",
   "execution_count": 3,
   "id": "400270f5",
   "metadata": {},
   "outputs": [
    {
     "data": {
      "image/png": "[encoded data removed]",
      "text/plain": [
       "plot without title"
      ]
     },
     "metadata": {
      "image/png": {
       "height": 180,
       "width": 420
      }
     },
     "output_type": "display_data"
    }
   ],
   "source": [
    "library(ggplot2)\n",
    "library(reshape2)\n",
    "\n",
    "options(repr.plot.height=3,repr.plot.width=7)\n",
    "dfm<-melt(df,id=c(\"especie\",\"aparicion\"))\n",
    "ggplot(data=dfm,aes(x=aparicion,y=value))+geom_point(aes(shape=variable,color=variable))+theme_bw()"
   ]
  },
  {
   "cell_type": "code",
   "execution_count": 4,
   "id": "8c10ef88",
   "metadata": {},
   "outputs": [
    {
     "data": {
      "text/html": [
       "<table class=\"dataframe\">\n",
       "<caption>A data.frame: 5 × 4</caption>\n",
       "<thead>\n",
       "\t<tr><th scope=col>especie</th><th scope=col>gen_total</th><th scope=col>gen_reduc</th><th scope=col>aparicion</th></tr>\n",
       "\t<tr><th scope=col>&lt;chr&gt;</th><th scope=col>&lt;dbl&gt;</th><th scope=col>&lt;dbl&gt;</th><th scope=col>&lt;dbl&gt;</th></tr>\n",
       "</thead>\n",
       "<tbody>\n",
       "\t<tr><td>mamíferos  </td><td>9.505150</td><td>8.681241</td><td> -125</td></tr>\n",
       "\t<tr><td>peces      </td><td>8.681241</td><td>8.204120</td><td> -500</td></tr>\n",
       "\t<tr><td>gusanos    </td><td>7.986772</td><td>7.857332</td><td>-1000</td></tr>\n",
       "\t<tr><td>eucariotas </td><td>6.462398</td><td>6.462398</td><td>-2100</td></tr>\n",
       "\t<tr><td>procariotas</td><td>5.698970</td><td>5.698970</td><td>-3550</td></tr>\n",
       "</tbody>\n",
       "</table>\n"
      ],
      "text/latex": [
       "A data.frame: 5 × 4\n",
       "\\begin{tabular}{llll}\n",
       " especie & gen\\_total & gen\\_reduc & aparicion\\\\\n",
       " <chr> & <dbl> & <dbl> & <dbl>\\\\\n",
       "\\hline\n",
       "\t mamíferos   & 9.505150 & 8.681241 &  -125\\\\\n",
       "\t peces       & 8.681241 & 8.204120 &  -500\\\\\n",
       "\t gusanos     & 7.986772 & 7.857332 & -1000\\\\\n",
       "\t eucariotas  & 6.462398 & 6.462398 & -2100\\\\\n",
       "\t procariotas & 5.698970 & 5.698970 & -3550\\\\\n",
       "\\end{tabular}\n"
      ],
      "text/markdown": [
       "\n",
       "A data.frame: 5 × 4\n",
       "\n",
       "| especie &lt;chr&gt; | gen_total &lt;dbl&gt; | gen_reduc &lt;dbl&gt; | aparicion &lt;dbl&gt; |\n",
       "|---|---|---|---|\n",
       "| mamíferos   | 9.505150 | 8.681241 |  -125 |\n",
       "| peces       | 8.681241 | 8.204120 |  -500 |\n",
       "| gusanos     | 7.986772 | 7.857332 | -1000 |\n",
       "| eucariotas  | 6.462398 | 6.462398 | -2100 |\n",
       "| procariotas | 5.698970 | 5.698970 | -3550 |\n",
       "\n"
      ],
      "text/plain": [
       "  especie     gen_total gen_reduc aparicion\n",
       "1 mamíferos   9.505150  8.681241   -125    \n",
       "2 peces       8.681241  8.204120   -500    \n",
       "3 gusanos     7.986772  7.857332  -1000    \n",
       "4 eucariotas  6.462398  6.462398  -2100    \n",
       "5 procariotas 5.698970  5.698970  -3550    "
      ]
     },
     "metadata": {},
     "output_type": "display_data"
    },
    {
     "data": {
      "image/png": "[encoded data removed]",
      "text/plain": [
       "plot without title"
      ]
     },
     "metadata": {
      "image/png": {
       "height": 180,
       "width": 420
      }
     },
     "output_type": "display_data"
    }
   ],
   "source": [
    "dflog<-df\n",
    "dflog[,2:3]<- log10(dflog[,2:3])\n",
    "#dflog[,4]<- -log10(-dflog[,4])\n",
    "dflog\n",
    "\n",
    "dfm<-melt(dflog,id=c(\"especie\",\"aparicion\"))\n",
    "\n",
    "options(repr.plot.height=3,repr.plot.width=7)\n",
    "\n",
    "ggplot(data=dfm,aes(x=aparicion,y=value))+geom_point(aes(shape=variable,color=variable))+theme_bw()"
   ]
  },
  {
   "cell_type": "code",
   "execution_count": null,
   "id": "620fb527",
   "metadata": {},
   "outputs": [],
   "source": []
  }
 ],
 "metadata": {
  "kernelspec": {
   "display_name": "R",
   "language": "R",
   "name": "ir"
  },
  "language_info": {
   "codemirror_mode": "r",
   "file_extension": ".r",
   "mimetype": "text/x-r-source",
   "name": "R",
   "pygments_lexer": "r",
   "version": "4.1.1"
  }
 },
 "nbformat": 4,
 "nbformat_minor": 5
}
