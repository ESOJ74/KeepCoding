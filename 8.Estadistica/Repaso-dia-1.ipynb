{
 "cells": [
  {
   "cell_type": "markdown",
   "id": "46ce8e9d",
   "metadata": {},
   "source": [
    "### Vectores"
   ]
  },
  {
   "cell_type": "code",
   "execution_count": 12,
   "id": "993c9cdf",
   "metadata": {},
   "outputs": [
    {
     "data": {
      "text/html": [
       "<style>\n",
       ".dl-inline {width: auto; margin:0; padding: 0}\n",
       ".dl-inline>dt, .dl-inline>dd {float: none; width: auto; display: inline-block}\n",
       ".dl-inline>dt::after {content: \":\\0020\"; padding-right: .5ex}\n",
       ".dl-inline>dt:not(:first-of-type) {padding-left: .5ex}\n",
       "</style><dl class=dl-inline><dt>1</dt><dd>1</dd><dt>2</dt><dd>3</dd><dt>tercervalor</dt><dd>7</dd><dt>4</dt><dd>9</dd></dl>\n"
      ],
      "text/latex": [
       "\\begin{description*}\n",
       "\\item[1] 1\n",
       "\\item[2] 3\n",
       "\\item[tercervalor] 7\n",
       "\\item[4] 9\n",
       "\\end{description*}\n"
      ],
      "text/markdown": [
       "1\n",
       ":   12\n",
       ":   3tercervalor\n",
       ":   74\n",
       ":   9\n",
       "\n"
      ],
      "text/plain": [
       "                        tercervalor             \n",
       "          1           3           7           9 "
      ]
     },
     "metadata": {},
     "output_type": "display_data"
    }
   ],
   "source": [
    "(v <- c(1,3,tercervalor=7,9))"
   ]
  },
  {
   "cell_type": "code",
   "execution_count": 2,
   "id": "317723ae",
   "metadata": {},
   "outputs": [
    {
     "data": {
      "text/html": [
       "<style>\n",
       ".list-inline {list-style: none; margin:0; padding: 0}\n",
       ".list-inline>li {display: inline-block}\n",
       ".list-inline>li:not(:last-child)::after {content: \"\\00b7\"; padding: 0 .5ex}\n",
       "</style>\n",
       "<ol class=list-inline><li>2</li><li>6</li><li>14</li><li>18</li></ol>\n"
      ],
      "text/latex": [
       "\\begin{enumerate*}\n",
       "\\item 2\n",
       "\\item 6\n",
       "\\item 14\n",
       "\\item 18\n",
       "\\end{enumerate*}\n"
      ],
      "text/markdown": [
       "1. 2\n",
       "2. 6\n",
       "3. 14\n",
       "4. 18\n",
       "\n",
       "\n"
      ],
      "text/plain": [
       "[1]  2  6 14 18"
      ]
     },
     "metadata": {},
     "output_type": "display_data"
    }
   ],
   "source": [
    "v*2"
   ]
  },
  {
   "cell_type": "code",
   "execution_count": 6,
   "id": "2d318e70",
   "metadata": {},
   "outputs": [
    {
     "data": {
      "text/html": [
       "<style>\n",
       ".list-inline {list-style: none; margin:0; padding: 0}\n",
       ".list-inline>li {display: inline-block}\n",
       ".list-inline>li:not(:last-child)::after {content: \"\\00b7\"; padding: 0 .5ex}\n",
       "</style>\n",
       "<ol class=list-inline><li>'hola caracola'</li><li>'hola caracola'</li></ol>\n"
      ],
      "text/latex": [
       "\\begin{enumerate*}\n",
       "\\item 'hola caracola'\n",
       "\\item 'hola caracola'\n",
       "\\end{enumerate*}\n"
      ],
      "text/markdown": [
       "1. 'hola caracola'\n",
       "2. 'hola caracola'\n",
       "\n",
       "\n"
      ],
      "text/plain": [
       "[1] \"hola caracola\" \"hola caracola\""
      ]
     },
     "metadata": {},
     "output_type": "display_data"
    }
   ],
   "source": [
    "rep('hola caracola',2)"
   ]
  },
  {
   "cell_type": "code",
   "execution_count": 8,
   "id": "14c4929b",
   "metadata": {},
   "outputs": [
    {
     "data": {
      "text/html": [
       "<style>\n",
       ".list-inline {list-style: none; margin:0; padding: 0}\n",
       ".list-inline>li {display: inline-block}\n",
       ".list-inline>li:not(:last-child)::after {content: \"\\00b7\"; padding: 0 .5ex}\n",
       "</style>\n",
       "<ol class=list-inline><li>1</li><li>3</li><li>5</li><li>7</li></ol>\n"
      ],
      "text/latex": [
       "\\begin{enumerate*}\n",
       "\\item 1\n",
       "\\item 3\n",
       "\\item 5\n",
       "\\item 7\n",
       "\\end{enumerate*}\n"
      ],
      "text/markdown": [
       "1. 1\n",
       "2. 3\n",
       "3. 5\n",
       "4. 7\n",
       "\n",
       "\n"
      ],
      "text/plain": [
       "[1] 1 3 5 7"
      ]
     },
     "metadata": {},
     "output_type": "display_data"
    }
   ],
   "source": [
    "seq(1,7, 2)"
   ]
  },
  {
   "cell_type": "code",
   "execution_count": 10,
   "id": "10d8965b",
   "metadata": {},
   "outputs": [
    {
     "data": {
      "text/html": [
       "<style>\n",
       ".list-inline {list-style: none; margin:0; padding: 0}\n",
       ".list-inline>li {display: inline-block}\n",
       ".list-inline>li:not(:last-child)::after {content: \"\\00b7\"; padding: 0 .5ex}\n",
       "</style>\n",
       "<ol class=list-inline><li>1</li><li>1.66666666666667</li><li>2.33333333333333</li><li>3</li><li>3.66666666666667</li><li>4.33333333333333</li><li>5</li><li>5.66666666666667</li><li>6.33333333333333</li><li>7</li></ol>\n"
      ],
      "text/latex": [
       "\\begin{enumerate*}\n",
       "\\item 1\n",
       "\\item 1.66666666666667\n",
       "\\item 2.33333333333333\n",
       "\\item 3\n",
       "\\item 3.66666666666667\n",
       "\\item 4.33333333333333\n",
       "\\item 5\n",
       "\\item 5.66666666666667\n",
       "\\item 6.33333333333333\n",
       "\\item 7\n",
       "\\end{enumerate*}\n"
      ],
      "text/markdown": [
       "1. 1\n",
       "2. 1.66666666666667\n",
       "3. 2.33333333333333\n",
       "4. 3\n",
       "5. 3.66666666666667\n",
       "6. 4.33333333333333\n",
       "7. 5\n",
       "8. 5.66666666666667\n",
       "9. 6.33333333333333\n",
       "10. 7\n",
       "\n",
       "\n"
      ],
      "text/plain": [
       " [1] 1.000000 1.666667 2.333333 3.000000 3.666667 4.333333 5.000000 5.666667\n",
       " [9] 6.333333 7.000000"
      ]
     },
     "metadata": {},
     "output_type": "display_data"
    }
   ],
   "source": [
    "seq(1,7, length.out=10)"
   ]
  },
  {
   "cell_type": "markdown",
   "id": "58e53061",
   "metadata": {},
   "source": [
    "### Listas"
   ]
  },
  {
   "cell_type": "code",
   "execution_count": 15,
   "id": "bc34164e",
   "metadata": {},
   "outputs": [
    {
     "data": {
      "text/html": [
       "<dl>\n",
       "\t<dt>$texto</dt>\n",
       "\t\t<dd>'Descripción de las características'</dd>\n",
       "\t<dt>$peso</dt>\n",
       "\t\t<dd>47</dd>\n",
       "\t<dt>$medidas</dt>\n",
       "\t\t<dd><style>\n",
       ".list-inline {list-style: none; margin:0; padding: 0}\n",
       ".list-inline>li {display: inline-block}\n",
       ".list-inline>li:not(:last-child)::after {content: \"\\00b7\"; padding: 0 .5ex}\n",
       "</style>\n",
       "<ol class=list-inline><li>1</li><li>5</li><li>7</li></ol>\n",
       "</dd>\n",
       "</dl>\n"
      ],
      "text/latex": [
       "\\begin{description}\n",
       "\\item[\\$texto] 'Descripción de las características'\n",
       "\\item[\\$peso] 47\n",
       "\\item[\\$medidas] \\begin{enumerate*}\n",
       "\\item 1\n",
       "\\item 5\n",
       "\\item 7\n",
       "\\end{enumerate*}\n",
       "\n",
       "\\end{description}\n"
      ],
      "text/markdown": [
       "$texto\n",
       ":   'Descripción de las características'\n",
       "$peso\n",
       ":   47\n",
       "$medidas\n",
       ":   1. 1\n",
       "2. 5\n",
       "3. 7\n",
       "\n",
       "\n",
       "\n",
       "\n",
       "\n"
      ],
      "text/plain": [
       "$texto\n",
       "[1] \"Descripción de las características\"\n",
       "\n",
       "$peso\n",
       "[1] 47\n",
       "\n",
       "$medidas\n",
       "[1] 1 5 7\n"
      ]
     },
     "metadata": {},
     "output_type": "display_data"
    }
   ],
   "source": [
    "l = list(texto=\"Descripción de las características\",peso=47,medidas=c(1,5,7))\n",
    "l"
   ]
  },
  {
   "cell_type": "code",
   "execution_count": 18,
   "id": "40ed8802",
   "metadata": {},
   "outputs": [
    {
     "data": {
      "text/html": [
       "<style>\n",
       ".list-inline {list-style: none; margin:0; padding: 0}\n",
       ".list-inline>li {display: inline-block}\n",
       ".list-inline>li:not(:last-child)::after {content: \"\\00b7\"; padding: 0 .5ex}\n",
       "</style>\n",
       "<ol class=list-inline><li>1</li><li>5</li><li>7</li></ol>\n"
      ],
      "text/latex": [
       "\\begin{enumerate*}\n",
       "\\item 1\n",
       "\\item 5\n",
       "\\item 7\n",
       "\\end{enumerate*}\n"
      ],
      "text/markdown": [
       "1. 1\n",
       "2. 5\n",
       "3. 7\n",
       "\n",
       "\n"
      ],
      "text/plain": [
       "[1] 1 5 7"
      ]
     },
     "metadata": {},
     "output_type": "display_data"
    }
   ],
   "source": [
    "l[[\"medidas\"]]"
   ]
  },
  {
   "cell_type": "code",
   "execution_count": 20,
   "id": "12633855",
   "metadata": {},
   "outputs": [
    {
     "data": {
      "text/html": [
       "'Descripción de las características'"
      ],
      "text/latex": [
       "'Descripción de las características'"
      ],
      "text/markdown": [
       "'Descripción de las características'"
      ],
      "text/plain": [
       "[1] \"Descripción de las características\""
      ]
     },
     "metadata": {},
     "output_type": "display_data"
    }
   ],
   "source": [
    "l$texto"
   ]
  },
  {
   "cell_type": "code",
   "execution_count": 24,
   "id": "57a6b716",
   "metadata": {},
   "outputs": [
    {
     "data": {
      "text/html": [
       "7"
      ],
      "text/latex": [
       "7"
      ],
      "text/markdown": [
       "7"
      ],
      "text/plain": [
       "[1] 7"
      ]
     },
     "metadata": {},
     "output_type": "display_data"
    }
   ],
   "source": [
    "l[[\"medidas\"]][3]"
   ]
  },
  {
   "cell_type": "markdown",
   "id": "7afe3f3b",
   "metadata": {},
   "source": [
    "### Dataframe"
   ]
  },
  {
   "cell_type": "code",
   "execution_count": 28,
   "id": "bde4f98f",
   "metadata": {},
   "outputs": [
    {
     "data": {
      "text/plain": [
       "    animal               peso        \n",
       " Length:6           Min.   : 0.0200  \n",
       " Class :character   1st Qu.: 0.0525  \n",
       " Mode  :character   Median : 1.0300  \n",
       "                    Mean   : 5.3550  \n",
       "                    3rd Qu.: 8.0000  \n",
       "                    Max.   :20.0000  "
      ]
     },
     "metadata": {},
     "output_type": "display_data"
    }
   ],
   "source": [
    "df <- data.frame(animal=c(\"perro\",\"gato\",\"gorrión\",\"hamster\",\"perro\", \"hamster\"),\n",
    "           peso=  c(10,2,20/1000, 50/1000, 20, 60/1000 ))\n",
    "summary(df)"
   ]
  },
  {
   "cell_type": "code",
   "execution_count": 29,
   "id": "ee0d8882",
   "metadata": {},
   "outputs": [
    {
     "data": {
      "text/plain": [
       "     animal       peso        \n",
       " gato   :1   Min.   : 0.0200  \n",
       " gorrión:1   1st Qu.: 0.0525  \n",
       " hamster:2   Median : 1.0300  \n",
       " perro  :2   Mean   : 5.3550  \n",
       "             3rd Qu.: 8.0000  \n",
       "             Max.   :20.0000  "
      ]
     },
     "metadata": {},
     "output_type": "display_data"
    }
   ],
   "source": [
    "df$animal <- factor(df$animal)\n",
    "summary(df)"
   ]
  },
  {
   "cell_type": "code",
   "execution_count": 31,
   "id": "ab0d3a86",
   "metadata": {},
   "outputs": [
    {
     "data": {
      "text/plain": [
       "\n",
       "   gato gorrión hamster   perro \n",
       "      1       1       2       2 "
      ]
     },
     "metadata": {},
     "output_type": "display_data"
    }
   ],
   "source": [
    "table(df[,\"animal\"])"
   ]
  },
  {
   "cell_type": "code",
   "execution_count": 35,
   "id": "73291cde",
   "metadata": {},
   "outputs": [
    {
     "data": {
      "text/html": [
       "<table class=\"dataframe\">\n",
       "<caption>A data.frame: 2 × 2</caption>\n",
       "<thead>\n",
       "\t<tr><th></th><th scope=col>animal</th><th scope=col>peso</th></tr>\n",
       "\t<tr><th></th><th scope=col>&lt;fct&gt;</th><th scope=col>&lt;dbl&gt;</th></tr>\n",
       "</thead>\n",
       "<tbody>\n",
       "\t<tr><th scope=row>3</th><td>gorrión</td><td>0.02</td></tr>\n",
       "\t<tr><th scope=row>2</th><td>gato   </td><td>2.00</td></tr>\n",
       "</tbody>\n",
       "</table>\n"
      ],
      "text/latex": [
       "A data.frame: 2 × 2\n",
       "\\begin{tabular}{r|ll}\n",
       "  & animal & peso\\\\\n",
       "  & <fct> & <dbl>\\\\\n",
       "\\hline\n",
       "\t3 & gorrión & 0.02\\\\\n",
       "\t2 & gato    & 2.00\\\\\n",
       "\\end{tabular}\n"
      ],
      "text/markdown": [
       "\n",
       "A data.frame: 2 × 2\n",
       "\n",
       "| <!--/--> | animal &lt;fct&gt; | peso &lt;dbl&gt; |\n",
       "|---|---|---|\n",
       "| 3 | gorrión | 0.02 |\n",
       "| 2 | gato    | 2.00 |\n",
       "\n"
      ],
      "text/plain": [
       "  animal  peso\n",
       "3 gorrión 0.02\n",
       "2 gato    2.00"
      ]
     },
     "metadata": {},
     "output_type": "display_data"
    }
   ],
   "source": [
    "df[c(3,2),]"
   ]
  },
  {
   "cell_type": "code",
   "execution_count": 36,
   "id": "228c9844",
   "metadata": {},
   "outputs": [
    {
     "data": {
      "text/html": [
       "<style>\n",
       ".list-inline {list-style: none; margin:0; padding: 0}\n",
       ".list-inline>li {display: inline-block}\n",
       ".list-inline>li:not(:last-child)::after {content: \"\\00b7\"; padding: 0 .5ex}\n",
       "</style>\n",
       "<ol class=list-inline><li>3</li><li>4</li><li>6</li><li>2</li><li>1</li><li>5</li></ol>\n"
      ],
      "text/latex": [
       "\\begin{enumerate*}\n",
       "\\item 3\n",
       "\\item 4\n",
       "\\item 6\n",
       "\\item 2\n",
       "\\item 1\n",
       "\\item 5\n",
       "\\end{enumerate*}\n"
      ],
      "text/markdown": [
       "1. 3\n",
       "2. 4\n",
       "3. 6\n",
       "4. 2\n",
       "5. 1\n",
       "6. 5\n",
       "\n",
       "\n"
      ],
      "text/plain": [
       "[1] 3 4 6 2 1 5"
      ]
     },
     "metadata": {},
     "output_type": "display_data"
    }
   ],
   "source": [
    "order(df$peso)"
   ]
  },
  {
   "cell_type": "code",
   "execution_count": 40,
   "id": "9f1a37dd",
   "metadata": {},
   "outputs": [
    {
     "data": {
      "text/html": [
       "<table class=\"dataframe\">\n",
       "<caption>A data.frame: 6 × 2</caption>\n",
       "<thead>\n",
       "\t<tr><th></th><th scope=col>animal</th><th scope=col>peso</th></tr>\n",
       "\t<tr><th></th><th scope=col>&lt;fct&gt;</th><th scope=col>&lt;dbl&gt;</th></tr>\n",
       "</thead>\n",
       "<tbody>\n",
       "\t<tr><th scope=row>5</th><td>perro  </td><td>20.00</td></tr>\n",
       "\t<tr><th scope=row>1</th><td>perro  </td><td>10.00</td></tr>\n",
       "\t<tr><th scope=row>2</th><td>gato   </td><td> 2.00</td></tr>\n",
       "\t<tr><th scope=row>6</th><td>hamster</td><td> 0.06</td></tr>\n",
       "\t<tr><th scope=row>4</th><td>hamster</td><td> 0.05</td></tr>\n",
       "\t<tr><th scope=row>3</th><td>gorrión</td><td> 0.02</td></tr>\n",
       "</tbody>\n",
       "</table>\n"
      ],
      "text/latex": [
       "A data.frame: 6 × 2\n",
       "\\begin{tabular}{r|ll}\n",
       "  & animal & peso\\\\\n",
       "  & <fct> & <dbl>\\\\\n",
       "\\hline\n",
       "\t5 & perro   & 20.00\\\\\n",
       "\t1 & perro   & 10.00\\\\\n",
       "\t2 & gato    &  2.00\\\\\n",
       "\t6 & hamster &  0.06\\\\\n",
       "\t4 & hamster &  0.05\\\\\n",
       "\t3 & gorrión &  0.02\\\\\n",
       "\\end{tabular}\n"
      ],
      "text/markdown": [
       "\n",
       "A data.frame: 6 × 2\n",
       "\n",
       "| <!--/--> | animal &lt;fct&gt; | peso &lt;dbl&gt; |\n",
       "|---|---|---|\n",
       "| 5 | perro   | 20.00 |\n",
       "| 1 | perro   | 10.00 |\n",
       "| 2 | gato    |  2.00 |\n",
       "| 6 | hamster |  0.06 |\n",
       "| 4 | hamster |  0.05 |\n",
       "| 3 | gorrión |  0.02 |\n",
       "\n"
      ],
      "text/plain": [
       "  animal  peso \n",
       "5 perro   20.00\n",
       "1 perro   10.00\n",
       "2 gato     2.00\n",
       "6 hamster  0.06\n",
       "4 hamster  0.05\n",
       "3 gorrión  0.02"
      ]
     },
     "metadata": {},
     "output_type": "display_data"
    }
   ],
   "source": [
    "df[order(df$peso,  decreasing = T),]"
   ]
  },
  {
   "cell_type": "code",
   "execution_count": 41,
   "id": "4676a4a3",
   "metadata": {},
   "outputs": [
    {
     "data": {
      "text/html": [
       "<table class=\"dataframe\">\n",
       "<caption>A data.frame: 6 × 2</caption>\n",
       "<thead>\n",
       "\t<tr><th scope=col>peso</th><th scope=col>animal</th></tr>\n",
       "\t<tr><th scope=col>&lt;dbl&gt;</th><th scope=col>&lt;fct&gt;</th></tr>\n",
       "</thead>\n",
       "<tbody>\n",
       "\t<tr><td>10.00</td><td>perro  </td></tr>\n",
       "\t<tr><td> 2.00</td><td>gato   </td></tr>\n",
       "\t<tr><td> 0.02</td><td>gorrión</td></tr>\n",
       "\t<tr><td> 0.05</td><td>hamster</td></tr>\n",
       "\t<tr><td>20.00</td><td>perro  </td></tr>\n",
       "\t<tr><td> 0.06</td><td>hamster</td></tr>\n",
       "</tbody>\n",
       "</table>\n"
      ],
      "text/latex": [
       "A data.frame: 6 × 2\n",
       "\\begin{tabular}{ll}\n",
       " peso & animal\\\\\n",
       " <dbl> & <fct>\\\\\n",
       "\\hline\n",
       "\t 10.00 & perro  \\\\\n",
       "\t  2.00 & gato   \\\\\n",
       "\t  0.02 & gorrión\\\\\n",
       "\t  0.05 & hamster\\\\\n",
       "\t 20.00 & perro  \\\\\n",
       "\t  0.06 & hamster\\\\\n",
       "\\end{tabular}\n"
      ],
      "text/markdown": [
       "\n",
       "A data.frame: 6 × 2\n",
       "\n",
       "| peso &lt;dbl&gt; | animal &lt;fct&gt; |\n",
       "|---|---|\n",
       "| 10.00 | perro   |\n",
       "|  2.00 | gato    |\n",
       "|  0.02 | gorrión |\n",
       "|  0.05 | hamster |\n",
       "| 20.00 | perro   |\n",
       "|  0.06 | hamster |\n",
       "\n"
      ],
      "text/plain": [
       "  peso  animal \n",
       "1 10.00 perro  \n",
       "2  2.00 gato   \n",
       "3  0.02 gorrión\n",
       "4  0.05 hamster\n",
       "5 20.00 perro  \n",
       "6  0.06 hamster"
      ]
     },
     "metadata": {},
     "output_type": "display_data"
    }
   ],
   "source": [
    "df[,c(2,1)]"
   ]
  },
  {
   "cell_type": "code",
   "execution_count": 42,
   "id": "d0fad0ef",
   "metadata": {},
   "outputs": [
    {
     "data": {
      "text/html": [
       "<table class=\"dataframe\">\n",
       "<caption>A data.frame: 2 × 2</caption>\n",
       "<thead>\n",
       "\t<tr><th></th><th scope=col>peso</th><th scope=col>animal</th></tr>\n",
       "\t<tr><th></th><th scope=col>&lt;dbl&gt;</th><th scope=col>&lt;fct&gt;</th></tr>\n",
       "</thead>\n",
       "<tbody>\n",
       "\t<tr><th scope=row>2</th><td>2.00</td><td>gato   </td></tr>\n",
       "\t<tr><th scope=row>4</th><td>0.05</td><td>hamster</td></tr>\n",
       "</tbody>\n",
       "</table>\n"
      ],
      "text/latex": [
       "A data.frame: 2 × 2\n",
       "\\begin{tabular}{r|ll}\n",
       "  & peso & animal\\\\\n",
       "  & <dbl> & <fct>\\\\\n",
       "\\hline\n",
       "\t2 & 2.00 & gato   \\\\\n",
       "\t4 & 0.05 & hamster\\\\\n",
       "\\end{tabular}\n"
      ],
      "text/markdown": [
       "\n",
       "A data.frame: 2 × 2\n",
       "\n",
       "| <!--/--> | peso &lt;dbl&gt; | animal &lt;fct&gt; |\n",
       "|---|---|---|\n",
       "| 2 | 2.00 | gato    |\n",
       "| 4 | 0.05 | hamster |\n",
       "\n"
      ],
      "text/plain": [
       "  peso animal \n",
       "2 2.00 gato   \n",
       "4 0.05 hamster"
      ]
     },
     "metadata": {},
     "output_type": "display_data"
    }
   ],
   "source": [
    "df[c(2,4),c(\"peso\",\"animal\")]"
   ]
  },
  {
   "cell_type": "code",
   "execution_count": 43,
   "id": "72d6cfd9",
   "metadata": {},
   "outputs": [
    {
     "data": {
      "text/html": [
       "5.355"
      ],
      "text/latex": [
       "5.355"
      ],
      "text/markdown": [
       "5.355"
      ],
      "text/plain": [
       "[1] 5.355"
      ]
     },
     "metadata": {},
     "output_type": "display_data"
    }
   ],
   "source": [
    "mean(df$peso)"
   ]
  },
  {
   "cell_type": "code",
   "execution_count": 44,
   "id": "b213892e",
   "metadata": {},
   "outputs": [
    {
     "data": {
      "text/html": [
       "1.03"
      ],
      "text/latex": [
       "1.03"
      ],
      "text/markdown": [
       "1.03"
      ],
      "text/plain": [
       "[1] 1.03"
      ]
     },
     "metadata": {},
     "output_type": "display_data"
    }
   ],
   "source": [
    "median(df$peso)"
   ]
  },
  {
   "cell_type": "code",
   "execution_count": 46,
   "id": "6075eb99",
   "metadata": {},
   "outputs": [
    {
     "data": {
      "text/html": [
       "<style>\n",
       ".list-inline {list-style: none; margin:0; padding: 0}\n",
       ".list-inline>li {display: inline-block}\n",
       ".list-inline>li:not(:last-child)::after {content: \"\\00b7\"; padding: 0 .5ex}\n",
       "</style>\n",
       "<ol class=list-inline><li>0.02</li><li>0.05</li><li>0.06</li><li>2</li><li>10</li><li>20</li></ol>\n"
      ],
      "text/latex": [
       "\\begin{enumerate*}\n",
       "\\item 0.02\n",
       "\\item 0.05\n",
       "\\item 0.06\n",
       "\\item 2\n",
       "\\item 10\n",
       "\\item 20\n",
       "\\end{enumerate*}\n"
      ],
      "text/markdown": [
       "1. 0.02\n",
       "2. 0.05\n",
       "3. 0.06\n",
       "4. 2\n",
       "5. 10\n",
       "6. 20\n",
       "\n",
       "\n"
      ],
      "text/plain": [
       "[1]  0.02  0.05  0.06  2.00 10.00 20.00"
      ]
     },
     "metadata": {},
     "output_type": "display_data"
    }
   ],
   "source": [
    "sort(df$peso)"
   ]
  },
  {
   "cell_type": "code",
   "execution_count": 51,
   "id": "2590aeb9",
   "metadata": {},
   "outputs": [
    {
     "data": {
      "text/html": [
       "66.39007"
      ],
      "text/latex": [
       "66.39007"
      ],
      "text/markdown": [
       "66.39007"
      ],
      "text/plain": [
       "[1] 66.39007"
      ]
     },
     "metadata": {},
     "output_type": "display_data"
    },
    {
     "data": {
      "text/html": [
       "8.14801018654248"
      ],
      "text/latex": [
       "8.14801018654248"
      ],
      "text/markdown": [
       "8.14801018654248"
      ],
      "text/plain": [
       "[1] 8.14801"
      ]
     },
     "metadata": {},
     "output_type": "display_data"
    }
   ],
   "source": [
    "var(df$peso)\n",
    "sd(df$peso)"
   ]
  },
  {
   "cell_type": "code",
   "execution_count": null,
   "id": "73e50f5a",
   "metadata": {},
   "outputs": [],
   "source": []
  }
 ],
 "metadata": {
  "kernelspec": {
   "display_name": "R",
   "language": "R",
   "name": "ir"
  },
  "language_info": {
   "codemirror_mode": "r",
   "file_extension": ".r",
   "mimetype": "text/x-r-source",
   "name": "R",
   "pygments_lexer": "r",
   "version": "4.1.1"
  }
 },
 "nbformat": 4,
 "nbformat_minor": 5
}
