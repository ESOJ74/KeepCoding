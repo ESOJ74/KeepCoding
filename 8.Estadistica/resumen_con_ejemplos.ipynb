{
 "cells": [
  {
   "cell_type": "markdown",
   "metadata": {},
   "source": [
    "# Cancer de esófago\n",
    "\n",
    "Dataset de un estudio de cancer de esófago en Ile-et-Vilaine, France.\n",
    "\n",
    "Columnas:\n",
    "* agegp: grupo de edad\n",
    "* alcgp: consumo de alcohol\n",
    "* tobgp: consumo de tabaco\n",
    "* ncases: número de casos de cancer\n",
    "* ncontrol: población de control\n",
    "\n",
    "¿Cual es la variable que más parece influir la aparición del cancer con mayor probabilidad?"
   ]
  },
  {
   "cell_type": "code",
   "execution_count": 11,
   "metadata": {},
   "outputs": [
    {
     "data": {
      "text/html": [
       "<table>\n",
       "<caption>A data.frame: 6 × 5</caption>\n",
       "<thead>\n",
       "\t<tr><th></th><th scope=col>agegp</th><th scope=col>alcgp</th><th scope=col>tobgp</th><th scope=col>ncases</th><th scope=col>ncontrols</th></tr>\n",
       "\t<tr><th></th><th scope=col>&lt;fct&gt;</th><th scope=col>&lt;fct&gt;</th><th scope=col>&lt;fct&gt;</th><th scope=col>&lt;int&gt;</th><th scope=col>&lt;int&gt;</th></tr>\n",
       "</thead>\n",
       "<tbody>\n",
       "\t<tr><th scope=row>1</th><td>25-34</td><td>0-39g/day</td><td>0-9g/day</td><td>0</td><td>40</td></tr>\n",
       "\t<tr><th scope=row>2</th><td>25-34</td><td>0-39g/day</td><td>10-19   </td><td>0</td><td>10</td></tr>\n",
       "\t<tr><th scope=row>3</th><td>25-34</td><td>0-39g/day</td><td>20-29   </td><td>0</td><td> 6</td></tr>\n",
       "\t<tr><th scope=row>4</th><td>25-34</td><td>0-39g/day</td><td>30+     </td><td>0</td><td> 5</td></tr>\n",
       "\t<tr><th scope=row>5</th><td>25-34</td><td>40-79    </td><td>0-9g/day</td><td>0</td><td>27</td></tr>\n",
       "\t<tr><th scope=row>6</th><td>25-34</td><td>40-79    </td><td>10-19   </td><td>0</td><td> 7</td></tr>\n",
       "</tbody>\n",
       "</table>\n"
      ],
      "text/latex": [
       "A data.frame: 6 × 5\n",
       "\\begin{tabular}{r|lllll}\n",
       "  & agegp & alcgp & tobgp & ncases & ncontrols\\\\\n",
       "  & <fct> & <fct> & <fct> & <int> & <int>\\\\\n",
       "\\hline\n",
       "\t1 & 25-34 & 0-39g/day & 0-9g/day & 0 & 40\\\\\n",
       "\t2 & 25-34 & 0-39g/day & 10-19    & 0 & 10\\\\\n",
       "\t3 & 25-34 & 0-39g/day & 20-29    & 0 &  6\\\\\n",
       "\t4 & 25-34 & 0-39g/day & 30+      & 0 &  5\\\\\n",
       "\t5 & 25-34 & 40-79     & 0-9g/day & 0 & 27\\\\\n",
       "\t6 & 25-34 & 40-79     & 10-19    & 0 &  7\\\\\n",
       "\\end{tabular}\n"
      ],
      "text/markdown": [
       "\n",
       "A data.frame: 6 × 5\n",
       "\n",
       "| <!--/--> | agegp &lt;fct&gt; | alcgp &lt;fct&gt; | tobgp &lt;fct&gt; | ncases &lt;int&gt; | ncontrols &lt;int&gt; |\n",
       "|---|---|---|---|---|---|\n",
       "| 1 | 25-34 | 0-39g/day | 0-9g/day | 0 | 40 |\n",
       "| 2 | 25-34 | 0-39g/day | 10-19    | 0 | 10 |\n",
       "| 3 | 25-34 | 0-39g/day | 20-29    | 0 |  6 |\n",
       "| 4 | 25-34 | 0-39g/day | 30+      | 0 |  5 |\n",
       "| 5 | 25-34 | 40-79     | 0-9g/day | 0 | 27 |\n",
       "| 6 | 25-34 | 40-79     | 10-19    | 0 |  7 |\n",
       "\n"
      ],
      "text/plain": [
       "  agegp alcgp     tobgp    ncases ncontrols\n",
       "1 25-34 0-39g/day 0-9g/day 0      40       \n",
       "2 25-34 0-39g/day 10-19    0      10       \n",
       "3 25-34 0-39g/day 20-29    0       6       \n",
       "4 25-34 0-39g/day 30+      0       5       \n",
       "5 25-34 40-79     0-9g/day 0      27       \n",
       "6 25-34 40-79     10-19    0       7       "
      ]
     },
     "metadata": {},
     "output_type": "display_data"
    }
   ],
   "source": [
    "dfcancer<-read.csv(\"data/ESOPH.dat\",skip=43,sep = \"\")\n",
    "head(dfcancer)"
   ]
  },
  {
   "cell_type": "code",
   "execution_count": 12,
   "metadata": {},
   "outputs": [
    {
     "name": "stdout",
     "output_type": "stream",
     "text": [
      "'data.frame':\t88 obs. of  5 variables:\n",
      " $ agegp    : Factor w/ 6 levels \"25-34\",\"35-44\",..: 1 1 1 1 1 1 1 1 1 1 ...\n",
      " $ alcgp    : Factor w/ 4 levels \"0-39g/day\",\"120+\",..: 1 1 1 1 3 3 3 3 4 4 ...\n",
      " $ tobgp    : Factor w/ 4 levels \"0-9g/day\",\"10-19\",..: 1 2 3 4 1 2 3 4 1 2 ...\n",
      " $ ncases   : int  0 0 0 0 0 0 0 0 0 0 ...\n",
      " $ ncontrols: int  40 10 6 5 27 7 4 7 2 1 ...\n"
     ]
    }
   ],
   "source": [
    "str(dfcancer)"
   ]
  },
  {
   "cell_type": "code",
   "execution_count": 13,
   "metadata": {},
   "outputs": [],
   "source": [
    "dfcancer$ratio<-dfcancer$ncases/(dfcancer$ncontrols+dfcancer$ncases )"
   ]
  },
  {
   "cell_type": "markdown",
   "metadata": {},
   "source": [
    "Podemos ver que variables son las más importantes a la hora de que cambiar el ratio de aparición de cancer:"
   ]
  },
  {
   "cell_type": "code",
   "execution_count": 14,
   "metadata": {},
   "outputs": [
    {
     "data": {
      "text/plain": [
       "            Df Sum Sq Mean Sq F value   Pr(>F)    \n",
       "agegp        5 1.2374 0.24748   19.50 1.92e-12 ***\n",
       "alcgp        3 0.8462 0.28206   22.22 1.97e-10 ***\n",
       "tobgp        3 0.0526 0.01752    1.38    0.255    \n",
       "Residuals   76 0.9646 0.01269                     \n",
       "---\n",
       "Signif. codes:  0 ‘***’ 0.001 ‘**’ 0.01 ‘*’ 0.05 ‘.’ 0.1 ‘ ’ 1"
      ]
     },
     "metadata": {},
     "output_type": "display_data"
    }
   ],
   "source": [
    "summary(aov(data=dfcancer, ratio~agegp+alcgp+tobgp))"
   ]
  },
  {
   "cell_type": "markdown",
   "metadata": {},
   "source": [
    "Si miramos una relación lineal podemos encontrar más detalles ocultos:"
   ]
  },
  {
   "cell_type": "code",
   "execution_count": 15,
   "metadata": {},
   "outputs": [
    {
     "data": {
      "text/html": [
       "<style>\n",
       ".list-inline {list-style: none; margin:0; padding: 0}\n",
       ".list-inline>li {display: inline-block}\n",
       ".list-inline>li:not(:last-child)::after {content: \"\\00b7\"; padding: 0 .5ex}\n",
       "</style>\n",
       "<ol class=list-inline><li>'25-34'</li><li>'35-44'</li><li>'45-54'</li><li>'55-64'</li><li>'65-74'</li><li>'75+'</li></ol>\n"
      ],
      "text/latex": [
       "\\begin{enumerate*}\n",
       "\\item '25-34'\n",
       "\\item '35-44'\n",
       "\\item '45-54'\n",
       "\\item '55-64'\n",
       "\\item '65-74'\n",
       "\\item '75+'\n",
       "\\end{enumerate*}\n"
      ],
      "text/markdown": [
       "1. '25-34'\n",
       "2. '35-44'\n",
       "3. '45-54'\n",
       "4. '55-64'\n",
       "5. '65-74'\n",
       "6. '75+'\n",
       "\n",
       "\n"
      ],
      "text/plain": [
       "[1] \"25-34\" \"35-44\" \"45-54\" \"55-64\" \"65-74\" \"75+\"  "
      ]
     },
     "metadata": {},
     "output_type": "display_data"
    },
    {
     "data": {
      "text/html": [
       "<style>\n",
       ".list-inline {list-style: none; margin:0; padding: 0}\n",
       ".list-inline>li {display: inline-block}\n",
       ".list-inline>li:not(:last-child)::after {content: \"\\00b7\"; padding: 0 .5ex}\n",
       "</style>\n",
       "<ol class=list-inline><li>'0-39g/day'</li><li>'120+'</li><li>'40-79'</li><li>'80-119'</li></ol>\n"
      ],
      "text/latex": [
       "\\begin{enumerate*}\n",
       "\\item '0-39g/day'\n",
       "\\item '120+'\n",
       "\\item '40-79'\n",
       "\\item '80-119'\n",
       "\\end{enumerate*}\n"
      ],
      "text/markdown": [
       "1. '0-39g/day'\n",
       "2. '120+'\n",
       "3. '40-79'\n",
       "4. '80-119'\n",
       "\n",
       "\n"
      ],
      "text/plain": [
       "[1] \"0-39g/day\" \"120+\"      \"40-79\"     \"80-119\"   "
      ]
     },
     "metadata": {},
     "output_type": "display_data"
    },
    {
     "data": {
      "text/html": [
       "<style>\n",
       ".list-inline {list-style: none; margin:0; padding: 0}\n",
       ".list-inline>li {display: inline-block}\n",
       ".list-inline>li:not(:last-child)::after {content: \"\\00b7\"; padding: 0 .5ex}\n",
       "</style>\n",
       "<ol class=list-inline><li>'0-9g/day'</li><li>'10-19'</li><li>'20-29'</li><li>'30+'</li></ol>\n"
      ],
      "text/latex": [
       "\\begin{enumerate*}\n",
       "\\item '0-9g/day'\n",
       "\\item '10-19'\n",
       "\\item '20-29'\n",
       "\\item '30+'\n",
       "\\end{enumerate*}\n"
      ],
      "text/markdown": [
       "1. '0-9g/day'\n",
       "2. '10-19'\n",
       "3. '20-29'\n",
       "4. '30+'\n",
       "\n",
       "\n"
      ],
      "text/plain": [
       "[1] \"0-9g/day\" \"10-19\"    \"20-29\"    \"30+\"     "
      ]
     },
     "metadata": {},
     "output_type": "display_data"
    }
   ],
   "source": [
    "levels(dfcancer$agegp)\n",
    "levels(dfcancer$alcgp)\n",
    "levels(dfcancer$tobgp)"
   ]
  },
  {
   "cell_type": "code",
   "execution_count": 16,
   "metadata": {},
   "outputs": [
    {
     "data": {
      "text/plain": [
       "\n",
       "Call:\n",
       "lm(formula = ratio ~ agegp + alcgp + tobgp, data = dfcancer)\n",
       "\n",
       "Residuals:\n",
       "     Min       1Q   Median       3Q      Max \n",
       "-0.29621 -0.06515  0.00698  0.06597  0.31965 \n",
       "\n",
       "Coefficients:\n",
       "            Estimate Std. Error t value Pr(>|t|)    \n",
       "(Intercept) -0.12180    0.04076  -2.988  0.00378 ** \n",
       "agegp35-44   0.04415    0.04128   1.069  0.28827    \n",
       "agegp45-54   0.20193    0.04054   4.980 3.87e-06 ***\n",
       "agegp55-64   0.26956    0.04054   6.649 4.00e-09 ***\n",
       "agegp65-74   0.27896    0.04128   6.758 2.50e-09 ***\n",
       "agegp75+     0.31439    0.04510   6.971 9.97e-10 ***\n",
       "alcgp120+    0.27536    0.03412   8.071 8.05e-12 ***\n",
       "alcgp40-79   0.09185    0.03332   2.756  0.00732 ** \n",
       "alcgp80-119  0.14994    0.03408   4.399 3.49e-05 ***\n",
       "tobgp10-19   0.02679    0.03252   0.824  0.41259    \n",
       "tobgp20-29   0.01178    0.03447   0.342  0.73354    \n",
       "tobgp30+     0.06648    0.03428   1.939  0.05620 .  \n",
       "---\n",
       "Signif. codes:  0 ‘***’ 0.001 ‘**’ 0.01 ‘*’ 0.05 ‘.’ 0.1 ‘ ’ 1\n",
       "\n",
       "Residual standard error: 0.1127 on 76 degrees of freedom\n",
       "Multiple R-squared:  0.6889,\tAdjusted R-squared:  0.6439 \n",
       "F-statistic:  15.3 on 11 and 76 DF,  p-value: 3.55e-15\n"
      ]
     },
     "metadata": {},
     "output_type": "display_data"
    }
   ],
   "source": [
    "summary(lm(data=dfcancer, ratio~agegp+alcgp+tobgp))"
   ]
  },
  {
   "cell_type": "code",
   "execution_count": 17,
   "metadata": {},
   "outputs": [
    {
     "data": {
      "text/html": [
       "<style>\n",
       ".list-inline {list-style: none; margin:0; padding: 0}\n",
       ".list-inline>li {display: inline-block}\n",
       ".list-inline>li:not(:last-child)::after {content: \"\\00b7\"; padding: 0 .5ex}\n",
       "</style>\n",
       "<ol class=list-inline><li>25-34</li><li>35-44</li><li>45-54</li><li>55-64</li><li>65-74</li><li>75+</li></ol>\n",
       "\n",
       "<details>\n",
       "\t<summary style=display:list-item;cursor:pointer>\n",
       "\t\t<strong>Levels</strong>:\n",
       "\t</summary>\n",
       "\t<style>\n",
       "\t.list-inline {list-style: none; margin:0; padding: 0}\n",
       "\t.list-inline>li {display: inline-block}\n",
       "\t.list-inline>li:not(:last-child)::after {content: \"\\00b7\"; padding: 0 .5ex}\n",
       "\t</style>\n",
       "\t<ol class=list-inline><li>'25-34'</li><li>'35-44'</li><li>'45-54'</li><li>'55-64'</li><li>'65-74'</li><li>'75+'</li></ol>\n",
       "</details>"
      ],
      "text/latex": [
       "\\begin{enumerate*}\n",
       "\\item 25-34\n",
       "\\item 35-44\n",
       "\\item 45-54\n",
       "\\item 55-64\n",
       "\\item 65-74\n",
       "\\item 75+\n",
       "\\end{enumerate*}\n",
       "\n",
       "\\emph{Levels}: \\begin{enumerate*}\n",
       "\\item '25-34'\n",
       "\\item '35-44'\n",
       "\\item '45-54'\n",
       "\\item '55-64'\n",
       "\\item '65-74'\n",
       "\\item '75+'\n",
       "\\end{enumerate*}\n"
      ],
      "text/markdown": [
       "1. 25-34\n",
       "2. 35-44\n",
       "3. 45-54\n",
       "4. 55-64\n",
       "5. 65-74\n",
       "6. 75+\n",
       "\n",
       "\n",
       "\n",
       "**Levels**: 1. '25-34'\n",
       "2. '35-44'\n",
       "3. '45-54'\n",
       "4. '55-64'\n",
       "5. '65-74'\n",
       "6. '75+'\n",
       "\n",
       "\n"
      ],
      "text/plain": [
       "[1] 25-34 35-44 45-54 55-64 65-74 75+  \n",
       "Levels: 25-34 35-44 45-54 55-64 65-74 75+"
      ]
     },
     "metadata": {},
     "output_type": "display_data"
    }
   ],
   "source": [
    "unique(dfcancer$agegp)\n",
    "ageVectors<-c(30,40,50,60,70,80)\n",
    "dfcancer$age<-ageVectors[as.numeric(dfcancer$age)]"
   ]
  },
  {
   "cell_type": "code",
   "execution_count": 18,
   "metadata": {},
   "outputs": [
    {
     "data": {
      "text/html": [
       "<style>\n",
       ".list-inline {list-style: none; margin:0; padding: 0}\n",
       ".list-inline>li {display: inline-block}\n",
       ".list-inline>li:not(:last-child)::after {content: \"\\00b7\"; padding: 0 .5ex}\n",
       "</style>\n",
       "<ol class=list-inline><li>0-39g/day</li><li>40-79</li><li>80-119</li><li>120+</li></ol>\n",
       "\n",
       "<details>\n",
       "\t<summary style=display:list-item;cursor:pointer>\n",
       "\t\t<strong>Levels</strong>:\n",
       "\t</summary>\n",
       "\t<style>\n",
       "\t.list-inline {list-style: none; margin:0; padding: 0}\n",
       "\t.list-inline>li {display: inline-block}\n",
       "\t.list-inline>li:not(:last-child)::after {content: \"\\00b7\"; padding: 0 .5ex}\n",
       "\t</style>\n",
       "\t<ol class=list-inline><li>'0-39g/day'</li><li>'120+'</li><li>'40-79'</li><li>'80-119'</li></ol>\n",
       "</details>"
      ],
      "text/latex": [
       "\\begin{enumerate*}\n",
       "\\item 0-39g/day\n",
       "\\item 40-79\n",
       "\\item 80-119\n",
       "\\item 120+\n",
       "\\end{enumerate*}\n",
       "\n",
       "\\emph{Levels}: \\begin{enumerate*}\n",
       "\\item '0-39g/day'\n",
       "\\item '120+'\n",
       "\\item '40-79'\n",
       "\\item '80-119'\n",
       "\\end{enumerate*}\n"
      ],
      "text/markdown": [
       "1. 0-39g/day\n",
       "2. 40-79\n",
       "3. 80-119\n",
       "4. 120+\n",
       "\n",
       "\n",
       "\n",
       "**Levels**: 1. '0-39g/day'\n",
       "2. '120+'\n",
       "3. '40-79'\n",
       "4. '80-119'\n",
       "\n",
       "\n"
      ],
      "text/plain": [
       "[1] 0-39g/day 40-79     80-119    120+     \n",
       "Levels: 0-39g/day 120+ 40-79 80-119"
      ]
     },
     "metadata": {},
     "output_type": "display_data"
    }
   ],
   "source": [
    "unique(dfcancer$alcgp)\n",
    "alcVectors<-c(20,60,100,130)\n",
    "dfcancer$alc<-alcVectors[as.numeric(dfcancer$alcgp)]"
   ]
  },
  {
   "cell_type": "code",
   "execution_count": 19,
   "metadata": {},
   "outputs": [
    {
     "data": {
      "text/html": [
       "<style>\n",
       ".list-inline {list-style: none; margin:0; padding: 0}\n",
       ".list-inline>li {display: inline-block}\n",
       ".list-inline>li:not(:last-child)::after {content: \"\\00b7\"; padding: 0 .5ex}\n",
       "</style>\n",
       "<ol class=list-inline><li>0-9g/day</li><li>10-19</li><li>20-29</li><li>30+</li></ol>\n",
       "\n",
       "<details>\n",
       "\t<summary style=display:list-item;cursor:pointer>\n",
       "\t\t<strong>Levels</strong>:\n",
       "\t</summary>\n",
       "\t<style>\n",
       "\t.list-inline {list-style: none; margin:0; padding: 0}\n",
       "\t.list-inline>li {display: inline-block}\n",
       "\t.list-inline>li:not(:last-child)::after {content: \"\\00b7\"; padding: 0 .5ex}\n",
       "\t</style>\n",
       "\t<ol class=list-inline><li>'0-9g/day'</li><li>'10-19'</li><li>'20-29'</li><li>'30+'</li></ol>\n",
       "</details>"
      ],
      "text/latex": [
       "\\begin{enumerate*}\n",
       "\\item 0-9g/day\n",
       "\\item 10-19\n",
       "\\item 20-29\n",
       "\\item 30+\n",
       "\\end{enumerate*}\n",
       "\n",
       "\\emph{Levels}: \\begin{enumerate*}\n",
       "\\item '0-9g/day'\n",
       "\\item '10-19'\n",
       "\\item '20-29'\n",
       "\\item '30+'\n",
       "\\end{enumerate*}\n"
      ],
      "text/markdown": [
       "1. 0-9g/day\n",
       "2. 10-19\n",
       "3. 20-29\n",
       "4. 30+\n",
       "\n",
       "\n",
       "\n",
       "**Levels**: 1. '0-9g/day'\n",
       "2. '10-19'\n",
       "3. '20-29'\n",
       "4. '30+'\n",
       "\n",
       "\n"
      ],
      "text/plain": [
       "[1] 0-9g/day 10-19    20-29    30+     \n",
       "Levels: 0-9g/day 10-19 20-29 30+"
      ]
     },
     "metadata": {},
     "output_type": "display_data"
    }
   ],
   "source": [
    "unique(dfcancer$tobgp)\n",
    "tobVectors<-c(5,15,25,35)\n",
    "dfcancer$tob<-alcVectors[as.numeric(dfcancer$tobgp)]"
   ]
  },
  {
   "cell_type": "markdown",
   "metadata": {},
   "source": [
    "Podemos intentar repetir el experimento buscando relaciones lineales:"
   ]
  },
  {
   "cell_type": "code",
   "execution_count": 20,
   "metadata": {},
   "outputs": [
    {
     "data": {
      "text/plain": [
       "\n",
       "Call:\n",
       "lm(formula = ratio ~ age + alc + tob, data = dfcancer)\n",
       "\n",
       "Residuals:\n",
       "     Min       1Q   Median       3Q      Max \n",
       "-0.41638 -0.09253 -0.03781  0.08151  0.47264 \n",
       "\n",
       "Coefficients:\n",
       "              Estimate Std. Error t value Pr(>|t|)    \n",
       "(Intercept) -0.2509386  0.0706451  -3.552  0.00063 ***\n",
       "age          0.0067830  0.0009814   6.912 8.66e-10 ***\n",
       "alc          0.0007997  0.0003866   2.068  0.04168 *  \n",
       "tob          0.0004470  0.0003888   1.150  0.25355    \n",
       "---\n",
       "Signif. codes:  0 ‘***’ 0.001 ‘**’ 0.01 ‘*’ 0.05 ‘.’ 0.1 ‘ ’ 1\n",
       "\n",
       "Residual standard error: 0.1507 on 84 degrees of freedom\n",
       "Multiple R-squared:  0.3849,\tAdjusted R-squared:  0.363 \n",
       "F-statistic: 17.52 on 3 and 84 DF,  p-value: 6.351e-09\n"
      ]
     },
     "metadata": {},
     "output_type": "display_data"
    }
   ],
   "source": [
    "summary(lm(data=dfcancer, ratio~age+alc+tob))"
   ]
  },
  {
   "cell_type": "code",
   "execution_count": 21,
   "metadata": {},
   "outputs": [
    {
     "data": {
      "text/plain": [
       "\n",
       "Call:\n",
       "lm(formula = ratio ~ alc * tob, data = dfcancer)\n",
       "\n",
       "Residuals:\n",
       "     Min       1Q   Median       3Q      Max \n",
       "-0.27226 -0.16980  0.00088  0.14352  0.31718 \n",
       "\n",
       "Coefficients:\n",
       "             Estimate Std. Error t value Pr(>|t|)\n",
       "(Intercept) 1.377e-01  8.692e-02   1.584    0.117\n",
       "alc         6.738e-04  9.901e-04   0.681    0.498\n",
       "tob         1.235e-04  1.009e-03   0.122    0.903\n",
       "alc:tob     1.827e-06  1.155e-05   0.158    0.875\n",
       "\n",
       "Residual standard error: 0.1887 on 84 degrees of freedom\n",
       "Multiple R-squared:  0.03543,\tAdjusted R-squared:  0.0009815 \n",
       "F-statistic: 1.028 on 3 and 84 DF,  p-value: 0.3843\n"
      ]
     },
     "metadata": {},
     "output_type": "display_data"
    }
   ],
   "source": [
    "summary(lm(data=dfcancer, ratio~alc*tob))\n",
    "#y = alc*c1+tob*c2+alc*tob*c3+c0"
   ]
  },
  {
   "cell_type": "markdown",
   "metadata": {},
   "source": [
    "# Crimen\n",
    "\n",
    "Este conjunto de datos brinda una variedad de variables según el estado de los EE. UU. En dos momentos con una diferencia de 10 años.\n",
    "Las columnas que acaban en 10 contienen los datos de 10 años después.\n",
    "Origen de datos [aquí](https://www.sheffield.ac.uk/mash/data)."
   ]
  },
  {
   "cell_type": "code",
   "execution_count": 22,
   "metadata": {},
   "outputs": [
    {
     "name": "stdout",
     "output_type": "stream",
     "text": [
      "'data.frame':\t47 obs. of  27 variables:\n",
      " $ CrimeRate          : num  45.5 52.3 56.6 60.3 64.2 67.6 70.5 73.2 75 78.1 ...\n",
      " $ Youth              : int  135 140 157 139 126 128 130 143 141 133 ...\n",
      " $ Southern           : int  0 0 1 1 0 0 0 0 0 0 ...\n",
      " $ Education          : num  12.4 10.9 11.2 11.9 12.2 13.5 14.1 12.9 12.9 11.4 ...\n",
      " $ ExpenditureYear0   : int  69 55 47 46 106 67 63 66 56 51 ...\n",
      " $ LabourForce        : int  540 535 512 480 599 624 641 537 523 599 ...\n",
      " $ Males              : int  965 1045 962 968 989 972 984 977 968 1024 ...\n",
      " $ MoreMales          : int  0 1 0 0 0 0 0 0 0 1 ...\n",
      " $ StateSize          : int  6 6 22 19 40 28 14 10 4 7 ...\n",
      " $ YouthUnemployment  : int  80 135 97 135 78 77 70 114 107 99 ...\n",
      " $ MatureUnemployment : int  22 40 34 53 25 25 21 35 37 27 ...\n",
      " $ HighYouthUnemploy  : int  1 1 0 0 1 1 1 1 0 1 ...\n",
      " $ Wage               : int  564 453 288 457 593 507 486 487 489 425 ...\n",
      " $ BelowWage          : int  139 200 276 249 171 206 196 166 170 225 ...\n",
      " $ CrimeRate10        : num  26.5 35.9 37.1 42.7 46.7 47.9 50.6 55.9 61.8 65.4 ...\n",
      " $ Youth10            : int  135 135 153 139 125 128 153 143 153 134 ...\n",
      " $ Education10        : num  12.5 10.9 11 11.8 12.2 13.8 14.1 13 12.9 11.2 ...\n",
      " $ ExpenditureYear10  : int  71 54 44 41 97 60 57 63 54 47 ...\n",
      " $ LabourForce10      : int  564 540 529 497 602 621 641 549 538 600 ...\n",
      " $ Males10            : int  974 1039 959 983 989 983 993 973 968 1024 ...\n",
      " $ MoreMales10        : int  0 1 0 0 0 0 0 0 0 1 ...\n",
      " $ StateSize10        : int  6 7 24 20 42 28 14 11 5 7 ...\n",
      " $ YouthUnemploy10    : int  82 138 98 131 79 81 71 119 110 97 ...\n",
      " $ MatureUnemploy10   : int  20 39 33 50 24 24 23 36 36 28 ...\n",
      " $ HighYouthUnemploy10: int  1 1 0 0 1 1 1 1 1 1 ...\n",
      " $ Wage10             : int  632 521 359 510 660 571 556 561 550 499 ...\n",
      " $ BelowWage10        : int  142 210 256 235 162 199 176 168 126 215 ...\n"
     ]
    }
   ],
   "source": [
    "crime<-read.csv(\"data/stcp-Rdataset-Crime.csv\")\n",
    "str(crime)"
   ]
  },
  {
   "cell_type": "markdown",
   "metadata": {},
   "source": [
    "¿Tienen los estados del sur una mayor criminalidad?"
   ]
  },
  {
   "cell_type": "code",
   "execution_count": 23,
   "metadata": {},
   "outputs": [
    {
     "data": {
      "text/html": [
       "100.68125"
      ],
      "text/latex": [
       "100.68125"
      ],
      "text/markdown": [
       "100.68125"
      ],
      "text/plain": [
       "[1] 100.6813"
      ]
     },
     "metadata": {},
     "output_type": "display_data"
    },
    {
     "data": {
      "text/html": [
       "103.906451612903"
      ],
      "text/latex": [
       "103.906451612903"
      ],
      "text/markdown": [
       "103.906451612903"
      ],
      "text/plain": [
       "[1] 103.9065"
      ]
     },
     "metadata": {},
     "output_type": "display_data"
    }
   ],
   "source": [
    "mean(crime$CrimeRate[crime$Southern==1])\n",
    "mean(crime$CrimeRate[crime$Southern==0])"
   ]
  },
  {
   "cell_type": "code",
   "execution_count": 24,
   "metadata": {},
   "outputs": [
    {
     "data": {
      "text/html": [
       "0.660729952557573"
      ],
      "text/latex": [
       "0.660729952557573"
      ],
      "text/markdown": [
       "0.660729952557573"
      ],
      "text/plain": [
       "[1] 0.66073"
      ]
     },
     "metadata": {},
     "output_type": "display_data"
    },
    {
     "data": {
      "text/html": [
       "0.569829643998543"
      ],
      "text/latex": [
       "0.569829643998543"
      ],
      "text/markdown": [
       "0.569829643998543"
      ],
      "text/plain": [
       "[1] 0.5698296"
      ]
     },
     "metadata": {},
     "output_type": "display_data"
    },
    {
     "data": {
      "text/plain": [
       "\n",
       "\tWelch Two Sample t-test\n",
       "\n",
       "data:  crime$CrimeRate[crime$Southern == 0] and crime$CrimeRate[crime$Southern == 1]\n",
       "t = 0.40055, df = 40.428, p-value = 0.6546\n",
       "alternative hypothesis: true difference in means is less than 0\n",
       "95 percent confidence interval:\n",
       "     -Inf 16.78009\n",
       "sample estimates:\n",
       "mean of x mean of y \n",
       " 103.9065  100.6813 \n"
      ]
     },
     "metadata": {},
     "output_type": "display_data"
    }
   ],
   "source": [
    "shapiro.test(crime$CrimeRate[crime$Southern==1])$p.value\n",
    "shapiro.test(crime$CrimeRate[crime$Southern==0])$p.value\n",
    "\n",
    "t.test(crime$CrimeRate[crime$Southern==0],crime$CrimeRate[crime$Southern==1],alternative = \"less\")"
   ]
  },
  {
   "cell_type": "markdown",
   "metadata": {},
   "source": [
    "¿Tienen los estados del norte una mayor criminalidad?"
   ]
  },
  {
   "cell_type": "code",
   "execution_count": 25,
   "metadata": {},
   "outputs": [
    {
     "data": {
      "text/plain": [
       "\n",
       "\tWelch Two Sample t-test\n",
       "\n",
       "data:  crime$CrimeRate[crime$Southern == 0] and crime$CrimeRate[crime$Southern == 1]\n",
       "t = 0.40055, df = 40.428, p-value = 0.3454\n",
       "alternative hypothesis: true difference in means is greater than 0\n",
       "95 percent confidence interval:\n",
       " -10.32969       Inf\n",
       "sample estimates:\n",
       "mean of x mean of y \n",
       " 103.9065  100.6813 \n"
      ]
     },
     "metadata": {},
     "output_type": "display_data"
    }
   ],
   "source": [
    "t.test(crime$CrimeRate[crime$Southern==0],crime$CrimeRate[crime$Southern==1],alternative = \"greater\")"
   ]
  },
  {
   "cell_type": "markdown",
   "metadata": {},
   "source": [
    "Relación entre el crimen, el gasto policial y el número de personas por debajo del salario mínimo."
   ]
  },
  {
   "cell_type": "code",
   "execution_count": 26,
   "metadata": {},
   "outputs": [
    {
     "data": {
      "text/html": [
       "<table>\n",
       "<caption>A matrix: 3 × 3 of type dbl</caption>\n",
       "<thead>\n",
       "\t<tr><th></th><th scope=col>CrimeRate</th><th scope=col>ExpenditureYear0</th><th scope=col>BelowWage</th></tr>\n",
       "</thead>\n",
       "<tbody>\n",
       "\t<tr><th scope=row>CrimeRate</th><td> 1.0000000</td><td> 0.6462106</td><td>-0.1673177</td></tr>\n",
       "\t<tr><th scope=row>ExpenditureYear0</th><td> 0.6462106</td><td> 1.0000000</td><td>-0.6305003</td></tr>\n",
       "\t<tr><th scope=row>BelowWage</th><td>-0.1673177</td><td>-0.6305003</td><td> 1.0000000</td></tr>\n",
       "</tbody>\n",
       "</table>\n"
      ],
      "text/latex": [
       "A matrix: 3 × 3 of type dbl\n",
       "\\begin{tabular}{r|lll}\n",
       "  & CrimeRate & ExpenditureYear0 & BelowWage\\\\\n",
       "\\hline\n",
       "\tCrimeRate &  1.0000000 &  0.6462106 & -0.1673177\\\\\n",
       "\tExpenditureYear0 &  0.6462106 &  1.0000000 & -0.6305003\\\\\n",
       "\tBelowWage & -0.1673177 & -0.6305003 &  1.0000000\\\\\n",
       "\\end{tabular}\n"
      ],
      "text/markdown": [
       "\n",
       "A matrix: 3 × 3 of type dbl\n",
       "\n",
       "| <!--/--> | CrimeRate | ExpenditureYear0 | BelowWage |\n",
       "|---|---|---|---|\n",
       "| CrimeRate |  1.0000000 |  0.6462106 | -0.1673177 |\n",
       "| ExpenditureYear0 |  0.6462106 |  1.0000000 | -0.6305003 |\n",
       "| BelowWage | -0.1673177 | -0.6305003 |  1.0000000 |\n",
       "\n"
      ],
      "text/plain": [
       "                 CrimeRate  ExpenditureYear0 BelowWage \n",
       "CrimeRate         1.0000000  0.6462106       -0.1673177\n",
       "ExpenditureYear0  0.6462106  1.0000000       -0.6305003\n",
       "BelowWage        -0.1673177 -0.6305003        1.0000000"
      ]
     },
     "metadata": {},
     "output_type": "display_data"
    },
    {
     "data": {
      "text/html": [
       "<table>\n",
       "<caption>A matrix: 3 × 3 of type dbl</caption>\n",
       "<thead>\n",
       "\t<tr><th></th><th scope=col>CrimeRate10</th><th scope=col>ExpenditureYear10</th><th scope=col>BelowWage10</th></tr>\n",
       "</thead>\n",
       "<tbody>\n",
       "\t<tr><th scope=row>CrimeRate10</th><td> 1.00000000</td><td> 0.6306089</td><td>-0.06596506</td></tr>\n",
       "\t<tr><th scope=row>ExpenditureYear10</th><td> 0.63060885</td><td> 1.0000000</td><td>-0.55263959</td></tr>\n",
       "\t<tr><th scope=row>BelowWage10</th><td>-0.06596506</td><td>-0.5526396</td><td> 1.00000000</td></tr>\n",
       "</tbody>\n",
       "</table>\n"
      ],
      "text/latex": [
       "A matrix: 3 × 3 of type dbl\n",
       "\\begin{tabular}{r|lll}\n",
       "  & CrimeRate10 & ExpenditureYear10 & BelowWage10\\\\\n",
       "\\hline\n",
       "\tCrimeRate10 &  1.00000000 &  0.6306089 & -0.06596506\\\\\n",
       "\tExpenditureYear10 &  0.63060885 &  1.0000000 & -0.55263959\\\\\n",
       "\tBelowWage10 & -0.06596506 & -0.5526396 &  1.00000000\\\\\n",
       "\\end{tabular}\n"
      ],
      "text/markdown": [
       "\n",
       "A matrix: 3 × 3 of type dbl\n",
       "\n",
       "| <!--/--> | CrimeRate10 | ExpenditureYear10 | BelowWage10 |\n",
       "|---|---|---|---|\n",
       "| CrimeRate10 |  1.00000000 |  0.6306089 | -0.06596506 |\n",
       "| ExpenditureYear10 |  0.63060885 |  1.0000000 | -0.55263959 |\n",
       "| BelowWage10 | -0.06596506 | -0.5526396 |  1.00000000 |\n",
       "\n"
      ],
      "text/plain": [
       "                  CrimeRate10 ExpenditureYear10 BelowWage10\n",
       "CrimeRate10        1.00000000  0.6306089        -0.06596506\n",
       "ExpenditureYear10  0.63060885  1.0000000        -0.55263959\n",
       "BelowWage10       -0.06596506 -0.5526396         1.00000000"
      ]
     },
     "metadata": {},
     "output_type": "display_data"
    }
   ],
   "source": [
    "cor(crime[,c(\"CrimeRate\",\"ExpenditureYear0\",\"BelowWage\")])\n",
    "cor(crime[,c(\"CrimeRate10\",\"ExpenditureYear10\",\"BelowWage10\")])"
   ]
  },
  {
   "cell_type": "markdown",
   "metadata": {},
   "source": [
    "¿Puede el número de personas debajo del salario mínimo predecir el crimen?"
   ]
  },
  {
   "cell_type": "code",
   "execution_count": 27,
   "metadata": {},
   "outputs": [
    {
     "data": {
      "image/png": "[encoded data removed]",
      "text/plain": [
       "plot without title"
      ]
     },
     "metadata": {
      "image/png": {
       "height": 240,
       "width": 360
      },
      "text/plain": {
       "height": 240,
       "width": 360
      }
     },
     "output_type": "display_data"
    }
   ],
   "source": [
    "plot(crime$BelowWage, crime$CrimeRate)"
   ]
  },
  {
   "cell_type": "code",
   "execution_count": 28,
   "metadata": {},
   "outputs": [
    {
     "data": {
      "text/plain": [
       "\n",
       "Call:\n",
       "lm(formula = CrimeRate ~ BelowWage, data = crime)\n",
       "\n",
       "Residuals:\n",
       "    Min      1Q  Median      3Q     Max \n",
       "-63.973 -20.573   2.099  19.615  53.902 \n",
       "\n",
       "Coefficients:\n",
       "            Estimate Std. Error t value Pr(>|t|)    \n",
       "(Intercept) 126.3162    21.0719   5.995 3.18e-07 ***\n",
       "BelowWage    -0.1212     0.1064  -1.138    0.261    \n",
       "---\n",
       "Signif. codes:  0 ‘***’ 0.001 ‘**’ 0.01 ‘*’ 0.05 ‘.’ 0.1 ‘ ’ 1\n",
       "\n",
       "Residual standard error: 28.8 on 45 degrees of freedom\n",
       "Multiple R-squared:  0.028,\tAdjusted R-squared:  0.006395 \n",
       "F-statistic: 1.296 on 1 and 45 DF,  p-value: 0.261\n"
      ]
     },
     "metadata": {},
     "output_type": "display_data"
    }
   ],
   "source": [
    "summary(lm(data=crime,CrimeRate~BelowWage))"
   ]
  },
  {
   "cell_type": "markdown",
   "metadata": {},
   "source": [
    "¿Qué variables pueden afectar más al crimen?"
   ]
  },
  {
   "cell_type": "code",
   "execution_count": 29,
   "metadata": {},
   "outputs": [
    {
     "data": {
      "image/png": "[encoded data removed]",
      "text/plain": [
       "plot without title"
      ]
     },
     "metadata": {
      "image/png": {
       "height": 240,
       "width": 360
      },
      "text/plain": {
       "height": 240,
       "width": 360
      }
     },
     "output_type": "display_data"
    }
   ],
   "source": [
    "plot(crime$Youth, crime$CrimeRate)"
   ]
  },
  {
   "cell_type": "code",
   "execution_count": 30,
   "metadata": {},
   "outputs": [
    {
     "data": {
      "text/plain": [
       "\n",
       "Call:\n",
       "lm(formula = CrimeRate ~ Youth + Wage, data = crime)\n",
       "\n",
       "Residuals:\n",
       "    Min      1Q  Median      3Q     Max \n",
       "-62.026 -16.675  -1.895  18.695  61.105 \n",
       "\n",
       "Coefficients:\n",
       "              Estimate Std. Error t value Pr(>|t|)    \n",
       "(Intercept) -140.75646   76.07393  -1.850 0.070998 .  \n",
       "Youth          0.95825    0.39722   2.412 0.020084 *  \n",
       "Wage           0.21085    0.05174   4.075 0.000189 ***\n",
       "---\n",
       "Signif. codes:  0 ‘***’ 0.001 ‘**’ 0.01 ‘*’ 0.05 ‘.’ 0.1 ‘ ’ 1\n",
       "\n",
       "Residual standard error: 25.13 on 44 degrees of freedom\n",
       "Multiple R-squared:  0.2762,\tAdjusted R-squared:  0.2433 \n",
       "F-statistic: 8.396 on 2 and 44 DF,  p-value: 0.0008151\n"
      ]
     },
     "metadata": {},
     "output_type": "display_data"
    }
   ],
   "source": [
    "summary(lm(data=crime,CrimeRate~Youth+Wage))"
   ]
  },
  {
   "cell_type": "code",
   "execution_count": 31,
   "metadata": {},
   "outputs": [
    {
     "data": {
      "text/plain": [
       "\n",
       "Call:\n",
       "lm(formula = CrimeRate ~ Males + Youth + LabourForce + YouthUnemployment + \n",
       "    Wage, data = crime)\n",
       "\n",
       "Residuals:\n",
       "    Min      1Q  Median      3Q     Max \n",
       "-61.051 -18.083  -4.313  19.298  61.407 \n",
       "\n",
       "Coefficients:\n",
       "                    Estimate Std. Error t value Pr(>|t|)    \n",
       "(Intercept)       -1.785e+02  1.432e+02  -1.246 0.219908    \n",
       "Males              3.857e-02  1.941e-01   0.199 0.843479    \n",
       "Youth              9.408e-01  4.505e-01   2.088 0.043006 *  \n",
       "LabourForce        8.533e-03  1.370e-01   0.062 0.950645    \n",
       "YouthUnemployment -1.259e-03  2.895e-01  -0.004 0.996552    \n",
       "Wage               2.062e-01  5.657e-02   3.645 0.000746 ***\n",
       "---\n",
       "Signif. codes:  0 ‘***’ 0.001 ‘**’ 0.01 ‘*’ 0.05 ‘.’ 0.1 ‘ ’ 1\n",
       "\n",
       "Residual standard error: 26 on 41 degrees of freedom\n",
       "Multiple R-squared:  0.2782,\tAdjusted R-squared:  0.1902 \n",
       "F-statistic: 3.161 on 5 and 41 DF,  p-value: 0.01667\n"
      ]
     },
     "metadata": {},
     "output_type": "display_data"
    }
   ],
   "source": [
    "summary(lm(data=crime,CrimeRate~Males+Youth+LabourForce+YouthUnemployment+Wage))"
   ]
  },
  {
   "cell_type": "markdown",
   "metadata": {},
   "source": [
    "¿Han aumentado los crímenes en los últimos 10 años?"
   ]
  },
  {
   "cell_type": "code",
   "execution_count": 32,
   "metadata": {},
   "outputs": [
    {
     "data": {
      "text/html": [
       "0.850778647282379"
      ],
      "text/latex": [
       "0.850778647282379"
      ],
      "text/markdown": [
       "0.850778647282379"
      ],
      "text/plain": [
       "[1] 0.8507786"
      ]
     },
     "metadata": {},
     "output_type": "display_data"
    },
    {
     "data": {
      "text/html": [
       "0.673618110902625"
      ],
      "text/latex": [
       "0.673618110902625"
      ],
      "text/markdown": [
       "0.673618110902625"
      ],
      "text/plain": [
       "[1] 0.6736181"
      ]
     },
     "metadata": {},
     "output_type": "display_data"
    },
    {
     "data": {
      "text/plain": [
       "\n",
       "\tPaired t-test\n",
       "\n",
       "data:  crime$CrimeRate and crime$CrimeRate10\n",
       "t = 0.47082, df = 46, p-value = 0.64\n",
       "alternative hypothesis: true difference in means is not equal to 0\n",
       "95 percent confidence interval:\n",
       " -2.418114  3.894710\n",
       "sample estimates:\n",
       "mean of the differences \n",
       "              0.7382979 \n"
      ]
     },
     "metadata": {},
     "output_type": "display_data"
    }
   ],
   "source": [
    "shapiro.test(crime$CrimeRate)$p.value\n",
    "shapiro.test(crime$CrimeRate10)$p.value\n",
    "t.test(crime$CrimeRate,crime$CrimeRate10,paired = T)"
   ]
  },
  {
   "cell_type": "markdown",
   "metadata": {},
   "source": [
    "¿Es el gasto de policía más alto en el sur?"
   ]
  },
  {
   "cell_type": "code",
   "execution_count": 33,
   "metadata": {},
   "outputs": [
    {
     "data": {
      "text/html": [
       "0.0149950584445708"
      ],
      "text/latex": [
       "0.0149950584445708"
      ],
      "text/markdown": [
       "0.0149950584445708"
      ],
      "text/plain": [
       "[1] 0.01499506"
      ]
     },
     "metadata": {},
     "output_type": "display_data"
    },
    {
     "data": {
      "text/html": [
       "0.0532705922672127"
      ],
      "text/latex": [
       "0.0532705922672127"
      ],
      "text/markdown": [
       "0.0532705922672127"
      ],
      "text/plain": [
       "[1] 0.05327059"
      ]
     },
     "metadata": {},
     "output_type": "display_data"
    },
    {
     "name": "stderr",
     "output_type": "stream",
     "text": [
      "Warning message in wilcox.test.default(crime$ExpenditureYear0[crime$Southern == :\n",
      "“cannot compute exact p-value with ties”\n"
     ]
    },
    {
     "data": {
      "text/plain": [
       "\n",
       "\tWilcoxon rank sum test with continuity correction\n",
       "\n",
       "data:  crime$ExpenditureYear0[crime$Southern == 0] and crime$ExpenditureYear0[crime$Southern == 1]\n",
       "W = 368, p-value = 0.007278\n",
       "alternative hypothesis: true location shift is not equal to 0\n"
      ]
     },
     "metadata": {},
     "output_type": "display_data"
    },
    {
     "name": "stdout",
     "output_type": "stream",
     "text": [
      "[1] \"Gasto norte\"\n"
     ]
    },
    {
     "data": {
      "text/html": [
       "92.8709677419355"
      ],
      "text/latex": [
       "92.8709677419355"
      ],
      "text/markdown": [
       "92.8709677419355"
      ],
      "text/plain": [
       "[1] 92.87097"
      ]
     },
     "metadata": {},
     "output_type": "display_data"
    },
    {
     "name": "stdout",
     "output_type": "stream",
     "text": [
      "[1] \"Gasto sur\"\n"
     ]
    },
    {
     "data": {
      "text/html": [
       "69.75"
      ],
      "text/latex": [
       "69.75"
      ],
      "text/markdown": [
       "69.75"
      ],
      "text/plain": [
       "[1] 69.75"
      ]
     },
     "metadata": {},
     "output_type": "display_data"
    }
   ],
   "source": [
    "shapiro.test(crime$ExpenditureYear0[crime$Southern==1])$p.value\n",
    "shapiro.test(crime$ExpenditureYear0[crime$Southern==0])$p.value\n",
    "wilcox.test(crime$ExpenditureYear0[crime$Southern==0],            \n",
    "            crime$ExpenditureYear0[crime$Southern==1])\n",
    "print(\"Gasto norte\")\n",
    "mean(crime$ExpenditureYear0[crime$Southern==0])\n",
    "print(\"Gasto sur\")\n",
    "mean(crime$ExpenditureYear0[crime$Southern==1])"
   ]
  },
  {
   "cell_type": "markdown",
   "metadata": {},
   "source": [
    "# Churn rate\n",
    "\n",
    "Vamos a utilizar un dataset publicado por IBM para [watson analytics](https://www.ibm.com/communities/analytics/watson-analytics-blog/predictive-insights-in-the-telco-customer-churn-data-set/).\n",
    "\n",
    "\n",
    "En este ejemplo vamos a cargar el dataset proporcionado y ver si somos capaces de ver qué usuarios son los que corren más riesgo de irse.\n",
    "\n",
    "El conjunto de datos incluye información sobre:\n",
    "\n",
    "* Clientes que se fueron en el último mes: la columna se llama Churn\n",
    "* Servicios para los que se ha registrado cada cliente: teléfono, líneas múltiples, Internet, seguridad en línea, copia de seguridad en línea, protección de dispositivos, soporte técnico y transmisión de TV y películas\n",
    "* Información de la cuenta del cliente: cuánto tiempo han sido cliente (columna tenure), contrato, método de pago, facturación electrónica, cargos mensuales y cargos totales\n",
    "* Información demográfica sobre los clientes: sexo, rango de edad y si tienen socios y dependientes\n"
   ]
  },
  {
   "cell_type": "code",
   "execution_count": 34,
   "metadata": {},
   "outputs": [
    {
     "data": {
      "text/html": [
       "<table>\n",
       "<caption>A data.frame: 6 × 21</caption>\n",
       "<thead>\n",
       "\t<tr><th></th><th scope=col>customerID</th><th scope=col>gender</th><th scope=col>SeniorCitizen</th><th scope=col>Partner</th><th scope=col>Dependents</th><th scope=col>tenure</th><th scope=col>PhoneService</th><th scope=col>MultipleLines</th><th scope=col>InternetService</th><th scope=col>OnlineSecurity</th><th scope=col>⋯</th><th scope=col>DeviceProtection</th><th scope=col>TechSupport</th><th scope=col>StreamingTV</th><th scope=col>StreamingMovies</th><th scope=col>Contract</th><th scope=col>PaperlessBilling</th><th scope=col>PaymentMethod</th><th scope=col>MonthlyCharges</th><th scope=col>TotalCharges</th><th scope=col>Churn</th></tr>\n",
       "\t<tr><th></th><th scope=col>&lt;fct&gt;</th><th scope=col>&lt;fct&gt;</th><th scope=col>&lt;int&gt;</th><th scope=col>&lt;fct&gt;</th><th scope=col>&lt;fct&gt;</th><th scope=col>&lt;int&gt;</th><th scope=col>&lt;fct&gt;</th><th scope=col>&lt;fct&gt;</th><th scope=col>&lt;fct&gt;</th><th scope=col>&lt;fct&gt;</th><th scope=col>⋯</th><th scope=col>&lt;fct&gt;</th><th scope=col>&lt;fct&gt;</th><th scope=col>&lt;fct&gt;</th><th scope=col>&lt;fct&gt;</th><th scope=col>&lt;fct&gt;</th><th scope=col>&lt;fct&gt;</th><th scope=col>&lt;fct&gt;</th><th scope=col>&lt;dbl&gt;</th><th scope=col>&lt;dbl&gt;</th><th scope=col>&lt;fct&gt;</th></tr>\n",
       "</thead>\n",
       "<tbody>\n",
       "\t<tr><th scope=row>1</th><td>7590-VHVEG</td><td>Female</td><td>0</td><td>Yes</td><td>No</td><td> 1</td><td>No </td><td>No phone service</td><td>DSL        </td><td>No </td><td>⋯</td><td>No </td><td>No </td><td>No </td><td>No </td><td>Month-to-month</td><td>Yes</td><td>Electronic check         </td><td>29.85</td><td>  29.85</td><td>No </td></tr>\n",
       "\t<tr><th scope=row>2</th><td>5575-GNVDE</td><td>Male  </td><td>0</td><td>No </td><td>No</td><td>34</td><td>Yes</td><td>No              </td><td>DSL        </td><td>Yes</td><td>⋯</td><td>Yes</td><td>No </td><td>No </td><td>No </td><td>One year      </td><td>No </td><td>Mailed check             </td><td>56.95</td><td>1889.50</td><td>No </td></tr>\n",
       "\t<tr><th scope=row>3</th><td>3668-QPYBK</td><td>Male  </td><td>0</td><td>No </td><td>No</td><td> 2</td><td>Yes</td><td>No              </td><td>DSL        </td><td>Yes</td><td>⋯</td><td>No </td><td>No </td><td>No </td><td>No </td><td>Month-to-month</td><td>Yes</td><td>Mailed check             </td><td>53.85</td><td> 108.15</td><td>Yes</td></tr>\n",
       "\t<tr><th scope=row>4</th><td>7795-CFOCW</td><td>Male  </td><td>0</td><td>No </td><td>No</td><td>45</td><td>No </td><td>No phone service</td><td>DSL        </td><td>Yes</td><td>⋯</td><td>Yes</td><td>Yes</td><td>No </td><td>No </td><td>One year      </td><td>No </td><td>Bank transfer (automatic)</td><td>42.30</td><td>1840.75</td><td>No </td></tr>\n",
       "\t<tr><th scope=row>5</th><td>9237-HQITU</td><td>Female</td><td>0</td><td>No </td><td>No</td><td> 2</td><td>Yes</td><td>No              </td><td>Fiber optic</td><td>No </td><td>⋯</td><td>No </td><td>No </td><td>No </td><td>No </td><td>Month-to-month</td><td>Yes</td><td>Electronic check         </td><td>70.70</td><td> 151.65</td><td>Yes</td></tr>\n",
       "\t<tr><th scope=row>6</th><td>9305-CDSKC</td><td>Female</td><td>0</td><td>No </td><td>No</td><td> 8</td><td>Yes</td><td>Yes             </td><td>Fiber optic</td><td>No </td><td>⋯</td><td>Yes</td><td>No </td><td>Yes</td><td>Yes</td><td>Month-to-month</td><td>Yes</td><td>Electronic check         </td><td>99.65</td><td> 820.50</td><td>Yes</td></tr>\n",
       "</tbody>\n",
       "</table>\n"
      ],
      "text/latex": [
       "A data.frame: 6 × 21\n",
       "\\begin{tabular}{r|lllllllllllllllllllll}\n",
       "  & customerID & gender & SeniorCitizen & Partner & Dependents & tenure & PhoneService & MultipleLines & InternetService & OnlineSecurity & ⋯ & DeviceProtection & TechSupport & StreamingTV & StreamingMovies & Contract & PaperlessBilling & PaymentMethod & MonthlyCharges & TotalCharges & Churn\\\\\n",
       "  & <fct> & <fct> & <int> & <fct> & <fct> & <int> & <fct> & <fct> & <fct> & <fct> & ⋯ & <fct> & <fct> & <fct> & <fct> & <fct> & <fct> & <fct> & <dbl> & <dbl> & <fct>\\\\\n",
       "\\hline\n",
       "\t1 & 7590-VHVEG & Female & 0 & Yes & No &  1 & No  & No phone service & DSL         & No  & ⋯ & No  & No  & No  & No  & Month-to-month & Yes & Electronic check          & 29.85 &   29.85 & No \\\\\n",
       "\t2 & 5575-GNVDE & Male   & 0 & No  & No & 34 & Yes & No               & DSL         & Yes & ⋯ & Yes & No  & No  & No  & One year       & No  & Mailed check              & 56.95 & 1889.50 & No \\\\\n",
       "\t3 & 3668-QPYBK & Male   & 0 & No  & No &  2 & Yes & No               & DSL         & Yes & ⋯ & No  & No  & No  & No  & Month-to-month & Yes & Mailed check              & 53.85 &  108.15 & Yes\\\\\n",
       "\t4 & 7795-CFOCW & Male   & 0 & No  & No & 45 & No  & No phone service & DSL         & Yes & ⋯ & Yes & Yes & No  & No  & One year       & No  & Bank transfer (automatic) & 42.30 & 1840.75 & No \\\\\n",
       "\t5 & 9237-HQITU & Female & 0 & No  & No &  2 & Yes & No               & Fiber optic & No  & ⋯ & No  & No  & No  & No  & Month-to-month & Yes & Electronic check          & 70.70 &  151.65 & Yes\\\\\n",
       "\t6 & 9305-CDSKC & Female & 0 & No  & No &  8 & Yes & Yes              & Fiber optic & No  & ⋯ & Yes & No  & Yes & Yes & Month-to-month & Yes & Electronic check          & 99.65 &  820.50 & Yes\\\\\n",
       "\\end{tabular}\n"
      ],
      "text/markdown": [
       "\n",
       "A data.frame: 6 × 21\n",
       "\n",
       "| <!--/--> | customerID &lt;fct&gt; | gender &lt;fct&gt; | SeniorCitizen &lt;int&gt; | Partner &lt;fct&gt; | Dependents &lt;fct&gt; | tenure &lt;int&gt; | PhoneService &lt;fct&gt; | MultipleLines &lt;fct&gt; | InternetService &lt;fct&gt; | OnlineSecurity &lt;fct&gt; | ⋯ ⋯ | DeviceProtection &lt;fct&gt; | TechSupport &lt;fct&gt; | StreamingTV &lt;fct&gt; | StreamingMovies &lt;fct&gt; | Contract &lt;fct&gt; | PaperlessBilling &lt;fct&gt; | PaymentMethod &lt;fct&gt; | MonthlyCharges &lt;dbl&gt; | TotalCharges &lt;dbl&gt; | Churn &lt;fct&gt; |\n",
       "|---|---|---|---|---|---|---|---|---|---|---|---|---|---|---|---|---|---|---|---|---|---|\n",
       "| 1 | 7590-VHVEG | Female | 0 | Yes | No |  1 | No  | No phone service | DSL         | No  | ⋯ | No  | No  | No  | No  | Month-to-month | Yes | Electronic check          | 29.85 |   29.85 | No  |\n",
       "| 2 | 5575-GNVDE | Male   | 0 | No  | No | 34 | Yes | No               | DSL         | Yes | ⋯ | Yes | No  | No  | No  | One year       | No  | Mailed check              | 56.95 | 1889.50 | No  |\n",
       "| 3 | 3668-QPYBK | Male   | 0 | No  | No |  2 | Yes | No               | DSL         | Yes | ⋯ | No  | No  | No  | No  | Month-to-month | Yes | Mailed check              | 53.85 |  108.15 | Yes |\n",
       "| 4 | 7795-CFOCW | Male   | 0 | No  | No | 45 | No  | No phone service | DSL         | Yes | ⋯ | Yes | Yes | No  | No  | One year       | No  | Bank transfer (automatic) | 42.30 | 1840.75 | No  |\n",
       "| 5 | 9237-HQITU | Female | 0 | No  | No |  2 | Yes | No               | Fiber optic | No  | ⋯ | No  | No  | No  | No  | Month-to-month | Yes | Electronic check          | 70.70 |  151.65 | Yes |\n",
       "| 6 | 9305-CDSKC | Female | 0 | No  | No |  8 | Yes | Yes              | Fiber optic | No  | ⋯ | Yes | No  | Yes | Yes | Month-to-month | Yes | Electronic check          | 99.65 |  820.50 | Yes |\n",
       "\n"
      ],
      "text/plain": [
       "  customerID gender SeniorCitizen Partner Dependents tenure PhoneService\n",
       "1 7590-VHVEG Female 0             Yes     No          1     No          \n",
       "2 5575-GNVDE Male   0             No      No         34     Yes         \n",
       "3 3668-QPYBK Male   0             No      No          2     Yes         \n",
       "4 7795-CFOCW Male   0             No      No         45     No          \n",
       "5 9237-HQITU Female 0             No      No          2     Yes         \n",
       "6 9305-CDSKC Female 0             No      No          8     Yes         \n",
       "  MultipleLines    InternetService OnlineSecurity ⋯ DeviceProtection\n",
       "1 No phone service DSL             No             ⋯ No              \n",
       "2 No               DSL             Yes            ⋯ Yes             \n",
       "3 No               DSL             Yes            ⋯ No              \n",
       "4 No phone service DSL             Yes            ⋯ Yes             \n",
       "5 No               Fiber optic     No             ⋯ No              \n",
       "6 Yes              Fiber optic     No             ⋯ Yes             \n",
       "  TechSupport StreamingTV StreamingMovies Contract       PaperlessBilling\n",
       "1 No          No          No              Month-to-month Yes             \n",
       "2 No          No          No              One year       No              \n",
       "3 No          No          No              Month-to-month Yes             \n",
       "4 Yes         No          No              One year       No              \n",
       "5 No          No          No              Month-to-month Yes             \n",
       "6 No          Yes         Yes             Month-to-month Yes             \n",
       "  PaymentMethod             MonthlyCharges TotalCharges Churn\n",
       "1 Electronic check          29.85            29.85      No   \n",
       "2 Mailed check              56.95          1889.50      No   \n",
       "3 Mailed check              53.85           108.15      Yes  \n",
       "4 Bank transfer (automatic) 42.30          1840.75      No   \n",
       "5 Electronic check          70.70           151.65      Yes  \n",
       "6 Electronic check          99.65           820.50      Yes  "
      ]
     },
     "metadata": {},
     "output_type": "display_data"
    },
    {
     "name": "stdout",
     "output_type": "stream",
     "text": [
      "'data.frame':\t7043 obs. of  21 variables:\n",
      " $ customerID      : Factor w/ 7043 levels \"0002-ORFBO\",\"0003-MKNFE\",..: 5376 3963 2565 5536 6512 6552 1003 4771 5605 4535 ...\n",
      " $ gender          : Factor w/ 2 levels \"Female\",\"Male\": 1 2 2 2 1 1 2 1 1 2 ...\n",
      " $ SeniorCitizen   : int  0 0 0 0 0 0 0 0 0 0 ...\n",
      " $ Partner         : Factor w/ 2 levels \"No\",\"Yes\": 2 1 1 1 1 1 1 1 2 1 ...\n",
      " $ Dependents      : Factor w/ 2 levels \"No\",\"Yes\": 1 1 1 1 1 1 2 1 1 2 ...\n",
      " $ tenure          : int  1 34 2 45 2 8 22 10 28 62 ...\n",
      " $ PhoneService    : Factor w/ 2 levels \"No\",\"Yes\": 1 2 2 1 2 2 2 1 2 2 ...\n",
      " $ MultipleLines   : Factor w/ 3 levels \"No\",\"No phone service\",..: 2 1 1 2 1 3 3 2 3 1 ...\n",
      " $ InternetService : Factor w/ 3 levels \"DSL\",\"Fiber optic\",..: 1 1 1 1 2 2 2 1 2 1 ...\n",
      " $ OnlineSecurity  : Factor w/ 3 levels \"No\",\"No internet service\",..: 1 3 3 3 1 1 1 3 1 3 ...\n",
      " $ OnlineBackup    : Factor w/ 3 levels \"No\",\"No internet service\",..: 3 1 3 1 1 1 3 1 1 3 ...\n",
      " $ DeviceProtection: Factor w/ 3 levels \"No\",\"No internet service\",..: 1 3 1 3 1 3 1 1 3 1 ...\n",
      " $ TechSupport     : Factor w/ 3 levels \"No\",\"No internet service\",..: 1 1 1 3 1 1 1 1 3 1 ...\n",
      " $ StreamingTV     : Factor w/ 3 levels \"No\",\"No internet service\",..: 1 1 1 1 1 3 3 1 3 1 ...\n",
      " $ StreamingMovies : Factor w/ 3 levels \"No\",\"No internet service\",..: 1 1 1 1 1 3 1 1 3 1 ...\n",
      " $ Contract        : Factor w/ 3 levels \"Month-to-month\",..: 1 2 1 2 1 1 1 1 1 2 ...\n",
      " $ PaperlessBilling: Factor w/ 2 levels \"No\",\"Yes\": 2 1 2 1 2 2 2 1 2 1 ...\n",
      " $ PaymentMethod   : Factor w/ 4 levels \"Bank transfer (automatic)\",..: 3 4 4 1 3 3 2 4 3 1 ...\n",
      " $ MonthlyCharges  : num  29.9 57 53.9 42.3 70.7 ...\n",
      " $ TotalCharges    : num  29.9 1889.5 108.2 1840.8 151.7 ...\n",
      " $ Churn           : Factor w/ 2 levels \"No\",\"Yes\": 1 1 2 1 2 2 1 1 2 1 ...\n"
     ]
    }
   ],
   "source": [
    "dfchurn<-read.csv(\"data/WA_Fn-UseC_-Telco-Customer-Churn.csv\")\n",
    "head(dfchurn)\n",
    "str(dfchurn)"
   ]
  },
  {
   "cell_type": "markdown",
   "metadata": {},
   "source": [
    "Vemos que la mayor parte de las columnas son factores. Llama la atención la columna SeniorCitizen que parece numérica, veamos que valores tiene:"
   ]
  },
  {
   "cell_type": "code",
   "execution_count": 35,
   "metadata": {},
   "outputs": [
    {
     "data": {
      "text/html": [
       "<style>\n",
       ".list-inline {list-style: none; margin:0; padding: 0}\n",
       ".list-inline>li {display: inline-block}\n",
       ".list-inline>li:not(:last-child)::after {content: \"\\00b7\"; padding: 0 .5ex}\n",
       "</style>\n",
       "<ol class=list-inline><li>0</li><li>1</li></ol>\n"
      ],
      "text/latex": [
       "\\begin{enumerate*}\n",
       "\\item 0\n",
       "\\item 1\n",
       "\\end{enumerate*}\n"
      ],
      "text/markdown": [
       "1. 0\n",
       "2. 1\n",
       "\n",
       "\n"
      ],
      "text/plain": [
       "[1] 0 1"
      ]
     },
     "metadata": {},
     "output_type": "display_data"
    },
    {
     "data": {
      "text/plain": [
       "\n",
       "   0    1 \n",
       "5901 1142 "
      ]
     },
     "metadata": {},
     "output_type": "display_data"
    }
   ],
   "source": [
    "unique(dfchurn$SeniorCitizen)\n",
    "table(dfchurn$SeniorCitizen)"
   ]
  },
  {
   "cell_type": "markdown",
   "metadata": {},
   "source": [
    "Esta columna debería ser un factor, mirando otra parte de la documentación vemos que:\n",
    "\n",
    " 1 = Si es senior citizen\n",
    " \n",
    " 0 = No es senior citizen"
   ]
  },
  {
   "cell_type": "code",
   "execution_count": 36,
   "metadata": {},
   "outputs": [],
   "source": [
    "dfchurn$SeniorCitizen<-factor(dfchurn$SeniorCitizen,labels = c(\"No\",\"Yes\"))"
   ]
  },
  {
   "cell_type": "markdown",
   "metadata": {},
   "source": [
    "Eliminamso la columna customerID porque no nos hace falta"
   ]
  },
  {
   "cell_type": "code",
   "execution_count": 37,
   "metadata": {},
   "outputs": [],
   "source": [
    "dfchurn$customerID<-NULL"
   ]
  },
  {
   "cell_type": "markdown",
   "metadata": {},
   "source": [
    "## Comprobamos con la Edad"
   ]
  },
  {
   "cell_type": "markdown",
   "metadata": {},
   "source": [
    "¿Son las personas mayores más o menos propensas a dejar la compañía?"
   ]
  },
  {
   "cell_type": "code",
   "execution_count": 38,
   "metadata": {},
   "outputs": [
    {
     "data": {
      "text/html": [
       "5901"
      ],
      "text/latex": [
       "5901"
      ],
      "text/markdown": [
       "5901"
      ],
      "text/plain": [
       "[1] 5901"
      ]
     },
     "metadata": {},
     "output_type": "display_data"
    }
   ],
   "source": [
    "sum(dfchurn$SeniorCitizen==\"No\")"
   ]
  },
  {
   "cell_type": "code",
   "execution_count": 39,
   "metadata": {},
   "outputs": [
    {
     "data": {
      "text/plain": [
       "             Churn\n",
       "SeniorCitizen   No  Yes\n",
       "          No  4508 1393\n",
       "          Yes  666  476"
      ]
     },
     "metadata": {},
     "output_type": "display_data"
    }
   ],
   "source": [
    "tseniorchurn<-table(dfchurn[,c(\"SeniorCitizen\",\"Churn\")])\n",
    "tseniorchurn"
   ]
  },
  {
   "cell_type": "markdown",
   "metadata": {},
   "source": [
    "Calculamos probabilidades condicionales.\n",
    "\n",
    "Si nos fijamos únicamente en los ciudadanos senior, ¿cual es la probabilidad de que dejen la compañía?\n",
    "\n",
    "$P(Churn=1 \\mid Senior=1)=\\frac{476}{666+476}=0.42$\n",
    "\n",
    "Si nos fijamos únicamente en los ciudadanos jóvenes, ¿cual es la probabilidad de que dejen la compañía?\n",
    "\n",
    "$P(Churn=1 \\mid Senior=0)=\\frac{1393}{4508+1393}=0.23$"
   ]
  },
  {
   "cell_type": "code",
   "execution_count": 40,
   "metadata": {},
   "outputs": [
    {
     "data": {
      "text/plain": [
       "             Churn\n",
       "SeniorCitizen        No       Yes\n",
       "          No  0.7639383 0.2360617\n",
       "          Yes 0.5831874 0.4168126"
      ]
     },
     "metadata": {},
     "output_type": "display_data"
    },
    {
     "data": {
      "text/html": [
       "'La probabilidad de que un Senior Citizen deje la compañía es: 0.416812609457093'"
      ],
      "text/latex": [
       "'La probabilidad de que un Senior Citizen deje la compañía es: 0.416812609457093'"
      ],
      "text/markdown": [
       "'La probabilidad de que un Senior Citizen deje la compañía es: 0.416812609457093'"
      ],
      "text/plain": [
       "[1] \"La probabilidad de que un Senior Citizen deje la compañía es: 0.416812609457093\""
      ]
     },
     "metadata": {},
     "output_type": "display_data"
    },
    {
     "data": {
      "text/html": [
       "'La probabilidad de que un Cliente joven deje la compañía es: 0.236061684460261'"
      ],
      "text/latex": [
       "'La probabilidad de que un Cliente joven deje la compañía es: 0.236061684460261'"
      ],
      "text/markdown": [
       "'La probabilidad de que un Cliente joven deje la compañía es: 0.236061684460261'"
      ],
      "text/plain": [
       "[1] \"La probabilidad de que un Cliente joven deje la compañía es: 0.236061684460261\""
      ]
     },
     "metadata": {},
     "output_type": "display_data"
    }
   ],
   "source": [
    "tseniorchurnm<-prop.table(tseniorchurn,margin = 1)\n",
    "tseniorchurnm\n",
    "\n",
    "paste(\"La probabilidad de que un Senior Citizen deje la compañía es:\",tseniorchurnm[2,2])\n",
    "paste(\"La probabilidad de que un Cliente joven deje la compañía es:\",tseniorchurnm[1,2])"
   ]
  },
  {
   "cell_type": "markdown",
   "metadata": {},
   "source": [
    "¿Es esta diferencia en la matriz de conteos estadísticamente significativa para decir que la probabilidad de que un ciudadano mayor abandone la compañia es más alta? Sí, porque su p-valor es muy bajo."
   ]
  },
  {
   "cell_type": "code",
   "execution_count": 41,
   "metadata": {},
   "outputs": [
    {
     "data": {
      "text/plain": [
       "\n",
       "\tPearson's Chi-squared test with Yates' continuity correction\n",
       "\n",
       "data:  tseniorchurn\n",
       "X-squared = 159.43, df = 1, p-value < 2.2e-16\n"
      ]
     },
     "metadata": {},
     "output_type": "display_data"
    }
   ],
   "source": [
    "chisq.test(tseniorchurn)"
   ]
  },
  {
   "cell_type": "markdown",
   "metadata": {},
   "source": [
    "Podemos pintarlo con barras de error:"
   ]
  },
  {
   "cell_type": "code",
   "execution_count": 42,
   "metadata": {},
   "outputs": [
    {
     "name": "stdout",
     "output_type": "stream",
     "text": [
      "[1] \"Probabilidad de permanencia de un ciudadano joven:\"\n"
     ]
    },
    {
     "data": {
      "text/html": [
       "<strong>probability of success:</strong> 0.763938315539739"
      ],
      "text/latex": [
       "\\textbf{probability of success:} 0.763938315539739"
      ],
      "text/markdown": [
       "**probability of success:** 0.763938315539739"
      ],
      "text/plain": [
       "probability of success \n",
       "             0.7639383 "
      ]
     },
     "metadata": {},
     "output_type": "display_data"
    },
    {
     "data": {
      "text/html": [
       "<style>\n",
       ".list-inline {list-style: none; margin:0; padding: 0}\n",
       ".list-inline>li {display: inline-block}\n",
       ".list-inline>li:not(:last-child)::after {content: \"\\00b7\"; padding: 0 .5ex}\n",
       "</style>\n",
       "<ol class=list-inline><li>0.75288966918025</li><li>0.774725438468526</li></ol>\n"
      ],
      "text/latex": [
       "\\begin{enumerate*}\n",
       "\\item 0.75288966918025\n",
       "\\item 0.774725438468526\n",
       "\\end{enumerate*}\n"
      ],
      "text/markdown": [
       "1. 0.75288966918025\n",
       "2. 0.774725438468526\n",
       "\n",
       "\n"
      ],
      "text/plain": [
       "[1] 0.7528897 0.7747254\n",
       "attr(,\"conf.level\")\n",
       "[1] 0.95"
      ]
     },
     "metadata": {},
     "output_type": "display_data"
    },
    {
     "name": "stdout",
     "output_type": "stream",
     "text": [
      "[1] \"Probabilidad de permanencia de un ciudadano senior:\"\n"
     ]
    },
    {
     "data": {
      "text/html": [
       "<strong>probability of success:</strong> 0.583187390542907"
      ],
      "text/latex": [
       "\\textbf{probability of success:} 0.583187390542907"
      ],
      "text/markdown": [
       "**probability of success:** 0.583187390542907"
      ],
      "text/plain": [
       "probability of success \n",
       "             0.5831874 "
      ]
     },
     "metadata": {},
     "output_type": "display_data"
    },
    {
     "data": {
      "text/html": [
       "<style>\n",
       ".list-inline {list-style: none; margin:0; padding: 0}\n",
       ".list-inline>li {display: inline-block}\n",
       ".list-inline>li:not(:last-child)::after {content: \"\\00b7\"; padding: 0 .5ex}\n",
       "</style>\n",
       "<ol class=list-inline><li>0.553970724956326</li><li>0.611974440865227</li></ol>\n"
      ],
      "text/latex": [
       "\\begin{enumerate*}\n",
       "\\item 0.553970724956326\n",
       "\\item 0.611974440865227\n",
       "\\end{enumerate*}\n"
      ],
      "text/markdown": [
       "1. 0.553970724956326\n",
       "2. 0.611974440865227\n",
       "\n",
       "\n"
      ],
      "text/plain": [
       "[1] 0.5539707 0.6119744\n",
       "attr(,\"conf.level\")\n",
       "[1] 0.95"
      ]
     },
     "metadata": {},
     "output_type": "display_data"
    }
   ],
   "source": [
    "print(\"Probabilidad de permanencia de un ciudadano joven:\")\n",
    "btyoung<-binom.test(tseniorchurn[1,])\n",
    "btyoung$estimate\n",
    "btyoung$conf.int\n",
    "\n",
    "\n",
    "print(\"Probabilidad de permanencia de un ciudadano senior:\")\n",
    "btsenior<-binom.test(tseniorchurn[2,])\n",
    "btsenior$estimate\n",
    "btsenior$conf.int"
   ]
  },
  {
   "cell_type": "code",
   "execution_count": 43,
   "metadata": {},
   "outputs": [
    {
     "data": {
      "text/html": [
       "<table>\n",
       "<caption>A data.frame: 2 × 4</caption>\n",
       "<thead>\n",
       "\t<tr><th scope=col>group</th><th scope=col>rate</th><th scope=col>lth</th><th scope=col>uth</th></tr>\n",
       "\t<tr><th scope=col>&lt;fct&gt;</th><th scope=col>&lt;dbl&gt;</th><th scope=col>&lt;dbl&gt;</th><th scope=col>&lt;dbl&gt;</th></tr>\n",
       "</thead>\n",
       "<tbody>\n",
       "\t<tr><td>Senior</td><td>0.5831874</td><td>0.5539707</td><td>0.6119744</td></tr>\n",
       "\t<tr><td>Young </td><td>0.7639383</td><td>0.7528897</td><td>0.7747254</td></tr>\n",
       "</tbody>\n",
       "</table>\n"
      ],
      "text/latex": [
       "A data.frame: 2 × 4\n",
       "\\begin{tabular}{llll}\n",
       " group & rate & lth & uth\\\\\n",
       " <fct> & <dbl> & <dbl> & <dbl>\\\\\n",
       "\\hline\n",
       "\t Senior & 0.5831874 & 0.5539707 & 0.6119744\\\\\n",
       "\t Young  & 0.7639383 & 0.7528897 & 0.7747254\\\\\n",
       "\\end{tabular}\n"
      ],
      "text/markdown": [
       "\n",
       "A data.frame: 2 × 4\n",
       "\n",
       "| group &lt;fct&gt; | rate &lt;dbl&gt; | lth &lt;dbl&gt; | uth &lt;dbl&gt; |\n",
       "|---|---|---|---|\n",
       "| Senior | 0.5831874 | 0.5539707 | 0.6119744 |\n",
       "| Young  | 0.7639383 | 0.7528897 | 0.7747254 |\n",
       "\n"
      ],
      "text/plain": [
       "  group  rate      lth       uth      \n",
       "1 Senior 0.5831874 0.5539707 0.6119744\n",
       "2 Young  0.7639383 0.7528897 0.7747254"
      ]
     },
     "metadata": {},
     "output_type": "display_data"
    },
    {
     "data": {
      "image/png": "[encoded data removed]",
      "text/plain": [
       "plot without title"
      ]
     },
     "metadata": {
      "image/png": {
       "height": 240,
       "width": 360
      },
      "text/plain": {
       "height": 240,
       "width": 360
      }
     },
     "output_type": "display_data"
    }
   ],
   "source": [
    "df<-data.frame(group=c(\"Senior\",\"Young\"),rate=c(btsenior$estimate,btyoung$estimate),\n",
    "            lth=c(btsenior$conf.int[1],btyoung$conf.int[1]),\n",
    "            uth=c(btsenior$conf.int[2],btyoung$conf.int[2]))\n",
    "df\n",
    "library(ggplot2)\n",
    "options(repr.plot.height=4,repr.plot.width=6)\n",
    "ggplot(data=df,aes(x=group,y=rate))+\n",
    "    geom_col(aes(fill=group))+\n",
    "    geom_errorbar(aes(ymin = lth, ymax = uth), width = 0.5, size = 0.7, color = \"gray30\")\n",
    "\n"
   ]
  },
  {
   "cell_type": "markdown",
   "metadata": {},
   "source": [
    "## Comprobamos con tenure\n",
    "\n",
    "Vamos a ver si el tiempo que lleva en servicio implica algo"
   ]
  },
  {
   "cell_type": "code",
   "execution_count": 44,
   "metadata": {},
   "outputs": [
    {
     "name": "stdout",
     "output_type": "stream",
     "text": [
      "[1] \"Comprobamos los estadísticos más importantes para la columna tenure:\"\n"
     ]
    },
    {
     "data": {
      "text/plain": [
       "   Min. 1st Qu.  Median    Mean 3rd Qu.    Max. \n",
       "   0.00    9.00   29.00   32.37   55.00   72.00 "
      ]
     },
     "metadata": {},
     "output_type": "display_data"
    },
    {
     "data": {
      "text/html": [
       "'Media: 32.3711486582422'"
      ],
      "text/latex": [
       "'Media: 32.3711486582422'"
      ],
      "text/markdown": [
       "'Media: 32.3711486582422'"
      ],
      "text/plain": [
       "[1] \"Media: 32.3711486582422\""
      ]
     },
     "metadata": {},
     "output_type": "display_data"
    },
    {
     "data": {
      "text/html": [
       "'Desviación std: 24.5594810230945'"
      ],
      "text/latex": [
       "'Desviación std: 24.5594810230945'"
      ],
      "text/markdown": [
       "'Desviación std: 24.5594810230945'"
      ],
      "text/plain": [
       "[1] \"Desviación std: 24.5594810230945\""
      ]
     },
     "metadata": {},
     "output_type": "display_data"
    }
   ],
   "source": [
    "print(\"Comprobamos los estadísticos más importantes para la columna tenure:\")\n",
    "summary(dfchurn$tenure)\n",
    "paste(\"Media:\",mean(dfchurn$tenure))\n",
    "paste(\"Desviación std:\",sd(dfchurn$tenure))"
   ]
  },
  {
   "cell_type": "code",
   "execution_count": 45,
   "metadata": {},
   "outputs": [
    {
     "name": "stdout",
     "output_type": "stream",
     "text": [
      "[1] \"Comprobamos los estadísticos más importantes para la columna tenure condicionado a que Churn=NO:\"\n"
     ]
    },
    {
     "data": {
      "text/plain": [
       "   Min. 1st Qu.  Median    Mean 3rd Qu.    Max. \n",
       "   0.00   15.00   38.00   37.57   61.00   72.00 "
      ]
     },
     "metadata": {},
     "output_type": "display_data"
    },
    {
     "data": {
      "text/html": [
       "'Media: 37.5699652106687'"
      ],
      "text/latex": [
       "'Media: 37.5699652106687'"
      ],
      "text/markdown": [
       "'Media: 37.5699652106687'"
      ],
      "text/plain": [
       "[1] \"Media: 37.5699652106687\""
      ]
     },
     "metadata": {},
     "output_type": "display_data"
    },
    {
     "data": {
      "text/html": [
       "'Desviación std: 24.1137766907041'"
      ],
      "text/latex": [
       "'Desviación std: 24.1137766907041'"
      ],
      "text/markdown": [
       "'Desviación std: 24.1137766907041'"
      ],
      "text/plain": [
       "[1] \"Desviación std: 24.1137766907041\""
      ]
     },
     "metadata": {},
     "output_type": "display_data"
    }
   ],
   "source": [
    "print(\"Comprobamos los estadísticos más importantes para la columna tenure condicionado a que Churn=NO:\")\n",
    "summary(dfchurn$tenure[dfchurn$Churn==\"No\"])\n",
    "paste(\"Media:\",mean(dfchurn$tenure[dfchurn$Churn==\"No\"]))\n",
    "paste(\"Desviación std:\",sd(dfchurn$tenure[dfchurn$Churn==\"No\"]))"
   ]
  },
  {
   "cell_type": "code",
   "execution_count": 46,
   "metadata": {
    "scrolled": false
   },
   "outputs": [
    {
     "name": "stdout",
     "output_type": "stream",
     "text": [
      "[1] \"Comprobamos los estadísticos más importantes para la columna tenure condicionado a que Churn=YES:\"\n"
     ]
    },
    {
     "data": {
      "text/plain": [
       "   Min. 1st Qu.  Median    Mean 3rd Qu.    Max. \n",
       "   1.00    2.00   10.00   17.98   29.00   72.00 "
      ]
     },
     "metadata": {},
     "output_type": "display_data"
    },
    {
     "data": {
      "text/html": [
       "'Media: 17.9791332263242'"
      ],
      "text/latex": [
       "'Media: 17.9791332263242'"
      ],
      "text/markdown": [
       "'Media: 17.9791332263242'"
      ],
      "text/plain": [
       "[1] \"Media: 17.9791332263242\""
      ]
     },
     "metadata": {},
     "output_type": "display_data"
    },
    {
     "data": {
      "text/html": [
       "'Desviación std: 19.5311230545196'"
      ],
      "text/latex": [
       "'Desviación std: 19.5311230545196'"
      ],
      "text/markdown": [
       "'Desviación std: 19.5311230545196'"
      ],
      "text/plain": [
       "[1] \"Desviación std: 19.5311230545196\""
      ]
     },
     "metadata": {},
     "output_type": "display_data"
    }
   ],
   "source": [
    "print(\"Comprobamos los estadísticos más importantes para la columna tenure condicionado a que Churn=YES:\")\n",
    "summary(dfchurn$tenure[dfchurn$Churn==\"Yes\"])\n",
    "paste(\"Media:\",mean(dfchurn$tenure[dfchurn$Churn==\"Yes\"]))\n",
    "paste(\"Desviación std:\",sd(dfchurn$tenure[dfchurn$Churn==\"Yes\"]))\n"
   ]
  },
  {
   "cell_type": "markdown",
   "metadata": {},
   "source": [
    "Sin hacer ninguna suposición sobre la distribucíon que sigue podemos utilizar la desigualdad de Chebyshev.\n",
    "\n",
    "Vamos a ver el margen de error del 50%"
   ]
  },
  {
   "cell_type": "code",
   "execution_count": 47,
   "metadata": {},
   "outputs": [
    {
     "data": {
      "image/png": "[encoded data removed]",
      "text/plain": [
       "plot without title"
      ]
     },
     "metadata": {
      "image/png": {
       "height": 240,
       "width": 360
      },
      "text/plain": {
       "height": 240,
       "width": 360
      }
     },
     "output_type": "display_data"
    }
   ],
   "source": [
    "p<-0.5\n",
    "\n",
    "k<-1/sqrt(p)\n",
    "\n",
    "meansTenure<-c(mean(dfchurn$tenure),mean(dfchurn$tenure[dfchurn$Churn==\"No\"]),mean(dfchurn$tenure[dfchurn$Churn==\"Yes\"]))\n",
    "sdTenure<-c(sd(dfchurn$tenure),sd(dfchurn$tenure[dfchurn$Churn==\"No\"]),sd(dfchurn$tenure[dfchurn$Churn==\"Yes\"]))\n",
    "lth<-meansTenure-k*sdTenure\n",
    "uth<-meansTenure+k*sdTenure\n",
    "q1<-c(quantile(dfchurn$tenure,0.25),quantile(dfchurn$tenure[dfchurn$Churn==\"No\"],0.25),quantile(dfchurn$tenure[dfchurn$Churn==\"Yes\"],0.25))\n",
    "q3<-c(quantile(dfchurn$tenure,0.75),quantile(dfchurn$tenure[dfchurn$Churn==\"No\"],0.75),quantile(dfchurn$tenure[dfchurn$Churn==\"Yes\"],0.75))\n",
    "\n",
    "df<-data.frame(group=c(\"Total\",\"NO churn\",\"Churn\"),mean=meansTenure,lth,uth,q1,q3)\n",
    "\n",
    "options(repr.plot.height=4,repr.plot.width=6)\n",
    "ggplot(data=df,aes(x=group,y=mean))+\n",
    "    geom_col(aes(fill=group))+\n",
    "    geom_errorbar(aes(ymin = lth, ymax = uth), width = 0.5, size = 0.7, color = \"gray30\")+\n",
    "    geom_errorbar(aes(ymin = q1, ymax = q3), width = 0.5, size = 0.7, color = \"red\")\n"
   ]
  },
  {
   "cell_type": "code",
   "execution_count": 48,
   "metadata": {},
   "outputs": [
    {
     "data": {
      "image/png": "[encoded data removed]",
      "text/plain": [
       "plot without title"
      ]
     },
     "metadata": {
      "image/png": {
       "height": 240,
       "width": 360
      },
      "text/plain": {
       "height": 240,
       "width": 360
      }
     },
     "output_type": "display_data"
    }
   ],
   "source": [
    "ggplot(data=dfchurn,aes(x=Churn,y=tenure,color=Churn))+geom_boxplot()"
   ]
  },
  {
   "cell_type": "markdown",
   "metadata": {},
   "source": [
    "Vamos a tratar de ver que distribución tiene la columna tenure:"
   ]
  },
  {
   "cell_type": "code",
   "execution_count": 49,
   "metadata": {},
   "outputs": [
    {
     "data": {
      "image/png": "[encoded data removed]",
      "text/plain": [
       "plot without title"
      ]
     },
     "metadata": {
      "image/png": {
       "height": 240,
       "width": 360
      },
      "text/plain": {
       "height": 240,
       "width": 360
      }
     },
     "output_type": "display_data"
    }
   ],
   "source": [
    "ggplot(data=dfchurn,aes(x=tenure,color=Churn))+geom_density(bw=0.4)"
   ]
  },
  {
   "cell_type": "markdown",
   "metadata": {},
   "source": [
    "¿son realmente distintas estas dos funciones de distribución?"
   ]
  },
  {
   "cell_type": "code",
   "execution_count": 50,
   "metadata": {},
   "outputs": [
    {
     "data": {
      "text/plain": [
       "\n",
       "\tWilcoxon rank sum test with continuity correction\n",
       "\n",
       "data:  tenure by Churn\n",
       "W = 7154668, p-value < 2.2e-16\n",
       "alternative hypothesis: true location shift is not equal to 0\n"
      ]
     },
     "metadata": {},
     "output_type": "display_data"
    }
   ],
   "source": [
    "wilcox.test(data=dfchurn,tenure ~ Churn)"
   ]
  },
  {
   "cell_type": "code",
   "execution_count": 51,
   "metadata": {},
   "outputs": [
    {
     "name": "stderr",
     "output_type": "stream",
     "text": [
      "Warning message in ks.test(dfchurn$tenure[dfchurn$Churn == \"No\"], dfchurn$tenure[dfchurn$Churn == :\n",
      "“p-value will be approximate in the presence of ties”\n"
     ]
    },
    {
     "data": {
      "text/plain": [
       "\n",
       "\tTwo-sample Kolmogorov-Smirnov test\n",
       "\n",
       "data:  dfchurn$tenure[dfchurn$Churn == \"No\"] and dfchurn$tenure[dfchurn$Churn == \"Yes\"]\n",
       "D = 0.35736, p-value < 2.2e-16\n",
       "alternative hypothesis: two-sided\n"
      ]
     },
     "metadata": {},
     "output_type": "display_data"
    }
   ],
   "source": [
    "ks.test(dfchurn$tenure[dfchurn$Churn==\"No\"],dfchurn$tenure[dfchurn$Churn==\"Yes\"])"
   ]
  },
  {
   "cell_type": "code",
   "execution_count": 52,
   "metadata": {},
   "outputs": [
    {
     "data": {
      "text/html": [
       "<table>\n",
       "<caption>A matrix: 2 × 15 of type int</caption>\n",
       "<tbody>\n",
       "\t<tr><th scope=row>NoChurn</th><td>558</td><td>373</td><td>341</td><td>302</td><td>305</td><td>281</td><td>258</td><td>251</td><td>253</td><td>277</td><td>301</td><td>290</td><td>347</td><td>409</td><td>628</td></tr>\n",
       "\t<tr><th scope=row>Churn</th><td>680</td><td>243</td><td>176</td><td>134</td><td> 98</td><td> 78</td><td> 77</td><td> 67</td><td> 62</td><td> 56</td><td> 53</td><td> 46</td><td> 27</td><td> 49</td><td> 23</td></tr>\n",
       "</tbody>\n",
       "</table>\n"
      ],
      "text/latex": [
       "A matrix: 2 × 15 of type int\n",
       "\\begin{tabular}{r|lllllllllllllll}\n",
       "\tNoChurn & 558 & 373 & 341 & 302 & 305 & 281 & 258 & 251 & 253 & 277 & 301 & 290 & 347 & 409 & 628\\\\\n",
       "\tChurn & 680 & 243 & 176 & 134 &  98 &  78 &  77 &  67 &  62 &  56 &  53 &  46 &  27 &  49 &  23\\\\\n",
       "\\end{tabular}\n"
      ],
      "text/markdown": [
       "\n",
       "A matrix: 2 × 15 of type int\n",
       "\n",
       "| NoChurn | 558 | 373 | 341 | 302 | 305 | 281 | 258 | 251 | 253 | 277 | 301 | 290 | 347 | 409 | 628 |\n",
       "| Churn | 680 | 243 | 176 | 134 |  98 |  78 |  77 |  67 |  62 |  56 |  53 |  46 |  27 |  49 |  23 |\n",
       "\n"
      ],
      "text/plain": [
       "        [,1] [,2] [,3] [,4] [,5] [,6] [,7] [,8] [,9] [,10] [,11] [,12] [,13]\n",
       "NoChurn 558  373  341  302  305  281  258  251  253  277   301   290   347  \n",
       "Churn   680  243  176  134   98   78   77   67   62   56    53    46    27  \n",
       "        [,14] [,15]\n",
       "NoChurn 409   628  \n",
       "Churn    49    23  "
      ]
     },
     "metadata": {},
     "output_type": "display_data"
    }
   ],
   "source": [
    "histNoChurn <- hist(dfchurn$tenure[dfchurn$Churn==\"No\"],breaks=14, right=FALSE,plot = F)\n",
    "histYesChurn<- hist(dfchurn$tenure[dfchurn$Churn==\"Yes\"],breaks=histNoChurn$breaks, right=FALSE,plot = F)\n",
    "\n",
    "rbind(NoChurn=histNoChurn$counts,Churn=histYesChurn$counts)"
   ]
  },
  {
   "cell_type": "code",
   "execution_count": 53,
   "metadata": {},
   "outputs": [
    {
     "data": {
      "text/plain": [
       "\n",
       "\tPearson's Chi-squared test\n",
       "\n",
       "data:  rbind(NoChurn = histNoChurn$counts, Churn = histYesChurn$counts)\n",
       "X-squared = 979.42, df = 14, p-value < 2.2e-16\n"
      ]
     },
     "metadata": {},
     "output_type": "display_data"
    }
   ],
   "source": [
    "chisq.test(rbind(NoChurn=histNoChurn$counts,Churn=histYesChurn$counts))"
   ]
  },
  {
   "cell_type": "markdown",
   "metadata": {},
   "source": [
    "¿Cómo influye el tenure en el ratio de churn?\n",
    "\n",
    "Vamos a calcular una regresión lineal del churn en función del tenure"
   ]
  },
  {
   "cell_type": "code",
   "execution_count": 54,
   "metadata": {},
   "outputs": [
    {
     "data": {
      "text/html": [
       "<style>\n",
       ".list-inline {list-style: none; margin:0; padding: 0}\n",
       ".list-inline>li {display: inline-block}\n",
       ".list-inline>li:not(:last-child)::after {content: \"\\00b7\"; padding: 0 .5ex}\n",
       "</style>\n",
       "<ol class=list-inline><li>0</li><li>8</li><li>16</li><li>24</li><li>32</li><li>40</li><li>48</li><li>56</li><li>64</li><li>72</li></ol>\n"
      ],
      "text/latex": [
       "\\begin{enumerate*}\n",
       "\\item 0\n",
       "\\item 8\n",
       "\\item 16\n",
       "\\item 24\n",
       "\\item 32\n",
       "\\item 40\n",
       "\\item 48\n",
       "\\item 56\n",
       "\\item 64\n",
       "\\item 72\n",
       "\\end{enumerate*}\n"
      ],
      "text/markdown": [
       "1. 0\n",
       "2. 8\n",
       "3. 16\n",
       "4. 24\n",
       "5. 32\n",
       "6. 40\n",
       "7. 48\n",
       "8. 56\n",
       "9. 64\n",
       "10. 72\n",
       "\n",
       "\n"
      ],
      "text/plain": [
       " [1]  0  8 16 24 32 40 48 56 64 72"
      ]
     },
     "metadata": {},
     "output_type": "display_data"
    },
    {
     "data": {
      "text/html": [
       "<table>\n",
       "<caption>A data.frame: 9 × 4</caption>\n",
       "<thead>\n",
       "\t<tr><th scope=col>tenure</th><th scope=col>churnratio</th><th scope=col>lchurnratio</th><th scope=col>uchurnratio</th></tr>\n",
       "\t<tr><th scope=col>&lt;dbl&gt;</th><th scope=col>&lt;dbl&gt;</th><th scope=col>&lt;dbl&gt;</th><th scope=col>&lt;dbl&gt;</th></tr>\n",
       "</thead>\n",
       "<tbody>\n",
       "\t<tr><td> 4</td><td>0.51799007</td><td>0.5426410</td><td>0.49327355</td></tr>\n",
       "\t<tr><td>12</td><td>0.35081585</td><td>0.3838006</td><td>0.31886002</td></tr>\n",
       "\t<tr><td>20</td><td>0.26625387</td><td>0.3021303</td><td>0.23252941</td></tr>\n",
       "\t<tr><td>28</td><td>0.22542373</td><td>0.2613191</td><td>0.19230398</td></tr>\n",
       "\t<tr><td>36</td><td>0.21705426</td><td>0.2551635</td><td>0.18222282</td></tr>\n",
       "\t<tr><td>44</td><td>0.18146718</td><td>0.2174095</td><td>0.14920914</td></tr>\n",
       "\t<tr><td>52</td><td>0.15693431</td><td>0.1901386</td><td>0.12748542</td></tr>\n",
       "\t<tr><td>60</td><td>0.10600707</td><td>0.1343411</td><td>0.08187396</td></tr>\n",
       "\t<tr><td>68</td><td>0.08464329</td><td>0.1057332</td><td>0.06657596</td></tr>\n",
       "</tbody>\n",
       "</table>\n"
      ],
      "text/latex": [
       "A data.frame: 9 × 4\n",
       "\\begin{tabular}{llll}\n",
       " tenure & churnratio & lchurnratio & uchurnratio\\\\\n",
       " <dbl> & <dbl> & <dbl> & <dbl>\\\\\n",
       "\\hline\n",
       "\t  4 & 0.51799007 & 0.5426410 & 0.49327355\\\\\n",
       "\t 12 & 0.35081585 & 0.3838006 & 0.31886002\\\\\n",
       "\t 20 & 0.26625387 & 0.3021303 & 0.23252941\\\\\n",
       "\t 28 & 0.22542373 & 0.2613191 & 0.19230398\\\\\n",
       "\t 36 & 0.21705426 & 0.2551635 & 0.18222282\\\\\n",
       "\t 44 & 0.18146718 & 0.2174095 & 0.14920914\\\\\n",
       "\t 52 & 0.15693431 & 0.1901386 & 0.12748542\\\\\n",
       "\t 60 & 0.10600707 & 0.1343411 & 0.08187396\\\\\n",
       "\t 68 & 0.08464329 & 0.1057332 & 0.06657596\\\\\n",
       "\\end{tabular}\n"
      ],
      "text/markdown": [
       "\n",
       "A data.frame: 9 × 4\n",
       "\n",
       "| tenure &lt;dbl&gt; | churnratio &lt;dbl&gt; | lchurnratio &lt;dbl&gt; | uchurnratio &lt;dbl&gt; |\n",
       "|---|---|---|---|\n",
       "|  4 | 0.51799007 | 0.5426410 | 0.49327355 |\n",
       "| 12 | 0.35081585 | 0.3838006 | 0.31886002 |\n",
       "| 20 | 0.26625387 | 0.3021303 | 0.23252941 |\n",
       "| 28 | 0.22542373 | 0.2613191 | 0.19230398 |\n",
       "| 36 | 0.21705426 | 0.2551635 | 0.18222282 |\n",
       "| 44 | 0.18146718 | 0.2174095 | 0.14920914 |\n",
       "| 52 | 0.15693431 | 0.1901386 | 0.12748542 |\n",
       "| 60 | 0.10600707 | 0.1343411 | 0.08187396 |\n",
       "| 68 | 0.08464329 | 0.1057332 | 0.06657596 |\n",
       "\n"
      ],
      "text/plain": [
       "  tenure churnratio lchurnratio uchurnratio\n",
       "1  4     0.51799007 0.5426410   0.49327355 \n",
       "2 12     0.35081585 0.3838006   0.31886002 \n",
       "3 20     0.26625387 0.3021303   0.23252941 \n",
       "4 28     0.22542373 0.2613191   0.19230398 \n",
       "5 36     0.21705426 0.2551635   0.18222282 \n",
       "6 44     0.18146718 0.2174095   0.14920914 \n",
       "7 52     0.15693431 0.1901386   0.12748542 \n",
       "8 60     0.10600707 0.1343411   0.08187396 \n",
       "9 68     0.08464329 0.1057332   0.06657596 "
      ]
     },
     "metadata": {},
     "output_type": "display_data"
    }
   ],
   "source": [
    "breaks<-seq(0,max(dfchurn$tenure),length.out = 10)\n",
    "\n",
    "tenure<-rep(NA,length(breaks)-1)\n",
    "churnratio<-rep(NA,length(breaks)-1)\n",
    "lchurnratio<-rep(NA,length(breaks)-1)\n",
    "uchurnratio<-rep(NA,length(breaks)-1)\n",
    "for (i in 2:length(breaks)){\n",
    "    tenure[i-1]<-mean(breaks[(i-1):i])\n",
    "    idx<-which(dfchurn$tenure<breaks[i] & dfchurn$tenure>=breaks[i-1])\n",
    "    btchurn<-binom.test(table(dfchurn$Churn[idx]))    \n",
    "    churnratio[i-1]<-1-btchurn$estimate\n",
    "    lchurnratio[i-1]<-1-btchurn$conf.int[1]\n",
    "    uchurnratio[i-1]<-1-btchurn$conf.int[2]\n",
    "}\n",
    "\n",
    "dfchurntenure<-data.frame(tenure,churnratio,lchurnratio,uchurnratio)\n",
    "breaks\n",
    "dfchurntenure\n"
   ]
  },
  {
   "cell_type": "code",
   "execution_count": 55,
   "metadata": {},
   "outputs": [
    {
     "data": {
      "image/png": "[encoded data removed]",
      "text/plain": [
       "plot without title"
      ]
     },
     "metadata": {
      "image/png": {
       "height": 240,
       "width": 360
      },
      "text/plain": {
       "height": 240,
       "width": 360
      }
     },
     "output_type": "display_data"
    }
   ],
   "source": [
    "ggplot(data=dfchurntenure,aes(x=tenure,y=churnratio))+geom_col(fill=\"#7766AA\")+\n",
    "    geom_errorbar(aes(ymin = lchurnratio, ymax= uchurnratio), width = 2,  color = \"gray30\")"
   ]
  },
  {
   "cell_type": "code",
   "execution_count": 56,
   "metadata": {},
   "outputs": [
    {
     "data": {
      "text/plain": [
       "\n",
       "Call:\n",
       "lm(formula = churnratio ~ tenure + I(tenure^2) + I(tenure^3), \n",
       "    data = dfchurntenure)\n",
       "\n",
       "Residuals:\n",
       "        1         2         3         4         5         6         7         8 \n",
       " 0.011203 -0.015542 -0.009854  0.002197  0.022150  0.003137 -0.003760 -0.023179 \n",
       "        9 \n",
       " 0.013648 \n",
       "\n",
       "Coefficients:\n",
       "              Estimate Std. Error t value Pr(>|t|)    \n",
       "(Intercept)  5.998e-01  2.653e-02  22.607 3.15e-06 ***\n",
       "tenure      -2.536e-02  3.234e-03  -7.842 0.000541 ***\n",
       "I(tenure^2)  5.421e-04  1.045e-04   5.186 0.003506 ** \n",
       "I(tenure^3) -4.170e-06  9.558e-07  -4.363 0.007272 ** \n",
       "---\n",
       "Signif. codes:  0 ‘***’ 0.001 ‘**’ 0.01 ‘*’ 0.05 ‘.’ 0.1 ‘ ’ 1\n",
       "\n",
       "Residual standard error: 0.01848 on 5 degrees of freedom\n",
       "Multiple R-squared:  0.9881,\tAdjusted R-squared:  0.9809 \n",
       "F-statistic:   138 on 3 and 5 DF,  p-value: 3.154e-05\n"
      ]
     },
     "metadata": {},
     "output_type": "display_data"
    }
   ],
   "source": [
    "model<-lm(data=dfchurntenure,churnratio~tenure+I(tenure^2)+I(tenure^3))\n",
    "summary(model)"
   ]
  },
  {
   "cell_type": "code",
   "execution_count": 57,
   "metadata": {},
   "outputs": [
    {
     "data": {
      "image/png": "[encoded data removed]",
      "text/plain": [
       "plot without title"
      ]
     },
     "metadata": {
      "image/png": {
       "height": 240,
       "width": 360
      },
      "text/plain": {
       "height": 240,
       "width": 360
      }
     },
     "output_type": "display_data"
    }
   ],
   "source": [
    "dfchurntenure$predict<-predict(model,dfchurntenure)\n",
    "ggplot(data=dfchurntenure,aes(x=tenure,y=churnratio))+geom_col(fill=\"#7766AA\")+\n",
    "    geom_errorbar(aes(ymin = lchurnratio, ymax= uchurnratio), width = 2, color = \"gray30\")+\n",
    "    geom_line(aes(y=predict),color=\"red\")"
   ]
  },
  {
   "cell_type": "markdown",
   "metadata": {},
   "source": [
    "# Senior y Tenure\n",
    "\n",
    "¿Cómo influye el tenure/senior en el ratio de churn?\n",
    "\n",
    "Vamos a calcular una regresión lineal del churn en función del tenure para el caso de senior citizen y el de usuario joven."
   ]
  },
  {
   "cell_type": "code",
   "execution_count": 58,
   "metadata": {},
   "outputs": [
    {
     "data": {
      "text/html": [
       "<table>\n",
       "<caption>A data.frame: 18 × 5</caption>\n",
       "<thead>\n",
       "\t<tr><th scope=col>tenure</th><th scope=col>churnratio</th><th scope=col>lchurnratio</th><th scope=col>uchurnratio</th><th scope=col>Senior</th></tr>\n",
       "\t<tr><th scope=col>&lt;dbl&gt;</th><th scope=col>&lt;dbl&gt;</th><th scope=col>&lt;dbl&gt;</th><th scope=col>&lt;dbl&gt;</th><th scope=col>&lt;chr&gt;</th></tr>\n",
       "</thead>\n",
       "<tbody>\n",
       "\t<tr><td> 4</td><td>0.70416667</td><td>0.76114739</td><td>0.64206216</td><td>Yes</td></tr>\n",
       "\t<tr><td>12</td><td>0.60317460</td><td>0.68919845</td><td>0.51218497</td><td>Yes</td></tr>\n",
       "\t<tr><td>20</td><td>0.43396226</td><td>0.53373609</td><td>0.33797384</td><td>Yes</td></tr>\n",
       "\t<tr><td>28</td><td>0.45794393</td><td>0.55703246</td><td>0.36124252</td><td>Yes</td></tr>\n",
       "\t<tr><td>36</td><td>0.38541667</td><td>0.49028137</td><td>0.28782303</td><td>Yes</td></tr>\n",
       "\t<tr><td>44</td><td>0.43678161</td><td>0.54735222</td><td>0.33063897</td><td>Yes</td></tr>\n",
       "\t<tr><td>52</td><td>0.26373626</td><td>0.36654917</td><td>0.17685483</td><td>Yes</td></tr>\n",
       "\t<tr><td>60</td><td>0.17045455</td><td>0.26550900</td><td>0.09865978</td><td>Yes</td></tr>\n",
       "\t<tr><td>68</td><td>0.13793103</td><td>0.20495645</td><td>0.08633226</td><td>Yes</td></tr>\n",
       "\t<tr><td> 4</td><td>0.48542274</td><td>0.51224015</td><td>0.45866788</td><td>No </td></tr>\n",
       "\t<tr><td>12</td><td>0.30737705</td><td>0.34221325</td><td>0.27410184</td><td>No </td></tr>\n",
       "\t<tr><td>20</td><td>0.23333333</td><td>0.27133850</td><td>0.19827578</td><td>No </td></tr>\n",
       "\t<tr><td>28</td><td>0.17391304</td><td>0.21071965</td><td>0.14115819</td><td>No </td></tr>\n",
       "\t<tr><td>36</td><td>0.17857143</td><td>0.21861678</td><td>0.14312750</td><td>No </td></tr>\n",
       "\t<tr><td>44</td><td>0.12993039</td><td>0.16538796</td><td>0.09966115</td><td>No </td></tr>\n",
       "\t<tr><td>52</td><td>0.13566740</td><td>0.17052145</td><td>0.10562169</td><td>No </td></tr>\n",
       "\t<tr><td>60</td><td>0.09414226</td><td>0.12393981</td><td>0.06949798</td><td>No </td></tr>\n",
       "\t<tr><td>68</td><td>0.07331378</td><td>0.09551552</td><td>0.05490142</td><td>No </td></tr>\n",
       "</tbody>\n",
       "</table>\n"
      ],
      "text/latex": [
       "A data.frame: 18 × 5\n",
       "\\begin{tabular}{lllll}\n",
       " tenure & churnratio & lchurnratio & uchurnratio & Senior\\\\\n",
       " <dbl> & <dbl> & <dbl> & <dbl> & <chr>\\\\\n",
       "\\hline\n",
       "\t  4 & 0.70416667 & 0.76114739 & 0.64206216 & Yes\\\\\n",
       "\t 12 & 0.60317460 & 0.68919845 & 0.51218497 & Yes\\\\\n",
       "\t 20 & 0.43396226 & 0.53373609 & 0.33797384 & Yes\\\\\n",
       "\t 28 & 0.45794393 & 0.55703246 & 0.36124252 & Yes\\\\\n",
       "\t 36 & 0.38541667 & 0.49028137 & 0.28782303 & Yes\\\\\n",
       "\t 44 & 0.43678161 & 0.54735222 & 0.33063897 & Yes\\\\\n",
       "\t 52 & 0.26373626 & 0.36654917 & 0.17685483 & Yes\\\\\n",
       "\t 60 & 0.17045455 & 0.26550900 & 0.09865978 & Yes\\\\\n",
       "\t 68 & 0.13793103 & 0.20495645 & 0.08633226 & Yes\\\\\n",
       "\t  4 & 0.48542274 & 0.51224015 & 0.45866788 & No \\\\\n",
       "\t 12 & 0.30737705 & 0.34221325 & 0.27410184 & No \\\\\n",
       "\t 20 & 0.23333333 & 0.27133850 & 0.19827578 & No \\\\\n",
       "\t 28 & 0.17391304 & 0.21071965 & 0.14115819 & No \\\\\n",
       "\t 36 & 0.17857143 & 0.21861678 & 0.14312750 & No \\\\\n",
       "\t 44 & 0.12993039 & 0.16538796 & 0.09966115 & No \\\\\n",
       "\t 52 & 0.13566740 & 0.17052145 & 0.10562169 & No \\\\\n",
       "\t 60 & 0.09414226 & 0.12393981 & 0.06949798 & No \\\\\n",
       "\t 68 & 0.07331378 & 0.09551552 & 0.05490142 & No \\\\\n",
       "\\end{tabular}\n"
      ],
      "text/markdown": [
       "\n",
       "A data.frame: 18 × 5\n",
       "\n",
       "| tenure &lt;dbl&gt; | churnratio &lt;dbl&gt; | lchurnratio &lt;dbl&gt; | uchurnratio &lt;dbl&gt; | Senior &lt;chr&gt; |\n",
       "|---|---|---|---|---|\n",
       "|  4 | 0.70416667 | 0.76114739 | 0.64206216 | Yes |\n",
       "| 12 | 0.60317460 | 0.68919845 | 0.51218497 | Yes |\n",
       "| 20 | 0.43396226 | 0.53373609 | 0.33797384 | Yes |\n",
       "| 28 | 0.45794393 | 0.55703246 | 0.36124252 | Yes |\n",
       "| 36 | 0.38541667 | 0.49028137 | 0.28782303 | Yes |\n",
       "| 44 | 0.43678161 | 0.54735222 | 0.33063897 | Yes |\n",
       "| 52 | 0.26373626 | 0.36654917 | 0.17685483 | Yes |\n",
       "| 60 | 0.17045455 | 0.26550900 | 0.09865978 | Yes |\n",
       "| 68 | 0.13793103 | 0.20495645 | 0.08633226 | Yes |\n",
       "|  4 | 0.48542274 | 0.51224015 | 0.45866788 | No  |\n",
       "| 12 | 0.30737705 | 0.34221325 | 0.27410184 | No  |\n",
       "| 20 | 0.23333333 | 0.27133850 | 0.19827578 | No  |\n",
       "| 28 | 0.17391304 | 0.21071965 | 0.14115819 | No  |\n",
       "| 36 | 0.17857143 | 0.21861678 | 0.14312750 | No  |\n",
       "| 44 | 0.12993039 | 0.16538796 | 0.09966115 | No  |\n",
       "| 52 | 0.13566740 | 0.17052145 | 0.10562169 | No  |\n",
       "| 60 | 0.09414226 | 0.12393981 | 0.06949798 | No  |\n",
       "| 68 | 0.07331378 | 0.09551552 | 0.05490142 | No  |\n",
       "\n"
      ],
      "text/plain": [
       "   tenure churnratio lchurnratio uchurnratio Senior\n",
       "1   4     0.70416667 0.76114739  0.64206216  Yes   \n",
       "2  12     0.60317460 0.68919845  0.51218497  Yes   \n",
       "3  20     0.43396226 0.53373609  0.33797384  Yes   \n",
       "4  28     0.45794393 0.55703246  0.36124252  Yes   \n",
       "5  36     0.38541667 0.49028137  0.28782303  Yes   \n",
       "6  44     0.43678161 0.54735222  0.33063897  Yes   \n",
       "7  52     0.26373626 0.36654917  0.17685483  Yes   \n",
       "8  60     0.17045455 0.26550900  0.09865978  Yes   \n",
       "9  68     0.13793103 0.20495645  0.08633226  Yes   \n",
       "10  4     0.48542274 0.51224015  0.45866788  No    \n",
       "11 12     0.30737705 0.34221325  0.27410184  No    \n",
       "12 20     0.23333333 0.27133850  0.19827578  No    \n",
       "13 28     0.17391304 0.21071965  0.14115819  No    \n",
       "14 36     0.17857143 0.21861678  0.14312750  No    \n",
       "15 44     0.12993039 0.16538796  0.09966115  No    \n",
       "16 52     0.13566740 0.17052145  0.10562169  No    \n",
       "17 60     0.09414226 0.12393981  0.06949798  No    \n",
       "18 68     0.07331378 0.09551552  0.05490142  No    "
      ]
     },
     "metadata": {},
     "output_type": "display_data"
    }
   ],
   "source": [
    "getChurnTenure<-function(dfchurn,breaks){\n",
    "\n",
    "    tenure<-rep(NA,length(breaks)-1)\n",
    "    churnratio<-rep(NA,length(breaks)-1)\n",
    "    lchurnratio<-rep(NA,length(breaks)-1)\n",
    "    uchurnratio<-rep(NA,length(breaks)-1)\n",
    "\n",
    "    for (i in 2:length(breaks)){\n",
    "        tenure[i-1]<-mean(breaks[(i-1):i])\n",
    "        idx<-which(dfchurn$tenure<breaks[i] & dfchurn$tenure>=breaks[i-1])\n",
    "        btchurn<-binom.test(table(dfchurn$Churn[idx]))    \n",
    "        churnratio[i-1]<-1-btchurn$estimate\n",
    "        lchurnratio[i-1]<-1-btchurn$conf.int[1]\n",
    "        uchurnratio[i-1]<-1-btchurn$conf.int[2]\n",
    "\n",
    "    }\n",
    "\n",
    "    dfchurntenure<-data.frame(tenure,churnratio,lchurnratio,uchurnratio)\n",
    "    dfchurntenure\n",
    "}\n",
    "breaks<-seq(0,max(dfchurn$tenure),length.out = 10)\n",
    "dfchurntenureSenior<-getChurnTenure(dfchurn[dfchurn$SeniorCitizen==\"Yes\",],breaks)\n",
    "dfchurntenureSenior$Senior<-\"Yes\"\n",
    "\n",
    "dfchurntenureYoung<-getChurnTenure(dfchurn[dfchurn$SeniorCitizen==\"No\",],breaks)\n",
    "dfchurntenureYoung$Senior<-\"No\"\n",
    "\n",
    "dfchurntenureAge<-rbind(dfchurntenureSenior,dfchurntenureYoung)\n",
    "dfchurntenureAge"
   ]
  },
  {
   "cell_type": "code",
   "execution_count": 59,
   "metadata": {},
   "outputs": [
    {
     "data": {
      "image/png": "[encoded data removed]",
      "text/plain": [
       "plot without title"
      ]
     },
     "metadata": {
      "image/png": {
       "height": 240,
       "width": 360
      },
      "text/plain": {
       "height": 240,
       "width": 360
      }
     },
     "output_type": "display_data"
    }
   ],
   "source": [
    "ggplot(data=dfchurntenureAge,aes(x=tenure,y=churnratio,fill=Senior))+geom_col(position = \"dodge\")+\n",
    "    geom_errorbar(aes(ymin = lchurnratio, ymax= uchurnratio), width = 2,position=position_dodge(width=7))"
   ]
  },
  {
   "cell_type": "code",
   "execution_count": 60,
   "metadata": {},
   "outputs": [
    {
     "data": {
      "text/plain": [
       "\n",
       "Call:\n",
       "lm(formula = churnratio ~ (tenure + I(tenure^2) + I(tenure^3)) * \n",
       "    Senior, data = dfchurntenureAge)\n",
       "\n",
       "Residuals:\n",
       "      Min        1Q    Median        3Q       Max \n",
       "-0.061961 -0.015121  0.002285  0.016805  0.083257 \n",
       "\n",
       "Coefficients:\n",
       "                        Estimate Std. Error t value Pr(>|t|)    \n",
       "(Intercept)            5.739e-01  6.155e-02   9.324 3.01e-06 ***\n",
       "tenure                -2.695e-02  7.502e-03  -3.593  0.00491 ** \n",
       "I(tenure^2)            5.781e-04  2.425e-04   2.384  0.03835 *  \n",
       "I(tenure^3)           -4.293e-06  2.217e-06  -1.936  0.08158 .  \n",
       "SeniorYes              2.068e-01  8.704e-02   2.376  0.03886 *  \n",
       "tenure:SeniorYes       5.326e-03  1.061e-02   0.502  0.62651    \n",
       "I(tenure^2):SeniorYes -1.268e-04  3.429e-04  -0.370  0.71936    \n",
       "I(tenure^3):SeniorYes  1.916e-07  3.136e-06   0.061  0.95249    \n",
       "---\n",
       "Signif. codes:  0 ‘***’ 0.001 ‘**’ 0.01 ‘*’ 0.05 ‘.’ 0.1 ‘ ’ 1\n",
       "\n",
       "Residual standard error: 0.04286 on 10 degrees of freedom\n",
       "Multiple R-squared:  0.9687,\tAdjusted R-squared:  0.9469 \n",
       "F-statistic: 44.27 on 7 and 10 DF,  p-value: 9.834e-07\n"
      ]
     },
     "metadata": {},
     "output_type": "display_data"
    }
   ],
   "source": [
    "model<-lm(data=dfchurntenureAge,churnratio~(tenure+I(tenure^2)+I(tenure^3))*Senior)\n",
    "summary(model)"
   ]
  },
  {
   "cell_type": "code",
   "execution_count": 61,
   "metadata": {},
   "outputs": [
    {
     "data": {
      "text/html": [
       "<style>\n",
       ".dl-inline {width: auto; margin:0; padding: 0}\n",
       ".dl-inline>dt, .dl-inline>dd {float: none; width: auto; display: inline-block}\n",
       ".dl-inline>dt::after {content: \":\\0020\"; padding-right: .5ex}\n",
       ".dl-inline>dt:not(:first-of-type) {padding-left: .5ex}\n",
       "</style><dl class=dl-inline><dt>(Intercept)</dt><dd>0.573911134625772</dd><dt>tenure</dt><dd>-0.0269537661680765</dd><dt>I(tenure^2)</dt><dd>0.000578090907478258</dd><dt>I(tenure^3)</dt><dd>-4.2932266202885e-06</dd><dt>SeniorYes</dt><dd>0.206842716183444</dd><dt>tenure:SeniorYes</dt><dd>0.00532627058510689</dd><dt>I(tenure^2):SeniorYes</dt><dd>-0.00012675991117726</dd><dt>I(tenure^3):SeniorYes</dt><dd>1.91566140491666e-07</dd></dl>\n"
      ],
      "text/latex": [
       "\\begin{description*}\n",
       "\\item[(Intercept)] 0.573911134625772\n",
       "\\item[tenure] -0.0269537661680765\n",
       "\\item[I(tenure\\textbackslash{}textasciicircum\\{\\}2)] 0.000578090907478258\n",
       "\\item[I(tenure\\textbackslash{}textasciicircum\\{\\}3)] -4.2932266202885e-06\n",
       "\\item[SeniorYes] 0.206842716183444\n",
       "\\item[tenure:SeniorYes] 0.00532627058510689\n",
       "\\item[I(tenure\\textbackslash{}textasciicircum\\{\\}2):SeniorYes] -0.00012675991117726\n",
       "\\item[I(tenure\\textbackslash{}textasciicircum\\{\\}3):SeniorYes] 1.91566140491666e-07\n",
       "\\end{description*}\n"
      ],
      "text/markdown": [
       "(Intercept)\n",
       ":   0.573911134625772tenure\n",
       ":   -0.0269537661680765I(tenure^2)\n",
       ":   0.000578090907478258I(tenure^3)\n",
       ":   -4.2932266202885e-06SeniorYes\n",
       ":   0.206842716183444tenure:SeniorYes\n",
       ":   0.00532627058510689I(tenure^2):SeniorYes\n",
       ":   -0.00012675991117726I(tenure^3):SeniorYes\n",
       ":   1.91566140491666e-07\n",
       "\n"
      ],
      "text/plain": [
       "          (Intercept)                tenure           I(tenure^2) \n",
       "         5.739111e-01         -2.695377e-02          5.780909e-04 \n",
       "          I(tenure^3)             SeniorYes      tenure:SeniorYes \n",
       "        -4.293227e-06          2.068427e-01          5.326271e-03 \n",
       "I(tenure^2):SeniorYes I(tenure^3):SeniorYes \n",
       "        -1.267599e-04          1.915661e-07 "
      ]
     },
     "metadata": {},
     "output_type": "display_data"
    }
   ],
   "source": [
    "model$coefficients"
   ]
  },
  {
   "cell_type": "code",
   "execution_count": 62,
   "metadata": {},
   "outputs": [
    {
     "name": "stdout",
     "output_type": "stream",
     "text": [
      "[1] \"Los coeficientes del modelo completo que se usan cuando Senior=Yes son valores relativos al Senior=No\"\n",
      "[1] \"Para obtener el real, hay que sumarle los coeficientes con Senior=No\"\n"
     ]
    },
    {
     "data": {
      "text/html": [
       "<style>\n",
       ".dl-inline {width: auto; margin:0; padding: 0}\n",
       ".dl-inline>dt, .dl-inline>dd {float: none; width: auto; display: inline-block}\n",
       ".dl-inline>dt::after {content: \":\\0020\"; padding-right: .5ex}\n",
       ".dl-inline>dt:not(:first-of-type) {padding-left: .5ex}\n",
       "</style><dl class=dl-inline><dt>SeniorYes</dt><dd>0.780753850809216</dd><dt>tenure:SeniorYes</dt><dd>-0.0216274955829697</dd><dt>I(tenure^2):SeniorYes</dt><dd>0.000451330996300999</dd><dt>I(tenure^3):SeniorYes</dt><dd>-4.10166047979684e-06</dd></dl>\n"
      ],
      "text/latex": [
       "\\begin{description*}\n",
       "\\item[SeniorYes] 0.780753850809216\n",
       "\\item[tenure:SeniorYes] -0.0216274955829697\n",
       "\\item[I(tenure\\textbackslash{}textasciicircum\\{\\}2):SeniorYes] 0.000451330996300999\n",
       "\\item[I(tenure\\textbackslash{}textasciicircum\\{\\}3):SeniorYes] -4.10166047979684e-06\n",
       "\\end{description*}\n"
      ],
      "text/markdown": [
       "SeniorYes\n",
       ":   0.780753850809216tenure:SeniorYes\n",
       ":   -0.0216274955829697I(tenure^2):SeniorYes\n",
       ":   0.000451330996300999I(tenure^3):SeniorYes\n",
       ":   -4.10166047979684e-06\n",
       "\n"
      ],
      "text/plain": [
       "            SeniorYes      tenure:SeniorYes I(tenure^2):SeniorYes \n",
       "         7.807539e-01         -2.162750e-02          4.513310e-04 \n",
       "I(tenure^3):SeniorYes \n",
       "        -4.101660e-06 "
      ]
     },
     "metadata": {},
     "output_type": "display_data"
    },
    {
     "data": {
      "text/html": [
       "<style>\n",
       ".dl-inline {width: auto; margin:0; padding: 0}\n",
       ".dl-inline>dt, .dl-inline>dd {float: none; width: auto; display: inline-block}\n",
       ".dl-inline>dt::after {content: \":\\0020\"; padding-right: .5ex}\n",
       ".dl-inline>dt:not(:first-of-type) {padding-left: .5ex}\n",
       "</style><dl class=dl-inline><dt>(Intercept)</dt><dd>0.780753850809214</dd><dt>tenure</dt><dd>-0.0216274955829695</dd><dt>I(tenure^2)</dt><dd>0.000451330996300994</dd><dt>I(tenure^3)</dt><dd>-4.10166047979679e-06</dd></dl>\n"
      ],
      "text/latex": [
       "\\begin{description*}\n",
       "\\item[(Intercept)] 0.780753850809214\n",
       "\\item[tenure] -0.0216274955829695\n",
       "\\item[I(tenure\\textbackslash{}textasciicircum\\{\\}2)] 0.000451330996300994\n",
       "\\item[I(tenure\\textbackslash{}textasciicircum\\{\\}3)] -4.10166047979679e-06\n",
       "\\end{description*}\n"
      ],
      "text/markdown": [
       "(Intercept)\n",
       ":   0.780753850809214tenure\n",
       ":   -0.0216274955829695I(tenure^2)\n",
       ":   0.000451330996300994I(tenure^3)\n",
       ":   -4.10166047979679e-06\n",
       "\n"
      ],
      "text/plain": [
       "  (Intercept)        tenure   I(tenure^2)   I(tenure^3) \n",
       " 7.807539e-01 -2.162750e-02  4.513310e-04 -4.101660e-06 "
      ]
     },
     "metadata": {},
     "output_type": "display_data"
    }
   ],
   "source": [
    "modelYoung<-lm(data=dfchurntenureAge[dfchurntenureAge$Senior==\"No\",],churnratio~(tenure+I(tenure^2)+I(tenure^3)))\n",
    "modelSenior<-lm(data=dfchurntenureAge[dfchurntenureAge$Senior==\"Yes\",],churnratio~(tenure+I(tenure^2)+I(tenure^3)))\n",
    "print(\"Los coeficientes del modelo completo que se usan cuando Senior=Yes son valores relativos al Senior=No\")\n",
    "print(\"Para obtener el real, hay que sumarle los coeficientes con Senior=No\")\n",
    "\n",
    "model$coefficients[grepl(\"SeniorYes\",names(model$coefficients))]+modelYoung$coefficients\n",
    "\n",
    "modelSenior$coefficients"
   ]
  },
  {
   "cell_type": "code",
   "execution_count": 63,
   "metadata": {},
   "outputs": [
    {
     "data": {
      "text/plain": [
       "\n",
       "Call:\n",
       "lm(formula = churnratio ~ (tenure + I(tenure^2) + I(tenure^3)), \n",
       "    data = dfchurntenureAge[dfchurntenureAge$Senior == \"No\", \n",
       "        ])\n",
       "\n",
       "Residuals:\n",
       "       10        11        12        13        14        15        16        17 \n",
       " 0.010352 -0.018915  0.001607 -0.004271  0.026095 -0.011485  0.003856 -0.016333 \n",
       "       18 \n",
       " 0.009094 \n",
       "\n",
       "Coefficients:\n",
       "              Estimate Std. Error t value Pr(>|t|)    \n",
       "(Intercept)  5.739e-01  2.619e-02  21.916 3.67e-06 ***\n",
       "tenure      -2.695e-02  3.192e-03  -8.445 0.000382 ***\n",
       "I(tenure^2)  5.781e-04  1.032e-04   5.603 0.002502 ** \n",
       "I(tenure^3) -4.293e-06  9.434e-07  -4.551 0.006108 ** \n",
       "---\n",
       "Signif. codes:  0 ‘***’ 0.001 ‘**’ 0.01 ‘*’ 0.05 ‘.’ 0.1 ‘ ’ 1\n",
       "\n",
       "Residual standard error: 0.01824 on 5 degrees of freedom\n",
       "Multiple R-squared:  0.9874,\tAdjusted R-squared:  0.9798 \n",
       "F-statistic: 130.2 on 3 and 5 DF,  p-value: 3.645e-05\n"
      ]
     },
     "metadata": {},
     "output_type": "display_data"
    },
    {
     "data": {
      "text/plain": [
       "\n",
       "Call:\n",
       "lm(formula = churnratio ~ (tenure + I(tenure^2) + I(tenure^3)), \n",
       "    data = dfchurntenureAge[dfchurntenureAge$Senior == \"Yes\", \n",
       "        ])\n",
       "\n",
       "Residuals:\n",
       "        1         2         3         4         5         6         7         8 \n",
       " 0.002964  0.024047 -0.061961  0.018956 -0.010305  0.083257 -0.036061 -0.051482 \n",
       "        9 \n",
       " 0.030586 \n",
       "\n",
       "Coefficients:\n",
       "              Estimate Std. Error t value Pr(>|t|)    \n",
       "(Intercept)  7.808e-01  8.301e-02   9.405 0.000229 ***\n",
       "tenure      -2.163e-02  1.012e-02  -2.138 0.085579 .  \n",
       "I(tenure^2)  4.513e-04  3.270e-04   1.380 0.226087    \n",
       "I(tenure^3) -4.102e-06  2.990e-06  -1.372 0.228534    \n",
       "---\n",
       "Signif. codes:  0 ‘***’ 0.001 ‘**’ 0.01 ‘*’ 0.05 ‘.’ 0.1 ‘ ’ 1\n",
       "\n",
       "Residual standard error: 0.05781 on 5 degrees of freedom\n",
       "Multiple R-squared:  0.9403,\tAdjusted R-squared:  0.9045 \n",
       "F-statistic: 26.24 on 3 and 5 DF,  p-value: 0.001737\n"
      ]
     },
     "metadata": {},
     "output_type": "display_data"
    }
   ],
   "source": [
    "summary(modelYoung)\n",
    "summary(modelSenior)"
   ]
  },
  {
   "cell_type": "code",
   "execution_count": 64,
   "metadata": {},
   "outputs": [
    {
     "data": {
      "image/png": "[encoded data removed]",
      "text/plain": [
       "plot without title"
      ]
     },
     "metadata": {
      "image/png": {
       "height": 240,
       "width": 360
      },
      "text/plain": {
       "height": 240,
       "width": 360
      }
     },
     "output_type": "display_data"
    }
   ],
   "source": [
    "dfchurntenureAge$predict<-predict(model,dfchurntenureAge)\n",
    "ggplot(data=dfchurntenureAge,aes(x=tenure,y=churnratio,color=Senior,fill=Senior))+geom_col(position = \"dodge\")+\n",
    "    geom_errorbar(aes(ymin = lchurnratio, ymax= uchurnratio),color=\"gray30\", width = 2,position=position_dodge(width=7))+\n",
    "    geom_line(aes(y=predict),color=\"black\")"
   ]
  },
  {
   "cell_type": "markdown",
   "metadata": {},
   "source": [
    "# Cargos en cuenta y Churn\n",
    "\n",
    "\n",
    "Empezamos con la matriz de correlación para ver como están relacionadas las siguientes columnas:\n",
    "* Tenure\n",
    "* MonthlyCharges\n",
    "* TotalCharges"
   ]
  },
  {
   "cell_type": "code",
   "execution_count": 65,
   "metadata": {},
   "outputs": [
    {
     "data": {
      "text/html": [
       "<table>\n",
       "<caption>A matrix: 3 × 3 of type dbl</caption>\n",
       "<thead>\n",
       "\t<tr><th></th><th scope=col>MonthlyCharges</th><th scope=col>TotalCharges</th><th scope=col>tenure</th></tr>\n",
       "</thead>\n",
       "<tbody>\n",
       "\t<tr><th scope=row>MonthlyCharges</th><td>1.0000000</td><td>0.6510648</td><td>0.2468618</td></tr>\n",
       "\t<tr><th scope=row>TotalCharges</th><td>0.6510648</td><td>1.0000000</td><td>0.8258805</td></tr>\n",
       "\t<tr><th scope=row>tenure</th><td>0.2468618</td><td>0.8258805</td><td>1.0000000</td></tr>\n",
       "</tbody>\n",
       "</table>\n"
      ],
      "text/latex": [
       "A matrix: 3 × 3 of type dbl\n",
       "\\begin{tabular}{r|lll}\n",
       "  & MonthlyCharges & TotalCharges & tenure\\\\\n",
       "\\hline\n",
       "\tMonthlyCharges & 1.0000000 & 0.6510648 & 0.2468618\\\\\n",
       "\tTotalCharges & 0.6510648 & 1.0000000 & 0.8258805\\\\\n",
       "\ttenure & 0.2468618 & 0.8258805 & 1.0000000\\\\\n",
       "\\end{tabular}\n"
      ],
      "text/markdown": [
       "\n",
       "A matrix: 3 × 3 of type dbl\n",
       "\n",
       "| <!--/--> | MonthlyCharges | TotalCharges | tenure |\n",
       "|---|---|---|---|\n",
       "| MonthlyCharges | 1.0000000 | 0.6510648 | 0.2468618 |\n",
       "| TotalCharges | 0.6510648 | 1.0000000 | 0.8258805 |\n",
       "| tenure | 0.2468618 | 0.8258805 | 1.0000000 |\n",
       "\n"
      ],
      "text/plain": [
       "               MonthlyCharges TotalCharges tenure   \n",
       "MonthlyCharges 1.0000000      0.6510648    0.2468618\n",
       "TotalCharges   0.6510648      1.0000000    0.8258805\n",
       "tenure         0.2468618      0.8258805    1.0000000"
      ]
     },
     "metadata": {},
     "output_type": "display_data"
    }
   ],
   "source": [
    "cor(dfchurn[,c(\"MonthlyCharges\",\"TotalCharges\",\"tenure\")],use = \"complete.obs\")"
   ]
  },
  {
   "cell_type": "markdown",
   "metadata": {},
   "source": [
    "Podemos sacar las siguientes conclusiones:\n",
    "* Los clientes que pagan tienen tarifas mensuales más altas, muestran una ligera correlación con los que llevan más tiempo.\n",
    "* Los clientes que llevan más tiempo, evidentemente han pagado más en todal.\n",
    "* Los clientes que pagan más al mes, acaban pagando más en total."
   ]
  },
  {
   "cell_type": "markdown",
   "metadata": {},
   "source": [
    "# Diferentes variables  categóricas"
   ]
  },
  {
   "cell_type": "code",
   "execution_count": 66,
   "metadata": {},
   "outputs": [],
   "source": [
    "plotRatios<-function(col,dfchurn){\n",
    "    tblchurn<-table(dfchurn[,c(col,\"Churn\")])\n",
    "    bttests<-apply(tblchurn,1,function(x) binom.test(x))\n",
    "    probs<-1-sapply(bttests,function(x) x$estimate)\n",
    "    lth<-1-sapply(bttests,function(x) x$conf.int[1])\n",
    "    uth<-1-sapply(bttests,function(x) x$conf.int[2])\n",
    "\n",
    "    df<-data.frame(group=names(bttests),rate=probs,lth,uth)\n",
    "\n",
    "    ggplot(data=df,aes(x=group,y=rate))+\n",
    "        geom_col(aes(fill=group))+\n",
    "        geom_errorbar(aes(ymin = lth, ymax = uth), width = 0.5, size = 0.7, color = \"gray30\")+\n",
    "        xlab(col)+ylab(\"Churn rate\")\n",
    "}\n"
   ]
  },
  {
   "cell_type": "code",
   "execution_count": 67,
   "metadata": {},
   "outputs": [
    {
     "data": {
      "image/png": "[encoded data removed]",
      "text/plain": [
       "plot without title"
      ]
     },
     "metadata": {
      "image/png": {
       "height": 240,
       "width": 360
      },
      "text/plain": {
       "height": 240,
       "width": 360
      }
     },
     "output_type": "display_data"
    }
   ],
   "source": [
    "plotRatios(\"SeniorCitizen\",dfchurn)"
   ]
  },
  {
   "cell_type": "code",
   "execution_count": 68,
   "metadata": {},
   "outputs": [
    {
     "data": {
      "text/plain": [
       "               Churn\n",
       "InternetService   No  Yes\n",
       "    DSL         1962  459\n",
       "    Fiber optic 1799 1297\n",
       "    No          1413  113"
      ]
     },
     "metadata": {},
     "output_type": "display_data"
    },
    {
     "data": {
      "text/plain": [
       "\n",
       "\tPearson's Chi-squared test\n",
       "\n",
       "data:  table(dfchurn[, c(col, \"Churn\")])\n",
       "X-squared = 732.31, df = 2, p-value < 2.2e-16\n"
      ]
     },
     "metadata": {},
     "output_type": "display_data"
    },
    {
     "data": {
      "image/png": "[encoded data removed]",
      "text/plain": [
       "plot without title"
      ]
     },
     "metadata": {
      "image/png": {
       "height": 240,
       "width": 360
      },
      "text/plain": {
       "height": 240,
       "width": 360
      }
     },
     "output_type": "display_data"
    }
   ],
   "source": [
    "col<-\"InternetService\"\n",
    "plotRatios(col,dfchurn)\n",
    "table(dfchurn[,c(col,\"Churn\")])\n",
    "chisq.test(table(dfchurn[,c(col,\"Churn\")]))"
   ]
  },
  {
   "cell_type": "code",
   "execution_count": 69,
   "metadata": {},
   "outputs": [
    {
     "data": {
      "text/plain": [
       "            Churn\n",
       "PhoneService   No  Yes\n",
       "         No   512  170\n",
       "         Yes 4662 1699"
      ]
     },
     "metadata": {},
     "output_type": "display_data"
    },
    {
     "data": {
      "text/plain": [
       "\n",
       "\tPearson's Chi-squared test with Yates' continuity correction\n",
       "\n",
       "data:  table(dfchurn[, c(col, \"Churn\")])\n",
       "X-squared = 0.91503, df = 1, p-value = 0.3388\n"
      ]
     },
     "metadata": {},
     "output_type": "display_data"
    },
    {
     "data": {
      "image/png": "[encoded data removed]",
      "text/plain": [
       "plot without title"
      ]
     },
     "metadata": {
      "image/png": {
       "height": 240,
       "width": 360
      },
      "text/plain": {
       "height": 240,
       "width": 360
      }
     },
     "output_type": "display_data"
    }
   ],
   "source": [
    "col<-\"PhoneService\"\n",
    "plotRatios(col,dfchurn)\n",
    "table(dfchurn[,c(col,\"Churn\")])\n",
    "chisq.test(table(dfchurn[,c(col,\"Churn\")]))"
   ]
  },
  {
   "cell_type": "code",
   "execution_count": 70,
   "metadata": {},
   "outputs": [
    {
     "data": {
      "text/plain": [
       "\n",
       "\tPearson's Chi-squared test\n",
       "\n",
       "data:  table(dfchurn[, c(col, \"Churn\")])\n",
       "X-squared = 601.81, df = 2, p-value < 2.2e-16\n"
      ]
     },
     "metadata": {},
     "output_type": "display_data"
    },
    {
     "data": {
      "image/png": "[encoded data removed]",
      "text/plain": [
       "plot without title"
      ]
     },
     "metadata": {
      "image/png": {
       "height": 240,
       "width": 360
      },
      "text/plain": {
       "height": 240,
       "width": 360
      }
     },
     "output_type": "display_data"
    }
   ],
   "source": [
    "col<-\"OnlineBackup\"\n",
    "plotRatios(col,dfchurn)\n",
    "chisq.test(table(dfchurn[,c(col,\"Churn\")]))"
   ]
  },
  {
   "cell_type": "code",
   "execution_count": 71,
   "metadata": {},
   "outputs": [
    {
     "data": {
      "text/plain": [
       "\n",
       "\tPearson's Chi-squared test with Yates' continuity correction\n",
       "\n",
       "data:  table(dfchurn[, c(col, \"Churn\")])\n",
       "X-squared = 0.48408, df = 1, p-value = 0.4866\n"
      ]
     },
     "metadata": {},
     "output_type": "display_data"
    },
    {
     "data": {
      "image/png": "[encoded data removed]",
      "text/plain": [
       "plot without title"
      ]
     },
     "metadata": {
      "image/png": {
       "height": 240,
       "width": 360
      },
      "text/plain": {
       "height": 240,
       "width": 360
      }
     },
     "output_type": "display_data"
    }
   ],
   "source": [
    "col<-\"gender\"\n",
    "plotRatios(col,dfchurn)\n",
    "chisq.test(table(dfchurn[,c(col,\"Churn\")]))"
   ]
  },
  {
   "cell_type": "markdown",
   "metadata": {},
   "source": [
    "### ¿Cómo afectan el cojunto de variables?"
   ]
  },
  {
   "cell_type": "markdown",
   "metadata": {},
   "source": [
    "Primero comprobamos como afecta el hecho de tener un Senior Citizen:"
   ]
  },
  {
   "cell_type": "code",
   "execution_count": 72,
   "metadata": {},
   "outputs": [
    {
     "data": {
      "text/html": [
       "'Los coeficientes son:'"
      ],
      "text/latex": [
       "'Los coeficientes son:'"
      ],
      "text/markdown": [
       "'Los coeficientes son:'"
      ],
      "text/plain": [
       "[1] \"Los coeficientes son:\""
      ]
     },
     "metadata": {},
     "output_type": "display_data"
    },
    {
     "data": {
      "text/html": [
       "<style>\n",
       ".dl-inline {width: auto; margin:0; padding: 0}\n",
       ".dl-inline>dt, .dl-inline>dd {float: none; width: auto; display: inline-block}\n",
       ".dl-inline>dt::after {content: \":\\0020\"; padding-right: .5ex}\n",
       ".dl-inline>dt:not(:first-of-type) {padding-left: .5ex}\n",
       "</style><dl class=dl-inline><dt>(Intercept)</dt><dd>-1.17439390137758</dd><dt>SeniorCitizenYes</dt><dd>0.83852208506855</dd></dl>\n"
      ],
      "text/latex": [
       "\\begin{description*}\n",
       "\\item[(Intercept)] -1.17439390137758\n",
       "\\item[SeniorCitizenYes] 0.83852208506855\n",
       "\\end{description*}\n"
      ],
      "text/markdown": [
       "(Intercept)\n",
       ":   -1.17439390137758SeniorCitizenYes\n",
       ":   0.83852208506855\n",
       "\n"
      ],
      "text/plain": [
       "     (Intercept) SeniorCitizenYes \n",
       "      -1.1743939        0.8385221 "
      ]
     },
     "metadata": {},
     "output_type": "display_data"
    }
   ],
   "source": [
    "modelglm<-glm(data=dfchurn,Churn~SeniorCitizen, family=binomial())\n",
    "\n",
    "cf<-(coef(modelglm))\n",
    "paste(\"Los coeficientes son:\")\n",
    "cf"
   ]
  },
  {
   "cell_type": "code",
   "execution_count": 73,
   "metadata": {},
   "outputs": [
    {
     "data": {
      "text/plain": [
       "             Churn\n",
       "SeniorCitizen        No       Yes\n",
       "          No  0.7639383 0.2360617\n",
       "          Yes 0.5831874 0.4168126"
      ]
     },
     "metadata": {},
     "output_type": "display_data"
    },
    {
     "data": {
      "text/html": [
       "'La probabilidad de que un usuario joven deje la compañía es: 0.236061684460261'"
      ],
      "text/latex": [
       "'La probabilidad de que un usuario joven deje la compañía es: 0.236061684460261'"
      ],
      "text/markdown": [
       "'La probabilidad de que un usuario joven deje la compañía es: 0.236061684460261'"
      ],
      "text/plain": [
       "[1] \"La probabilidad de que un usuario joven deje la compañía es: 0.236061684460261\""
      ]
     },
     "metadata": {},
     "output_type": "display_data"
    },
    {
     "data": {
      "text/html": [
       "<span style=white-space:pre-wrap>'La probabilidad dada por el modelo es:  0.236061684460672'</span>"
      ],
      "text/latex": [
       "'La probabilidad dada por el modelo es:  0.236061684460672'"
      ],
      "text/markdown": [
       "<span style=white-space:pre-wrap>'La probabilidad dada por el modelo es:  0.236061684460672'</span>"
      ],
      "text/plain": [
       "[1] \"La probabilidad dada por el modelo es:  0.236061684460672\""
      ]
     },
     "metadata": {},
     "output_type": "display_data"
    },
    {
     "data": {
      "text/html": [
       "'La probabilidad de que un Senior Citizen deje la compañía es: 0.416812609457093'"
      ],
      "text/latex": [
       "'La probabilidad de que un Senior Citizen deje la compañía es: 0.416812609457093'"
      ],
      "text/markdown": [
       "'La probabilidad de que un Senior Citizen deje la compañía es: 0.416812609457093'"
      ],
      "text/plain": [
       "[1] \"La probabilidad de que un Senior Citizen deje la compañía es: 0.416812609457093\""
      ]
     },
     "metadata": {},
     "output_type": "display_data"
    },
    {
     "data": {
      "text/html": [
       "'La probabilidad dada por el modelo es: 0.416812609457078'"
      ],
      "text/latex": [
       "'La probabilidad dada por el modelo es: 0.416812609457078'"
      ],
      "text/markdown": [
       "'La probabilidad dada por el modelo es: 0.416812609457078'"
      ],
      "text/plain": [
       "[1] \"La probabilidad dada por el modelo es: 0.416812609457078\""
      ]
     },
     "metadata": {},
     "output_type": "display_data"
    }
   ],
   "source": [
    "tseniorchurn<-prop.table(table(dfchurn[,c(\"SeniorCitizen\",\"Churn\")]),margin = 1)\n",
    "tseniorchurn\n",
    "\n",
    "paste(\"La probabilidad de que un usuario joven deje la compañía es:\",tseniorchurn[1,2])\n",
    "paste(\"La probabilidad dada por el modelo es: \",exp(cf[1])/(1+exp(cf[1])))\n",
    "\n",
    "\n",
    "paste(\"La probabilidad de que un Senior Citizen deje la compañía es:\",tseniorchurn[2,2])\n",
    "paste(\"La probabilidad dada por el modelo es:\",exp(cf[1]+cf[2])/(1+exp(cf[1]+cf[2])))\n"
   ]
  },
  {
   "cell_type": "code",
   "execution_count": 74,
   "metadata": {},
   "outputs": [
    {
     "data": {
      "text/html": [
       "'La razón de monomios de Churn para ciudadano joven es: 0.309006211180124'"
      ],
      "text/latex": [
       "'La razón de monomios de Churn para ciudadano joven es: 0.309006211180124'"
      ],
      "text/markdown": [
       "'La razón de monomios de Churn para ciudadano joven es: 0.309006211180124'"
      ],
      "text/plain": [
       "[1] \"La razón de monomios de Churn para ciudadano joven es: 0.309006211180124\""
      ]
     },
     "metadata": {},
     "output_type": "display_data"
    },
    {
     "data": {
      "text/html": [
       "'La razón de monomios dada por el modelo es: 0.309006211180829'"
      ],
      "text/latex": [
       "'La razón de monomios dada por el modelo es: 0.309006211180829'"
      ],
      "text/markdown": [
       "'La razón de monomios dada por el modelo es: 0.309006211180829'"
      ],
      "text/plain": [
       "[1] \"La razón de monomios dada por el modelo es: 0.309006211180829\""
      ]
     },
     "metadata": {},
     "output_type": "display_data"
    },
    {
     "data": {
      "text/html": [
       "'La razón de monomios de Churn para ciudadano Senior es: 0.714714714714715'"
      ],
      "text/latex": [
       "'La razón de monomios de Churn para ciudadano Senior es: 0.714714714714715'"
      ],
      "text/markdown": [
       "'La razón de monomios de Churn para ciudadano Senior es: 0.714714714714715'"
      ],
      "text/plain": [
       "[1] \"La razón de monomios de Churn para ciudadano Senior es: 0.714714714714715\""
      ]
     },
     "metadata": {},
     "output_type": "display_data"
    },
    {
     "data": {
      "text/html": [
       "'La razón de monomios dada por el modelo es: 0.714714714714671'"
      ],
      "text/latex": [
       "'La razón de monomios dada por el modelo es: 0.714714714714671'"
      ],
      "text/markdown": [
       "'La razón de monomios dada por el modelo es: 0.714714714714671'"
      ],
      "text/plain": [
       "[1] \"La razón de monomios dada por el modelo es: 0.714714714714671\""
      ]
     },
     "metadata": {},
     "output_type": "display_data"
    }
   ],
   "source": [
    "paste(\"La razón de monomios de Churn para ciudadano joven es:\",tseniorchurn[1,2]/tseniorchurn[1,1] )\n",
    "paste(\"La razón de monomios dada por el modelo es:\",exp(cf[1]))\n",
    "\n",
    "paste(\"La razón de monomios de Churn para ciudadano Senior es:\",tseniorchurn[2,2]/tseniorchurn[2,1])\n",
    "paste(\"La razón de monomios dada por el modelo es:\",exp(cf[1]+cf[2]))"
   ]
  },
  {
   "cell_type": "markdown",
   "metadata": {},
   "source": [
    "Comprobamos si existe una relación lineal entre 3 factores"
   ]
  },
  {
   "cell_type": "code",
   "execution_count": 75,
   "metadata": {},
   "outputs": [
    {
     "data": {
      "text/plain": [
       "\n",
       "Call:\n",
       "glm(formula = Churn ~ gender + PhoneService + SeniorCitizen, \n",
       "    family = binomial(), data = dfchurn)\n",
       "\n",
       "Deviance Residuals: \n",
       "    Min       1Q   Median       3Q      Max  \n",
       "-1.0493  -0.7427  -0.7304   1.3112   1.7420  \n",
       "\n",
       "Coefficients:\n",
       "                 Estimate Std. Error z value Pr(>|z|)    \n",
       "(Intercept)      -1.23158    0.09471 -13.004   <2e-16 ***\n",
       "genderMale       -0.03820    0.05461  -0.700    0.484    \n",
       "PhoneServiceYes   0.08450    0.09396   0.899    0.368    \n",
       "SeniorCitizenYes  0.83802    0.06740  12.433   <2e-16 ***\n",
       "---\n",
       "Signif. codes:  0 ‘***’ 0.001 ‘**’ 0.01 ‘*’ 0.05 ‘.’ 0.1 ‘ ’ 1\n",
       "\n",
       "(Dispersion parameter for binomial family taken to be 1)\n",
       "\n",
       "    Null deviance: 8150.1  on 7042  degrees of freedom\n",
       "Residual deviance: 7999.8  on 7039  degrees of freedom\n",
       "AIC: 8007.8\n",
       "\n",
       "Number of Fisher Scoring iterations: 4\n"
      ]
     },
     "metadata": {},
     "output_type": "display_data"
    },
    {
     "data": {
      "text/html": [
       "<table>\n",
       "<caption>A anova: 4 × 5</caption>\n",
       "<thead>\n",
       "\t<tr><th></th><th scope=col>Df</th><th scope=col>Deviance</th><th scope=col>Resid. Df</th><th scope=col>Resid. Dev</th><th scope=col>Pr(&gt;Chi)</th></tr>\n",
       "\t<tr><th></th><th scope=col>&lt;int&gt;</th><th scope=col>&lt;dbl&gt;</th><th scope=col>&lt;int&gt;</th><th scope=col>&lt;dbl&gt;</th><th scope=col>&lt;dbl&gt;</th></tr>\n",
       "</thead>\n",
       "<tbody>\n",
       "\t<tr><th scope=row>NULL</th><td>NA</td><td>         NA</td><td>7042</td><td>8150.146</td><td>          NA</td></tr>\n",
       "\t<tr><th scope=row>gender</th><td> 1</td><td>  0.5223499</td><td>7041</td><td>8149.624</td><td>4.698410e-01</td></tr>\n",
       "\t<tr><th scope=row>PhoneService</th><td> 1</td><td>  1.0071756</td><td>7040</td><td>8148.616</td><td>3.155804e-01</td></tr>\n",
       "\t<tr><th scope=row>SeniorCitizen</th><td> 1</td><td>148.7794971</td><td>7039</td><td>7999.837</td><td>3.204348e-34</td></tr>\n",
       "</tbody>\n",
       "</table>\n"
      ],
      "text/latex": [
       "A anova: 4 × 5\n",
       "\\begin{tabular}{r|lllll}\n",
       "  & Df & Deviance & Resid. Df & Resid. Dev & Pr(>Chi)\\\\\n",
       "  & <int> & <dbl> & <int> & <dbl> & <dbl>\\\\\n",
       "\\hline\n",
       "\tNULL & NA &          NA & 7042 & 8150.146 &           NA\\\\\n",
       "\tgender &  1 &   0.5223499 & 7041 & 8149.624 & 4.698410e-01\\\\\n",
       "\tPhoneService &  1 &   1.0071756 & 7040 & 8148.616 & 3.155804e-01\\\\\n",
       "\tSeniorCitizen &  1 & 148.7794971 & 7039 & 7999.837 & 3.204348e-34\\\\\n",
       "\\end{tabular}\n"
      ],
      "text/markdown": [
       "\n",
       "A anova: 4 × 5\n",
       "\n",
       "| <!--/--> | Df &lt;int&gt; | Deviance &lt;dbl&gt; | Resid. Df &lt;int&gt; | Resid. Dev &lt;dbl&gt; | Pr(&gt;Chi) &lt;dbl&gt; |\n",
       "|---|---|---|---|---|---|\n",
       "| NULL | NA |          NA | 7042 | 8150.146 |           NA |\n",
       "| gender |  1 |   0.5223499 | 7041 | 8149.624 | 4.698410e-01 |\n",
       "| PhoneService |  1 |   1.0071756 | 7040 | 8148.616 | 3.155804e-01 |\n",
       "| SeniorCitizen |  1 | 148.7794971 | 7039 | 7999.837 | 3.204348e-34 |\n",
       "\n"
      ],
      "text/plain": [
       "              Df Deviance    Resid. Df Resid. Dev Pr(>Chi)    \n",
       "NULL          NA          NA 7042      8150.146             NA\n",
       "gender         1   0.5223499 7041      8149.624   4.698410e-01\n",
       "PhoneService   1   1.0071756 7040      8148.616   3.155804e-01\n",
       "SeniorCitizen  1 148.7794971 7039      7999.837   3.204348e-34"
      ]
     },
     "metadata": {},
     "output_type": "display_data"
    }
   ],
   "source": [
    "modelglm<-glm(data=dfchurn,Churn~gender+PhoneService+SeniorCitizen, family=binomial())\n",
    "\n",
    "summary(modelglm)\n",
    "anova(modelglm,test=\"Chi\")"
   ]
  },
  {
   "cell_type": "markdown",
   "metadata": {},
   "source": [
    "Comprobamos si existe una multiplicativa"
   ]
  },
  {
   "cell_type": "code",
   "execution_count": 76,
   "metadata": {},
   "outputs": [
    {
     "data": {
      "text/plain": [
       "\n",
       "Call:\n",
       "glm(formula = Churn ~ gender * PhoneService * SeniorCitizen, \n",
       "    family = binomial(), data = dfchurn)\n",
       "\n",
       "Deviance Residuals: \n",
       "    Min       1Q   Median       3Q      Max  \n",
       "-1.1213  -0.7461  -0.7287   1.3195   1.7768  \n",
       "\n",
       "Coefficients:\n",
       "                                            Estimate Std. Error z value\n",
       "(Intercept)                                  -1.3474     0.1461  -9.221\n",
       "genderMale                                    0.1360     0.2018   0.674\n",
       "PhoneServiceYes                               0.2110     0.1530   1.379\n",
       "SeniorCitizenYes                              1.2139     0.3326   3.649\n",
       "genderMale:PhoneServiceYes                   -0.1901     0.2118  -0.897\n",
       "genderMale:SeniorCitizenYes                  -0.4505     0.4486  -1.004\n",
       "PhoneServiceYes:SeniorCitizenYes             -0.4054     0.3472  -1.168\n",
       "genderMale:PhoneServiceYes:SeniorCitizenYes   0.4834     0.4704   1.028\n",
       "                                            Pr(>|z|)    \n",
       "(Intercept)                                  < 2e-16 ***\n",
       "genderMale                                  0.500343    \n",
       "PhoneServiceYes                             0.167989    \n",
       "SeniorCitizenYes                            0.000263 ***\n",
       "genderMale:PhoneServiceYes                  0.369576    \n",
       "genderMale:SeniorCitizenYes                 0.315296    \n",
       "PhoneServiceYes:SeniorCitizenYes            0.242972    \n",
       "genderMale:PhoneServiceYes:SeniorCitizenYes 0.304141    \n",
       "---\n",
       "Signif. codes:  0 ‘***’ 0.001 ‘**’ 0.01 ‘*’ 0.05 ‘.’ 0.1 ‘ ’ 1\n",
       "\n",
       "(Dispersion parameter for binomial family taken to be 1)\n",
       "\n",
       "    Null deviance: 8150.1  on 7042  degrees of freedom\n",
       "Residual deviance: 7998.2  on 7035  degrees of freedom\n",
       "AIC: 8014.2\n",
       "\n",
       "Number of Fisher Scoring iterations: 4\n"
      ]
     },
     "metadata": {},
     "output_type": "display_data"
    }
   ],
   "source": [
    "modelglm<-glm(data=dfchurn,Churn~gender*PhoneService*SeniorCitizen, family=binomial())\n",
    "\n",
    "summary(modelglm)"
   ]
  },
  {
   "cell_type": "markdown",
   "metadata": {},
   "source": [
    "Añadimos al modelo el factor OnlineBackup"
   ]
  },
  {
   "cell_type": "code",
   "execution_count": 77,
   "metadata": {},
   "outputs": [
    {
     "data": {
      "text/plain": [
       "\n",
       "Call:\n",
       "glm(formula = Churn ~ gender + PhoneService + SeniorCitizen + \n",
       "    OnlineBackup, family = binomial(), data = dfchurn)\n",
       "\n",
       "Deviance Residuals: \n",
       "    Min       1Q   Median       3Q      Max  \n",
       "-1.2446  -0.8651  -0.6598   1.1116   2.3016  \n",
       "\n",
       "Coefficients:\n",
       "                                Estimate Std. Error z value Pr(>|z|)    \n",
       "(Intercept)                     -0.85434    0.09786  -8.730  < 2e-16 ***\n",
       "genderMale                      -0.04403    0.05693  -0.773    0.439    \n",
       "PhoneServiceYes                  0.38693    0.09583   4.038  5.4e-05 ***\n",
       "SeniorCitizenYes                 0.62409    0.07041   8.863  < 2e-16 ***\n",
       "OnlineBackupNo internet service -2.06378    0.10583 -19.501  < 2e-16 ***\n",
       "OnlineBackupYes                 -0.90266    0.06216 -14.521  < 2e-16 ***\n",
       "---\n",
       "Signif. codes:  0 ‘***’ 0.001 ‘**’ 0.01 ‘*’ 0.05 ‘.’ 0.1 ‘ ’ 1\n",
       "\n",
       "(Dispersion parameter for binomial family taken to be 1)\n",
       "\n",
       "    Null deviance: 8150.1  on 7042  degrees of freedom\n",
       "Residual deviance: 7393.1  on 7037  degrees of freedom\n",
       "AIC: 7405.1\n",
       "\n",
       "Number of Fisher Scoring iterations: 5\n"
      ]
     },
     "metadata": {},
     "output_type": "display_data"
    }
   ],
   "source": [
    "modelglm<-glm(data=dfchurn,Churn~gender+PhoneService+SeniorCitizen+OnlineBackup, family=binomial())\n",
    "\n",
    "summary(modelglm)"
   ]
  },
  {
   "cell_type": "code",
   "execution_count": 78,
   "metadata": {},
   "outputs": [
    {
     "name": "stderr",
     "output_type": "stream",
     "text": [
      "Waiting for profiling to be done...\n",
      "\n"
     ]
    },
    {
     "data": {
      "text/html": [
       "<table>\n",
       "<caption>A matrix: 6 × 2 of type dbl</caption>\n",
       "<thead>\n",
       "\t<tr><th></th><th scope=col>2.5 %</th><th scope=col>97.5 %</th></tr>\n",
       "</thead>\n",
       "<tbody>\n",
       "\t<tr><th scope=row>(Intercept)</th><td>-1.0483154</td><td>-0.66450397</td></tr>\n",
       "\t<tr><th scope=row>genderMale</th><td>-0.1556382</td><td> 0.06755282</td></tr>\n",
       "\t<tr><th scope=row>PhoneServiceYes</th><td> 0.2011399</td><td> 0.57699023</td></tr>\n",
       "\t<tr><th scope=row>SeniorCitizenYes</th><td> 0.4858663</td><td> 0.76192463</td></tr>\n",
       "\t<tr><th scope=row>OnlineBackupNo internet service</th><td>-2.2758066</td><td>-1.86061019</td></tr>\n",
       "\t<tr><th scope=row>OnlineBackupYes</th><td>-1.0250391</td><td>-0.78133019</td></tr>\n",
       "</tbody>\n",
       "</table>\n"
      ],
      "text/latex": [
       "A matrix: 6 × 2 of type dbl\n",
       "\\begin{tabular}{r|ll}\n",
       "  & 2.5 \\% & 97.5 \\%\\\\\n",
       "\\hline\n",
       "\t(Intercept) & -1.0483154 & -0.66450397\\\\\n",
       "\tgenderMale & -0.1556382 &  0.06755282\\\\\n",
       "\tPhoneServiceYes &  0.2011399 &  0.57699023\\\\\n",
       "\tSeniorCitizenYes &  0.4858663 &  0.76192463\\\\\n",
       "\tOnlineBackupNo internet service & -2.2758066 & -1.86061019\\\\\n",
       "\tOnlineBackupYes & -1.0250391 & -0.78133019\\\\\n",
       "\\end{tabular}\n"
      ],
      "text/markdown": [
       "\n",
       "A matrix: 6 × 2 of type dbl\n",
       "\n",
       "| <!--/--> | 2.5 % | 97.5 % |\n",
       "|---|---|---|\n",
       "| (Intercept) | -1.0483154 | -0.66450397 |\n",
       "| genderMale | -0.1556382 |  0.06755282 |\n",
       "| PhoneServiceYes |  0.2011399 |  0.57699023 |\n",
       "| SeniorCitizenYes |  0.4858663 |  0.76192463 |\n",
       "| OnlineBackupNo internet service | -2.2758066 | -1.86061019 |\n",
       "| OnlineBackupYes | -1.0250391 | -0.78133019 |\n",
       "\n"
      ],
      "text/plain": [
       "                                2.5 %      97.5 %     \n",
       "(Intercept)                     -1.0483154 -0.66450397\n",
       "genderMale                      -0.1556382  0.06755282\n",
       "PhoneServiceYes                  0.2011399  0.57699023\n",
       "SeniorCitizenYes                 0.4858663  0.76192463\n",
       "OnlineBackupNo internet service -2.2758066 -1.86061019\n",
       "OnlineBackupYes                 -1.0250391 -0.78133019"
      ]
     },
     "metadata": {},
     "output_type": "display_data"
    }
   ],
   "source": [
    "confint(modelglm)"
   ]
  },
  {
   "cell_type": "markdown",
   "metadata": {},
   "source": [
    "Al añadir **OnlineBackup** hemos visto como **PhoneService** se volvía relevante. Vamos a buscar la relación que existe entre estas dos variables."
   ]
  },
  {
   "cell_type": "code",
   "execution_count": 79,
   "metadata": {},
   "outputs": [
    {
     "data": {
      "text/plain": [
       "\n",
       "\tPearson's Chi-squared test with Yates' continuity correction\n",
       "\n",
       "data:  table(mydf[, c(col, \"Churn\")])\n",
       "X-squared = 2.4788, df = 1, p-value = 0.1154\n"
      ]
     },
     "metadata": {},
     "output_type": "display_data"
    },
    {
     "data": {
      "image/png": "[encoded data removed]",
      "text/plain": [
       "plot without title"
      ]
     },
     "metadata": {
      "image/png": {
       "height": 240,
       "width": 360
      },
      "text/plain": {
       "height": 240,
       "width": 360
      }
     },
     "output_type": "display_data"
    }
   ],
   "source": [
    "col<-\"PhoneService\"\n",
    "mydf<-dfchurn[dfchurn$OnlineBackup==\"Yes\",]\n",
    "plotRatios(col,mydf)\n",
    "chisq.test(table(mydf[,c(col,\"Churn\")]))"
   ]
  },
  {
   "cell_type": "code",
   "execution_count": 80,
   "metadata": {},
   "outputs": [
    {
     "data": {
      "text/plain": [
       "\n",
       "\tPearson's Chi-squared test with Yates' continuity correction\n",
       "\n",
       "data:  table(mydf[, c(col, \"Churn\")])\n",
       "X-squared = 17.678, df = 1, p-value = 2.616e-05\n"
      ]
     },
     "metadata": {},
     "output_type": "display_data"
    },
    {
     "data": {
      "image/png": "[encoded data removed]",
      "text/plain": [
       "plot without title"
      ]
     },
     "metadata": {
      "image/png": {
       "height": 240,
       "width": 360
      },
      "text/plain": {
       "height": 240,
       "width": 360
      }
     },
     "output_type": "display_data"
    }
   ],
   "source": [
    "mydf<-dfchurn[dfchurn$OnlineBackup==\"No\",]\n",
    "plotRatios(col,mydf)\n",
    "chisq.test(table(mydf[,c(col,\"Churn\")]))"
   ]
  },
  {
   "cell_type": "code",
   "execution_count": 81,
   "metadata": {
    "scrolled": false
   },
   "outputs": [
    {
     "name": "stderr",
     "output_type": "stream",
     "text": [
      "Warning message:\n",
      "“Removed 1 rows containing missing values (position_stack).”\n",
      "Warning message in chisq.test(table(mydf[, c(col, \"Churn\")])):\n",
      "“Chi-squared approximation may be incorrect”\n"
     ]
    },
    {
     "data": {
      "text/plain": [
       "\n",
       "\tPearson's Chi-squared test\n",
       "\n",
       "data:  table(mydf[, c(col, \"Churn\")])\n",
       "X-squared = NaN, df = 1, p-value = NA\n"
      ]
     },
     "metadata": {},
     "output_type": "display_data"
    },
    {
     "data": {
      "image/png": "[encoded data removed]",
      "text/plain": [
       "plot without title"
      ]
     },
     "metadata": {
      "image/png": {
       "height": 240,
       "width": 360
      },
      "text/plain": {
       "height": 240,
       "width": 360
      }
     },
     "output_type": "display_data"
    }
   ],
   "source": [
    "mydf<-dfchurn[dfchurn$OnlineBackup==\"No internet service\",]\n",
    "plotRatios(col,mydf)\n",
    "chisq.test(table(mydf[,c(col,\"Churn\")]))\n"
   ]
  },
  {
   "cell_type": "code",
   "execution_count": 82,
   "metadata": {},
   "outputs": [
    {
     "data": {
      "text/plain": [
       "\n",
       "Call:\n",
       "glm(formula = Churn ~ PhoneService * OnlineBackup, family = binomial(), \n",
       "    data = dfchurn)\n",
       "\n",
       "Deviance Residuals: \n",
       "    Min       1Q   Median       3Q      Max  \n",
       "-1.0333  -0.8467  -0.7056   1.3287   2.2817  \n",
       "\n",
       "Coefficients: (1 not defined because of singularities)\n",
       "                                                Estimate Std. Error z value\n",
       "(Intercept)                                      -0.8413     0.1097  -7.671\n",
       "PhoneServiceYes                                   0.4924     0.1164   4.229\n",
       "OnlineBackupNo internet service                  -2.1772     0.1053 -20.676\n",
       "OnlineBackupYes                                  -0.6907     0.1894  -3.647\n",
       "PhoneServiceYes:OnlineBackupNo internet service       NA         NA      NA\n",
       "PhoneServiceYes:OnlineBackupYes                  -0.2240     0.2003  -1.119\n",
       "                                                Pr(>|z|)    \n",
       "(Intercept)                                     1.70e-14 ***\n",
       "PhoneServiceYes                                 2.34e-05 ***\n",
       "OnlineBackupNo internet service                  < 2e-16 ***\n",
       "OnlineBackupYes                                 0.000265 ***\n",
       "PhoneServiceYes:OnlineBackupNo internet service       NA    \n",
       "PhoneServiceYes:OnlineBackupYes                 0.263352    \n",
       "---\n",
       "Signif. codes:  0 ‘***’ 0.001 ‘**’ 0.01 ‘*’ 0.05 ‘.’ 0.1 ‘ ’ 1\n",
       "\n",
       "(Dispersion parameter for binomial family taken to be 1)\n",
       "\n",
       "    Null deviance: 8150.1  on 7042  degrees of freedom\n",
       "Residual deviance: 7469.5  on 7038  degrees of freedom\n",
       "AIC: 7479.5\n",
       "\n",
       "Number of Fisher Scoring iterations: 5\n"
      ]
     },
     "metadata": {},
     "output_type": "display_data"
    }
   ],
   "source": [
    "modelglm<-glm(data=dfchurn,Churn~PhoneService*OnlineBackup, family=binomial())\n",
    "\n",
    "summary(modelglm)"
   ]
  },
  {
   "cell_type": "markdown",
   "metadata": {},
   "source": [
    "Vemos que **PhoneService** cuando **OnlineBackup es \"YES\"** no se ve afectado. Lo que coincide con el primer dibujo de barras que habíamos pintado."
   ]
  },
  {
   "cell_type": "markdown",
   "metadata": {},
   "source": [
    "#### Modelos de regresión logistica"
   ]
  },
  {
   "cell_type": "markdown",
   "metadata": {},
   "source": [
    "Antes vimos de otra forma como cambiaba el ratio de Churn con una regresión lineal. Aquí utilizamos una regresión logística para llegar a la misma conclusión."
   ]
  },
  {
   "cell_type": "code",
   "execution_count": 83,
   "metadata": {},
   "outputs": [
    {
     "data": {
      "text/plain": [
       "\n",
       "Call:\n",
       "glm(formula = Churn ~ tenure, family = binomial(), data = dfchurn)\n",
       "\n",
       "Deviance Residuals: \n",
       "    Min       1Q   Median       3Q      Max  \n",
       "-1.1890  -0.8386  -0.4796   1.1823   2.3770  \n",
       "\n",
       "Coefficients:\n",
       "             Estimate Std. Error z value Pr(>|z|)    \n",
       "(Intercept)  0.027313   0.042220   0.647    0.518    \n",
       "tenure      -0.038767   0.001405 -27.589   <2e-16 ***\n",
       "---\n",
       "Signif. codes:  0 ‘***’ 0.001 ‘**’ 0.01 ‘*’ 0.05 ‘.’ 0.1 ‘ ’ 1\n",
       "\n",
       "(Dispersion parameter for binomial family taken to be 1)\n",
       "\n",
       "    Null deviance: 8150.1  on 7042  degrees of freedom\n",
       "Residual deviance: 7191.9  on 7041  degrees of freedom\n",
       "AIC: 7195.9\n",
       "\n",
       "Number of Fisher Scoring iterations: 4\n"
      ]
     },
     "metadata": {},
     "output_type": "display_data"
    }
   ],
   "source": [
    "modelglm<-glm(data=dfchurn,Churn~tenure, family=binomial())\n",
    "summary(modelglm)"
   ]
  },
  {
   "cell_type": "code",
   "execution_count": 84,
   "metadata": {},
   "outputs": [
    {
     "data": {
      "text/plain": [
       "\n",
       "Call:\n",
       "glm(formula = Churn ~ MonthlyCharges * SeniorCitizen, family = binomial(), \n",
       "    data = dfchurn)\n",
       "\n",
       "Deviance Residuals: \n",
       "    Min       1Q   Median       3Q      Max  \n",
       "-1.0799  -0.8380  -0.6349   1.3029   2.0209  \n",
       "\n",
       "Coefficients:\n",
       "                                 Estimate Std. Error z value Pr(>|z|)    \n",
       "(Intercept)                     -2.196841   0.080961 -27.134  < 2e-16 ***\n",
       "MonthlyCharges                   0.015589   0.001079  14.452  < 2e-16 ***\n",
       "SeniorCitizenYes                 1.642664   0.227281   7.227 4.92e-13 ***\n",
       "MonthlyCharges:SeniorCitizenYes -0.012858   0.002763  -4.655 3.25e-06 ***\n",
       "---\n",
       "Signif. codes:  0 ‘***’ 0.001 ‘**’ 0.01 ‘*’ 0.05 ‘.’ 0.1 ‘ ’ 1\n",
       "\n",
       "(Dispersion parameter for binomial family taken to be 1)\n",
       "\n",
       "    Null deviance: 8150.1  on 7042  degrees of freedom\n",
       "Residual deviance: 7777.9  on 7039  degrees of freedom\n",
       "AIC: 7785.9\n",
       "\n",
       "Number of Fisher Scoring iterations: 4\n"
      ]
     },
     "metadata": {},
     "output_type": "display_data"
    }
   ],
   "source": [
    "modelglm<-glm(data=dfchurn,Churn~MonthlyCharges*SeniorCitizen, family=binomial())\n",
    "\n",
    "summary(modelglm)"
   ]
  },
  {
   "cell_type": "code",
   "execution_count": null,
   "metadata": {},
   "outputs": [],
   "source": []
  }
 ],
 "metadata": {
  "kernelspec": {
   "display_name": "R",
   "language": "R",
   "name": "ir"
  },
  "language_info": {
   "codemirror_mode": "r",
   "file_extension": ".r",
   "mimetype": "text/x-r-source",
   "name": "R",
   "pygments_lexer": "r",
   "version": "4.1.1"
  }
 },
 "nbformat": 4,
 "nbformat_minor": 2
}
