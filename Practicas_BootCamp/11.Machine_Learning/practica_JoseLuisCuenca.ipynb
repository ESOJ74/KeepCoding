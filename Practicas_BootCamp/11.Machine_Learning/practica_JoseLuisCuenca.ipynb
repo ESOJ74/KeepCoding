{
 "cells": [
  {
   "cell_type": "markdown",
   "id": "934ec943-cf36-482a-8ada-6446c4d8f4af",
   "metadata": {},
   "source": [
    "# Práctica Machine Learning"
   ]
  },
  {
   "cell_type": "markdown",
   "id": "68e93109-a99b-480d-bc6f-0896bac080ef",
   "metadata": {},
   "source": [
    "## 0 - IMPORTACION DE LIBRERIAS, FICHERO AIRBNB Y PREPARACION DE LOS DATASET EN FICHEROS"
   ]
  },
  {
   "cell_type": "markdown",
   "id": "7106968d-ec4b-4add-be3d-5ac4e9b7b485",
   "metadata": {},
   "source": [
    "#### 0.0 - Importación de las librerías"
   ]
  },
  {
   "cell_type": "code",
   "execution_count": 1,
   "id": "c9121f88-9e50-4809-a231-d33dc1a6458a",
   "metadata": {},
   "outputs": [],
   "source": [
    "import numpy as np\n",
    "import pandas as pd\n",
    "\n",
    "import matplotlib.pyplot as plt\n",
    "from matplotlib.colors import ListedColormap\n",
    "%matplotlib inline \n",
    "plt.style.use(\"Solarize_Light2\")\n",
    "\n",
    "import seaborn as sns\n",
    "\n",
    "from sklearn import preprocessing\n",
    "from sklearn.model_selection import train_test_split\n",
    "from sklearn.model_selection import GridSearchCV\n",
    "from sklearn.linear_model import Lasso\n",
    "from sklearn.ensemble import RandomForestRegressor\n",
    "from sklearn.feature_selection import f_regression, mutual_info_regression\n",
    "from sklearn.tree import DecisionTreeRegressor\n",
    "from sklearn.linear_model import LinearRegression\n",
    "from sklearn.linear_model import Ridge"
   ]
  },
  {
   "cell_type": "markdown",
   "id": "cb7c20d6-b7d2-4dd2-92a9-828a7e876927",
   "metadata": {},
   "source": [
    "#### 0.1 - Carga de datos "
   ]
  },
  {
   "cell_type": "code",
   "execution_count": 2,
   "id": "57b26bfd-b9d5-4f11-8959-e39ab4142cdc",
   "metadata": {},
   "outputs": [],
   "source": [
    "df = pd.read_csv('airbnb-listings-extract.csv', sep=';', decimal='.')"
   ]
  },
  {
   "cell_type": "markdown",
   "id": "6293293d-3c4e-45ed-b91f-6155e4964279",
   "metadata": {},
   "source": [
    "#### 0.2 Dividimos el dataset en train y test"
   ]
  },
  {
   "cell_type": "code",
   "execution_count": 3,
   "id": "085a92b5-f237-4bde-9afd-2fd8f413dcc1",
   "metadata": {},
   "outputs": [
    {
     "name": "stdout",
     "output_type": "stream",
     "text": [
      "Dimensiones del dataset de training: (11824, 89)\n",
      "Dimensiones del dataset de test: (2956, 89)\n"
     ]
    }
   ],
   "source": [
    "train, test = train_test_split(df, test_size=0.2, shuffle=True, random_state=0)\n",
    "\n",
    "print(f'Dimensiones del dataset de training: {train.shape}')\n",
    "print(f'Dimensiones del dataset de test: {test.shape}')\n",
    "\n",
    "train.to_csv('./train.csv', sep=';', decimal='.', index=False)\n",
    "test.to_csv('./test.csv', sep=';', decimal='.', index=False)"
   ]
  },
  {
   "cell_type": "markdown",
   "id": "7d0c72d1-9b0c-4205-8cbb-81da1fc5a002",
   "metadata": {},
   "source": [
    "#### 0.3 Cargamos el dataset para TRAINING "
   ]
  },
  {
   "cell_type": "code",
   "execution_count": 4,
   "id": "7b0b6fed-3239-4ed8-b35e-88a3d676f1e4",
   "metadata": {},
   "outputs": [],
   "source": [
    "df_train = pd.read_csv('./train.csv', sep=';', decimal='.')"
   ]
  },
  {
   "cell_type": "code",
   "execution_count": 5,
   "id": "9dab29cd-56e6-4296-91dc-57400e28b470",
   "metadata": {},
   "outputs": [
    {
     "data": {
      "text/html": [
       "<div>\n",
       "<style scoped>\n",
       "    .dataframe tbody tr th:only-of-type {\n",
       "        vertical-align: middle;\n",
       "    }\n",
       "\n",
       "    .dataframe tbody tr th {\n",
       "        vertical-align: top;\n",
       "    }\n",
       "\n",
       "    .dataframe thead th {\n",
       "        text-align: right;\n",
       "    }\n",
       "</style>\n",
       "<table border=\"1\" class=\"dataframe\">\n",
       "  <thead>\n",
       "    <tr style=\"text-align: right;\">\n",
       "      <th></th>\n",
       "      <th>ID</th>\n",
       "      <th>Listing Url</th>\n",
       "      <th>Scrape ID</th>\n",
       "      <th>Last Scraped</th>\n",
       "      <th>Name</th>\n",
       "      <th>Summary</th>\n",
       "      <th>Space</th>\n",
       "      <th>Description</th>\n",
       "      <th>Experiences Offered</th>\n",
       "      <th>Neighborhood Overview</th>\n",
       "      <th>...</th>\n",
       "      <th>Review Scores Communication</th>\n",
       "      <th>Review Scores Location</th>\n",
       "      <th>Review Scores Value</th>\n",
       "      <th>License</th>\n",
       "      <th>Jurisdiction Names</th>\n",
       "      <th>Cancellation Policy</th>\n",
       "      <th>Calculated host listings count</th>\n",
       "      <th>Reviews per Month</th>\n",
       "      <th>Geolocation</th>\n",
       "      <th>Features</th>\n",
       "    </tr>\n",
       "  </thead>\n",
       "  <tbody>\n",
       "    <tr>\n",
       "      <th>0</th>\n",
       "      <td>5994463</td>\n",
       "      <td>https://www.airbnb.com/rooms/5994463</td>\n",
       "      <td>20170407214119</td>\n",
       "      <td>2017-04-08</td>\n",
       "      <td>PISO ATOCHA- FLAT NEAR ATOCHA  .</td>\n",
       "      <td>Piso recién reformado cómoda habitación con ba...</td>\n",
       "      <td>Un piso muy cómodo en Jerónimos, una de las zo...</td>\n",
       "      <td>Piso recién reformado cómoda habitación con ba...</td>\n",
       "      <td>none</td>\n",
       "      <td>El barrio de Jeronimos es un enclave tranquilo...</td>\n",
       "      <td>...</td>\n",
       "      <td>10.0</td>\n",
       "      <td>10.0</td>\n",
       "      <td>9.0</td>\n",
       "      <td>NaN</td>\n",
       "      <td>NaN</td>\n",
       "      <td>moderate</td>\n",
       "      <td>2.0</td>\n",
       "      <td>0.50</td>\n",
       "      <td>40.4077318793,-3.68481869733</td>\n",
       "      <td>Host Has Profile Pic,Is Location Exact,Require...</td>\n",
       "    </tr>\n",
       "    <tr>\n",
       "      <th>1</th>\n",
       "      <td>14136180</td>\n",
       "      <td>https://www.airbnb.com/rooms/14136180</td>\n",
       "      <td>20170407214119</td>\n",
       "      <td>2017-04-08</td>\n",
       "      <td>The Palace Sol Madrid.</td>\n",
       "      <td>Lugares de interés: Plaza Mayor, Plaza del Sol...</td>\n",
       "      <td>El apartamento dispone de un dormitorio indepe...</td>\n",
       "      <td>Lugares de interés: Plaza Mayor, Plaza del Sol...</td>\n",
       "      <td>none</td>\n",
       "      <td>Situado en el corazón de Madrid, este apartame...</td>\n",
       "      <td>...</td>\n",
       "      <td>10.0</td>\n",
       "      <td>10.0</td>\n",
       "      <td>10.0</td>\n",
       "      <td>NaN</td>\n",
       "      <td>NaN</td>\n",
       "      <td>flexible</td>\n",
       "      <td>1.0</td>\n",
       "      <td>2.43</td>\n",
       "      <td>40.4158022422,-3.70534037765</td>\n",
       "      <td>Host Has Profile Pic,Host Identity Verified,Re...</td>\n",
       "    </tr>\n",
       "    <tr>\n",
       "      <th>2</th>\n",
       "      <td>15520134</td>\n",
       "      <td>https://www.airbnb.com/rooms/15520134</td>\n",
       "      <td>20170407214119</td>\n",
       "      <td>2017-04-08</td>\n",
       "      <td>por persona la noche metro linea5 vista alegre</td>\n",
       "      <td>我的房源靠近餐厅和餐饮、适合家庭的活动、公共交通。因为舒适的床、温馨、厨房、景观,您一定会爱...</td>\n",
       "      <td>NaN</td>\n",
       "      <td>我的房源靠近餐厅和餐饮、适合家庭的活动、公共交通。因为舒适的床、温馨、厨房、景观,您一定会爱...</td>\n",
       "      <td>none</td>\n",
       "      <td>NaN</td>\n",
       "      <td>...</td>\n",
       "      <td>NaN</td>\n",
       "      <td>NaN</td>\n",
       "      <td>NaN</td>\n",
       "      <td>NaN</td>\n",
       "      <td>NaN</td>\n",
       "      <td>moderate</td>\n",
       "      <td>16.0</td>\n",
       "      <td>NaN</td>\n",
       "      <td>40.3890481626,-3.74037392557</td>\n",
       "      <td>Host Has Profile Pic,Host Identity Verified,Is...</td>\n",
       "    </tr>\n",
       "    <tr>\n",
       "      <th>3</th>\n",
       "      <td>8809721</td>\n",
       "      <td>https://www.airbnb.com/rooms/8809721</td>\n",
       "      <td>20170407214119</td>\n",
       "      <td>2017-04-08</td>\n",
       "      <td>CITY CENTER JACINTO BENAVENTE ROOM4</td>\n",
       "      <td>This stunning and amazig room is covered with ...</td>\n",
       "      <td>NaN</td>\n",
       "      <td>This stunning and amazig room is covered with ...</td>\n",
       "      <td>none</td>\n",
       "      <td>NaN</td>\n",
       "      <td>...</td>\n",
       "      <td>NaN</td>\n",
       "      <td>NaN</td>\n",
       "      <td>NaN</td>\n",
       "      <td>NaN</td>\n",
       "      <td>NaN</td>\n",
       "      <td>strict</td>\n",
       "      <td>97.0</td>\n",
       "      <td>NaN</td>\n",
       "      <td>40.4128140929,-3.70305247638</td>\n",
       "      <td>Host Has Profile Pic,Requires License</td>\n",
       "    </tr>\n",
       "    <tr>\n",
       "      <th>4</th>\n",
       "      <td>1162707</td>\n",
       "      <td>https://www.airbnb.com/rooms/1162707</td>\n",
       "      <td>20170407214119</td>\n",
       "      <td>2017-04-08</td>\n",
       "      <td>NICE &amp; BIG DOUBLE ROOM AT DOWNTOWN</td>\n",
       "      <td>NaN</td>\n",
       "      <td>We are a young couple; David (Spain) and Ana (...</td>\n",
       "      <td>We are a young couple; David (Spain) and Ana (...</td>\n",
       "      <td>none</td>\n",
       "      <td>NaN</td>\n",
       "      <td>...</td>\n",
       "      <td>10.0</td>\n",
       "      <td>9.0</td>\n",
       "      <td>9.0</td>\n",
       "      <td>NaN</td>\n",
       "      <td>NaN</td>\n",
       "      <td>strict</td>\n",
       "      <td>2.0</td>\n",
       "      <td>2.08</td>\n",
       "      <td>40.4386311984,-3.71371613279</td>\n",
       "      <td>Host Has Profile Pic,Host Identity Verified,Is...</td>\n",
       "    </tr>\n",
       "  </tbody>\n",
       "</table>\n",
       "<p>5 rows × 89 columns</p>\n",
       "</div>"
      ],
      "text/plain": [
       "         ID                            Listing Url       Scrape ID  \\\n",
       "0   5994463   https://www.airbnb.com/rooms/5994463  20170407214119   \n",
       "1  14136180  https://www.airbnb.com/rooms/14136180  20170407214119   \n",
       "2  15520134  https://www.airbnb.com/rooms/15520134  20170407214119   \n",
       "3   8809721   https://www.airbnb.com/rooms/8809721  20170407214119   \n",
       "4   1162707   https://www.airbnb.com/rooms/1162707  20170407214119   \n",
       "\n",
       "  Last Scraped                                            Name  \\\n",
       "0   2017-04-08                PISO ATOCHA- FLAT NEAR ATOCHA  .   \n",
       "1   2017-04-08                          The Palace Sol Madrid.   \n",
       "2   2017-04-08  por persona la noche metro linea5 vista alegre   \n",
       "3   2017-04-08             CITY CENTER JACINTO BENAVENTE ROOM4   \n",
       "4   2017-04-08              NICE & BIG DOUBLE ROOM AT DOWNTOWN   \n",
       "\n",
       "                                             Summary  \\\n",
       "0  Piso recién reformado cómoda habitación con ba...   \n",
       "1  Lugares de interés: Plaza Mayor, Plaza del Sol...   \n",
       "2  我的房源靠近餐厅和餐饮、适合家庭的活动、公共交通。因为舒适的床、温馨、厨房、景观,您一定会爱...   \n",
       "3  This stunning and amazig room is covered with ...   \n",
       "4                                                NaN   \n",
       "\n",
       "                                               Space  \\\n",
       "0  Un piso muy cómodo en Jerónimos, una de las zo...   \n",
       "1  El apartamento dispone de un dormitorio indepe...   \n",
       "2                                                NaN   \n",
       "3                                                NaN   \n",
       "4  We are a young couple; David (Spain) and Ana (...   \n",
       "\n",
       "                                         Description Experiences Offered  \\\n",
       "0  Piso recién reformado cómoda habitación con ba...                none   \n",
       "1  Lugares de interés: Plaza Mayor, Plaza del Sol...                none   \n",
       "2  我的房源靠近餐厅和餐饮、适合家庭的活动、公共交通。因为舒适的床、温馨、厨房、景观,您一定会爱...                none   \n",
       "3  This stunning and amazig room is covered with ...                none   \n",
       "4  We are a young couple; David (Spain) and Ana (...                none   \n",
       "\n",
       "                               Neighborhood Overview  ...  \\\n",
       "0  El barrio de Jeronimos es un enclave tranquilo...  ...   \n",
       "1  Situado en el corazón de Madrid, este apartame...  ...   \n",
       "2                                                NaN  ...   \n",
       "3                                                NaN  ...   \n",
       "4                                                NaN  ...   \n",
       "\n",
       "  Review Scores Communication Review Scores Location Review Scores Value  \\\n",
       "0                        10.0                   10.0                 9.0   \n",
       "1                        10.0                   10.0                10.0   \n",
       "2                         NaN                    NaN                 NaN   \n",
       "3                         NaN                    NaN                 NaN   \n",
       "4                        10.0                    9.0                 9.0   \n",
       "\n",
       "  License Jurisdiction Names Cancellation Policy  \\\n",
       "0     NaN                NaN            moderate   \n",
       "1     NaN                NaN            flexible   \n",
       "2     NaN                NaN            moderate   \n",
       "3     NaN                NaN              strict   \n",
       "4     NaN                NaN              strict   \n",
       "\n",
       "  Calculated host listings count Reviews per Month  \\\n",
       "0                            2.0              0.50   \n",
       "1                            1.0              2.43   \n",
       "2                           16.0               NaN   \n",
       "3                           97.0               NaN   \n",
       "4                            2.0              2.08   \n",
       "\n",
       "                    Geolocation  \\\n",
       "0  40.4077318793,-3.68481869733   \n",
       "1  40.4158022422,-3.70534037765   \n",
       "2  40.3890481626,-3.74037392557   \n",
       "3  40.4128140929,-3.70305247638   \n",
       "4  40.4386311984,-3.71371613279   \n",
       "\n",
       "                                            Features  \n",
       "0  Host Has Profile Pic,Is Location Exact,Require...  \n",
       "1  Host Has Profile Pic,Host Identity Verified,Re...  \n",
       "2  Host Has Profile Pic,Host Identity Verified,Is...  \n",
       "3              Host Has Profile Pic,Requires License  \n",
       "4  Host Has Profile Pic,Host Identity Verified,Is...  \n",
       "\n",
       "[5 rows x 89 columns]"
      ]
     },
     "execution_count": 5,
     "metadata": {},
     "output_type": "execute_result"
    }
   ],
   "source": [
    "df_train.head()"
   ]
  },
  {
   "cell_type": "code",
   "execution_count": 6,
   "id": "e009585b-e673-4bd8-9d53-0c25644415d5",
   "metadata": {},
   "outputs": [
    {
     "data": {
      "text/plain": [
       "(11824, 89)"
      ]
     },
     "execution_count": 6,
     "metadata": {},
     "output_type": "execute_result"
    }
   ],
   "source": [
    "df_train.shape"
   ]
  },
  {
   "cell_type": "markdown",
   "id": "6ab16bc2-6ff5-47e9-8307-f80be64fe476",
   "metadata": {},
   "source": [
    "## 1 - LIMPIEZA DE LOS DATOS DEL DATASET DE TRAINING"
   ]
  },
  {
   "cell_type": "markdown",
   "id": "18c3f9ac-199c-488e-b6e5-e85385db2273",
   "metadata": {},
   "source": [
    "#### 1.1 - LIMPIEZA DE COLUMNAS"
   ]
  },
  {
   "cell_type": "code",
   "execution_count": 7,
   "id": "018d47c1-1d72-437e-ac74-3dd9eda18fce",
   "metadata": {},
   "outputs": [
    {
     "data": {
      "text/html": [
       "<div>\n",
       "<style scoped>\n",
       "    .dataframe tbody tr th:only-of-type {\n",
       "        vertical-align: middle;\n",
       "    }\n",
       "\n",
       "    .dataframe tbody tr th {\n",
       "        vertical-align: top;\n",
       "    }\n",
       "\n",
       "    .dataframe thead th {\n",
       "        text-align: right;\n",
       "    }\n",
       "</style>\n",
       "<table border=\"1\" class=\"dataframe\">\n",
       "  <thead>\n",
       "    <tr style=\"text-align: right;\">\n",
       "      <th></th>\n",
       "      <th>ID</th>\n",
       "      <th>Listing Url</th>\n",
       "      <th>Scrape ID</th>\n",
       "      <th>Last Scraped</th>\n",
       "      <th>Name</th>\n",
       "      <th>Summary</th>\n",
       "      <th>Space</th>\n",
       "      <th>Description</th>\n",
       "      <th>Experiences Offered</th>\n",
       "      <th>Neighborhood Overview</th>\n",
       "    </tr>\n",
       "  </thead>\n",
       "  <tbody>\n",
       "    <tr>\n",
       "      <th>0</th>\n",
       "      <td>5994463</td>\n",
       "      <td>https://www.airbnb.com/rooms/5994463</td>\n",
       "      <td>20170407214119</td>\n",
       "      <td>2017-04-08</td>\n",
       "      <td>PISO ATOCHA- FLAT NEAR ATOCHA  .</td>\n",
       "      <td>Piso recién reformado cómoda habitación con ba...</td>\n",
       "      <td>Un piso muy cómodo en Jerónimos, una de las zo...</td>\n",
       "      <td>Piso recién reformado cómoda habitación con ba...</td>\n",
       "      <td>none</td>\n",
       "      <td>El barrio de Jeronimos es un enclave tranquilo...</td>\n",
       "    </tr>\n",
       "    <tr>\n",
       "      <th>1</th>\n",
       "      <td>14136180</td>\n",
       "      <td>https://www.airbnb.com/rooms/14136180</td>\n",
       "      <td>20170407214119</td>\n",
       "      <td>2017-04-08</td>\n",
       "      <td>The Palace Sol Madrid.</td>\n",
       "      <td>Lugares de interés: Plaza Mayor, Plaza del Sol...</td>\n",
       "      <td>El apartamento dispone de un dormitorio indepe...</td>\n",
       "      <td>Lugares de interés: Plaza Mayor, Plaza del Sol...</td>\n",
       "      <td>none</td>\n",
       "      <td>Situado en el corazón de Madrid, este apartame...</td>\n",
       "    </tr>\n",
       "    <tr>\n",
       "      <th>2</th>\n",
       "      <td>15520134</td>\n",
       "      <td>https://www.airbnb.com/rooms/15520134</td>\n",
       "      <td>20170407214119</td>\n",
       "      <td>2017-04-08</td>\n",
       "      <td>por persona la noche metro linea5 vista alegre</td>\n",
       "      <td>我的房源靠近餐厅和餐饮、适合家庭的活动、公共交通。因为舒适的床、温馨、厨房、景观,您一定会爱...</td>\n",
       "      <td>NaN</td>\n",
       "      <td>我的房源靠近餐厅和餐饮、适合家庭的活动、公共交通。因为舒适的床、温馨、厨房、景观,您一定会爱...</td>\n",
       "      <td>none</td>\n",
       "      <td>NaN</td>\n",
       "    </tr>\n",
       "    <tr>\n",
       "      <th>3</th>\n",
       "      <td>8809721</td>\n",
       "      <td>https://www.airbnb.com/rooms/8809721</td>\n",
       "      <td>20170407214119</td>\n",
       "      <td>2017-04-08</td>\n",
       "      <td>CITY CENTER JACINTO BENAVENTE ROOM4</td>\n",
       "      <td>This stunning and amazig room is covered with ...</td>\n",
       "      <td>NaN</td>\n",
       "      <td>This stunning and amazig room is covered with ...</td>\n",
       "      <td>none</td>\n",
       "      <td>NaN</td>\n",
       "    </tr>\n",
       "    <tr>\n",
       "      <th>4</th>\n",
       "      <td>1162707</td>\n",
       "      <td>https://www.airbnb.com/rooms/1162707</td>\n",
       "      <td>20170407214119</td>\n",
       "      <td>2017-04-08</td>\n",
       "      <td>NICE &amp; BIG DOUBLE ROOM AT DOWNTOWN</td>\n",
       "      <td>NaN</td>\n",
       "      <td>We are a young couple; David (Spain) and Ana (...</td>\n",
       "      <td>We are a young couple; David (Spain) and Ana (...</td>\n",
       "      <td>none</td>\n",
       "      <td>NaN</td>\n",
       "    </tr>\n",
       "  </tbody>\n",
       "</table>\n",
       "</div>"
      ],
      "text/plain": [
       "         ID                            Listing Url       Scrape ID  \\\n",
       "0   5994463   https://www.airbnb.com/rooms/5994463  20170407214119   \n",
       "1  14136180  https://www.airbnb.com/rooms/14136180  20170407214119   \n",
       "2  15520134  https://www.airbnb.com/rooms/15520134  20170407214119   \n",
       "3   8809721   https://www.airbnb.com/rooms/8809721  20170407214119   \n",
       "4   1162707   https://www.airbnb.com/rooms/1162707  20170407214119   \n",
       "\n",
       "  Last Scraped                                            Name  \\\n",
       "0   2017-04-08                PISO ATOCHA- FLAT NEAR ATOCHA  .   \n",
       "1   2017-04-08                          The Palace Sol Madrid.   \n",
       "2   2017-04-08  por persona la noche metro linea5 vista alegre   \n",
       "3   2017-04-08             CITY CENTER JACINTO BENAVENTE ROOM4   \n",
       "4   2017-04-08              NICE & BIG DOUBLE ROOM AT DOWNTOWN   \n",
       "\n",
       "                                             Summary  \\\n",
       "0  Piso recién reformado cómoda habitación con ba...   \n",
       "1  Lugares de interés: Plaza Mayor, Plaza del Sol...   \n",
       "2  我的房源靠近餐厅和餐饮、适合家庭的活动、公共交通。因为舒适的床、温馨、厨房、景观,您一定会爱...   \n",
       "3  This stunning and amazig room is covered with ...   \n",
       "4                                                NaN   \n",
       "\n",
       "                                               Space  \\\n",
       "0  Un piso muy cómodo en Jerónimos, una de las zo...   \n",
       "1  El apartamento dispone de un dormitorio indepe...   \n",
       "2                                                NaN   \n",
       "3                                                NaN   \n",
       "4  We are a young couple; David (Spain) and Ana (...   \n",
       "\n",
       "                                         Description Experiences Offered  \\\n",
       "0  Piso recién reformado cómoda habitación con ba...                none   \n",
       "1  Lugares de interés: Plaza Mayor, Plaza del Sol...                none   \n",
       "2  我的房源靠近餐厅和餐饮、适合家庭的活动、公共交通。因为舒适的床、温馨、厨房、景观,您一定会爱...                none   \n",
       "3  This stunning and amazig room is covered with ...                none   \n",
       "4  We are a young couple; David (Spain) and Ana (...                none   \n",
       "\n",
       "                               Neighborhood Overview  \n",
       "0  El barrio de Jeronimos es un enclave tranquilo...  \n",
       "1  Situado en el corazón de Madrid, este apartame...  \n",
       "2                                                NaN  \n",
       "3                                                NaN  \n",
       "4                                                NaN  "
      ]
     },
     "execution_count": 7,
     "metadata": {},
     "output_type": "execute_result"
    }
   ],
   "source": [
    "columnas = ['ID', 'Listing Url', 'Scrape ID', 'Last Scraped', 'Name', 'Summary', 'Space', 'Description', 'Experiences Offered', 'Neighborhood Overview']\n",
    "df_train.loc[:,columnas].head()"
   ]
  },
  {
   "cell_type": "code",
   "execution_count": 8,
   "id": "8a1a76d0-e69f-4956-a5d9-5608eb988fcf",
   "metadata": {},
   "outputs": [
    {
     "name": "stdout",
     "output_type": "stream",
     "text": [
      "<class 'pandas.core.frame.DataFrame'>\n",
      "RangeIndex: 11824 entries, 0 to 11823\n",
      "Data columns (total 10 columns):\n",
      " #   Column                 Non-Null Count  Dtype \n",
      "---  ------                 --------------  ----- \n",
      " 0   ID                     11824 non-null  int64 \n",
      " 1   Listing Url            11824 non-null  object\n",
      " 2   Scrape ID              11824 non-null  int64 \n",
      " 3   Last Scraped           11824 non-null  object\n",
      " 4   Name                   11823 non-null  object\n",
      " 5   Summary                11355 non-null  object\n",
      " 6   Space                  8718 non-null   object\n",
      " 7   Description            11818 non-null  object\n",
      " 8   Experiences Offered    11824 non-null  object\n",
      " 9   Neighborhood Overview  7309 non-null   object\n",
      "dtypes: int64(2), object(8)\n",
      "memory usage: 923.9+ KB\n"
     ]
    }
   ],
   "source": [
    "df_train.loc[:,columnas].info()"
   ]
  },
  {
   "cell_type": "markdown",
   "id": "61990e38-680c-4bd8-888c-fddb153eee37",
   "metadata": {},
   "source": [
    "* no considero ninguna interesante"
   ]
  },
  {
   "cell_type": "code",
   "execution_count": 9,
   "id": "8f850be4-46a6-4bee-b138-53ca29ae9983",
   "metadata": {},
   "outputs": [
    {
     "data": {
      "text/html": [
       "<div>\n",
       "<style scoped>\n",
       "    .dataframe tbody tr th:only-of-type {\n",
       "        vertical-align: middle;\n",
       "    }\n",
       "\n",
       "    .dataframe tbody tr th {\n",
       "        vertical-align: top;\n",
       "    }\n",
       "\n",
       "    .dataframe thead th {\n",
       "        text-align: right;\n",
       "    }\n",
       "</style>\n",
       "<table border=\"1\" class=\"dataframe\">\n",
       "  <thead>\n",
       "    <tr style=\"text-align: right;\">\n",
       "      <th></th>\n",
       "      <th>Notes</th>\n",
       "      <th>Transit</th>\n",
       "      <th>Access</th>\n",
       "      <th>Interaction</th>\n",
       "      <th>House Rules</th>\n",
       "      <th>Thumbnail Url</th>\n",
       "      <th>Medium Url</th>\n",
       "      <th>Picture Url</th>\n",
       "      <th>XL Picture Url</th>\n",
       "    </tr>\n",
       "  </thead>\n",
       "  <tbody>\n",
       "    <tr>\n",
       "      <th>0</th>\n",
       "      <td>Facilitamos guía de eventos y rutas turísticas...</td>\n",
       "      <td>Excelente ubicación a tan solo 5 minutos andan...</td>\n",
       "      <td>La conexión a internet por fibra óptica 100 MB...</td>\n",
       "      <td>Recibimos personalmente a nuestros huéspedes y...</td>\n",
       "      <td>El apartamento se encuentra en un edificio res...</td>\n",
       "      <td>https://a0.muscache.com/im/pictures/74652419/f...</td>\n",
       "      <td>https://a0.muscache.com/im/pictures/74652419/f...</td>\n",
       "      <td>https://public.opendatasoft.com/api/v2/catalog...</td>\n",
       "      <td>https://a0.muscache.com/im/pictures/74652419/f...</td>\n",
       "    </tr>\n",
       "    <tr>\n",
       "      <th>1</th>\n",
       "      <td>Hora llegada: a partir de las 15:00 horas Hora...</td>\n",
       "      <td>Acceso a todos los medios de trasporte, BUS, M...</td>\n",
       "      <td>NaN</td>\n",
       "      <td>Estimado huésped estaremos disponible todo el ...</td>\n",
       "      <td>- Oír música con volumen moderado. Entrada a p...</td>\n",
       "      <td>https://a0.muscache.com/im/pictures/1565a3a9-2...</td>\n",
       "      <td>https://a0.muscache.com/im/pictures/1565a3a9-2...</td>\n",
       "      <td>https://public.opendatasoft.com/api/v2/catalog...</td>\n",
       "      <td>https://a0.muscache.com/im/pictures/1565a3a9-2...</td>\n",
       "    </tr>\n",
       "    <tr>\n",
       "      <th>2</th>\n",
       "      <td>NaN</td>\n",
       "      <td>羚羊Casa出发 --地铁Metro 5号线vsita alegre--opera转乘2号线...</td>\n",
       "      <td>NaN</td>\n",
       "      <td>NaN</td>\n",
       "      <td>NaN</td>\n",
       "      <td>https://a0.muscache.com/im/pictures/05baad20-7...</td>\n",
       "      <td>https://a0.muscache.com/im/pictures/05baad20-7...</td>\n",
       "      <td>https://public.opendatasoft.com/api/v2/catalog...</td>\n",
       "      <td>https://a0.muscache.com/im/pictures/05baad20-7...</td>\n",
       "    </tr>\n",
       "    <tr>\n",
       "      <th>3</th>\n",
       "      <td>NaN</td>\n",
       "      <td>NaN</td>\n",
       "      <td>NaN</td>\n",
       "      <td>NaN</td>\n",
       "      <td>NaN</td>\n",
       "      <td>https://a0.muscache.com/im/pictures/111496270/...</td>\n",
       "      <td>https://a0.muscache.com/im/pictures/111496270/...</td>\n",
       "      <td>https://public.opendatasoft.com/api/v2/catalog...</td>\n",
       "      <td>https://a0.muscache.com/im/pictures/111496270/...</td>\n",
       "    </tr>\n",
       "    <tr>\n",
       "      <th>4</th>\n",
       "      <td>NaN</td>\n",
       "      <td>NaN</td>\n",
       "      <td>WE CAN DO TO HOST COLLECTION SERVICE FROM THE ...</td>\n",
       "      <td>NaN</td>\n",
       "      <td>In the apartment smoking is not allowed, but i...</td>\n",
       "      <td>https://a0.muscache.com/im/pictures/17487722/1...</td>\n",
       "      <td>https://a0.muscache.com/im/pictures/17487722/1...</td>\n",
       "      <td>https://public.opendatasoft.com/api/v2/catalog...</td>\n",
       "      <td>https://a0.muscache.com/im/pictures/17487722/1...</td>\n",
       "    </tr>\n",
       "  </tbody>\n",
       "</table>\n",
       "</div>"
      ],
      "text/plain": [
       "                                               Notes  \\\n",
       "0  Facilitamos guía de eventos y rutas turísticas...   \n",
       "1  Hora llegada: a partir de las 15:00 horas Hora...   \n",
       "2                                                NaN   \n",
       "3                                                NaN   \n",
       "4                                                NaN   \n",
       "\n",
       "                                             Transit  \\\n",
       "0  Excelente ubicación a tan solo 5 minutos andan...   \n",
       "1  Acceso a todos los medios de trasporte, BUS, M...   \n",
       "2  羚羊Casa出发 --地铁Metro 5号线vsita alegre--opera转乘2号线...   \n",
       "3                                                NaN   \n",
       "4                                                NaN   \n",
       "\n",
       "                                              Access  \\\n",
       "0  La conexión a internet por fibra óptica 100 MB...   \n",
       "1                                                NaN   \n",
       "2                                                NaN   \n",
       "3                                                NaN   \n",
       "4  WE CAN DO TO HOST COLLECTION SERVICE FROM THE ...   \n",
       "\n",
       "                                         Interaction  \\\n",
       "0  Recibimos personalmente a nuestros huéspedes y...   \n",
       "1  Estimado huésped estaremos disponible todo el ...   \n",
       "2                                                NaN   \n",
       "3                                                NaN   \n",
       "4                                                NaN   \n",
       "\n",
       "                                         House Rules  \\\n",
       "0  El apartamento se encuentra en un edificio res...   \n",
       "1  - Oír música con volumen moderado. Entrada a p...   \n",
       "2                                                NaN   \n",
       "3                                                NaN   \n",
       "4  In the apartment smoking is not allowed, but i...   \n",
       "\n",
       "                                       Thumbnail Url  \\\n",
       "0  https://a0.muscache.com/im/pictures/74652419/f...   \n",
       "1  https://a0.muscache.com/im/pictures/1565a3a9-2...   \n",
       "2  https://a0.muscache.com/im/pictures/05baad20-7...   \n",
       "3  https://a0.muscache.com/im/pictures/111496270/...   \n",
       "4  https://a0.muscache.com/im/pictures/17487722/1...   \n",
       "\n",
       "                                          Medium Url  \\\n",
       "0  https://a0.muscache.com/im/pictures/74652419/f...   \n",
       "1  https://a0.muscache.com/im/pictures/1565a3a9-2...   \n",
       "2  https://a0.muscache.com/im/pictures/05baad20-7...   \n",
       "3  https://a0.muscache.com/im/pictures/111496270/...   \n",
       "4  https://a0.muscache.com/im/pictures/17487722/1...   \n",
       "\n",
       "                                         Picture Url  \\\n",
       "0  https://public.opendatasoft.com/api/v2/catalog...   \n",
       "1  https://public.opendatasoft.com/api/v2/catalog...   \n",
       "2  https://public.opendatasoft.com/api/v2/catalog...   \n",
       "3  https://public.opendatasoft.com/api/v2/catalog...   \n",
       "4  https://public.opendatasoft.com/api/v2/catalog...   \n",
       "\n",
       "                                      XL Picture Url  \n",
       "0  https://a0.muscache.com/im/pictures/74652419/f...  \n",
       "1  https://a0.muscache.com/im/pictures/1565a3a9-2...  \n",
       "2  https://a0.muscache.com/im/pictures/05baad20-7...  \n",
       "3  https://a0.muscache.com/im/pictures/111496270/...  \n",
       "4  https://a0.muscache.com/im/pictures/17487722/1...  "
      ]
     },
     "execution_count": 9,
     "metadata": {},
     "output_type": "execute_result"
    }
   ],
   "source": [
    "columnas = ['Notes', 'Transit', 'Access', 'Interaction', 'House Rules', 'Thumbnail Url', 'Medium Url', 'Picture Url', 'XL Picture Url']\n",
    "df_train.loc[:,columnas].head()"
   ]
  },
  {
   "cell_type": "code",
   "execution_count": 10,
   "id": "033cf023-4787-4dc6-817b-04753b74b804",
   "metadata": {},
   "outputs": [
    {
     "name": "stdout",
     "output_type": "stream",
     "text": [
      "<class 'pandas.core.frame.DataFrame'>\n",
      "RangeIndex: 11824 entries, 0 to 11823\n",
      "Data columns (total 9 columns):\n",
      " #   Column          Non-Null Count  Dtype \n",
      "---  ------          --------------  ----- \n",
      " 0   Notes           4543 non-null   object\n",
      " 1   Transit         7243 non-null   object\n",
      " 2   Access          6663 non-null   object\n",
      " 3   Interaction     6594 non-null   object\n",
      " 4   House Rules     7681 non-null   object\n",
      " 5   Thumbnail Url   9529 non-null   object\n",
      " 6   Medium Url      9529 non-null   object\n",
      " 7   Picture Url     11806 non-null  object\n",
      " 8   XL Picture Url  9529 non-null   object\n",
      "dtypes: object(9)\n",
      "memory usage: 831.5+ KB\n"
     ]
    }
   ],
   "source": [
    "df_train.loc[:,columnas].info()"
   ]
  },
  {
   "cell_type": "markdown",
   "id": "666004ae-5553-4aea-b81d-a2010427f8a4",
   "metadata": {},
   "source": [
    "* no considero ninguna interesante"
   ]
  },
  {
   "cell_type": "code",
   "execution_count": 11,
   "id": "2941f0de-e3bc-4c10-92ee-608e8a9df366",
   "metadata": {},
   "outputs": [
    {
     "data": {
      "text/html": [
       "<div>\n",
       "<style scoped>\n",
       "    .dataframe tbody tr th:only-of-type {\n",
       "        vertical-align: middle;\n",
       "    }\n",
       "\n",
       "    .dataframe tbody tr th {\n",
       "        vertical-align: top;\n",
       "    }\n",
       "\n",
       "    .dataframe thead th {\n",
       "        text-align: right;\n",
       "    }\n",
       "</style>\n",
       "<table border=\"1\" class=\"dataframe\">\n",
       "  <thead>\n",
       "    <tr style=\"text-align: right;\">\n",
       "      <th></th>\n",
       "      <th>Host ID</th>\n",
       "      <th>Host URL</th>\n",
       "      <th>Host Name</th>\n",
       "      <th>Host Since</th>\n",
       "      <th>Host Location</th>\n",
       "      <th>Host About</th>\n",
       "      <th>Host Response Time</th>\n",
       "      <th>Host Response Rate</th>\n",
       "    </tr>\n",
       "  </thead>\n",
       "  <tbody>\n",
       "    <tr>\n",
       "      <th>0</th>\n",
       "      <td>31124866</td>\n",
       "      <td>https://www.airbnb.com/users/show/31124866</td>\n",
       "      <td>Inava</td>\n",
       "      <td>2015-04-13</td>\n",
       "      <td>Arroyomolinos, Comunidad de Madrid, Spain</td>\n",
       "      <td>NaN</td>\n",
       "      <td>within a few hours</td>\n",
       "      <td>100.0</td>\n",
       "    </tr>\n",
       "    <tr>\n",
       "      <th>1</th>\n",
       "      <td>85301317</td>\n",
       "      <td>https://www.airbnb.com/users/show/85301317</td>\n",
       "      <td>Apartamentos Turísticos</td>\n",
       "      <td>2016-07-22</td>\n",
       "      <td>Madrid, Community of Madrid, Spain</td>\n",
       "      <td>Somos una empresa  de turismo dedicada al aloj...</td>\n",
       "      <td>within an hour</td>\n",
       "      <td>100.0</td>\n",
       "    </tr>\n",
       "    <tr>\n",
       "      <th>2</th>\n",
       "      <td>84213235</td>\n",
       "      <td>https://www.airbnb.com/users/show/84213235</td>\n",
       "      <td>玲</td>\n",
       "      <td>2016-07-17</td>\n",
       "      <td>Madrid, Community of Madrid, Spain</td>\n",
       "      <td>Our hotel near the city center, next to the su...</td>\n",
       "      <td>within an hour</td>\n",
       "      <td>100.0</td>\n",
       "    </tr>\n",
       "    <tr>\n",
       "      <th>3</th>\n",
       "      <td>15258781</td>\n",
       "      <td>https://www.airbnb.com/users/show/15258781</td>\n",
       "      <td>Erasmo´S</td>\n",
       "      <td>2014-05-08</td>\n",
       "      <td>Madrid, Community of Madrid, Spain</td>\n",
       "      <td>Disfruta de tu habitación en el centro de Madr...</td>\n",
       "      <td>within a few hours</td>\n",
       "      <td>100.0</td>\n",
       "    </tr>\n",
       "    <tr>\n",
       "      <th>4</th>\n",
       "      <td>1706029</td>\n",
       "      <td>https://www.airbnb.com/users/show/1706029</td>\n",
       "      <td>David Y Ana</td>\n",
       "      <td>2012-02-06</td>\n",
       "      <td>Madrid, Community of Madrid, Spain</td>\n",
       "      <td>Somos una pareja de Español y Colombiana, amab...</td>\n",
       "      <td>within an hour</td>\n",
       "      <td>100.0</td>\n",
       "    </tr>\n",
       "  </tbody>\n",
       "</table>\n",
       "</div>"
      ],
      "text/plain": [
       "    Host ID                                    Host URL  \\\n",
       "0  31124866  https://www.airbnb.com/users/show/31124866   \n",
       "1  85301317  https://www.airbnb.com/users/show/85301317   \n",
       "2  84213235  https://www.airbnb.com/users/show/84213235   \n",
       "3  15258781  https://www.airbnb.com/users/show/15258781   \n",
       "4   1706029   https://www.airbnb.com/users/show/1706029   \n",
       "\n",
       "                 Host Name  Host Since  \\\n",
       "0                    Inava  2015-04-13   \n",
       "1  Apartamentos Turísticos  2016-07-22   \n",
       "2                        玲  2016-07-17   \n",
       "3                 Erasmo´S  2014-05-08   \n",
       "4              David Y Ana  2012-02-06   \n",
       "\n",
       "                               Host Location  \\\n",
       "0  Arroyomolinos, Comunidad de Madrid, Spain   \n",
       "1         Madrid, Community of Madrid, Spain   \n",
       "2         Madrid, Community of Madrid, Spain   \n",
       "3         Madrid, Community of Madrid, Spain   \n",
       "4         Madrid, Community of Madrid, Spain   \n",
       "\n",
       "                                          Host About  Host Response Time  \\\n",
       "0                                                NaN  within a few hours   \n",
       "1  Somos una empresa  de turismo dedicada al aloj...      within an hour   \n",
       "2  Our hotel near the city center, next to the su...      within an hour   \n",
       "3  Disfruta de tu habitación en el centro de Madr...  within a few hours   \n",
       "4  Somos una pareja de Español y Colombiana, amab...      within an hour   \n",
       "\n",
       "   Host Response Rate  \n",
       "0               100.0  \n",
       "1               100.0  \n",
       "2               100.0  \n",
       "3               100.0  \n",
       "4               100.0  "
      ]
     },
     "execution_count": 11,
     "metadata": {},
     "output_type": "execute_result"
    }
   ],
   "source": [
    "columnas = ['Host ID', 'Host URL', 'Host Name', 'Host Since', 'Host Location', 'Host About', 'Host Response Time', 'Host Response Rate']\n",
    "df_train.loc[:,columnas].head()"
   ]
  },
  {
   "cell_type": "code",
   "execution_count": 12,
   "id": "e0f1c735-6547-4327-92c1-f86c002836fb",
   "metadata": {},
   "outputs": [
    {
     "name": "stdout",
     "output_type": "stream",
     "text": [
      "<class 'pandas.core.frame.DataFrame'>\n",
      "RangeIndex: 11824 entries, 0 to 11823\n",
      "Data columns (total 8 columns):\n",
      " #   Column              Non-Null Count  Dtype  \n",
      "---  ------              --------------  -----  \n",
      " 0   Host ID             11824 non-null  int64  \n",
      " 1   Host URL            11824 non-null  object \n",
      " 2   Host Name           11821 non-null  object \n",
      " 3   Host Since          11821 non-null  object \n",
      " 4   Host Location       11790 non-null  object \n",
      " 5   Host About          7664 non-null   object \n",
      " 6   Host Response Time  10317 non-null  object \n",
      " 7   Host Response Rate  10317 non-null  float64\n",
      "dtypes: float64(1), int64(1), object(6)\n",
      "memory usage: 739.1+ KB\n"
     ]
    }
   ],
   "source": [
    "df_train.loc[:,columnas].info()"
   ]
  },
  {
   "cell_type": "markdown",
   "id": "22fd4846-5d05-4c98-b47c-93058e8e5911",
   "metadata": {},
   "source": [
    "* Host Response Time: Tiempo de respuesta del anfitrión. Puede ser interesante.\n",
    "* Host Response Rate: Ratio de respuesta del anfitrión. Puede ser interesante."
   ]
  },
  {
   "cell_type": "code",
   "execution_count": 13,
   "id": "02a4a865-d758-4bf0-be90-ca5b60c1e761",
   "metadata": {},
   "outputs": [
    {
     "data": {
      "text/html": [
       "<div>\n",
       "<style scoped>\n",
       "    .dataframe tbody tr th:only-of-type {\n",
       "        vertical-align: middle;\n",
       "    }\n",
       "\n",
       "    .dataframe tbody tr th {\n",
       "        vertical-align: top;\n",
       "    }\n",
       "\n",
       "    .dataframe thead th {\n",
       "        text-align: right;\n",
       "    }\n",
       "</style>\n",
       "<table border=\"1\" class=\"dataframe\">\n",
       "  <thead>\n",
       "    <tr style=\"text-align: right;\">\n",
       "      <th></th>\n",
       "      <th>Host Acceptance Rate</th>\n",
       "      <th>Host Thumbnail Url</th>\n",
       "      <th>Host Picture Url</th>\n",
       "      <th>Host Neighbourhood</th>\n",
       "      <th>Host Listings Count</th>\n",
       "      <th>Host Total Listings Count</th>\n",
       "      <th>Host Verifications</th>\n",
       "      <th>Street</th>\n",
       "    </tr>\n",
       "  </thead>\n",
       "  <tbody>\n",
       "    <tr>\n",
       "      <th>0</th>\n",
       "      <td>NaN</td>\n",
       "      <td>https://a0.muscache.com/im/users/31124866/prof...</td>\n",
       "      <td>https://a0.muscache.com/im/users/31124866/prof...</td>\n",
       "      <td>Jerónimos</td>\n",
       "      <td>2.0</td>\n",
       "      <td>2.0</td>\n",
       "      <td>email,phone,reviews,work_email</td>\n",
       "      <td>Jerónimos, Madrid, Comunidad de Madrid 28014, ...</td>\n",
       "    </tr>\n",
       "    <tr>\n",
       "      <th>1</th>\n",
       "      <td>NaN</td>\n",
       "      <td>https://a0.muscache.com/im/pictures/ff7ad016-4...</td>\n",
       "      <td>https://a0.muscache.com/im/pictures/ff7ad016-4...</td>\n",
       "      <td>NaN</td>\n",
       "      <td>1.0</td>\n",
       "      <td>1.0</td>\n",
       "      <td>email,phone,reviews,jumio,offline_government_i...</td>\n",
       "      <td>Madrid, Comunidad de Madrid 28012, Spain</td>\n",
       "    </tr>\n",
       "    <tr>\n",
       "      <th>2</th>\n",
       "      <td>NaN</td>\n",
       "      <td>https://a0.muscache.com/im/pictures/a4185ec1-7...</td>\n",
       "      <td>https://a0.muscache.com/im/pictures/a4185ec1-7...</td>\n",
       "      <td>Carabanchel</td>\n",
       "      <td>16.0</td>\n",
       "      <td>16.0</td>\n",
       "      <td>email,phone,facebook,google,reviews,jumio,gove...</td>\n",
       "      <td>Carabanchel, Madrid, Comunidad de Madrid 28025...</td>\n",
       "    </tr>\n",
       "    <tr>\n",
       "      <th>3</th>\n",
       "      <td>NaN</td>\n",
       "      <td>https://a0.muscache.com/im/users/15258781/prof...</td>\n",
       "      <td>https://a0.muscache.com/im/users/15258781/prof...</td>\n",
       "      <td>Justicia</td>\n",
       "      <td>114.0</td>\n",
       "      <td>114.0</td>\n",
       "      <td>email,phone,reviews,work_email</td>\n",
       "      <td>Madrid, Comunidad de Madrid 28012, Spain</td>\n",
       "    </tr>\n",
       "    <tr>\n",
       "      <th>4</th>\n",
       "      <td>NaN</td>\n",
       "      <td>https://a0.muscache.com/im/users/1706029/profi...</td>\n",
       "      <td>https://a0.muscache.com/im/users/1706029/profi...</td>\n",
       "      <td>Gaztambide</td>\n",
       "      <td>2.0</td>\n",
       "      <td>2.0</td>\n",
       "      <td>email,phone,reviews,jumio</td>\n",
       "      <td>Gaztambide, Madrid, 28 28015, Spain</td>\n",
       "    </tr>\n",
       "  </tbody>\n",
       "</table>\n",
       "</div>"
      ],
      "text/plain": [
       "  Host Acceptance Rate                                 Host Thumbnail Url  \\\n",
       "0                  NaN  https://a0.muscache.com/im/users/31124866/prof...   \n",
       "1                  NaN  https://a0.muscache.com/im/pictures/ff7ad016-4...   \n",
       "2                  NaN  https://a0.muscache.com/im/pictures/a4185ec1-7...   \n",
       "3                  NaN  https://a0.muscache.com/im/users/15258781/prof...   \n",
       "4                  NaN  https://a0.muscache.com/im/users/1706029/profi...   \n",
       "\n",
       "                                    Host Picture Url Host Neighbourhood  \\\n",
       "0  https://a0.muscache.com/im/users/31124866/prof...          Jerónimos   \n",
       "1  https://a0.muscache.com/im/pictures/ff7ad016-4...                NaN   \n",
       "2  https://a0.muscache.com/im/pictures/a4185ec1-7...        Carabanchel   \n",
       "3  https://a0.muscache.com/im/users/15258781/prof...           Justicia   \n",
       "4  https://a0.muscache.com/im/users/1706029/profi...         Gaztambide   \n",
       "\n",
       "   Host Listings Count  Host Total Listings Count  \\\n",
       "0                  2.0                        2.0   \n",
       "1                  1.0                        1.0   \n",
       "2                 16.0                       16.0   \n",
       "3                114.0                      114.0   \n",
       "4                  2.0                        2.0   \n",
       "\n",
       "                                  Host Verifications  \\\n",
       "0                     email,phone,reviews,work_email   \n",
       "1  email,phone,reviews,jumio,offline_government_i...   \n",
       "2  email,phone,facebook,google,reviews,jumio,gove...   \n",
       "3                     email,phone,reviews,work_email   \n",
       "4                          email,phone,reviews,jumio   \n",
       "\n",
       "                                              Street  \n",
       "0  Jerónimos, Madrid, Comunidad de Madrid 28014, ...  \n",
       "1           Madrid, Comunidad de Madrid 28012, Spain  \n",
       "2  Carabanchel, Madrid, Comunidad de Madrid 28025...  \n",
       "3           Madrid, Comunidad de Madrid 28012, Spain  \n",
       "4                Gaztambide, Madrid, 28 28015, Spain  "
      ]
     },
     "execution_count": 13,
     "metadata": {},
     "output_type": "execute_result"
    }
   ],
   "source": [
    "columnas = ['Host Acceptance Rate', 'Host Thumbnail Url', 'Host Picture Url', 'Host Neighbourhood', 'Host Listings Count', 'Host Total Listings Count', 'Host Verifications', 'Street']\n",
    "df_train.loc[:,columnas].head()"
   ]
  },
  {
   "cell_type": "code",
   "execution_count": 14,
   "id": "26fdb886-cd2e-4227-94b7-ff3032716d51",
   "metadata": {},
   "outputs": [
    {
     "name": "stdout",
     "output_type": "stream",
     "text": [
      "<class 'pandas.core.frame.DataFrame'>\n",
      "RangeIndex: 11824 entries, 0 to 11823\n",
      "Data columns (total 8 columns):\n",
      " #   Column                     Non-Null Count  Dtype  \n",
      "---  ------                     --------------  -----  \n",
      " 0   Host Acceptance Rate       30 non-null     object \n",
      " 1   Host Thumbnail Url         11821 non-null  object \n",
      " 2   Host Picture Url           11821 non-null  object \n",
      " 3   Host Neighbourhood         8742 non-null   object \n",
      " 4   Host Listings Count        11821 non-null  float64\n",
      " 5   Host Total Listings Count  11821 non-null  float64\n",
      " 6   Host Verifications         11820 non-null  object \n",
      " 7   Street                     11824 non-null  object \n",
      "dtypes: float64(2), object(6)\n",
      "memory usage: 739.1+ KB\n"
     ]
    }
   ],
   "source": [
    "df_train.loc[:,columnas].info()"
   ]
  },
  {
   "cell_type": "markdown",
   "id": "8b470916-7807-4b79-ba2e-0a8c4683812d",
   "metadata": {},
   "source": [
    "* Host Verifications: Podría ser interesante considerar esta columna por el número de verificaciones. Sin embargo por simplificar la práctica no la voy a utilizar"
   ]
  },
  {
   "cell_type": "code",
   "execution_count": 15,
   "id": "b0fe0ab4-f43a-4bd8-9067-2b0b2cad777a",
   "metadata": {},
   "outputs": [
    {
     "data": {
      "text/html": [
       "<div>\n",
       "<style scoped>\n",
       "    .dataframe tbody tr th:only-of-type {\n",
       "        vertical-align: middle;\n",
       "    }\n",
       "\n",
       "    .dataframe tbody tr th {\n",
       "        vertical-align: top;\n",
       "    }\n",
       "\n",
       "    .dataframe thead th {\n",
       "        text-align: right;\n",
       "    }\n",
       "</style>\n",
       "<table border=\"1\" class=\"dataframe\">\n",
       "  <thead>\n",
       "    <tr style=\"text-align: right;\">\n",
       "      <th></th>\n",
       "      <th>Neighbourhood</th>\n",
       "      <th>Neighbourhood Cleansed</th>\n",
       "      <th>Neighbourhood Group Cleansed</th>\n",
       "      <th>City</th>\n",
       "      <th>State</th>\n",
       "      <th>Zipcode</th>\n",
       "      <th>Market</th>\n",
       "    </tr>\n",
       "  </thead>\n",
       "  <tbody>\n",
       "    <tr>\n",
       "      <th>0</th>\n",
       "      <td>Jerónimos</td>\n",
       "      <td>Jerónimos</td>\n",
       "      <td>Retiro</td>\n",
       "      <td>Madrid</td>\n",
       "      <td>Comunidad de Madrid</td>\n",
       "      <td>28014</td>\n",
       "      <td>Madrid</td>\n",
       "    </tr>\n",
       "    <tr>\n",
       "      <th>1</th>\n",
       "      <td>NaN</td>\n",
       "      <td>Sol</td>\n",
       "      <td>Centro</td>\n",
       "      <td>Madrid</td>\n",
       "      <td>Comunidad de Madrid</td>\n",
       "      <td>28012</td>\n",
       "      <td>Madrid</td>\n",
       "    </tr>\n",
       "    <tr>\n",
       "      <th>2</th>\n",
       "      <td>Carabanchel</td>\n",
       "      <td>Vista Alegre</td>\n",
       "      <td>Carabanchel</td>\n",
       "      <td>Madrid</td>\n",
       "      <td>Comunidad de Madrid</td>\n",
       "      <td>28025</td>\n",
       "      <td>Madrid</td>\n",
       "    </tr>\n",
       "    <tr>\n",
       "      <th>3</th>\n",
       "      <td>NaN</td>\n",
       "      <td>Embajadores</td>\n",
       "      <td>Centro</td>\n",
       "      <td>Madrid</td>\n",
       "      <td>Comunidad de Madrid</td>\n",
       "      <td>28012</td>\n",
       "      <td>Madrid</td>\n",
       "    </tr>\n",
       "    <tr>\n",
       "      <th>4</th>\n",
       "      <td>Gaztambide</td>\n",
       "      <td>Gaztambide</td>\n",
       "      <td>Chamberí</td>\n",
       "      <td>Madrid</td>\n",
       "      <td>28</td>\n",
       "      <td>28015</td>\n",
       "      <td>Madrid</td>\n",
       "    </tr>\n",
       "  </tbody>\n",
       "</table>\n",
       "</div>"
      ],
      "text/plain": [
       "  Neighbourhood Neighbourhood Cleansed Neighbourhood Group Cleansed    City  \\\n",
       "0     Jerónimos              Jerónimos                       Retiro  Madrid   \n",
       "1           NaN                    Sol                       Centro  Madrid   \n",
       "2   Carabanchel           Vista Alegre                  Carabanchel  Madrid   \n",
       "3           NaN            Embajadores                       Centro  Madrid   \n",
       "4    Gaztambide             Gaztambide                     Chamberí  Madrid   \n",
       "\n",
       "                 State Zipcode  Market  \n",
       "0  Comunidad de Madrid   28014  Madrid  \n",
       "1  Comunidad de Madrid   28012  Madrid  \n",
       "2  Comunidad de Madrid   28025  Madrid  \n",
       "3  Comunidad de Madrid   28012  Madrid  \n",
       "4                   28   28015  Madrid  "
      ]
     },
     "execution_count": 15,
     "metadata": {},
     "output_type": "execute_result"
    }
   ],
   "source": [
    "columnas = ['Neighbourhood', 'Neighbourhood Cleansed', 'Neighbourhood Group Cleansed', 'City', 'State', 'Zipcode', 'Market']\n",
    "df_train.loc[:,columnas].head()"
   ]
  },
  {
   "cell_type": "code",
   "execution_count": 16,
   "id": "905d4099-ffd4-4ac0-a7dd-f8bb1945ec01",
   "metadata": {},
   "outputs": [
    {
     "name": "stdout",
     "output_type": "stream",
     "text": [
      "<class 'pandas.core.frame.DataFrame'>\n",
      "RangeIndex: 11824 entries, 0 to 11823\n",
      "Data columns (total 7 columns):\n",
      " #   Column                        Non-Null Count  Dtype \n",
      "---  ------                        --------------  ----- \n",
      " 0   Neighbourhood                 7665 non-null   object\n",
      " 1   Neighbourhood Cleansed        11824 non-null  object\n",
      " 2   Neighbourhood Group Cleansed  11006 non-null  object\n",
      " 3   City                          11820 non-null  object\n",
      " 4   State                         11705 non-null  object\n",
      " 5   Zipcode                       11426 non-null  object\n",
      " 6   Market                        11780 non-null  object\n",
      "dtypes: object(7)\n",
      "memory usage: 646.8+ KB\n"
     ]
    }
   ],
   "source": [
    "df_train.loc[:,columnas].info()"
   ]
  },
  {
   "cell_type": "markdown",
   "id": "cff1c723-e939-41aa-9f22-707526b36ba0",
   "metadata": {},
   "source": [
    "* Neighbourhood: Puede ser interesante.\n",
    "* City: Ciudad del inmueble. Puede ser interesante.\n",
    "* Zipcode: Puede ser interesante."
   ]
  },
  {
   "cell_type": "code",
   "execution_count": 17,
   "id": "cc4ca88c-660e-4799-9b42-9c5762e56c90",
   "metadata": {},
   "outputs": [
    {
     "data": {
      "text/html": [
       "<div>\n",
       "<style scoped>\n",
       "    .dataframe tbody tr th:only-of-type {\n",
       "        vertical-align: middle;\n",
       "    }\n",
       "\n",
       "    .dataframe tbody tr th {\n",
       "        vertical-align: top;\n",
       "    }\n",
       "\n",
       "    .dataframe thead th {\n",
       "        text-align: right;\n",
       "    }\n",
       "</style>\n",
       "<table border=\"1\" class=\"dataframe\">\n",
       "  <thead>\n",
       "    <tr style=\"text-align: right;\">\n",
       "      <th></th>\n",
       "      <th>Smart Location</th>\n",
       "      <th>Country Code</th>\n",
       "      <th>Country</th>\n",
       "      <th>Latitude</th>\n",
       "      <th>Longitude</th>\n",
       "      <th>Property Type</th>\n",
       "      <th>Room Type</th>\n",
       "      <th>Accommodates</th>\n",
       "      <th>Bathrooms</th>\n",
       "      <th>Bedrooms</th>\n",
       "      <th>Beds</th>\n",
       "      <th>Bed Type</th>\n",
       "      <th>Amenities</th>\n",
       "      <th>Square Feet</th>\n",
       "      <th>Price</th>\n",
       "      <th>Weekly Price</th>\n",
       "    </tr>\n",
       "  </thead>\n",
       "  <tbody>\n",
       "    <tr>\n",
       "      <th>0</th>\n",
       "      <td>Madrid, Spain</td>\n",
       "      <td>ES</td>\n",
       "      <td>Spain</td>\n",
       "      <td>40.407732</td>\n",
       "      <td>-3.684819</td>\n",
       "      <td>Apartment</td>\n",
       "      <td>Entire home/apt</td>\n",
       "      <td>4</td>\n",
       "      <td>1.0</td>\n",
       "      <td>1.0</td>\n",
       "      <td>2.0</td>\n",
       "      <td>Real Bed</td>\n",
       "      <td>TV,Internet,Wireless Internet,Air conditioning...</td>\n",
       "      <td>NaN</td>\n",
       "      <td>60.0</td>\n",
       "      <td>550.0</td>\n",
       "    </tr>\n",
       "    <tr>\n",
       "      <th>1</th>\n",
       "      <td>Madrid, Spain</td>\n",
       "      <td>ES</td>\n",
       "      <td>Spain</td>\n",
       "      <td>40.415802</td>\n",
       "      <td>-3.705340</td>\n",
       "      <td>Apartment</td>\n",
       "      <td>Entire home/apt</td>\n",
       "      <td>4</td>\n",
       "      <td>1.0</td>\n",
       "      <td>1.0</td>\n",
       "      <td>2.0</td>\n",
       "      <td>Real Bed</td>\n",
       "      <td>TV,Internet,Wireless Internet,Air conditioning...</td>\n",
       "      <td>NaN</td>\n",
       "      <td>50.0</td>\n",
       "      <td>NaN</td>\n",
       "    </tr>\n",
       "    <tr>\n",
       "      <th>2</th>\n",
       "      <td>Madrid, Spain</td>\n",
       "      <td>ES</td>\n",
       "      <td>Spain</td>\n",
       "      <td>40.389048</td>\n",
       "      <td>-3.740374</td>\n",
       "      <td>Apartment</td>\n",
       "      <td>Shared room</td>\n",
       "      <td>1</td>\n",
       "      <td>1.5</td>\n",
       "      <td>1.0</td>\n",
       "      <td>8.0</td>\n",
       "      <td>Real Bed</td>\n",
       "      <td>Internet,Wireless Internet,Wheelchair accessib...</td>\n",
       "      <td>NaN</td>\n",
       "      <td>10.0</td>\n",
       "      <td>NaN</td>\n",
       "    </tr>\n",
       "    <tr>\n",
       "      <th>3</th>\n",
       "      <td>Madrid, Spain</td>\n",
       "      <td>ES</td>\n",
       "      <td>Spain</td>\n",
       "      <td>40.412814</td>\n",
       "      <td>-3.703052</td>\n",
       "      <td>Apartment</td>\n",
       "      <td>Private room</td>\n",
       "      <td>2</td>\n",
       "      <td>3.0</td>\n",
       "      <td>1.0</td>\n",
       "      <td>1.0</td>\n",
       "      <td>Real Bed</td>\n",
       "      <td>Wireless Internet,Kitchen,Smoking allowed,Heat...</td>\n",
       "      <td>NaN</td>\n",
       "      <td>30.0</td>\n",
       "      <td>NaN</td>\n",
       "    </tr>\n",
       "    <tr>\n",
       "      <th>4</th>\n",
       "      <td>Madrid, Spain</td>\n",
       "      <td>ES</td>\n",
       "      <td>Spain</td>\n",
       "      <td>40.438631</td>\n",
       "      <td>-3.713716</td>\n",
       "      <td>Apartment</td>\n",
       "      <td>Private room</td>\n",
       "      <td>2</td>\n",
       "      <td>1.0</td>\n",
       "      <td>1.0</td>\n",
       "      <td>1.0</td>\n",
       "      <td>Real Bed</td>\n",
       "      <td>TV,Cable TV,Internet,Wireless Internet,Air con...</td>\n",
       "      <td>NaN</td>\n",
       "      <td>32.0</td>\n",
       "      <td>NaN</td>\n",
       "    </tr>\n",
       "  </tbody>\n",
       "</table>\n",
       "</div>"
      ],
      "text/plain": [
       "  Smart Location Country Code Country   Latitude  Longitude Property Type  \\\n",
       "0  Madrid, Spain           ES   Spain  40.407732  -3.684819     Apartment   \n",
       "1  Madrid, Spain           ES   Spain  40.415802  -3.705340     Apartment   \n",
       "2  Madrid, Spain           ES   Spain  40.389048  -3.740374     Apartment   \n",
       "3  Madrid, Spain           ES   Spain  40.412814  -3.703052     Apartment   \n",
       "4  Madrid, Spain           ES   Spain  40.438631  -3.713716     Apartment   \n",
       "\n",
       "         Room Type  Accommodates  Bathrooms  Bedrooms  Beds  Bed Type  \\\n",
       "0  Entire home/apt             4        1.0       1.0   2.0  Real Bed   \n",
       "1  Entire home/apt             4        1.0       1.0   2.0  Real Bed   \n",
       "2      Shared room             1        1.5       1.0   8.0  Real Bed   \n",
       "3     Private room             2        3.0       1.0   1.0  Real Bed   \n",
       "4     Private room             2        1.0       1.0   1.0  Real Bed   \n",
       "\n",
       "                                           Amenities  Square Feet  Price  \\\n",
       "0  TV,Internet,Wireless Internet,Air conditioning...          NaN   60.0   \n",
       "1  TV,Internet,Wireless Internet,Air conditioning...          NaN   50.0   \n",
       "2  Internet,Wireless Internet,Wheelchair accessib...          NaN   10.0   \n",
       "3  Wireless Internet,Kitchen,Smoking allowed,Heat...          NaN   30.0   \n",
       "4  TV,Cable TV,Internet,Wireless Internet,Air con...          NaN   32.0   \n",
       "\n",
       "   Weekly Price  \n",
       "0         550.0  \n",
       "1           NaN  \n",
       "2           NaN  \n",
       "3           NaN  \n",
       "4           NaN  "
      ]
     },
     "execution_count": 17,
     "metadata": {},
     "output_type": "execute_result"
    }
   ],
   "source": [
    "columnas = ['Smart Location', 'Country Code', 'Country', 'Latitude', 'Longitude', 'Property Type', 'Room Type', 'Accommodates', 'Bathrooms', 'Bedrooms', \n",
    "            'Beds', 'Bed Type', 'Amenities', 'Square Feet', 'Price', 'Weekly Price',]\n",
    "df_train.loc[:,columnas].head()"
   ]
  },
  {
   "cell_type": "code",
   "execution_count": 18,
   "id": "cbecff96-590e-4738-a826-cbf04fd84344",
   "metadata": {},
   "outputs": [
    {
     "name": "stdout",
     "output_type": "stream",
     "text": [
      "<class 'pandas.core.frame.DataFrame'>\n",
      "RangeIndex: 11824 entries, 0 to 11823\n",
      "Data columns (total 16 columns):\n",
      " #   Column          Non-Null Count  Dtype  \n",
      "---  ------          --------------  -----  \n",
      " 0   Smart Location  11824 non-null  object \n",
      " 1   Country Code    11824 non-null  object \n",
      " 2   Country         11823 non-null  object \n",
      " 3   Latitude        11824 non-null  float64\n",
      " 4   Longitude       11824 non-null  float64\n",
      " 5   Property Type   11824 non-null  object \n",
      " 6   Room Type       11824 non-null  object \n",
      " 7   Accommodates    11824 non-null  int64  \n",
      " 8   Bathrooms       11780 non-null  float64\n",
      " 9   Bedrooms        11804 non-null  float64\n",
      " 10  Beds            11787 non-null  float64\n",
      " 11  Bed Type        11824 non-null  object \n",
      " 12  Amenities       11683 non-null  object \n",
      " 13  Square Feet     474 non-null    float64\n",
      " 14  Price           11809 non-null  float64\n",
      " 15  Weekly Price    2881 non-null   float64\n",
      "dtypes: float64(8), int64(1), object(7)\n",
      "memory usage: 1.4+ MB\n"
     ]
    }
   ],
   "source": [
    "df_train.loc[:,columnas].info()"
   ]
  },
  {
   "cell_type": "markdown",
   "id": "c77e4483-6939-497b-9118-64edc782ac85",
   "metadata": {},
   "source": [
    "* Latitude: Latitud del inmueble. Puede ser interesante.\n",
    "* Longitude: Latitud del inmueble. Puede ser interesante.\n",
    "* Property Type: Tipo de inmueble, Puede ser interesante\n",
    "* Room Type: Tipo de alquiler, Puede ser interesante.\n",
    "* Accommodates: Número de personas que entran en el inmueble, Puede ser interesante.\n",
    "* Bathrooms: Número de baños que hay en el inmueble, Puede ser interesante.\n",
    "* Bedrooms: Número de dormitorios que hay en el inmueble, Puede ser interesante.\n",
    "* Amenities: Lo mismo que con 'Host Verifications'.\n",
    "* Square Feet: Número de pies cuadrados que tiene el inmueble, Puede ser interesante."
   ]
  },
  {
   "cell_type": "code",
   "execution_count": 19,
   "id": "50e9059d-033c-496c-9a4c-5200d0f9210c",
   "metadata": {},
   "outputs": [
    {
     "data": {
      "text/html": [
       "<div>\n",
       "<style scoped>\n",
       "    .dataframe tbody tr th:only-of-type {\n",
       "        vertical-align: middle;\n",
       "    }\n",
       "\n",
       "    .dataframe tbody tr th {\n",
       "        vertical-align: top;\n",
       "    }\n",
       "\n",
       "    .dataframe thead th {\n",
       "        text-align: right;\n",
       "    }\n",
       "</style>\n",
       "<table border=\"1\" class=\"dataframe\">\n",
       "  <thead>\n",
       "    <tr style=\"text-align: right;\">\n",
       "      <th></th>\n",
       "      <th>Security Deposit</th>\n",
       "      <th>Cleaning Fee</th>\n",
       "      <th>Guests Included</th>\n",
       "      <th>Extra People</th>\n",
       "      <th>Minimum Nights</th>\n",
       "      <th>Maximum Nights</th>\n",
       "      <th>Calendar Updated</th>\n",
       "      <th>Has Availability</th>\n",
       "      <th>Availability 30</th>\n",
       "      <th>Availability 60</th>\n",
       "      <th>Availability 90</th>\n",
       "      <th>Availability 365</th>\n",
       "      <th>Calendar last Scraped</th>\n",
       "    </tr>\n",
       "  </thead>\n",
       "  <tbody>\n",
       "    <tr>\n",
       "      <th>0</th>\n",
       "      <td>NaN</td>\n",
       "      <td>25.0</td>\n",
       "      <td>1</td>\n",
       "      <td>0</td>\n",
       "      <td>2</td>\n",
       "      <td>1125</td>\n",
       "      <td>2 weeks ago</td>\n",
       "      <td>NaN</td>\n",
       "      <td>9</td>\n",
       "      <td>32</td>\n",
       "      <td>52</td>\n",
       "      <td>117</td>\n",
       "      <td>2017-04-08</td>\n",
       "    </tr>\n",
       "    <tr>\n",
       "      <th>1</th>\n",
       "      <td>NaN</td>\n",
       "      <td>15.0</td>\n",
       "      <td>1</td>\n",
       "      <td>0</td>\n",
       "      <td>1</td>\n",
       "      <td>1125</td>\n",
       "      <td>today</td>\n",
       "      <td>NaN</td>\n",
       "      <td>15</td>\n",
       "      <td>39</td>\n",
       "      <td>64</td>\n",
       "      <td>208</td>\n",
       "      <td>2017-04-08</td>\n",
       "    </tr>\n",
       "    <tr>\n",
       "      <th>2</th>\n",
       "      <td>NaN</td>\n",
       "      <td>5.0</td>\n",
       "      <td>1</td>\n",
       "      <td>0</td>\n",
       "      <td>3</td>\n",
       "      <td>30</td>\n",
       "      <td>a week ago</td>\n",
       "      <td>NaN</td>\n",
       "      <td>14</td>\n",
       "      <td>44</td>\n",
       "      <td>74</td>\n",
       "      <td>140</td>\n",
       "      <td>2017-04-08</td>\n",
       "    </tr>\n",
       "    <tr>\n",
       "      <th>3</th>\n",
       "      <td>NaN</td>\n",
       "      <td>NaN</td>\n",
       "      <td>1</td>\n",
       "      <td>0</td>\n",
       "      <td>10</td>\n",
       "      <td>1125</td>\n",
       "      <td>3 days ago</td>\n",
       "      <td>NaN</td>\n",
       "      <td>0</td>\n",
       "      <td>6</td>\n",
       "      <td>36</td>\n",
       "      <td>311</td>\n",
       "      <td>2017-04-08</td>\n",
       "    </tr>\n",
       "    <tr>\n",
       "      <th>4</th>\n",
       "      <td>NaN</td>\n",
       "      <td>NaN</td>\n",
       "      <td>1</td>\n",
       "      <td>10</td>\n",
       "      <td>1</td>\n",
       "      <td>1125</td>\n",
       "      <td>5 days ago</td>\n",
       "      <td>NaN</td>\n",
       "      <td>7</td>\n",
       "      <td>34</td>\n",
       "      <td>62</td>\n",
       "      <td>337</td>\n",
       "      <td>2017-04-08</td>\n",
       "    </tr>\n",
       "  </tbody>\n",
       "</table>\n",
       "</div>"
      ],
      "text/plain": [
       "   Security Deposit  Cleaning Fee  Guests Included  Extra People  \\\n",
       "0               NaN          25.0                1             0   \n",
       "1               NaN          15.0                1             0   \n",
       "2               NaN           5.0                1             0   \n",
       "3               NaN           NaN                1             0   \n",
       "4               NaN           NaN                1            10   \n",
       "\n",
       "   Minimum Nights  Maximum Nights Calendar Updated Has Availability  \\\n",
       "0               2            1125      2 weeks ago              NaN   \n",
       "1               1            1125            today              NaN   \n",
       "2               3              30       a week ago              NaN   \n",
       "3              10            1125       3 days ago              NaN   \n",
       "4               1            1125       5 days ago              NaN   \n",
       "\n",
       "   Availability 30  Availability 60  Availability 90  Availability 365  \\\n",
       "0                9               32               52               117   \n",
       "1               15               39               64               208   \n",
       "2               14               44               74               140   \n",
       "3                0                6               36               311   \n",
       "4                7               34               62               337   \n",
       "\n",
       "  Calendar last Scraped  \n",
       "0            2017-04-08  \n",
       "1            2017-04-08  \n",
       "2            2017-04-08  \n",
       "3            2017-04-08  \n",
       "4            2017-04-08  "
      ]
     },
     "execution_count": 19,
     "metadata": {},
     "output_type": "execute_result"
    }
   ],
   "source": [
    "columnas = ['Security Deposit', 'Cleaning Fee', 'Guests Included', 'Extra People', 'Minimum Nights', 'Maximum Nights', 'Calendar Updated', 'Has Availability', 'Availability 30', 'Availability 60',\n",
    "       'Availability 90', 'Availability 365', 'Calendar last Scraped',]\n",
    "df_train.loc[:,columnas].head()"
   ]
  },
  {
   "cell_type": "code",
   "execution_count": 20,
   "id": "24e53862-d5c9-4764-8df8-08ac6f6c4647",
   "metadata": {},
   "outputs": [
    {
     "name": "stdout",
     "output_type": "stream",
     "text": [
      "<class 'pandas.core.frame.DataFrame'>\n",
      "RangeIndex: 11824 entries, 0 to 11823\n",
      "Data columns (total 13 columns):\n",
      " #   Column                 Non-Null Count  Dtype  \n",
      "---  ------                 --------------  -----  \n",
      " 0   Security Deposit       5052 non-null   float64\n",
      " 1   Cleaning Fee           6974 non-null   float64\n",
      " 2   Guests Included        11824 non-null  int64  \n",
      " 3   Extra People           11824 non-null  int64  \n",
      " 4   Minimum Nights         11824 non-null  int64  \n",
      " 5   Maximum Nights         11824 non-null  int64  \n",
      " 6   Calendar Updated       11824 non-null  object \n",
      " 7   Has Availability       9 non-null      object \n",
      " 8   Availability 30        11824 non-null  int64  \n",
      " 9   Availability 60        11824 non-null  int64  \n",
      " 10  Availability 90        11824 non-null  int64  \n",
      " 11  Availability 365       11824 non-null  int64  \n",
      " 12  Calendar last Scraped  11824 non-null  object \n",
      "dtypes: float64(2), int64(8), object(3)\n",
      "memory usage: 1.2+ MB\n"
     ]
    }
   ],
   "source": [
    "df_train.loc[:,columnas].info()"
   ]
  },
  {
   "cell_type": "markdown",
   "id": "9013c445-a3c7-4e6a-9c86-6774bce96564",
   "metadata": {},
   "source": [
    "* Security Deposit: Fianza que pide el anfitrión, Puede ser interesante.\n",
    "* Cleaning Fee: Tasa de limpieza, Puede ser interesante.\n",
    "* Guests Included: Número de invitados adicionales que puedes alojar en el inmueble, Puede ser interesante.\n",
    "* Extra People: Importe a pagar por cada invitado adicional que puedes alojar en el inmueble, Puede ser interesante.\n",
    "* Minimum Nights: Noches mínimas a alquilar. Puede ser interesante.\n",
    "* Maximum Nights: Noches máximas a alquilar. Puede ser interesante.\n",
    "* Availability 30, 60, 90, 365: Días de disponibilidad en los proxímos 30, 60, 90 y 365 días, Puede ser interesante."
   ]
  },
  {
   "cell_type": "code",
   "execution_count": 21,
   "id": "4a7bf830-c528-42ae-9957-6cc9e789c34c",
   "metadata": {},
   "outputs": [
    {
     "data": {
      "text/html": [
       "<div>\n",
       "<style scoped>\n",
       "    .dataframe tbody tr th:only-of-type {\n",
       "        vertical-align: middle;\n",
       "    }\n",
       "\n",
       "    .dataframe tbody tr th {\n",
       "        vertical-align: top;\n",
       "    }\n",
       "\n",
       "    .dataframe thead th {\n",
       "        text-align: right;\n",
       "    }\n",
       "</style>\n",
       "<table border=\"1\" class=\"dataframe\">\n",
       "  <thead>\n",
       "    <tr style=\"text-align: right;\">\n",
       "      <th></th>\n",
       "      <th>Number of Reviews</th>\n",
       "      <th>First Review</th>\n",
       "      <th>Last Review</th>\n",
       "      <th>Review Scores Rating</th>\n",
       "      <th>Review Scores Accuracy</th>\n",
       "      <th>Review Scores Cleanliness</th>\n",
       "      <th>Review Scores Checkin</th>\n",
       "      <th>Review Scores Communication</th>\n",
       "      <th>Review Scores Location</th>\n",
       "      <th>Review Scores Value</th>\n",
       "    </tr>\n",
       "  </thead>\n",
       "  <tbody>\n",
       "    <tr>\n",
       "      <th>0</th>\n",
       "      <td>12</td>\n",
       "      <td>2015-04-26</td>\n",
       "      <td>2017-02-28</td>\n",
       "      <td>95.0</td>\n",
       "      <td>9.0</td>\n",
       "      <td>10.0</td>\n",
       "      <td>10.0</td>\n",
       "      <td>10.0</td>\n",
       "      <td>10.0</td>\n",
       "      <td>9.0</td>\n",
       "    </tr>\n",
       "    <tr>\n",
       "      <th>1</th>\n",
       "      <td>20</td>\n",
       "      <td>2016-08-05</td>\n",
       "      <td>2017-03-20</td>\n",
       "      <td>91.0</td>\n",
       "      <td>9.0</td>\n",
       "      <td>9.0</td>\n",
       "      <td>10.0</td>\n",
       "      <td>10.0</td>\n",
       "      <td>10.0</td>\n",
       "      <td>10.0</td>\n",
       "    </tr>\n",
       "    <tr>\n",
       "      <th>2</th>\n",
       "      <td>0</td>\n",
       "      <td>NaN</td>\n",
       "      <td>NaN</td>\n",
       "      <td>NaN</td>\n",
       "      <td>NaN</td>\n",
       "      <td>NaN</td>\n",
       "      <td>NaN</td>\n",
       "      <td>NaN</td>\n",
       "      <td>NaN</td>\n",
       "      <td>NaN</td>\n",
       "    </tr>\n",
       "    <tr>\n",
       "      <th>3</th>\n",
       "      <td>0</td>\n",
       "      <td>NaN</td>\n",
       "      <td>NaN</td>\n",
       "      <td>NaN</td>\n",
       "      <td>NaN</td>\n",
       "      <td>NaN</td>\n",
       "      <td>NaN</td>\n",
       "      <td>NaN</td>\n",
       "      <td>NaN</td>\n",
       "      <td>NaN</td>\n",
       "    </tr>\n",
       "    <tr>\n",
       "      <th>4</th>\n",
       "      <td>97</td>\n",
       "      <td>2013-06-07</td>\n",
       "      <td>2017-02-28</td>\n",
       "      <td>92.0</td>\n",
       "      <td>9.0</td>\n",
       "      <td>9.0</td>\n",
       "      <td>9.0</td>\n",
       "      <td>10.0</td>\n",
       "      <td>9.0</td>\n",
       "      <td>9.0</td>\n",
       "    </tr>\n",
       "  </tbody>\n",
       "</table>\n",
       "</div>"
      ],
      "text/plain": [
       "   Number of Reviews First Review Last Review  Review Scores Rating  \\\n",
       "0                 12   2015-04-26  2017-02-28                  95.0   \n",
       "1                 20   2016-08-05  2017-03-20                  91.0   \n",
       "2                  0          NaN         NaN                   NaN   \n",
       "3                  0          NaN         NaN                   NaN   \n",
       "4                 97   2013-06-07  2017-02-28                  92.0   \n",
       "\n",
       "   Review Scores Accuracy  Review Scores Cleanliness  Review Scores Checkin  \\\n",
       "0                     9.0                       10.0                   10.0   \n",
       "1                     9.0                        9.0                   10.0   \n",
       "2                     NaN                        NaN                    NaN   \n",
       "3                     NaN                        NaN                    NaN   \n",
       "4                     9.0                        9.0                    9.0   \n",
       "\n",
       "   Review Scores Communication  Review Scores Location  Review Scores Value  \n",
       "0                         10.0                    10.0                  9.0  \n",
       "1                         10.0                    10.0                 10.0  \n",
       "2                          NaN                     NaN                  NaN  \n",
       "3                          NaN                     NaN                  NaN  \n",
       "4                         10.0                     9.0                  9.0  "
      ]
     },
     "execution_count": 21,
     "metadata": {},
     "output_type": "execute_result"
    }
   ],
   "source": [
    "columnas = ['Number of Reviews', 'First Review', 'Last Review', 'Review Scores Rating', 'Review Scores Accuracy', 'Review Scores Cleanliness', 'Review Scores Checkin',\n",
    "       'Review Scores Communication', 'Review Scores Location','Review Scores Value']\n",
    "df_train.loc[:,columnas].head()"
   ]
  },
  {
   "cell_type": "code",
   "execution_count": 22,
   "id": "999eb53d-8dc9-4b7a-9ae2-cfb378946c49",
   "metadata": {},
   "outputs": [
    {
     "name": "stdout",
     "output_type": "stream",
     "text": [
      "<class 'pandas.core.frame.DataFrame'>\n",
      "RangeIndex: 11824 entries, 0 to 11823\n",
      "Data columns (total 10 columns):\n",
      " #   Column                       Non-Null Count  Dtype  \n",
      "---  ------                       --------------  -----  \n",
      " 0   Number of Reviews            11824 non-null  int64  \n",
      " 1   First Review                 9285 non-null   object \n",
      " 2   Last Review                  9284 non-null   object \n",
      " 3   Review Scores Rating         9163 non-null   float64\n",
      " 4   Review Scores Accuracy       9143 non-null   float64\n",
      " 5   Review Scores Cleanliness    9148 non-null   float64\n",
      " 6   Review Scores Checkin        9136 non-null   float64\n",
      " 7   Review Scores Communication  9147 non-null   float64\n",
      " 8   Review Scores Location       9133 non-null   float64\n",
      " 9   Review Scores Value          9132 non-null   float64\n",
      "dtypes: float64(7), int64(1), object(2)\n",
      "memory usage: 923.9+ KB\n"
     ]
    }
   ],
   "source": [
    "df_train.loc[:,columnas].info()"
   ]
  },
  {
   "cell_type": "markdown",
   "id": "40414802-a90e-4cb1-a408-cf8efdec3240",
   "metadata": {},
   "source": [
    "* Number of Reviews: Número de opiniones que tiene el inmueble, Puede ser interesante."
   ]
  },
  {
   "cell_type": "code",
   "execution_count": 23,
   "id": "2b5f50e9-5890-4f80-aef2-f3108074a649",
   "metadata": {},
   "outputs": [
    {
     "data": {
      "text/html": [
       "<div>\n",
       "<style scoped>\n",
       "    .dataframe tbody tr th:only-of-type {\n",
       "        vertical-align: middle;\n",
       "    }\n",
       "\n",
       "    .dataframe tbody tr th {\n",
       "        vertical-align: top;\n",
       "    }\n",
       "\n",
       "    .dataframe thead th {\n",
       "        text-align: right;\n",
       "    }\n",
       "</style>\n",
       "<table border=\"1\" class=\"dataframe\">\n",
       "  <thead>\n",
       "    <tr style=\"text-align: right;\">\n",
       "      <th></th>\n",
       "      <th>License</th>\n",
       "      <th>Jurisdiction Names</th>\n",
       "      <th>Cancellation Policy</th>\n",
       "      <th>Calculated host listings count</th>\n",
       "      <th>Reviews per Month</th>\n",
       "      <th>Geolocation</th>\n",
       "      <th>Features</th>\n",
       "    </tr>\n",
       "  </thead>\n",
       "  <tbody>\n",
       "    <tr>\n",
       "      <th>0</th>\n",
       "      <td>NaN</td>\n",
       "      <td>NaN</td>\n",
       "      <td>moderate</td>\n",
       "      <td>2.0</td>\n",
       "      <td>0.50</td>\n",
       "      <td>40.4077318793,-3.68481869733</td>\n",
       "      <td>Host Has Profile Pic,Is Location Exact,Require...</td>\n",
       "    </tr>\n",
       "    <tr>\n",
       "      <th>1</th>\n",
       "      <td>NaN</td>\n",
       "      <td>NaN</td>\n",
       "      <td>flexible</td>\n",
       "      <td>1.0</td>\n",
       "      <td>2.43</td>\n",
       "      <td>40.4158022422,-3.70534037765</td>\n",
       "      <td>Host Has Profile Pic,Host Identity Verified,Re...</td>\n",
       "    </tr>\n",
       "    <tr>\n",
       "      <th>2</th>\n",
       "      <td>NaN</td>\n",
       "      <td>NaN</td>\n",
       "      <td>moderate</td>\n",
       "      <td>16.0</td>\n",
       "      <td>NaN</td>\n",
       "      <td>40.3890481626,-3.74037392557</td>\n",
       "      <td>Host Has Profile Pic,Host Identity Verified,Is...</td>\n",
       "    </tr>\n",
       "    <tr>\n",
       "      <th>3</th>\n",
       "      <td>NaN</td>\n",
       "      <td>NaN</td>\n",
       "      <td>strict</td>\n",
       "      <td>97.0</td>\n",
       "      <td>NaN</td>\n",
       "      <td>40.4128140929,-3.70305247638</td>\n",
       "      <td>Host Has Profile Pic,Requires License</td>\n",
       "    </tr>\n",
       "    <tr>\n",
       "      <th>4</th>\n",
       "      <td>NaN</td>\n",
       "      <td>NaN</td>\n",
       "      <td>strict</td>\n",
       "      <td>2.0</td>\n",
       "      <td>2.08</td>\n",
       "      <td>40.4386311984,-3.71371613279</td>\n",
       "      <td>Host Has Profile Pic,Host Identity Verified,Is...</td>\n",
       "    </tr>\n",
       "  </tbody>\n",
       "</table>\n",
       "</div>"
      ],
      "text/plain": [
       "  License Jurisdiction Names Cancellation Policy  \\\n",
       "0     NaN                NaN            moderate   \n",
       "1     NaN                NaN            flexible   \n",
       "2     NaN                NaN            moderate   \n",
       "3     NaN                NaN              strict   \n",
       "4     NaN                NaN              strict   \n",
       "\n",
       "   Calculated host listings count  Reviews per Month  \\\n",
       "0                             2.0               0.50   \n",
       "1                             1.0               2.43   \n",
       "2                            16.0                NaN   \n",
       "3                            97.0                NaN   \n",
       "4                             2.0               2.08   \n",
       "\n",
       "                    Geolocation  \\\n",
       "0  40.4077318793,-3.68481869733   \n",
       "1  40.4158022422,-3.70534037765   \n",
       "2  40.3890481626,-3.74037392557   \n",
       "3  40.4128140929,-3.70305247638   \n",
       "4  40.4386311984,-3.71371613279   \n",
       "\n",
       "                                            Features  \n",
       "0  Host Has Profile Pic,Is Location Exact,Require...  \n",
       "1  Host Has Profile Pic,Host Identity Verified,Re...  \n",
       "2  Host Has Profile Pic,Host Identity Verified,Is...  \n",
       "3              Host Has Profile Pic,Requires License  \n",
       "4  Host Has Profile Pic,Host Identity Verified,Is...  "
      ]
     },
     "execution_count": 23,
     "metadata": {},
     "output_type": "execute_result"
    }
   ],
   "source": [
    "columnas = ['License', 'Jurisdiction Names', 'Cancellation Policy', 'Calculated host listings count', 'Reviews per Month', 'Geolocation', 'Features']\n",
    "df_train.loc[:,columnas].head()"
   ]
  },
  {
   "cell_type": "code",
   "execution_count": 24,
   "id": "3e804eba-f53c-45c1-9776-de2c3268dffb",
   "metadata": {},
   "outputs": [
    {
     "name": "stdout",
     "output_type": "stream",
     "text": [
      "<class 'pandas.core.frame.DataFrame'>\n",
      "RangeIndex: 11824 entries, 0 to 11823\n",
      "Data columns (total 7 columns):\n",
      " #   Column                          Non-Null Count  Dtype  \n",
      "---  ------                          --------------  -----  \n",
      " 0   License                         277 non-null    object \n",
      " 1   Jurisdiction Names              174 non-null    object \n",
      " 2   Cancellation Policy             11824 non-null  object \n",
      " 3   Calculated host listings count  11820 non-null  float64\n",
      " 4   Reviews per Month               9285 non-null   float64\n",
      " 5   Geolocation                     11824 non-null  object \n",
      " 6   Features                        11823 non-null  object \n",
      "dtypes: float64(2), object(5)\n",
      "memory usage: 646.8+ KB\n"
     ]
    }
   ],
   "source": [
    "df_train.loc[:,columnas].info()"
   ]
  },
  {
   "cell_type": "markdown",
   "id": "5236a7f1-7dc5-42e1-8108-ccbad4e8f1ef",
   "metadata": {},
   "source": [
    "* Cancellation Policy: Tipo de cancelación de reserva del inmueble, Puede ser interesante.\n",
    "* Calculated host listings count: Este campo es del que hablamos anteriormente, que mide la experiencia del anfitrión. Puede ser interesante.\n",
    "* Features: Lo mismo que con 'Host Verifications'"
   ]
  },
  {
   "cell_type": "markdown",
   "id": "47efa711-b226-44aa-a309-9c5e9d0496b0",
   "metadata": {
    "tags": []
   },
   "source": [
    "#### 1.2 TRANSFORMACIONES"
   ]
  },
  {
   "cell_type": "markdown",
   "id": "3839ad29-0633-45db-81be-7bd012a651b7",
   "metadata": {},
   "source": [
    "* Borramos las columnas que no hemos considerado interesantes."
   ]
  },
  {
   "cell_type": "code",
   "execution_count": 25,
   "id": "910dfe62-764a-4c87-83fe-13ae8c186719",
   "metadata": {},
   "outputs": [],
   "source": [
    "df_train.drop([\n",
    "    'ID', 'Listing Url', 'Scrape ID', 'Last Scraped', 'Name', 'Summary', 'Space', 'Description', \n",
    "    'Experiences Offered', 'Neighborhood Overview', 'Notes', 'Transit', 'Access', 'Interaction', \n",
    "    'House Rules', 'Thumbnail Url', 'Medium Url', 'Picture Url', 'XL Picture Url',\n",
    "    'Host ID', 'Host URL', 'Host Name', 'Host Since', 'Host Location', 'Host About', 'Host Acceptance Rate', \n",
    "    'Host Thumbnail Url', 'Host Picture Url', 'Host Neighbourhood', 'Host Listings Count', \n",
    "    'Host Total Listings Count', 'Host Verifications', 'Street', 'Neighbourhood Group Cleansed', 'State', 'Market',\n",
    "    'Smart Location', 'Country Code', 'Country', 'Beds', 'Bed Type', 'Amenities', 'Calendar Updated', 'Has Availability', \n",
    "    'Calendar last Scraped','First Review', 'Last Review', 'Review Scores Rating', 'Review Scores Accuracy',\n",
    "    'Review Scores Cleanliness', 'Review Scores Checkin','Review Scores Communication', \n",
    "    'Review Scores Location', 'Review Scores Value', 'License', 'Jurisdiction Names',\n",
    "    'Reviews per Month', 'Geolocation', 'Features' \n",
    "    ], \n",
    "    axis=1, inplace=True)"
   ]
  },
  {
   "cell_type": "markdown",
   "id": "9a8cecff-01ba-453c-b515-a52964cd4881",
   "metadata": {},
   "source": [
    "* Rellenamos los datos faltantes de la columna Neighbourhood con los de Neighbourhood Cleansed y eliminamos esta columna que ya no será necesaria"
   ]
  },
  {
   "cell_type": "code",
   "execution_count": 26,
   "id": "14c7ff02-fd77-4dda-8aab-5da2fd358abd",
   "metadata": {},
   "outputs": [],
   "source": [
    "df_train['Neighbourhood'] = df_train['Neighbourhood'].fillna(df_train['Neighbourhood Cleansed'])\n",
    "df_train.drop(['Neighbourhood Cleansed'], axis=1, inplace=True)"
   ]
  },
  {
   "cell_type": "markdown",
   "id": "2a73b830-a842-4b28-bf37-2a640f9539b5",
   "metadata": {},
   "source": [
    "* Nos quedamos con los inmuebles de Madrid y eliminamos la columna City"
   ]
  },
  {
   "cell_type": "code",
   "execution_count": 27,
   "id": "62a3fbf7-60d9-41c3-a5b5-6349ef07073a",
   "metadata": {},
   "outputs": [],
   "source": [
    "df_train = df_train[df_train['City'] == \"Madrid\"]\n",
    "df_train.drop(['City'], axis=1, inplace=True)"
   ]
  },
  {
   "cell_type": "code",
   "execution_count": 28,
   "id": "ef6bb66c-a86d-4557-bff3-a7d98befe5fe",
   "metadata": {},
   "outputs": [
    {
     "data": {
      "text/plain": [
       "(10567, 28)"
      ]
     },
     "execution_count": 28,
     "metadata": {},
     "output_type": "execute_result"
    }
   ],
   "source": [
    "df_train.shape"
   ]
  },
  {
   "cell_type": "code",
   "execution_count": 29,
   "id": "f00ef458-da6a-4605-b0a8-4083046f7958",
   "metadata": {},
   "outputs": [
    {
     "data": {
      "text/plain": [
       "Index(['Host Response Time', 'Host Response Rate', 'Neighbourhood', 'Zipcode',\n",
       "       'Latitude', 'Longitude', 'Property Type', 'Room Type', 'Accommodates',\n",
       "       'Bathrooms', 'Bedrooms', 'Square Feet', 'Price', 'Weekly Price',\n",
       "       'Monthly Price', 'Security Deposit', 'Cleaning Fee', 'Guests Included',\n",
       "       'Extra People', 'Minimum Nights', 'Maximum Nights', 'Availability 30',\n",
       "       'Availability 60', 'Availability 90', 'Availability 365',\n",
       "       'Number of Reviews', 'Cancellation Policy',\n",
       "       'Calculated host listings count'],\n",
       "      dtype='object')"
      ]
     },
     "execution_count": 29,
     "metadata": {},
     "output_type": "execute_result"
    }
   ],
   "source": [
    "df_train.columns"
   ]
  },
  {
   "cell_type": "markdown",
   "id": "a4c54f1c-a9c3-4084-8383-dc2b98536950",
   "metadata": {},
   "source": [
    "* De las 89 columnas iniciales nos hemos quedado con 28.\n",
    "* Nos quedan las 10567 filas de Madrid.\n",
    "### Mostramos una descripción de las columnas numéricas:"
   ]
  },
  {
   "cell_type": "code",
   "execution_count": 30,
   "id": "0e9bcc22-9012-4ed7-b3e0-acfbcae7cfee",
   "metadata": {},
   "outputs": [
    {
     "data": {
      "text/html": [
       "<div>\n",
       "<style scoped>\n",
       "    .dataframe tbody tr th:only-of-type {\n",
       "        vertical-align: middle;\n",
       "    }\n",
       "\n",
       "    .dataframe tbody tr th {\n",
       "        vertical-align: top;\n",
       "    }\n",
       "\n",
       "    .dataframe thead th {\n",
       "        text-align: right;\n",
       "    }\n",
       "</style>\n",
       "<table border=\"1\" class=\"dataframe\">\n",
       "  <thead>\n",
       "    <tr style=\"text-align: right;\">\n",
       "      <th></th>\n",
       "      <th>count</th>\n",
       "      <th>mean</th>\n",
       "      <th>std</th>\n",
       "      <th>min</th>\n",
       "      <th>25%</th>\n",
       "      <th>50%</th>\n",
       "      <th>75%</th>\n",
       "      <th>max</th>\n",
       "    </tr>\n",
       "  </thead>\n",
       "  <tbody>\n",
       "    <tr>\n",
       "      <th>Host Response Rate</th>\n",
       "      <td>9254.0</td>\n",
       "      <td>94.816944</td>\n",
       "      <td>15.283509</td>\n",
       "      <td>0.000000</td>\n",
       "      <td>100.000000</td>\n",
       "      <td>100.000000</td>\n",
       "      <td>100.000000</td>\n",
       "      <td>100.000000</td>\n",
       "    </tr>\n",
       "    <tr>\n",
       "      <th>Latitude</th>\n",
       "      <td>10567.0</td>\n",
       "      <td>40.420436</td>\n",
       "      <td>0.019802</td>\n",
       "      <td>40.332908</td>\n",
       "      <td>40.410092</td>\n",
       "      <td>40.418471</td>\n",
       "      <td>40.427683</td>\n",
       "      <td>40.514247</td>\n",
       "    </tr>\n",
       "    <tr>\n",
       "      <th>Longitude</th>\n",
       "      <td>10567.0</td>\n",
       "      <td>-3.697122</td>\n",
       "      <td>0.023267</td>\n",
       "      <td>-3.835498</td>\n",
       "      <td>-3.707766</td>\n",
       "      <td>-3.701573</td>\n",
       "      <td>-3.693876</td>\n",
       "      <td>-3.575142</td>\n",
       "    </tr>\n",
       "    <tr>\n",
       "      <th>Accommodates</th>\n",
       "      <td>10567.0</td>\n",
       "      <td>3.188228</td>\n",
       "      <td>1.989624</td>\n",
       "      <td>1.000000</td>\n",
       "      <td>2.000000</td>\n",
       "      <td>2.000000</td>\n",
       "      <td>4.000000</td>\n",
       "      <td>16.000000</td>\n",
       "    </tr>\n",
       "    <tr>\n",
       "      <th>Bathrooms</th>\n",
       "      <td>10527.0</td>\n",
       "      <td>1.256863</td>\n",
       "      <td>0.608184</td>\n",
       "      <td>0.000000</td>\n",
       "      <td>1.000000</td>\n",
       "      <td>1.000000</td>\n",
       "      <td>1.000000</td>\n",
       "      <td>8.000000</td>\n",
       "    </tr>\n",
       "    <tr>\n",
       "      <th>Bedrooms</th>\n",
       "      <td>10549.0</td>\n",
       "      <td>1.294909</td>\n",
       "      <td>0.833250</td>\n",
       "      <td>0.000000</td>\n",
       "      <td>1.000000</td>\n",
       "      <td>1.000000</td>\n",
       "      <td>2.000000</td>\n",
       "      <td>10.000000</td>\n",
       "    </tr>\n",
       "    <tr>\n",
       "      <th>Square Feet</th>\n",
       "      <td>413.0</td>\n",
       "      <td>375.266344</td>\n",
       "      <td>556.981908</td>\n",
       "      <td>0.000000</td>\n",
       "      <td>0.000000</td>\n",
       "      <td>97.000000</td>\n",
       "      <td>646.000000</td>\n",
       "      <td>5167.000000</td>\n",
       "    </tr>\n",
       "    <tr>\n",
       "      <th>Price</th>\n",
       "      <td>10559.0</td>\n",
       "      <td>66.185150</td>\n",
       "      <td>56.164160</td>\n",
       "      <td>9.000000</td>\n",
       "      <td>31.000000</td>\n",
       "      <td>53.000000</td>\n",
       "      <td>80.000000</td>\n",
       "      <td>875.000000</td>\n",
       "    </tr>\n",
       "    <tr>\n",
       "      <th>Weekly Price</th>\n",
       "      <td>2697.0</td>\n",
       "      <td>370.569892</td>\n",
       "      <td>190.764771</td>\n",
       "      <td>70.000000</td>\n",
       "      <td>210.000000</td>\n",
       "      <td>350.000000</td>\n",
       "      <td>495.000000</td>\n",
       "      <td>999.000000</td>\n",
       "    </tr>\n",
       "    <tr>\n",
       "      <th>Monthly Price</th>\n",
       "      <td>2673.0</td>\n",
       "      <td>1355.562290</td>\n",
       "      <td>1001.426079</td>\n",
       "      <td>250.000000</td>\n",
       "      <td>700.000000</td>\n",
       "      <td>1200.000000</td>\n",
       "      <td>1700.000000</td>\n",
       "      <td>25000.000000</td>\n",
       "    </tr>\n",
       "    <tr>\n",
       "      <th>Security Deposit</th>\n",
       "      <td>4549.0</td>\n",
       "      <td>183.864586</td>\n",
       "      <td>110.595924</td>\n",
       "      <td>70.000000</td>\n",
       "      <td>100.000000</td>\n",
       "      <td>150.000000</td>\n",
       "      <td>200.000000</td>\n",
       "      <td>990.000000</td>\n",
       "    </tr>\n",
       "    <tr>\n",
       "      <th>Cleaning Fee</th>\n",
       "      <td>6282.0</td>\n",
       "      <td>30.025310</td>\n",
       "      <td>27.097579</td>\n",
       "      <td>5.000000</td>\n",
       "      <td>15.000000</td>\n",
       "      <td>25.000000</td>\n",
       "      <td>35.000000</td>\n",
       "      <td>500.000000</td>\n",
       "    </tr>\n",
       "    <tr>\n",
       "      <th>Guests Included</th>\n",
       "      <td>10567.0</td>\n",
       "      <td>1.569225</td>\n",
       "      <td>1.072125</td>\n",
       "      <td>1.000000</td>\n",
       "      <td>1.000000</td>\n",
       "      <td>1.000000</td>\n",
       "      <td>2.000000</td>\n",
       "      <td>16.000000</td>\n",
       "    </tr>\n",
       "    <tr>\n",
       "      <th>Extra People</th>\n",
       "      <td>10567.0</td>\n",
       "      <td>7.422920</td>\n",
       "      <td>10.616849</td>\n",
       "      <td>0.000000</td>\n",
       "      <td>0.000000</td>\n",
       "      <td>0.000000</td>\n",
       "      <td>14.000000</td>\n",
       "      <td>276.000000</td>\n",
       "    </tr>\n",
       "    <tr>\n",
       "      <th>Minimum Nights</th>\n",
       "      <td>10567.0</td>\n",
       "      <td>3.091984</td>\n",
       "      <td>14.131654</td>\n",
       "      <td>1.000000</td>\n",
       "      <td>1.000000</td>\n",
       "      <td>2.000000</td>\n",
       "      <td>3.000000</td>\n",
       "      <td>1125.000000</td>\n",
       "    </tr>\n",
       "    <tr>\n",
       "      <th>Maximum Nights</th>\n",
       "      <td>10567.0</td>\n",
       "      <td>976.684016</td>\n",
       "      <td>9928.723799</td>\n",
       "      <td>1.000000</td>\n",
       "      <td>365.000000</td>\n",
       "      <td>1125.000000</td>\n",
       "      <td>1125.000000</td>\n",
       "      <td>1000000.000000</td>\n",
       "    </tr>\n",
       "    <tr>\n",
       "      <th>Availability 30</th>\n",
       "      <td>10567.0</td>\n",
       "      <td>8.705593</td>\n",
       "      <td>9.066953</td>\n",
       "      <td>0.000000</td>\n",
       "      <td>0.000000</td>\n",
       "      <td>6.000000</td>\n",
       "      <td>13.000000</td>\n",
       "      <td>30.000000</td>\n",
       "    </tr>\n",
       "    <tr>\n",
       "      <th>Availability 60</th>\n",
       "      <td>10567.0</td>\n",
       "      <td>22.830415</td>\n",
       "      <td>19.500273</td>\n",
       "      <td>0.000000</td>\n",
       "      <td>5.000000</td>\n",
       "      <td>20.000000</td>\n",
       "      <td>38.000000</td>\n",
       "      <td>60.000000</td>\n",
       "    </tr>\n",
       "    <tr>\n",
       "      <th>Availability 90</th>\n",
       "      <td>10567.0</td>\n",
       "      <td>39.962998</td>\n",
       "      <td>29.329072</td>\n",
       "      <td>0.000000</td>\n",
       "      <td>12.000000</td>\n",
       "      <td>38.000000</td>\n",
       "      <td>65.000000</td>\n",
       "      <td>90.000000</td>\n",
       "    </tr>\n",
       "    <tr>\n",
       "      <th>Availability 365</th>\n",
       "      <td>10567.0</td>\n",
       "      <td>205.701145</td>\n",
       "      <td>127.087815</td>\n",
       "      <td>0.000000</td>\n",
       "      <td>83.000000</td>\n",
       "      <td>248.000000</td>\n",
       "      <td>320.000000</td>\n",
       "      <td>365.000000</td>\n",
       "    </tr>\n",
       "    <tr>\n",
       "      <th>Number of Reviews</th>\n",
       "      <td>10567.0</td>\n",
       "      <td>23.163055</td>\n",
       "      <td>38.364933</td>\n",
       "      <td>0.000000</td>\n",
       "      <td>1.000000</td>\n",
       "      <td>7.000000</td>\n",
       "      <td>28.000000</td>\n",
       "      <td>356.000000</td>\n",
       "    </tr>\n",
       "    <tr>\n",
       "      <th>Calculated host listings count</th>\n",
       "      <td>10567.0</td>\n",
       "      <td>7.766727</td>\n",
       "      <td>19.905940</td>\n",
       "      <td>1.000000</td>\n",
       "      <td>1.000000</td>\n",
       "      <td>2.000000</td>\n",
       "      <td>4.000000</td>\n",
       "      <td>145.000000</td>\n",
       "    </tr>\n",
       "  </tbody>\n",
       "</table>\n",
       "</div>"
      ],
      "text/plain": [
       "                                  count         mean          std         min  \\\n",
       "Host Response Rate               9254.0    94.816944    15.283509    0.000000   \n",
       "Latitude                        10567.0    40.420436     0.019802   40.332908   \n",
       "Longitude                       10567.0    -3.697122     0.023267   -3.835498   \n",
       "Accommodates                    10567.0     3.188228     1.989624    1.000000   \n",
       "Bathrooms                       10527.0     1.256863     0.608184    0.000000   \n",
       "Bedrooms                        10549.0     1.294909     0.833250    0.000000   \n",
       "Square Feet                       413.0   375.266344   556.981908    0.000000   \n",
       "Price                           10559.0    66.185150    56.164160    9.000000   \n",
       "Weekly Price                     2697.0   370.569892   190.764771   70.000000   \n",
       "Monthly Price                    2673.0  1355.562290  1001.426079  250.000000   \n",
       "Security Deposit                 4549.0   183.864586   110.595924   70.000000   \n",
       "Cleaning Fee                     6282.0    30.025310    27.097579    5.000000   \n",
       "Guests Included                 10567.0     1.569225     1.072125    1.000000   \n",
       "Extra People                    10567.0     7.422920    10.616849    0.000000   \n",
       "Minimum Nights                  10567.0     3.091984    14.131654    1.000000   \n",
       "Maximum Nights                  10567.0   976.684016  9928.723799    1.000000   \n",
       "Availability 30                 10567.0     8.705593     9.066953    0.000000   \n",
       "Availability 60                 10567.0    22.830415    19.500273    0.000000   \n",
       "Availability 90                 10567.0    39.962998    29.329072    0.000000   \n",
       "Availability 365                10567.0   205.701145   127.087815    0.000000   \n",
       "Number of Reviews               10567.0    23.163055    38.364933    0.000000   \n",
       "Calculated host listings count  10567.0     7.766727    19.905940    1.000000   \n",
       "\n",
       "                                       25%          50%          75%  \\\n",
       "Host Response Rate              100.000000   100.000000   100.000000   \n",
       "Latitude                         40.410092    40.418471    40.427683   \n",
       "Longitude                        -3.707766    -3.701573    -3.693876   \n",
       "Accommodates                      2.000000     2.000000     4.000000   \n",
       "Bathrooms                         1.000000     1.000000     1.000000   \n",
       "Bedrooms                          1.000000     1.000000     2.000000   \n",
       "Square Feet                       0.000000    97.000000   646.000000   \n",
       "Price                            31.000000    53.000000    80.000000   \n",
       "Weekly Price                    210.000000   350.000000   495.000000   \n",
       "Monthly Price                   700.000000  1200.000000  1700.000000   \n",
       "Security Deposit                100.000000   150.000000   200.000000   \n",
       "Cleaning Fee                     15.000000    25.000000    35.000000   \n",
       "Guests Included                   1.000000     1.000000     2.000000   \n",
       "Extra People                      0.000000     0.000000    14.000000   \n",
       "Minimum Nights                    1.000000     2.000000     3.000000   \n",
       "Maximum Nights                  365.000000  1125.000000  1125.000000   \n",
       "Availability 30                   0.000000     6.000000    13.000000   \n",
       "Availability 60                   5.000000    20.000000    38.000000   \n",
       "Availability 90                  12.000000    38.000000    65.000000   \n",
       "Availability 365                 83.000000   248.000000   320.000000   \n",
       "Number of Reviews                 1.000000     7.000000    28.000000   \n",
       "Calculated host listings count    1.000000     2.000000     4.000000   \n",
       "\n",
       "                                           max  \n",
       "Host Response Rate                  100.000000  \n",
       "Latitude                             40.514247  \n",
       "Longitude                            -3.575142  \n",
       "Accommodates                         16.000000  \n",
       "Bathrooms                             8.000000  \n",
       "Bedrooms                             10.000000  \n",
       "Square Feet                        5167.000000  \n",
       "Price                               875.000000  \n",
       "Weekly Price                        999.000000  \n",
       "Monthly Price                     25000.000000  \n",
       "Security Deposit                    990.000000  \n",
       "Cleaning Fee                        500.000000  \n",
       "Guests Included                      16.000000  \n",
       "Extra People                        276.000000  \n",
       "Minimum Nights                     1125.000000  \n",
       "Maximum Nights                  1000000.000000  \n",
       "Availability 30                      30.000000  \n",
       "Availability 60                      60.000000  \n",
       "Availability 90                      90.000000  \n",
       "Availability 365                    365.000000  \n",
       "Number of Reviews                   356.000000  \n",
       "Calculated host listings count      145.000000  "
      ]
     },
     "execution_count": 30,
     "metadata": {},
     "output_type": "execute_result"
    }
   ],
   "source": [
    "df_train.describe().T"
   ]
  },
  {
   "cell_type": "markdown",
   "id": "32132798-9f19-48f9-a5ef-5e1e51a9496a",
   "metadata": {},
   "source": [
    "* Eliminamos SquareFeet, WeeklyPrice, Security Deposit, Cleaning Fee y MonthlyPrice porque tienen muy pocos datos."
   ]
  },
  {
   "cell_type": "code",
   "execution_count": 31,
   "id": "efc320c8-eebd-4a84-92bd-363ffd258df7",
   "metadata": {},
   "outputs": [],
   "source": [
    "df_train.drop(['Square Feet', 'Weekly Price', 'Monthly Price', 'Security Deposit', 'Cleaning Fee'], axis=1, inplace=True)"
   ]
  },
  {
   "cell_type": "markdown",
   "id": "0907007c-2a0d-41a4-b6dd-0ec8b766388d",
   "metadata": {},
   "source": [
    "* En la columna bathrooms rellenamos con valor 1."
   ]
  },
  {
   "cell_type": "code",
   "execution_count": 32,
   "id": "d00fd141-4d25-40e0-8f3a-eb0e8260d4dc",
   "metadata": {},
   "outputs": [],
   "source": [
    "df_train['Bathrooms'] = df_train['Bathrooms'].fillna(value=1)"
   ]
  },
  {
   "cell_type": "markdown",
   "id": "69c884e1-fbf4-4604-ab78-552305d6c8e5",
   "metadata": {},
   "source": [
    "* Los Bedrooms que nos faltan los eliminamos, ya que son muy pocos respecto al dataset."
   ]
  },
  {
   "cell_type": "code",
   "execution_count": 33,
   "id": "a05ebab4-feb1-4974-b718-5c984dca1877",
   "metadata": {},
   "outputs": [
    {
     "data": {
      "text/plain": [
       "18"
      ]
     },
     "execution_count": 33,
     "metadata": {},
     "output_type": "execute_result"
    }
   ],
   "source": [
    "df_train['Bedrooms'].isnull().sum()"
   ]
  },
  {
   "cell_type": "code",
   "execution_count": 34,
   "id": "d510a717-8a7a-4319-9306-582b21fa2948",
   "metadata": {},
   "outputs": [],
   "source": [
    "df_train.drop(df_train[df_train['Bedrooms'].isnull()].index, inplace = True)"
   ]
  },
  {
   "cell_type": "markdown",
   "id": "0ff5f61f-f0a9-4fe1-96fd-f26100a0b12b",
   "metadata": {},
   "source": [
    "* Los Price que nos faltan los eliminamos, ya que son muy pocos respecto al dataset."
   ]
  },
  {
   "cell_type": "code",
   "execution_count": 35,
   "id": "b30c0ac3-7ec2-41cf-bdeb-a5991c5f95ac",
   "metadata": {},
   "outputs": [
    {
     "data": {
      "text/plain": [
       "8"
      ]
     },
     "execution_count": 35,
     "metadata": {},
     "output_type": "execute_result"
    }
   ],
   "source": [
    "df_train['Price'].isnull().sum()"
   ]
  },
  {
   "cell_type": "code",
   "execution_count": 36,
   "id": "d100a454-eb8f-4e18-a1f4-e791f758bfa7",
   "metadata": {},
   "outputs": [],
   "source": [
    "df_train.drop(df_train[df_train['Price'].isnull()].index, inplace = True)"
   ]
  },
  {
   "cell_type": "markdown",
   "id": "4aad1298-6eb2-4575-ae98-00fe897c78b3",
   "metadata": {},
   "source": [
    "* Los Host Response Rate faltantes los relleraremos con su media, guardamos el valor para rellenar el dataset de test con la misma media."
   ]
  },
  {
   "cell_type": "code",
   "execution_count": 37,
   "id": "c4791674-87c2-457e-a116-456d0de6825c",
   "metadata": {},
   "outputs": [],
   "source": [
    "df_train['Host Response Rate'].value_counts()\n",
    "mean_host_resp = df_train[\"Host Response Rate\"].mean()\n",
    "df_train[\"Host Response Rate\"].fillna(mean_host_resp, inplace=True)"
   ]
  },
  {
   "cell_type": "markdown",
   "id": "7becc0f3-d05f-40ed-964a-4e4195738251",
   "metadata": {},
   "source": [
    "* Comprobamos que todos los datos numéricos están rellenos"
   ]
  },
  {
   "cell_type": "code",
   "execution_count": 38,
   "id": "1c79824d-c28d-4a6b-a12d-3d928fe094bb",
   "metadata": {},
   "outputs": [
    {
     "data": {
      "text/html": [
       "<div>\n",
       "<style scoped>\n",
       "    .dataframe tbody tr th:only-of-type {\n",
       "        vertical-align: middle;\n",
       "    }\n",
       "\n",
       "    .dataframe tbody tr th {\n",
       "        vertical-align: top;\n",
       "    }\n",
       "\n",
       "    .dataframe thead th {\n",
       "        text-align: right;\n",
       "    }\n",
       "</style>\n",
       "<table border=\"1\" class=\"dataframe\">\n",
       "  <thead>\n",
       "    <tr style=\"text-align: right;\">\n",
       "      <th></th>\n",
       "      <th>count</th>\n",
       "      <th>mean</th>\n",
       "      <th>std</th>\n",
       "      <th>min</th>\n",
       "      <th>25%</th>\n",
       "      <th>50%</th>\n",
       "      <th>75%</th>\n",
       "      <th>max</th>\n",
       "    </tr>\n",
       "  </thead>\n",
       "  <tbody>\n",
       "    <tr>\n",
       "      <th>Host Response Rate</th>\n",
       "      <td>10541.0</td>\n",
       "      <td>94.833586</td>\n",
       "      <td>14.254026</td>\n",
       "      <td>0.000000</td>\n",
       "      <td>94.833586</td>\n",
       "      <td>100.000000</td>\n",
       "      <td>100.000000</td>\n",
       "      <td>100.000000</td>\n",
       "    </tr>\n",
       "    <tr>\n",
       "      <th>Latitude</th>\n",
       "      <td>10541.0</td>\n",
       "      <td>40.420444</td>\n",
       "      <td>0.019814</td>\n",
       "      <td>40.332908</td>\n",
       "      <td>40.410095</td>\n",
       "      <td>40.418449</td>\n",
       "      <td>40.427684</td>\n",
       "      <td>40.514247</td>\n",
       "    </tr>\n",
       "    <tr>\n",
       "      <th>Longitude</th>\n",
       "      <td>10541.0</td>\n",
       "      <td>-3.697110</td>\n",
       "      <td>0.023268</td>\n",
       "      <td>-3.835498</td>\n",
       "      <td>-3.707759</td>\n",
       "      <td>-3.701573</td>\n",
       "      <td>-3.693876</td>\n",
       "      <td>-3.575142</td>\n",
       "    </tr>\n",
       "    <tr>\n",
       "      <th>Accommodates</th>\n",
       "      <td>10541.0</td>\n",
       "      <td>3.189071</td>\n",
       "      <td>1.989254</td>\n",
       "      <td>1.000000</td>\n",
       "      <td>2.000000</td>\n",
       "      <td>2.000000</td>\n",
       "      <td>4.000000</td>\n",
       "      <td>16.000000</td>\n",
       "    </tr>\n",
       "    <tr>\n",
       "      <th>Bathrooms</th>\n",
       "      <td>10541.0</td>\n",
       "      <td>1.255099</td>\n",
       "      <td>0.603990</td>\n",
       "      <td>0.000000</td>\n",
       "      <td>1.000000</td>\n",
       "      <td>1.000000</td>\n",
       "      <td>1.000000</td>\n",
       "      <td>8.000000</td>\n",
       "    </tr>\n",
       "    <tr>\n",
       "      <th>Bedrooms</th>\n",
       "      <td>10541.0</td>\n",
       "      <td>1.294469</td>\n",
       "      <td>0.832908</td>\n",
       "      <td>0.000000</td>\n",
       "      <td>1.000000</td>\n",
       "      <td>1.000000</td>\n",
       "      <td>2.000000</td>\n",
       "      <td>10.000000</td>\n",
       "    </tr>\n",
       "    <tr>\n",
       "      <th>Price</th>\n",
       "      <td>10541.0</td>\n",
       "      <td>66.221801</td>\n",
       "      <td>56.192340</td>\n",
       "      <td>9.000000</td>\n",
       "      <td>31.000000</td>\n",
       "      <td>53.000000</td>\n",
       "      <td>80.000000</td>\n",
       "      <td>875.000000</td>\n",
       "    </tr>\n",
       "    <tr>\n",
       "      <th>Guests Included</th>\n",
       "      <td>10541.0</td>\n",
       "      <td>1.570250</td>\n",
       "      <td>1.073098</td>\n",
       "      <td>1.000000</td>\n",
       "      <td>1.000000</td>\n",
       "      <td>1.000000</td>\n",
       "      <td>2.000000</td>\n",
       "      <td>16.000000</td>\n",
       "    </tr>\n",
       "    <tr>\n",
       "      <th>Extra People</th>\n",
       "      <td>10541.0</td>\n",
       "      <td>7.408785</td>\n",
       "      <td>10.358716</td>\n",
       "      <td>0.000000</td>\n",
       "      <td>0.000000</td>\n",
       "      <td>0.000000</td>\n",
       "      <td>14.000000</td>\n",
       "      <td>276.000000</td>\n",
       "    </tr>\n",
       "    <tr>\n",
       "      <th>Minimum Nights</th>\n",
       "      <td>10541.0</td>\n",
       "      <td>3.095437</td>\n",
       "      <td>14.148789</td>\n",
       "      <td>1.000000</td>\n",
       "      <td>1.000000</td>\n",
       "      <td>2.000000</td>\n",
       "      <td>3.000000</td>\n",
       "      <td>1125.000000</td>\n",
       "    </tr>\n",
       "    <tr>\n",
       "      <th>Maximum Nights</th>\n",
       "      <td>10541.0</td>\n",
       "      <td>976.914145</td>\n",
       "      <td>9940.936608</td>\n",
       "      <td>1.000000</td>\n",
       "      <td>365.000000</td>\n",
       "      <td>1125.000000</td>\n",
       "      <td>1125.000000</td>\n",
       "      <td>1000000.000000</td>\n",
       "    </tr>\n",
       "    <tr>\n",
       "      <th>Availability 30</th>\n",
       "      <td>10541.0</td>\n",
       "      <td>8.697372</td>\n",
       "      <td>9.060133</td>\n",
       "      <td>0.000000</td>\n",
       "      <td>0.000000</td>\n",
       "      <td>6.000000</td>\n",
       "      <td>13.000000</td>\n",
       "      <td>30.000000</td>\n",
       "    </tr>\n",
       "    <tr>\n",
       "      <th>Availability 60</th>\n",
       "      <td>10541.0</td>\n",
       "      <td>22.815767</td>\n",
       "      <td>19.492553</td>\n",
       "      <td>0.000000</td>\n",
       "      <td>5.000000</td>\n",
       "      <td>20.000000</td>\n",
       "      <td>38.000000</td>\n",
       "      <td>60.000000</td>\n",
       "    </tr>\n",
       "    <tr>\n",
       "      <th>Availability 90</th>\n",
       "      <td>10541.0</td>\n",
       "      <td>39.944218</td>\n",
       "      <td>29.318410</td>\n",
       "      <td>0.000000</td>\n",
       "      <td>12.000000</td>\n",
       "      <td>38.000000</td>\n",
       "      <td>65.000000</td>\n",
       "      <td>90.000000</td>\n",
       "    </tr>\n",
       "    <tr>\n",
       "      <th>Availability 365</th>\n",
       "      <td>10541.0</td>\n",
       "      <td>205.684186</td>\n",
       "      <td>127.077043</td>\n",
       "      <td>0.000000</td>\n",
       "      <td>83.000000</td>\n",
       "      <td>248.000000</td>\n",
       "      <td>320.000000</td>\n",
       "      <td>365.000000</td>\n",
       "    </tr>\n",
       "    <tr>\n",
       "      <th>Number of Reviews</th>\n",
       "      <td>10541.0</td>\n",
       "      <td>23.123897</td>\n",
       "      <td>38.190929</td>\n",
       "      <td>0.000000</td>\n",
       "      <td>1.000000</td>\n",
       "      <td>7.000000</td>\n",
       "      <td>28.000000</td>\n",
       "      <td>356.000000</td>\n",
       "    </tr>\n",
       "    <tr>\n",
       "      <th>Calculated host listings count</th>\n",
       "      <td>10541.0</td>\n",
       "      <td>7.766341</td>\n",
       "      <td>19.883454</td>\n",
       "      <td>1.000000</td>\n",
       "      <td>1.000000</td>\n",
       "      <td>2.000000</td>\n",
       "      <td>4.000000</td>\n",
       "      <td>145.000000</td>\n",
       "    </tr>\n",
       "  </tbody>\n",
       "</table>\n",
       "</div>"
      ],
      "text/plain": [
       "                                  count        mean          std        min  \\\n",
       "Host Response Rate              10541.0   94.833586    14.254026   0.000000   \n",
       "Latitude                        10541.0   40.420444     0.019814  40.332908   \n",
       "Longitude                       10541.0   -3.697110     0.023268  -3.835498   \n",
       "Accommodates                    10541.0    3.189071     1.989254   1.000000   \n",
       "Bathrooms                       10541.0    1.255099     0.603990   0.000000   \n",
       "Bedrooms                        10541.0    1.294469     0.832908   0.000000   \n",
       "Price                           10541.0   66.221801    56.192340   9.000000   \n",
       "Guests Included                 10541.0    1.570250     1.073098   1.000000   \n",
       "Extra People                    10541.0    7.408785    10.358716   0.000000   \n",
       "Minimum Nights                  10541.0    3.095437    14.148789   1.000000   \n",
       "Maximum Nights                  10541.0  976.914145  9940.936608   1.000000   \n",
       "Availability 30                 10541.0    8.697372     9.060133   0.000000   \n",
       "Availability 60                 10541.0   22.815767    19.492553   0.000000   \n",
       "Availability 90                 10541.0   39.944218    29.318410   0.000000   \n",
       "Availability 365                10541.0  205.684186   127.077043   0.000000   \n",
       "Number of Reviews               10541.0   23.123897    38.190929   0.000000   \n",
       "Calculated host listings count  10541.0    7.766341    19.883454   1.000000   \n",
       "\n",
       "                                       25%          50%          75%  \\\n",
       "Host Response Rate               94.833586   100.000000   100.000000   \n",
       "Latitude                         40.410095    40.418449    40.427684   \n",
       "Longitude                        -3.707759    -3.701573    -3.693876   \n",
       "Accommodates                      2.000000     2.000000     4.000000   \n",
       "Bathrooms                         1.000000     1.000000     1.000000   \n",
       "Bedrooms                          1.000000     1.000000     2.000000   \n",
       "Price                            31.000000    53.000000    80.000000   \n",
       "Guests Included                   1.000000     1.000000     2.000000   \n",
       "Extra People                      0.000000     0.000000    14.000000   \n",
       "Minimum Nights                    1.000000     2.000000     3.000000   \n",
       "Maximum Nights                  365.000000  1125.000000  1125.000000   \n",
       "Availability 30                   0.000000     6.000000    13.000000   \n",
       "Availability 60                   5.000000    20.000000    38.000000   \n",
       "Availability 90                  12.000000    38.000000    65.000000   \n",
       "Availability 365                 83.000000   248.000000   320.000000   \n",
       "Number of Reviews                 1.000000     7.000000    28.000000   \n",
       "Calculated host listings count    1.000000     2.000000     4.000000   \n",
       "\n",
       "                                           max  \n",
       "Host Response Rate                  100.000000  \n",
       "Latitude                             40.514247  \n",
       "Longitude                            -3.575142  \n",
       "Accommodates                         16.000000  \n",
       "Bathrooms                             8.000000  \n",
       "Bedrooms                             10.000000  \n",
       "Price                               875.000000  \n",
       "Guests Included                      16.000000  \n",
       "Extra People                        276.000000  \n",
       "Minimum Nights                     1125.000000  \n",
       "Maximum Nights                  1000000.000000  \n",
       "Availability 30                      30.000000  \n",
       "Availability 60                      60.000000  \n",
       "Availability 90                      90.000000  \n",
       "Availability 365                    365.000000  \n",
       "Number of Reviews                   356.000000  \n",
       "Calculated host listings count      145.000000  "
      ]
     },
     "execution_count": 38,
     "metadata": {},
     "output_type": "execute_result"
    }
   ],
   "source": [
    "df_train.describe().T"
   ]
  },
  {
   "cell_type": "code",
   "execution_count": 39,
   "id": "37f4d015-5c97-41f4-b5e2-04ec848a87ed",
   "metadata": {},
   "outputs": [
    {
     "data": {
      "text/plain": [
       "(10541, 23)"
      ]
     },
     "execution_count": 39,
     "metadata": {},
     "output_type": "execute_result"
    }
   ],
   "source": [
    "df_train.shape"
   ]
  },
  {
   "cell_type": "markdown",
   "id": "e2bb818b-3230-40fa-9674-823774a5ef06",
   "metadata": {},
   "source": [
    "## Columnas no numéricas.\n",
    "\n",
    "* El Zipcode aunque son números la codificamos porque que un código postal sea mayor o menor no quiere decir nada para el modelo."
   ]
  },
  {
   "cell_type": "markdown",
   "id": "78e8abac-e25c-4af2-906e-fed3fd84a5ea",
   "metadata": {},
   "source": [
    "* Los datos faltantes en ZipCode los rellenamos con unknown"
   ]
  },
  {
   "cell_type": "code",
   "execution_count": 40,
   "id": "c390d95c-2467-42f8-a52e-21791d537c58",
   "metadata": {},
   "outputs": [],
   "source": [
    "df_train['Zipcode'] = df_train['Zipcode'].fillna('unknown')"
   ]
  },
  {
   "cell_type": "markdown",
   "id": "c55f05c7-683b-4896-a2c2-6557f39c3506",
   "metadata": {},
   "source": [
    "* Los datos faltantes en Host Response Time  los rellenamos con unknown"
   ]
  },
  {
   "cell_type": "code",
   "execution_count": 41,
   "id": "f89fc8ef-abdf-48d8-9e9d-1e87e3b74f84",
   "metadata": {},
   "outputs": [],
   "source": [
    "df_train['Host Response Time'] = df_train['Host Response Time'].fillna('unknown')"
   ]
  },
  {
   "cell_type": "markdown",
   "id": "a54a3be1-e695-4dd0-979a-495046137c3e",
   "metadata": {},
   "source": [
    "* Creamos una lista con los nombres de las variables categóricas"
   ]
  },
  {
   "cell_type": "code",
   "execution_count": 42,
   "id": "fb82e4bc-0519-4e55-baf9-4f95dd40e6d1",
   "metadata": {},
   "outputs": [
    {
     "data": {
      "text/plain": [
       "['Host Response Time',\n",
       " 'Neighbourhood',\n",
       " 'Zipcode',\n",
       " 'Property Type',\n",
       " 'Room Type',\n",
       " 'Cancellation Policy']"
      ]
     },
     "execution_count": 42,
     "metadata": {},
     "output_type": "execute_result"
    }
   ],
   "source": [
    "categorical_feature_mask = df_train.dtypes==object\n",
    "categorical_cols = df_train.columns[categorical_feature_mask].tolist()\n",
    "categorical_cols"
   ]
  },
  {
   "cell_type": "code",
   "execution_count": 43,
   "id": "88ca94e0-262b-4837-9270-47911914ce80",
   "metadata": {},
   "outputs": [
    {
     "data": {
      "text/html": [
       "<div>\n",
       "<style scoped>\n",
       "    .dataframe tbody tr th:only-of-type {\n",
       "        vertical-align: middle;\n",
       "    }\n",
       "\n",
       "    .dataframe tbody tr th {\n",
       "        vertical-align: top;\n",
       "    }\n",
       "\n",
       "    .dataframe thead th {\n",
       "        text-align: right;\n",
       "    }\n",
       "</style>\n",
       "<table border=\"1\" class=\"dataframe\">\n",
       "  <thead>\n",
       "    <tr style=\"text-align: right;\">\n",
       "      <th></th>\n",
       "      <th>count</th>\n",
       "      <th>mean</th>\n",
       "      <th>std</th>\n",
       "      <th>min</th>\n",
       "      <th>25%</th>\n",
       "      <th>50%</th>\n",
       "      <th>75%</th>\n",
       "      <th>max</th>\n",
       "    </tr>\n",
       "  </thead>\n",
       "  <tbody>\n",
       "    <tr>\n",
       "      <th>Host Response Time</th>\n",
       "      <td>10541.0</td>\n",
       "      <td>66.221801</td>\n",
       "      <td>4.010512</td>\n",
       "      <td>59.054157</td>\n",
       "      <td>67.626960</td>\n",
       "      <td>67.626960</td>\n",
       "      <td>67.626960</td>\n",
       "      <td>73.117925</td>\n",
       "    </tr>\n",
       "    <tr>\n",
       "      <th>Host Response Rate</th>\n",
       "      <td>10541.0</td>\n",
       "      <td>94.833586</td>\n",
       "      <td>14.254026</td>\n",
       "      <td>0.000000</td>\n",
       "      <td>94.833586</td>\n",
       "      <td>100.000000</td>\n",
       "      <td>100.000000</td>\n",
       "      <td>100.000000</td>\n",
       "    </tr>\n",
       "    <tr>\n",
       "      <th>Neighbourhood</th>\n",
       "      <td>10541.0</td>\n",
       "      <td>66.221801</td>\n",
       "      <td>19.855023</td>\n",
       "      <td>18.500000</td>\n",
       "      <td>54.953488</td>\n",
       "      <td>66.681818</td>\n",
       "      <td>79.171924</td>\n",
       "      <td>650.000000</td>\n",
       "    </tr>\n",
       "    <tr>\n",
       "      <th>Zipcode</th>\n",
       "      <td>10541.0</td>\n",
       "      <td>66.221801</td>\n",
       "      <td>16.405424</td>\n",
       "      <td>18.000000</td>\n",
       "      <td>60.449367</td>\n",
       "      <td>67.590717</td>\n",
       "      <td>74.283099</td>\n",
       "      <td>250.000000</td>\n",
       "    </tr>\n",
       "    <tr>\n",
       "      <th>Latitude</th>\n",
       "      <td>10541.0</td>\n",
       "      <td>40.420444</td>\n",
       "      <td>0.019814</td>\n",
       "      <td>40.332908</td>\n",
       "      <td>40.410095</td>\n",
       "      <td>40.418449</td>\n",
       "      <td>40.427684</td>\n",
       "      <td>40.514247</td>\n",
       "    </tr>\n",
       "    <tr>\n",
       "      <th>Longitude</th>\n",
       "      <td>10541.0</td>\n",
       "      <td>-3.697110</td>\n",
       "      <td>0.023268</td>\n",
       "      <td>-3.835498</td>\n",
       "      <td>-3.707759</td>\n",
       "      <td>-3.701573</td>\n",
       "      <td>-3.693876</td>\n",
       "      <td>-3.575142</td>\n",
       "    </tr>\n",
       "    <tr>\n",
       "      <th>Property Type</th>\n",
       "      <td>10541.0</td>\n",
       "      <td>66.221801</td>\n",
       "      <td>6.333992</td>\n",
       "      <td>17.000000</td>\n",
       "      <td>67.775218</td>\n",
       "      <td>67.775218</td>\n",
       "      <td>67.775218</td>\n",
       "      <td>203.750000</td>\n",
       "    </tr>\n",
       "    <tr>\n",
       "      <th>Room Type</th>\n",
       "      <td>10541.0</td>\n",
       "      <td>66.221801</td>\n",
       "      <td>26.250223</td>\n",
       "      <td>30.129252</td>\n",
       "      <td>34.258160</td>\n",
       "      <td>87.674157</td>\n",
       "      <td>87.674157</td>\n",
       "      <td>87.674157</td>\n",
       "    </tr>\n",
       "    <tr>\n",
       "      <th>Accommodates</th>\n",
       "      <td>10541.0</td>\n",
       "      <td>3.189071</td>\n",
       "      <td>1.989254</td>\n",
       "      <td>1.000000</td>\n",
       "      <td>2.000000</td>\n",
       "      <td>2.000000</td>\n",
       "      <td>4.000000</td>\n",
       "      <td>16.000000</td>\n",
       "    </tr>\n",
       "    <tr>\n",
       "      <th>Bathrooms</th>\n",
       "      <td>10541.0</td>\n",
       "      <td>1.255099</td>\n",
       "      <td>0.603990</td>\n",
       "      <td>0.000000</td>\n",
       "      <td>1.000000</td>\n",
       "      <td>1.000000</td>\n",
       "      <td>1.000000</td>\n",
       "      <td>8.000000</td>\n",
       "    </tr>\n",
       "    <tr>\n",
       "      <th>Bedrooms</th>\n",
       "      <td>10541.0</td>\n",
       "      <td>1.294469</td>\n",
       "      <td>0.832908</td>\n",
       "      <td>0.000000</td>\n",
       "      <td>1.000000</td>\n",
       "      <td>1.000000</td>\n",
       "      <td>2.000000</td>\n",
       "      <td>10.000000</td>\n",
       "    </tr>\n",
       "    <tr>\n",
       "      <th>Price</th>\n",
       "      <td>10541.0</td>\n",
       "      <td>66.221801</td>\n",
       "      <td>56.192340</td>\n",
       "      <td>9.000000</td>\n",
       "      <td>31.000000</td>\n",
       "      <td>53.000000</td>\n",
       "      <td>80.000000</td>\n",
       "      <td>875.000000</td>\n",
       "    </tr>\n",
       "    <tr>\n",
       "      <th>Guests Included</th>\n",
       "      <td>10541.0</td>\n",
       "      <td>1.570250</td>\n",
       "      <td>1.073098</td>\n",
       "      <td>1.000000</td>\n",
       "      <td>1.000000</td>\n",
       "      <td>1.000000</td>\n",
       "      <td>2.000000</td>\n",
       "      <td>16.000000</td>\n",
       "    </tr>\n",
       "    <tr>\n",
       "      <th>Extra People</th>\n",
       "      <td>10541.0</td>\n",
       "      <td>7.408785</td>\n",
       "      <td>10.358716</td>\n",
       "      <td>0.000000</td>\n",
       "      <td>0.000000</td>\n",
       "      <td>0.000000</td>\n",
       "      <td>14.000000</td>\n",
       "      <td>276.000000</td>\n",
       "    </tr>\n",
       "    <tr>\n",
       "      <th>Minimum Nights</th>\n",
       "      <td>10541.0</td>\n",
       "      <td>3.095437</td>\n",
       "      <td>14.148789</td>\n",
       "      <td>1.000000</td>\n",
       "      <td>1.000000</td>\n",
       "      <td>2.000000</td>\n",
       "      <td>3.000000</td>\n",
       "      <td>1125.000000</td>\n",
       "    </tr>\n",
       "    <tr>\n",
       "      <th>Maximum Nights</th>\n",
       "      <td>10541.0</td>\n",
       "      <td>976.914145</td>\n",
       "      <td>9940.936608</td>\n",
       "      <td>1.000000</td>\n",
       "      <td>365.000000</td>\n",
       "      <td>1125.000000</td>\n",
       "      <td>1125.000000</td>\n",
       "      <td>1000000.000000</td>\n",
       "    </tr>\n",
       "    <tr>\n",
       "      <th>Availability 30</th>\n",
       "      <td>10541.0</td>\n",
       "      <td>8.697372</td>\n",
       "      <td>9.060133</td>\n",
       "      <td>0.000000</td>\n",
       "      <td>0.000000</td>\n",
       "      <td>6.000000</td>\n",
       "      <td>13.000000</td>\n",
       "      <td>30.000000</td>\n",
       "    </tr>\n",
       "    <tr>\n",
       "      <th>Availability 60</th>\n",
       "      <td>10541.0</td>\n",
       "      <td>22.815767</td>\n",
       "      <td>19.492553</td>\n",
       "      <td>0.000000</td>\n",
       "      <td>5.000000</td>\n",
       "      <td>20.000000</td>\n",
       "      <td>38.000000</td>\n",
       "      <td>60.000000</td>\n",
       "    </tr>\n",
       "    <tr>\n",
       "      <th>Availability 90</th>\n",
       "      <td>10541.0</td>\n",
       "      <td>39.944218</td>\n",
       "      <td>29.318410</td>\n",
       "      <td>0.000000</td>\n",
       "      <td>12.000000</td>\n",
       "      <td>38.000000</td>\n",
       "      <td>65.000000</td>\n",
       "      <td>90.000000</td>\n",
       "    </tr>\n",
       "    <tr>\n",
       "      <th>Availability 365</th>\n",
       "      <td>10541.0</td>\n",
       "      <td>205.684186</td>\n",
       "      <td>127.077043</td>\n",
       "      <td>0.000000</td>\n",
       "      <td>83.000000</td>\n",
       "      <td>248.000000</td>\n",
       "      <td>320.000000</td>\n",
       "      <td>365.000000</td>\n",
       "    </tr>\n",
       "    <tr>\n",
       "      <th>Number of Reviews</th>\n",
       "      <td>10541.0</td>\n",
       "      <td>23.123897</td>\n",
       "      <td>38.190929</td>\n",
       "      <td>0.000000</td>\n",
       "      <td>1.000000</td>\n",
       "      <td>7.000000</td>\n",
       "      <td>28.000000</td>\n",
       "      <td>356.000000</td>\n",
       "    </tr>\n",
       "    <tr>\n",
       "      <th>Cancellation Policy</th>\n",
       "      <td>10541.0</td>\n",
       "      <td>66.221801</td>\n",
       "      <td>8.218346</td>\n",
       "      <td>57.398825</td>\n",
       "      <td>57.398825</td>\n",
       "      <td>63.005709</td>\n",
       "      <td>76.253018</td>\n",
       "      <td>117.800000</td>\n",
       "    </tr>\n",
       "    <tr>\n",
       "      <th>Calculated host listings count</th>\n",
       "      <td>10541.0</td>\n",
       "      <td>7.766341</td>\n",
       "      <td>19.883454</td>\n",
       "      <td>1.000000</td>\n",
       "      <td>1.000000</td>\n",
       "      <td>2.000000</td>\n",
       "      <td>4.000000</td>\n",
       "      <td>145.000000</td>\n",
       "    </tr>\n",
       "  </tbody>\n",
       "</table>\n",
       "</div>"
      ],
      "text/plain": [
       "                                  count        mean          std        min  \\\n",
       "Host Response Time              10541.0   66.221801     4.010512  59.054157   \n",
       "Host Response Rate              10541.0   94.833586    14.254026   0.000000   \n",
       "Neighbourhood                   10541.0   66.221801    19.855023  18.500000   \n",
       "Zipcode                         10541.0   66.221801    16.405424  18.000000   \n",
       "Latitude                        10541.0   40.420444     0.019814  40.332908   \n",
       "Longitude                       10541.0   -3.697110     0.023268  -3.835498   \n",
       "Property Type                   10541.0   66.221801     6.333992  17.000000   \n",
       "Room Type                       10541.0   66.221801    26.250223  30.129252   \n",
       "Accommodates                    10541.0    3.189071     1.989254   1.000000   \n",
       "Bathrooms                       10541.0    1.255099     0.603990   0.000000   \n",
       "Bedrooms                        10541.0    1.294469     0.832908   0.000000   \n",
       "Price                           10541.0   66.221801    56.192340   9.000000   \n",
       "Guests Included                 10541.0    1.570250     1.073098   1.000000   \n",
       "Extra People                    10541.0    7.408785    10.358716   0.000000   \n",
       "Minimum Nights                  10541.0    3.095437    14.148789   1.000000   \n",
       "Maximum Nights                  10541.0  976.914145  9940.936608   1.000000   \n",
       "Availability 30                 10541.0    8.697372     9.060133   0.000000   \n",
       "Availability 60                 10541.0   22.815767    19.492553   0.000000   \n",
       "Availability 90                 10541.0   39.944218    29.318410   0.000000   \n",
       "Availability 365                10541.0  205.684186   127.077043   0.000000   \n",
       "Number of Reviews               10541.0   23.123897    38.190929   0.000000   \n",
       "Cancellation Policy             10541.0   66.221801     8.218346  57.398825   \n",
       "Calculated host listings count  10541.0    7.766341    19.883454   1.000000   \n",
       "\n",
       "                                       25%          50%          75%  \\\n",
       "Host Response Time               67.626960    67.626960    67.626960   \n",
       "Host Response Rate               94.833586   100.000000   100.000000   \n",
       "Neighbourhood                    54.953488    66.681818    79.171924   \n",
       "Zipcode                          60.449367    67.590717    74.283099   \n",
       "Latitude                         40.410095    40.418449    40.427684   \n",
       "Longitude                        -3.707759    -3.701573    -3.693876   \n",
       "Property Type                    67.775218    67.775218    67.775218   \n",
       "Room Type                        34.258160    87.674157    87.674157   \n",
       "Accommodates                      2.000000     2.000000     4.000000   \n",
       "Bathrooms                         1.000000     1.000000     1.000000   \n",
       "Bedrooms                          1.000000     1.000000     2.000000   \n",
       "Price                            31.000000    53.000000    80.000000   \n",
       "Guests Included                   1.000000     1.000000     2.000000   \n",
       "Extra People                      0.000000     0.000000    14.000000   \n",
       "Minimum Nights                    1.000000     2.000000     3.000000   \n",
       "Maximum Nights                  365.000000  1125.000000  1125.000000   \n",
       "Availability 30                   0.000000     6.000000    13.000000   \n",
       "Availability 60                   5.000000    20.000000    38.000000   \n",
       "Availability 90                  12.000000    38.000000    65.000000   \n",
       "Availability 365                 83.000000   248.000000   320.000000   \n",
       "Number of Reviews                 1.000000     7.000000    28.000000   \n",
       "Cancellation Policy              57.398825    63.005709    76.253018   \n",
       "Calculated host listings count    1.000000     2.000000     4.000000   \n",
       "\n",
       "                                           max  \n",
       "Host Response Time                   73.117925  \n",
       "Host Response Rate                  100.000000  \n",
       "Neighbourhood                       650.000000  \n",
       "Zipcode                             250.000000  \n",
       "Latitude                             40.514247  \n",
       "Longitude                            -3.575142  \n",
       "Property Type                       203.750000  \n",
       "Room Type                            87.674157  \n",
       "Accommodates                         16.000000  \n",
       "Bathrooms                             8.000000  \n",
       "Bedrooms                             10.000000  \n",
       "Price                               875.000000  \n",
       "Guests Included                      16.000000  \n",
       "Extra People                        276.000000  \n",
       "Minimum Nights                     1125.000000  \n",
       "Maximum Nights                  1000000.000000  \n",
       "Availability 30                      30.000000  \n",
       "Availability 60                      60.000000  \n",
       "Availability 90                      90.000000  \n",
       "Availability 365                    365.000000  \n",
       "Number of Reviews                   356.000000  \n",
       "Cancellation Policy                 117.800000  \n",
       "Calculated host listings count      145.000000  "
      ]
     },
     "execution_count": 43,
     "metadata": {},
     "output_type": "execute_result"
    }
   ],
   "source": [
    "mean_map = {}\n",
    "for c in categorical_cols:\n",
    "    mean = df_train.groupby(c)['Price'].mean()\n",
    "    df_train[c] = df_train[c].map(mean)    \n",
    "    mean_map[c] = mean\n",
    "df_train.describe().T"
   ]
  },
  {
   "cell_type": "markdown",
   "id": "c53cd49b-7425-43f4-9d4d-e156098a3f17",
   "metadata": {},
   "source": [
    "* Vamos a crear una nueva característica, multiplicando el número de dormitorios y el número de baños ya que puede ser un ratio que influya en el precio."
   ]
  },
  {
   "cell_type": "code",
   "execution_count": 44,
   "id": "8313d0e4-a270-4ce4-a12d-3a7c49a943a9",
   "metadata": {},
   "outputs": [
    {
     "data": {
      "text/plain": [
       "0        1.0\n",
       "1        1.0\n",
       "2        1.5\n",
       "3        3.0\n",
       "4        1.0\n",
       "        ... \n",
       "11819    2.0\n",
       "11820    3.0\n",
       "11821    1.0\n",
       "11822    1.0\n",
       "11823    1.0\n",
       "Name: Bath_for_Beedrooms, Length: 10541, dtype: float64"
      ]
     },
     "execution_count": 44,
     "metadata": {},
     "output_type": "execute_result"
    }
   ],
   "source": [
    "df_train['Bath_for_Beedrooms'] = df_train['Bedrooms'] * df_train['Bathrooms']\n",
    "df_train['Bath_for_Beedrooms']"
   ]
  },
  {
   "cell_type": "markdown",
   "id": "116aa5a9-b5f2-4c06-830f-d7f162acebb8",
   "metadata": {},
   "source": [
    "* Mostramos la matriz de correlación."
   ]
  },
  {
   "cell_type": "code",
   "execution_count": 45,
   "id": "367f782a-5823-4e1e-b7a4-5838a406dc1d",
   "metadata": {},
   "outputs": [
    {
     "name": "stderr",
     "output_type": "stream",
     "text": [
      "<ipython-input-45-b411e7bc0dac>:5: DeprecationWarning: `np.bool` is a deprecated alias for the builtin `bool`. To silence this warning, use `bool` by itself. Doing this will not modify any behavior and is safe. If you specifically wanted the numpy scalar type, use `np.bool_` here.\n",
      "Deprecated in NumPy 1.20; for more details and guidance: https://numpy.org/devdocs/release/1.20.0-notes.html#deprecations\n",
      "  mask = np.zeros_like(corr, dtype=np.bool)\n"
     ]
    },
    {
     "data": {
      "image/png": "[encoded data removed]",
      "text/plain": [
       "<Figure size 864x720 with 2 Axes>"
      ]
     },
     "metadata": {},
     "output_type": "display_data"
    }
   ],
   "source": [
    "# Compute the correlation matrix\n",
    "corr = np.abs(df_train.drop(['Price'], axis=1).corr())\n",
    "\n",
    "# Generate a mask for the upper triangle\n",
    "mask = np.zeros_like(corr, dtype=np.bool)\n",
    "mask[np.triu_indices_from(mask)] = True\n",
    "\n",
    "# Set up the matplotlib figure\n",
    "f, ax = plt.subplots(figsize=(12, 10))\n",
    "\n",
    "# Draw the heatmap with the mask and correct aspect ratio\n",
    "sns.heatmap(corr, mask=mask,vmin = 0.0, vmax=1.0, center=0.5,\n",
    "            linewidths=.1, cmap=\"YlGnBu\", cbar_kws={\"shrink\": .8})\n",
    "\n",
    "plt.show()"
   ]
  },
  {
   "cell_type": "markdown",
   "id": "a964ce91-5712-4afd-a055-c2babac23c02",
   "metadata": {},
   "source": [
    "* La disponibilidades a diferentes rangos están muy correladas, por tanto nos vamos a quedar unicamente con la disponibilidad a 30 días."
   ]
  },
  {
   "cell_type": "code",
   "execution_count": 46,
   "id": "cbb3e718-5e2c-4a34-9955-2bcb689cd0bf",
   "metadata": {},
   "outputs": [],
   "source": [
    "df_train.drop(['Availability 60', 'Availability 90', 'Availability 365'], axis=1, inplace=True)"
   ]
  },
  {
   "cell_type": "markdown",
   "id": "6d5aa35c-8292-4b99-ace2-5fc7b4b8a3dd",
   "metadata": {},
   "source": [
    "## Outliers en Price."
   ]
  },
  {
   "cell_type": "code",
   "execution_count": 47,
   "id": "42ba8f3d-d834-4f99-adb4-4fc15e5fb2ca",
   "metadata": {},
   "outputs": [
    {
     "data": {
      "image/png": "[encoded data removed]",
      "text/plain": [
       "<Figure size 432x288 with 1 Axes>"
      ]
     },
     "metadata": {},
     "output_type": "display_data"
    }
   ],
   "source": [
    "df_train[\"Price\"].plot.hist(alpha = 0.8, color = \"blue\", bins = 40, grid = True)\n",
    "plt.show()"
   ]
  },
  {
   "cell_type": "code",
   "execution_count": 48,
   "id": "31174637-394b-4c52-a42e-1a02867f236b",
   "metadata": {},
   "outputs": [
    {
     "data": {
      "text/plain": [
       "62"
      ]
     },
     "execution_count": 48,
     "metadata": {},
     "output_type": "execute_result"
    }
   ],
   "source": [
    "len(df_train[df_train[\"Price\"] > 350])"
   ]
  },
  {
   "cell_type": "markdown",
   "id": "6b47cddd-c44e-4cb7-b84d-9d756f4a3bf8",
   "metadata": {},
   "source": [
    "* Hay 62 filas con precios mayores de 350 € que es aproximadamente un 0,5 % del dataset, por tanto vamos a considerarlos outliers y vamos a eliminarlos."
   ]
  },
  {
   "cell_type": "code",
   "execution_count": 49,
   "id": "2459ba6b-237f-43de-a166-98b63b5d007a",
   "metadata": {},
   "outputs": [
    {
     "data": {
      "text/plain": [
       "(10479, 21)"
      ]
     },
     "execution_count": 49,
     "metadata": {},
     "output_type": "execute_result"
    }
   ],
   "source": [
    "df_train.drop(df_train[df_train['Price']>350].index, inplace = True)\n",
    "df_train.shape"
   ]
  },
  {
   "cell_type": "markdown",
   "id": "681f67db-62f4-4719-a8bb-c8d09e313fbe",
   "metadata": {},
   "source": [
    "* Pasamos los precios en escala logarítmica para obtener una distribución mas gausiana."
   ]
  },
  {
   "cell_type": "code",
   "execution_count": 50,
   "id": "46fb0a0e-5980-4a5a-a06e-b99e9f1e2e8d",
   "metadata": {},
   "outputs": [],
   "source": [
    "df_train['Price'] = np.log10(df_train['Price'])"
   ]
  },
  {
   "cell_type": "markdown",
   "id": "0c65ea0b-7790-429a-9166-44ffda5d74ca",
   "metadata": {},
   "source": [
    "* Histograma de todas las variables para ver su distribución."
   ]
  },
  {
   "cell_type": "code",
   "execution_count": 51,
   "id": "2e887968-95b2-4513-93e9-cb50141e08c9",
   "metadata": {},
   "outputs": [
    {
     "data": {
      "image/png": "[encoded data removed]",
      "text/plain": [
       "<Figure size 1440x1800 with 21 Axes>"
      ]
     },
     "metadata": {},
     "output_type": "display_data"
    }
   ],
   "source": [
    "plt.figure(figsize=(20, 25))\n",
    "\n",
    "for i, c in enumerate(df_train.columns):\n",
    "    plt.subplot(8, 4, i + 1)\n",
    "    df_train[c].plot.hist(alpha = 0.8, color = \"blue\", bins = 40, grid = True)\n",
    "    plt.axis([0, np.max(df_train[c]), 0, 10000])\n",
    "    plt.xlabel(c)\n",
    "\n",
    "plt.show()"
   ]
  },
  {
   "cell_type": "markdown",
   "id": "d597d464-1968-4bb0-a685-6ab703a94bcf",
   "metadata": {},
   "source": [
    "* Podemos ver como las columnas Minimum Nights y Maximum Nights no aportan información al estar todas prácticamente en un mismo valor."
   ]
  },
  {
   "cell_type": "code",
   "execution_count": 52,
   "id": "93874de5-1c83-44fa-824d-6f2b3ade5102",
   "metadata": {},
   "outputs": [
    {
     "data": {
      "text/plain": [
       "19"
      ]
     },
     "execution_count": 52,
     "metadata": {},
     "output_type": "execute_result"
    }
   ],
   "source": [
    "df_train.drop(['Minimum Nights', 'Maximum Nights'], axis=1, inplace=True)\n",
    "len(df_train.columns)"
   ]
  },
  {
   "cell_type": "markdown",
   "id": "77c34a00-bcd4-497d-9353-510a16e62d67",
   "metadata": {},
   "source": [
    "* Aún nos quedan 19 columnas.\n",
    "* Tendremos que seguir analizando para reducir la dimensionalidad.\n",
    "* Organizamos las columnas de train para poder dividir entre características y variable objetivo."
   ]
  },
  {
   "cell_type": "code",
   "execution_count": 53,
   "id": "928b9736-5c9c-4bfb-8000-2eb04e7c203a",
   "metadata": {},
   "outputs": [
    {
     "data": {
      "text/plain": [
       "Index(['Host Response Time', 'Host Response Rate', 'Neighbourhood', 'Zipcode',\n",
       "       'Latitude', 'Longitude', 'Property Type', 'Room Type', 'Accommodates',\n",
       "       'Bathrooms', 'Bedrooms', 'Price', 'Guests Included', 'Extra People',\n",
       "       'Availability 30', 'Number of Reviews', 'Cancellation Policy',\n",
       "       'Calculated host listings count', 'Bath_for_Beedrooms'],\n",
       "      dtype='object')"
      ]
     },
     "execution_count": 53,
     "metadata": {},
     "output_type": "execute_result"
    }
   ],
   "source": [
    "df_train.columns"
   ]
  },
  {
   "cell_type": "markdown",
   "id": "cc9cc417-c7a6-4acb-b2cc-d4f2b1e7bddb",
   "metadata": {},
   "source": [
    "* Movemos la columna Price a la primera posición"
   ]
  },
  {
   "cell_type": "code",
   "execution_count": 54,
   "id": "5ef8a21c-b174-48d5-b513-35366a3a3f30",
   "metadata": {},
   "outputs": [
    {
     "data": {
      "text/html": [
       "<div>\n",
       "<style scoped>\n",
       "    .dataframe tbody tr th:only-of-type {\n",
       "        vertical-align: middle;\n",
       "    }\n",
       "\n",
       "    .dataframe tbody tr th {\n",
       "        vertical-align: top;\n",
       "    }\n",
       "\n",
       "    .dataframe thead th {\n",
       "        text-align: right;\n",
       "    }\n",
       "</style>\n",
       "<table border=\"1\" class=\"dataframe\">\n",
       "  <thead>\n",
       "    <tr style=\"text-align: right;\">\n",
       "      <th></th>\n",
       "      <th>Price</th>\n",
       "      <th>Host Response Time</th>\n",
       "      <th>Host Response Rate</th>\n",
       "      <th>Neighbourhood</th>\n",
       "      <th>Zipcode</th>\n",
       "      <th>Latitude</th>\n",
       "      <th>Longitude</th>\n",
       "      <th>Property Type</th>\n",
       "      <th>Room Type</th>\n",
       "      <th>Accommodates</th>\n",
       "      <th>Bathrooms</th>\n",
       "      <th>Bedrooms</th>\n",
       "      <th>Guests Included</th>\n",
       "      <th>Extra People</th>\n",
       "      <th>Availability 30</th>\n",
       "      <th>Number of Reviews</th>\n",
       "      <th>Cancellation Policy</th>\n",
       "      <th>Calculated host listings count</th>\n",
       "      <th>Bath_for_Beedrooms</th>\n",
       "    </tr>\n",
       "  </thead>\n",
       "  <tbody>\n",
       "    <tr>\n",
       "      <th>0</th>\n",
       "      <td>1.778151</td>\n",
       "      <td>69.950897</td>\n",
       "      <td>100.0</td>\n",
       "      <td>104.492308</td>\n",
       "      <td>83.553785</td>\n",
       "      <td>40.407732</td>\n",
       "      <td>-3.684819</td>\n",
       "      <td>67.775218</td>\n",
       "      <td>87.674157</td>\n",
       "      <td>4</td>\n",
       "      <td>1.0</td>\n",
       "      <td>1.0</td>\n",
       "      <td>1</td>\n",
       "      <td>0</td>\n",
       "      <td>9</td>\n",
       "      <td>12</td>\n",
       "      <td>63.005709</td>\n",
       "      <td>2.0</td>\n",
       "      <td>1.0</td>\n",
       "    </tr>\n",
       "    <tr>\n",
       "      <th>1</th>\n",
       "      <td>1.698970</td>\n",
       "      <td>67.626960</td>\n",
       "      <td>100.0</td>\n",
       "      <td>84.342342</td>\n",
       "      <td>67.590717</td>\n",
       "      <td>40.415802</td>\n",
       "      <td>-3.705340</td>\n",
       "      <td>67.775218</td>\n",
       "      <td>87.674157</td>\n",
       "      <td>4</td>\n",
       "      <td>1.0</td>\n",
       "      <td>1.0</td>\n",
       "      <td>1</td>\n",
       "      <td>0</td>\n",
       "      <td>15</td>\n",
       "      <td>20</td>\n",
       "      <td>57.398825</td>\n",
       "      <td>1.0</td>\n",
       "      <td>1.0</td>\n",
       "    </tr>\n",
       "    <tr>\n",
       "      <th>2</th>\n",
       "      <td>1.000000</td>\n",
       "      <td>67.626960</td>\n",
       "      <td>100.0</td>\n",
       "      <td>39.898089</td>\n",
       "      <td>38.408602</td>\n",
       "      <td>40.389048</td>\n",
       "      <td>-3.740374</td>\n",
       "      <td>67.775218</td>\n",
       "      <td>30.129252</td>\n",
       "      <td>1</td>\n",
       "      <td>1.5</td>\n",
       "      <td>1.0</td>\n",
       "      <td>1</td>\n",
       "      <td>0</td>\n",
       "      <td>14</td>\n",
       "      <td>0</td>\n",
       "      <td>63.005709</td>\n",
       "      <td>16.0</td>\n",
       "      <td>1.5</td>\n",
       "    </tr>\n",
       "    <tr>\n",
       "      <th>3</th>\n",
       "      <td>1.477121</td>\n",
       "      <td>69.950897</td>\n",
       "      <td>100.0</td>\n",
       "      <td>59.132313</td>\n",
       "      <td>67.590717</td>\n",
       "      <td>40.412814</td>\n",
       "      <td>-3.703052</td>\n",
       "      <td>67.775218</td>\n",
       "      <td>34.258160</td>\n",
       "      <td>2</td>\n",
       "      <td>3.0</td>\n",
       "      <td>1.0</td>\n",
       "      <td>1</td>\n",
       "      <td>0</td>\n",
       "      <td>0</td>\n",
       "      <td>0</td>\n",
       "      <td>76.253018</td>\n",
       "      <td>97.0</td>\n",
       "      <td>3.0</td>\n",
       "    </tr>\n",
       "    <tr>\n",
       "      <th>4</th>\n",
       "      <td>1.505150</td>\n",
       "      <td>67.626960</td>\n",
       "      <td>100.0</td>\n",
       "      <td>53.504587</td>\n",
       "      <td>61.769392</td>\n",
       "      <td>40.438631</td>\n",
       "      <td>-3.713716</td>\n",
       "      <td>67.775218</td>\n",
       "      <td>34.258160</td>\n",
       "      <td>2</td>\n",
       "      <td>1.0</td>\n",
       "      <td>1.0</td>\n",
       "      <td>1</td>\n",
       "      <td>10</td>\n",
       "      <td>7</td>\n",
       "      <td>97</td>\n",
       "      <td>76.253018</td>\n",
       "      <td>2.0</td>\n",
       "      <td>1.0</td>\n",
       "    </tr>\n",
       "  </tbody>\n",
       "</table>\n",
       "</div>"
      ],
      "text/plain": [
       "      Price  Host Response Time  Host Response Rate  Neighbourhood    Zipcode  \\\n",
       "0  1.778151           69.950897               100.0     104.492308  83.553785   \n",
       "1  1.698970           67.626960               100.0      84.342342  67.590717   \n",
       "2  1.000000           67.626960               100.0      39.898089  38.408602   \n",
       "3  1.477121           69.950897               100.0      59.132313  67.590717   \n",
       "4  1.505150           67.626960               100.0      53.504587  61.769392   \n",
       "\n",
       "    Latitude  Longitude  Property Type  Room Type  Accommodates  Bathrooms  \\\n",
       "0  40.407732  -3.684819      67.775218  87.674157             4        1.0   \n",
       "1  40.415802  -3.705340      67.775218  87.674157             4        1.0   \n",
       "2  40.389048  -3.740374      67.775218  30.129252             1        1.5   \n",
       "3  40.412814  -3.703052      67.775218  34.258160             2        3.0   \n",
       "4  40.438631  -3.713716      67.775218  34.258160             2        1.0   \n",
       "\n",
       "   Bedrooms  Guests Included  Extra People  Availability 30  \\\n",
       "0       1.0                1             0                9   \n",
       "1       1.0                1             0               15   \n",
       "2       1.0                1             0               14   \n",
       "3       1.0                1             0                0   \n",
       "4       1.0                1            10                7   \n",
       "\n",
       "   Number of Reviews  Cancellation Policy  Calculated host listings count  \\\n",
       "0                 12            63.005709                             2.0   \n",
       "1                 20            57.398825                             1.0   \n",
       "2                  0            63.005709                            16.0   \n",
       "3                  0            76.253018                            97.0   \n",
       "4                 97            76.253018                             2.0   \n",
       "\n",
       "   Bath_for_Beedrooms  \n",
       "0                 1.0  \n",
       "1                 1.0  \n",
       "2                 1.5  \n",
       "3                 3.0  \n",
       "4                 1.0  "
      ]
     },
     "execution_count": 54,
     "metadata": {},
     "output_type": "execute_result"
    }
   ],
   "source": [
    "df_train = df_train[['Price','Host Response Time', 'Host Response Rate', \n",
    "       'Neighbourhood', 'Zipcode', 'Latitude', 'Longitude', 'Property Type',\n",
    "       'Room Type', 'Accommodates', 'Bathrooms', 'Bedrooms',       \n",
    "       'Guests Included', 'Extra People', 'Availability 30',\n",
    "       'Number of Reviews', 'Cancellation Policy',\n",
    "       'Calculated host listings count', 'Bath_for_Beedrooms']]\n",
    "df_train.head()"
   ]
  },
  {
   "cell_type": "code",
   "execution_count": 55,
   "id": "785d50ef-a01d-461f-bb03-c393ce3115f6",
   "metadata": {},
   "outputs": [],
   "source": [
    "data = df_train.values\n",
    "y_train = data[:,0:1]     # nos quedamos con la 1ª columna, price\n",
    "X_train = data[:,1:]      # nos quedamos con el resto\n",
    "feature_names = df_train.columns[1:]\n",
    "# Escalamos (con los datos de train)\n",
    "scaler = preprocessing.StandardScaler().fit(X_train)\n",
    "XtrainScaled = scaler.transform(X_train)"
   ]
  },
  {
   "cell_type": "markdown",
   "id": "aaf5f410-f223-45c4-b099-3ed13ce34ccf",
   "metadata": {},
   "source": [
    "## Decision Tree."
   ]
  },
  {
   "cell_type": "code",
   "execution_count": 56,
   "id": "d6202277-4de5-47fd-86e9-abb995b7ddc7",
   "metadata": {},
   "outputs": [
    {
     "name": "stdout",
     "output_type": "stream",
     "text": [
      "best parameters: {'max_depth': 8}\n"
     ]
    },
    {
     "data": {
      "image/png": "[encoded data removed]",
      "text/plain": [
       "<Figure size 432x288 with 1 Axes>"
      ]
     },
     "metadata": {},
     "output_type": "display_data"
    }
   ],
   "source": [
    "max_depth = range(1,15)\n",
    "parameters = {'max_depth': max_depth}\n",
    "\n",
    "grid = GridSearchCV(DecisionTreeRegressor(), param_grid=parameters, cv=5)\n",
    "grid.fit(XtrainScaled, y_train)\n",
    "\n",
    "print(\"best parameters: {}\".format(grid.best_params_))\n",
    "\n",
    "scores = np.array(grid.cv_results_['mean_test_score'])\n",
    "plt.plot(max_depth, scores, '-o')\n",
    "plt.xlabel('max_depth', fontsize=14)\n",
    "plt.show()"
   ]
  },
  {
   "cell_type": "code",
   "execution_count": 57,
   "id": "b83813c3-b6d4-484c-a16d-37eff2d6d826",
   "metadata": {},
   "outputs": [],
   "source": [
    "max_depth_opt = grid.best_params_['max_depth']\n",
    "\n",
    "reg_tree = DecisionTreeRegressor(max_depth=max_depth_opt).fit(XtrainScaled, y_train)"
   ]
  },
  {
   "cell_type": "code",
   "execution_count": 58,
   "id": "74f51683-2218-4022-b56e-9c3467bd8245",
   "metadata": {},
   "outputs": [
    {
     "data": {
      "image/png": "[encoded data removed]",
      "text/plain": [
       "<Figure size 720x720 with 1 Axes>"
      ]
     },
     "metadata": {},
     "output_type": "display_data"
    }
   ],
   "source": [
    "importances = reg_tree.feature_importances_\n",
    "importances = importances / np.max(importances)\n",
    "\n",
    "indices = np.argsort(importances)[::-1]\n",
    "\n",
    "plt.figure(figsize=(10,10))\n",
    "plt.barh(range(X_train.shape[1]),importances[indices])\n",
    "plt.yticks(range(X_train.shape[1]),feature_names[indices])\n",
    "plt.show()"
   ]
  },
  {
   "cell_type": "markdown",
   "id": "3902a494-7db9-4f43-90a9-ab608d717c54",
   "metadata": {},
   "source": [
    "## Random Forest."
   ]
  },
  {
   "cell_type": "code",
   "execution_count": 59,
   "id": "e6083268-a8d0-442c-bbe1-646a287e6f22",
   "metadata": {},
   "outputs": [
    {
     "name": "stdout",
     "output_type": "stream",
     "text": [
      "best mean cross-validation score: 0.787\n",
      "best parameters: {'max_depth': 19}\n"
     ]
    },
    {
     "data": {
      "image/png": "[encoded data removed]",
      "text/plain": [
       "<Figure size 432x288 with 1 Axes>"
      ]
     },
     "metadata": {},
     "output_type": "display_data"
    }
   ],
   "source": [
    "maxDepth = range(1,20)\n",
    "parameters = {'max_depth': maxDepth}\n",
    "grid = GridSearchCV(RandomForestRegressor(random_state=0, n_estimators=200, max_features='sqrt'), param_grid=parameters, cv=5) \n",
    "grid.fit(XtrainScaled, y_train.ravel())\n",
    "\n",
    "\n",
    "print(\"best mean cross-validation score: {:.3f}\".format(grid.best_score_))\n",
    "print(\"best parameters: {}\".format(grid.best_params_))\n",
    "\n",
    "scores = np.array(grid.cv_results_['mean_test_score'])\n",
    "plt.plot(maxDepth,scores,'-o')\n",
    "plt.xlabel('max_depth')\n",
    "plt.ylabel('10-fold ACC')\n",
    "\n",
    "plt.show()"
   ]
  },
  {
   "cell_type": "markdown",
   "id": "4e8410bf-6199-4507-95da-2a20331bfccc",
   "metadata": {},
   "source": [
    "* La mejor profundidad que nos da es 19, pero creo que desde 12 la mejora es mínima y así hacemos el modelo mas sencillo"
   ]
  },
  {
   "cell_type": "code",
   "execution_count": 60,
   "id": "8e6d6a30-f50c-43b6-9019-15d75fe43e0e",
   "metadata": {},
   "outputs": [],
   "source": [
    "model = RandomForestRegressor(max_depth=12,n_estimators=200,max_features='sqrt').fit(X_train,y_train.ravel())"
   ]
  },
  {
   "cell_type": "code",
   "execution_count": 61,
   "id": "2937f03d-67a2-4df6-b5e9-5a7b983ae7f3",
   "metadata": {},
   "outputs": [
    {
     "data": {
      "image/png": "[encoded data removed]",
      "text/plain": [
       "<Figure size 720x720 with 1 Axes>"
      ]
     },
     "metadata": {},
     "output_type": "display_data"
    }
   ],
   "source": [
    "importances = model.feature_importances_\n",
    "importances = importances / np.max(importances)\n",
    "\n",
    "indices = np.argsort(importances)[::-1]\n",
    "\n",
    "plt.figure(figsize=(10,10))\n",
    "plt.barh(range(X_train.shape[1]),importances[indices])\n",
    "plt.yticks(range(X_train.shape[1]),feature_names[indices])\n",
    "plt.show()"
   ]
  },
  {
   "cell_type": "markdown",
   "id": "f94768c3-503e-4df0-9c9b-3f2f90e4abb5",
   "metadata": {},
   "source": [
    "* Hay variables que no tienen apenas peso para el modelo.\n",
    "* Prescindimos de las siguientes variables:"
   ]
  },
  {
   "cell_type": "code",
   "execution_count": 62,
   "id": "23cfbf58-b506-46f5-b929-0b31f8fba8b4",
   "metadata": {},
   "outputs": [],
   "source": [
    "df_train.drop(['Cancellation Policy', 'Property Type', 'Host Response Rate', 'Host Response Time', 'Number of Reviews', 'Extra People', 'Calculated host listings count', 'Longitude'], \n",
    "    axis=1, inplace=True)"
   ]
  },
  {
   "cell_type": "code",
   "execution_count": 63,
   "id": "c85f5d1c-0a72-401e-b350-f2752c699ca7",
   "metadata": {},
   "outputs": [],
   "source": [
    "data = df_train.values\n",
    "y_train = data[:,0:1]     # nos quedamos con la 1ª columna, price\n",
    "X_train = data[:,1:]      # nos quedamos con el resto\n",
    "feature_names = df.columns[1:]\n",
    "# Escalamos (con los datos de train)\n",
    "scaler = preprocessing.StandardScaler().fit(X_train)\n",
    "XtrainScaled = scaler.transform(X_train)"
   ]
  },
  {
   "cell_type": "markdown",
   "id": "9af0422a-9beb-4107-a77b-1f9d12822c53",
   "metadata": {},
   "source": [
    "## 2.- Modelos de Predicción"
   ]
  },
  {
   "cell_type": "markdown",
   "id": "971e747b-ad08-497c-b7cd-f6281b153ffa",
   "metadata": {},
   "source": [
    "## Transformaciones para test"
   ]
  },
  {
   "cell_type": "code",
   "execution_count": 64,
   "id": "c404bda1-13c6-4ef3-b717-98147c1a7c71",
   "metadata": {},
   "outputs": [],
   "source": [
    "df_test = pd.read_csv('./test.csv', sep=';', decimal='.')\n",
    "\n",
    "df_test.drop([\n",
    "    'ID', 'Listing Url', 'Scrape ID', 'Last Scraped', 'Name', 'Summary', 'Space', 'Description', \n",
    "    'Experiences Offered', 'Neighborhood Overview', 'Notes', 'Transit', 'Access', 'Interaction', \n",
    "    'House Rules', 'Thumbnail Url', 'Medium Url', 'Picture Url', 'XL Picture Url',\n",
    "    'Host ID', 'Host URL', 'Host Name', 'Host Since', 'Host Location', 'Host About', 'Host Acceptance Rate', \n",
    "    'Host Thumbnail Url', 'Host Picture Url', 'Host Neighbourhood', 'Host Listings Count', \n",
    "    'Host Total Listings Count', 'Host Verifications', 'Street', 'Neighbourhood Group Cleansed', 'State', 'Market',\n",
    "    'Smart Location', 'Country Code', 'Country', 'Beds', 'Bed Type', 'Amenities', 'Calendar Updated', 'Has Availability', \n",
    "    'Calendar last Scraped','First Review', 'Last Review', 'Review Scores Rating', 'Review Scores Accuracy',\n",
    "    'Review Scores Cleanliness', 'Review Scores Checkin','Review Scores Communication', \n",
    "    'Review Scores Location', 'Review Scores Value', 'License', 'Jurisdiction Names',\n",
    "    'Reviews per Month', 'Geolocation', 'Features' \n",
    "    ], \n",
    "    axis=1, inplace=True)\n",
    "\n",
    "df_test['Price'] = np.log10(df_test['Price'])\n",
    "df_test['Neighbourhood'] = df_test['Neighbourhood'].fillna(df_test['Neighbourhood Cleansed'])\n",
    "df_test.drop(['Neighbourhood Cleansed'], axis=1, inplace=True)\n",
    "df_test = df_test[df_test['City'] == \"Madrid\"]\n",
    "df_test.drop(['City'], axis=1, inplace=True)\n",
    "df_test.drop(['Square Feet', 'Weekly Price', 'Monthly Price', 'Security Deposit', 'Cleaning Fee'], \n",
    "             axis=1, inplace=True)\n",
    "df_test['Bathrooms'] = df_test['Bathrooms'].fillna(value=1)\n",
    "df_test.drop(df_test[df_test['Bedrooms'].isnull()].index, inplace = True)\n",
    "df_test.drop(df_test[df_test['Price'].isnull()].index, inplace = True)\n",
    "df_test[\"Host Response Rate\"].fillna(mean_host_resp, inplace=True)\n",
    "df_test['Zipcode'] = df_test['Zipcode'].fillna('unknown')\n",
    "df_test['Host Response Time'] = df_test['Host Response Time'].fillna('unknown')\n",
    "df_test.drop(['Availability 60', 'Availability 90', 'Availability 365'], axis=1, inplace=True)\n",
    "df_test['Bath_for_Beedrooms'] = df_test['Bedrooms'] * df_test['Bathrooms']\n",
    "df_test.drop(df_train[df_train['Price']>350].index, inplace = True)\n",
    "df_test.drop(['Minimum Nights', 'Maximum Nights'], axis=1, inplace=True)\n",
    "columns = ['Price','Host Response Time', 'Host Response Rate', \n",
    "       'Neighbourhood', 'Zipcode', 'Latitude', 'Longitude', 'Property Type',\n",
    "       'Room Type', 'Accommodates', 'Bathrooms', 'Bedrooms',       \n",
    "       'Guests Included', 'Extra People', 'Availability 30',\n",
    "       'Number of Reviews', 'Cancellation Policy',\n",
    "       'Calculated host listings count', 'Bath_for_Beedrooms']\n",
    "df_test = df_test[columns]\n",
    "df_test.drop([\n",
    "    'Cancellation Policy', 'Property Type', 'Host Response Rate',\n",
    "    'Host Response Time', 'Number of Reviews', 'Extra People', \n",
    "    'Calculated host listings count', 'Longitude'], \n",
    "    axis=1, inplace=True)\n",
    "\n",
    "categorical_feature_mask = df_test.dtypes==object\n",
    "categorical_cols = df_test.columns[categorical_feature_mask].tolist()\n",
    "for c in categorical_cols:\n",
    "    df_test[c] = df_test[c].map(mean_map[c])"
   ]
  },
  {
   "cell_type": "code",
   "execution_count": 65,
   "id": "059a7c9e-1293-4090-83c7-38a19dc43f4c",
   "metadata": {},
   "outputs": [
    {
     "data": {
      "text/plain": [
       "Price                 False\n",
       "Neighbourhood          True\n",
       "Zipcode                True\n",
       "Latitude              False\n",
       "Room Type             False\n",
       "Accommodates          False\n",
       "Bathrooms             False\n",
       "Bedrooms              False\n",
       "Guests Included       False\n",
       "Availability 30       False\n",
       "Bath_for_Beedrooms    False\n",
       "dtype: bool"
      ]
     },
     "execution_count": 65,
     "metadata": {},
     "output_type": "execute_result"
    }
   ],
   "source": [
    "df_test.isnull().any()"
   ]
  },
  {
   "cell_type": "code",
   "execution_count": 66,
   "id": "edb6f6a3-5a37-4d97-b396-ce194ad2a1c8",
   "metadata": {},
   "outputs": [
    {
     "data": {
      "text/plain": [
       "1"
      ]
     },
     "execution_count": 66,
     "metadata": {},
     "output_type": "execute_result"
    }
   ],
   "source": [
    "df_test['Neighbourhood'].isnull().sum()"
   ]
  },
  {
   "cell_type": "code",
   "execution_count": 67,
   "id": "c5544f0f-0916-47da-9f9a-ff7103f178c3",
   "metadata": {},
   "outputs": [
    {
     "data": {
      "text/plain": [
       "8"
      ]
     },
     "execution_count": 67,
     "metadata": {},
     "output_type": "execute_result"
    }
   ],
   "source": [
    "df_test['Zipcode'].isnull().sum()"
   ]
  },
  {
   "cell_type": "markdown",
   "id": "036e56df-eba4-4572-8891-6198d185b9b0",
   "metadata": {},
   "source": [
    "* En el dataset de test tenemos 9 registros con NA debido al codificado de variables, como es una cantidad insignificante vamos a eliminar esos registros."
   ]
  },
  {
   "cell_type": "code",
   "execution_count": 68,
   "id": "c007b815-1023-479d-927a-97ef64f4e020",
   "metadata": {},
   "outputs": [],
   "source": [
    "df_test.drop(df_test[df_test['Neighbourhood'].isnull()].index, inplace = True)\n",
    "df_test.drop(df_test[df_test['Zipcode'].isnull()].index, inplace = True)"
   ]
  },
  {
   "cell_type": "code",
   "execution_count": 69,
   "id": "281648b2-5d95-46a0-bc55-0d91632456bd",
   "metadata": {},
   "outputs": [],
   "source": [
    "data_test = df_test.values\n",
    "y_test = data_test[:,0:1]     # nos quedamos con la 1ª columna, price\n",
    "X_test = data_test[:,1:]      # nos quedamos con el resto\n",
    "feature_names_test = df_test.columns[1:]\n",
    "\n",
    "# este escalado se realiza con el scaler anterior, basado en los datos de training!\n",
    "XtestScaled = scaler.transform(X_test)"
   ]
  },
  {
   "cell_type": "markdown",
   "id": "f36f9e5c-cd0f-4cd5-9b11-819ad4972fb8",
   "metadata": {},
   "source": [
    "## Regresión lineal."
   ]
  },
  {
   "cell_type": "code",
   "execution_count": 70,
   "id": "33106fbf-8695-4dc3-89fa-70d019433cf6",
   "metadata": {},
   "outputs": [
    {
     "name": "stdout",
     "output_type": "stream",
     "text": [
      "Accuracy en train: 0.6797406077688654\n",
      "Accuracy en test: 0.670727126782146\n"
     ]
    }
   ],
   "source": [
    "lr = LinearRegression().fit(XtrainScaled, y_train)\n",
    "print(\"Accuracy en train:\", lr.score(XtrainScaled, y_train))\n",
    "print(\"Accuracy en test:\", lr.score(XtestScaled, y_test))"
   ]
  },
  {
   "cell_type": "markdown",
   "id": "ac1480f7-e6f0-48d8-96cb-bbe155b0f39d",
   "metadata": {},
   "source": [
    "## Decision Tree."
   ]
  },
  {
   "cell_type": "code",
   "execution_count": 71,
   "id": "6aa68ab8-7a02-4a6c-a1eb-f8eeb4e63fad",
   "metadata": {},
   "outputs": [
    {
     "name": "stdout",
     "output_type": "stream",
     "text": [
      "best parameters: {'max_depth': 8}\n"
     ]
    },
    {
     "data": {
      "image/png": "[encoded data removed]",
      "text/plain": [
       "<Figure size 432x288 with 1 Axes>"
      ]
     },
     "metadata": {},
     "output_type": "display_data"
    }
   ],
   "source": [
    "max_depth = range(1,15)\n",
    "parameters = {'max_depth': max_depth}\n",
    "\n",
    "grid = GridSearchCV(DecisionTreeRegressor(), param_grid=parameters, cv=5)\n",
    "grid.fit(XtrainScaled, y_train)\n",
    "\n",
    "print(\"best parameters: {}\".format(grid.best_params_))\n",
    "\n",
    "scores = np.array(grid.cv_results_['mean_test_score'])\n",
    "plt.plot(max_depth, scores, '-o')\n",
    "plt.xlabel('max_depth', fontsize=14)\n",
    "plt.show()"
   ]
  },
  {
   "cell_type": "code",
   "execution_count": 72,
   "id": "f8984e09-1952-4d7b-94eb-849f0ad32ac2",
   "metadata": {},
   "outputs": [],
   "source": [
    "max_depth_opt = grid.best_params_['max_depth']\n",
    "reg_tree = DecisionTreeRegressor(max_depth=max_depth_opt).fit(XtrainScaled, y_train)"
   ]
  },
  {
   "cell_type": "code",
   "execution_count": 73,
   "id": "6fb30349-ea65-48c9-8994-6d726235319c",
   "metadata": {},
   "outputs": [
    {
     "name": "stdout",
     "output_type": "stream",
     "text": [
      "Accuracy en train: 0.7624579941621803\n",
      "Accuracy en test: 0.6656709711519972\n"
     ]
    }
   ],
   "source": [
    "print(\"Accuracy en train:\", reg_tree.score(XtrainScaled, y_train))\n",
    "print(\"Accuracy en test:\", reg_tree.score(XtestScaled, y_test))"
   ]
  },
  {
   "cell_type": "markdown",
   "id": "19f6fe46-94ef-40d1-bc4a-25eff3759036",
   "metadata": {},
   "source": [
    "# Random forest."
   ]
  },
  {
   "cell_type": "code",
   "execution_count": 74,
   "id": "6491452a-17e0-4b96-8753-5195d865020e",
   "metadata": {},
   "outputs": [
    {
     "name": "stdout",
     "output_type": "stream",
     "text": [
      "best mean cross-validation score: 0.741\n",
      "best parameters: {'max_depth': 13}\n"
     ]
    },
    {
     "data": {
      "image/png": "[encoded data removed]",
      "text/plain": [
       "<Figure size 432x288 with 1 Axes>"
      ]
     },
     "metadata": {},
     "output_type": "display_data"
    }
   ],
   "source": [
    "maxDepth = range(1,20)\n",
    "parameters = {'max_depth': maxDepth}\n",
    "grid = GridSearchCV(RandomForestRegressor(random_state=0, n_estimators=200, max_features='sqrt'), param_grid=parameters, cv=5) \n",
    "grid.fit(XtrainScaled, y_train.ravel())\n",
    "\n",
    "\n",
    "print(\"best mean cross-validation score: {:.3f}\".format(grid.best_score_))\n",
    "print(\"best parameters: {}\".format(grid.best_params_))\n",
    "\n",
    "scores = np.array(grid.cv_results_['mean_test_score'])\n",
    "plt.plot(maxDepth,scores,'-o')\n",
    "plt.xlabel('max_depth')\n",
    "plt.ylabel('10-fold ACC')\n",
    "\n",
    "plt.show()"
   ]
  },
  {
   "cell_type": "markdown",
   "id": "e445af41-0f9a-46b3-b402-6fc0614e76fc",
   "metadata": {},
   "source": [
    "* La mejor profundidad que nos da es 13, pero creo que desde 10 la mejora es mínima"
   ]
  },
  {
   "cell_type": "code",
   "execution_count": 75,
   "id": "b2856386-a0a7-41c4-bf8c-4bf8f8892b56",
   "metadata": {},
   "outputs": [],
   "source": [
    "model = RandomForestRegressor(max_depth=10,n_estimators=200,max_features='sqrt').fit(XtrainScaled,y_train.ravel())"
   ]
  },
  {
   "cell_type": "code",
   "execution_count": 76,
   "id": "aeb1d407-c76e-4ed3-b05c-65e01e01fed0",
   "metadata": {},
   "outputs": [
    {
     "name": "stdout",
     "output_type": "stream",
     "text": [
      "Accuracy en train: 0.800528353098436\n",
      "Accuracy en test: 0.7169706398515193\n"
     ]
    }
   ],
   "source": [
    "print(\"Accuracy en train:\", model.score(XtrainScaled, y_train))\n",
    "print(\"Accuracy en test:\", model.score(XtestScaled, y_test))"
   ]
  },
  {
   "cell_type": "markdown",
   "id": "941d0aac-154c-4ef4-90a0-fd72df7b7158",
   "metadata": {},
   "source": [
    "* La diferencia entre train y test es muy alta.Es probable que se esté produciendo overfitting.\n",
    "* Probamos con profundidades inferiores"
   ]
  },
  {
   "cell_type": "code",
   "execution_count": 77,
   "id": "8f102a11-6c72-4152-aa23-9b80201bcdd9",
   "metadata": {},
   "outputs": [
    {
     "name": "stdout",
     "output_type": "stream",
     "text": [
      "Accuracy en train: 0.7829607070168433\n",
      "Accuracy en test: 0.713524706601739\n"
     ]
    }
   ],
   "source": [
    "model = RandomForestRegressor(max_depth=9,n_estimators=200,max_features='sqrt').fit(XtrainScaled,y_train.ravel())\n",
    "print(\"Accuracy en train:\", model.score(XtrainScaled, y_train))\n",
    "print(\"Accuracy en test:\", model.score(XtestScaled, y_test))"
   ]
  },
  {
   "cell_type": "code",
   "execution_count": 78,
   "id": "0f61a0d4-fa03-41aa-bb0c-56ff1e5a54ef",
   "metadata": {},
   "outputs": [
    {
     "name": "stdout",
     "output_type": "stream",
     "text": [
      "Accuracy en train: 0.765503966920617\n",
      "Accuracy en test: 0.7084662917526212\n"
     ]
    }
   ],
   "source": [
    "model = RandomForestRegressor(max_depth=8,n_estimators=200,max_features='sqrt').fit(XtrainScaled,y_train.ravel())\n",
    "print(\"Accuracy en train:\", model.score(XtrainScaled, y_train))\n",
    "print(\"Accuracy en test:\", model.score(XtestScaled, y_test))"
   ]
  },
  {
   "cell_type": "code",
   "execution_count": 79,
   "id": "e891ea50-87d2-4aa5-93a0-2763cabae852",
   "metadata": {},
   "outputs": [
    {
     "name": "stdout",
     "output_type": "stream",
     "text": [
      "Accuracy en train: 0.7479285248246572\n",
      "Accuracy en test: 0.7008738171473692\n"
     ]
    }
   ],
   "source": [
    "model = RandomForestRegressor(max_depth=7,n_estimators=200,max_features='sqrt').fit(XtrainScaled,y_train.ravel())\n",
    "print(\"Accuracy en train:\", model.score(XtrainScaled, y_train))\n",
    "print(\"Accuracy en test:\", model.score(XtestScaled, y_test))"
   ]
  },
  {
   "cell_type": "code",
   "execution_count": 80,
   "id": "2212b17f-8c7b-49a0-bfe7-14703fa3c910",
   "metadata": {},
   "outputs": [
    {
     "name": "stdout",
     "output_type": "stream",
     "text": [
      "Accuracy en train: 0.7311194425987185\n",
      "Accuracy en test: 0.6915368170412228\n"
     ]
    }
   ],
   "source": [
    "model = RandomForestRegressor(max_depth=6,n_estimators=200,max_features='sqrt').fit(XtrainScaled,y_train.ravel())\n",
    "print(\"Accuracy en train:\", model.score(XtrainScaled, y_train))\n",
    "print(\"Accuracy en test:\", model.score(XtestScaled, y_test))"
   ]
  },
  {
   "cell_type": "markdown",
   "id": "c6ece206-48d8-4d2b-9807-1193dab27b24",
   "metadata": {},
   "source": [
    "* Podemos observar como los resultados de regresión lineal y con el árbol de decisión son prácticamente iguales.\n",
    "* Con el random forest tenemos una mejora mayor por lo que elegiríamos este modelo con profundidad 7."
   ]
  },
  {
   "cell_type": "code",
   "execution_count": null,
   "id": "0cb9645c",
   "metadata": {},
   "outputs": [],
   "source": []
  }
 ],
 "metadata": {
  "kernelspec": {
   "display_name": "Python 3",
   "language": "python",
   "name": "python3"
  },
  "language_info": {
   "codemirror_mode": {
    "name": "ipython",
    "version": 3
   },
   "file_extension": ".py",
   "mimetype": "text/x-python",
   "name": "python",
   "nbconvert_exporter": "python",
   "pygments_lexer": "ipython3",
   "version": "3.8.6"
  }
 },
 "nbformat": 4,
 "nbformat_minor": 5
}
