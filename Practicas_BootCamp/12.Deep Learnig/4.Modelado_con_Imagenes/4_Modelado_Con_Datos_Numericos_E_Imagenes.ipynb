{
 "cells": [
  {
   "cell_type": "markdown",
   "id": "MBcEINrU1hKu",
   "metadata": {
    "id": "MBcEINrU1hKu"
   },
   "source": [
    "# 4.- Combinar datos númericos y categóricos con imágenes\n",
    "\n",
    "A continuación voy a definir un modelo que sea capaz de aceptar como entrada datos numéricos y categóricos.\n",
    "\n",
    "Crearemos una red con dos ramas, cada una de ellas encargada de trabajar con un tipo de datos. Posteriormente los resultados de ambas ramas se combinarán para obtener la predicción."
   ]
  },
  {
   "cell_type": "code",
   "execution_count": 47,
   "id": "tyzbrJu71ld8",
   "metadata": {
    "id": "tyzbrJu71ld8"
   },
   "outputs": [],
   "source": [
    "import pandas as pd\n",
    "import numpy as np\n",
    "from sklearn.preprocessing import StandardScaler\n",
    "from keras import optimizers,models,layers\n",
    "from keras.applications.vgg16 import VGG16\n",
    "from keras.models import Model\n",
    "from keras.layers import Dropout, Flatten, Dense\n",
    "from tensorflow.keras.optimizers import Adam\n",
    "from keras.models import Sequential\n",
    "from keras.layers import BatchNormalization, Activation\n",
    "import pickle\n",
    "from sklearn.metrics import mean_squared_error, r2_score\n",
    "from sklearn.model_selection import train_test_split\n",
    "import time"
   ]
  },
  {
   "cell_type": "code",
   "execution_count": 48,
   "id": "ttQtP0pxmL-H",
   "metadata": {
    "id": "ttQtP0pxmL-H"
   },
   "outputs": [],
   "source": [
    "def imagenes_precio():\n",
    "  X_train = pickle.load(open('Data/X_train.pickle', \"rb\"))\n",
    "  y_train = pickle.load(open('Data/y_train.pickle', \"rb\"))\n",
    "  X_test = pickle.load(open('Data/X_test.pickle', \"rb\"))\n",
    "  y_test = pickle.load(open('Data/y_test.pickle', \"rb\"))\n",
    "\n",
    "  #Normalización de datos\n",
    "  X_train = X_train/255.0\n",
    "  X_test = X_test/255.0\n",
    "\n",
    "  return X_train, y_train, X_test, y_test"
   ]
  },
  {
   "cell_type": "code",
   "execution_count": 49,
   "id": "nO43uh6ISWsT",
   "metadata": {
    "id": "nO43uh6ISWsT"
   },
   "outputs": [],
   "source": [
    "def df_con_imagen(path):\n",
    "    \n",
    "    train = pd.read_csv(path, sep = ',', decimal = '.', index_col = 0) # cargamos fichero\n",
    "\n",
    "    #Elimino \"Picture Url\" que no la necesito para la parte numérica/categórica\n",
    "    train.drop (['Picture Url'], axis = 1, inplace = True)\n",
    "\n",
    "    #Normalización - tranformación logarítmica\n",
    "    numerical_columns = train.columns\n",
    "    numerical_columns = [i for i in numerical_columns \n",
    "                         if i not in ['Availability 30']] # Quito las que no se van a transformar\n",
    "\n",
    "    for col in numerical_columns:\n",
    "        train[col] = train[col].astype('float64').replace(0.0, 0.01) # Replacing 0s with 0.01\n",
    "        train[col] = np.log(train[col])      \n",
    "    \n",
    "    # Separamos X and y\n",
    "    X = train.drop('Price', axis = 1)\n",
    "    y = train.Price    \n",
    "\n",
    "    return X,y"
   ]
  },
  {
   "cell_type": "code",
   "execution_count": 50,
   "id": "HukQgN3uSndu",
   "metadata": {
    "id": "HukQgN3uSndu"
   },
   "outputs": [],
   "source": [
    "#Defino la red. Para ello utilizo las capas del modelo seleccionado anteriormente\n",
    "def create_mlp (dim):  \n",
    "  modelo = models.Sequential()\n",
    "  modelo.add (layers.Dense (16, input_shape = (dim,), activation = 'relu'))\n",
    "  modelo.add(layers.Dense(32, activation = 'relu'))\n",
    "  modelo.add(layers.Dense(32, activation = 'relu'))\n",
    "  modelo.add(layers.Dense(1, activation = 'linear'))\n",
    "  return modelo"
   ]
  },
  {
   "cell_type": "code",
   "execution_count": 51,
   "id": "hSZip6LzSsfS",
   "metadata": {
    "id": "hSZip6LzSsfS"
   },
   "outputs": [],
   "source": [
    "#Creo el modelo partiendo como base del VGG16 con imagenet y reentrenando todas las capas\n",
    "def create_cnn (dim):\n",
    "  inputs = layers.Input (shape = dim)\n",
    "  base_model = VGG16(weights = 'imagenet',\n",
    "                     include_top = False, \n",
    "                     input_shape=dim)\n",
    "  last = base_model.layers[-1].output\n",
    "  x = Flatten()(last)  \n",
    "  x = Dense(1024, name = 'fc1')(x)\n",
    "  x = BatchNormalization ()(x)\n",
    "  x = Activation('relu')(x)\n",
    "  x = Dropout(0.5)(x)\n",
    "\n",
    "  #Aplico otra capa densa de 512 para que coincida con el número final de neuronas de la rama Mlp\n",
    "  x = Dense(512)(x)\n",
    "  x = Activation('relu')(x)\n",
    "\n",
    "  #No introduzco la última capa Dense con la función de activación Linear, esto lo haré cuando realice la combinación\n",
    "  \n",
    "  return Model(base_model.input, x)"
   ]
  },
  {
   "cell_type": "markdown",
   "id": "c677827e",
   "metadata": {
    "id": "c677827e"
   },
   "source": [
    "## 4.1 Rama Datos numéricos"
   ]
  },
  {
   "cell_type": "code",
   "execution_count": 52,
   "id": "D3_rwTev2hhd",
   "metadata": {
    "id": "D3_rwTev2hhd"
   },
   "outputs": [],
   "source": [
    "#Cargo los datos del dataset limpio para train\n",
    "X_train, y_train = df_con_imagen('Data/train_img.csv')\n",
    "#Cargo los datos del dataset limpio para test\n",
    "X_test, y_test = df_con_imagen('Data/test_img.csv')"
   ]
  },
  {
   "cell_type": "code",
   "execution_count": 53,
   "id": "1782c9d8-4ef5-4c32-bb8f-c8b98e6b3d20",
   "metadata": {
    "id": "1782c9d8-4ef5-4c32-bb8f-c8b98e6b3d20"
   },
   "outputs": [],
   "source": [
    "# Scaling\n",
    "scaler = StandardScaler()\n",
    "X_train = pd.DataFrame(scaler.fit_transform(X_train),\n",
    "                       columns = list(X_train.columns)) \n",
    "X_test = pd.DataFrame(scaler.transform(X_test),\n",
    "                      columns = list(X_test.columns))\n",
    "#Separo en train y val\n",
    "X_train, X_val, y_train, y_val = train_test_split(X_train,\n",
    "                                                  y_train,\n",
    "                                                  test_size = 0.1,\n",
    "                                                  random_state = 123)\n",
    "#creo el modelo\n",
    "mlp = create_mlp (X_train.shape[1])"
   ]
  },
  {
   "cell_type": "markdown",
   "id": "1deb1870-4736-4866-9d35-f23eb0252eef",
   "metadata": {
    "id": "1deb1870-4736-4866-9d35-f23eb0252eef"
   },
   "source": [
    "## 4.2 Rama Imágenes"
   ]
  },
  {
   "cell_type": "code",
   "execution_count": 54,
   "id": "_FAz0lKRnS8H",
   "metadata": {
    "id": "_FAz0lKRnS8H"
   },
   "outputs": [],
   "source": [
    "\"\"\"primero cargo mi dataset y lo redimensiono a las dimensiones mínimas\n",
    "permitidas por la VGG16 -> (48, 48, 3)\"\"\"\n",
    "\n",
    "Xi_train, yi_train, Xi_test, yi_test = imagenes_precio()\n",
    "\n",
    "input_shape = (48, 48, 3)\n",
    "\n",
    "#Separo en train y val\n",
    "Xi_train, Xi_val, yi_train, yi_val = train_test_split(Xi_train,\n",
    "                                                      yi_train,\n",
    "                                                      test_size=0.1,\n",
    "                                                      random_state=123)\n",
    "\n",
    "# redimensiono train set\n",
    "X_train_resized = np.array([np.resize(img, input_shape) for img in Xi_train])\n",
    "\n",
    "# redimensiono test set\n",
    "X_test_resized = np.array([np.resize(img, input_shape) for img in Xi_test])\n",
    "\n",
    "# redimensiono val set\n",
    "X_val_resized = np.array([np.resize(img, input_shape) for img in Xi_val])\n",
    "\n",
    "#creo el modelo\n",
    "cnn = create_cnn(input_shape)"
   ]
  },
  {
   "cell_type": "markdown",
   "id": "5ebede34-ef47-44b9-82e6-4aeaddaec4cc",
   "metadata": {
    "id": "5ebede34-ef47-44b9-82e6-4aeaddaec4cc"
   },
   "source": [
    "## 4.3 Combinación de ambas ramas"
   ]
  },
  {
   "cell_type": "code",
   "execution_count": 55,
   "id": "92a9daa3-c2f7-4cdd-983c-d779d8f94c14",
   "metadata": {
    "id": "92a9daa3-c2f7-4cdd-983c-d779d8f94c14"
   },
   "outputs": [],
   "source": [
    "#Combino ambos modelos\n",
    "combinedInput = layers.concatenate([mlp.output, cnn.output])\n",
    "\n",
    "#Últimas capas y regresión\n",
    "x = Dense(256, activation=\"relu\")(combinedInput)\n",
    "x = Dense(1, activation=\"linear\")(x)\n",
    "\n",
    "#Modelo final\n",
    "model = Model(inputs = [mlp.input, cnn.input], outputs = x)"
   ]
  },
  {
   "cell_type": "markdown",
   "id": "fec982b2-4970-472b-aec9-2f76004eb2b2",
   "metadata": {
    "id": "fec982b2-4970-472b-aec9-2f76004eb2b2"
   },
   "source": [
    "##  4.4. Compilación, entrenamiento y evaluación"
   ]
  },
  {
   "cell_type": "code",
   "execution_count": 56,
   "id": "l4te-1vBUEJo",
   "metadata": {
    "id": "l4te-1vBUEJo"
   },
   "outputs": [],
   "source": [
    "def compilado(l, o, m):\n",
    "    model.compile(loss = l,\n",
    "                  optimizer = o,\n",
    "                  metrics = [m])"
   ]
  },
  {
   "cell_type": "code",
   "execution_count": 57,
   "id": "SvRsfR9TUPTA",
   "metadata": {
    "id": "SvRsfR9TUPTA"
   },
   "outputs": [],
   "source": [
    "def entrenamiento(e, b):\n",
    "    model.fit([X_train, X_train_resized], y_train,\n",
    "              validation_data = ([X_val, X_val_resized], y_val),\n",
    "              epochs = e, batch_size = b)"
   ]
  },
  {
   "cell_type": "code",
   "execution_count": 58,
   "id": "FOyMV0EJX7wa",
   "metadata": {
    "id": "FOyMV0EJX7wa"
   },
   "outputs": [],
   "source": [
    "def evaluacion():\n",
    "  y_test_pred = model.predict([X_test, X_test_resized])\n",
    "  y_train_pred = model.predict([X_train, X_train_resized])\n",
    "  print(\"Training MSE:\", round(mean_squared_error(y_train, y_train_pred),4))\n",
    "  print(\"Validation MSE:\", round(mean_squared_error(y_test, y_test_pred),4))\n",
    "  print(\"\\nTraining r2:\", round(r2_score(y_train, y_train_pred),4))\n",
    "  print(\"Validation r2:\", round(r2_score(y_test, y_test_pred),4))"
   ]
  },
  {
   "cell_type": "code",
   "execution_count": 59,
   "id": "VqkaSmE1dowQ",
   "metadata": {
    "colab": {
     "base_uri": "https://localhost:8080/"
    },
    "id": "VqkaSmE1dowQ",
    "outputId": "5d4f696d-1287-4896-898a-d56e2efc0a1b"
   },
   "outputs": [
    {
     "name": "stdout",
     "output_type": "stream",
     "text": [
      "Epoch 1/15\n",
      "37/37 [==============================] - 20s 508ms/step - loss: 0.8439 - mean_squared_error: 0.8439 - val_loss: 565.6742 - val_mean_squared_error: 565.6742\n",
      "Epoch 2/15\n",
      "37/37 [==============================] - 18s 497ms/step - loss: 0.1033 - mean_squared_error: 0.1033 - val_loss: 25.4404 - val_mean_squared_error: 25.4404\n",
      "Epoch 3/15\n",
      "37/37 [==============================] - 18s 497ms/step - loss: 0.0509 - mean_squared_error: 0.0509 - val_loss: 0.3658 - val_mean_squared_error: 0.3658\n",
      "Epoch 4/15\n",
      "37/37 [==============================] - 18s 496ms/step - loss: 0.0218 - mean_squared_error: 0.0218 - val_loss: 0.1830 - val_mean_squared_error: 0.1830\n",
      "Epoch 5/15\n",
      "37/37 [==============================] - 18s 497ms/step - loss: 0.0167 - mean_squared_error: 0.0167 - val_loss: 0.0540 - val_mean_squared_error: 0.0540\n",
      "Epoch 6/15\n",
      "37/37 [==============================] - 18s 497ms/step - loss: 0.0146 - mean_squared_error: 0.0146 - val_loss: 0.0145 - val_mean_squared_error: 0.0145\n",
      "Epoch 7/15\n",
      "37/37 [==============================] - 18s 497ms/step - loss: 0.0129 - mean_squared_error: 0.0129 - val_loss: 0.0436 - val_mean_squared_error: 0.0436\n",
      "Epoch 8/15\n",
      "37/37 [==============================] - 18s 496ms/step - loss: 0.0119 - mean_squared_error: 0.0119 - val_loss: 0.0103 - val_mean_squared_error: 0.0103\n",
      "Epoch 9/15\n",
      "37/37 [==============================] - 18s 497ms/step - loss: 0.0114 - mean_squared_error: 0.0114 - val_loss: 0.0096 - val_mean_squared_error: 0.0096\n",
      "Epoch 10/15\n",
      "37/37 [==============================] - 18s 497ms/step - loss: 0.0110 - mean_squared_error: 0.0110 - val_loss: 0.0132 - val_mean_squared_error: 0.0132\n",
      "Epoch 11/15\n",
      "37/37 [==============================] - 18s 498ms/step - loss: 0.0105 - mean_squared_error: 0.0105 - val_loss: 0.0105 - val_mean_squared_error: 0.0105\n",
      "Epoch 12/15\n",
      "37/37 [==============================] - 18s 498ms/step - loss: 0.0102 - mean_squared_error: 0.0102 - val_loss: 0.0184 - val_mean_squared_error: 0.0184\n",
      "Epoch 13/15\n",
      "37/37 [==============================] - 18s 498ms/step - loss: 0.0101 - mean_squared_error: 0.0101 - val_loss: 0.0144 - val_mean_squared_error: 0.0144\n",
      "Epoch 14/15\n",
      "37/37 [==============================] - 18s 497ms/step - loss: 0.0096 - mean_squared_error: 0.0096 - val_loss: 0.0130 - val_mean_squared_error: 0.0130\n",
      "Epoch 15/15\n",
      "37/37 [==============================] - 18s 497ms/step - loss: 0.0097 - mean_squared_error: 0.0097 - val_loss: 0.0105 - val_mean_squared_error: 0.0105\n",
      "Training MSE: 0.0102\n",
      "Validation MSE: 0.0105\n",
      "\n",
      "Training r2: 0.643\n",
      "Validation r2: 0.645\n"
     ]
    }
   ],
   "source": [
    "#Compilamos el modelo\n",
    "compilado('mean_squared_error', 'adam', 'mean_squared_error')\n",
    "\n",
    "#Entrenamos. \n",
    "entrenamiento(15, 256)\n",
    "\n",
    "#Evaluamos el modelo\n",
    "evaluacion()"
   ]
  },
  {
   "cell_type": "markdown",
   "id": "-mlaGYooeHVz",
   "metadata": {
    "id": "-mlaGYooeHVz"
   },
   "source": [
    "## 4.5 Más pruebas "
   ]
  },
  {
   "cell_type": "code",
   "execution_count": 60,
   "id": "oENVqDKXhzz0",
   "metadata": {
    "colab": {
     "base_uri": "https://localhost:8080/"
    },
    "id": "oENVqDKXhzz0",
    "outputId": "023842f7-f751-4993-ae3b-30dd577871a7"
   },
   "outputs": [
    {
     "name": "stdout",
     "output_type": "stream",
     "text": [
      "Epoch 1/15\n",
      "19/19 [==============================] - 19s 934ms/step - loss: 0.0193 - mean_squared_error: 0.0193 - val_loss: 0.1554 - val_mean_squared_error: 0.1554\n",
      "Epoch 2/15\n",
      "19/19 [==============================] - 17s 917ms/step - loss: 0.0095 - mean_squared_error: 0.0095 - val_loss: 0.0092 - val_mean_squared_error: 0.0092\n",
      "Epoch 3/15\n",
      "19/19 [==============================] - 17s 918ms/step - loss: 0.0089 - mean_squared_error: 0.0089 - val_loss: 0.0238 - val_mean_squared_error: 0.0238\n",
      "Epoch 4/15\n",
      "19/19 [==============================] - 17s 918ms/step - loss: 0.0086 - mean_squared_error: 0.0086 - val_loss: 0.0088 - val_mean_squared_error: 0.0088\n",
      "Epoch 5/15\n",
      "19/19 [==============================] - 17s 916ms/step - loss: 0.0086 - mean_squared_error: 0.0086 - val_loss: 0.0107 - val_mean_squared_error: 0.0107\n",
      "Epoch 6/15\n",
      "19/19 [==============================] - 17s 916ms/step - loss: 0.0086 - mean_squared_error: 0.0086 - val_loss: 0.0083 - val_mean_squared_error: 0.0083\n",
      "Epoch 7/15\n",
      "19/19 [==============================] - 17s 916ms/step - loss: 0.0085 - mean_squared_error: 0.0085 - val_loss: 0.0110 - val_mean_squared_error: 0.0110\n",
      "Epoch 8/15\n",
      "19/19 [==============================] - 17s 919ms/step - loss: 0.0084 - mean_squared_error: 0.0084 - val_loss: 0.0083 - val_mean_squared_error: 0.0083\n",
      "Epoch 9/15\n",
      "19/19 [==============================] - 17s 918ms/step - loss: 0.0083 - mean_squared_error: 0.0083 - val_loss: 0.0110 - val_mean_squared_error: 0.0110\n",
      "Epoch 10/15\n",
      "19/19 [==============================] - 17s 916ms/step - loss: 0.0083 - mean_squared_error: 0.0083 - val_loss: 0.0108 - val_mean_squared_error: 0.0108\n",
      "Epoch 11/15\n",
      "19/19 [==============================] - 17s 916ms/step - loss: 0.0084 - mean_squared_error: 0.0084 - val_loss: 0.0083 - val_mean_squared_error: 0.0083\n",
      "Epoch 12/15\n",
      "19/19 [==============================] - 17s 917ms/step - loss: 0.0083 - mean_squared_error: 0.0083 - val_loss: 0.0084 - val_mean_squared_error: 0.0084\n",
      "Epoch 13/15\n",
      "19/19 [==============================] - 17s 916ms/step - loss: 0.0082 - mean_squared_error: 0.0082 - val_loss: 0.0084 - val_mean_squared_error: 0.0084\n",
      "Epoch 14/15\n",
      "19/19 [==============================] - 17s 918ms/step - loss: 0.0081 - mean_squared_error: 0.0081 - val_loss: 0.0082 - val_mean_squared_error: 0.0082\n",
      "Epoch 15/15\n",
      "19/19 [==============================] - 17s 918ms/step - loss: 0.0082 - mean_squared_error: 0.0082 - val_loss: 0.0088 - val_mean_squared_error: 0.0088\n",
      "Training MSE: 0.0083\n",
      "Validation MSE: 0.0086\n",
      "\n",
      "Training r2: 0.7092\n",
      "Validation r2: 0.7071\n"
     ]
    }
   ],
   "source": [
    "compilado('mean_squared_error', 'adam', 'mean_squared_error')\n",
    "entrenamiento(15, 512)\n",
    "evaluacion()"
   ]
  },
  {
   "cell_type": "code",
   "execution_count": 61,
   "id": "g6ZMSkfdh4SD",
   "metadata": {
    "colab": {
     "base_uri": "https://localhost:8080/"
    },
    "id": "g6ZMSkfdh4SD",
    "outputId": "a96b99a9-d812-47a7-c6bd-d1cef69a88dd"
   },
   "outputs": [
    {
     "name": "stdout",
     "output_type": "stream",
     "text": [
      "Epoch 1/15\n",
      "10/10 [==============================] - 19s 2s/step - loss: 0.0200 - mean_squared_error: 0.0200 - val_loss: 0.1274 - val_mean_squared_error: 0.1274\n",
      "Epoch 2/15\n",
      "10/10 [==============================] - 17s 2s/step - loss: 0.0096 - mean_squared_error: 0.0096 - val_loss: 0.0290 - val_mean_squared_error: 0.0290\n",
      "Epoch 3/15\n",
      "10/10 [==============================] - 17s 2s/step - loss: 0.0085 - mean_squared_error: 0.0085 - val_loss: 0.0100 - val_mean_squared_error: 0.0100\n",
      "Epoch 4/15\n",
      "10/10 [==============================] - 17s 2s/step - loss: 0.0082 - mean_squared_error: 0.0082 - val_loss: 0.0084 - val_mean_squared_error: 0.0084\n",
      "Epoch 5/15\n",
      "10/10 [==============================] - 17s 2s/step - loss: 0.0081 - mean_squared_error: 0.0081 - val_loss: 0.0278 - val_mean_squared_error: 0.0278\n",
      "Epoch 6/15\n",
      "10/10 [==============================] - 17s 2s/step - loss: 0.0080 - mean_squared_error: 0.0080 - val_loss: 0.0098 - val_mean_squared_error: 0.0098\n",
      "Epoch 7/15\n",
      "10/10 [==============================] - 17s 2s/step - loss: 0.0081 - mean_squared_error: 0.0081 - val_loss: 0.0284 - val_mean_squared_error: 0.0284\n",
      "Epoch 8/15\n",
      "10/10 [==============================] - 17s 2s/step - loss: 0.0080 - mean_squared_error: 0.0080 - val_loss: 0.0384 - val_mean_squared_error: 0.0384\n",
      "Epoch 9/15\n",
      "10/10 [==============================] - 17s 2s/step - loss: 0.0080 - mean_squared_error: 0.0080 - val_loss: 0.0093 - val_mean_squared_error: 0.0093\n",
      "Epoch 10/15\n",
      "10/10 [==============================] - 17s 2s/step - loss: 0.0080 - mean_squared_error: 0.0080 - val_loss: 0.0109 - val_mean_squared_error: 0.0109\n",
      "Epoch 11/15\n",
      "10/10 [==============================] - 17s 2s/step - loss: 0.0079 - mean_squared_error: 0.0079 - val_loss: 0.0087 - val_mean_squared_error: 0.0087\n",
      "Epoch 12/15\n",
      "10/10 [==============================] - 17s 2s/step - loss: 0.0079 - mean_squared_error: 0.0079 - val_loss: 0.0087 - val_mean_squared_error: 0.0087\n",
      "Epoch 13/15\n",
      "10/10 [==============================] - 17s 2s/step - loss: 0.0079 - mean_squared_error: 0.0079 - val_loss: 0.0097 - val_mean_squared_error: 0.0097\n",
      "Epoch 14/15\n",
      "10/10 [==============================] - 17s 2s/step - loss: 0.0080 - mean_squared_error: 0.0080 - val_loss: 0.0091 - val_mean_squared_error: 0.0091\n",
      "Epoch 15/15\n",
      "10/10 [==============================] - 17s 2s/step - loss: 0.0080 - mean_squared_error: 0.0080 - val_loss: 0.0095 - val_mean_squared_error: 0.0095\n",
      "Training MSE: 0.009\n",
      "Validation MSE: 0.0095\n",
      "\n",
      "Training r2: 0.6848\n",
      "Validation r2: 0.6789\n"
     ]
    }
   ],
   "source": [
    "compilado('mean_squared_error', 'adam', 'mean_squared_error')\n",
    "entrenamiento(15, 1024)\n",
    "evaluacion()"
   ]
  },
  {
   "cell_type": "code",
   "execution_count": 62,
   "id": "HPLOOLsJh746",
   "metadata": {
    "colab": {
     "base_uri": "https://localhost:8080/"
    },
    "id": "HPLOOLsJh746",
    "outputId": "ad49614a-ad00-464d-ef48-ecb8d755ccb9"
   },
   "outputs": [
    {
     "name": "stdout",
     "output_type": "stream",
     "text": [
      "Epoch 1/15\n",
      "5/5 [==============================] - 22s 4s/step - loss: 0.0084 - mean_squared_error: 0.0084 - val_loss: 0.0344 - val_mean_squared_error: 0.0344\n",
      "Epoch 2/15\n",
      "5/5 [==============================] - 20s 4s/step - loss: 0.0082 - mean_squared_error: 0.0082 - val_loss: 0.0139 - val_mean_squared_error: 0.0139\n",
      "Epoch 3/15\n",
      "5/5 [==============================] - 20s 4s/step - loss: 0.0080 - mean_squared_error: 0.0080 - val_loss: 0.0169 - val_mean_squared_error: 0.0169\n",
      "Epoch 4/15\n",
      "5/5 [==============================] - 21s 4s/step - loss: 0.0080 - mean_squared_error: 0.0080 - val_loss: 0.0084 - val_mean_squared_error: 0.0084\n",
      "Epoch 5/15\n",
      "5/5 [==============================] - 20s 4s/step - loss: 0.0079 - mean_squared_error: 0.0079 - val_loss: 0.0089 - val_mean_squared_error: 0.0089\n",
      "Epoch 6/15\n",
      "5/5 [==============================] - 20s 4s/step - loss: 0.0079 - mean_squared_error: 0.0079 - val_loss: 0.0099 - val_mean_squared_error: 0.0099\n",
      "Epoch 7/15\n",
      "5/5 [==============================] - 20s 4s/step - loss: 0.0079 - mean_squared_error: 0.0079 - val_loss: 0.0083 - val_mean_squared_error: 0.0083\n",
      "Epoch 8/15\n",
      "5/5 [==============================] - 20s 4s/step - loss: 0.0078 - mean_squared_error: 0.0078 - val_loss: 0.0084 - val_mean_squared_error: 0.0084\n",
      "Epoch 9/15\n",
      "5/5 [==============================] - 20s 4s/step - loss: 0.0079 - mean_squared_error: 0.0079 - val_loss: 0.0106 - val_mean_squared_error: 0.0106\n",
      "Epoch 10/15\n",
      "5/5 [==============================] - 21s 4s/step - loss: 0.0078 - mean_squared_error: 0.0078 - val_loss: 0.0082 - val_mean_squared_error: 0.0082\n",
      "Epoch 11/15\n",
      "5/5 [==============================] - 20s 4s/step - loss: 0.0078 - mean_squared_error: 0.0078 - val_loss: 0.0084 - val_mean_squared_error: 0.0084\n",
      "Epoch 12/15\n",
      "5/5 [==============================] - 20s 4s/step - loss: 0.0078 - mean_squared_error: 0.0078 - val_loss: 0.0082 - val_mean_squared_error: 0.0082\n",
      "Epoch 13/15\n",
      "5/5 [==============================] - 20s 4s/step - loss: 0.0078 - mean_squared_error: 0.0078 - val_loss: 0.0082 - val_mean_squared_error: 0.0082\n",
      "Epoch 14/15\n",
      "5/5 [==============================] - 20s 4s/step - loss: 0.0078 - mean_squared_error: 0.0078 - val_loss: 0.0082 - val_mean_squared_error: 0.0082\n",
      "Epoch 15/15\n",
      "5/5 [==============================] - 20s 4s/step - loss: 0.0078 - mean_squared_error: 0.0078 - val_loss: 0.0088 - val_mean_squared_error: 0.0088\n",
      "Training MSE: 0.0086\n",
      "Validation MSE: 0.0087\n",
      "\n",
      "Training r2: 0.6979\n",
      "Validation r2: 0.7048\n"
     ]
    }
   ],
   "source": [
    "compilado('mean_squared_error', 'adam', 'mean_squared_error')\n",
    "entrenamiento(15, 2048)\n",
    "evaluacion()"
   ]
  },
  {
   "cell_type": "code",
   "execution_count": 63,
   "id": "KP_C1kQbmDIU",
   "metadata": {
    "colab": {
     "base_uri": "https://localhost:8080/"
    },
    "id": "KP_C1kQbmDIU",
    "outputId": "898ff0af-bcc9-4ba4-a14c-302d6600fef8"
   },
   "outputs": [
    {
     "name": "stdout",
     "output_type": "stream",
     "text": [
      "Epoch 1/25\n",
      "19/19 [==============================] - 20s 935ms/step - loss: 0.0081 - mean_squared_error: 0.0081 - val_loss: 0.0092 - val_mean_squared_error: 0.0092\n",
      "Epoch 2/25\n",
      "19/19 [==============================] - 17s 915ms/step - loss: 0.0079 - mean_squared_error: 0.0079 - val_loss: 0.0088 - val_mean_squared_error: 0.0088\n",
      "Epoch 3/25\n",
      "19/19 [==============================] - 17s 915ms/step - loss: 0.0079 - mean_squared_error: 0.0079 - val_loss: 0.0082 - val_mean_squared_error: 0.0082\n",
      "Epoch 4/25\n",
      "19/19 [==============================] - 17s 914ms/step - loss: 0.0078 - mean_squared_error: 0.0078 - val_loss: 0.0084 - val_mean_squared_error: 0.0084\n",
      "Epoch 5/25\n",
      "19/19 [==============================] - 17s 915ms/step - loss: 0.0077 - mean_squared_error: 0.0077 - val_loss: 0.0084 - val_mean_squared_error: 0.0084\n",
      "Epoch 6/25\n",
      "19/19 [==============================] - 17s 915ms/step - loss: 0.0078 - mean_squared_error: 0.0078 - val_loss: 0.0081 - val_mean_squared_error: 0.0081\n",
      "Epoch 7/25\n",
      "19/19 [==============================] - 17s 914ms/step - loss: 0.0078 - mean_squared_error: 0.0078 - val_loss: 0.0084 - val_mean_squared_error: 0.0084\n",
      "Epoch 8/25\n",
      "19/19 [==============================] - 17s 914ms/step - loss: 0.0078 - mean_squared_error: 0.0078 - val_loss: 0.0088 - val_mean_squared_error: 0.0088\n",
      "Epoch 9/25\n",
      "19/19 [==============================] - 17s 915ms/step - loss: 0.0078 - mean_squared_error: 0.0078 - val_loss: 0.0099 - val_mean_squared_error: 0.0099\n",
      "Epoch 10/25\n",
      "19/19 [==============================] - 17s 914ms/step - loss: 0.0077 - mean_squared_error: 0.0077 - val_loss: 0.0091 - val_mean_squared_error: 0.0091\n",
      "Epoch 11/25\n",
      "19/19 [==============================] - 17s 915ms/step - loss: 0.0077 - mean_squared_error: 0.0077 - val_loss: 0.0082 - val_mean_squared_error: 0.0082\n",
      "Epoch 12/25\n",
      "19/19 [==============================] - 17s 914ms/step - loss: 0.0077 - mean_squared_error: 0.0077 - val_loss: 0.0085 - val_mean_squared_error: 0.0085\n",
      "Epoch 13/25\n",
      "19/19 [==============================] - 17s 915ms/step - loss: 0.0077 - mean_squared_error: 0.0077 - val_loss: 0.0085 - val_mean_squared_error: 0.0085\n",
      "Epoch 14/25\n",
      "19/19 [==============================] - 17s 914ms/step - loss: 0.0078 - mean_squared_error: 0.0078 - val_loss: 0.0082 - val_mean_squared_error: 0.0082\n",
      "Epoch 15/25\n",
      "19/19 [==============================] - 17s 915ms/step - loss: 0.0076 - mean_squared_error: 0.0076 - val_loss: 0.0081 - val_mean_squared_error: 0.0081\n",
      "Epoch 16/25\n",
      "19/19 [==============================] - 17s 916ms/step - loss: 0.0077 - mean_squared_error: 0.0077 - val_loss: 0.0082 - val_mean_squared_error: 0.0082\n",
      "Epoch 17/25\n",
      "19/19 [==============================] - 17s 916ms/step - loss: 0.0077 - mean_squared_error: 0.0077 - val_loss: 0.0082 - val_mean_squared_error: 0.0082\n",
      "Epoch 18/25\n",
      "19/19 [==============================] - 17s 914ms/step - loss: 0.0077 - mean_squared_error: 0.0077 - val_loss: 0.0092 - val_mean_squared_error: 0.0092\n",
      "Epoch 19/25\n",
      "19/19 [==============================] - 17s 915ms/step - loss: 0.0076 - mean_squared_error: 0.0076 - val_loss: 0.0100 - val_mean_squared_error: 0.0100\n",
      "Epoch 20/25\n",
      "19/19 [==============================] - 17s 915ms/step - loss: 0.0076 - mean_squared_error: 0.0076 - val_loss: 0.0087 - val_mean_squared_error: 0.0087\n",
      "Epoch 21/25\n",
      "19/19 [==============================] - 17s 915ms/step - loss: 0.0076 - mean_squared_error: 0.0076 - val_loss: 0.0084 - val_mean_squared_error: 0.0084\n",
      "Epoch 22/25\n",
      "19/19 [==============================] - 17s 915ms/step - loss: 0.0076 - mean_squared_error: 0.0076 - val_loss: 0.0082 - val_mean_squared_error: 0.0082\n",
      "Epoch 23/25\n",
      "19/19 [==============================] - 17s 915ms/step - loss: 0.0076 - mean_squared_error: 0.0076 - val_loss: 0.0081 - val_mean_squared_error: 0.0081\n",
      "Epoch 24/25\n",
      "19/19 [==============================] - 17s 914ms/step - loss: 0.0076 - mean_squared_error: 0.0076 - val_loss: 0.0086 - val_mean_squared_error: 0.0086\n",
      "Epoch 25/25\n",
      "19/19 [==============================] - 17s 915ms/step - loss: 0.0076 - mean_squared_error: 0.0076 - val_loss: 0.0090 - val_mean_squared_error: 0.0090\n",
      "Training MSE: 0.0081\n",
      "Validation MSE: 0.0086\n",
      "\n",
      "Training r2: 0.7149\n",
      "Validation r2: 0.7068\n"
     ]
    }
   ],
   "source": [
    "compilado('mean_squared_error', 'adam', 'mean_squared_error')\n",
    "entrenamiento(25, 512)\n",
    "evaluacion()"
   ]
  },
  {
   "cell_type": "code",
   "execution_count": 64,
   "id": "lllous5KtMPx",
   "metadata": {
    "colab": {
     "base_uri": "https://localhost:8080/"
    },
    "id": "lllous5KtMPx",
    "outputId": "793576a9-2af8-44f3-c66c-bf52a25b9d69"
   },
   "outputs": [
    {
     "name": "stdout",
     "output_type": "stream",
     "text": [
      "Epoch 1/100\n",
      "19/19 [==============================] - 19s 933ms/step - loss: 0.0077 - mean_squared_error: 0.0077 - val_loss: 0.0082 - val_mean_squared_error: 0.0082\n",
      "Epoch 2/100\n",
      "19/19 [==============================] - 17s 917ms/step - loss: 0.0076 - mean_squared_error: 0.0076 - val_loss: 0.0082 - val_mean_squared_error: 0.0082\n",
      "Epoch 3/100\n",
      "19/19 [==============================] - 17s 914ms/step - loss: 0.0075 - mean_squared_error: 0.0075 - val_loss: 0.0083 - val_mean_squared_error: 0.0083\n",
      "Epoch 4/100\n",
      "19/19 [==============================] - 17s 913ms/step - loss: 0.0075 - mean_squared_error: 0.0075 - val_loss: 0.0085 - val_mean_squared_error: 0.0085\n",
      "Epoch 5/100\n",
      "19/19 [==============================] - 17s 914ms/step - loss: 0.0076 - mean_squared_error: 0.0076 - val_loss: 0.0083 - val_mean_squared_error: 0.0083\n",
      "Epoch 6/100\n",
      "19/19 [==============================] - 17s 915ms/step - loss: 0.0075 - mean_squared_error: 0.0075 - val_loss: 0.0082 - val_mean_squared_error: 0.0082\n",
      "Epoch 7/100\n",
      "19/19 [==============================] - 17s 915ms/step - loss: 0.0075 - mean_squared_error: 0.0075 - val_loss: 0.0081 - val_mean_squared_error: 0.0081\n",
      "Epoch 8/100\n",
      "19/19 [==============================] - 17s 913ms/step - loss: 0.0075 - mean_squared_error: 0.0075 - val_loss: 0.0082 - val_mean_squared_error: 0.0082\n",
      "Epoch 9/100\n",
      "19/19 [==============================] - 17s 914ms/step - loss: 0.0076 - mean_squared_error: 0.0076 - val_loss: 0.0083 - val_mean_squared_error: 0.0083\n",
      "Epoch 10/100\n",
      "19/19 [==============================] - 17s 915ms/step - loss: 0.0075 - mean_squared_error: 0.0075 - val_loss: 0.0082 - val_mean_squared_error: 0.0082\n",
      "Epoch 11/100\n",
      "19/19 [==============================] - 17s 914ms/step - loss: 0.0075 - mean_squared_error: 0.0075 - val_loss: 0.0082 - val_mean_squared_error: 0.0082\n",
      "Epoch 12/100\n",
      "19/19 [==============================] - 17s 914ms/step - loss: 0.0075 - mean_squared_error: 0.0075 - val_loss: 0.0081 - val_mean_squared_error: 0.0081\n",
      "Epoch 13/100\n",
      "19/19 [==============================] - 17s 915ms/step - loss: 0.0075 - mean_squared_error: 0.0075 - val_loss: 0.0082 - val_mean_squared_error: 0.0082\n",
      "Epoch 14/100\n",
      "19/19 [==============================] - 17s 914ms/step - loss: 0.0075 - mean_squared_error: 0.0075 - val_loss: 0.0085 - val_mean_squared_error: 0.0085\n",
      "Epoch 15/100\n",
      "19/19 [==============================] - 17s 913ms/step - loss: 0.0075 - mean_squared_error: 0.0075 - val_loss: 0.0084 - val_mean_squared_error: 0.0084\n",
      "Epoch 16/100\n",
      "19/19 [==============================] - 17s 915ms/step - loss: 0.0075 - mean_squared_error: 0.0075 - val_loss: 0.0081 - val_mean_squared_error: 0.0081\n",
      "Epoch 17/100\n",
      "19/19 [==============================] - 17s 915ms/step - loss: 0.0075 - mean_squared_error: 0.0075 - val_loss: 0.0081 - val_mean_squared_error: 0.0081\n",
      "Epoch 18/100\n",
      "19/19 [==============================] - 17s 915ms/step - loss: 0.0076 - mean_squared_error: 0.0076 - val_loss: 0.0082 - val_mean_squared_error: 0.0082\n",
      "Epoch 19/100\n",
      "19/19 [==============================] - 17s 916ms/step - loss: 0.0074 - mean_squared_error: 0.0074 - val_loss: 0.0083 - val_mean_squared_error: 0.0083\n",
      "Epoch 20/100\n",
      "19/19 [==============================] - 17s 914ms/step - loss: 0.0074 - mean_squared_error: 0.0074 - val_loss: 0.0081 - val_mean_squared_error: 0.0081\n",
      "Epoch 21/100\n",
      "19/19 [==============================] - 17s 915ms/step - loss: 0.0074 - mean_squared_error: 0.0074 - val_loss: 0.0081 - val_mean_squared_error: 0.0081\n",
      "Epoch 22/100\n",
      "19/19 [==============================] - 17s 915ms/step - loss: 0.0074 - mean_squared_error: 0.0074 - val_loss: 0.0084 - val_mean_squared_error: 0.0084\n",
      "Epoch 23/100\n",
      "19/19 [==============================] - 17s 913ms/step - loss: 0.0075 - mean_squared_error: 0.0075 - val_loss: 0.0081 - val_mean_squared_error: 0.0081\n",
      "Epoch 24/100\n",
      "19/19 [==============================] - 17s 915ms/step - loss: 0.0074 - mean_squared_error: 0.0074 - val_loss: 0.0083 - val_mean_squared_error: 0.0083\n",
      "Epoch 25/100\n",
      "19/19 [==============================] - 17s 915ms/step - loss: 0.0075 - mean_squared_error: 0.0075 - val_loss: 0.0081 - val_mean_squared_error: 0.0081\n",
      "Epoch 26/100\n",
      "19/19 [==============================] - 17s 914ms/step - loss: 0.0075 - mean_squared_error: 0.0075 - val_loss: 0.0083 - val_mean_squared_error: 0.0083\n",
      "Epoch 27/100\n",
      "19/19 [==============================] - 17s 913ms/step - loss: 0.0075 - mean_squared_error: 0.0075 - val_loss: 0.0083 - val_mean_squared_error: 0.0083\n",
      "Epoch 28/100\n",
      "19/19 [==============================] - 17s 914ms/step - loss: 0.0075 - mean_squared_error: 0.0075 - val_loss: 0.0081 - val_mean_squared_error: 0.0081\n",
      "Epoch 29/100\n",
      "19/19 [==============================] - 17s 914ms/step - loss: 0.0074 - mean_squared_error: 0.0074 - val_loss: 0.0081 - val_mean_squared_error: 0.0081\n",
      "Epoch 30/100\n",
      "19/19 [==============================] - 17s 915ms/step - loss: 0.0075 - mean_squared_error: 0.0075 - val_loss: 0.0088 - val_mean_squared_error: 0.0088\n",
      "Epoch 31/100\n",
      "19/19 [==============================] - 17s 913ms/step - loss: 0.0076 - mean_squared_error: 0.0076 - val_loss: 0.0082 - val_mean_squared_error: 0.0082\n",
      "Epoch 32/100\n",
      "19/19 [==============================] - 17s 916ms/step - loss: 0.0075 - mean_squared_error: 0.0075 - val_loss: 0.0083 - val_mean_squared_error: 0.0083\n",
      "Epoch 33/100\n",
      "19/19 [==============================] - 17s 914ms/step - loss: 0.0074 - mean_squared_error: 0.0074 - val_loss: 0.0082 - val_mean_squared_error: 0.0082\n",
      "Epoch 34/100\n",
      "19/19 [==============================] - 17s 914ms/step - loss: 0.0074 - mean_squared_error: 0.0074 - val_loss: 0.0081 - val_mean_squared_error: 0.0081\n",
      "Epoch 35/100\n",
      "19/19 [==============================] - 17s 915ms/step - loss: 0.0073 - mean_squared_error: 0.0073 - val_loss: 0.0081 - val_mean_squared_error: 0.0081\n",
      "Epoch 36/100\n",
      "19/19 [==============================] - 17s 915ms/step - loss: 0.0073 - mean_squared_error: 0.0073 - val_loss: 0.0081 - val_mean_squared_error: 0.0081\n",
      "Epoch 37/100\n",
      "19/19 [==============================] - 17s 915ms/step - loss: 0.0073 - mean_squared_error: 0.0073 - val_loss: 0.0082 - val_mean_squared_error: 0.0082\n",
      "Epoch 38/100\n",
      "19/19 [==============================] - 17s 916ms/step - loss: 0.0073 - mean_squared_error: 0.0073 - val_loss: 0.0082 - val_mean_squared_error: 0.0082\n",
      "Epoch 39/100\n",
      "19/19 [==============================] - 17s 914ms/step - loss: 0.0074 - mean_squared_error: 0.0074 - val_loss: 0.0083 - val_mean_squared_error: 0.0083\n",
      "Epoch 40/100\n",
      "19/19 [==============================] - 17s 915ms/step - loss: 0.0073 - mean_squared_error: 0.0073 - val_loss: 0.0082 - val_mean_squared_error: 0.0082\n",
      "Epoch 41/100\n",
      "19/19 [==============================] - 17s 917ms/step - loss: 0.0073 - mean_squared_error: 0.0073 - val_loss: 0.0081 - val_mean_squared_error: 0.0081\n",
      "Epoch 42/100\n",
      "19/19 [==============================] - 17s 915ms/step - loss: 0.0073 - mean_squared_error: 0.0073 - val_loss: 0.0081 - val_mean_squared_error: 0.0081\n",
      "Epoch 43/100\n",
      "19/19 [==============================] - 17s 916ms/step - loss: 0.0073 - mean_squared_error: 0.0073 - val_loss: 0.0081 - val_mean_squared_error: 0.0081\n",
      "Epoch 44/100\n",
      "19/19 [==============================] - 17s 916ms/step - loss: 0.0073 - mean_squared_error: 0.0073 - val_loss: 0.0083 - val_mean_squared_error: 0.0083\n",
      "Epoch 45/100\n",
      "19/19 [==============================] - 17s 916ms/step - loss: 0.0073 - mean_squared_error: 0.0073 - val_loss: 0.0081 - val_mean_squared_error: 0.0081\n",
      "Epoch 46/100\n",
      "19/19 [==============================] - 17s 916ms/step - loss: 0.0073 - mean_squared_error: 0.0073 - val_loss: 0.0085 - val_mean_squared_error: 0.0085\n",
      "Epoch 47/100\n",
      "19/19 [==============================] - 17s 916ms/step - loss: 0.0074 - mean_squared_error: 0.0074 - val_loss: 0.0082 - val_mean_squared_error: 0.0082\n",
      "Epoch 48/100\n",
      "19/19 [==============================] - 17s 916ms/step - loss: 0.0073 - mean_squared_error: 0.0073 - val_loss: 0.0081 - val_mean_squared_error: 0.0081\n",
      "Epoch 49/100\n",
      "19/19 [==============================] - 17s 915ms/step - loss: 0.0072 - mean_squared_error: 0.0072 - val_loss: 0.0081 - val_mean_squared_error: 0.0081\n",
      "Epoch 50/100\n",
      "19/19 [==============================] - 17s 915ms/step - loss: 0.0073 - mean_squared_error: 0.0073 - val_loss: 0.0082 - val_mean_squared_error: 0.0082\n",
      "Epoch 51/100\n",
      "19/19 [==============================] - 17s 915ms/step - loss: 0.0073 - mean_squared_error: 0.0073 - val_loss: 0.0082 - val_mean_squared_error: 0.0082\n",
      "Epoch 52/100\n",
      "19/19 [==============================] - 17s 916ms/step - loss: 0.0073 - mean_squared_error: 0.0073 - val_loss: 0.0082 - val_mean_squared_error: 0.0082\n",
      "Epoch 53/100\n",
      "19/19 [==============================] - 17s 915ms/step - loss: 0.0073 - mean_squared_error: 0.0073 - val_loss: 0.0081 - val_mean_squared_error: 0.0081\n",
      "Epoch 54/100\n",
      "19/19 [==============================] - 17s 916ms/step - loss: 0.0073 - mean_squared_error: 0.0073 - val_loss: 0.0083 - val_mean_squared_error: 0.0083\n",
      "Epoch 55/100\n",
      "19/19 [==============================] - 17s 914ms/step - loss: 0.0073 - mean_squared_error: 0.0073 - val_loss: 0.0081 - val_mean_squared_error: 0.0081\n",
      "Epoch 56/100\n",
      "19/19 [==============================] - 17s 915ms/step - loss: 0.0072 - mean_squared_error: 0.0072 - val_loss: 0.0081 - val_mean_squared_error: 0.0081\n",
      "Epoch 57/100\n",
      "19/19 [==============================] - 17s 915ms/step - loss: 0.0073 - mean_squared_error: 0.0073 - val_loss: 0.0082 - val_mean_squared_error: 0.0082\n",
      "Epoch 58/100\n",
      "19/19 [==============================] - 17s 916ms/step - loss: 0.0072 - mean_squared_error: 0.0072 - val_loss: 0.0083 - val_mean_squared_error: 0.0083\n",
      "Epoch 59/100\n",
      "19/19 [==============================] - 17s 915ms/step - loss: 0.0072 - mean_squared_error: 0.0072 - val_loss: 0.0081 - val_mean_squared_error: 0.0081\n",
      "Epoch 60/100\n",
      "19/19 [==============================] - 17s 917ms/step - loss: 0.0072 - mean_squared_error: 0.0072 - val_loss: 0.0082 - val_mean_squared_error: 0.0082\n",
      "Epoch 61/100\n",
      "19/19 [==============================] - 17s 915ms/step - loss: 0.0072 - mean_squared_error: 0.0072 - val_loss: 0.0083 - val_mean_squared_error: 0.0083\n",
      "Epoch 62/100\n",
      "19/19 [==============================] - 17s 918ms/step - loss: 0.0072 - mean_squared_error: 0.0072 - val_loss: 0.0082 - val_mean_squared_error: 0.0082\n",
      "Epoch 63/100\n",
      "19/19 [==============================] - 17s 914ms/step - loss: 0.0072 - mean_squared_error: 0.0072 - val_loss: 0.0082 - val_mean_squared_error: 0.0082\n",
      "Epoch 64/100\n",
      "19/19 [==============================] - 17s 915ms/step - loss: 0.0072 - mean_squared_error: 0.0072 - val_loss: 0.0085 - val_mean_squared_error: 0.0085\n",
      "Epoch 65/100\n",
      "19/19 [==============================] - 17s 915ms/step - loss: 0.0072 - mean_squared_error: 0.0072 - val_loss: 0.0082 - val_mean_squared_error: 0.0082\n",
      "Epoch 66/100\n",
      "19/19 [==============================] - 17s 915ms/step - loss: 0.0072 - mean_squared_error: 0.0072 - val_loss: 0.0081 - val_mean_squared_error: 0.0081\n",
      "Epoch 67/100\n",
      "19/19 [==============================] - 17s 915ms/step - loss: 0.0072 - mean_squared_error: 0.0072 - val_loss: 0.0084 - val_mean_squared_error: 0.0084\n",
      "Epoch 68/100\n",
      "19/19 [==============================] - 17s 914ms/step - loss: 0.0072 - mean_squared_error: 0.0072 - val_loss: 0.0082 - val_mean_squared_error: 0.0082\n",
      "Epoch 69/100\n",
      "19/19 [==============================] - 17s 917ms/step - loss: 0.0072 - mean_squared_error: 0.0072 - val_loss: 0.0081 - val_mean_squared_error: 0.0081\n",
      "Epoch 70/100\n",
      "19/19 [==============================] - 17s 916ms/step - loss: 0.0072 - mean_squared_error: 0.0072 - val_loss: 0.0081 - val_mean_squared_error: 0.0081\n",
      "Epoch 71/100\n",
      "19/19 [==============================] - 17s 916ms/step - loss: 0.0072 - mean_squared_error: 0.0072 - val_loss: 0.0082 - val_mean_squared_error: 0.0082\n",
      "Epoch 72/100\n",
      "19/19 [==============================] - 17s 917ms/step - loss: 0.0072 - mean_squared_error: 0.0072 - val_loss: 0.0081 - val_mean_squared_error: 0.0081\n",
      "Epoch 73/100\n",
      "19/19 [==============================] - 17s 917ms/step - loss: 0.0072 - mean_squared_error: 0.0072 - val_loss: 0.0082 - val_mean_squared_error: 0.0082\n",
      "Epoch 74/100\n",
      "19/19 [==============================] - 17s 916ms/step - loss: 0.0072 - mean_squared_error: 0.0072 - val_loss: 0.0083 - val_mean_squared_error: 0.0083\n",
      "Epoch 75/100\n",
      "19/19 [==============================] - 17s 915ms/step - loss: 0.0072 - mean_squared_error: 0.0072 - val_loss: 0.0081 - val_mean_squared_error: 0.0081\n",
      "Epoch 76/100\n",
      "19/19 [==============================] - 17s 915ms/step - loss: 0.0072 - mean_squared_error: 0.0072 - val_loss: 0.0083 - val_mean_squared_error: 0.0083\n",
      "Epoch 77/100\n",
      "19/19 [==============================] - 17s 917ms/step - loss: 0.0072 - mean_squared_error: 0.0072 - val_loss: 0.0082 - val_mean_squared_error: 0.0082\n",
      "Epoch 78/100\n",
      "19/19 [==============================] - 17s 915ms/step - loss: 0.0071 - mean_squared_error: 0.0071 - val_loss: 0.0082 - val_mean_squared_error: 0.0082\n",
      "Epoch 79/100\n",
      "19/19 [==============================] - 17s 917ms/step - loss: 0.0072 - mean_squared_error: 0.0072 - val_loss: 0.0082 - val_mean_squared_error: 0.0082\n",
      "Epoch 80/100\n",
      "19/19 [==============================] - 17s 913ms/step - loss: 0.0072 - mean_squared_error: 0.0072 - val_loss: 0.0082 - val_mean_squared_error: 0.0082\n",
      "Epoch 81/100\n",
      "19/19 [==============================] - 17s 915ms/step - loss: 0.0071 - mean_squared_error: 0.0071 - val_loss: 0.0081 - val_mean_squared_error: 0.0081\n",
      "Epoch 82/100\n",
      "19/19 [==============================] - 17s 915ms/step - loss: 0.0072 - mean_squared_error: 0.0072 - val_loss: 0.0082 - val_mean_squared_error: 0.0082\n",
      "Epoch 83/100\n",
      "19/19 [==============================] - 17s 914ms/step - loss: 0.0071 - mean_squared_error: 0.0071 - val_loss: 0.0082 - val_mean_squared_error: 0.0082\n",
      "Epoch 84/100\n",
      "19/19 [==============================] - 17s 916ms/step - loss: 0.0071 - mean_squared_error: 0.0071 - val_loss: 0.0081 - val_mean_squared_error: 0.0081\n",
      "Epoch 85/100\n",
      "19/19 [==============================] - 17s 915ms/step - loss: 0.0072 - mean_squared_error: 0.0072 - val_loss: 0.0082 - val_mean_squared_error: 0.0082\n",
      "Epoch 86/100\n",
      "19/19 [==============================] - 17s 914ms/step - loss: 0.0071 - mean_squared_error: 0.0071 - val_loss: 0.0082 - val_mean_squared_error: 0.0082\n",
      "Epoch 87/100\n",
      "19/19 [==============================] - 17s 915ms/step - loss: 0.0071 - mean_squared_error: 0.0071 - val_loss: 0.0081 - val_mean_squared_error: 0.0081\n",
      "Epoch 88/100\n",
      "19/19 [==============================] - 17s 916ms/step - loss: 0.0072 - mean_squared_error: 0.0072 - val_loss: 0.0083 - val_mean_squared_error: 0.0083\n",
      "Epoch 89/100\n",
      "19/19 [==============================] - 17s 914ms/step - loss: 0.0071 - mean_squared_error: 0.0071 - val_loss: 0.0082 - val_mean_squared_error: 0.0082\n",
      "Epoch 90/100\n",
      "19/19 [==============================] - 17s 914ms/step - loss: 0.0071 - mean_squared_error: 0.0071 - val_loss: 0.0082 - val_mean_squared_error: 0.0082\n",
      "Epoch 91/100\n",
      "19/19 [==============================] - 17s 914ms/step - loss: 0.0071 - mean_squared_error: 0.0071 - val_loss: 0.0082 - val_mean_squared_error: 0.0082\n",
      "Epoch 92/100\n",
      "19/19 [==============================] - 17s 916ms/step - loss: 0.0071 - mean_squared_error: 0.0071 - val_loss: 0.0082 - val_mean_squared_error: 0.0082\n",
      "Epoch 93/100\n",
      "19/19 [==============================] - 17s 915ms/step - loss: 0.0072 - mean_squared_error: 0.0072 - val_loss: 0.0083 - val_mean_squared_error: 0.0083\n",
      "Epoch 94/100\n",
      "19/19 [==============================] - 17s 916ms/step - loss: 0.0071 - mean_squared_error: 0.0071 - val_loss: 0.0083 - val_mean_squared_error: 0.0083\n",
      "Epoch 95/100\n",
      "19/19 [==============================] - 17s 914ms/step - loss: 0.0071 - mean_squared_error: 0.0071 - val_loss: 0.0082 - val_mean_squared_error: 0.0082\n",
      "Epoch 96/100\n",
      "19/19 [==============================] - 17s 918ms/step - loss: 0.0071 - mean_squared_error: 0.0071 - val_loss: 0.0082 - val_mean_squared_error: 0.0082\n",
      "Epoch 97/100\n",
      "19/19 [==============================] - 17s 915ms/step - loss: 0.0071 - mean_squared_error: 0.0071 - val_loss: 0.0082 - val_mean_squared_error: 0.0082\n",
      "Epoch 98/100\n",
      "19/19 [==============================] - 17s 915ms/step - loss: 0.0071 - mean_squared_error: 0.0071 - val_loss: 0.0084 - val_mean_squared_error: 0.0084\n",
      "Epoch 99/100\n",
      "19/19 [==============================] - 17s 915ms/step - loss: 0.0072 - mean_squared_error: 0.0072 - val_loss: 0.0082 - val_mean_squared_error: 0.0082\n",
      "Epoch 100/100\n",
      "19/19 [==============================] - 17s 917ms/step - loss: 0.0071 - mean_squared_error: 0.0071 - val_loss: 0.0082 - val_mean_squared_error: 0.0082\n",
      "Training MSE: 0.007\n",
      "Validation MSE: 0.008\n",
      "\n",
      "Training r2: 0.7542\n",
      "Validation r2: 0.7296\n"
     ]
    }
   ],
   "source": [
    "compilado('mean_squared_error', 'adam', 'mean_squared_error')\n",
    "entrenamiento(100, 512)\n",
    "evaluacion()"
   ]
  },
  {
   "cell_type": "markdown",
   "id": "f7980a6d",
   "metadata": {},
   "source": [
    "## 4.6 Conclusión"
   ]
  },
  {
   "cell_type": "markdown",
   "id": "93bc4df7",
   "metadata": {},
   "source": [
    "El mejor resultado lo hemos obtenido en la última prueba.\n",
    "\n",
    "Este resultado es muy similar al que se consiguió sin utilizar imágenes."
   ]
  },
  {
   "cell_type": "code",
   "execution_count": null,
   "id": "82a5dc19",
   "metadata": {},
   "outputs": [],
   "source": []
  }
 ],
 "metadata": {
  "accelerator": "GPU",
  "colab": {
   "name": "4_Modelado_Con_Datos_Numericos_E_Imagenes.ipynb",
   "provenance": []
  },
  "kernelspec": {
   "display_name": "Python 3",
   "language": "python",
   "name": "python3"
  },
  "language_info": {
   "codemirror_mode": {
    "name": "ipython",
    "version": 3
   },
   "file_extension": ".py",
   "mimetype": "text/x-python",
   "name": "python",
   "nbconvert_exporter": "python",
   "pygments_lexer": "ipython3",
   "version": "3.8.6"
  }
 },
 "nbformat": 4,
 "nbformat_minor": 5
}
