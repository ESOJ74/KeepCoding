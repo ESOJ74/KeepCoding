{
 "cells": [
  {
   "cell_type": "markdown",
   "id": "8c8958fd",
   "metadata": {},
   "source": [
    "# Ejercicio 2 -  Etapa de preprocesado de texto"
   ]
  },
  {
   "cell_type": "markdown",
   "id": "affa8738",
   "metadata": {},
   "source": [
    "### Importaciones"
   ]
  },
  {
   "cell_type": "code",
   "execution_count": 1,
   "id": "1996953f",
   "metadata": {},
   "outputs": [],
   "source": [
    "import pandas as pd\n",
    "import matplotlib.pyplot as plt\n",
    "import numpy as np\n",
    "import random\n",
    "import glob\n",
    "import os\n",
    "\n",
    "import gensim \n",
    "import unicodedata\n",
    "from num2words import num2words\n",
    "from nltk import RegexpTokenizer\n",
    "from stop_words import get_stop_words\n",
    "from nltk.stem import WordNetLemmatizer\n",
    "\n",
    "from sklearn.model_selection import train_test_split\n",
    "from sklearn.feature_extraction.text import CountVectorizer, TfidfVectorizer\n",
    "from sklearn.feature_selection import chi2\n",
    "from sklearn.linear_model import LogisticRegression\n",
    "from sklearn.metrics import accuracy_score, confusion_matrix, classification_report, roc_curve, precision_recall_curve\n",
    "\n",
    "from sklearn.ensemble import GradientBoostingClassifier"
   ]
  },
  {
   "cell_type": "markdown",
   "id": "d5fedc1b",
   "metadata": {},
   "source": [
    "### Pipeline de preprocesado"
   ]
  },
  {
   "cell_type": "code",
   "execution_count": 2,
   "id": "4a0c3196",
   "metadata": {},
   "outputs": [],
   "source": [
    "def pipeline(path, size_df):    \n",
    "    \n",
    "    def list_to_words(text):\n",
    "        \"\"\"Definimos una función para que nos devuelve:\n",
    "               una lista con las reviews tratadas.\n",
    "               un string de palabras separadas por espacio.\"\"\"\n",
    "        sentences = []    \n",
    "        sw_list = get_stop_words('en')\n",
    "\n",
    "        for sentence in text:\n",
    "            clean_text = [] \n",
    "\n",
    "            for word in RegexpTokenizer(r\"\\w+\\'\\w+|\\w+\").tokenize(sentence):\n",
    "\n",
    "                if word.lower() not in sw_list:\n",
    "                    clean_word = WordNetLemmatizer().lemmatize(word).lower().strip()\n",
    "\n",
    "                    if clean_word.isdigit():\n",
    "                        clean_word = num2words(clean_word, lang='en')\n",
    "\n",
    "                    if (len(clean_word) > 3):\n",
    "                        clean_text.append(clean_word) \n",
    "\n",
    "            sentences.append(' '.join(clean_text))\n",
    "\n",
    "        return [sentences,\n",
    "                ' '.join(sentences)]\n",
    "\n",
    "    \n",
    "    def text_preprocessing(text):\n",
    "    \n",
    "        result=[]\n",
    "        for token in gensim.utils.simple_preprocess(text):\n",
    "            if token not in gensim.parsing.preprocessing.STOPWORDS and len(token) > 3:\n",
    "                result.append(token)\n",
    "\n",
    "        return ' '.join(result)\n",
    "    \n",
    "    #carga de datos\n",
    "    data_reviews = pd.read_json(path, lines=True, \n",
    "                                compression='gzip')[:size_df][['reviewText', 'overall']]\n",
    "    \n",
    "    #procesado de las reviews \n",
    "    \n",
    "       #con pipeline de procesado\n",
    "    #data_reviews.reviewText = list_to_words(data_reviews.reviewText)[0]\n",
    "    \n",
    "      #con text_preprocessing\n",
    "    processed_texts = []\n",
    "    for text in data_reviews.reviewText:\n",
    "        processed_texts.append(text_preprocessing(text))\n",
    "    data_reviews.reviewText = processed_texts\n",
    "    \n",
    "    #Etiquetamos las reviews de 1 y 2 estrellas como 0 y los de 3, 4 y 5 como 1    \n",
    "    data_reviews.overall = [1 if int(row) > 2 else 0 for row in data_reviews.overall]\n",
    "    \n",
    "    #Balanceo de etiquetas\n",
    "    label_1, label_0 = data_reviews['overall'].value_counts()\n",
    "\n",
    "    data_reviews = pd.concat([data_reviews[data_reviews.overall == 1].sample(label_0 * 1),\n",
    "                                data_reviews[data_reviews.overall == 0]],\n",
    "                               axis=0) \n",
    "    #Train y test\n",
    "    X_train, X_test, y_train, y_test = train_test_split(\n",
    "        data_reviews.reviewText,\n",
    "        data_reviews.overall,   \n",
    "        test_size=0.3,\n",
    "        random_state=42,\n",
    "        shuffle=True\n",
    "    )\n",
    "    \n",
    "    #Features\n",
    "    cv = TfidfVectorizer(\n",
    "        max_df = 0.95,  # Eliminamos el 5% de los tokens más frecuentes\n",
    "        min_df = 5, # Descartamos los tokens que no aparezcan al menos 5 veces\n",
    "        max_features = 3000, # Elección de nuestro vocabulario\n",
    "        strip_accents = 'ascii',\n",
    "        ngram_range = (1, 1)  #bigramas y trigramas  #Nos quedamos con palabras, funciona mejor el modelo.\n",
    "    )\n",
    "    cv.fit(X_train)\n",
    "    \n",
    "    #TF-IDF scores del training set y test set\n",
    "    X_train_ = cv.transform(X_train)\n",
    "    X_test_ = cv.transform(X_test)\n",
    "    \n",
    "    return data_reviews, cv, X_train, X_test, y_train, y_test, X_train_, X_test_"
   ]
  },
  {
   "cell_type": "code",
   "execution_count": 3,
   "id": "d5042e9d",
   "metadata": {},
   "outputs": [],
   "source": [
    "#!wget http://snap.stanford.edu/data/amazon/productGraph/categoryFiles/reviews_Amazon_Instant_Video_5.json.gz\n",
    "data_reviews, cv, X_train, X_test, y_train, y_test, X_train_, X_test_ =\\\n",
    "                       pipeline('reviews_Amazon_Instant_Video_5.json.gz',37126)"
   ]
  },
  {
   "cell_type": "markdown",
   "id": "9f9b68f7",
   "metadata": {},
   "source": [
    "### Chi-cuadrado score"
   ]
  },
  {
   "cell_type": "code",
   "execution_count": 4,
   "id": "3a8d3491",
   "metadata": {},
   "outputs": [
    {
     "data": {
      "image/png": "[encoded data removed]",
      "text/plain": [
       "<Figure size 1200x800 with 1 Axes>"
      ]
     },
     "metadata": {},
     "output_type": "display_data"
    }
   ],
   "source": [
    "i = 15\n",
    "\n",
    "chi2score = chi2(X_train_, y_train)[0]\n",
    "scores = list(zip(cv.get_feature_names(), chi2score))\n",
    "sorted_scores = sorted(scores, key=lambda x:x[1])\n",
    "topchi2 = list(zip(*sorted_scores[-i:]))\n",
    "x = range(len(topchi2[1]))\n",
    "labels = topchi2[0]\n",
    "\n",
    "plt.figure(figsize=(12, 8))\n",
    "plt.barh(x,topchi2[1], align='center', alpha=0.5)\n",
    "plt.plot(topchi2[1], x, '-o', markersize=5, alpha=0.8)\n",
    "plt.yticks(x, labels, fontsize=12)\n",
    "plt.xlabel('$\\chi^2$', fontsize=26)\n",
    "plt.ylabel('word', fontsize=16)\n",
    "plt.title('Top {} $\\chi^2$ score for each word in the training set'.format(i), fontsize=20)\n",
    "plt.grid()\n",
    "plt.tight_layout()\n",
    "plt.show();"
   ]
  },
  {
   "cell_type": "markdown",
   "id": "8f181001",
   "metadata": {},
   "source": [
    "# Ejercicio 3 -  Etapa de entrenamiento y testeo de un modelo de análisis de sentimiento"
   ]
  },
  {
   "cell_type": "markdown",
   "id": "6d93def2",
   "metadata": {},
   "source": [
    "## Modelo 1 Regresión Logística"
   ]
  },
  {
   "cell_type": "code",
   "execution_count": 5,
   "id": "fcb726fa",
   "metadata": {},
   "outputs": [],
   "source": [
    "reviews = X_train[-20:]\n",
    "X = X_train_[-20:]\n",
    "y = y_train.iloc[-20:]\n",
    "\n",
    "X_train = X_train_[:-20]\n",
    "y_train = y_train.iloc[:-20]"
   ]
  },
  {
   "cell_type": "code",
   "execution_count": 6,
   "id": "2c75c698",
   "metadata": {},
   "outputs": [
    {
     "name": "stdout",
     "output_type": "stream",
     "text": [
      "c_params    1.000000\n",
      "train       0.899084\n",
      "test        0.811286\n",
      "Name: 7, dtype: float64\n"
     ]
    }
   ],
   "source": [
    "df = pd.DataFrame(columns = ['c_params', 'train', 'test'])\n",
    "\n",
    "for c in [0.01, 0.02, 0.03, 0.04, 0.05, 0.25, 0.5, 1, 10, 100, 1000]:\n",
    "    \n",
    "    lr = LogisticRegression(C = c, solver = 'lbfgs', max_iter = 500)\n",
    "    lr.fit(X_train, y_train)\n",
    "    \n",
    "    df = df.append({'c_params' : c,\n",
    "                    'train' : accuracy_score(y_train, lr.predict(X_train)),\n",
    "                    'test' : accuracy_score(y_test, lr.predict(X_test_))},\n",
    "                   ignore_index = True)\n",
    "\n",
    "print(df.sort_values('test').iloc[-1])"
   ]
  },
  {
   "cell_type": "markdown",
   "id": "1f4ad410",
   "metadata": {},
   "source": [
    "Vemos que el mejor resultado en test se obtiene en c = 1"
   ]
  },
  {
   "cell_type": "code",
   "execution_count": 7,
   "id": "342e1056",
   "metadata": {},
   "outputs": [
    {
     "name": "stdout",
     "output_type": "stream",
     "text": [
      "Confussion matrix:\n",
      "[[882 188]\n",
      " [220 872]]\n",
      "\n",
      "Classification report:\n",
      "              precision    recall  f1-score   support\n",
      "\n",
      "           0       0.80      0.82      0.81      1070\n",
      "           1       0.82      0.80      0.81      1092\n",
      "\n",
      "    accuracy                           0.81      2162\n",
      "   macro avg       0.81      0.81      0.81      2162\n",
      "weighted avg       0.81      0.81      0.81      2162\n",
      "\n",
      "Accuracy score:0.8112858464384829\n"
     ]
    }
   ],
   "source": [
    "lr = LogisticRegression(C = 1, solver = 'lbfgs', max_iter = 500)\n",
    "lr.fit(X_train, y_train)\n",
    "    \n",
    "print(f'Confussion matrix:\\n{confusion_matrix(y_test, lr.predict(X_test_))}')\n",
    "print(f'\\nClassification report:\\n{classification_report(y_test, lr.predict(X_test_))}')\n",
    "print(f'Accuracy score:{accuracy_score(y_test, lr.predict(X_test_))}')"
   ]
  },
  {
   "cell_type": "markdown",
   "id": "31048665",
   "metadata": {},
   "source": [
    "## Modelo 2 GradientBoostingClassifier"
   ]
  },
  {
   "cell_type": "code",
   "execution_count": 8,
   "id": "8f576d20",
   "metadata": {},
   "outputs": [
    {
     "name": "stdout",
     "output_type": "stream",
     "text": [
      "n_estimators     150.000000\n",
      "learning_rate      0.500000\n",
      "max_depth          1.000000\n",
      "train              0.840167\n",
      "test               0.782609\n",
      "Name: 4, dtype: float64\n"
     ]
    }
   ],
   "source": [
    "df = pd.DataFrame(columns = ['n_estimators', 'learning_rate', 'max_depth', 'train', 'test'])\n",
    "\n",
    "for m in [1, 2]:\n",
    "    for c in [50, 100, 150]:\n",
    "        for l in [0.5, 1]:\n",
    "            clf = GradientBoostingClassifier(n_estimators = c,\n",
    "                                             learning_rate = l,\n",
    "                                             max_depth = m, \n",
    "                                             random_state = 42)\n",
    "            clf.fit(X_train, y_train)   \n",
    "            df = df.append({'n_estimators' : c,\n",
    "                            'learning_rate' : l,\n",
    "                            'max_depth' : m,\n",
    "                            'train' : accuracy_score(y_train, clf.predict(X_train)),\n",
    "                            'test' : accuracy_score(y_test, clf.predict(X_test_))},\n",
    "                           ignore_index = True)\n",
    "\n",
    "print(df.sort_values('test').iloc[-1])"
   ]
  },
  {
   "cell_type": "markdown",
   "id": "e09d15e0",
   "metadata": {},
   "source": [
    "Vemos que el mejor resultado en test se obtiene en n_estimators = 150, learning_rate = 0.5 y max_depth = 2"
   ]
  },
  {
   "cell_type": "code",
   "execution_count": 9,
   "id": "d8eebab0",
   "metadata": {},
   "outputs": [
    {
     "name": "stdout",
     "output_type": "stream",
     "text": [
      "Confussion matrix:\n",
      "[[869 201]\n",
      " [269 823]]\n",
      "\n",
      "Classification report:\n",
      "              precision    recall  f1-score   support\n",
      "\n",
      "           0       0.76      0.81      0.79      1070\n",
      "           1       0.80      0.75      0.78      1092\n",
      "\n",
      "    accuracy                           0.78      2162\n",
      "   macro avg       0.78      0.78      0.78      2162\n",
      "weighted avg       0.78      0.78      0.78      2162\n",
      "\n",
      "Accuracy score:0.782608695652174\n"
     ]
    }
   ],
   "source": [
    "clf2 = GradientBoostingClassifier(n_estimators = 150,\n",
    "                                     learning_rate = 0.5,\n",
    "                                     max_depth = 1, \n",
    "                                     random_state = 42)\n",
    "clf2.fit(X_train, y_train)  \n",
    "\n",
    "print(f'Confussion matrix:\\n{confusion_matrix(y_test, clf2.predict(X_test_))}')\n",
    "print(f'\\nClassification report:\\n{classification_report(y_test, clf2.predict(X_test_))}')\n",
    "print(f'Accuracy score:{accuracy_score(y_test, clf2.predict(X_test_))}')"
   ]
  },
  {
   "cell_type": "markdown",
   "id": "383226c2",
   "metadata": {},
   "source": [
    "### Pruebas"
   ]
  },
  {
   "cell_type": "code",
   "execution_count": 10,
   "id": "3432f2dd",
   "metadata": {},
   "outputs": [
    {
     "name": "stdout",
     "output_type": "stream",
     "text": [
      "Review :\n",
      "\"blood viking list interesting facts viking voyages challenges established theories vikings brings theories light\"\n",
      "Pred lr: 1  Pred clf2 : 0\n",
      "Real : 1\n",
      "------------------\n",
      "Review :\n",
      "\"jonny miller enchanting lucy simply mesmerizing latest highly effective rebirth conan doyle deathless consulting detective sherlock holmes perennial sidekick john joan watson think basil rathbone play holmes late jeremy brett managed convinced replace holmes come life came benedict cumberbatch truly remarkable actor recreates holmes thoroughly delightful different working come jonny miller lucy female watson modern version present york familiar names original stories appear moriarty sebastian moran irene adler adds drastically altered series unflaggingly entertaining hope runs seasons\"\n",
      "Pred lr: 1  Pred clf2 : 1\n",
      "Real : 1\n",
      "------------------\n",
      "Review :\n",
      "\"movies like instantly captivated graphics scene movie magnificent adore movie want thank wonderful time\"\n",
      "Pred lr: 0  Pred clf2 : 0\n",
      "Real : 1\n",
      "------------------\n",
      "Review :\n",
      "\"discovered suits amazon prime unable watching episode like sparky sharp conversations relationships recommend family friends\"\n",
      "Pred lr: 1  Pred clf2 : 0\n",
      "Real : 1\n",
      "------------------\n",
      "Review :\n",
      "\"teen comedy pretty cute girls overly dramatic times fussing silly little things admit british teen culture excessive girls girl wears thong comes vulgaria guess teens movie decent milking drama laughs\"\n",
      "Pred lr: 0  Pred clf2 : 0\n",
      "Real : 1\n",
      "------------------\n",
      "Review :\n",
      "\"possibly glimpse life style beautiful people southern california probably confined\"\n",
      "Pred lr: 0  Pred clf2 : 0\n",
      "Real : 1\n",
      "------------------\n",
      "Review :\n",
      "\"didnt watch thing screen isnt like xmen series\"\n",
      "Pred lr: 0  Pred clf2 : 1\n",
      "Real : 1\n",
      "------------------\n",
      "Review :\n",
      "\"premier episode thursday horrible terrible acting terrible script characters extremely annoying\"\n",
      "Pred lr: 0  Pred clf2 : 0\n",
      "Real : 0\n",
      "------------------\n",
      "Review :\n",
      "\"funny satisfied witless trite humor watched good rating bound entertaining consider waste time writers went hanging fruit truly letdown caliber humor expect hope amazon pursue\"\n",
      "Pred lr: 0  Pred clf2 : 0\n",
      "Real : 0\n",
      "------------------\n",
      "Review :\n",
      "\"kidding thing painfully suffering watching worst horror films time scary concept poor watch want waste time money\"\n",
      "Pred lr: 0  Pred clf2 : 0\n",
      "Real : 0\n",
      "------------------\n",
      "Review :\n",
      "\"realistic shows pretty boring producers scenes commercial breaks pretty dramatized wouldn recommend watching looking help fall asleep\"\n",
      "Pred lr: 0  Pred clf2 : 0\n",
      "Real : 0\n",
      "------------------\n",
      "Review :\n",
      "\"chose rating stars movie went higher expectations star ratings reviewers gave plot premise emotional value somewhat movie starts sponsorship year girl china australian undoubtedly thankfully believed helping orphaned child child able school live better orphanage randell prolific exchange letters postcards year period spoilers read description girl opportunity meet sponsor arrives uninvited finds words wrong girl lacks real couldn remember arrived orphanage called meaning little sister important aspect movie rest movie relies small carry duration gangster wanna guys mafia like organization portrayed menacingly therefor opinion look like older bullies middle school reviewers stated movie disturbing violent said watched minutes reasons watched indicate statements true absolutely thing nudity sexual activity violence obviously defined couple fist fights implied messing bully statements biggest thing movie understanding good deed come false underlying story truth avail room forgiveness love future watch waste time teary schmaltzy makes feel like better movie\"\n",
      "Pred lr: 0  Pred clf2 : 0\n",
      "Real : 1\n",
      "------------------\n",
      "Review :\n",
      "\"specifically episode brimstone amazon lost licensing agreement play episode unbelievable type snafu unacceptable consumers viewers subscribers paid good money view favorite shows amazon bring mentalist\"\n",
      "Pred lr: 0  Pred clf2 : 0\n",
      "Real : 0\n",
      "------------------\n",
      "Review :\n",
      "\"update nope tried view entire episode season couldn title states addict needs help addiction kind healthy family life series designed instruct time consuming money sucking addiction guess useful think house projects proper shows diynetwork contrived sadly network started good intentions fell victim wanting produce commercially viable fodder truly provide actual helpful information contrived staged drama awkward start minutes long recaps recaps recaps edited removed commercial breaks cuts actual editing incredibly erratic episode inspection work hasn discussed shown progress watch second episode glossed unrealistic timewise states specific times according weather state landscaping sure weeks whining guessing petite blonde single real estate agent house flipper supposedly majority work houses subject series wonder finds time parent child pains write huge freak shows snoopy happy dance delighted finally shows amazonprime netflix shows settled marathon fest reality watched episode gagged second episode fair shake couldn amazon bring useful shows diynetwork shows produced ratings imparting real honest useful information want shows like house house hometime basically thank\"\n",
      "Pred lr: 0  Pred clf2 : 0\n",
      "Real : 0\n",
      "------------------\n",
      "Review :\n",
      "\"watched series stop watching word enjoy\"\n",
      "Pred lr: 1  Pred clf2 : 1\n",
      "Real : 1\n",
      "------------------\n",
      "Review :\n",
      "\"people amazon rate star people lame believe prime sorry paid season pathetic\"\n",
      "Pred lr: 0  Pred clf2 : 0\n",
      "Real : 0\n",
      "------------------\n",
      "Review :\n",
      "\"television sure cover good good thing managed cast kevin bacon usually guaranteed sign quality good premise episodes following promising sheer sense great promise serial killer story detective history relationship serial killer wife serial killer commit crimes prison cult following psychos great ideas squandered reasons ideas squandered opinion simple reason following trying effort relentless stop intense action thrills following throws event minutes instead intelligently fleshed hastily fleshed minutes opens continuous ridicule stupid teenage criminals stupid agents known better criminals aren tracked followed plain illogical assumption story archs instead creators research giving reason think carroll serial killer brilliant left assume instead intelligently thought relies gimmicks murderers murder talk murderers reason leave alive person supposed victims explaining murderer kill said kill live hostage slow dead nice thanks info detective held teenage murderers whittling ropes hidden knife despite standing feet away serial killer calls detective pretty episode nice chat tells screwed mainly format asks creators explain escapes blunders minutes episodes gimmick continues roll boring absolutely zero tension tension intelligence zero tact like time explain reasoning things happened worked following time explanation ridiculous giving stars opinion great close terrible like star suggests think maybe harsh promise lucky people making millions dollars entertain absolutely anybody basic writing skills write harsh writers directors zero tact attempt intelligent tact horror thriller cliche book expect drool return week thanks star baby lack effort\"\n",
      "Pred lr: 0  Pred clf2 : 0\n",
      "Real : 0\n",
      "------------------\n",
      "Review :\n",
      "\"past second episode centered scenes talk recommend\"\n",
      "Pred lr: 0  Pred clf2 : 0\n",
      "Real : 0\n",
      "------------------\n",
      "Review :\n",
      "\"particularly good looks like flash animation good dialog sounds like women voice acting read script recorded think supposed sassy street smart girls comes wannabe smart overall\"\n",
      "Pred lr: 0  Pred clf2 : 1\n",
      "Real : 0\n",
      "------------------\n",
      "Review :\n",
      "\"like enjoy able\"\n",
      "Pred lr: 1  Pred clf2 : 1\n",
      "Real : 1\n",
      "------------------\n"
     ]
    }
   ],
   "source": [
    "for i in range (20):\n",
    "    print(f'Review :\\n\"{reviews.iloc[i]}\"')\n",
    "    print(f\"Pred lr: {lr.predict(X[i])[0]}  Pred clf2 : {clf2.predict(X[i])[0]}\")\n",
    "    print(f\"Real : {y.iloc[i]}\")\n",
    "    print(\"------------------\")"
   ]
  },
  {
   "cell_type": "code",
   "execution_count": null,
   "id": "de03f88e",
   "metadata": {},
   "outputs": [],
   "source": []
  }
 ],
 "metadata": {
  "kernelspec": {
   "display_name": "Python 3",
   "language": "python",
   "name": "python3"
  },
  "language_info": {
   "codemirror_mode": {
    "name": "ipython",
    "version": 3
   },
   "file_extension": ".py",
   "mimetype": "text/x-python",
   "name": "python",
   "nbconvert_exporter": "python",
   "pygments_lexer": "ipython3",
   "version": "3.8.6"
  }
 },
 "nbformat": 4,
 "nbformat_minor": 5
}
