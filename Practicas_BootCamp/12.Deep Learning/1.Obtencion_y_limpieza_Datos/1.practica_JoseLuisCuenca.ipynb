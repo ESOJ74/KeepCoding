{
 "cells": [
  {
   "cell_type": "markdown",
   "id": "934ec943-cf36-482a-8ada-6446c4d8f4af",
   "metadata": {
    "id": "934ec943-cf36-482a-8ada-6446c4d8f4af"
   },
   "source": [
    "# Práctica Machine Learning"
   ]
  },
  {
   "cell_type": "markdown",
   "id": "68e93109-a99b-480d-bc6f-0896bac080ef",
   "metadata": {
    "id": "68e93109-a99b-480d-bc6f-0896bac080ef"
   },
   "source": [
    "## 0 - IMPORTACION DE LIBRERIAS, FICHERO AIRBNB Y PREPARACION DE LOS DATASET EN FICHEROS"
   ]
  },
  {
   "cell_type": "markdown",
   "id": "7106968d-ec4b-4add-be3d-5ac4e9b7b485",
   "metadata": {
    "id": "7106968d-ec4b-4add-be3d-5ac4e9b7b485"
   },
   "source": [
    "#### 0.0 - Importación de las librerías"
   ]
  },
  {
   "cell_type": "code",
   "execution_count": 1,
   "id": "c9121f88-9e50-4809-a231-d33dc1a6458a",
   "metadata": {
    "id": "c9121f88-9e50-4809-a231-d33dc1a6458a",
    "tags": []
   },
   "outputs": [],
   "source": [
    "import numpy as np\n",
    "import pandas as pd\n",
    "\n",
    "import matplotlib.pyplot as plt\n",
    "%matplotlib inline \n",
    "plt.style.use(\"Solarize_Light2\")\n",
    "\n",
    "import seaborn as sns\n",
    "\n",
    "from sklearn import preprocessing\n",
    "from sklearn.model_selection import train_test_split\n",
    "from sklearn.model_selection import GridSearchCV\n",
    "from sklearn.ensemble import RandomForestRegressor\n",
    "from sklearn.tree import DecisionTreeRegressor"
   ]
  },
  {
   "cell_type": "markdown",
   "id": "cb7c20d6-b7d2-4dd2-92a9-828a7e876927",
   "metadata": {
    "id": "cb7c20d6-b7d2-4dd2-92a9-828a7e876927"
   },
   "source": [
    "#### 0.1 - Carga de datos "
   ]
  },
  {
   "cell_type": "code",
   "execution_count": 2,
   "id": "57b26bfd-b9d5-4f11-8959-e39ab4142cdc",
   "metadata": {
    "colab": {
     "base_uri": "https://localhost:8080/"
    },
    "id": "57b26bfd-b9d5-4f11-8959-e39ab4142cdc",
    "outputId": "ab318c9d-55b3-43d3-e2e3-9ef57b38c565",
    "tags": []
   },
   "outputs": [
    {
     "name": "stdout",
     "output_type": "stream",
     "text": [
      "--2021-12-27 08:16:27--  https://public.opendatasoft.com/explore/dataset/airbnb-listings/download/?format=csv&disjunctive.host_verifications=true&disjunctive.amenities=true&disjunctive.features=true&refine.country=Spain&q=Madrid&timezone=Europe/London&use_labels_for_header=true&csv_separator=%3B\n",
      "Resolviendo public.opendatasoft.com (public.opendatasoft.com)... 34.248.20.69, 34.249.199.226\n",
      "Conectando con public.opendatasoft.com (public.opendatasoft.com)[34.248.20.69]:443... conectado.\n",
      "Petición HTTP enviada, esperando respuesta... 200 OK\n",
      "Longitud: no especificado [application/csv]\n",
      "Guardando como: “Data/airbnb-listings.csv”\n",
      "\n",
      "Data/airbnb-listing     [<=>                 ]  54,31M  3,18MB/s    en 19s     \n",
      "\n",
      "2021-12-27 08:16:47 (2,90 MB/s) - “Data/airbnb-listings.csv” guardado [56950929]\n",
      "\n"
     ]
    }
   ],
   "source": [
    "!wget -O \"Data/airbnb-listings.csv\" \"https://public.opendatasoft.com/explore/dataset/airbnb-listings/download/?format=csv&disjunctive.host_verifications=true&disjunctive.amenities=true&disjunctive.features=true&refine.country=Spain&q=Madrid&timezone=Europe/London&use_labels_for_header=true&csv_separator=%3B\"\n",
    "df = pd.read_csv('Data/airbnb-listings.csv', sep = ';')\n",
    "!rm 'Data/airbnb-listings.csv'"
   ]
  },
  {
   "cell_type": "markdown",
   "id": "6293293d-3c4e-45ed-b91f-6155e4964279",
   "metadata": {
    "id": "6293293d-3c4e-45ed-b91f-6155e4964279"
   },
   "source": [
    "#### 0.2 Dividimos el dataset en train y test"
   ]
  },
  {
   "cell_type": "code",
   "execution_count": 3,
   "id": "085a92b5-f237-4bde-9afd-2fd8f413dcc1",
   "metadata": {
    "colab": {
     "base_uri": "https://localhost:8080/"
    },
    "id": "085a92b5-f237-4bde-9afd-2fd8f413dcc1",
    "outputId": "908ed3f2-9e18-4e40-b608-944117150ded",
    "tags": []
   },
   "outputs": [
    {
     "name": "stdout",
     "output_type": "stream",
     "text": [
      "Dimensiones del dataset de training: (11200, 89)\n",
      "Dimensiones del dataset de test: (2801, 89)\n"
     ]
    }
   ],
   "source": [
    "train, test = train_test_split(df, test_size=0.2, shuffle=True, random_state=0)\n",
    "\n",
    "print(f'Dimensiones del dataset de training: {train.shape}')\n",
    "print(f'Dimensiones del dataset de test: {test.shape}')\n",
    "\n",
    "train.to_csv('Data/train.csv', sep=';', decimal='.', index=False)\n",
    "test.to_csv('Data/test.csv', sep=';', decimal='.', index=False)"
   ]
  },
  {
   "cell_type": "markdown",
   "id": "7d0c72d1-9b0c-4205-8cbb-81da1fc5a002",
   "metadata": {
    "id": "7d0c72d1-9b0c-4205-8cbb-81da1fc5a002"
   },
   "source": [
    "#### 0.3 Cargamos el dataset para TRAINING "
   ]
  },
  {
   "cell_type": "code",
   "execution_count": 4,
   "id": "7b0b6fed-3239-4ed8-b35e-88a3d676f1e4",
   "metadata": {
    "colab": {
     "base_uri": "https://localhost:8080/",
     "height": 330
    },
    "id": "7b0b6fed-3239-4ed8-b35e-88a3d676f1e4",
    "outputId": "1b861e03-ba25-4e2d-a73b-36f8c581d151",
    "tags": []
   },
   "outputs": [
    {
     "name": "stderr",
     "output_type": "stream",
     "text": [
      "/media/jose/Repositorio/anaconda3/lib/python3.8/site-packages/IPython/core/interactiveshell.py:3441: DtypeWarning: Columns (40) have mixed types.Specify dtype option on import or set low_memory=False.\n",
      "  exec(code_obj, self.user_global_ns, self.user_ns)\n"
     ]
    },
    {
     "data": {
      "text/html": [
       "<div>\n",
       "<style scoped>\n",
       "    .dataframe tbody tr th:only-of-type {\n",
       "        vertical-align: middle;\n",
       "    }\n",
       "\n",
       "    .dataframe tbody tr th {\n",
       "        vertical-align: top;\n",
       "    }\n",
       "\n",
       "    .dataframe thead th {\n",
       "        text-align: right;\n",
       "    }\n",
       "</style>\n",
       "<table border=\"1\" class=\"dataframe\">\n",
       "  <thead>\n",
       "    <tr style=\"text-align: right;\">\n",
       "      <th></th>\n",
       "      <th>ID</th>\n",
       "      <th>Listing Url</th>\n",
       "      <th>Scrape ID</th>\n",
       "      <th>Last Scraped</th>\n",
       "      <th>Name</th>\n",
       "      <th>Summary</th>\n",
       "      <th>Space</th>\n",
       "      <th>Description</th>\n",
       "      <th>Experiences Offered</th>\n",
       "      <th>Neighborhood Overview</th>\n",
       "      <th>...</th>\n",
       "      <th>Review Scores Communication</th>\n",
       "      <th>Review Scores Location</th>\n",
       "      <th>Review Scores Value</th>\n",
       "      <th>License</th>\n",
       "      <th>Jurisdiction Names</th>\n",
       "      <th>Cancellation Policy</th>\n",
       "      <th>Calculated host listings count</th>\n",
       "      <th>Reviews per Month</th>\n",
       "      <th>Geolocation</th>\n",
       "      <th>Features</th>\n",
       "    </tr>\n",
       "  </thead>\n",
       "  <tbody>\n",
       "    <tr>\n",
       "      <th>0</th>\n",
       "      <td>17266729</td>\n",
       "      <td>https://www.airbnb.com/rooms/17266729</td>\n",
       "      <td>20170407214119</td>\n",
       "      <td>2017-04-08</td>\n",
       "      <td>Madrideasy</td>\n",
       "      <td>Apartamento luminoso, dormitorio privado para ...</td>\n",
       "      <td>NaN</td>\n",
       "      <td>Apartamento luminoso, dormitorio privado para ...</td>\n",
       "      <td>none</td>\n",
       "      <td>NaN</td>\n",
       "      <td>...</td>\n",
       "      <td>NaN</td>\n",
       "      <td>NaN</td>\n",
       "      <td>NaN</td>\n",
       "      <td>NaN</td>\n",
       "      <td>NaN</td>\n",
       "      <td>flexible</td>\n",
       "      <td>1</td>\n",
       "      <td>NaN</td>\n",
       "      <td>40.4028919826841,-3.6314734021675448</td>\n",
       "      <td>Host Has Profile Pic,Is Location Exact,Require...</td>\n",
       "    </tr>\n",
       "  </tbody>\n",
       "</table>\n",
       "<p>1 rows × 89 columns</p>\n",
       "</div>"
      ],
      "text/plain": [
       "         ID                            Listing Url       Scrape ID  \\\n",
       "0  17266729  https://www.airbnb.com/rooms/17266729  20170407214119   \n",
       "\n",
       "  Last Scraped        Name                                            Summary  \\\n",
       "0   2017-04-08  Madrideasy  Apartamento luminoso, dormitorio privado para ...   \n",
       "\n",
       "  Space                                        Description  \\\n",
       "0   NaN  Apartamento luminoso, dormitorio privado para ...   \n",
       "\n",
       "  Experiences Offered Neighborhood Overview  ... Review Scores Communication  \\\n",
       "0                none                   NaN  ...                         NaN   \n",
       "\n",
       "  Review Scores Location Review Scores Value License Jurisdiction Names  \\\n",
       "0                    NaN                 NaN     NaN                NaN   \n",
       "\n",
       "  Cancellation Policy Calculated host listings count Reviews per Month  \\\n",
       "0            flexible                              1               NaN   \n",
       "\n",
       "                            Geolocation  \\\n",
       "0  40.4028919826841,-3.6314734021675448   \n",
       "\n",
       "                                            Features  \n",
       "0  Host Has Profile Pic,Is Location Exact,Require...  \n",
       "\n",
       "[1 rows x 89 columns]"
      ]
     },
     "execution_count": 4,
     "metadata": {},
     "output_type": "execute_result"
    }
   ],
   "source": [
    "df_train = pd.read_csv('Data/train.csv', sep=';', decimal='.')\n",
    "df_train.head(1)"
   ]
  },
  {
   "cell_type": "code",
   "execution_count": 5,
   "id": "e009585b-e673-4bd8-9d53-0c25644415d5",
   "metadata": {
    "colab": {
     "base_uri": "https://localhost:8080/"
    },
    "id": "e009585b-e673-4bd8-9d53-0c25644415d5",
    "outputId": "f38fbab7-ebf0-441a-a85e-a0a94e99453e",
    "tags": []
   },
   "outputs": [
    {
     "data": {
      "text/plain": [
       "(11200, 89)"
      ]
     },
     "execution_count": 5,
     "metadata": {},
     "output_type": "execute_result"
    }
   ],
   "source": [
    "df_train.shape"
   ]
  },
  {
   "cell_type": "code",
   "execution_count": 6,
   "id": "7562e92e-a2d9-4496-99dd-99a058726982",
   "metadata": {
    "colab": {
     "base_uri": "https://localhost:8080/"
    },
    "id": "7562e92e-a2d9-4496-99dd-99a058726982",
    "outputId": "d7658d7a-0077-496f-d7d5-528454d223e1"
   },
   "outputs": [
    {
     "data": {
      "text/plain": [
       "Index(['ID', 'Listing Url', 'Scrape ID', 'Last Scraped', 'Name', 'Summary',\n",
       "       'Space', 'Description', 'Experiences Offered', 'Neighborhood Overview',\n",
       "       'Notes', 'Transit', 'Access', 'Interaction', 'House Rules',\n",
       "       'Thumbnail Url', 'Medium Url', 'Picture Url', 'XL Picture Url',\n",
       "       'Host ID', 'Host URL', 'Host Name', 'Host Since', 'Host Location',\n",
       "       'Host About', 'Host Response Time', 'Host Response Rate',\n",
       "       'Host Acceptance Rate', 'Host Thumbnail Url', 'Host Picture Url',\n",
       "       'Host Neighbourhood', 'Host Listings Count',\n",
       "       'Host Total Listings Count', 'Host Verifications', 'Street',\n",
       "       'Neighbourhood', 'Neighbourhood Cleansed',\n",
       "       'Neighbourhood Group Cleansed', 'City', 'State', 'Zipcode', 'Market',\n",
       "       'Smart Location', 'Country Code', 'Country', 'Latitude', 'Longitude',\n",
       "       'Property Type', 'Room Type', 'Accommodates', 'Bathrooms', 'Bedrooms',\n",
       "       'Beds', 'Bed Type', 'Amenities', 'Square Feet', 'Price', 'Weekly Price',\n",
       "       'Monthly Price', 'Security Deposit', 'Cleaning Fee', 'Guests Included',\n",
       "       'Extra People', 'Minimum Nights', 'Maximum Nights', 'Calendar Updated',\n",
       "       'Has Availability', 'Availability 30', 'Availability 60',\n",
       "       'Availability 90', 'Availability 365', 'Calendar last Scraped',\n",
       "       'Number of Reviews', 'First Review', 'Last Review',\n",
       "       'Review Scores Rating', 'Review Scores Accuracy',\n",
       "       'Review Scores Cleanliness', 'Review Scores Checkin',\n",
       "       'Review Scores Communication', 'Review Scores Location',\n",
       "       'Review Scores Value', 'License', 'Jurisdiction Names',\n",
       "       'Cancellation Policy', 'Calculated host listings count',\n",
       "       'Reviews per Month', 'Geolocation', 'Features'],\n",
       "      dtype='object')"
      ]
     },
     "execution_count": 6,
     "metadata": {},
     "output_type": "execute_result"
    }
   ],
   "source": [
    "df_train.columns"
   ]
  },
  {
   "cell_type": "markdown",
   "id": "6ab16bc2-6ff5-47e9-8307-f80be64fe476",
   "metadata": {
    "id": "6ab16bc2-6ff5-47e9-8307-f80be64fe476"
   },
   "source": [
    "## 1.1 - LIMPIEZA DE LOS DATOS DEL DATASET DE TRAINING"
   ]
  },
  {
   "cell_type": "markdown",
   "id": "18c3f9ac-199c-488e-b6e5-e85385db2273",
   "metadata": {
    "id": "18c3f9ac-199c-488e-b6e5-e85385db2273"
   },
   "source": [
    "#### 1.1 - LIMPIEZA DE COLUMNAS"
   ]
  },
  {
   "cell_type": "code",
   "execution_count": 7,
   "id": "018d47c1-1d72-437e-ac74-3dd9eda18fce",
   "metadata": {
    "colab": {
     "base_uri": "https://localhost:8080/",
     "height": 0
    },
    "id": "018d47c1-1d72-437e-ac74-3dd9eda18fce",
    "outputId": "59e557f5-946f-4257-90b5-d1f6b215ca6f",
    "tags": []
   },
   "outputs": [
    {
     "data": {
      "text/html": [
       "<div>\n",
       "<style scoped>\n",
       "    .dataframe tbody tr th:only-of-type {\n",
       "        vertical-align: middle;\n",
       "    }\n",
       "\n",
       "    .dataframe tbody tr th {\n",
       "        vertical-align: top;\n",
       "    }\n",
       "\n",
       "    .dataframe thead th {\n",
       "        text-align: right;\n",
       "    }\n",
       "</style>\n",
       "<table border=\"1\" class=\"dataframe\">\n",
       "  <thead>\n",
       "    <tr style=\"text-align: right;\">\n",
       "      <th></th>\n",
       "      <th>ID</th>\n",
       "      <th>Listing Url</th>\n",
       "      <th>Scrape ID</th>\n",
       "      <th>Last Scraped</th>\n",
       "      <th>Name</th>\n",
       "      <th>Summary</th>\n",
       "      <th>Space</th>\n",
       "      <th>Description</th>\n",
       "      <th>Experiences Offered</th>\n",
       "      <th>Neighborhood Overview</th>\n",
       "    </tr>\n",
       "  </thead>\n",
       "  <tbody>\n",
       "    <tr>\n",
       "      <th>0</th>\n",
       "      <td>17266729</td>\n",
       "      <td>https://www.airbnb.com/rooms/17266729</td>\n",
       "      <td>20170407214119</td>\n",
       "      <td>2017-04-08</td>\n",
       "      <td>Madrideasy</td>\n",
       "      <td>Apartamento luminoso, dormitorio privado para ...</td>\n",
       "      <td>NaN</td>\n",
       "      <td>Apartamento luminoso, dormitorio privado para ...</td>\n",
       "      <td>none</td>\n",
       "      <td>NaN</td>\n",
       "    </tr>\n",
       "    <tr>\n",
       "      <th>1</th>\n",
       "      <td>11705453</td>\n",
       "      <td>https://www.airbnb.com/rooms/11705453</td>\n",
       "      <td>20170407214119</td>\n",
       "      <td>2017-04-08</td>\n",
       "      <td>3 camas disponibles</td>\n",
       "      <td>Hola somos un grupo de amigos y nos sobran 3 c...</td>\n",
       "      <td>NaN</td>\n",
       "      <td>Hola somos un grupo de amigos y nos sobran 3 c...</td>\n",
       "      <td>none</td>\n",
       "      <td>NaN</td>\n",
       "    </tr>\n",
       "    <tr>\n",
       "      <th>2</th>\n",
       "      <td>12085078</td>\n",
       "      <td>https://www.airbnb.com/rooms/12085078</td>\n",
       "      <td>20170407214119</td>\n",
       "      <td>2017-04-08</td>\n",
       "      <td>Cozy room in beautiful apartment /Habitación d...</td>\n",
       "      <td>The neighborhood: perfectly located in the cen...</td>\n",
       "      <td>Our apartment is beautiful and spacious, perfe...</td>\n",
       "      <td>The neighborhood: perfectly located in the cen...</td>\n",
       "      <td>none</td>\n",
       "      <td>NaN</td>\n",
       "    </tr>\n",
       "    <tr>\n",
       "      <th>3</th>\n",
       "      <td>15669581</td>\n",
       "      <td>https://www.airbnb.com/rooms/15669581</td>\n",
       "      <td>20170407214119</td>\n",
       "      <td>2017-04-08</td>\n",
       "      <td>Gran Vía,Calle del Barco</td>\n",
       "      <td>Apartamento ubicado en la calle del barco 23, ...</td>\n",
       "      <td>NaN</td>\n",
       "      <td>Apartamento ubicado en la calle del barco 23, ...</td>\n",
       "      <td>none</td>\n",
       "      <td>NaN</td>\n",
       "    </tr>\n",
       "    <tr>\n",
       "      <th>4</th>\n",
       "      <td>17677054</td>\n",
       "      <td>https://www.airbnb.com/rooms/17677054</td>\n",
       "      <td>20170407214119</td>\n",
       "      <td>2017-04-08</td>\n",
       "      <td>DOUBLE ROOM MADRID CLOSE TO METRO SIMANCAS</td>\n",
       "      <td>Room in Madrid with bed of marriage, next to m...</td>\n",
       "      <td>Very quiet area. Excellent location along metr...</td>\n",
       "      <td>Room in Madrid with bed of marriage, next to m...</td>\n",
       "      <td>none</td>\n",
       "      <td>The neighborhood is a quiet area which is very...</td>\n",
       "    </tr>\n",
       "  </tbody>\n",
       "</table>\n",
       "</div>"
      ],
      "text/plain": [
       "         ID                            Listing Url       Scrape ID  \\\n",
       "0  17266729  https://www.airbnb.com/rooms/17266729  20170407214119   \n",
       "1  11705453  https://www.airbnb.com/rooms/11705453  20170407214119   \n",
       "2  12085078  https://www.airbnb.com/rooms/12085078  20170407214119   \n",
       "3  15669581  https://www.airbnb.com/rooms/15669581  20170407214119   \n",
       "4  17677054  https://www.airbnb.com/rooms/17677054  20170407214119   \n",
       "\n",
       "  Last Scraped                                               Name  \\\n",
       "0   2017-04-08                                         Madrideasy   \n",
       "1   2017-04-08                                3 camas disponibles   \n",
       "2   2017-04-08  Cozy room in beautiful apartment /Habitación d...   \n",
       "3   2017-04-08                           Gran Vía,Calle del Barco   \n",
       "4   2017-04-08         DOUBLE ROOM MADRID CLOSE TO METRO SIMANCAS   \n",
       "\n",
       "                                             Summary  \\\n",
       "0  Apartamento luminoso, dormitorio privado para ...   \n",
       "1  Hola somos un grupo de amigos y nos sobran 3 c...   \n",
       "2  The neighborhood: perfectly located in the cen...   \n",
       "3  Apartamento ubicado en la calle del barco 23, ...   \n",
       "4  Room in Madrid with bed of marriage, next to m...   \n",
       "\n",
       "                                               Space  \\\n",
       "0                                                NaN   \n",
       "1                                                NaN   \n",
       "2  Our apartment is beautiful and spacious, perfe...   \n",
       "3                                                NaN   \n",
       "4  Very quiet area. Excellent location along metr...   \n",
       "\n",
       "                                         Description Experiences Offered  \\\n",
       "0  Apartamento luminoso, dormitorio privado para ...                none   \n",
       "1  Hola somos un grupo de amigos y nos sobran 3 c...                none   \n",
       "2  The neighborhood: perfectly located in the cen...                none   \n",
       "3  Apartamento ubicado en la calle del barco 23, ...                none   \n",
       "4  Room in Madrid with bed of marriage, next to m...                none   \n",
       "\n",
       "                               Neighborhood Overview  \n",
       "0                                                NaN  \n",
       "1                                                NaN  \n",
       "2                                                NaN  \n",
       "3                                                NaN  \n",
       "4  The neighborhood is a quiet area which is very...  "
      ]
     },
     "execution_count": 7,
     "metadata": {},
     "output_type": "execute_result"
    }
   ],
   "source": [
    "columnas = ['ID', 'Listing Url', 'Scrape ID', 'Last Scraped', 'Name', 'Summary', 'Space', 'Description', 'Experiences Offered', 'Neighborhood Overview']\n",
    "df_train.loc[:,columnas].head()"
   ]
  },
  {
   "cell_type": "code",
   "execution_count": 8,
   "id": "8a1a76d0-e69f-4956-a5d9-5608eb988fcf",
   "metadata": {
    "colab": {
     "base_uri": "https://localhost:8080/"
    },
    "id": "8a1a76d0-e69f-4956-a5d9-5608eb988fcf",
    "outputId": "4169d13d-42bb-4bf4-f154-b1ea7d5e55ff",
    "tags": []
   },
   "outputs": [
    {
     "name": "stdout",
     "output_type": "stream",
     "text": [
      "<class 'pandas.core.frame.DataFrame'>\n",
      "RangeIndex: 11200 entries, 0 to 11199\n",
      "Data columns (total 10 columns):\n",
      " #   Column                 Non-Null Count  Dtype \n",
      "---  ------                 --------------  ----- \n",
      " 0   ID                     11200 non-null  int64 \n",
      " 1   Listing Url            11200 non-null  object\n",
      " 2   Scrape ID              11200 non-null  int64 \n",
      " 3   Last Scraped           11200 non-null  object\n",
      " 4   Name                   11200 non-null  object\n",
      " 5   Summary                10755 non-null  object\n",
      " 6   Space                  8234 non-null   object\n",
      " 7   Description            11196 non-null  object\n",
      " 8   Experiences Offered    11200 non-null  object\n",
      " 9   Neighborhood Overview  6897 non-null   object\n",
      "dtypes: int64(2), object(8)\n",
      "memory usage: 875.1+ KB\n"
     ]
    }
   ],
   "source": [
    "df_train.loc[:,columnas].info()"
   ]
  },
  {
   "cell_type": "markdown",
   "id": "61990e38-680c-4bd8-888c-fddb153eee37",
   "metadata": {
    "id": "61990e38-680c-4bd8-888c-fddb153eee37"
   },
   "source": [
    "* no considero ninguna interesante pero mantendremos ID para la parte de Deep learnig"
   ]
  },
  {
   "cell_type": "code",
   "execution_count": 9,
   "id": "8f850be4-46a6-4bee-b138-53ca29ae9983",
   "metadata": {
    "colab": {
     "base_uri": "https://localhost:8080/",
     "height": 0
    },
    "id": "8f850be4-46a6-4bee-b138-53ca29ae9983",
    "outputId": "1d6b7fa2-3816-4040-e187-6b935655a3c2",
    "tags": []
   },
   "outputs": [
    {
     "data": {
      "text/html": [
       "<div>\n",
       "<style scoped>\n",
       "    .dataframe tbody tr th:only-of-type {\n",
       "        vertical-align: middle;\n",
       "    }\n",
       "\n",
       "    .dataframe tbody tr th {\n",
       "        vertical-align: top;\n",
       "    }\n",
       "\n",
       "    .dataframe thead th {\n",
       "        text-align: right;\n",
       "    }\n",
       "</style>\n",
       "<table border=\"1\" class=\"dataframe\">\n",
       "  <thead>\n",
       "    <tr style=\"text-align: right;\">\n",
       "      <th></th>\n",
       "      <th>Notes</th>\n",
       "      <th>Transit</th>\n",
       "      <th>Access</th>\n",
       "      <th>Interaction</th>\n",
       "      <th>House Rules</th>\n",
       "      <th>Thumbnail Url</th>\n",
       "      <th>Medium Url</th>\n",
       "      <th>Picture Url</th>\n",
       "      <th>XL Picture Url</th>\n",
       "    </tr>\n",
       "  </thead>\n",
       "  <tbody>\n",
       "    <tr>\n",
       "      <th>0</th>\n",
       "      <td>NaN</td>\n",
       "      <td>NaN</td>\n",
       "      <td>NaN</td>\n",
       "      <td>NaN</td>\n",
       "      <td>NaN</td>\n",
       "      <td>https://a0.muscache.com/im/pictures/8c5a3d48-a...</td>\n",
       "      <td>https://a0.muscache.com/im/pictures/8c5a3d48-a...</td>\n",
       "      <td>https://public.opendatasoft.com/api/v2/catalog...</td>\n",
       "      <td>https://a0.muscache.com/im/pictures/8c5a3d48-a...</td>\n",
       "    </tr>\n",
       "    <tr>\n",
       "      <th>1</th>\n",
       "      <td>NaN</td>\n",
       "      <td>NaN</td>\n",
       "      <td>NaN</td>\n",
       "      <td>NaN</td>\n",
       "      <td>NaN</td>\n",
       "      <td>https://a0.muscache.com/im/pictures/1025a532-5...</td>\n",
       "      <td>https://a0.muscache.com/im/pictures/1025a532-5...</td>\n",
       "      <td>https://public.opendatasoft.com/api/v2/catalog...</td>\n",
       "      <td>https://a0.muscache.com/im/pictures/1025a532-5...</td>\n",
       "    </tr>\n",
       "    <tr>\n",
       "      <th>2</th>\n",
       "      <td>Nothing else to note, come check out our apart...</td>\n",
       "      <td>NaN</td>\n",
       "      <td>Our guests will have access to the entire apar...</td>\n",
       "      <td>My roommate and I will be available to answer ...</td>\n",
       "      <td>No pets are allowed.  Other than that, not man...</td>\n",
       "      <td>https://a0.muscache.com/im/pictures/a81632df-9...</td>\n",
       "      <td>https://a0.muscache.com/im/pictures/a81632df-9...</td>\n",
       "      <td>https://public.opendatasoft.com/api/v2/catalog...</td>\n",
       "      <td>https://a0.muscache.com/im/pictures/a81632df-9...</td>\n",
       "    </tr>\n",
       "    <tr>\n",
       "      <th>3</th>\n",
       "      <td>NaN</td>\n",
       "      <td>NaN</td>\n",
       "      <td>NaN</td>\n",
       "      <td>NaN</td>\n",
       "      <td>Las normas de la casa son las más básicas y co...</td>\n",
       "      <td>https://a0.muscache.com/im/pictures/d8763c4b-e...</td>\n",
       "      <td>https://a0.muscache.com/im/pictures/d8763c4b-e...</td>\n",
       "      <td>https://public.opendatasoft.com/api/v2/catalog...</td>\n",
       "      <td>https://a0.muscache.com/im/pictures/d8763c4b-e...</td>\n",
       "    </tr>\n",
       "    <tr>\n",
       "      <th>4</th>\n",
       "      <td>We will coordinate with your arrival time to s...</td>\n",
       "      <td>In the photos you can see the Madrid metro to ...</td>\n",
       "      <td>The area has several supermarkets, terraces, b...</td>\n",
       "      <td>I like to respect the independence of my guest...</td>\n",
       "      <td>Los huéspedes no fumadores, deberán mantener l...</td>\n",
       "      <td>https://a0.muscache.com/im/pictures/f8f852ec-8...</td>\n",
       "      <td>https://a0.muscache.com/im/pictures/f8f852ec-8...</td>\n",
       "      <td>https://public.opendatasoft.com/api/v2/catalog...</td>\n",
       "      <td>https://a0.muscache.com/im/pictures/f8f852ec-8...</td>\n",
       "    </tr>\n",
       "  </tbody>\n",
       "</table>\n",
       "</div>"
      ],
      "text/plain": [
       "                                               Notes  \\\n",
       "0                                                NaN   \n",
       "1                                                NaN   \n",
       "2  Nothing else to note, come check out our apart...   \n",
       "3                                                NaN   \n",
       "4  We will coordinate with your arrival time to s...   \n",
       "\n",
       "                                             Transit  \\\n",
       "0                                                NaN   \n",
       "1                                                NaN   \n",
       "2                                                NaN   \n",
       "3                                                NaN   \n",
       "4  In the photos you can see the Madrid metro to ...   \n",
       "\n",
       "                                              Access  \\\n",
       "0                                                NaN   \n",
       "1                                                NaN   \n",
       "2  Our guests will have access to the entire apar...   \n",
       "3                                                NaN   \n",
       "4  The area has several supermarkets, terraces, b...   \n",
       "\n",
       "                                         Interaction  \\\n",
       "0                                                NaN   \n",
       "1                                                NaN   \n",
       "2  My roommate and I will be available to answer ...   \n",
       "3                                                NaN   \n",
       "4  I like to respect the independence of my guest...   \n",
       "\n",
       "                                         House Rules  \\\n",
       "0                                                NaN   \n",
       "1                                                NaN   \n",
       "2  No pets are allowed.  Other than that, not man...   \n",
       "3  Las normas de la casa son las más básicas y co...   \n",
       "4  Los huéspedes no fumadores, deberán mantener l...   \n",
       "\n",
       "                                       Thumbnail Url  \\\n",
       "0  https://a0.muscache.com/im/pictures/8c5a3d48-a...   \n",
       "1  https://a0.muscache.com/im/pictures/1025a532-5...   \n",
       "2  https://a0.muscache.com/im/pictures/a81632df-9...   \n",
       "3  https://a0.muscache.com/im/pictures/d8763c4b-e...   \n",
       "4  https://a0.muscache.com/im/pictures/f8f852ec-8...   \n",
       "\n",
       "                                          Medium Url  \\\n",
       "0  https://a0.muscache.com/im/pictures/8c5a3d48-a...   \n",
       "1  https://a0.muscache.com/im/pictures/1025a532-5...   \n",
       "2  https://a0.muscache.com/im/pictures/a81632df-9...   \n",
       "3  https://a0.muscache.com/im/pictures/d8763c4b-e...   \n",
       "4  https://a0.muscache.com/im/pictures/f8f852ec-8...   \n",
       "\n",
       "                                         Picture Url  \\\n",
       "0  https://public.opendatasoft.com/api/v2/catalog...   \n",
       "1  https://public.opendatasoft.com/api/v2/catalog...   \n",
       "2  https://public.opendatasoft.com/api/v2/catalog...   \n",
       "3  https://public.opendatasoft.com/api/v2/catalog...   \n",
       "4  https://public.opendatasoft.com/api/v2/catalog...   \n",
       "\n",
       "                                      XL Picture Url  \n",
       "0  https://a0.muscache.com/im/pictures/8c5a3d48-a...  \n",
       "1  https://a0.muscache.com/im/pictures/1025a532-5...  \n",
       "2  https://a0.muscache.com/im/pictures/a81632df-9...  \n",
       "3  https://a0.muscache.com/im/pictures/d8763c4b-e...  \n",
       "4  https://a0.muscache.com/im/pictures/f8f852ec-8...  "
      ]
     },
     "execution_count": 9,
     "metadata": {},
     "output_type": "execute_result"
    }
   ],
   "source": [
    "columnas = ['Notes', 'Transit', 'Access', 'Interaction', 'House Rules', 'Thumbnail Url', 'Medium Url', 'Picture Url', 'XL Picture Url']\n",
    "df_train.loc[:,columnas].head()"
   ]
  },
  {
   "cell_type": "code",
   "execution_count": 10,
   "id": "033cf023-4787-4dc6-817b-04753b74b804",
   "metadata": {
    "colab": {
     "base_uri": "https://localhost:8080/"
    },
    "id": "033cf023-4787-4dc6-817b-04753b74b804",
    "outputId": "8d72bdfb-27fe-4f18-a37f-cbdb944711de",
    "tags": []
   },
   "outputs": [
    {
     "name": "stdout",
     "output_type": "stream",
     "text": [
      "<class 'pandas.core.frame.DataFrame'>\n",
      "RangeIndex: 11200 entries, 0 to 11199\n",
      "Data columns (total 9 columns):\n",
      " #   Column          Non-Null Count  Dtype \n",
      "---  ------          --------------  ----- \n",
      " 0   Notes           4243 non-null   object\n",
      " 1   Transit         6844 non-null   object\n",
      " 2   Access          6299 non-null   object\n",
      " 3   Interaction     6231 non-null   object\n",
      " 4   House Rules     7305 non-null   object\n",
      " 5   Thumbnail Url   9020 non-null   object\n",
      " 6   Medium Url      9020 non-null   object\n",
      " 7   Picture Url     11173 non-null  object\n",
      " 8   XL Picture Url  9020 non-null   object\n",
      "dtypes: object(9)\n",
      "memory usage: 787.6+ KB\n"
     ]
    }
   ],
   "source": [
    "df_train.loc[:,columnas].info()"
   ]
  },
  {
   "cell_type": "markdown",
   "id": "666004ae-5553-4aea-b81d-a2010427f8a4",
   "metadata": {
    "id": "666004ae-5553-4aea-b81d-a2010427f8a4"
   },
   "source": [
    "* no considero ninguna interesante"
   ]
  },
  {
   "cell_type": "code",
   "execution_count": 11,
   "id": "2941f0de-e3bc-4c10-92ee-608e8a9df366",
   "metadata": {
    "colab": {
     "base_uri": "https://localhost:8080/",
     "height": 0
    },
    "id": "2941f0de-e3bc-4c10-92ee-608e8a9df366",
    "outputId": "3f50f5b9-a92d-4a94-984b-945571ab6548"
   },
   "outputs": [
    {
     "data": {
      "text/html": [
       "<div>\n",
       "<style scoped>\n",
       "    .dataframe tbody tr th:only-of-type {\n",
       "        vertical-align: middle;\n",
       "    }\n",
       "\n",
       "    .dataframe tbody tr th {\n",
       "        vertical-align: top;\n",
       "    }\n",
       "\n",
       "    .dataframe thead th {\n",
       "        text-align: right;\n",
       "    }\n",
       "</style>\n",
       "<table border=\"1\" class=\"dataframe\">\n",
       "  <thead>\n",
       "    <tr style=\"text-align: right;\">\n",
       "      <th></th>\n",
       "      <th>Host ID</th>\n",
       "      <th>Host URL</th>\n",
       "      <th>Host Name</th>\n",
       "      <th>Host Since</th>\n",
       "      <th>Host Location</th>\n",
       "      <th>Host About</th>\n",
       "      <th>Host Response Time</th>\n",
       "      <th>Host Response Rate</th>\n",
       "    </tr>\n",
       "  </thead>\n",
       "  <tbody>\n",
       "    <tr>\n",
       "      <th>0</th>\n",
       "      <td>116409682</td>\n",
       "      <td>https://www.airbnb.com/users/show/116409682</td>\n",
       "      <td>Manuel</td>\n",
       "      <td>2017-02-14</td>\n",
       "      <td>ES</td>\n",
       "      <td>NaN</td>\n",
       "      <td>within an hour</td>\n",
       "      <td>100.0</td>\n",
       "    </tr>\n",
       "    <tr>\n",
       "      <th>1</th>\n",
       "      <td>62222139</td>\n",
       "      <td>https://www.airbnb.com/users/show/62222139</td>\n",
       "      <td>Jose Miguel</td>\n",
       "      <td>2016-03-09</td>\n",
       "      <td>ES</td>\n",
       "      <td>NaN</td>\n",
       "      <td>NaN</td>\n",
       "      <td>NaN</td>\n",
       "    </tr>\n",
       "    <tr>\n",
       "      <th>2</th>\n",
       "      <td>34416678</td>\n",
       "      <td>https://www.airbnb.com/users/show/34416678</td>\n",
       "      <td>Maryem</td>\n",
       "      <td>2015-05-28</td>\n",
       "      <td>Madrid, Community of Madrid, Spain</td>\n",
       "      <td>NaN</td>\n",
       "      <td>within an hour</td>\n",
       "      <td>80.0</td>\n",
       "    </tr>\n",
       "    <tr>\n",
       "      <th>3</th>\n",
       "      <td>61386992</td>\n",
       "      <td>https://www.airbnb.com/users/show/61386992</td>\n",
       "      <td>Oscar</td>\n",
       "      <td>2016-03-03</td>\n",
       "      <td>Madrid, Community of Madrid, Spain</td>\n",
       "      <td>Soy una persona responsable, puntal , seria , ...</td>\n",
       "      <td>within an hour</td>\n",
       "      <td>100.0</td>\n",
       "    </tr>\n",
       "    <tr>\n",
       "      <th>4</th>\n",
       "      <td>118793746</td>\n",
       "      <td>https://www.airbnb.com/users/show/118793746</td>\n",
       "      <td>Jose</td>\n",
       "      <td>2017-03-02</td>\n",
       "      <td>ES</td>\n",
       "      <td>NaN</td>\n",
       "      <td>within an hour</td>\n",
       "      <td>100.0</td>\n",
       "    </tr>\n",
       "  </tbody>\n",
       "</table>\n",
       "</div>"
      ],
      "text/plain": [
       "     Host ID                                     Host URL    Host Name  \\\n",
       "0  116409682  https://www.airbnb.com/users/show/116409682       Manuel   \n",
       "1   62222139   https://www.airbnb.com/users/show/62222139  Jose Miguel   \n",
       "2   34416678   https://www.airbnb.com/users/show/34416678       Maryem   \n",
       "3   61386992   https://www.airbnb.com/users/show/61386992        Oscar   \n",
       "4  118793746  https://www.airbnb.com/users/show/118793746         Jose   \n",
       "\n",
       "   Host Since                       Host Location  \\\n",
       "0  2017-02-14                                  ES   \n",
       "1  2016-03-09                                  ES   \n",
       "2  2015-05-28  Madrid, Community of Madrid, Spain   \n",
       "3  2016-03-03  Madrid, Community of Madrid, Spain   \n",
       "4  2017-03-02                                  ES   \n",
       "\n",
       "                                          Host About Host Response Time  \\\n",
       "0                                                NaN     within an hour   \n",
       "1                                                NaN                NaN   \n",
       "2                                                NaN     within an hour   \n",
       "3  Soy una persona responsable, puntal , seria , ...     within an hour   \n",
       "4                                                NaN     within an hour   \n",
       "\n",
       "   Host Response Rate  \n",
       "0               100.0  \n",
       "1                 NaN  \n",
       "2                80.0  \n",
       "3               100.0  \n",
       "4               100.0  "
      ]
     },
     "execution_count": 11,
     "metadata": {},
     "output_type": "execute_result"
    }
   ],
   "source": [
    "columnas = ['Host ID', 'Host URL', 'Host Name', 'Host Since', 'Host Location', 'Host About', 'Host Response Time', 'Host Response Rate']\n",
    "df_train.loc[:,columnas].head()"
   ]
  },
  {
   "cell_type": "code",
   "execution_count": 12,
   "id": "e0f1c735-6547-4327-92c1-f86c002836fb",
   "metadata": {
    "colab": {
     "base_uri": "https://localhost:8080/"
    },
    "id": "e0f1c735-6547-4327-92c1-f86c002836fb",
    "outputId": "8a677204-d78e-4c6c-cbb2-b9f9bd595ab7"
   },
   "outputs": [
    {
     "name": "stdout",
     "output_type": "stream",
     "text": [
      "<class 'pandas.core.frame.DataFrame'>\n",
      "RangeIndex: 11200 entries, 0 to 11199\n",
      "Data columns (total 8 columns):\n",
      " #   Column              Non-Null Count  Dtype  \n",
      "---  ------              --------------  -----  \n",
      " 0   Host ID             11200 non-null  int64  \n",
      " 1   Host URL            11200 non-null  object \n",
      " 2   Host Name           11197 non-null  object \n",
      " 3   Host Since          11197 non-null  object \n",
      " 4   Host Location       11164 non-null  object \n",
      " 5   Host About          7103 non-null   object \n",
      " 6   Host Response Time  9778 non-null   object \n",
      " 7   Host Response Rate  9778 non-null   float64\n",
      "dtypes: float64(1), int64(1), object(6)\n",
      "memory usage: 700.1+ KB\n"
     ]
    }
   ],
   "source": [
    "df_train.loc[:,columnas].info()"
   ]
  },
  {
   "cell_type": "markdown",
   "id": "22fd4846-5d05-4c98-b47c-93058e8e5911",
   "metadata": {
    "id": "22fd4846-5d05-4c98-b47c-93058e8e5911"
   },
   "source": [
    "* Host Response Time: Tiempo de respuesta del anfitrión. Puede ser interesante.\n",
    "* Host Response Rate: Ratio de respuesta del anfitrión. Puede ser interesante."
   ]
  },
  {
   "cell_type": "code",
   "execution_count": 13,
   "id": "02a4a865-d758-4bf0-be90-ca5b60c1e761",
   "metadata": {
    "colab": {
     "base_uri": "https://localhost:8080/",
     "height": 0
    },
    "id": "02a4a865-d758-4bf0-be90-ca5b60c1e761",
    "outputId": "f5f928a8-6428-444c-8919-5fbc2a287236"
   },
   "outputs": [
    {
     "data": {
      "text/html": [
       "<div>\n",
       "<style scoped>\n",
       "    .dataframe tbody tr th:only-of-type {\n",
       "        vertical-align: middle;\n",
       "    }\n",
       "\n",
       "    .dataframe tbody tr th {\n",
       "        vertical-align: top;\n",
       "    }\n",
       "\n",
       "    .dataframe thead th {\n",
       "        text-align: right;\n",
       "    }\n",
       "</style>\n",
       "<table border=\"1\" class=\"dataframe\">\n",
       "  <thead>\n",
       "    <tr style=\"text-align: right;\">\n",
       "      <th></th>\n",
       "      <th>Host Acceptance Rate</th>\n",
       "      <th>Host Thumbnail Url</th>\n",
       "      <th>Host Picture Url</th>\n",
       "      <th>Host Neighbourhood</th>\n",
       "      <th>Host Listings Count</th>\n",
       "      <th>Host Total Listings Count</th>\n",
       "      <th>Host Verifications</th>\n",
       "      <th>Street</th>\n",
       "    </tr>\n",
       "  </thead>\n",
       "  <tbody>\n",
       "    <tr>\n",
       "      <th>0</th>\n",
       "      <td>NaN</td>\n",
       "      <td>https://a0.muscache.com/im/pictures/0595835b-1...</td>\n",
       "      <td>https://a0.muscache.com/im/pictures/0595835b-1...</td>\n",
       "      <td>Moratalaz</td>\n",
       "      <td>1.0</td>\n",
       "      <td>1.0</td>\n",
       "      <td>email,phone</td>\n",
       "      <td>Moratalaz, Madrid, Comunidad de Madrid 28030, ...</td>\n",
       "    </tr>\n",
       "    <tr>\n",
       "      <th>1</th>\n",
       "      <td>NaN</td>\n",
       "      <td>https://a0.muscache.com/im/pictures/a5ad98a7-f...</td>\n",
       "      <td>https://a0.muscache.com/im/pictures/a5ad98a7-f...</td>\n",
       "      <td>Embajadores</td>\n",
       "      <td>1.0</td>\n",
       "      <td>1.0</td>\n",
       "      <td>email,phone</td>\n",
       "      <td>Embajadores, Madrid, Comunidad de Madrid 28012...</td>\n",
       "    </tr>\n",
       "    <tr>\n",
       "      <th>2</th>\n",
       "      <td>NaN</td>\n",
       "      <td>https://a0.muscache.com/im/pictures/e5687f24-5...</td>\n",
       "      <td>https://a0.muscache.com/im/pictures/e5687f24-5...</td>\n",
       "      <td>La Latina</td>\n",
       "      <td>1.0</td>\n",
       "      <td>1.0</td>\n",
       "      <td>email,phone,reviews,jumio</td>\n",
       "      <td>La Latina, Madrid, Comunidad de Madrid 28012, ...</td>\n",
       "    </tr>\n",
       "    <tr>\n",
       "      <th>3</th>\n",
       "      <td>NaN</td>\n",
       "      <td>https://a0.muscache.com/im/pictures/c7cf6a81-0...</td>\n",
       "      <td>https://a0.muscache.com/im/pictures/c7cf6a81-0...</td>\n",
       "      <td>Argüelles</td>\n",
       "      <td>10.0</td>\n",
       "      <td>10.0</td>\n",
       "      <td>email,phone,facebook,reviews,jumio</td>\n",
       "      <td>Madrid, Comunidad de Madrid 28004, Spain</td>\n",
       "    </tr>\n",
       "    <tr>\n",
       "      <th>4</th>\n",
       "      <td>NaN</td>\n",
       "      <td>https://a0.muscache.com/im/pictures/e2d0af37-4...</td>\n",
       "      <td>https://a0.muscache.com/im/pictures/e2d0af37-4...</td>\n",
       "      <td>San Blas</td>\n",
       "      <td>2.0</td>\n",
       "      <td>2.0</td>\n",
       "      <td>email,phone,reviews</td>\n",
       "      <td>San Blas, Madrid, Comunidad de Madrid 28037, S...</td>\n",
       "    </tr>\n",
       "  </tbody>\n",
       "</table>\n",
       "</div>"
      ],
      "text/plain": [
       "   Host Acceptance Rate                                 Host Thumbnail Url  \\\n",
       "0                   NaN  https://a0.muscache.com/im/pictures/0595835b-1...   \n",
       "1                   NaN  https://a0.muscache.com/im/pictures/a5ad98a7-f...   \n",
       "2                   NaN  https://a0.muscache.com/im/pictures/e5687f24-5...   \n",
       "3                   NaN  https://a0.muscache.com/im/pictures/c7cf6a81-0...   \n",
       "4                   NaN  https://a0.muscache.com/im/pictures/e2d0af37-4...   \n",
       "\n",
       "                                    Host Picture Url Host Neighbourhood  \\\n",
       "0  https://a0.muscache.com/im/pictures/0595835b-1...          Moratalaz   \n",
       "1  https://a0.muscache.com/im/pictures/a5ad98a7-f...        Embajadores   \n",
       "2  https://a0.muscache.com/im/pictures/e5687f24-5...          La Latina   \n",
       "3  https://a0.muscache.com/im/pictures/c7cf6a81-0...          Argüelles   \n",
       "4  https://a0.muscache.com/im/pictures/e2d0af37-4...           San Blas   \n",
       "\n",
       "   Host Listings Count  Host Total Listings Count  \\\n",
       "0                  1.0                        1.0   \n",
       "1                  1.0                        1.0   \n",
       "2                  1.0                        1.0   \n",
       "3                 10.0                       10.0   \n",
       "4                  2.0                        2.0   \n",
       "\n",
       "                   Host Verifications  \\\n",
       "0                         email,phone   \n",
       "1                         email,phone   \n",
       "2           email,phone,reviews,jumio   \n",
       "3  email,phone,facebook,reviews,jumio   \n",
       "4                 email,phone,reviews   \n",
       "\n",
       "                                              Street  \n",
       "0  Moratalaz, Madrid, Comunidad de Madrid 28030, ...  \n",
       "1  Embajadores, Madrid, Comunidad de Madrid 28012...  \n",
       "2  La Latina, Madrid, Comunidad de Madrid 28012, ...  \n",
       "3           Madrid, Comunidad de Madrid 28004, Spain  \n",
       "4  San Blas, Madrid, Comunidad de Madrid 28037, S...  "
      ]
     },
     "execution_count": 13,
     "metadata": {},
     "output_type": "execute_result"
    }
   ],
   "source": [
    "columnas = ['Host Acceptance Rate', 'Host Thumbnail Url', 'Host Picture Url', 'Host Neighbourhood', 'Host Listings Count', 'Host Total Listings Count', 'Host Verifications', 'Street']\n",
    "df_train.loc[:,columnas].head()"
   ]
  },
  {
   "cell_type": "code",
   "execution_count": 14,
   "id": "26fdb886-cd2e-4227-94b7-ff3032716d51",
   "metadata": {
    "colab": {
     "base_uri": "https://localhost:8080/"
    },
    "id": "26fdb886-cd2e-4227-94b7-ff3032716d51",
    "outputId": "d3265698-d365-4e66-8be2-66dae1597db0"
   },
   "outputs": [
    {
     "name": "stdout",
     "output_type": "stream",
     "text": [
      "<class 'pandas.core.frame.DataFrame'>\n",
      "RangeIndex: 11200 entries, 0 to 11199\n",
      "Data columns (total 8 columns):\n",
      " #   Column                     Non-Null Count  Dtype  \n",
      "---  ------                     --------------  -----  \n",
      " 0   Host Acceptance Rate       0 non-null      float64\n",
      " 1   Host Thumbnail Url         11197 non-null  object \n",
      " 2   Host Picture Url           11197 non-null  object \n",
      " 3   Host Neighbourhood         8214 non-null   object \n",
      " 4   Host Listings Count        11197 non-null  float64\n",
      " 5   Host Total Listings Count  11197 non-null  float64\n",
      " 6   Host Verifications         11194 non-null  object \n",
      " 7   Street                     11200 non-null  object \n",
      "dtypes: float64(3), object(5)\n",
      "memory usage: 700.1+ KB\n"
     ]
    }
   ],
   "source": [
    "df_train.loc[:,columnas].info()"
   ]
  },
  {
   "cell_type": "markdown",
   "id": "8b470916-7807-4b79-ba2e-0a8c4683812d",
   "metadata": {
    "id": "8b470916-7807-4b79-ba2e-0a8c4683812d"
   },
   "source": [
    "* Host Verifications: Podría ser interesante considerar esta columna por el número de verificaciones. Sin embargo por simplificar la práctica no la voy a utilizar"
   ]
  },
  {
   "cell_type": "code",
   "execution_count": 15,
   "id": "b0fe0ab4-f43a-4bd8-9067-2b0b2cad777a",
   "metadata": {
    "colab": {
     "base_uri": "https://localhost:8080/",
     "height": 0
    },
    "id": "b0fe0ab4-f43a-4bd8-9067-2b0b2cad777a",
    "outputId": "51f8d81b-88f3-48c7-9e21-ec9b65783b44"
   },
   "outputs": [
    {
     "data": {
      "text/html": [
       "<div>\n",
       "<style scoped>\n",
       "    .dataframe tbody tr th:only-of-type {\n",
       "        vertical-align: middle;\n",
       "    }\n",
       "\n",
       "    .dataframe tbody tr th {\n",
       "        vertical-align: top;\n",
       "    }\n",
       "\n",
       "    .dataframe thead th {\n",
       "        text-align: right;\n",
       "    }\n",
       "</style>\n",
       "<table border=\"1\" class=\"dataframe\">\n",
       "  <thead>\n",
       "    <tr style=\"text-align: right;\">\n",
       "      <th></th>\n",
       "      <th>Neighbourhood</th>\n",
       "      <th>Neighbourhood Cleansed</th>\n",
       "      <th>Neighbourhood Group Cleansed</th>\n",
       "      <th>City</th>\n",
       "      <th>State</th>\n",
       "      <th>Zipcode</th>\n",
       "      <th>Market</th>\n",
       "    </tr>\n",
       "  </thead>\n",
       "  <tbody>\n",
       "    <tr>\n",
       "      <th>0</th>\n",
       "      <td>Moratalaz</td>\n",
       "      <td>Pavones</td>\n",
       "      <td>Moratalaz</td>\n",
       "      <td>Madrid</td>\n",
       "      <td>Comunidad de Madrid</td>\n",
       "      <td>28030</td>\n",
       "      <td>Madrid</td>\n",
       "    </tr>\n",
       "    <tr>\n",
       "      <th>1</th>\n",
       "      <td>Embajadores</td>\n",
       "      <td>Embajadores</td>\n",
       "      <td>Centro</td>\n",
       "      <td>Madrid</td>\n",
       "      <td>Comunidad de Madrid</td>\n",
       "      <td>28012</td>\n",
       "      <td>Madrid</td>\n",
       "    </tr>\n",
       "    <tr>\n",
       "      <th>2</th>\n",
       "      <td>La Latina</td>\n",
       "      <td>Embajadores</td>\n",
       "      <td>Centro</td>\n",
       "      <td>Madrid</td>\n",
       "      <td>Comunidad de Madrid</td>\n",
       "      <td>28012</td>\n",
       "      <td>Madrid</td>\n",
       "    </tr>\n",
       "    <tr>\n",
       "      <th>3</th>\n",
       "      <td>NaN</td>\n",
       "      <td>Universidad</td>\n",
       "      <td>Centro</td>\n",
       "      <td>Madrid</td>\n",
       "      <td>Comunidad de Madrid</td>\n",
       "      <td>28004</td>\n",
       "      <td>Madrid</td>\n",
       "    </tr>\n",
       "    <tr>\n",
       "      <th>4</th>\n",
       "      <td>San Blas</td>\n",
       "      <td>Simancas</td>\n",
       "      <td>San Blas - Canillejas</td>\n",
       "      <td>Madrid</td>\n",
       "      <td>Comunidad de Madrid</td>\n",
       "      <td>28037</td>\n",
       "      <td>Madrid</td>\n",
       "    </tr>\n",
       "  </tbody>\n",
       "</table>\n",
       "</div>"
      ],
      "text/plain": [
       "  Neighbourhood Neighbourhood Cleansed Neighbourhood Group Cleansed    City  \\\n",
       "0     Moratalaz                Pavones                    Moratalaz  Madrid   \n",
       "1   Embajadores            Embajadores                       Centro  Madrid   \n",
       "2     La Latina            Embajadores                       Centro  Madrid   \n",
       "3           NaN            Universidad                       Centro  Madrid   \n",
       "4      San Blas               Simancas        San Blas - Canillejas  Madrid   \n",
       "\n",
       "                 State Zipcode  Market  \n",
       "0  Comunidad de Madrid   28030  Madrid  \n",
       "1  Comunidad de Madrid   28012  Madrid  \n",
       "2  Comunidad de Madrid   28012  Madrid  \n",
       "3  Comunidad de Madrid   28004  Madrid  \n",
       "4  Comunidad de Madrid   28037  Madrid  "
      ]
     },
     "execution_count": 15,
     "metadata": {},
     "output_type": "execute_result"
    }
   ],
   "source": [
    "columnas = ['Neighbourhood', 'Neighbourhood Cleansed', 'Neighbourhood Group Cleansed', 'City', 'State', 'Zipcode', 'Market']\n",
    "df_train.loc[:,columnas].head()"
   ]
  },
  {
   "cell_type": "code",
   "execution_count": 16,
   "id": "905d4099-ffd4-4ac0-a7dd-f8bb1945ec01",
   "metadata": {
    "colab": {
     "base_uri": "https://localhost:8080/"
    },
    "id": "905d4099-ffd4-4ac0-a7dd-f8bb1945ec01",
    "outputId": "161bb87c-0005-499b-d7d7-a5e5b80d717b"
   },
   "outputs": [
    {
     "name": "stdout",
     "output_type": "stream",
     "text": [
      "<class 'pandas.core.frame.DataFrame'>\n",
      "RangeIndex: 11200 entries, 0 to 11199\n",
      "Data columns (total 7 columns):\n",
      " #   Column                        Non-Null Count  Dtype \n",
      "---  ------                        --------------  ----- \n",
      " 0   Neighbourhood                 7183 non-null   object\n",
      " 1   Neighbourhood Cleansed        11200 non-null  object\n",
      " 2   Neighbourhood Group Cleansed  10893 non-null  object\n",
      " 3   City                          11195 non-null  object\n",
      " 4   State                         11156 non-null  object\n",
      " 5   Zipcode                       10831 non-null  object\n",
      " 6   Market                        11160 non-null  object\n",
      "dtypes: object(7)\n",
      "memory usage: 612.6+ KB\n"
     ]
    }
   ],
   "source": [
    "df_train.loc[:,columnas].info()"
   ]
  },
  {
   "cell_type": "markdown",
   "id": "cff1c723-e939-41aa-9f22-707526b36ba0",
   "metadata": {
    "id": "cff1c723-e939-41aa-9f22-707526b36ba0"
   },
   "source": [
    "* Neighbourhood: Puede ser interesante.\n",
    "* City: Ciudad del inmueble. Puede ser interesante.\n",
    "* Zipcode: Puede ser interesante."
   ]
  },
  {
   "cell_type": "code",
   "execution_count": 17,
   "id": "cc4ca88c-660e-4799-9b42-9c5762e56c90",
   "metadata": {
    "colab": {
     "base_uri": "https://localhost:8080/",
     "height": 0
    },
    "id": "cc4ca88c-660e-4799-9b42-9c5762e56c90",
    "outputId": "db057f20-1e0f-45e4-964f-a469beb8844a"
   },
   "outputs": [
    {
     "data": {
      "text/html": [
       "<div>\n",
       "<style scoped>\n",
       "    .dataframe tbody tr th:only-of-type {\n",
       "        vertical-align: middle;\n",
       "    }\n",
       "\n",
       "    .dataframe tbody tr th {\n",
       "        vertical-align: top;\n",
       "    }\n",
       "\n",
       "    .dataframe thead th {\n",
       "        text-align: right;\n",
       "    }\n",
       "</style>\n",
       "<table border=\"1\" class=\"dataframe\">\n",
       "  <thead>\n",
       "    <tr style=\"text-align: right;\">\n",
       "      <th></th>\n",
       "      <th>Smart Location</th>\n",
       "      <th>Country Code</th>\n",
       "      <th>Country</th>\n",
       "      <th>Latitude</th>\n",
       "      <th>Longitude</th>\n",
       "      <th>Property Type</th>\n",
       "      <th>Room Type</th>\n",
       "      <th>Accommodates</th>\n",
       "      <th>Bathrooms</th>\n",
       "      <th>Bedrooms</th>\n",
       "      <th>Beds</th>\n",
       "      <th>Bed Type</th>\n",
       "      <th>Amenities</th>\n",
       "      <th>Square Feet</th>\n",
       "      <th>Price</th>\n",
       "      <th>Weekly Price</th>\n",
       "    </tr>\n",
       "  </thead>\n",
       "  <tbody>\n",
       "    <tr>\n",
       "      <th>0</th>\n",
       "      <td>Madrid, Spain</td>\n",
       "      <td>ES</td>\n",
       "      <td>Spain</td>\n",
       "      <td>40.402892</td>\n",
       "      <td>-3.631473</td>\n",
       "      <td>Apartment</td>\n",
       "      <td>Private room</td>\n",
       "      <td>2</td>\n",
       "      <td>1.0</td>\n",
       "      <td>1.0</td>\n",
       "      <td>1.0</td>\n",
       "      <td>Real Bed</td>\n",
       "      <td>TV,Wireless Internet,Elevator in building,Heat...</td>\n",
       "      <td>NaN</td>\n",
       "      <td>35.0</td>\n",
       "      <td>NaN</td>\n",
       "    </tr>\n",
       "    <tr>\n",
       "      <th>1</th>\n",
       "      <td>Madrid, Spain</td>\n",
       "      <td>ES</td>\n",
       "      <td>Spain</td>\n",
       "      <td>40.413236</td>\n",
       "      <td>-3.704446</td>\n",
       "      <td>Dorm</td>\n",
       "      <td>Shared room</td>\n",
       "      <td>3</td>\n",
       "      <td>0.0</td>\n",
       "      <td>1.0</td>\n",
       "      <td>3.0</td>\n",
       "      <td>Real Bed</td>\n",
       "      <td>Wireless Internet,Smoke detector,Fire extingui...</td>\n",
       "      <td>NaN</td>\n",
       "      <td>18.0</td>\n",
       "      <td>NaN</td>\n",
       "    </tr>\n",
       "    <tr>\n",
       "      <th>2</th>\n",
       "      <td>Madrid, Spain</td>\n",
       "      <td>ES</td>\n",
       "      <td>Spain</td>\n",
       "      <td>40.409787</td>\n",
       "      <td>-3.708065</td>\n",
       "      <td>Apartment</td>\n",
       "      <td>Private room</td>\n",
       "      <td>2</td>\n",
       "      <td>1.0</td>\n",
       "      <td>1.0</td>\n",
       "      <td>2.0</td>\n",
       "      <td>Real Bed</td>\n",
       "      <td>TV,Internet,Wireless Internet,Air conditioning...</td>\n",
       "      <td>NaN</td>\n",
       "      <td>36.0</td>\n",
       "      <td>NaN</td>\n",
       "    </tr>\n",
       "    <tr>\n",
       "      <th>3</th>\n",
       "      <td>Madrid, Spain</td>\n",
       "      <td>ES</td>\n",
       "      <td>Spain</td>\n",
       "      <td>40.421165</td>\n",
       "      <td>-3.701844</td>\n",
       "      <td>Apartment</td>\n",
       "      <td>Entire home/apt</td>\n",
       "      <td>4</td>\n",
       "      <td>1.0</td>\n",
       "      <td>1.0</td>\n",
       "      <td>2.0</td>\n",
       "      <td>Real Bed</td>\n",
       "      <td>TV,Internet,Wireless Internet,Air conditioning...</td>\n",
       "      <td>NaN</td>\n",
       "      <td>60.0</td>\n",
       "      <td>NaN</td>\n",
       "    </tr>\n",
       "    <tr>\n",
       "      <th>4</th>\n",
       "      <td>Madrid, Spain</td>\n",
       "      <td>ES</td>\n",
       "      <td>Spain</td>\n",
       "      <td>40.427572</td>\n",
       "      <td>-3.626478</td>\n",
       "      <td>Condominium</td>\n",
       "      <td>Private room</td>\n",
       "      <td>1</td>\n",
       "      <td>1.0</td>\n",
       "      <td>1.0</td>\n",
       "      <td>1.0</td>\n",
       "      <td>Real Bed</td>\n",
       "      <td>Wireless Internet,Breakfast,Washer,Dryer,First...</td>\n",
       "      <td>NaN</td>\n",
       "      <td>15.0</td>\n",
       "      <td>NaN</td>\n",
       "    </tr>\n",
       "  </tbody>\n",
       "</table>\n",
       "</div>"
      ],
      "text/plain": [
       "  Smart Location Country Code Country   Latitude  Longitude Property Type  \\\n",
       "0  Madrid, Spain           ES   Spain  40.402892  -3.631473     Apartment   \n",
       "1  Madrid, Spain           ES   Spain  40.413236  -3.704446          Dorm   \n",
       "2  Madrid, Spain           ES   Spain  40.409787  -3.708065     Apartment   \n",
       "3  Madrid, Spain           ES   Spain  40.421165  -3.701844     Apartment   \n",
       "4  Madrid, Spain           ES   Spain  40.427572  -3.626478   Condominium   \n",
       "\n",
       "         Room Type  Accommodates  Bathrooms  Bedrooms  Beds  Bed Type  \\\n",
       "0     Private room             2        1.0       1.0   1.0  Real Bed   \n",
       "1      Shared room             3        0.0       1.0   3.0  Real Bed   \n",
       "2     Private room             2        1.0       1.0   2.0  Real Bed   \n",
       "3  Entire home/apt             4        1.0       1.0   2.0  Real Bed   \n",
       "4     Private room             1        1.0       1.0   1.0  Real Bed   \n",
       "\n",
       "                                           Amenities  Square Feet  Price  \\\n",
       "0  TV,Wireless Internet,Elevator in building,Heat...          NaN   35.0   \n",
       "1  Wireless Internet,Smoke detector,Fire extingui...          NaN   18.0   \n",
       "2  TV,Internet,Wireless Internet,Air conditioning...          NaN   36.0   \n",
       "3  TV,Internet,Wireless Internet,Air conditioning...          NaN   60.0   \n",
       "4  Wireless Internet,Breakfast,Washer,Dryer,First...          NaN   15.0   \n",
       "\n",
       "   Weekly Price  \n",
       "0           NaN  \n",
       "1           NaN  \n",
       "2           NaN  \n",
       "3           NaN  \n",
       "4           NaN  "
      ]
     },
     "execution_count": 17,
     "metadata": {},
     "output_type": "execute_result"
    }
   ],
   "source": [
    "columnas = ['Smart Location', 'Country Code', 'Country', 'Latitude', 'Longitude', 'Property Type', 'Room Type', 'Accommodates', 'Bathrooms', 'Bedrooms', \n",
    "            'Beds', 'Bed Type', 'Amenities', 'Square Feet', 'Price', 'Weekly Price',]\n",
    "df_train.loc[:,columnas].head()"
   ]
  },
  {
   "cell_type": "code",
   "execution_count": 18,
   "id": "cbecff96-590e-4738-a826-cbf04fd84344",
   "metadata": {
    "colab": {
     "base_uri": "https://localhost:8080/"
    },
    "id": "cbecff96-590e-4738-a826-cbf04fd84344",
    "outputId": "549f448e-8c72-42de-d3bf-352feb85083d"
   },
   "outputs": [
    {
     "name": "stdout",
     "output_type": "stream",
     "text": [
      "<class 'pandas.core.frame.DataFrame'>\n",
      "RangeIndex: 11200 entries, 0 to 11199\n",
      "Data columns (total 16 columns):\n",
      " #   Column          Non-Null Count  Dtype  \n",
      "---  ------          --------------  -----  \n",
      " 0   Smart Location  11200 non-null  object \n",
      " 1   Country Code    11200 non-null  object \n",
      " 2   Country         11200 non-null  object \n",
      " 3   Latitude        11200 non-null  float64\n",
      " 4   Longitude       11200 non-null  float64\n",
      " 5   Property Type   11200 non-null  object \n",
      " 6   Room Type       11200 non-null  object \n",
      " 7   Accommodates    11200 non-null  int64  \n",
      " 8   Bathrooms       11154 non-null  float64\n",
      " 9   Bedrooms        11179 non-null  float64\n",
      " 10  Beds            11156 non-null  float64\n",
      " 11  Bed Type        11200 non-null  object \n",
      " 12  Amenities       11065 non-null  object \n",
      " 13  Square Feet     442 non-null    float64\n",
      " 14  Price           11191 non-null  float64\n",
      " 15  Weekly Price    2701 non-null   float64\n",
      "dtypes: float64(8), int64(1), object(7)\n",
      "memory usage: 1.4+ MB\n"
     ]
    }
   ],
   "source": [
    "df_train.loc[:,columnas].info()"
   ]
  },
  {
   "cell_type": "markdown",
   "id": "c77e4483-6939-497b-9118-64edc782ac85",
   "metadata": {
    "id": "c77e4483-6939-497b-9118-64edc782ac85"
   },
   "source": [
    "* Latitude: Latitud del inmueble. Puede ser interesante.\n",
    "* Longitude: Latitud del inmueble. Puede ser interesante.\n",
    "* Property Type: Tipo de inmueble, Puede ser interesante\n",
    "* Room Type: Tipo de alquiler, Puede ser interesante.\n",
    "* Accommodates: Número de personas que entran en el inmueble, Puede ser interesante.\n",
    "* Bathrooms: Número de baños que hay en el inmueble, Puede ser interesante.\n",
    "* Bedrooms: Número de dormitorios que hay en el inmueble, Puede ser interesante.\n",
    "* Amenities: Lo mismo que con 'Host Verifications'.\n",
    "* Square Feet: Número de pies cuadrados que tiene el inmueble, Puede ser interesante."
   ]
  },
  {
   "cell_type": "code",
   "execution_count": 19,
   "id": "50e9059d-033c-496c-9a4c-5200d0f9210c",
   "metadata": {
    "colab": {
     "base_uri": "https://localhost:8080/",
     "height": 0
    },
    "id": "50e9059d-033c-496c-9a4c-5200d0f9210c",
    "outputId": "c4d4a255-55ad-400a-a01f-496296c5531b"
   },
   "outputs": [
    {
     "data": {
      "text/html": [
       "<div>\n",
       "<style scoped>\n",
       "    .dataframe tbody tr th:only-of-type {\n",
       "        vertical-align: middle;\n",
       "    }\n",
       "\n",
       "    .dataframe tbody tr th {\n",
       "        vertical-align: top;\n",
       "    }\n",
       "\n",
       "    .dataframe thead th {\n",
       "        text-align: right;\n",
       "    }\n",
       "</style>\n",
       "<table border=\"1\" class=\"dataframe\">\n",
       "  <thead>\n",
       "    <tr style=\"text-align: right;\">\n",
       "      <th></th>\n",
       "      <th>Security Deposit</th>\n",
       "      <th>Cleaning Fee</th>\n",
       "      <th>Guests Included</th>\n",
       "      <th>Extra People</th>\n",
       "      <th>Minimum Nights</th>\n",
       "      <th>Maximum Nights</th>\n",
       "      <th>Calendar Updated</th>\n",
       "      <th>Has Availability</th>\n",
       "      <th>Availability 30</th>\n",
       "      <th>Availability 60</th>\n",
       "      <th>Availability 90</th>\n",
       "      <th>Availability 365</th>\n",
       "      <th>Calendar last Scraped</th>\n",
       "    </tr>\n",
       "  </thead>\n",
       "  <tbody>\n",
       "    <tr>\n",
       "      <th>0</th>\n",
       "      <td>NaN</td>\n",
       "      <td>NaN</td>\n",
       "      <td>1</td>\n",
       "      <td>0</td>\n",
       "      <td>1</td>\n",
       "      <td>1125</td>\n",
       "      <td>6 weeks ago</td>\n",
       "      <td>NaN</td>\n",
       "      <td>29</td>\n",
       "      <td>59</td>\n",
       "      <td>89</td>\n",
       "      <td>89</td>\n",
       "      <td>2017-04-08</td>\n",
       "    </tr>\n",
       "    <tr>\n",
       "      <th>1</th>\n",
       "      <td>NaN</td>\n",
       "      <td>NaN</td>\n",
       "      <td>1</td>\n",
       "      <td>0</td>\n",
       "      <td>1</td>\n",
       "      <td>1125</td>\n",
       "      <td>13 months ago</td>\n",
       "      <td>NaN</td>\n",
       "      <td>0</td>\n",
       "      <td>0</td>\n",
       "      <td>0</td>\n",
       "      <td>0</td>\n",
       "      <td>2017-04-08</td>\n",
       "    </tr>\n",
       "    <tr>\n",
       "      <th>2</th>\n",
       "      <td>NaN</td>\n",
       "      <td>15.0</td>\n",
       "      <td>1</td>\n",
       "      <td>10</td>\n",
       "      <td>1</td>\n",
       "      <td>1125</td>\n",
       "      <td>2 months ago</td>\n",
       "      <td>NaN</td>\n",
       "      <td>0</td>\n",
       "      <td>0</td>\n",
       "      <td>0</td>\n",
       "      <td>248</td>\n",
       "      <td>2017-04-08</td>\n",
       "    </tr>\n",
       "    <tr>\n",
       "      <th>3</th>\n",
       "      <td>100.0</td>\n",
       "      <td>30.0</td>\n",
       "      <td>2</td>\n",
       "      <td>15</td>\n",
       "      <td>2</td>\n",
       "      <td>1125</td>\n",
       "      <td>yesterday</td>\n",
       "      <td>NaN</td>\n",
       "      <td>4</td>\n",
       "      <td>8</td>\n",
       "      <td>8</td>\n",
       "      <td>8</td>\n",
       "      <td>2017-04-07</td>\n",
       "    </tr>\n",
       "    <tr>\n",
       "      <th>4</th>\n",
       "      <td>NaN</td>\n",
       "      <td>5.0</td>\n",
       "      <td>1</td>\n",
       "      <td>5</td>\n",
       "      <td>1</td>\n",
       "      <td>365</td>\n",
       "      <td>yesterday</td>\n",
       "      <td>NaN</td>\n",
       "      <td>23</td>\n",
       "      <td>53</td>\n",
       "      <td>83</td>\n",
       "      <td>358</td>\n",
       "      <td>2017-04-08</td>\n",
       "    </tr>\n",
       "  </tbody>\n",
       "</table>\n",
       "</div>"
      ],
      "text/plain": [
       "   Security Deposit  Cleaning Fee  Guests Included  Extra People  \\\n",
       "0               NaN           NaN                1             0   \n",
       "1               NaN           NaN                1             0   \n",
       "2               NaN          15.0                1            10   \n",
       "3             100.0          30.0                2            15   \n",
       "4               NaN           5.0                1             5   \n",
       "\n",
       "   Minimum Nights  Maximum Nights Calendar Updated  Has Availability  \\\n",
       "0               1            1125      6 weeks ago               NaN   \n",
       "1               1            1125    13 months ago               NaN   \n",
       "2               1            1125     2 months ago               NaN   \n",
       "3               2            1125        yesterday               NaN   \n",
       "4               1             365        yesterday               NaN   \n",
       "\n",
       "   Availability 30  Availability 60  Availability 90  Availability 365  \\\n",
       "0               29               59               89                89   \n",
       "1                0                0                0                 0   \n",
       "2                0                0                0               248   \n",
       "3                4                8                8                 8   \n",
       "4               23               53               83               358   \n",
       "\n",
       "  Calendar last Scraped  \n",
       "0            2017-04-08  \n",
       "1            2017-04-08  \n",
       "2            2017-04-08  \n",
       "3            2017-04-07  \n",
       "4            2017-04-08  "
      ]
     },
     "execution_count": 19,
     "metadata": {},
     "output_type": "execute_result"
    }
   ],
   "source": [
    "columnas = ['Security Deposit', 'Cleaning Fee', 'Guests Included', 'Extra People', 'Minimum Nights', 'Maximum Nights', 'Calendar Updated', 'Has Availability', 'Availability 30', 'Availability 60',\n",
    "       'Availability 90', 'Availability 365', 'Calendar last Scraped',]\n",
    "df_train.loc[:,columnas].head()"
   ]
  },
  {
   "cell_type": "code",
   "execution_count": 20,
   "id": "24e53862-d5c9-4764-8df8-08ac6f6c4647",
   "metadata": {
    "colab": {
     "base_uri": "https://localhost:8080/"
    },
    "id": "24e53862-d5c9-4764-8df8-08ac6f6c4647",
    "outputId": "e1756fce-69a6-43c3-96a5-df16fe78a208"
   },
   "outputs": [
    {
     "name": "stdout",
     "output_type": "stream",
     "text": [
      "<class 'pandas.core.frame.DataFrame'>\n",
      "RangeIndex: 11200 entries, 0 to 11199\n",
      "Data columns (total 13 columns):\n",
      " #   Column                 Non-Null Count  Dtype  \n",
      "---  ------                 --------------  -----  \n",
      " 0   Security Deposit       4786 non-null   float64\n",
      " 1   Cleaning Fee           6529 non-null   float64\n",
      " 2   Guests Included        11200 non-null  int64  \n",
      " 3   Extra People           11200 non-null  int64  \n",
      " 4   Minimum Nights         11200 non-null  int64  \n",
      " 5   Maximum Nights         11200 non-null  int64  \n",
      " 6   Calendar Updated       11200 non-null  object \n",
      " 7   Has Availability       0 non-null      float64\n",
      " 8   Availability 30        11200 non-null  int64  \n",
      " 9   Availability 60        11200 non-null  int64  \n",
      " 10  Availability 90        11200 non-null  int64  \n",
      " 11  Availability 365       11200 non-null  int64  \n",
      " 12  Calendar last Scraped  11200 non-null  object \n",
      "dtypes: float64(3), int64(8), object(2)\n",
      "memory usage: 1.1+ MB\n"
     ]
    }
   ],
   "source": [
    "df_train.loc[:,columnas].info()"
   ]
  },
  {
   "cell_type": "markdown",
   "id": "9013c445-a3c7-4e6a-9c86-6774bce96564",
   "metadata": {
    "id": "9013c445-a3c7-4e6a-9c86-6774bce96564"
   },
   "source": [
    "* Security Deposit: Fianza que pide el anfitrión, Puede ser interesante.\n",
    "* Cleaning Fee: Tasa de limpieza, Puede ser interesante.\n",
    "* Guests Included: Número de invitados adicionales que puedes alojar en el inmueble, Puede ser interesante.\n",
    "* Extra People: Importe a pagar por cada invitado adicional que puedes alojar en el inmueble, Puede ser interesante.\n",
    "* Minimum Nights: Noches mínimas a alquilar. Puede ser interesante.\n",
    "* Maximum Nights: Noches máximas a alquilar. Puede ser interesante.\n",
    "* Availability 30, 60, 90, 365: Días de disponibilidad en los proxímos 30, 60, 90 y 365 días, Puede ser interesante."
   ]
  },
  {
   "cell_type": "code",
   "execution_count": 21,
   "id": "4a7bf830-c528-42ae-9957-6cc9e789c34c",
   "metadata": {
    "colab": {
     "base_uri": "https://localhost:8080/",
     "height": 0
    },
    "id": "4a7bf830-c528-42ae-9957-6cc9e789c34c",
    "outputId": "e0a71190-7d54-4085-d764-daad93dbf4e8"
   },
   "outputs": [
    {
     "data": {
      "text/html": [
       "<div>\n",
       "<style scoped>\n",
       "    .dataframe tbody tr th:only-of-type {\n",
       "        vertical-align: middle;\n",
       "    }\n",
       "\n",
       "    .dataframe tbody tr th {\n",
       "        vertical-align: top;\n",
       "    }\n",
       "\n",
       "    .dataframe thead th {\n",
       "        text-align: right;\n",
       "    }\n",
       "</style>\n",
       "<table border=\"1\" class=\"dataframe\">\n",
       "  <thead>\n",
       "    <tr style=\"text-align: right;\">\n",
       "      <th></th>\n",
       "      <th>Number of Reviews</th>\n",
       "      <th>First Review</th>\n",
       "      <th>Last Review</th>\n",
       "      <th>Review Scores Rating</th>\n",
       "      <th>Review Scores Accuracy</th>\n",
       "      <th>Review Scores Cleanliness</th>\n",
       "      <th>Review Scores Checkin</th>\n",
       "      <th>Review Scores Communication</th>\n",
       "      <th>Review Scores Location</th>\n",
       "      <th>Review Scores Value</th>\n",
       "    </tr>\n",
       "  </thead>\n",
       "  <tbody>\n",
       "    <tr>\n",
       "      <th>0</th>\n",
       "      <td>0</td>\n",
       "      <td>NaN</td>\n",
       "      <td>NaN</td>\n",
       "      <td>NaN</td>\n",
       "      <td>NaN</td>\n",
       "      <td>NaN</td>\n",
       "      <td>NaN</td>\n",
       "      <td>NaN</td>\n",
       "      <td>NaN</td>\n",
       "      <td>NaN</td>\n",
       "    </tr>\n",
       "    <tr>\n",
       "      <th>1</th>\n",
       "      <td>0</td>\n",
       "      <td>NaN</td>\n",
       "      <td>NaN</td>\n",
       "      <td>NaN</td>\n",
       "      <td>NaN</td>\n",
       "      <td>NaN</td>\n",
       "      <td>NaN</td>\n",
       "      <td>NaN</td>\n",
       "      <td>NaN</td>\n",
       "      <td>NaN</td>\n",
       "    </tr>\n",
       "    <tr>\n",
       "      <th>2</th>\n",
       "      <td>10</td>\n",
       "      <td>2016-04-13</td>\n",
       "      <td>2016-10-31</td>\n",
       "      <td>94.0</td>\n",
       "      <td>10.0</td>\n",
       "      <td>9.0</td>\n",
       "      <td>10.0</td>\n",
       "      <td>10.0</td>\n",
       "      <td>10.0</td>\n",
       "      <td>10.0</td>\n",
       "    </tr>\n",
       "    <tr>\n",
       "      <th>3</th>\n",
       "      <td>7</td>\n",
       "      <td>2016-11-03</td>\n",
       "      <td>2017-04-02</td>\n",
       "      <td>77.0</td>\n",
       "      <td>8.0</td>\n",
       "      <td>8.0</td>\n",
       "      <td>7.0</td>\n",
       "      <td>8.0</td>\n",
       "      <td>10.0</td>\n",
       "      <td>7.0</td>\n",
       "    </tr>\n",
       "    <tr>\n",
       "      <th>4</th>\n",
       "      <td>2</td>\n",
       "      <td>2017-04-02</td>\n",
       "      <td>2017-04-04</td>\n",
       "      <td>80.0</td>\n",
       "      <td>10.0</td>\n",
       "      <td>8.0</td>\n",
       "      <td>10.0</td>\n",
       "      <td>10.0</td>\n",
       "      <td>7.0</td>\n",
       "      <td>9.0</td>\n",
       "    </tr>\n",
       "  </tbody>\n",
       "</table>\n",
       "</div>"
      ],
      "text/plain": [
       "   Number of Reviews First Review Last Review  Review Scores Rating  \\\n",
       "0                  0          NaN         NaN                   NaN   \n",
       "1                  0          NaN         NaN                   NaN   \n",
       "2                 10   2016-04-13  2016-10-31                  94.0   \n",
       "3                  7   2016-11-03  2017-04-02                  77.0   \n",
       "4                  2   2017-04-02  2017-04-04                  80.0   \n",
       "\n",
       "   Review Scores Accuracy  Review Scores Cleanliness  Review Scores Checkin  \\\n",
       "0                     NaN                        NaN                    NaN   \n",
       "1                     NaN                        NaN                    NaN   \n",
       "2                    10.0                        9.0                   10.0   \n",
       "3                     8.0                        8.0                    7.0   \n",
       "4                    10.0                        8.0                   10.0   \n",
       "\n",
       "   Review Scores Communication  Review Scores Location  Review Scores Value  \n",
       "0                          NaN                     NaN                  NaN  \n",
       "1                          NaN                     NaN                  NaN  \n",
       "2                         10.0                    10.0                 10.0  \n",
       "3                          8.0                    10.0                  7.0  \n",
       "4                         10.0                     7.0                  9.0  "
      ]
     },
     "execution_count": 21,
     "metadata": {},
     "output_type": "execute_result"
    }
   ],
   "source": [
    "columnas = ['Number of Reviews', 'First Review', 'Last Review', 'Review Scores Rating', 'Review Scores Accuracy', 'Review Scores Cleanliness', 'Review Scores Checkin',\n",
    "       'Review Scores Communication', 'Review Scores Location','Review Scores Value']\n",
    "df_train.loc[:,columnas].head()"
   ]
  },
  {
   "cell_type": "code",
   "execution_count": 22,
   "id": "999eb53d-8dc9-4b7a-9ae2-cfb378946c49",
   "metadata": {
    "colab": {
     "base_uri": "https://localhost:8080/"
    },
    "id": "999eb53d-8dc9-4b7a-9ae2-cfb378946c49",
    "outputId": "e4023ad2-69e4-4c4a-d43e-bc09db485cda"
   },
   "outputs": [
    {
     "name": "stdout",
     "output_type": "stream",
     "text": [
      "<class 'pandas.core.frame.DataFrame'>\n",
      "RangeIndex: 11200 entries, 0 to 11199\n",
      "Data columns (total 10 columns):\n",
      " #   Column                       Non-Null Count  Dtype  \n",
      "---  ------                       --------------  -----  \n",
      " 0   Number of Reviews            11200 non-null  int64  \n",
      " 1   First Review                 8777 non-null   object \n",
      " 2   Last Review                  8776 non-null   object \n",
      " 3   Review Scores Rating         8662 non-null   float64\n",
      " 4   Review Scores Accuracy       8643 non-null   float64\n",
      " 5   Review Scores Cleanliness    8650 non-null   float64\n",
      " 6   Review Scores Checkin        8636 non-null   float64\n",
      " 7   Review Scores Communication  8649 non-null   float64\n",
      " 8   Review Scores Location       8635 non-null   float64\n",
      " 9   Review Scores Value          8634 non-null   float64\n",
      "dtypes: float64(7), int64(1), object(2)\n",
      "memory usage: 875.1+ KB\n"
     ]
    }
   ],
   "source": [
    "df_train.loc[:,columnas].info()"
   ]
  },
  {
   "cell_type": "markdown",
   "id": "40414802-a90e-4cb1-a408-cf8efdec3240",
   "metadata": {
    "id": "40414802-a90e-4cb1-a408-cf8efdec3240"
   },
   "source": [
    "* Number of Reviews: Número de opiniones que tiene el inmueble, Puede ser interesante."
   ]
  },
  {
   "cell_type": "code",
   "execution_count": 23,
   "id": "2b5f50e9-5890-4f80-aef2-f3108074a649",
   "metadata": {
    "colab": {
     "base_uri": "https://localhost:8080/",
     "height": 0
    },
    "id": "2b5f50e9-5890-4f80-aef2-f3108074a649",
    "outputId": "e67831d8-cb4a-488c-fe45-5dd3ab524a7f"
   },
   "outputs": [
    {
     "data": {
      "text/html": [
       "<div>\n",
       "<style scoped>\n",
       "    .dataframe tbody tr th:only-of-type {\n",
       "        vertical-align: middle;\n",
       "    }\n",
       "\n",
       "    .dataframe tbody tr th {\n",
       "        vertical-align: top;\n",
       "    }\n",
       "\n",
       "    .dataframe thead th {\n",
       "        text-align: right;\n",
       "    }\n",
       "</style>\n",
       "<table border=\"1\" class=\"dataframe\">\n",
       "  <thead>\n",
       "    <tr style=\"text-align: right;\">\n",
       "      <th></th>\n",
       "      <th>License</th>\n",
       "      <th>Jurisdiction Names</th>\n",
       "      <th>Cancellation Policy</th>\n",
       "      <th>Calculated host listings count</th>\n",
       "      <th>Reviews per Month</th>\n",
       "      <th>Geolocation</th>\n",
       "      <th>Features</th>\n",
       "    </tr>\n",
       "  </thead>\n",
       "  <tbody>\n",
       "    <tr>\n",
       "      <th>0</th>\n",
       "      <td>NaN</td>\n",
       "      <td>NaN</td>\n",
       "      <td>flexible</td>\n",
       "      <td>1</td>\n",
       "      <td>NaN</td>\n",
       "      <td>40.4028919826841,-3.6314734021675448</td>\n",
       "      <td>Host Has Profile Pic,Is Location Exact,Require...</td>\n",
       "    </tr>\n",
       "    <tr>\n",
       "      <th>1</th>\n",
       "      <td>NaN</td>\n",
       "      <td>NaN</td>\n",
       "      <td>flexible</td>\n",
       "      <td>1</td>\n",
       "      <td>NaN</td>\n",
       "      <td>40.413236119069275,-3.704445855576793</td>\n",
       "      <td>Host Has Profile Pic,Is Location Exact,Require...</td>\n",
       "    </tr>\n",
       "    <tr>\n",
       "      <th>2</th>\n",
       "      <td>NaN</td>\n",
       "      <td>NaN</td>\n",
       "      <td>flexible</td>\n",
       "      <td>1</td>\n",
       "      <td>0.83</td>\n",
       "      <td>40.40978712478274,-3.7080645746370298</td>\n",
       "      <td>Host Is Superhost,Host Has Profile Pic,Host Id...</td>\n",
       "    </tr>\n",
       "    <tr>\n",
       "      <th>3</th>\n",
       "      <td>NaN</td>\n",
       "      <td>NaN</td>\n",
       "      <td>flexible</td>\n",
       "      <td>8</td>\n",
       "      <td>1.34</td>\n",
       "      <td>40.42116537029614,-3.7018438265369884</td>\n",
       "      <td>Host Has Profile Pic,Host Identity Verified,Re...</td>\n",
       "    </tr>\n",
       "    <tr>\n",
       "      <th>4</th>\n",
       "      <td>NaN</td>\n",
       "      <td>NaN</td>\n",
       "      <td>flexible</td>\n",
       "      <td>2</td>\n",
       "      <td>2.00</td>\n",
       "      <td>40.4275719336317,-3.6264776642923824</td>\n",
       "      <td>Host Has Profile Pic,Is Location Exact,Require...</td>\n",
       "    </tr>\n",
       "  </tbody>\n",
       "</table>\n",
       "</div>"
      ],
      "text/plain": [
       "  License  Jurisdiction Names Cancellation Policy  \\\n",
       "0     NaN                 NaN            flexible   \n",
       "1     NaN                 NaN            flexible   \n",
       "2     NaN                 NaN            flexible   \n",
       "3     NaN                 NaN            flexible   \n",
       "4     NaN                 NaN            flexible   \n",
       "\n",
       "   Calculated host listings count  Reviews per Month  \\\n",
       "0                               1                NaN   \n",
       "1                               1                NaN   \n",
       "2                               1               0.83   \n",
       "3                               8               1.34   \n",
       "4                               2               2.00   \n",
       "\n",
       "                             Geolocation  \\\n",
       "0   40.4028919826841,-3.6314734021675448   \n",
       "1  40.413236119069275,-3.704445855576793   \n",
       "2  40.40978712478274,-3.7080645746370298   \n",
       "3  40.42116537029614,-3.7018438265369884   \n",
       "4   40.4275719336317,-3.6264776642923824   \n",
       "\n",
       "                                            Features  \n",
       "0  Host Has Profile Pic,Is Location Exact,Require...  \n",
       "1  Host Has Profile Pic,Is Location Exact,Require...  \n",
       "2  Host Is Superhost,Host Has Profile Pic,Host Id...  \n",
       "3  Host Has Profile Pic,Host Identity Verified,Re...  \n",
       "4  Host Has Profile Pic,Is Location Exact,Require...  "
      ]
     },
     "execution_count": 23,
     "metadata": {},
     "output_type": "execute_result"
    }
   ],
   "source": [
    "columnas = ['License', 'Jurisdiction Names', 'Cancellation Policy', 'Calculated host listings count', 'Reviews per Month', 'Geolocation', 'Features']\n",
    "df_train.loc[:,columnas].head()"
   ]
  },
  {
   "cell_type": "code",
   "execution_count": 24,
   "id": "3e804eba-f53c-45c1-9776-de2c3268dffb",
   "metadata": {
    "colab": {
     "base_uri": "https://localhost:8080/"
    },
    "id": "3e804eba-f53c-45c1-9776-de2c3268dffb",
    "outputId": "ce70fcf2-ed3e-456e-9985-bbdf10b1fab3"
   },
   "outputs": [
    {
     "name": "stdout",
     "output_type": "stream",
     "text": [
      "<class 'pandas.core.frame.DataFrame'>\n",
      "RangeIndex: 11200 entries, 0 to 11199\n",
      "Data columns (total 7 columns):\n",
      " #   Column                          Non-Null Count  Dtype  \n",
      "---  ------                          --------------  -----  \n",
      " 0   License                         266 non-null    object \n",
      " 1   Jurisdiction Names              0 non-null      float64\n",
      " 2   Cancellation Policy             11200 non-null  object \n",
      " 3   Calculated host listings count  11200 non-null  int64  \n",
      " 4   Reviews per Month               8777 non-null   float64\n",
      " 5   Geolocation                     11200 non-null  object \n",
      " 6   Features                        11200 non-null  object \n",
      "dtypes: float64(2), int64(1), object(4)\n",
      "memory usage: 612.6+ KB\n"
     ]
    }
   ],
   "source": [
    "df_train.loc[:,columnas].info()"
   ]
  },
  {
   "cell_type": "markdown",
   "id": "5236a7f1-7dc5-42e1-8108-ccbad4e8f1ef",
   "metadata": {
    "id": "5236a7f1-7dc5-42e1-8108-ccbad4e8f1ef"
   },
   "source": [
    "* Cancellation Policy: Tipo de cancelación de reserva del inmueble, Puede ser interesante.\n",
    "* Calculated host listings count: Este campo es del que hablamos anteriormente, que mide la experiencia del anfitrión. Puede ser interesante.\n",
    "* Features: Lo mismo que con 'Host Verifications'"
   ]
  },
  {
   "cell_type": "markdown",
   "id": "47efa711-b226-44aa-a309-9c5e9d0496b0",
   "metadata": {
    "id": "47efa711-b226-44aa-a309-9c5e9d0496b0",
    "tags": []
   },
   "source": [
    "#### 1.2 TRANSFORMACIONES"
   ]
  },
  {
   "cell_type": "markdown",
   "id": "3839ad29-0633-45db-81be-7bd012a651b7",
   "metadata": {
    "id": "3839ad29-0633-45db-81be-7bd012a651b7"
   },
   "source": [
    "* Borramos las columnas que no hemos considerado interesantes."
   ]
  },
  {
   "cell_type": "code",
   "execution_count": 25,
   "id": "910dfe62-764a-4c87-83fe-13ae8c186719",
   "metadata": {
    "id": "910dfe62-764a-4c87-83fe-13ae8c186719"
   },
   "outputs": [],
   "source": [
    "df_train.drop([\n",
    "    'Listing Url', 'Scrape ID', 'Last Scraped', 'Name', 'Summary', 'Space', 'Description', \n",
    "    'Experiences Offered', 'Neighborhood Overview', 'Notes', 'Transit', 'Access', 'Interaction', \n",
    "    'House Rules', 'Thumbnail Url', 'Medium Url', 'XL Picture Url',\n",
    "    'Host ID', 'Host URL', 'Host Name', 'Host Since', 'Host Location', 'Host About', 'Host Acceptance Rate', \n",
    "    'Host Thumbnail Url', 'Host Picture Url', 'Host Neighbourhood', 'Host Listings Count', \n",
    "    'Host Total Listings Count', 'Host Verifications', 'Street', 'Neighbourhood Group Cleansed', 'State', 'Market',\n",
    "    'Smart Location', 'Country Code', 'Country', 'Beds', 'Bed Type', 'Amenities', 'Calendar Updated', 'Has Availability', \n",
    "    'Calendar last Scraped','First Review', 'Last Review', 'Review Scores Rating', 'Review Scores Accuracy',\n",
    "    'Review Scores Cleanliness', 'Review Scores Checkin','Review Scores Communication', \n",
    "    'Review Scores Location', 'Review Scores Value', 'License', 'Jurisdiction Names',\n",
    "    'Reviews per Month', 'Geolocation', 'Features' \n",
    "    ], \n",
    "    axis=1, inplace=True)"
   ]
  },
  {
   "cell_type": "markdown",
   "id": "9a8cecff-01ba-453c-b515-a52964cd4881",
   "metadata": {
    "id": "9a8cecff-01ba-453c-b515-a52964cd4881"
   },
   "source": [
    "* Rellenamos los datos faltantes de la columna Neighbourhood con los de Neighbourhood Cleansed y eliminamos esta columna que ya no será necesaria"
   ]
  },
  {
   "cell_type": "code",
   "execution_count": 26,
   "id": "14c7ff02-fd77-4dda-8aab-5da2fd358abd",
   "metadata": {
    "id": "14c7ff02-fd77-4dda-8aab-5da2fd358abd"
   },
   "outputs": [],
   "source": [
    "df_train['Neighbourhood'] = df_train['Neighbourhood'].fillna(df_train['Neighbourhood Cleansed'])\n",
    "df_train.drop(['Neighbourhood Cleansed'], axis=1, inplace=True)"
   ]
  },
  {
   "cell_type": "markdown",
   "id": "2a73b830-a842-4b28-bf37-2a640f9539b5",
   "metadata": {
    "id": "2a73b830-a842-4b28-bf37-2a640f9539b5"
   },
   "source": [
    "* Nos quedamos con los inmuebles de Madrid y eliminamos la columna City"
   ]
  },
  {
   "cell_type": "code",
   "execution_count": 27,
   "id": "62a3fbf7-60d9-41c3-a5b5-6349ef07073a",
   "metadata": {
    "colab": {
     "base_uri": "https://localhost:8080/"
    },
    "id": "62a3fbf7-60d9-41c3-a5b5-6349ef07073a",
    "outputId": "f427b4a6-0626-4e8b-87fa-2bcb20c54e74"
   },
   "outputs": [],
   "source": [
    "df_train = df_train[df_train['City'] == \"Madrid\"]\n",
    "df_train.drop(['City'], axis=1, inplace=True)"
   ]
  },
  {
   "cell_type": "code",
   "execution_count": 28,
   "id": "ef6bb66c-a86d-4557-bff3-a7d98befe5fe",
   "metadata": {
    "colab": {
     "base_uri": "https://localhost:8080/"
    },
    "id": "ef6bb66c-a86d-4557-bff3-a7d98befe5fe",
    "outputId": "7006e66c-ab80-44b8-b7da-2cd9df0ae7f9"
   },
   "outputs": [
    {
     "data": {
      "text/plain": [
       "(10563, 30)"
      ]
     },
     "execution_count": 28,
     "metadata": {},
     "output_type": "execute_result"
    }
   ],
   "source": [
    "df_train.shape"
   ]
  },
  {
   "cell_type": "code",
   "execution_count": 29,
   "id": "f00ef458-da6a-4605-b0a8-4083046f7958",
   "metadata": {
    "colab": {
     "base_uri": "https://localhost:8080/"
    },
    "id": "f00ef458-da6a-4605-b0a8-4083046f7958",
    "outputId": "3585840c-ef93-4ceb-9f9e-78f6377b30b3"
   },
   "outputs": [
    {
     "data": {
      "text/plain": [
       "Index(['ID', 'Picture Url', 'Host Response Time', 'Host Response Rate',\n",
       "       'Neighbourhood', 'Zipcode', 'Latitude', 'Longitude', 'Property Type',\n",
       "       'Room Type', 'Accommodates', 'Bathrooms', 'Bedrooms', 'Square Feet',\n",
       "       'Price', 'Weekly Price', 'Monthly Price', 'Security Deposit',\n",
       "       'Cleaning Fee', 'Guests Included', 'Extra People', 'Minimum Nights',\n",
       "       'Maximum Nights', 'Availability 30', 'Availability 60',\n",
       "       'Availability 90', 'Availability 365', 'Number of Reviews',\n",
       "       'Cancellation Policy', 'Calculated host listings count'],\n",
       "      dtype='object')"
      ]
     },
     "execution_count": 29,
     "metadata": {},
     "output_type": "execute_result"
    }
   ],
   "source": [
    "df_train.columns"
   ]
  },
  {
   "cell_type": "markdown",
   "id": "a4c54f1c-a9c3-4084-8383-dc2b98536950",
   "metadata": {
    "id": "a4c54f1c-a9c3-4084-8383-dc2b98536950"
   },
   "source": [
    "* De las 89 columnas iniciales nos hemos quedado con 30.\n",
    "* Nos quedan las 10563 filas de Madrid.\n",
    "### Mostramos una descripción de las columnas numéricas:"
   ]
  },
  {
   "cell_type": "code",
   "execution_count": 30,
   "id": "0e9bcc22-9012-4ed7-b3e0-acfbcae7cfee",
   "metadata": {
    "colab": {
     "base_uri": "https://localhost:8080/",
     "height": 770
    },
    "id": "0e9bcc22-9012-4ed7-b3e0-acfbcae7cfee",
    "outputId": "326e8994-638b-4ce9-9b68-edd56848ac56"
   },
   "outputs": [
    {
     "data": {
      "text/html": [
       "<div>\n",
       "<style scoped>\n",
       "    .dataframe tbody tr th:only-of-type {\n",
       "        vertical-align: middle;\n",
       "    }\n",
       "\n",
       "    .dataframe tbody tr th {\n",
       "        vertical-align: top;\n",
       "    }\n",
       "\n",
       "    .dataframe thead th {\n",
       "        text-align: right;\n",
       "    }\n",
       "</style>\n",
       "<table border=\"1\" class=\"dataframe\">\n",
       "  <thead>\n",
       "    <tr style=\"text-align: right;\">\n",
       "      <th></th>\n",
       "      <th>count</th>\n",
       "      <th>mean</th>\n",
       "      <th>std</th>\n",
       "      <th>min</th>\n",
       "      <th>25%</th>\n",
       "      <th>50%</th>\n",
       "      <th>75%</th>\n",
       "      <th>max</th>\n",
       "    </tr>\n",
       "  </thead>\n",
       "  <tbody>\n",
       "    <tr>\n",
       "      <th>ID</th>\n",
       "      <td>10563.0</td>\n",
       "      <td>1.041984e+07</td>\n",
       "      <td>5.514879e+06</td>\n",
       "      <td>19864.000000</td>\n",
       "      <td>5.806642e+06</td>\n",
       "      <td>1.154543e+07</td>\n",
       "      <td>1.537688e+07</td>\n",
       "      <td>1.810845e+07</td>\n",
       "    </tr>\n",
       "    <tr>\n",
       "      <th>Host Response Rate</th>\n",
       "      <td>9215.0</td>\n",
       "      <td>9.486989e+01</td>\n",
       "      <td>1.518800e+01</td>\n",
       "      <td>0.000000</td>\n",
       "      <td>1.000000e+02</td>\n",
       "      <td>1.000000e+02</td>\n",
       "      <td>1.000000e+02</td>\n",
       "      <td>1.000000e+02</td>\n",
       "    </tr>\n",
       "    <tr>\n",
       "      <th>Latitude</th>\n",
       "      <td>10563.0</td>\n",
       "      <td>4.042048e+01</td>\n",
       "      <td>2.000747e-02</td>\n",
       "      <td>40.331888</td>\n",
       "      <td>4.041003e+01</td>\n",
       "      <td>4.041857e+01</td>\n",
       "      <td>4.042773e+01</td>\n",
       "      <td>4.051425e+01</td>\n",
       "    </tr>\n",
       "    <tr>\n",
       "      <th>Longitude</th>\n",
       "      <td>10563.0</td>\n",
       "      <td>-3.697151e+00</td>\n",
       "      <td>2.339625e-02</td>\n",
       "      <td>-3.835498</td>\n",
       "      <td>-3.707816e+00</td>\n",
       "      <td>-3.701613e+00</td>\n",
       "      <td>-3.693854e+00</td>\n",
       "      <td>-3.573613e+00</td>\n",
       "    </tr>\n",
       "    <tr>\n",
       "      <th>Accommodates</th>\n",
       "      <td>10563.0</td>\n",
       "      <td>3.190382e+00</td>\n",
       "      <td>2.006903e+00</td>\n",
       "      <td>1.000000</td>\n",
       "      <td>2.000000e+00</td>\n",
       "      <td>2.000000e+00</td>\n",
       "      <td>4.000000e+00</td>\n",
       "      <td>1.600000e+01</td>\n",
       "    </tr>\n",
       "    <tr>\n",
       "      <th>Bathrooms</th>\n",
       "      <td>10519.0</td>\n",
       "      <td>1.253731e+00</td>\n",
       "      <td>6.033824e-01</td>\n",
       "      <td>0.000000</td>\n",
       "      <td>1.000000e+00</td>\n",
       "      <td>1.000000e+00</td>\n",
       "      <td>1.000000e+00</td>\n",
       "      <td>8.000000e+00</td>\n",
       "    </tr>\n",
       "    <tr>\n",
       "      <th>Bedrooms</th>\n",
       "      <td>10542.0</td>\n",
       "      <td>1.296244e+00</td>\n",
       "      <td>8.393278e-01</td>\n",
       "      <td>0.000000</td>\n",
       "      <td>1.000000e+00</td>\n",
       "      <td>1.000000e+00</td>\n",
       "      <td>2.000000e+00</td>\n",
       "      <td>1.000000e+01</td>\n",
       "    </tr>\n",
       "    <tr>\n",
       "      <th>Square Feet</th>\n",
       "      <td>400.0</td>\n",
       "      <td>3.440425e+02</td>\n",
       "      <td>4.907672e+02</td>\n",
       "      <td>0.000000</td>\n",
       "      <td>0.000000e+00</td>\n",
       "      <td>8.600000e+01</td>\n",
       "      <td>5.947500e+02</td>\n",
       "      <td>2.691000e+03</td>\n",
       "    </tr>\n",
       "    <tr>\n",
       "      <th>Price</th>\n",
       "      <td>10555.0</td>\n",
       "      <td>6.626196e+01</td>\n",
       "      <td>5.651328e+01</td>\n",
       "      <td>9.000000</td>\n",
       "      <td>3.100000e+01</td>\n",
       "      <td>5.200000e+01</td>\n",
       "      <td>8.000000e+01</td>\n",
       "      <td>8.750000e+02</td>\n",
       "    </tr>\n",
       "    <tr>\n",
       "      <th>Weekly Price</th>\n",
       "      <td>2652.0</td>\n",
       "      <td>3.690038e+02</td>\n",
       "      <td>1.928585e+02</td>\n",
       "      <td>70.000000</td>\n",
       "      <td>2.000000e+02</td>\n",
       "      <td>3.500000e+02</td>\n",
       "      <td>4.900000e+02</td>\n",
       "      <td>9.990000e+02</td>\n",
       "    </tr>\n",
       "    <tr>\n",
       "      <th>Monthly Price</th>\n",
       "      <td>2645.0</td>\n",
       "      <td>1.364836e+03</td>\n",
       "      <td>1.023575e+03</td>\n",
       "      <td>250.000000</td>\n",
       "      <td>7.000000e+02</td>\n",
       "      <td>1.200000e+03</td>\n",
       "      <td>1.700000e+03</td>\n",
       "      <td>2.500000e+04</td>\n",
       "    </tr>\n",
       "    <tr>\n",
       "      <th>Security Deposit</th>\n",
       "      <td>4538.0</td>\n",
       "      <td>1.842142e+02</td>\n",
       "      <td>1.106651e+02</td>\n",
       "      <td>70.000000</td>\n",
       "      <td>1.000000e+02</td>\n",
       "      <td>1.500000e+02</td>\n",
       "      <td>2.000000e+02</td>\n",
       "      <td>9.900000e+02</td>\n",
       "    </tr>\n",
       "    <tr>\n",
       "      <th>Cleaning Fee</th>\n",
       "      <td>6255.0</td>\n",
       "      <td>2.979600e+01</td>\n",
       "      <td>2.589623e+01</td>\n",
       "      <td>4.000000</td>\n",
       "      <td>1.500000e+01</td>\n",
       "      <td>2.500000e+01</td>\n",
       "      <td>3.500000e+01</td>\n",
       "      <td>5.000000e+02</td>\n",
       "    </tr>\n",
       "    <tr>\n",
       "      <th>Guests Included</th>\n",
       "      <td>10563.0</td>\n",
       "      <td>1.573227e+00</td>\n",
       "      <td>1.079324e+00</td>\n",
       "      <td>1.000000</td>\n",
       "      <td>1.000000e+00</td>\n",
       "      <td>1.000000e+00</td>\n",
       "      <td>2.000000e+00</td>\n",
       "      <td>1.500000e+01</td>\n",
       "    </tr>\n",
       "    <tr>\n",
       "      <th>Extra People</th>\n",
       "      <td>10563.0</td>\n",
       "      <td>7.422418e+00</td>\n",
       "      <td>1.086342e+01</td>\n",
       "      <td>0.000000</td>\n",
       "      <td>0.000000e+00</td>\n",
       "      <td>0.000000e+00</td>\n",
       "      <td>1.400000e+01</td>\n",
       "      <td>2.760000e+02</td>\n",
       "    </tr>\n",
       "    <tr>\n",
       "      <th>Minimum Nights</th>\n",
       "      <td>10563.0</td>\n",
       "      <td>3.062293e+00</td>\n",
       "      <td>1.408228e+01</td>\n",
       "      <td>1.000000</td>\n",
       "      <td>1.000000e+00</td>\n",
       "      <td>2.000000e+00</td>\n",
       "      <td>3.000000e+00</td>\n",
       "      <td>1.125000e+03</td>\n",
       "    </tr>\n",
       "    <tr>\n",
       "      <th>Maximum Nights</th>\n",
       "      <td>10563.0</td>\n",
       "      <td>8.804112e+02</td>\n",
       "      <td>2.010276e+03</td>\n",
       "      <td>1.000000</td>\n",
       "      <td>3.650000e+02</td>\n",
       "      <td>1.125000e+03</td>\n",
       "      <td>1.125000e+03</td>\n",
       "      <td>1.000000e+05</td>\n",
       "    </tr>\n",
       "    <tr>\n",
       "      <th>Availability 30</th>\n",
       "      <td>10563.0</td>\n",
       "      <td>8.799110e+00</td>\n",
       "      <td>9.100429e+00</td>\n",
       "      <td>0.000000</td>\n",
       "      <td>0.000000e+00</td>\n",
       "      <td>6.000000e+00</td>\n",
       "      <td>1.400000e+01</td>\n",
       "      <td>3.000000e+01</td>\n",
       "    </tr>\n",
       "    <tr>\n",
       "      <th>Availability 60</th>\n",
       "      <td>10563.0</td>\n",
       "      <td>2.306712e+01</td>\n",
       "      <td>1.952894e+01</td>\n",
       "      <td>0.000000</td>\n",
       "      <td>5.000000e+00</td>\n",
       "      <td>2.000000e+01</td>\n",
       "      <td>3.800000e+01</td>\n",
       "      <td>6.000000e+01</td>\n",
       "    </tr>\n",
       "    <tr>\n",
       "      <th>Availability 90</th>\n",
       "      <td>10563.0</td>\n",
       "      <td>4.032084e+01</td>\n",
       "      <td>2.934728e+01</td>\n",
       "      <td>0.000000</td>\n",
       "      <td>1.300000e+01</td>\n",
       "      <td>3.800000e+01</td>\n",
       "      <td>6.500000e+01</td>\n",
       "      <td>9.000000e+01</td>\n",
       "    </tr>\n",
       "    <tr>\n",
       "      <th>Availability 365</th>\n",
       "      <td>10563.0</td>\n",
       "      <td>2.058517e+02</td>\n",
       "      <td>1.269561e+02</td>\n",
       "      <td>0.000000</td>\n",
       "      <td>8.400000e+01</td>\n",
       "      <td>2.480000e+02</td>\n",
       "      <td>3.210000e+02</td>\n",
       "      <td>3.650000e+02</td>\n",
       "    </tr>\n",
       "    <tr>\n",
       "      <th>Number of Reviews</th>\n",
       "      <td>10563.0</td>\n",
       "      <td>2.294831e+01</td>\n",
       "      <td>3.806712e+01</td>\n",
       "      <td>0.000000</td>\n",
       "      <td>1.000000e+00</td>\n",
       "      <td>7.000000e+00</td>\n",
       "      <td>2.700000e+01</td>\n",
       "      <td>3.890000e+02</td>\n",
       "    </tr>\n",
       "    <tr>\n",
       "      <th>Calculated host listings count</th>\n",
       "      <td>10563.0</td>\n",
       "      <td>7.680394e+00</td>\n",
       "      <td>1.977421e+01</td>\n",
       "      <td>1.000000</td>\n",
       "      <td>1.000000e+00</td>\n",
       "      <td>2.000000e+00</td>\n",
       "      <td>4.000000e+00</td>\n",
       "      <td>1.450000e+02</td>\n",
       "    </tr>\n",
       "  </tbody>\n",
       "</table>\n",
       "</div>"
      ],
      "text/plain": [
       "                                  count          mean           std  \\\n",
       "ID                              10563.0  1.041984e+07  5.514879e+06   \n",
       "Host Response Rate               9215.0  9.486989e+01  1.518800e+01   \n",
       "Latitude                        10563.0  4.042048e+01  2.000747e-02   \n",
       "Longitude                       10563.0 -3.697151e+00  2.339625e-02   \n",
       "Accommodates                    10563.0  3.190382e+00  2.006903e+00   \n",
       "Bathrooms                       10519.0  1.253731e+00  6.033824e-01   \n",
       "Bedrooms                        10542.0  1.296244e+00  8.393278e-01   \n",
       "Square Feet                       400.0  3.440425e+02  4.907672e+02   \n",
       "Price                           10555.0  6.626196e+01  5.651328e+01   \n",
       "Weekly Price                     2652.0  3.690038e+02  1.928585e+02   \n",
       "Monthly Price                    2645.0  1.364836e+03  1.023575e+03   \n",
       "Security Deposit                 4538.0  1.842142e+02  1.106651e+02   \n",
       "Cleaning Fee                     6255.0  2.979600e+01  2.589623e+01   \n",
       "Guests Included                 10563.0  1.573227e+00  1.079324e+00   \n",
       "Extra People                    10563.0  7.422418e+00  1.086342e+01   \n",
       "Minimum Nights                  10563.0  3.062293e+00  1.408228e+01   \n",
       "Maximum Nights                  10563.0  8.804112e+02  2.010276e+03   \n",
       "Availability 30                 10563.0  8.799110e+00  9.100429e+00   \n",
       "Availability 60                 10563.0  2.306712e+01  1.952894e+01   \n",
       "Availability 90                 10563.0  4.032084e+01  2.934728e+01   \n",
       "Availability 365                10563.0  2.058517e+02  1.269561e+02   \n",
       "Number of Reviews               10563.0  2.294831e+01  3.806712e+01   \n",
       "Calculated host listings count  10563.0  7.680394e+00  1.977421e+01   \n",
       "\n",
       "                                         min           25%           50%  \\\n",
       "ID                              19864.000000  5.806642e+06  1.154543e+07   \n",
       "Host Response Rate                  0.000000  1.000000e+02  1.000000e+02   \n",
       "Latitude                           40.331888  4.041003e+01  4.041857e+01   \n",
       "Longitude                          -3.835498 -3.707816e+00 -3.701613e+00   \n",
       "Accommodates                        1.000000  2.000000e+00  2.000000e+00   \n",
       "Bathrooms                           0.000000  1.000000e+00  1.000000e+00   \n",
       "Bedrooms                            0.000000  1.000000e+00  1.000000e+00   \n",
       "Square Feet                         0.000000  0.000000e+00  8.600000e+01   \n",
       "Price                               9.000000  3.100000e+01  5.200000e+01   \n",
       "Weekly Price                       70.000000  2.000000e+02  3.500000e+02   \n",
       "Monthly Price                     250.000000  7.000000e+02  1.200000e+03   \n",
       "Security Deposit                   70.000000  1.000000e+02  1.500000e+02   \n",
       "Cleaning Fee                        4.000000  1.500000e+01  2.500000e+01   \n",
       "Guests Included                     1.000000  1.000000e+00  1.000000e+00   \n",
       "Extra People                        0.000000  0.000000e+00  0.000000e+00   \n",
       "Minimum Nights                      1.000000  1.000000e+00  2.000000e+00   \n",
       "Maximum Nights                      1.000000  3.650000e+02  1.125000e+03   \n",
       "Availability 30                     0.000000  0.000000e+00  6.000000e+00   \n",
       "Availability 60                     0.000000  5.000000e+00  2.000000e+01   \n",
       "Availability 90                     0.000000  1.300000e+01  3.800000e+01   \n",
       "Availability 365                    0.000000  8.400000e+01  2.480000e+02   \n",
       "Number of Reviews                   0.000000  1.000000e+00  7.000000e+00   \n",
       "Calculated host listings count      1.000000  1.000000e+00  2.000000e+00   \n",
       "\n",
       "                                         75%           max  \n",
       "ID                              1.537688e+07  1.810845e+07  \n",
       "Host Response Rate              1.000000e+02  1.000000e+02  \n",
       "Latitude                        4.042773e+01  4.051425e+01  \n",
       "Longitude                      -3.693854e+00 -3.573613e+00  \n",
       "Accommodates                    4.000000e+00  1.600000e+01  \n",
       "Bathrooms                       1.000000e+00  8.000000e+00  \n",
       "Bedrooms                        2.000000e+00  1.000000e+01  \n",
       "Square Feet                     5.947500e+02  2.691000e+03  \n",
       "Price                           8.000000e+01  8.750000e+02  \n",
       "Weekly Price                    4.900000e+02  9.990000e+02  \n",
       "Monthly Price                   1.700000e+03  2.500000e+04  \n",
       "Security Deposit                2.000000e+02  9.900000e+02  \n",
       "Cleaning Fee                    3.500000e+01  5.000000e+02  \n",
       "Guests Included                 2.000000e+00  1.500000e+01  \n",
       "Extra People                    1.400000e+01  2.760000e+02  \n",
       "Minimum Nights                  3.000000e+00  1.125000e+03  \n",
       "Maximum Nights                  1.125000e+03  1.000000e+05  \n",
       "Availability 30                 1.400000e+01  3.000000e+01  \n",
       "Availability 60                 3.800000e+01  6.000000e+01  \n",
       "Availability 90                 6.500000e+01  9.000000e+01  \n",
       "Availability 365                3.210000e+02  3.650000e+02  \n",
       "Number of Reviews               2.700000e+01  3.890000e+02  \n",
       "Calculated host listings count  4.000000e+00  1.450000e+02  "
      ]
     },
     "execution_count": 30,
     "metadata": {},
     "output_type": "execute_result"
    }
   ],
   "source": [
    "df_train.describe().T"
   ]
  },
  {
   "cell_type": "markdown",
   "id": "32132798-9f19-48f9-a5ef-5e1e51a9496a",
   "metadata": {
    "id": "32132798-9f19-48f9-a5ef-5e1e51a9496a"
   },
   "source": [
    "* Eliminamos SquareFeet, WeeklyPrice, Security Deposit, Cleaning Fee y MonthlyPrice porque tienen muy pocos datos."
   ]
  },
  {
   "cell_type": "code",
   "execution_count": 31,
   "id": "efc320c8-eebd-4a84-92bd-363ffd258df7",
   "metadata": {
    "id": "efc320c8-eebd-4a84-92bd-363ffd258df7"
   },
   "outputs": [],
   "source": [
    "df_train.drop(['Square Feet', 'Weekly Price', 'Monthly Price', 'Security Deposit', 'Cleaning Fee'], axis=1, inplace=True)"
   ]
  },
  {
   "cell_type": "markdown",
   "id": "0907007c-2a0d-41a4-b6dd-0ec8b766388d",
   "metadata": {
    "id": "0907007c-2a0d-41a4-b6dd-0ec8b766388d"
   },
   "source": [
    "* En la columna bathrooms rellenamos con valor 1."
   ]
  },
  {
   "cell_type": "code",
   "execution_count": 32,
   "id": "d00fd141-4d25-40e0-8f3a-eb0e8260d4dc",
   "metadata": {
    "id": "d00fd141-4d25-40e0-8f3a-eb0e8260d4dc"
   },
   "outputs": [],
   "source": [
    "df_train['Bathrooms'] = df_train['Bathrooms'].fillna(value=1)"
   ]
  },
  {
   "cell_type": "markdown",
   "id": "69c884e1-fbf4-4604-ab78-552305d6c8e5",
   "metadata": {
    "id": "69c884e1-fbf4-4604-ab78-552305d6c8e5"
   },
   "source": [
    "* Los Bedrooms que nos faltan los eliminamos, ya que son muy pocos respecto al dataset."
   ]
  },
  {
   "cell_type": "code",
   "execution_count": 33,
   "id": "a05ebab4-feb1-4974-b718-5c984dca1877",
   "metadata": {
    "colab": {
     "base_uri": "https://localhost:8080/"
    },
    "id": "a05ebab4-feb1-4974-b718-5c984dca1877",
    "outputId": "312eb1b3-f437-4313-9290-39ba2a2c218f"
   },
   "outputs": [
    {
     "data": {
      "text/plain": [
       "21"
      ]
     },
     "execution_count": 33,
     "metadata": {},
     "output_type": "execute_result"
    }
   ],
   "source": [
    "df_train['Bedrooms'].isnull().sum()"
   ]
  },
  {
   "cell_type": "code",
   "execution_count": 34,
   "id": "d510a717-8a7a-4319-9306-582b21fa2948",
   "metadata": {
    "id": "d510a717-8a7a-4319-9306-582b21fa2948"
   },
   "outputs": [],
   "source": [
    "df_train.drop(df_train[df_train['Bedrooms'].isnull()].index, inplace = True)"
   ]
  },
  {
   "cell_type": "markdown",
   "id": "0ff5f61f-f0a9-4fe1-96fd-f26100a0b12b",
   "metadata": {
    "id": "0ff5f61f-f0a9-4fe1-96fd-f26100a0b12b"
   },
   "source": [
    "* Los Price que nos faltan los eliminamos, ya que son muy pocos respecto al dataset."
   ]
  },
  {
   "cell_type": "code",
   "execution_count": 35,
   "id": "b30c0ac3-7ec2-41cf-bdeb-a5991c5f95ac",
   "metadata": {
    "colab": {
     "base_uri": "https://localhost:8080/"
    },
    "id": "b30c0ac3-7ec2-41cf-bdeb-a5991c5f95ac",
    "outputId": "b90a5632-83f9-43e7-ee1c-f605c3cfdbc2"
   },
   "outputs": [
    {
     "data": {
      "text/plain": [
       "8"
      ]
     },
     "execution_count": 35,
     "metadata": {},
     "output_type": "execute_result"
    }
   ],
   "source": [
    "df_train['Price'].isnull().sum()"
   ]
  },
  {
   "cell_type": "code",
   "execution_count": 36,
   "id": "d100a454-eb8f-4e18-a1f4-e791f758bfa7",
   "metadata": {
    "id": "d100a454-eb8f-4e18-a1f4-e791f758bfa7"
   },
   "outputs": [],
   "source": [
    "df_train.drop(df_train[df_train['Price'].isnull()].index, inplace = True)"
   ]
  },
  {
   "cell_type": "markdown",
   "id": "4aad1298-6eb2-4575-ae98-00fe897c78b3",
   "metadata": {
    "id": "4aad1298-6eb2-4575-ae98-00fe897c78b3"
   },
   "source": [
    "* Los Host Response Rate faltantes los relleraremos con su media, guardamos el valor para rellenar el dataset de test con la misma media."
   ]
  },
  {
   "cell_type": "code",
   "execution_count": 37,
   "id": "c4791674-87c2-457e-a116-456d0de6825c",
   "metadata": {
    "id": "c4791674-87c2-457e-a116-456d0de6825c"
   },
   "outputs": [],
   "source": [
    "df_train['Host Response Rate'].value_counts()\n",
    "mean_host_resp = df_train[\"Host Response Rate\"].mean()\n",
    "df_train[\"Host Response Rate\"].fillna(mean_host_resp, inplace=True)"
   ]
  },
  {
   "cell_type": "markdown",
   "id": "7becc0f3-d05f-40ed-964a-4e4195738251",
   "metadata": {
    "id": "7becc0f3-d05f-40ed-964a-4e4195738251"
   },
   "source": [
    "* Comprobamos que todos los datos numéricos están rellenos"
   ]
  },
  {
   "cell_type": "code",
   "execution_count": 38,
   "id": "1c79824d-c28d-4a6b-a12d-3d928fe094bb",
   "metadata": {
    "colab": {
     "base_uri": "https://localhost:8080/",
     "height": 614
    },
    "id": "1c79824d-c28d-4a6b-a12d-3d928fe094bb",
    "jupyter": {
     "outputs_hidden": true
    },
    "outputId": "2b880037-cf5d-4d02-ae76-3d677ff3de3a"
   },
   "outputs": [
    {
     "data": {
      "text/html": [
       "<div>\n",
       "<style scoped>\n",
       "    .dataframe tbody tr th:only-of-type {\n",
       "        vertical-align: middle;\n",
       "    }\n",
       "\n",
       "    .dataframe tbody tr th {\n",
       "        vertical-align: top;\n",
       "    }\n",
       "\n",
       "    .dataframe thead th {\n",
       "        text-align: right;\n",
       "    }\n",
       "</style>\n",
       "<table border=\"1\" class=\"dataframe\">\n",
       "  <thead>\n",
       "    <tr style=\"text-align: right;\">\n",
       "      <th></th>\n",
       "      <th>count</th>\n",
       "      <th>mean</th>\n",
       "      <th>std</th>\n",
       "      <th>min</th>\n",
       "      <th>25%</th>\n",
       "      <th>50%</th>\n",
       "      <th>75%</th>\n",
       "      <th>max</th>\n",
       "    </tr>\n",
       "  </thead>\n",
       "  <tbody>\n",
       "    <tr>\n",
       "      <th>ID</th>\n",
       "      <td>10534.0</td>\n",
       "      <td>1.041900e+07</td>\n",
       "      <td>5.510828e+06</td>\n",
       "      <td>19864.000000</td>\n",
       "      <td>5.811895e+06</td>\n",
       "      <td>1.154521e+07</td>\n",
       "      <td>1.537305e+07</td>\n",
       "      <td>1.810845e+07</td>\n",
       "    </tr>\n",
       "    <tr>\n",
       "      <th>Host Response Rate</th>\n",
       "      <td>10534.0</td>\n",
       "      <td>9.488507e+01</td>\n",
       "      <td>1.413834e+01</td>\n",
       "      <td>0.000000</td>\n",
       "      <td>9.488507e+01</td>\n",
       "      <td>1.000000e+02</td>\n",
       "      <td>1.000000e+02</td>\n",
       "      <td>1.000000e+02</td>\n",
       "    </tr>\n",
       "    <tr>\n",
       "      <th>Latitude</th>\n",
       "      <td>10534.0</td>\n",
       "      <td>4.042049e+01</td>\n",
       "      <td>2.001988e-02</td>\n",
       "      <td>40.331888</td>\n",
       "      <td>4.041005e+01</td>\n",
       "      <td>4.041855e+01</td>\n",
       "      <td>4.042774e+01</td>\n",
       "      <td>4.051425e+01</td>\n",
       "    </tr>\n",
       "    <tr>\n",
       "      <th>Longitude</th>\n",
       "      <td>10534.0</td>\n",
       "      <td>-3.697148e+00</td>\n",
       "      <td>2.338287e-02</td>\n",
       "      <td>-3.835498</td>\n",
       "      <td>-3.707807e+00</td>\n",
       "      <td>-3.701615e+00</td>\n",
       "      <td>-3.693855e+00</td>\n",
       "      <td>-3.573613e+00</td>\n",
       "    </tr>\n",
       "    <tr>\n",
       "      <th>Accommodates</th>\n",
       "      <td>10534.0</td>\n",
       "      <td>3.191665e+00</td>\n",
       "      <td>2.006683e+00</td>\n",
       "      <td>1.000000</td>\n",
       "      <td>2.000000e+00</td>\n",
       "      <td>2.000000e+00</td>\n",
       "      <td>4.000000e+00</td>\n",
       "      <td>1.600000e+01</td>\n",
       "    </tr>\n",
       "    <tr>\n",
       "      <th>Bathrooms</th>\n",
       "      <td>10534.0</td>\n",
       "      <td>1.251946e+00</td>\n",
       "      <td>5.991255e-01</td>\n",
       "      <td>0.000000</td>\n",
       "      <td>1.000000e+00</td>\n",
       "      <td>1.000000e+00</td>\n",
       "      <td>1.000000e+00</td>\n",
       "      <td>8.000000e+00</td>\n",
       "    </tr>\n",
       "    <tr>\n",
       "      <th>Bedrooms</th>\n",
       "      <td>10534.0</td>\n",
       "      <td>1.295804e+00</td>\n",
       "      <td>8.389929e-01</td>\n",
       "      <td>0.000000</td>\n",
       "      <td>1.000000e+00</td>\n",
       "      <td>1.000000e+00</td>\n",
       "      <td>2.000000e+00</td>\n",
       "      <td>1.000000e+01</td>\n",
       "    </tr>\n",
       "    <tr>\n",
       "      <th>Price</th>\n",
       "      <td>10534.0</td>\n",
       "      <td>6.630976e+01</td>\n",
       "      <td>5.654607e+01</td>\n",
       "      <td>9.000000</td>\n",
       "      <td>3.100000e+01</td>\n",
       "      <td>5.300000e+01</td>\n",
       "      <td>8.000000e+01</td>\n",
       "      <td>8.750000e+02</td>\n",
       "    </tr>\n",
       "    <tr>\n",
       "      <th>Guests Included</th>\n",
       "      <td>10534.0</td>\n",
       "      <td>1.574426e+00</td>\n",
       "      <td>1.080416e+00</td>\n",
       "      <td>1.000000</td>\n",
       "      <td>1.000000e+00</td>\n",
       "      <td>1.000000e+00</td>\n",
       "      <td>2.000000e+00</td>\n",
       "      <td>1.500000e+01</td>\n",
       "    </tr>\n",
       "    <tr>\n",
       "      <th>Extra People</th>\n",
       "      <td>10534.0</td>\n",
       "      <td>7.410385e+00</td>\n",
       "      <td>1.061258e+01</td>\n",
       "      <td>0.000000</td>\n",
       "      <td>0.000000e+00</td>\n",
       "      <td>0.000000e+00</td>\n",
       "      <td>1.400000e+01</td>\n",
       "      <td>2.760000e+02</td>\n",
       "    </tr>\n",
       "    <tr>\n",
       "      <th>Minimum Nights</th>\n",
       "      <td>10534.0</td>\n",
       "      <td>3.066262e+00</td>\n",
       "      <td>1.410133e+01</td>\n",
       "      <td>1.000000</td>\n",
       "      <td>1.000000e+00</td>\n",
       "      <td>2.000000e+00</td>\n",
       "      <td>3.000000e+00</td>\n",
       "      <td>1.125000e+03</td>\n",
       "    </tr>\n",
       "    <tr>\n",
       "      <th>Maximum Nights</th>\n",
       "      <td>10534.0</td>\n",
       "      <td>8.804056e+02</td>\n",
       "      <td>2.012911e+03</td>\n",
       "      <td>1.000000</td>\n",
       "      <td>3.650000e+02</td>\n",
       "      <td>1.125000e+03</td>\n",
       "      <td>1.125000e+03</td>\n",
       "      <td>1.000000e+05</td>\n",
       "    </tr>\n",
       "    <tr>\n",
       "      <th>Availability 30</th>\n",
       "      <td>10534.0</td>\n",
       "      <td>8.790678e+00</td>\n",
       "      <td>9.092317e+00</td>\n",
       "      <td>0.000000</td>\n",
       "      <td>0.000000e+00</td>\n",
       "      <td>6.000000e+00</td>\n",
       "      <td>1.400000e+01</td>\n",
       "      <td>3.000000e+01</td>\n",
       "    </tr>\n",
       "    <tr>\n",
       "      <th>Availability 60</th>\n",
       "      <td>10534.0</td>\n",
       "      <td>2.305383e+01</td>\n",
       "      <td>1.951874e+01</td>\n",
       "      <td>0.000000</td>\n",
       "      <td>5.000000e+00</td>\n",
       "      <td>2.000000e+01</td>\n",
       "      <td>3.800000e+01</td>\n",
       "      <td>6.000000e+01</td>\n",
       "    </tr>\n",
       "    <tr>\n",
       "      <th>Availability 90</th>\n",
       "      <td>10534.0</td>\n",
       "      <td>4.030368e+01</td>\n",
       "      <td>2.933418e+01</td>\n",
       "      <td>0.000000</td>\n",
       "      <td>1.300000e+01</td>\n",
       "      <td>3.800000e+01</td>\n",
       "      <td>6.500000e+01</td>\n",
       "      <td>9.000000e+01</td>\n",
       "    </tr>\n",
       "    <tr>\n",
       "      <th>Availability 365</th>\n",
       "      <td>10534.0</td>\n",
       "      <td>2.058567e+02</td>\n",
       "      <td>1.269551e+02</td>\n",
       "      <td>0.000000</td>\n",
       "      <td>8.400000e+01</td>\n",
       "      <td>2.480000e+02</td>\n",
       "      <td>3.210000e+02</td>\n",
       "      <td>3.650000e+02</td>\n",
       "    </tr>\n",
       "    <tr>\n",
       "      <th>Number of Reviews</th>\n",
       "      <td>10534.0</td>\n",
       "      <td>2.291513e+01</td>\n",
       "      <td>3.789415e+01</td>\n",
       "      <td>0.000000</td>\n",
       "      <td>1.000000e+00</td>\n",
       "      <td>7.000000e+00</td>\n",
       "      <td>2.700000e+01</td>\n",
       "      <td>3.890000e+02</td>\n",
       "    </tr>\n",
       "    <tr>\n",
       "      <th>Calculated host listings count</th>\n",
       "      <td>10534.0</td>\n",
       "      <td>7.681697e+00</td>\n",
       "      <td>1.975373e+01</td>\n",
       "      <td>1.000000</td>\n",
       "      <td>1.000000e+00</td>\n",
       "      <td>2.000000e+00</td>\n",
       "      <td>4.000000e+00</td>\n",
       "      <td>1.450000e+02</td>\n",
       "    </tr>\n",
       "  </tbody>\n",
       "</table>\n",
       "</div>"
      ],
      "text/plain": [
       "                                  count          mean           std  \\\n",
       "ID                              10534.0  1.041900e+07  5.510828e+06   \n",
       "Host Response Rate              10534.0  9.488507e+01  1.413834e+01   \n",
       "Latitude                        10534.0  4.042049e+01  2.001988e-02   \n",
       "Longitude                       10534.0 -3.697148e+00  2.338287e-02   \n",
       "Accommodates                    10534.0  3.191665e+00  2.006683e+00   \n",
       "Bathrooms                       10534.0  1.251946e+00  5.991255e-01   \n",
       "Bedrooms                        10534.0  1.295804e+00  8.389929e-01   \n",
       "Price                           10534.0  6.630976e+01  5.654607e+01   \n",
       "Guests Included                 10534.0  1.574426e+00  1.080416e+00   \n",
       "Extra People                    10534.0  7.410385e+00  1.061258e+01   \n",
       "Minimum Nights                  10534.0  3.066262e+00  1.410133e+01   \n",
       "Maximum Nights                  10534.0  8.804056e+02  2.012911e+03   \n",
       "Availability 30                 10534.0  8.790678e+00  9.092317e+00   \n",
       "Availability 60                 10534.0  2.305383e+01  1.951874e+01   \n",
       "Availability 90                 10534.0  4.030368e+01  2.933418e+01   \n",
       "Availability 365                10534.0  2.058567e+02  1.269551e+02   \n",
       "Number of Reviews               10534.0  2.291513e+01  3.789415e+01   \n",
       "Calculated host listings count  10534.0  7.681697e+00  1.975373e+01   \n",
       "\n",
       "                                         min           25%           50%  \\\n",
       "ID                              19864.000000  5.811895e+06  1.154521e+07   \n",
       "Host Response Rate                  0.000000  9.488507e+01  1.000000e+02   \n",
       "Latitude                           40.331888  4.041005e+01  4.041855e+01   \n",
       "Longitude                          -3.835498 -3.707807e+00 -3.701615e+00   \n",
       "Accommodates                        1.000000  2.000000e+00  2.000000e+00   \n",
       "Bathrooms                           0.000000  1.000000e+00  1.000000e+00   \n",
       "Bedrooms                            0.000000  1.000000e+00  1.000000e+00   \n",
       "Price                               9.000000  3.100000e+01  5.300000e+01   \n",
       "Guests Included                     1.000000  1.000000e+00  1.000000e+00   \n",
       "Extra People                        0.000000  0.000000e+00  0.000000e+00   \n",
       "Minimum Nights                      1.000000  1.000000e+00  2.000000e+00   \n",
       "Maximum Nights                      1.000000  3.650000e+02  1.125000e+03   \n",
       "Availability 30                     0.000000  0.000000e+00  6.000000e+00   \n",
       "Availability 60                     0.000000  5.000000e+00  2.000000e+01   \n",
       "Availability 90                     0.000000  1.300000e+01  3.800000e+01   \n",
       "Availability 365                    0.000000  8.400000e+01  2.480000e+02   \n",
       "Number of Reviews                   0.000000  1.000000e+00  7.000000e+00   \n",
       "Calculated host listings count      1.000000  1.000000e+00  2.000000e+00   \n",
       "\n",
       "                                         75%           max  \n",
       "ID                              1.537305e+07  1.810845e+07  \n",
       "Host Response Rate              1.000000e+02  1.000000e+02  \n",
       "Latitude                        4.042774e+01  4.051425e+01  \n",
       "Longitude                      -3.693855e+00 -3.573613e+00  \n",
       "Accommodates                    4.000000e+00  1.600000e+01  \n",
       "Bathrooms                       1.000000e+00  8.000000e+00  \n",
       "Bedrooms                        2.000000e+00  1.000000e+01  \n",
       "Price                           8.000000e+01  8.750000e+02  \n",
       "Guests Included                 2.000000e+00  1.500000e+01  \n",
       "Extra People                    1.400000e+01  2.760000e+02  \n",
       "Minimum Nights                  3.000000e+00  1.125000e+03  \n",
       "Maximum Nights                  1.125000e+03  1.000000e+05  \n",
       "Availability 30                 1.400000e+01  3.000000e+01  \n",
       "Availability 60                 3.800000e+01  6.000000e+01  \n",
       "Availability 90                 6.500000e+01  9.000000e+01  \n",
       "Availability 365                3.210000e+02  3.650000e+02  \n",
       "Number of Reviews               2.700000e+01  3.890000e+02  \n",
       "Calculated host listings count  4.000000e+00  1.450000e+02  "
      ]
     },
     "execution_count": 38,
     "metadata": {},
     "output_type": "execute_result"
    }
   ],
   "source": [
    "df_train.describe().T"
   ]
  },
  {
   "cell_type": "code",
   "execution_count": 39,
   "id": "37f4d015-5c97-41f4-b5e2-04ec848a87ed",
   "metadata": {
    "colab": {
     "base_uri": "https://localhost:8080/"
    },
    "id": "37f4d015-5c97-41f4-b5e2-04ec848a87ed",
    "jupyter": {
     "outputs_hidden": true
    },
    "outputId": "7dc7c633-982a-40e5-c436-c5d184866f24"
   },
   "outputs": [
    {
     "data": {
      "text/plain": [
       "(10534, 25)"
      ]
     },
     "execution_count": 39,
     "metadata": {},
     "output_type": "execute_result"
    }
   ],
   "source": [
    "df_train.shape"
   ]
  },
  {
   "cell_type": "markdown",
   "id": "e2bb818b-3230-40fa-9674-823774a5ef06",
   "metadata": {
    "id": "e2bb818b-3230-40fa-9674-823774a5ef06"
   },
   "source": [
    "## Columnas no numéricas.\n",
    "\n",
    "* El Zipcode aunque son números la codificamos porque que un código postal sea mayor o menor no quiere decir nada para el modelo."
   ]
  },
  {
   "cell_type": "markdown",
   "id": "78e8abac-e25c-4af2-906e-fed3fd84a5ea",
   "metadata": {
    "id": "78e8abac-e25c-4af2-906e-fed3fd84a5ea"
   },
   "source": [
    "* Los datos faltantes en ZipCode los rellenamos con unknown"
   ]
  },
  {
   "cell_type": "code",
   "execution_count": 40,
   "id": "c390d95c-2467-42f8-a52e-21791d537c58",
   "metadata": {
    "id": "c390d95c-2467-42f8-a52e-21791d537c58",
    "jupyter": {
     "outputs_hidden": true
    }
   },
   "outputs": [],
   "source": [
    "df_train['Zipcode'] = df_train['Zipcode'].fillna('unknown')"
   ]
  },
  {
   "cell_type": "markdown",
   "id": "c55f05c7-683b-4896-a2c2-6557f39c3506",
   "metadata": {
    "id": "c55f05c7-683b-4896-a2c2-6557f39c3506"
   },
   "source": [
    "* Los datos faltantes en Host Response Time  los rellenamos con unknown"
   ]
  },
  {
   "cell_type": "code",
   "execution_count": 41,
   "id": "f89fc8ef-abdf-48d8-9e9d-1e87e3b74f84",
   "metadata": {
    "id": "f89fc8ef-abdf-48d8-9e9d-1e87e3b74f84",
    "jupyter": {
     "outputs_hidden": true
    }
   },
   "outputs": [],
   "source": [
    "df_train['Host Response Time'] = df_train['Host Response Time'].fillna('unknown')"
   ]
  },
  {
   "cell_type": "markdown",
   "id": "a54a3be1-e695-4dd0-979a-495046137c3e",
   "metadata": {
    "id": "a54a3be1-e695-4dd0-979a-495046137c3e"
   },
   "source": [
    "* Creamos una lista con los nombres de las variables categóricas"
   ]
  },
  {
   "cell_type": "code",
   "execution_count": 42,
   "id": "fb82e4bc-0519-4e55-baf9-4f95dd40e6d1",
   "metadata": {
    "colab": {
     "base_uri": "https://localhost:8080/"
    },
    "id": "fb82e4bc-0519-4e55-baf9-4f95dd40e6d1",
    "jupyter": {
     "outputs_hidden": true
    },
    "outputId": "a57940ff-bfb6-417a-d540-15771db32b82"
   },
   "outputs": [
    {
     "data": {
      "text/plain": [
       "['Picture Url',\n",
       " 'Host Response Time',\n",
       " 'Neighbourhood',\n",
       " 'Zipcode',\n",
       " 'Property Type',\n",
       " 'Room Type',\n",
       " 'Cancellation Policy']"
      ]
     },
     "execution_count": 42,
     "metadata": {},
     "output_type": "execute_result"
    }
   ],
   "source": [
    "categorical_feature_mask = df_train.dtypes==object\n",
    "categorical_cols = df_train.columns[categorical_feature_mask].tolist()\n",
    "categorical_cols"
   ]
  },
  {
   "cell_type": "markdown",
   "id": "9AmxpZbsmkl3",
   "metadata": {
    "id": "9AmxpZbsmkl3"
   },
   "source": [
    "* quitamos 'Picture Url'"
   ]
  },
  {
   "cell_type": "code",
   "execution_count": 43,
   "id": "JpNvQd8vmp9I",
   "metadata": {
    "colab": {
     "base_uri": "https://localhost:8080/"
    },
    "id": "JpNvQd8vmp9I",
    "outputId": "6438a019-3d04-47fc-ed4c-9676f142f2a9"
   },
   "outputs": [
    {
     "data": {
      "text/plain": [
       "['Host Response Time',\n",
       " 'Neighbourhood',\n",
       " 'Zipcode',\n",
       " 'Property Type',\n",
       " 'Room Type',\n",
       " 'Cancellation Policy']"
      ]
     },
     "execution_count": 43,
     "metadata": {},
     "output_type": "execute_result"
    }
   ],
   "source": [
    "categorical_cols = categorical_cols[1:]\n",
    "categorical_cols"
   ]
  },
  {
   "cell_type": "code",
   "execution_count": 44,
   "id": "88ca94e0-262b-4837-9270-47911914ce80",
   "metadata": {
    "colab": {
     "base_uri": "https://localhost:8080/",
     "height": 802
    },
    "id": "88ca94e0-262b-4837-9270-47911914ce80",
    "jupyter": {
     "outputs_hidden": true
    },
    "outputId": "5c30c1c8-d036-4e7c-aabb-f345fd06c15f"
   },
   "outputs": [
    {
     "data": {
      "text/html": [
       "<div>\n",
       "<style scoped>\n",
       "    .dataframe tbody tr th:only-of-type {\n",
       "        vertical-align: middle;\n",
       "    }\n",
       "\n",
       "    .dataframe tbody tr th {\n",
       "        vertical-align: top;\n",
       "    }\n",
       "\n",
       "    .dataframe thead th {\n",
       "        text-align: right;\n",
       "    }\n",
       "</style>\n",
       "<table border=\"1\" class=\"dataframe\">\n",
       "  <thead>\n",
       "    <tr style=\"text-align: right;\">\n",
       "      <th></th>\n",
       "      <th>count</th>\n",
       "      <th>mean</th>\n",
       "      <th>std</th>\n",
       "      <th>min</th>\n",
       "      <th>25%</th>\n",
       "      <th>50%</th>\n",
       "      <th>75%</th>\n",
       "      <th>max</th>\n",
       "    </tr>\n",
       "  </thead>\n",
       "  <tbody>\n",
       "    <tr>\n",
       "      <th>ID</th>\n",
       "      <td>10534.0</td>\n",
       "      <td>1.041900e+07</td>\n",
       "      <td>5.510828e+06</td>\n",
       "      <td>19864.000000</td>\n",
       "      <td>5.811895e+06</td>\n",
       "      <td>1.154521e+07</td>\n",
       "      <td>1.537305e+07</td>\n",
       "      <td>1.810845e+07</td>\n",
       "    </tr>\n",
       "    <tr>\n",
       "      <th>Host Response Time</th>\n",
       "      <td>10534.0</td>\n",
       "      <td>6.630976e+01</td>\n",
       "      <td>4.163848e+00</td>\n",
       "      <td>59.115899</td>\n",
       "      <td>6.768026e+01</td>\n",
       "      <td>6.768026e+01</td>\n",
       "      <td>6.768026e+01</td>\n",
       "      <td>7.342254e+01</td>\n",
       "    </tr>\n",
       "    <tr>\n",
       "      <th>Host Response Rate</th>\n",
       "      <td>10534.0</td>\n",
       "      <td>9.488507e+01</td>\n",
       "      <td>1.413834e+01</td>\n",
       "      <td>0.000000</td>\n",
       "      <td>9.488507e+01</td>\n",
       "      <td>1.000000e+02</td>\n",
       "      <td>1.000000e+02</td>\n",
       "      <td>1.000000e+02</td>\n",
       "    </tr>\n",
       "    <tr>\n",
       "      <th>Neighbourhood</th>\n",
       "      <td>10534.0</td>\n",
       "      <td>6.630976e+01</td>\n",
       "      <td>2.010020e+01</td>\n",
       "      <td>17.666667</td>\n",
       "      <td>5.543165e+01</td>\n",
       "      <td>6.580808e+01</td>\n",
       "      <td>7.908308e+01</td>\n",
       "      <td>6.500000e+02</td>\n",
       "    </tr>\n",
       "    <tr>\n",
       "      <th>Zipcode</th>\n",
       "      <td>10534.0</td>\n",
       "      <td>6.630976e+01</td>\n",
       "      <td>1.686146e+01</td>\n",
       "      <td>18.000000</td>\n",
       "      <td>5.867164e+01</td>\n",
       "      <td>6.847654e+01</td>\n",
       "      <td>7.594587e+01</td>\n",
       "      <td>2.500000e+02</td>\n",
       "    </tr>\n",
       "    <tr>\n",
       "      <th>Latitude</th>\n",
       "      <td>10534.0</td>\n",
       "      <td>4.042049e+01</td>\n",
       "      <td>2.001988e-02</td>\n",
       "      <td>40.331888</td>\n",
       "      <td>4.041005e+01</td>\n",
       "      <td>4.041855e+01</td>\n",
       "      <td>4.042774e+01</td>\n",
       "      <td>4.051425e+01</td>\n",
       "    </tr>\n",
       "    <tr>\n",
       "      <th>Longitude</th>\n",
       "      <td>10534.0</td>\n",
       "      <td>-3.697148e+00</td>\n",
       "      <td>2.338287e-02</td>\n",
       "      <td>-3.835498</td>\n",
       "      <td>-3.707807e+00</td>\n",
       "      <td>-3.701615e+00</td>\n",
       "      <td>-3.693855e+00</td>\n",
       "      <td>-3.573613e+00</td>\n",
       "    </tr>\n",
       "    <tr>\n",
       "      <th>Property Type</th>\n",
       "      <td>10534.0</td>\n",
       "      <td>6.630976e+01</td>\n",
       "      <td>6.484354e+00</td>\n",
       "      <td>17.000000</td>\n",
       "      <td>6.813430e+01</td>\n",
       "      <td>6.813430e+01</td>\n",
       "      <td>6.813430e+01</td>\n",
       "      <td>2.037500e+02</td>\n",
       "    </tr>\n",
       "    <tr>\n",
       "      <th>Room Type</th>\n",
       "      <td>10534.0</td>\n",
       "      <td>6.630976e+01</td>\n",
       "      <td>2.605900e+01</td>\n",
       "      <td>28.682432</td>\n",
       "      <td>3.460482e+01</td>\n",
       "      <td>8.757165e+01</td>\n",
       "      <td>8.757165e+01</td>\n",
       "      <td>8.757165e+01</td>\n",
       "    </tr>\n",
       "    <tr>\n",
       "      <th>Accommodates</th>\n",
       "      <td>10534.0</td>\n",
       "      <td>3.191665e+00</td>\n",
       "      <td>2.006683e+00</td>\n",
       "      <td>1.000000</td>\n",
       "      <td>2.000000e+00</td>\n",
       "      <td>2.000000e+00</td>\n",
       "      <td>4.000000e+00</td>\n",
       "      <td>1.600000e+01</td>\n",
       "    </tr>\n",
       "    <tr>\n",
       "      <th>Bathrooms</th>\n",
       "      <td>10534.0</td>\n",
       "      <td>1.251946e+00</td>\n",
       "      <td>5.991255e-01</td>\n",
       "      <td>0.000000</td>\n",
       "      <td>1.000000e+00</td>\n",
       "      <td>1.000000e+00</td>\n",
       "      <td>1.000000e+00</td>\n",
       "      <td>8.000000e+00</td>\n",
       "    </tr>\n",
       "    <tr>\n",
       "      <th>Bedrooms</th>\n",
       "      <td>10534.0</td>\n",
       "      <td>1.295804e+00</td>\n",
       "      <td>8.389929e-01</td>\n",
       "      <td>0.000000</td>\n",
       "      <td>1.000000e+00</td>\n",
       "      <td>1.000000e+00</td>\n",
       "      <td>2.000000e+00</td>\n",
       "      <td>1.000000e+01</td>\n",
       "    </tr>\n",
       "    <tr>\n",
       "      <th>Price</th>\n",
       "      <td>10534.0</td>\n",
       "      <td>6.630976e+01</td>\n",
       "      <td>5.654607e+01</td>\n",
       "      <td>9.000000</td>\n",
       "      <td>3.100000e+01</td>\n",
       "      <td>5.300000e+01</td>\n",
       "      <td>8.000000e+01</td>\n",
       "      <td>8.750000e+02</td>\n",
       "    </tr>\n",
       "    <tr>\n",
       "      <th>Guests Included</th>\n",
       "      <td>10534.0</td>\n",
       "      <td>1.574426e+00</td>\n",
       "      <td>1.080416e+00</td>\n",
       "      <td>1.000000</td>\n",
       "      <td>1.000000e+00</td>\n",
       "      <td>1.000000e+00</td>\n",
       "      <td>2.000000e+00</td>\n",
       "      <td>1.500000e+01</td>\n",
       "    </tr>\n",
       "    <tr>\n",
       "      <th>Extra People</th>\n",
       "      <td>10534.0</td>\n",
       "      <td>7.410385e+00</td>\n",
       "      <td>1.061258e+01</td>\n",
       "      <td>0.000000</td>\n",
       "      <td>0.000000e+00</td>\n",
       "      <td>0.000000e+00</td>\n",
       "      <td>1.400000e+01</td>\n",
       "      <td>2.760000e+02</td>\n",
       "    </tr>\n",
       "    <tr>\n",
       "      <th>Minimum Nights</th>\n",
       "      <td>10534.0</td>\n",
       "      <td>3.066262e+00</td>\n",
       "      <td>1.410133e+01</td>\n",
       "      <td>1.000000</td>\n",
       "      <td>1.000000e+00</td>\n",
       "      <td>2.000000e+00</td>\n",
       "      <td>3.000000e+00</td>\n",
       "      <td>1.125000e+03</td>\n",
       "    </tr>\n",
       "    <tr>\n",
       "      <th>Maximum Nights</th>\n",
       "      <td>10534.0</td>\n",
       "      <td>8.804056e+02</td>\n",
       "      <td>2.012911e+03</td>\n",
       "      <td>1.000000</td>\n",
       "      <td>3.650000e+02</td>\n",
       "      <td>1.125000e+03</td>\n",
       "      <td>1.125000e+03</td>\n",
       "      <td>1.000000e+05</td>\n",
       "    </tr>\n",
       "    <tr>\n",
       "      <th>Availability 30</th>\n",
       "      <td>10534.0</td>\n",
       "      <td>8.790678e+00</td>\n",
       "      <td>9.092317e+00</td>\n",
       "      <td>0.000000</td>\n",
       "      <td>0.000000e+00</td>\n",
       "      <td>6.000000e+00</td>\n",
       "      <td>1.400000e+01</td>\n",
       "      <td>3.000000e+01</td>\n",
       "    </tr>\n",
       "    <tr>\n",
       "      <th>Availability 60</th>\n",
       "      <td>10534.0</td>\n",
       "      <td>2.305383e+01</td>\n",
       "      <td>1.951874e+01</td>\n",
       "      <td>0.000000</td>\n",
       "      <td>5.000000e+00</td>\n",
       "      <td>2.000000e+01</td>\n",
       "      <td>3.800000e+01</td>\n",
       "      <td>6.000000e+01</td>\n",
       "    </tr>\n",
       "    <tr>\n",
       "      <th>Availability 90</th>\n",
       "      <td>10534.0</td>\n",
       "      <td>4.030368e+01</td>\n",
       "      <td>2.933418e+01</td>\n",
       "      <td>0.000000</td>\n",
       "      <td>1.300000e+01</td>\n",
       "      <td>3.800000e+01</td>\n",
       "      <td>6.500000e+01</td>\n",
       "      <td>9.000000e+01</td>\n",
       "    </tr>\n",
       "    <tr>\n",
       "      <th>Availability 365</th>\n",
       "      <td>10534.0</td>\n",
       "      <td>2.058567e+02</td>\n",
       "      <td>1.269551e+02</td>\n",
       "      <td>0.000000</td>\n",
       "      <td>8.400000e+01</td>\n",
       "      <td>2.480000e+02</td>\n",
       "      <td>3.210000e+02</td>\n",
       "      <td>3.650000e+02</td>\n",
       "    </tr>\n",
       "    <tr>\n",
       "      <th>Number of Reviews</th>\n",
       "      <td>10534.0</td>\n",
       "      <td>2.291513e+01</td>\n",
       "      <td>3.789415e+01</td>\n",
       "      <td>0.000000</td>\n",
       "      <td>1.000000e+00</td>\n",
       "      <td>7.000000e+00</td>\n",
       "      <td>2.700000e+01</td>\n",
       "      <td>3.890000e+02</td>\n",
       "    </tr>\n",
       "    <tr>\n",
       "      <th>Cancellation Policy</th>\n",
       "      <td>10534.0</td>\n",
       "      <td>6.630976e+01</td>\n",
       "      <td>8.332879e+00</td>\n",
       "      <td>57.695333</td>\n",
       "      <td>5.769533e+01</td>\n",
       "      <td>6.255358e+01</td>\n",
       "      <td>7.659019e+01</td>\n",
       "      <td>1.178000e+02</td>\n",
       "    </tr>\n",
       "    <tr>\n",
       "      <th>Calculated host listings count</th>\n",
       "      <td>10534.0</td>\n",
       "      <td>7.681697e+00</td>\n",
       "      <td>1.975373e+01</td>\n",
       "      <td>1.000000</td>\n",
       "      <td>1.000000e+00</td>\n",
       "      <td>2.000000e+00</td>\n",
       "      <td>4.000000e+00</td>\n",
       "      <td>1.450000e+02</td>\n",
       "    </tr>\n",
       "  </tbody>\n",
       "</table>\n",
       "</div>"
      ],
      "text/plain": [
       "                                  count          mean           std  \\\n",
       "ID                              10534.0  1.041900e+07  5.510828e+06   \n",
       "Host Response Time              10534.0  6.630976e+01  4.163848e+00   \n",
       "Host Response Rate              10534.0  9.488507e+01  1.413834e+01   \n",
       "Neighbourhood                   10534.0  6.630976e+01  2.010020e+01   \n",
       "Zipcode                         10534.0  6.630976e+01  1.686146e+01   \n",
       "Latitude                        10534.0  4.042049e+01  2.001988e-02   \n",
       "Longitude                       10534.0 -3.697148e+00  2.338287e-02   \n",
       "Property Type                   10534.0  6.630976e+01  6.484354e+00   \n",
       "Room Type                       10534.0  6.630976e+01  2.605900e+01   \n",
       "Accommodates                    10534.0  3.191665e+00  2.006683e+00   \n",
       "Bathrooms                       10534.0  1.251946e+00  5.991255e-01   \n",
       "Bedrooms                        10534.0  1.295804e+00  8.389929e-01   \n",
       "Price                           10534.0  6.630976e+01  5.654607e+01   \n",
       "Guests Included                 10534.0  1.574426e+00  1.080416e+00   \n",
       "Extra People                    10534.0  7.410385e+00  1.061258e+01   \n",
       "Minimum Nights                  10534.0  3.066262e+00  1.410133e+01   \n",
       "Maximum Nights                  10534.0  8.804056e+02  2.012911e+03   \n",
       "Availability 30                 10534.0  8.790678e+00  9.092317e+00   \n",
       "Availability 60                 10534.0  2.305383e+01  1.951874e+01   \n",
       "Availability 90                 10534.0  4.030368e+01  2.933418e+01   \n",
       "Availability 365                10534.0  2.058567e+02  1.269551e+02   \n",
       "Number of Reviews               10534.0  2.291513e+01  3.789415e+01   \n",
       "Cancellation Policy             10534.0  6.630976e+01  8.332879e+00   \n",
       "Calculated host listings count  10534.0  7.681697e+00  1.975373e+01   \n",
       "\n",
       "                                         min           25%           50%  \\\n",
       "ID                              19864.000000  5.811895e+06  1.154521e+07   \n",
       "Host Response Time                 59.115899  6.768026e+01  6.768026e+01   \n",
       "Host Response Rate                  0.000000  9.488507e+01  1.000000e+02   \n",
       "Neighbourhood                      17.666667  5.543165e+01  6.580808e+01   \n",
       "Zipcode                            18.000000  5.867164e+01  6.847654e+01   \n",
       "Latitude                           40.331888  4.041005e+01  4.041855e+01   \n",
       "Longitude                          -3.835498 -3.707807e+00 -3.701615e+00   \n",
       "Property Type                      17.000000  6.813430e+01  6.813430e+01   \n",
       "Room Type                          28.682432  3.460482e+01  8.757165e+01   \n",
       "Accommodates                        1.000000  2.000000e+00  2.000000e+00   \n",
       "Bathrooms                           0.000000  1.000000e+00  1.000000e+00   \n",
       "Bedrooms                            0.000000  1.000000e+00  1.000000e+00   \n",
       "Price                               9.000000  3.100000e+01  5.300000e+01   \n",
       "Guests Included                     1.000000  1.000000e+00  1.000000e+00   \n",
       "Extra People                        0.000000  0.000000e+00  0.000000e+00   \n",
       "Minimum Nights                      1.000000  1.000000e+00  2.000000e+00   \n",
       "Maximum Nights                      1.000000  3.650000e+02  1.125000e+03   \n",
       "Availability 30                     0.000000  0.000000e+00  6.000000e+00   \n",
       "Availability 60                     0.000000  5.000000e+00  2.000000e+01   \n",
       "Availability 90                     0.000000  1.300000e+01  3.800000e+01   \n",
       "Availability 365                    0.000000  8.400000e+01  2.480000e+02   \n",
       "Number of Reviews                   0.000000  1.000000e+00  7.000000e+00   \n",
       "Cancellation Policy                57.695333  5.769533e+01  6.255358e+01   \n",
       "Calculated host listings count      1.000000  1.000000e+00  2.000000e+00   \n",
       "\n",
       "                                         75%           max  \n",
       "ID                              1.537305e+07  1.810845e+07  \n",
       "Host Response Time              6.768026e+01  7.342254e+01  \n",
       "Host Response Rate              1.000000e+02  1.000000e+02  \n",
       "Neighbourhood                   7.908308e+01  6.500000e+02  \n",
       "Zipcode                         7.594587e+01  2.500000e+02  \n",
       "Latitude                        4.042774e+01  4.051425e+01  \n",
       "Longitude                      -3.693855e+00 -3.573613e+00  \n",
       "Property Type                   6.813430e+01  2.037500e+02  \n",
       "Room Type                       8.757165e+01  8.757165e+01  \n",
       "Accommodates                    4.000000e+00  1.600000e+01  \n",
       "Bathrooms                       1.000000e+00  8.000000e+00  \n",
       "Bedrooms                        2.000000e+00  1.000000e+01  \n",
       "Price                           8.000000e+01  8.750000e+02  \n",
       "Guests Included                 2.000000e+00  1.500000e+01  \n",
       "Extra People                    1.400000e+01  2.760000e+02  \n",
       "Minimum Nights                  3.000000e+00  1.125000e+03  \n",
       "Maximum Nights                  1.125000e+03  1.000000e+05  \n",
       "Availability 30                 1.400000e+01  3.000000e+01  \n",
       "Availability 60                 3.800000e+01  6.000000e+01  \n",
       "Availability 90                 6.500000e+01  9.000000e+01  \n",
       "Availability 365                3.210000e+02  3.650000e+02  \n",
       "Number of Reviews               2.700000e+01  3.890000e+02  \n",
       "Cancellation Policy             7.659019e+01  1.178000e+02  \n",
       "Calculated host listings count  4.000000e+00  1.450000e+02  "
      ]
     },
     "execution_count": 44,
     "metadata": {},
     "output_type": "execute_result"
    }
   ],
   "source": [
    "mean_map = {}\n",
    "for c in categorical_cols:\n",
    "    mean = df_train.groupby(c)['Price'].mean()\n",
    "    df_train[c] = df_train[c].map(mean)    \n",
    "    mean_map[c] = mean\n",
    "df_train.describe().T"
   ]
  },
  {
   "cell_type": "markdown",
   "id": "c53cd49b-7425-43f4-9d4d-e156098a3f17",
   "metadata": {
    "id": "c53cd49b-7425-43f4-9d4d-e156098a3f17"
   },
   "source": [
    "* Vamos a crear una nueva característica, multiplicando el número de dormitorios y el número de baños ya que puede ser un ratio que influya en el precio."
   ]
  },
  {
   "cell_type": "code",
   "execution_count": 45,
   "id": "8313d0e4-a270-4ce4-a12d-3a7c49a943a9",
   "metadata": {
    "colab": {
     "base_uri": "https://localhost:8080/"
    },
    "id": "8313d0e4-a270-4ce4-a12d-3a7c49a943a9",
    "jupyter": {
     "outputs_hidden": true
    },
    "outputId": "143ae3f5-66b6-4b11-fd8d-5763e32a5fa7"
   },
   "outputs": [
    {
     "data": {
      "text/plain": [
       "0        1.0\n",
       "1        0.0\n",
       "2        1.0\n",
       "3        1.0\n",
       "4        1.0\n",
       "        ... \n",
       "11195    6.0\n",
       "11196    1.0\n",
       "11197    2.0\n",
       "11198    1.0\n",
       "11199    1.0\n",
       "Name: Bath_for_Beedrooms, Length: 10534, dtype: float64"
      ]
     },
     "execution_count": 45,
     "metadata": {},
     "output_type": "execute_result"
    }
   ],
   "source": [
    "df_train['Bath_for_Beedrooms'] = df_train['Bedrooms'] * df_train['Bathrooms']\n",
    "df_train['Bath_for_Beedrooms']"
   ]
  },
  {
   "cell_type": "markdown",
   "id": "116aa5a9-b5f2-4c06-830f-d7f162acebb8",
   "metadata": {
    "id": "116aa5a9-b5f2-4c06-830f-d7f162acebb8"
   },
   "source": [
    "* Mostramos la matriz de correlación."
   ]
  },
  {
   "cell_type": "code",
   "execution_count": 46,
   "id": "367f782a-5823-4e1e-b7a4-5838a406dc1d",
   "metadata": {
    "colab": {
     "base_uri": "https://localhost:8080/",
     "height": 729
    },
    "id": "367f782a-5823-4e1e-b7a4-5838a406dc1d",
    "jupyter": {
     "outputs_hidden": true
    },
    "outputId": "7e118b39-097e-4c28-c213-1c2151159621"
   },
   "outputs": [
    {
     "name": "stderr",
     "output_type": "stream",
     "text": [
      "<ipython-input-46-b411e7bc0dac>:5: DeprecationWarning: `np.bool` is a deprecated alias for the builtin `bool`. To silence this warning, use `bool` by itself. Doing this will not modify any behavior and is safe. If you specifically wanted the numpy scalar type, use `np.bool_` here.\n",
      "Deprecated in NumPy 1.20; for more details and guidance: https://numpy.org/devdocs/release/1.20.0-notes.html#deprecations\n",
      "  mask = np.zeros_like(corr, dtype=np.bool)\n"
     ]
    },
    {
     "data": {
      "image/png": "[encoded data removed]",
      "text/plain": [
       "<Figure size 864x720 with 2 Axes>"
      ]
     },
     "metadata": {},
     "output_type": "display_data"
    }
   ],
   "source": [
    "# Compute the correlation matrix\n",
    "corr = np.abs(df_train.drop(['Price'], axis=1).corr())\n",
    "\n",
    "# Generate a mask for the upper triangle\n",
    "mask = np.zeros_like(corr, dtype=np.bool)\n",
    "mask[np.triu_indices_from(mask)] = True\n",
    "\n",
    "# Set up the matplotlib figure\n",
    "f, ax = plt.subplots(figsize=(12, 10))\n",
    "\n",
    "# Draw the heatmap with the mask and correct aspect ratio\n",
    "sns.heatmap(corr, mask=mask,vmin = 0.0, vmax=1.0, center=0.5,\n",
    "            linewidths=.1, cmap=\"YlGnBu\", cbar_kws={\"shrink\": .8})\n",
    "\n",
    "plt.show()"
   ]
  },
  {
   "cell_type": "markdown",
   "id": "a964ce91-5712-4afd-a055-c2babac23c02",
   "metadata": {
    "id": "a964ce91-5712-4afd-a055-c2babac23c02"
   },
   "source": [
    "* La disponibilidades a diferentes rangos están muy correladas, por tanto nos vamos a quedar unicamente con la disponibilidad a 30 días."
   ]
  },
  {
   "cell_type": "code",
   "execution_count": 47,
   "id": "cbb3e718-5e2c-4a34-9955-2bcb689cd0bf",
   "metadata": {
    "id": "cbb3e718-5e2c-4a34-9955-2bcb689cd0bf",
    "jupyter": {
     "outputs_hidden": true
    }
   },
   "outputs": [],
   "source": [
    "df_train.drop(['Availability 60', 'Availability 90', 'Availability 365'], axis=1, inplace=True)"
   ]
  },
  {
   "cell_type": "markdown",
   "id": "6d5aa35c-8292-4b99-ace2-5fc7b4b8a3dd",
   "metadata": {
    "id": "6d5aa35c-8292-4b99-ace2-5fc7b4b8a3dd"
   },
   "source": [
    "## Outliers en Price."
   ]
  },
  {
   "cell_type": "code",
   "execution_count": 48,
   "id": "42ba8f3d-d834-4f99-adb4-4fc15e5fb2ca",
   "metadata": {
    "colab": {
     "base_uri": "https://localhost:8080/",
     "height": 265
    },
    "id": "42ba8f3d-d834-4f99-adb4-4fc15e5fb2ca",
    "jupyter": {
     "outputs_hidden": true
    },
    "outputId": "946c64d4-732c-4f02-edb4-27661810d32a"
   },
   "outputs": [
    {
     "data": {
      "image/png": "[encoded data removed]",
      "text/plain": [
       "<Figure size 432x288 with 1 Axes>"
      ]
     },
     "metadata": {},
     "output_type": "display_data"
    }
   ],
   "source": [
    "df_train[\"Price\"].plot.hist(alpha = 0.8, color = \"blue\", bins = 40, grid = True)\n",
    "plt.show()"
   ]
  },
  {
   "cell_type": "code",
   "execution_count": 49,
   "id": "31174637-394b-4c52-a42e-1a02867f236b",
   "metadata": {
    "colab": {
     "base_uri": "https://localhost:8080/"
    },
    "id": "31174637-394b-4c52-a42e-1a02867f236b",
    "jupyter": {
     "outputs_hidden": true
    },
    "outputId": "44f75404-387f-4471-8f5d-b6f40a9ee529"
   },
   "outputs": [
    {
     "data": {
      "text/plain": [
       "59"
      ]
     },
     "execution_count": 49,
     "metadata": {},
     "output_type": "execute_result"
    }
   ],
   "source": [
    "len(df_train[df_train[\"Price\"] > 350])"
   ]
  },
  {
   "cell_type": "markdown",
   "id": "6b47cddd-c44e-4cb7-b84d-9d756f4a3bf8",
   "metadata": {
    "id": "6b47cddd-c44e-4cb7-b84d-9d756f4a3bf8"
   },
   "source": [
    "* Hay 59 filas con precios mayores de 350 € que es aproximadamente un 0,5 % del dataset, por tanto vamos a considerarlos outliers y vamos a eliminarlos."
   ]
  },
  {
   "cell_type": "code",
   "execution_count": 50,
   "id": "2459ba6b-237f-43de-a166-98b63b5d007a",
   "metadata": {
    "colab": {
     "base_uri": "https://localhost:8080/"
    },
    "id": "2459ba6b-237f-43de-a166-98b63b5d007a",
    "jupyter": {
     "outputs_hidden": true
    },
    "outputId": "1987e97b-88d2-4944-a6e7-a1260021c699"
   },
   "outputs": [
    {
     "data": {
      "text/plain": [
       "(10475, 23)"
      ]
     },
     "execution_count": 50,
     "metadata": {},
     "output_type": "execute_result"
    }
   ],
   "source": [
    "df_train.drop(df_train[df_train['Price']>350].index, inplace = True)\n",
    "df_train.shape"
   ]
  },
  {
   "cell_type": "markdown",
   "id": "681f67db-62f4-4719-a8bb-c8d09e313fbe",
   "metadata": {
    "id": "681f67db-62f4-4719-a8bb-c8d09e313fbe"
   },
   "source": [
    "* Pasamos los precios en escala logarítmica para obtener una distribución mas gausiana."
   ]
  },
  {
   "cell_type": "code",
   "execution_count": 51,
   "id": "46fb0a0e-5980-4a5a-a06e-b99e9f1e2e8d",
   "metadata": {
    "id": "46fb0a0e-5980-4a5a-a06e-b99e9f1e2e8d",
    "jupyter": {
     "outputs_hidden": true
    }
   },
   "outputs": [],
   "source": [
    "df_train['Price'] = np.log10(df_train['Price'])"
   ]
  },
  {
   "cell_type": "markdown",
   "id": "0c65ea0b-7790-429a-9166-44ffda5d74ca",
   "metadata": {
    "id": "0c65ea0b-7790-429a-9166-44ffda5d74ca"
   },
   "source": [
    "* Histograma de todas las variables para ver su distribución."
   ]
  },
  {
   "cell_type": "code",
   "execution_count": 52,
   "id": "2e887968-95b2-4513-93e9-cb50141e08c9",
   "metadata": {
    "colab": {
     "base_uri": "https://localhost:8080/",
     "height": 1000
    },
    "id": "2e887968-95b2-4513-93e9-cb50141e08c9",
    "jupyter": {
     "outputs_hidden": true
    },
    "outputId": "868b51d0-7cad-47c7-87e6-c440c33775cd"
   },
   "outputs": [
    {
     "data": {
      "image/png": "[encoded data removed]",
      "text/plain": [
       "<Figure size 1440x1800 with 22 Axes>"
      ]
     },
     "metadata": {},
     "output_type": "display_data"
    }
   ],
   "source": [
    "plt.figure(figsize=(20, 25))\n",
    "\n",
    "for i, c in enumerate(df_train.columns):\n",
    "    if(c != 'Picture Url'):\n",
    "      plt.subplot(8, 4, i + 1)\n",
    "      df_train[c].plot.hist(alpha = 0.8, color = \"blue\", bins = 40, grid = True)\n",
    "      plt.axis([0, np.max(df_train[c]), 0, 10000])\n",
    "      plt.xlabel(c)\n",
    "\n",
    "plt.show()"
   ]
  },
  {
   "cell_type": "markdown",
   "id": "d597d464-1968-4bb0-a685-6ab703a94bcf",
   "metadata": {
    "id": "d597d464-1968-4bb0-a685-6ab703a94bcf"
   },
   "source": [
    "* Podemos ver como las columnas Minimum Nights y Maximum Nights no aportan información al estar todas prácticamente en un mismo valor."
   ]
  },
  {
   "cell_type": "code",
   "execution_count": 53,
   "id": "93874de5-1c83-44fa-824d-6f2b3ade5102",
   "metadata": {
    "colab": {
     "base_uri": "https://localhost:8080/"
    },
    "id": "93874de5-1c83-44fa-824d-6f2b3ade5102",
    "jupyter": {
     "outputs_hidden": true
    },
    "outputId": "5b5ed999-7ef4-414b-b08f-40d6b5c55538"
   },
   "outputs": [
    {
     "data": {
      "text/plain": [
       "21"
      ]
     },
     "execution_count": 53,
     "metadata": {},
     "output_type": "execute_result"
    }
   ],
   "source": [
    "df_train.drop(['Minimum Nights', 'Maximum Nights'], axis=1, inplace=True)\n",
    "len(df_train.columns)"
   ]
  },
  {
   "cell_type": "markdown",
   "id": "77c34a00-bcd4-497d-9353-510a16e62d67",
   "metadata": {
    "id": "77c34a00-bcd4-497d-9353-510a16e62d67"
   },
   "source": [
    "* Aún nos quedan 21 columnas.\n",
    "* Tendremos que seguir analizando para reducir la dimensionalidad.\n",
    "* Organizamos las columnas de train para poder dividir entre características y variable objetivo."
   ]
  },
  {
   "cell_type": "code",
   "execution_count": 54,
   "id": "928b9736-5c9c-4bfb-8000-2eb04e7c203a",
   "metadata": {
    "colab": {
     "base_uri": "https://localhost:8080/"
    },
    "id": "928b9736-5c9c-4bfb-8000-2eb04e7c203a",
    "jupyter": {
     "outputs_hidden": true
    },
    "outputId": "878cc879-56c3-4cc7-da63-05122bcad39d"
   },
   "outputs": [
    {
     "data": {
      "text/plain": [
       "Index(['ID', 'Picture Url', 'Host Response Time', 'Host Response Rate',\n",
       "       'Neighbourhood', 'Zipcode', 'Latitude', 'Longitude', 'Property Type',\n",
       "       'Room Type', 'Accommodates', 'Bathrooms', 'Bedrooms', 'Price',\n",
       "       'Guests Included', 'Extra People', 'Availability 30',\n",
       "       'Number of Reviews', 'Cancellation Policy',\n",
       "       'Calculated host listings count', 'Bath_for_Beedrooms'],\n",
       "      dtype='object')"
      ]
     },
     "execution_count": 54,
     "metadata": {},
     "output_type": "execute_result"
    }
   ],
   "source": [
    "df_train.columns"
   ]
  },
  {
   "cell_type": "markdown",
   "id": "cc9cc417-c7a6-4acb-b2cc-d4f2b1e7bddb",
   "metadata": {
    "id": "cc9cc417-c7a6-4acb-b2cc-d4f2b1e7bddb"
   },
   "source": [
    "* Movemos la columna Price a la primera posición"
   ]
  },
  {
   "cell_type": "code",
   "execution_count": 55,
   "id": "5ef8a21c-b174-48d5-b513-35366a3a3f30",
   "metadata": {
    "colab": {
     "base_uri": "https://localhost:8080/",
     "height": 322
    },
    "id": "5ef8a21c-b174-48d5-b513-35366a3a3f30",
    "jupyter": {
     "outputs_hidden": true
    },
    "outputId": "5552cf50-1f95-48e9-a5a6-7703fe2cef11"
   },
   "outputs": [
    {
     "data": {
      "text/html": [
       "<div>\n",
       "<style scoped>\n",
       "    .dataframe tbody tr th:only-of-type {\n",
       "        vertical-align: middle;\n",
       "    }\n",
       "\n",
       "    .dataframe tbody tr th {\n",
       "        vertical-align: top;\n",
       "    }\n",
       "\n",
       "    .dataframe thead th {\n",
       "        text-align: right;\n",
       "    }\n",
       "</style>\n",
       "<table border=\"1\" class=\"dataframe\">\n",
       "  <thead>\n",
       "    <tr style=\"text-align: right;\">\n",
       "      <th></th>\n",
       "      <th>Price</th>\n",
       "      <th>ID</th>\n",
       "      <th>Picture Url</th>\n",
       "      <th>Host Response Time</th>\n",
       "      <th>Host Response Rate</th>\n",
       "      <th>Neighbourhood</th>\n",
       "      <th>Zipcode</th>\n",
       "      <th>Latitude</th>\n",
       "      <th>Longitude</th>\n",
       "      <th>Property Type</th>\n",
       "      <th>...</th>\n",
       "      <th>Accommodates</th>\n",
       "      <th>Bathrooms</th>\n",
       "      <th>Bedrooms</th>\n",
       "      <th>Guests Included</th>\n",
       "      <th>Extra People</th>\n",
       "      <th>Availability 30</th>\n",
       "      <th>Number of Reviews</th>\n",
       "      <th>Cancellation Policy</th>\n",
       "      <th>Calculated host listings count</th>\n",
       "      <th>Bath_for_Beedrooms</th>\n",
       "    </tr>\n",
       "  </thead>\n",
       "  <tbody>\n",
       "    <tr>\n",
       "      <th>0</th>\n",
       "      <td>1.544068</td>\n",
       "      <td>17266729</td>\n",
       "      <td>https://public.opendatasoft.com/api/v2/catalog...</td>\n",
       "      <td>67.680260</td>\n",
       "      <td>100.000000</td>\n",
       "      <td>45.454545</td>\n",
       "      <td>34.808511</td>\n",
       "      <td>40.402892</td>\n",
       "      <td>-3.631473</td>\n",
       "      <td>68.134298</td>\n",
       "      <td>...</td>\n",
       "      <td>2</td>\n",
       "      <td>1.0</td>\n",
       "      <td>1.0</td>\n",
       "      <td>1</td>\n",
       "      <td>0</td>\n",
       "      <td>29</td>\n",
       "      <td>0</td>\n",
       "      <td>57.695333</td>\n",
       "      <td>1</td>\n",
       "      <td>1.0</td>\n",
       "    </tr>\n",
       "    <tr>\n",
       "      <th>1</th>\n",
       "      <td>1.255273</td>\n",
       "      <td>11705453</td>\n",
       "      <td>https://public.opendatasoft.com/api/v2/catalog...</td>\n",
       "      <td>59.115899</td>\n",
       "      <td>94.885067</td>\n",
       "      <td>58.769573</td>\n",
       "      <td>68.476543</td>\n",
       "      <td>40.413236</td>\n",
       "      <td>-3.704446</td>\n",
       "      <td>54.205882</td>\n",
       "      <td>...</td>\n",
       "      <td>3</td>\n",
       "      <td>0.0</td>\n",
       "      <td>1.0</td>\n",
       "      <td>1</td>\n",
       "      <td>0</td>\n",
       "      <td>0</td>\n",
       "      <td>0</td>\n",
       "      <td>57.695333</td>\n",
       "      <td>1</td>\n",
       "      <td>0.0</td>\n",
       "    </tr>\n",
       "    <tr>\n",
       "      <th>2</th>\n",
       "      <td>1.556303</td>\n",
       "      <td>12085078</td>\n",
       "      <td>https://public.opendatasoft.com/api/v2/catalog...</td>\n",
       "      <td>67.680260</td>\n",
       "      <td>80.000000</td>\n",
       "      <td>72.120846</td>\n",
       "      <td>68.476543</td>\n",
       "      <td>40.409787</td>\n",
       "      <td>-3.708065</td>\n",
       "      <td>68.134298</td>\n",
       "      <td>...</td>\n",
       "      <td>2</td>\n",
       "      <td>1.0</td>\n",
       "      <td>1.0</td>\n",
       "      <td>1</td>\n",
       "      <td>10</td>\n",
       "      <td>0</td>\n",
       "      <td>10</td>\n",
       "      <td>57.695333</td>\n",
       "      <td>1</td>\n",
       "      <td>1.0</td>\n",
       "    </tr>\n",
       "    <tr>\n",
       "      <th>3</th>\n",
       "      <td>1.778151</td>\n",
       "      <td>15669581</td>\n",
       "      <td>https://public.opendatasoft.com/api/v2/catalog...</td>\n",
       "      <td>67.680260</td>\n",
       "      <td>100.000000</td>\n",
       "      <td>62.270349</td>\n",
       "      <td>75.945869</td>\n",
       "      <td>40.421165</td>\n",
       "      <td>-3.701844</td>\n",
       "      <td>68.134298</td>\n",
       "      <td>...</td>\n",
       "      <td>4</td>\n",
       "      <td>1.0</td>\n",
       "      <td>1.0</td>\n",
       "      <td>2</td>\n",
       "      <td>15</td>\n",
       "      <td>4</td>\n",
       "      <td>7</td>\n",
       "      <td>57.695333</td>\n",
       "      <td>8</td>\n",
       "      <td>1.0</td>\n",
       "    </tr>\n",
       "    <tr>\n",
       "      <th>4</th>\n",
       "      <td>1.176091</td>\n",
       "      <td>17677054</td>\n",
       "      <td>https://public.opendatasoft.com/api/v2/catalog...</td>\n",
       "      <td>67.680260</td>\n",
       "      <td>100.000000</td>\n",
       "      <td>42.695652</td>\n",
       "      <td>34.825000</td>\n",
       "      <td>40.427572</td>\n",
       "      <td>-3.626478</td>\n",
       "      <td>62.124555</td>\n",
       "      <td>...</td>\n",
       "      <td>1</td>\n",
       "      <td>1.0</td>\n",
       "      <td>1.0</td>\n",
       "      <td>1</td>\n",
       "      <td>5</td>\n",
       "      <td>23</td>\n",
       "      <td>2</td>\n",
       "      <td>57.695333</td>\n",
       "      <td>2</td>\n",
       "      <td>1.0</td>\n",
       "    </tr>\n",
       "  </tbody>\n",
       "</table>\n",
       "<p>5 rows × 21 columns</p>\n",
       "</div>"
      ],
      "text/plain": [
       "      Price        ID                                        Picture Url  \\\n",
       "0  1.544068  17266729  https://public.opendatasoft.com/api/v2/catalog...   \n",
       "1  1.255273  11705453  https://public.opendatasoft.com/api/v2/catalog...   \n",
       "2  1.556303  12085078  https://public.opendatasoft.com/api/v2/catalog...   \n",
       "3  1.778151  15669581  https://public.opendatasoft.com/api/v2/catalog...   \n",
       "4  1.176091  17677054  https://public.opendatasoft.com/api/v2/catalog...   \n",
       "\n",
       "   Host Response Time  Host Response Rate  Neighbourhood    Zipcode  \\\n",
       "0           67.680260          100.000000      45.454545  34.808511   \n",
       "1           59.115899           94.885067      58.769573  68.476543   \n",
       "2           67.680260           80.000000      72.120846  68.476543   \n",
       "3           67.680260          100.000000      62.270349  75.945869   \n",
       "4           67.680260          100.000000      42.695652  34.825000   \n",
       "\n",
       "    Latitude  Longitude  Property Type  ...  Accommodates  Bathrooms  \\\n",
       "0  40.402892  -3.631473      68.134298  ...             2        1.0   \n",
       "1  40.413236  -3.704446      54.205882  ...             3        0.0   \n",
       "2  40.409787  -3.708065      68.134298  ...             2        1.0   \n",
       "3  40.421165  -3.701844      68.134298  ...             4        1.0   \n",
       "4  40.427572  -3.626478      62.124555  ...             1        1.0   \n",
       "\n",
       "   Bedrooms  Guests Included  Extra People  Availability 30  \\\n",
       "0       1.0                1             0               29   \n",
       "1       1.0                1             0                0   \n",
       "2       1.0                1            10                0   \n",
       "3       1.0                2            15                4   \n",
       "4       1.0                1             5               23   \n",
       "\n",
       "   Number of Reviews  Cancellation Policy  Calculated host listings count  \\\n",
       "0                  0            57.695333                               1   \n",
       "1                  0            57.695333                               1   \n",
       "2                 10            57.695333                               1   \n",
       "3                  7            57.695333                               8   \n",
       "4                  2            57.695333                               2   \n",
       "\n",
       "   Bath_for_Beedrooms  \n",
       "0                 1.0  \n",
       "1                 0.0  \n",
       "2                 1.0  \n",
       "3                 1.0  \n",
       "4                 1.0  \n",
       "\n",
       "[5 rows x 21 columns]"
      ]
     },
     "execution_count": 55,
     "metadata": {},
     "output_type": "execute_result"
    }
   ],
   "source": [
    "df_train = df_train[['Price', 'ID', 'Picture Url', 'Host Response Time', 'Host Response Rate', \n",
    "       'Neighbourhood', 'Zipcode', 'Latitude', 'Longitude', 'Property Type',\n",
    "       'Room Type', 'Accommodates', 'Bathrooms', 'Bedrooms',       \n",
    "       'Guests Included', 'Extra People', 'Availability 30',\n",
    "       'Number of Reviews', 'Cancellation Policy',\n",
    "       'Calculated host listings count', 'Bath_for_Beedrooms']]\n",
    "df_train.head()"
   ]
  },
  {
   "cell_type": "code",
   "execution_count": 56,
   "id": "785d50ef-a01d-461f-bb03-c393ce3115f6",
   "metadata": {
    "id": "785d50ef-a01d-461f-bb03-c393ce3115f6",
    "jupyter": {
     "outputs_hidden": true
    }
   },
   "outputs": [],
   "source": [
    "data = df_train.values\n",
    "y_train = data[:,0:1]     # nos quedamos con la 1ª columna, price\n",
    "X_train = data[:,3:]      # nos quedamos con el resto excepto 'ID' y 'Picture Url'\n",
    "feature_names = df_train.columns[3:]\n",
    "# Escalamos (con los datos de train)\n",
    "scaler = preprocessing.StandardScaler().fit(X_train)\n",
    "XtrainScaled = scaler.transform(X_train)"
   ]
  },
  {
   "cell_type": "markdown",
   "id": "aaf5f410-f223-45c4-b099-3ed13ce34ccf",
   "metadata": {
    "id": "aaf5f410-f223-45c4-b099-3ed13ce34ccf"
   },
   "source": [
    "## Decision Tree."
   ]
  },
  {
   "cell_type": "code",
   "execution_count": 57,
   "id": "d6202277-4de5-47fd-86e9-abb995b7ddc7",
   "metadata": {
    "colab": {
     "base_uri": "https://localhost:8080/",
     "height": 300
    },
    "id": "d6202277-4de5-47fd-86e9-abb995b7ddc7",
    "jupyter": {
     "outputs_hidden": true
    },
    "outputId": "34aa0c84-7bdb-4e40-8fcb-2e1cefd53014"
   },
   "outputs": [
    {
     "name": "stdout",
     "output_type": "stream",
     "text": [
      "best parameters: {'max_depth': 7}\n"
     ]
    },
    {
     "data": {
      "image/png": "[encoded data removed]",
      "text/plain": [
       "<Figure size 432x288 with 1 Axes>"
      ]
     },
     "metadata": {},
     "output_type": "display_data"
    }
   ],
   "source": [
    "max_depth = range(1,15)\n",
    "parameters = {'max_depth': max_depth}\n",
    "\n",
    "grid = GridSearchCV(DecisionTreeRegressor(), param_grid=parameters, cv=5)\n",
    "grid.fit(XtrainScaled, y_train)\n",
    "\n",
    "print(\"best parameters: {}\".format(grid.best_params_))\n",
    "\n",
    "scores = np.array(grid.cv_results_['mean_test_score'])\n",
    "plt.plot(max_depth, scores, '-o')\n",
    "plt.xlabel('max_depth', fontsize=14)\n",
    "plt.show()"
   ]
  },
  {
   "cell_type": "code",
   "execution_count": 58,
   "id": "b83813c3-b6d4-484c-a16d-37eff2d6d826",
   "metadata": {
    "id": "b83813c3-b6d4-484c-a16d-37eff2d6d826",
    "jupyter": {
     "outputs_hidden": true
    }
   },
   "outputs": [],
   "source": [
    "max_depth_opt = grid.best_params_['max_depth']\n",
    "\n",
    "reg_tree = DecisionTreeRegressor(max_depth=max_depth_opt).fit(XtrainScaled, y_train)"
   ]
  },
  {
   "cell_type": "code",
   "execution_count": 59,
   "id": "74f51683-2218-4022-b56e-9c3467bd8245",
   "metadata": {
    "colab": {
     "base_uri": "https://localhost:8080/",
     "height": 592
    },
    "id": "74f51683-2218-4022-b56e-9c3467bd8245",
    "jupyter": {
     "outputs_hidden": true
    },
    "outputId": "d5c84592-0b63-4f0b-f669-691e8476785f"
   },
   "outputs": [
    {
     "data": {
      "image/png": "[encoded data removed]",
      "text/plain": [
       "<Figure size 720x720 with 1 Axes>"
      ]
     },
     "metadata": {},
     "output_type": "display_data"
    }
   ],
   "source": [
    "importances = reg_tree.feature_importances_\n",
    "importances = importances / np.max(importances)\n",
    "\n",
    "indices = np.argsort(importances)[::-1]\n",
    "\n",
    "plt.figure(figsize=(10,10))\n",
    "plt.barh(range(X_train.shape[1]),importances[indices])\n",
    "plt.yticks(range(X_train.shape[1]),feature_names[indices])\n",
    "plt.show()"
   ]
  },
  {
   "cell_type": "markdown",
   "id": "3902a494-7db9-4f43-90a9-ab608d717c54",
   "metadata": {
    "id": "3902a494-7db9-4f43-90a9-ab608d717c54"
   },
   "source": [
    "## Random Forest."
   ]
  },
  {
   "cell_type": "code",
   "execution_count": 60,
   "id": "e6083268-a8d0-442c-bbe1-646a287e6f22",
   "metadata": {
    "colab": {
     "base_uri": "https://localhost:8080/",
     "height": 317
    },
    "id": "e6083268-a8d0-442c-bbe1-646a287e6f22",
    "jupyter": {
     "outputs_hidden": true
    },
    "outputId": "f860d9d7-03aa-4808-c85b-e37456f7360a"
   },
   "outputs": [
    {
     "name": "stdout",
     "output_type": "stream",
     "text": [
      "best mean cross-validation score: 0.780\n",
      "best parameters: {'max_depth': 19}\n"
     ]
    },
    {
     "data": {
      "image/png": "[encoded data removed]",
      "text/plain": [
       "<Figure size 432x288 with 1 Axes>"
      ]
     },
     "metadata": {},
     "output_type": "display_data"
    }
   ],
   "source": [
    "maxDepth = range(1,20)\n",
    "parameters = {'max_depth': maxDepth}\n",
    "grid = GridSearchCV(RandomForestRegressor(random_state=0, n_estimators=200, max_features='sqrt'), param_grid=parameters, cv=5) \n",
    "grid.fit(XtrainScaled, y_train.ravel())\n",
    "\n",
    "\n",
    "print(\"best mean cross-validation score: {:.3f}\".format(grid.best_score_))\n",
    "print(\"best parameters: {}\".format(grid.best_params_))\n",
    "\n",
    "scores = np.array(grid.cv_results_['mean_test_score'])\n",
    "plt.plot(maxDepth,scores,'-o')\n",
    "plt.xlabel('max_depth')\n",
    "plt.ylabel('10-fold ACC')\n",
    "\n",
    "plt.show()"
   ]
  },
  {
   "cell_type": "markdown",
   "id": "4e8410bf-6199-4507-95da-2a20331bfccc",
   "metadata": {
    "id": "4e8410bf-6199-4507-95da-2a20331bfccc"
   },
   "source": [
    "* La mejor profundidad que nos da es 19, pero creo que desde 12 la mejora es mínima y así hacemos el modelo mas sencillo"
   ]
  },
  {
   "cell_type": "code",
   "execution_count": 61,
   "id": "8e6d6a30-f50c-43b6-9019-15d75fe43e0e",
   "metadata": {
    "id": "8e6d6a30-f50c-43b6-9019-15d75fe43e0e",
    "jupyter": {
     "outputs_hidden": true
    }
   },
   "outputs": [],
   "source": [
    "model = RandomForestRegressor(max_depth=12,n_estimators=200,max_features='sqrt').fit(X_train,y_train.ravel())"
   ]
  },
  {
   "cell_type": "code",
   "execution_count": 62,
   "id": "2937f03d-67a2-4df6-b5e9-5a7b983ae7f3",
   "metadata": {
    "colab": {
     "base_uri": "https://localhost:8080/",
     "height": 592
    },
    "id": "2937f03d-67a2-4df6-b5e9-5a7b983ae7f3",
    "jupyter": {
     "outputs_hidden": true
    },
    "outputId": "dd32e8b9-fe09-4a00-c41d-823d45707956"
   },
   "outputs": [
    {
     "data": {
      "image/png": "[encoded data removed]",
      "text/plain": [
       "<Figure size 720x720 with 1 Axes>"
      ]
     },
     "metadata": {},
     "output_type": "display_data"
    }
   ],
   "source": [
    "importances = model.feature_importances_\n",
    "importances = importances / np.max(importances)\n",
    "\n",
    "indices = np.argsort(importances)[::-1]\n",
    "\n",
    "plt.figure(figsize=(10,10))\n",
    "plt.barh(range(X_train.shape[1]),importances[indices])\n",
    "plt.yticks(range(X_train.shape[1]),feature_names[indices])\n",
    "plt.show()"
   ]
  },
  {
   "cell_type": "markdown",
   "id": "f94768c3-503e-4df0-9c9b-3f2f90e4abb5",
   "metadata": {
    "id": "f94768c3-503e-4df0-9c9b-3f2f90e4abb5"
   },
   "source": [
    "* Hay variables que no tienen apenas peso para el modelo.\n",
    "* Prescindimos de las siguientes variables:"
   ]
  },
  {
   "cell_type": "code",
   "execution_count": 63,
   "id": "23cfbf58-b506-46f5-b929-0b31f8fba8b4",
   "metadata": {
    "id": "23cfbf58-b506-46f5-b929-0b31f8fba8b4",
    "jupyter": {
     "outputs_hidden": true
    }
   },
   "outputs": [],
   "source": [
    "df_train.drop(['Cancellation Policy', 'Property Type', 'Host Response Rate', 'Host Response Time', 'Number of Reviews', 'Extra People', 'Calculated host listings count', 'Longitude'], \n",
    "    axis=1, inplace=True)"
   ]
  },
  {
   "cell_type": "code",
   "execution_count": 64,
   "id": "OL-iKCIbi1Wc",
   "metadata": {
    "colab": {
     "base_uri": "https://localhost:8080/"
    },
    "id": "OL-iKCIbi1Wc",
    "outputId": "3877b96e-7f65-4dd9-cbb3-0841ca32309b"
   },
   "outputs": [
    {
     "data": {
      "text/plain": [
       "Index(['Price', 'ID', 'Picture Url', 'Neighbourhood', 'Zipcode', 'Latitude',\n",
       "       'Room Type', 'Accommodates', 'Bathrooms', 'Bedrooms', 'Guests Included',\n",
       "       'Availability 30', 'Bath_for_Beedrooms'],\n",
       "      dtype='object')"
      ]
     },
     "execution_count": 64,
     "metadata": {},
     "output_type": "execute_result"
    }
   ],
   "source": [
    "df_train.columns"
   ]
  },
  {
   "cell_type": "markdown",
   "id": "4487f754",
   "metadata": {},
   "source": [
    "Si se ejecuta la linea comentada en la siguiente celda, luego habria que volver a descargar las imágenes"
   ]
  },
  {
   "cell_type": "code",
   "execution_count": 65,
   "id": "57cf2509",
   "metadata": {
    "id": "57cf2509",
    "jupyter": {
     "outputs_hidden": true
    }
   },
   "outputs": [],
   "source": [
    "#df_train.to_csv('../2.Modelado_sin_Imagenes/Data/train_cleaned.csv', index=id, header=True) \n",
    "!rm 'Data/train.csv'"
   ]
  },
  {
   "cell_type": "markdown",
   "id": "971e747b-ad08-497c-b7cd-f6281b153ffa",
   "metadata": {
    "id": "971e747b-ad08-497c-b7cd-f6281b153ffa"
   },
   "source": [
    "## 1.2 - Transformaciones para test"
   ]
  },
  {
   "cell_type": "code",
   "execution_count": 66,
   "id": "c404bda1-13c6-4ef3-b717-98147c1a7c71",
   "metadata": {
    "colab": {
     "base_uri": "https://localhost:8080/"
    },
    "id": "c404bda1-13c6-4ef3-b717-98147c1a7c71",
    "jupyter": {
     "outputs_hidden": true
    },
    "outputId": "82f585e4-f364-4c37-bb5d-abecc120fb80"
   },
   "outputs": [],
   "source": [
    "df_test = pd.read_csv('Data/test.csv', sep=';', decimal='.')\n",
    "\n",
    "df_test.drop([\n",
    "    'Listing Url', 'Scrape ID', 'Last Scraped', 'Name', 'Summary', 'Space', 'Description', \n",
    "    'Experiences Offered', 'Neighborhood Overview', 'Notes', 'Transit', 'Access', 'Interaction', \n",
    "    'House Rules', 'Thumbnail Url', 'Medium Url', 'XL Picture Url',\n",
    "    'Host ID', 'Host URL', 'Host Name', 'Host Since', 'Host Location', 'Host About', 'Host Acceptance Rate', \n",
    "    'Host Thumbnail Url', 'Host Picture Url', 'Host Neighbourhood', 'Host Listings Count', \n",
    "    'Host Total Listings Count', 'Host Verifications', 'Street', 'Neighbourhood Group Cleansed', 'State', 'Market',\n",
    "    'Smart Location', 'Country Code', 'Country', 'Beds', 'Bed Type', 'Amenities', 'Calendar Updated', 'Has Availability', \n",
    "    'Calendar last Scraped','First Review', 'Last Review', 'Review Scores Rating', 'Review Scores Accuracy',\n",
    "    'Review Scores Cleanliness', 'Review Scores Checkin','Review Scores Communication', \n",
    "    'Review Scores Location', 'Review Scores Value', 'License', 'Jurisdiction Names',\n",
    "    'Reviews per Month', 'Geolocation', 'Features' \n",
    "    ], \n",
    "    axis=1, inplace=True)\n",
    "\n",
    "df_test['Price'] = np.log10(df_test['Price'])\n",
    "df_test['Neighbourhood'] = df_test['Neighbourhood'].fillna(df_test['Neighbourhood Cleansed'])\n",
    "df_test.drop(['Neighbourhood Cleansed'], axis=1, inplace=True)\n",
    "df_test = df_test[df_test['City'] == \"Madrid\"]\n",
    "df_test.drop(['City'], axis=1, inplace=True)\n",
    "df_test.drop(['Square Feet', 'Weekly Price', 'Monthly Price', 'Security Deposit', 'Cleaning Fee'], \n",
    "             axis=1, inplace=True)\n",
    "df_test['Bathrooms'] = df_test['Bathrooms'].fillna(value=1)\n",
    "df_test.drop(df_test[df_test['Bedrooms'].isnull()].index, inplace = True)\n",
    "df_test.drop(df_test[df_test['Price'].isnull()].index, inplace = True)\n",
    "df_test[\"Host Response Rate\"].fillna(mean_host_resp, inplace=True)\n",
    "df_test['Zipcode'] = df_test['Zipcode'].fillna('unknown')\n",
    "df_test['Host Response Time'] = df_test['Host Response Time'].fillna('unknown')\n",
    "df_test.drop(['Availability 60', 'Availability 90', 'Availability 365'], axis=1, inplace=True)\n",
    "df_test['Bath_for_Beedrooms'] = df_test['Bedrooms'] * df_test['Bathrooms']\n",
    "df_test.drop(df_train[df_train['Price']>350].index, inplace = True)\n",
    "df_test.drop(['Minimum Nights', 'Maximum Nights'], axis=1, inplace=True)\n",
    "columns = ['Price', 'ID', 'Picture Url', 'Host Response Time', 'Host Response Rate', \n",
    "       'Neighbourhood', 'Zipcode', 'Latitude', 'Longitude', 'Property Type',\n",
    "       'Room Type', 'Accommodates', 'Bathrooms', 'Bedrooms',       \n",
    "       'Guests Included', 'Extra People', 'Availability 30',\n",
    "       'Number of Reviews', 'Cancellation Policy',\n",
    "       'Calculated host listings count', 'Bath_for_Beedrooms']\n",
    "df_test = df_test[columns]\n",
    "df_test.drop([\n",
    "    'Cancellation Policy', 'Property Type', 'Host Response Rate',\n",
    "    'Host Response Time', 'Number of Reviews', 'Extra People', \n",
    "    'Calculated host listings count', 'Longitude'], \n",
    "    axis=1, inplace=True)\n",
    "\n",
    "categorical_feature_mask = df_test.dtypes==object\n",
    "categorical_cols = df_test.columns[categorical_feature_mask].tolist()\n",
    "categorical_cols = categorical_cols[1:]\n",
    "for c in categorical_cols:\n",
    "    df_test[c] = df_test[c].map(mean_map[c])"
   ]
  },
  {
   "cell_type": "code",
   "execution_count": 67,
   "id": "059a7c9e-1293-4090-83c7-38a19dc43f4c",
   "metadata": {
    "colab": {
     "base_uri": "https://localhost:8080/"
    },
    "id": "059a7c9e-1293-4090-83c7-38a19dc43f4c",
    "jupyter": {
     "outputs_hidden": true
    },
    "outputId": "2aeb3756-0623-4499-abb5-0622b1ba36e6"
   },
   "outputs": [
    {
     "data": {
      "text/plain": [
       "Price                 False\n",
       "ID                    False\n",
       "Picture Url            True\n",
       "Neighbourhood         False\n",
       "Zipcode                True\n",
       "Latitude              False\n",
       "Room Type             False\n",
       "Accommodates          False\n",
       "Bathrooms             False\n",
       "Bedrooms              False\n",
       "Guests Included       False\n",
       "Availability 30       False\n",
       "Bath_for_Beedrooms    False\n",
       "dtype: bool"
      ]
     },
     "execution_count": 67,
     "metadata": {},
     "output_type": "execute_result"
    }
   ],
   "source": [
    "df_test.isnull().any()"
   ]
  },
  {
   "cell_type": "code",
   "execution_count": 68,
   "id": "c5544f0f-0916-47da-9f9a-ff7103f178c3",
   "metadata": {
    "colab": {
     "base_uri": "https://localhost:8080/"
    },
    "id": "c5544f0f-0916-47da-9f9a-ff7103f178c3",
    "jupyter": {
     "outputs_hidden": true
    },
    "outputId": "636780fb-ea13-4334-9159-e3d6db18929a"
   },
   "outputs": [
    {
     "data": {
      "text/plain": [
       "4"
      ]
     },
     "execution_count": 68,
     "metadata": {},
     "output_type": "execute_result"
    }
   ],
   "source": [
    "df_test['Zipcode'].isnull().sum()"
   ]
  },
  {
   "cell_type": "markdown",
   "id": "036e56df-eba4-4572-8891-6198d185b9b0",
   "metadata": {
    "id": "036e56df-eba4-4572-8891-6198d185b9b0"
   },
   "source": [
    "* En el dataset de test tenemos 4 registros con NA debido al codificado de variables, como es una cantidad insignificante vamos a eliminar esos registros."
   ]
  },
  {
   "cell_type": "code",
   "execution_count": 69,
   "id": "c007b815-1023-479d-927a-97ef64f4e020",
   "metadata": {
    "id": "c007b815-1023-479d-927a-97ef64f4e020",
    "jupyter": {
     "outputs_hidden": true
    }
   },
   "outputs": [],
   "source": [
    "df_test.drop(df_test[df_test['Zipcode'].isnull()].index, inplace = True)"
   ]
  },
  {
   "cell_type": "code",
   "execution_count": 70,
   "id": "3JRd_gvgr48K",
   "metadata": {
    "id": "3JRd_gvgr48K"
   },
   "outputs": [],
   "source": [
    "#df_test.to_csv('../2.Modelado_sin_Imagenes/Data/test_cleaned.csv', index=id, header=True)\n",
    "!rm 'Data/test.csv'"
   ]
  }
 ],
 "metadata": {
  "colab": {
   "name": "practica_JoseLuisCuenca.ipynb",
   "provenance": []
  },
  "kernelspec": {
   "display_name": "Python 3",
   "language": "python",
   "name": "python3"
  },
  "language_info": {
   "codemirror_mode": {
    "name": "ipython",
    "version": 3
   },
   "file_extension": ".py",
   "mimetype": "text/x-python",
   "name": "python",
   "nbconvert_exporter": "python",
   "pygments_lexer": "ipython3",
   "version": "3.8.6"
  }
 },
 "nbformat": 4,
 "nbformat_minor": 5
}
