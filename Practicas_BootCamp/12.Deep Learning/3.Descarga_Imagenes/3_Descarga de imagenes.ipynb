{
 "cells": [
  {
   "cell_type": "markdown",
   "id": "076133dd",
   "metadata": {},
   "source": [
    "## 3.1 Descarga de imágenes"
   ]
  },
  {
   "cell_type": "code",
   "execution_count": 1,
   "id": "9e72bb68",
   "metadata": {},
   "outputs": [],
   "source": [
    "import pandas as pd\n",
    "import numpy  as np  \n",
    "import requests\n",
    "from imutils import paths\n",
    "import cv2\n",
    "import os\n",
    "import pickle"
   ]
  },
  {
   "cell_type": "markdown",
   "id": "c39b9a2c",
   "metadata": {},
   "source": [
    "#### Funciones Auxiliares"
   ]
  },
  {
   "cell_type": "code",
   "execution_count": 2,
   "id": "351f7e18",
   "metadata": {},
   "outputs": [],
   "source": [
    "def descargar_imagenes(path, lista_imagenes, lista_id):\n",
    "    \n",
    "    for indice_id, url in enumerate(lista_imagenes):  \n",
    "        try:\n",
    "            r = requests.get(url, timeout=60)\n",
    "            p = path + str (lista_id[indice_id]) + \".jpg\"\n",
    "            f = open(p, \"wb\")\n",
    "            f.write(r.content)\n",
    "            f.close()\n",
    "        except:  \n",
    "            print(\"[INFO] error downloading {}...skipping\".format(p))\n",
    "        break"
   ]
  },
  {
   "cell_type": "code",
   "execution_count": 3,
   "id": "4326fbfd",
   "metadata": {},
   "outputs": [],
   "source": [
    "def comprobar_imagenes(path):\n",
    "    \n",
    "    for imagePath in paths.list_images (path):\n",
    "        try: \n",
    "            if (cv2.imread(imagePath) is None):\n",
    "                print (\"[INFO] deleting {}\".format(imagePath))  \n",
    "                os.remove (imagePath)\n",
    "        except:            \n",
    "            print (\"[INFO] deleting {}\".format(imagePath))  \n",
    "            os.remove (imagePath)"
   ]
  },
  {
   "cell_type": "markdown",
   "id": "e9ad6ea8",
   "metadata": {},
   "source": [
    "#### Empezamos con train"
   ]
  },
  {
   "cell_type": "code",
   "execution_count": 4,
   "id": "190fdc2e",
   "metadata": {},
   "outputs": [],
   "source": [
    "train = pd.read_csv('../2.Modelado_sin_Imagenes/Data/train_cleaned.csv', sep =',', decimal='.', index_col=0) \n",
    "train.dropna(subset=['Picture Url'], inplace=True)\n",
    "\n",
    "test = pd.read_csv('../2.Modelado_sin_Imagenes/Data/test_cleaned.csv', sep =',', decimal='.', index_col=0) \n",
    "test.dropna(subset=['Picture Url'], inplace=True)"
   ]
  },
  {
   "cell_type": "code",
   "execution_count": 5,
   "id": "c88697b9",
   "metadata": {},
   "outputs": [],
   "source": [
    "lista_id_train = list (train['ID'])\n",
    "lista_imagenes_train = list (train['Picture Url'])\n",
    "#descargar_imagenes('img_train/',lista_imagenes_train, lista_id_train)\n",
    "#comprobar_imagenes('img_train/')"
   ]
  },
  {
   "cell_type": "markdown",
   "id": "93aa6edf",
   "metadata": {},
   "source": [
    "#### Lo mismo para test"
   ]
  },
  {
   "cell_type": "code",
   "execution_count": 6,
   "id": "fb2a5f4e",
   "metadata": {},
   "outputs": [],
   "source": [
    "lista_id_test = list (test['ID'])\n",
    "lista_imagenes_test = list (test['Picture Url'])\n",
    "#descargar_imagenes('img_test/',lista_imagenes_test, lista_id_test)\n",
    "#comprobar_imagenes('img_test/')"
   ]
  },
  {
   "cell_type": "markdown",
   "id": "7a27166f",
   "metadata": {},
   "source": [
    "## 3.2 Dataset de imágenes y precio\n",
    "\n",
    "A continuación voy a construir el dataset que servirá de entrada a la red covolucional. Este dataset contendrá imágenes de 50x50x3 y el precio correspondiente.\n",
    "\n",
    "Al mismo tiempo, se crea otro dataset con los datos de airbnb siguiendo el mismo orden de carga de la estructura de imágenes.  \n",
    "\n",
    "Estos datasets serán utilizados en la última parte de la práctica"
   ]
  },
  {
   "cell_type": "code",
   "execution_count": 7,
   "id": "bf6fbfb6",
   "metadata": {},
   "outputs": [],
   "source": [
    "def data(path,train):\n",
    "    \n",
    "    train_img = pd.DataFrame (columns = list(train.columns))      \n",
    "    X = []\n",
    "    y = []\n",
    "    IMG_SIZE = 50   \n",
    "\n",
    "    #Voy montando la estructura leyendo las imágenes desde su path\n",
    "    for imagePath in paths.list_images (path):  \n",
    "      try:\n",
    "        img_array = cv2.imread (imagePath, cv2.IMREAD_UNCHANGED)\n",
    "        if (img_array.shape[2]==3):  #Por si hay alguna imagen en blanco y negro no cogerla\n",
    "            #Obtengo el ID\n",
    "            a = os.path.splitext(imagePath)[0].split(\"/\") #Divido por el caracter \"/\"               \n",
    "            X.append(cv2.resize (img_array, (IMG_SIZE, IMG_SIZE)))\n",
    "            y.append(train.loc[int(a[-1]), 'Price'])\n",
    "            #Añado la linea correspodiente al nuevo dataset de datos\n",
    "            train_img = train_img.append(train.loc[[int(a[-1])]])       \n",
    "      except Exception as e:\n",
    "        pass  \n",
    "    \n",
    "    return np.array(X).reshape(-1, IMG_SIZE, IMG_SIZE, 3), np.array(y), train_img"
   ]
  },
  {
   "cell_type": "code",
   "execution_count": 8,
   "id": "a295aaee",
   "metadata": {},
   "outputs": [],
   "source": [
    "train.set_index('ID',inplace=True)\n",
    "X_train,y_train,train_img = data('img_train/',train)\n",
    "\n",
    "test.set_index('ID',inplace=True)\n",
    "X_test,y_test,test_img = data('img_test/',test)"
   ]
  },
  {
   "cell_type": "markdown",
   "id": "fa9acf83",
   "metadata": {},
   "source": [
    "## 3.3 Guardo datasets"
   ]
  },
  {
   "cell_type": "code",
   "execution_count": 9,
   "id": "f4a4af82",
   "metadata": {},
   "outputs": [],
   "source": [
    "def guardar_pickle(path,data):\n",
    "    pickle_out = open(path, \"wb\")\n",
    "    pickle.dump(data, pickle_out)\n",
    "    pickle_out.close()   "
   ]
  },
  {
   "cell_type": "code",
   "execution_count": 10,
   "id": "d55e1bfc",
   "metadata": {},
   "outputs": [],
   "source": [
    "guardar_pickle('../4.Modelado_con_Imagenes/Data/X_train.pickle',X_train)\n",
    "guardar_pickle('../4.Modelado_con_Imagenes/Data/y_train.pickle',y_train)\n",
    "train_img.to_csv('../4.Modelado_con_Imagenes/Data/train_img.csv', index=id, header=True)\n",
    "\n",
    "guardar_pickle('../4.Modelado_con_Imagenes/Data/X_test.pickle',X_test)\n",
    "guardar_pickle('../4.Modelado_con_Imagenes/Data/y_test.pickle',y_test)\n",
    "test_img.to_csv('../4.Modelado_con_Imagenes/Data/test_img.csv', index=id, header=True)"
   ]
  }
 ],
 "metadata": {
  "kernelspec": {
   "display_name": "Python 3",
   "language": "python",
   "name": "python3"
  },
  "language_info": {
   "codemirror_mode": {
    "name": "ipython",
    "version": 3
   },
   "file_extension": ".py",
   "mimetype": "text/x-python",
   "name": "python",
   "nbconvert_exporter": "python",
   "pygments_lexer": "ipython3",
   "version": "3.8.6"
  }
 },
 "nbformat": 4,
 "nbformat_minor": 5
}
