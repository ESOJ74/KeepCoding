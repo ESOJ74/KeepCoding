{
 "cells": [
  {
   "cell_type": "code",
   "execution_count": 1,
   "metadata": {},
   "outputs": [
    {
     "name": "stderr",
     "output_type": "stream",
     "text": [
      "\n",
      "Attaching package: ‘dplyr’\n",
      "\n",
      "\n",
      "The following objects are masked from ‘package:stats’:\n",
      "\n",
      "    filter, lag\n",
      "\n",
      "\n",
      "The following objects are masked from ‘package:base’:\n",
      "\n",
      "    intersect, setdiff, setequal, union\n",
      "\n",
      "\n",
      "── \u001b[1mAttaching packages\u001b[22m ─────────────────────────────────────── tidyverse 1.3.1 ──\n",
      "\n",
      "\u001b[32m✔\u001b[39m \u001b[34mtibble \u001b[39m 3.1.2     \u001b[32m✔\u001b[39m \u001b[34mpurrr  \u001b[39m 0.3.4\n",
      "\u001b[32m✔\u001b[39m \u001b[34mtidyr  \u001b[39m 1.1.3     \u001b[32m✔\u001b[39m \u001b[34mstringr\u001b[39m 1.4.0\n",
      "\u001b[32m✔\u001b[39m \u001b[34mreadr  \u001b[39m 2.0.2     \u001b[32m✔\u001b[39m \u001b[34mforcats\u001b[39m 0.5.1\n",
      "\n",
      "── \u001b[1mConflicts\u001b[22m ────────────────────────────────────────── tidyverse_conflicts() ──\n",
      "\u001b[31m✖\u001b[39m \u001b[34mdplyr\u001b[39m::\u001b[32mfilter()\u001b[39m masks \u001b[34mstats\u001b[39m::filter()\n",
      "\u001b[31m✖\u001b[39m \u001b[34mdplyr\u001b[39m::\u001b[32mlag()\u001b[39m    masks \u001b[34mstats\u001b[39m::lag()\n",
      "\n"
     ]
    }
   ],
   "source": [
    "library(ggplot2)\n",
    "library(dplyr)\n",
    "library(tidyverse)\n",
    "library(vcov)"
   ]
  },
  {
   "cell_type": "code",
   "execution_count": 2,
   "metadata": {},
   "outputs": [],
   "source": [
    "options(repr.plot.height=4,repr.plot.width=6)"
   ]
  },
  {
   "cell_type": "markdown",
   "metadata": {},
   "source": [
    "Cargar los datos en un dataframe llamado: airbnb"
   ]
  },
  {
   "cell_type": "code",
   "execution_count": 3,
   "metadata": {},
   "outputs": [],
   "source": [
    "airbnb<-read.csv('Data/airbnb.csv',sep = ',', stringsAsFactors = F)"
   ]
  },
  {
   "cell_type": "markdown",
   "metadata": {},
   "source": [
    "Mostrar las primeras 6 filas del dataframe"
   ]
  },
  {
   "cell_type": "code",
   "execution_count": 4,
   "metadata": {
    "scrolled": true
   },
   "outputs": [
    {
     "data": {
      "text/html": [
       "<table class=\"dataframe\">\n",
       "<caption>A data.frame: 6 × 13</caption>\n",
       "<thead>\n",
       "\t<tr><th></th><th scope=col>Zipcode</th><th scope=col>Neighbourhood.Cleansed</th><th scope=col>Property.Type</th><th scope=col>Room.Type</th><th scope=col>Accommodates</th><th scope=col>Bathrooms</th><th scope=col>Bedrooms</th><th scope=col>Beds</th><th scope=col>Bed.Type</th><th scope=col>Amenities</th><th scope=col>Square.Feet</th><th scope=col>Price</th><th scope=col>Review.Scores.Rating</th></tr>\n",
       "\t<tr><th></th><th scope=col>&lt;chr&gt;</th><th scope=col>&lt;chr&gt;</th><th scope=col>&lt;chr&gt;</th><th scope=col>&lt;chr&gt;</th><th scope=col>&lt;int&gt;</th><th scope=col>&lt;dbl&gt;</th><th scope=col>&lt;int&gt;</th><th scope=col>&lt;int&gt;</th><th scope=col>&lt;chr&gt;</th><th scope=col>&lt;chr&gt;</th><th scope=col>&lt;int&gt;</th><th scope=col>&lt;int&gt;</th><th scope=col>&lt;int&gt;</th></tr>\n",
       "</thead>\n",
       "<tbody>\n",
       "\t<tr><th scope=row>1</th><td>28004</td><td>Universidad</td><td>Apartment</td><td>Private room   </td><td>2</td><td>2</td><td>1</td><td>1</td><td>Real Bed</td><td>TV,Wireless Internet,Kitchen,Pets allowed,Pets live on this property,Buzzer/wireless intercom,Heating,Suitable for events,Washer,First aid kit,Essentials,Lock on bedroom door,Iron                                                                                                                                                                             </td><td> NA</td><td>35</td><td> NA</td></tr>\n",
       "\t<tr><th scope=row>2</th><td>28004</td><td>Universidad</td><td>Apartment</td><td>Entire home/apt</td><td>6</td><td>1</td><td>3</td><td>5</td><td>Real Bed</td><td>TV,Internet,Wireless Internet,Air conditioning,Kitchen,Indoor fireplace,Heating,Family/kid friendly,Washer,Dryer,Smoke detector,Carbon monoxide detector,Essentials,Shampoo                                                                                                                                                                                     </td><td> NA</td><td>92</td><td> 96</td></tr>\n",
       "\t<tr><th scope=row>3</th><td>28004</td><td>Universidad</td><td>Apartment</td><td>Entire home/apt</td><td>3</td><td>1</td><td>2</td><td>2</td><td>Real Bed</td><td>TV,Internet,Wireless Internet,Air conditioning,Kitchen,Doorman,Heating,Family/kid friendly,Washer,Essentials,Shampoo,Hangers,Hair dryer,Iron,Laptop friendly workspace                                                                                                                                                                                          </td><td> NA</td><td>55</td><td> 91</td></tr>\n",
       "\t<tr><th scope=row>4</th><td>28004</td><td>Universidad</td><td>Loft     </td><td>Entire home/apt</td><td>3</td><td>2</td><td>1</td><td>1</td><td>Real Bed</td><td>TV,Internet,Wireless Internet,Air conditioning,Kitchen,Pets allowed,Breakfast,Elevator in building,Indoor fireplace,Buzzer/wireless intercom,Heating,Washer,Essentials,Shampoo,Hangers,Hair dryer,Iron,Laptop friendly workspace,translation missing: en.hosting_amenity_49,translation missing: en.hosting_amenity_50                                          </td><td> NA</td><td>60</td><td>100</td></tr>\n",
       "\t<tr><th scope=row>5</th><td>28015</td><td>Universidad</td><td>Apartment</td><td>Entire home/apt</td><td>5</td><td>1</td><td>1</td><td>1</td><td>Real Bed</td><td>TV,Wireless Internet,Air conditioning,Kitchen,Smoking allowed,Pets allowed,Elevator in building,Heating,Family/kid friendly,Washer,Essentials,Iron                                                                                                                                                                                                              </td><td>538</td><td>75</td><td> 90</td></tr>\n",
       "\t<tr><th scope=row>6</th><td>28004</td><td>Universidad</td><td>Apartment</td><td>Entire home/apt</td><td>2</td><td>1</td><td>0</td><td>1</td><td>Real Bed</td><td>TV,Cable TV,Internet,Wireless Internet,Air conditioning,Wheelchair accessible,Kitchen,Doorman,Elevator in building,Buzzer/wireless intercom,Heating,Washer,Smoke detector,Carbon monoxide detector,First aid kit,Safety card,Fire extinguisher,Essentials,Shampoo,24-hour check-in,Hangers,Hair dryer,Iron,Laptop friendly workspace,Self Check-In,Doorman Entry</td><td> NA</td><td>55</td><td> 95</td></tr>\n",
       "</tbody>\n",
       "</table>\n"
      ],
      "text/latex": [
       "A data.frame: 6 × 13\n",
       "\\begin{tabular}{r|lllllllllllll}\n",
       "  & Zipcode & Neighbourhood.Cleansed & Property.Type & Room.Type & Accommodates & Bathrooms & Bedrooms & Beds & Bed.Type & Amenities & Square.Feet & Price & Review.Scores.Rating\\\\\n",
       "  & <chr> & <chr> & <chr> & <chr> & <int> & <dbl> & <int> & <int> & <chr> & <chr> & <int> & <int> & <int>\\\\\n",
       "\\hline\n",
       "\t1 & 28004 & Universidad & Apartment & Private room    & 2 & 2 & 1 & 1 & Real Bed & TV,Wireless Internet,Kitchen,Pets allowed,Pets live on this property,Buzzer/wireless intercom,Heating,Suitable for events,Washer,First aid kit,Essentials,Lock on bedroom door,Iron                                                                                                                                                                              &  NA & 35 &  NA\\\\\n",
       "\t2 & 28004 & Universidad & Apartment & Entire home/apt & 6 & 1 & 3 & 5 & Real Bed & TV,Internet,Wireless Internet,Air conditioning,Kitchen,Indoor fireplace,Heating,Family/kid friendly,Washer,Dryer,Smoke detector,Carbon monoxide detector,Essentials,Shampoo                                                                                                                                                                                      &  NA & 92 &  96\\\\\n",
       "\t3 & 28004 & Universidad & Apartment & Entire home/apt & 3 & 1 & 2 & 2 & Real Bed & TV,Internet,Wireless Internet,Air conditioning,Kitchen,Doorman,Heating,Family/kid friendly,Washer,Essentials,Shampoo,Hangers,Hair dryer,Iron,Laptop friendly workspace                                                                                                                                                                                           &  NA & 55 &  91\\\\\n",
       "\t4 & 28004 & Universidad & Loft      & Entire home/apt & 3 & 2 & 1 & 1 & Real Bed & TV,Internet,Wireless Internet,Air conditioning,Kitchen,Pets allowed,Breakfast,Elevator in building,Indoor fireplace,Buzzer/wireless intercom,Heating,Washer,Essentials,Shampoo,Hangers,Hair dryer,Iron,Laptop friendly workspace,translation missing: en.hosting\\_amenity\\_49,translation missing: en.hosting\\_amenity\\_50                                           &  NA & 60 & 100\\\\\n",
       "\t5 & 28015 & Universidad & Apartment & Entire home/apt & 5 & 1 & 1 & 1 & Real Bed & TV,Wireless Internet,Air conditioning,Kitchen,Smoking allowed,Pets allowed,Elevator in building,Heating,Family/kid friendly,Washer,Essentials,Iron                                                                                                                                                                                                               & 538 & 75 &  90\\\\\n",
       "\t6 & 28004 & Universidad & Apartment & Entire home/apt & 2 & 1 & 0 & 1 & Real Bed & TV,Cable TV,Internet,Wireless Internet,Air conditioning,Wheelchair accessible,Kitchen,Doorman,Elevator in building,Buzzer/wireless intercom,Heating,Washer,Smoke detector,Carbon monoxide detector,First aid kit,Safety card,Fire extinguisher,Essentials,Shampoo,24-hour check-in,Hangers,Hair dryer,Iron,Laptop friendly workspace,Self Check-In,Doorman Entry &  NA & 55 &  95\\\\\n",
       "\\end{tabular}\n"
      ],
      "text/markdown": [
       "\n",
       "A data.frame: 6 × 13\n",
       "\n",
       "| <!--/--> | Zipcode &lt;chr&gt; | Neighbourhood.Cleansed &lt;chr&gt; | Property.Type &lt;chr&gt; | Room.Type &lt;chr&gt; | Accommodates &lt;int&gt; | Bathrooms &lt;dbl&gt; | Bedrooms &lt;int&gt; | Beds &lt;int&gt; | Bed.Type &lt;chr&gt; | Amenities &lt;chr&gt; | Square.Feet &lt;int&gt; | Price &lt;int&gt; | Review.Scores.Rating &lt;int&gt; |\n",
       "|---|---|---|---|---|---|---|---|---|---|---|---|---|---|\n",
       "| 1 | 28004 | Universidad | Apartment | Private room    | 2 | 2 | 1 | 1 | Real Bed | TV,Wireless Internet,Kitchen,Pets allowed,Pets live on this property,Buzzer/wireless intercom,Heating,Suitable for events,Washer,First aid kit,Essentials,Lock on bedroom door,Iron                                                                                                                                                                              |  NA | 35 |  NA |\n",
       "| 2 | 28004 | Universidad | Apartment | Entire home/apt | 6 | 1 | 3 | 5 | Real Bed | TV,Internet,Wireless Internet,Air conditioning,Kitchen,Indoor fireplace,Heating,Family/kid friendly,Washer,Dryer,Smoke detector,Carbon monoxide detector,Essentials,Shampoo                                                                                                                                                                                      |  NA | 92 |  96 |\n",
       "| 3 | 28004 | Universidad | Apartment | Entire home/apt | 3 | 1 | 2 | 2 | Real Bed | TV,Internet,Wireless Internet,Air conditioning,Kitchen,Doorman,Heating,Family/kid friendly,Washer,Essentials,Shampoo,Hangers,Hair dryer,Iron,Laptop friendly workspace                                                                                                                                                                                           |  NA | 55 |  91 |\n",
       "| 4 | 28004 | Universidad | Loft      | Entire home/apt | 3 | 2 | 1 | 1 | Real Bed | TV,Internet,Wireless Internet,Air conditioning,Kitchen,Pets allowed,Breakfast,Elevator in building,Indoor fireplace,Buzzer/wireless intercom,Heating,Washer,Essentials,Shampoo,Hangers,Hair dryer,Iron,Laptop friendly workspace,translation missing: en.hosting_amenity_49,translation missing: en.hosting_amenity_50                                           |  NA | 60 | 100 |\n",
       "| 5 | 28015 | Universidad | Apartment | Entire home/apt | 5 | 1 | 1 | 1 | Real Bed | TV,Wireless Internet,Air conditioning,Kitchen,Smoking allowed,Pets allowed,Elevator in building,Heating,Family/kid friendly,Washer,Essentials,Iron                                                                                                                                                                                                               | 538 | 75 |  90 |\n",
       "| 6 | 28004 | Universidad | Apartment | Entire home/apt | 2 | 1 | 0 | 1 | Real Bed | TV,Cable TV,Internet,Wireless Internet,Air conditioning,Wheelchair accessible,Kitchen,Doorman,Elevator in building,Buzzer/wireless intercom,Heating,Washer,Smoke detector,Carbon monoxide detector,First aid kit,Safety card,Fire extinguisher,Essentials,Shampoo,24-hour check-in,Hangers,Hair dryer,Iron,Laptop friendly workspace,Self Check-In,Doorman Entry |  NA | 55 |  95 |\n",
       "\n"
      ],
      "text/plain": [
       "  Zipcode Neighbourhood.Cleansed Property.Type Room.Type       Accommodates\n",
       "1 28004   Universidad            Apartment     Private room    2           \n",
       "2 28004   Universidad            Apartment     Entire home/apt 6           \n",
       "3 28004   Universidad            Apartment     Entire home/apt 3           \n",
       "4 28004   Universidad            Loft          Entire home/apt 3           \n",
       "5 28015   Universidad            Apartment     Entire home/apt 5           \n",
       "6 28004   Universidad            Apartment     Entire home/apt 2           \n",
       "  Bathrooms Bedrooms Beds Bed.Type\n",
       "1 2         1        1    Real Bed\n",
       "2 1         3        5    Real Bed\n",
       "3 1         2        2    Real Bed\n",
       "4 2         1        1    Real Bed\n",
       "5 1         1        1    Real Bed\n",
       "6 1         0        1    Real Bed\n",
       "  Amenities                                                                                                                                                                                                                                                                                                                                                       \n",
       "1 TV,Wireless Internet,Kitchen,Pets allowed,Pets live on this property,Buzzer/wireless intercom,Heating,Suitable for events,Washer,First aid kit,Essentials,Lock on bedroom door,Iron                                                                                                                                                                             \n",
       "2 TV,Internet,Wireless Internet,Air conditioning,Kitchen,Indoor fireplace,Heating,Family/kid friendly,Washer,Dryer,Smoke detector,Carbon monoxide detector,Essentials,Shampoo                                                                                                                                                                                     \n",
       "3 TV,Internet,Wireless Internet,Air conditioning,Kitchen,Doorman,Heating,Family/kid friendly,Washer,Essentials,Shampoo,Hangers,Hair dryer,Iron,Laptop friendly workspace                                                                                                                                                                                          \n",
       "4 TV,Internet,Wireless Internet,Air conditioning,Kitchen,Pets allowed,Breakfast,Elevator in building,Indoor fireplace,Buzzer/wireless intercom,Heating,Washer,Essentials,Shampoo,Hangers,Hair dryer,Iron,Laptop friendly workspace,translation missing: en.hosting_amenity_49,translation missing: en.hosting_amenity_50                                          \n",
       "5 TV,Wireless Internet,Air conditioning,Kitchen,Smoking allowed,Pets allowed,Elevator in building,Heating,Family/kid friendly,Washer,Essentials,Iron                                                                                                                                                                                                              \n",
       "6 TV,Cable TV,Internet,Wireless Internet,Air conditioning,Wheelchair accessible,Kitchen,Doorman,Elevator in building,Buzzer/wireless intercom,Heating,Washer,Smoke detector,Carbon monoxide detector,First aid kit,Safety card,Fire extinguisher,Essentials,Shampoo,24-hour check-in,Hangers,Hair dryer,Iron,Laptop friendly workspace,Self Check-In,Doorman Entry\n",
       "  Square.Feet Price Review.Scores.Rating\n",
       "1  NA         35     NA                 \n",
       "2  NA         92     96                 \n",
       "3  NA         55     91                 \n",
       "4  NA         60    100                 \n",
       "5 538         75     90                 \n",
       "6  NA         55     95                 "
      ]
     },
     "metadata": {},
     "output_type": "display_data"
    }
   ],
   "source": [
    "head(airbnb, 6)"
   ]
  },
  {
   "cell_type": "markdown",
   "metadata": {},
   "source": [
    "Renombrar las columnas de la siguiente forma:\n",
    "\n",
    "| Nombre original | Nuevo nombre |\n",
    "| - | - |\n",
    "| Zipcode | CodigoPostal |\n",
    "| Neighbourhood.Cleansed | Barrio |\n",
    "| Property.Type\t| TipoPropiedad |\n",
    "| Room.Type | TipoAlquiler |\n",
    "| Accommodates | MaxOcupantes |\n",
    "| Bathrooms\t| NumBanyos |\n",
    "| Bedrooms\t| NumDormitorios |\n",
    "| Beds\t|  NumCamas |\n",
    "| Bed.Type\t| TipoCama |\n",
    "| Amenities | Comodidades |\n",
    "| Square.Feet | PiesCuadrados |\n",
    "| Price\t| Precio |\n",
    "| Review.Scores.Rating | Puntuacion |"
   ]
  },
  {
   "cell_type": "code",
   "execution_count": 5,
   "metadata": {},
   "outputs": [
    {
     "data": {
      "text/html": [
       "<table class=\"dataframe\">\n",
       "<caption>A data.frame: 1 × 13</caption>\n",
       "<thead>\n",
       "\t<tr><th></th><th scope=col>CodigoPostal</th><th scope=col>Barrio</th><th scope=col>TipoPropiedad</th><th scope=col>TipoAlquiler</th><th scope=col>MaxOcupantes</th><th scope=col>NumBanyos</th><th scope=col>NumDormitorios</th><th scope=col>NumCamas</th><th scope=col>TipoCama</th><th scope=col>Comodidades</th><th scope=col>PiesCuadrados</th><th scope=col>Precio</th><th scope=col>Puntuacion</th></tr>\n",
       "\t<tr><th></th><th scope=col>&lt;chr&gt;</th><th scope=col>&lt;chr&gt;</th><th scope=col>&lt;chr&gt;</th><th scope=col>&lt;chr&gt;</th><th scope=col>&lt;int&gt;</th><th scope=col>&lt;dbl&gt;</th><th scope=col>&lt;int&gt;</th><th scope=col>&lt;int&gt;</th><th scope=col>&lt;chr&gt;</th><th scope=col>&lt;chr&gt;</th><th scope=col>&lt;int&gt;</th><th scope=col>&lt;int&gt;</th><th scope=col>&lt;int&gt;</th></tr>\n",
       "</thead>\n",
       "<tbody>\n",
       "\t<tr><th scope=row>1</th><td>28004</td><td>Universidad</td><td>Apartment</td><td>Private room</td><td>2</td><td>2</td><td>1</td><td>1</td><td>Real Bed</td><td>TV,Wireless Internet,Kitchen,Pets allowed,Pets live on this property,Buzzer/wireless intercom,Heating,Suitable for events,Washer,First aid kit,Essentials,Lock on bedroom door,Iron</td><td>NA</td><td>35</td><td>NA</td></tr>\n",
       "</tbody>\n",
       "</table>\n"
      ],
      "text/latex": [
       "A data.frame: 1 × 13\n",
       "\\begin{tabular}{r|lllllllllllll}\n",
       "  & CodigoPostal & Barrio & TipoPropiedad & TipoAlquiler & MaxOcupantes & NumBanyos & NumDormitorios & NumCamas & TipoCama & Comodidades & PiesCuadrados & Precio & Puntuacion\\\\\n",
       "  & <chr> & <chr> & <chr> & <chr> & <int> & <dbl> & <int> & <int> & <chr> & <chr> & <int> & <int> & <int>\\\\\n",
       "\\hline\n",
       "\t1 & 28004 & Universidad & Apartment & Private room & 2 & 2 & 1 & 1 & Real Bed & TV,Wireless Internet,Kitchen,Pets allowed,Pets live on this property,Buzzer/wireless intercom,Heating,Suitable for events,Washer,First aid kit,Essentials,Lock on bedroom door,Iron & NA & 35 & NA\\\\\n",
       "\\end{tabular}\n"
      ],
      "text/markdown": [
       "\n",
       "A data.frame: 1 × 13\n",
       "\n",
       "| <!--/--> | CodigoPostal &lt;chr&gt; | Barrio &lt;chr&gt; | TipoPropiedad &lt;chr&gt; | TipoAlquiler &lt;chr&gt; | MaxOcupantes &lt;int&gt; | NumBanyos &lt;dbl&gt; | NumDormitorios &lt;int&gt; | NumCamas &lt;int&gt; | TipoCama &lt;chr&gt; | Comodidades &lt;chr&gt; | PiesCuadrados &lt;int&gt; | Precio &lt;int&gt; | Puntuacion &lt;int&gt; |\n",
       "|---|---|---|---|---|---|---|---|---|---|---|---|---|---|\n",
       "| 1 | 28004 | Universidad | Apartment | Private room | 2 | 2 | 1 | 1 | Real Bed | TV,Wireless Internet,Kitchen,Pets allowed,Pets live on this property,Buzzer/wireless intercom,Heating,Suitable for events,Washer,First aid kit,Essentials,Lock on bedroom door,Iron | NA | 35 | NA |\n",
       "\n"
      ],
      "text/plain": [
       "  CodigoPostal Barrio      TipoPropiedad TipoAlquiler MaxOcupantes NumBanyos\n",
       "1 28004        Universidad Apartment     Private room 2            2        \n",
       "  NumDormitorios NumCamas TipoCama\n",
       "1 1              1        Real Bed\n",
       "  Comodidades                                                                                                                                                                        \n",
       "1 TV,Wireless Internet,Kitchen,Pets allowed,Pets live on this property,Buzzer/wireless intercom,Heating,Suitable for events,Washer,First aid kit,Essentials,Lock on bedroom door,Iron\n",
       "  PiesCuadrados Precio Puntuacion\n",
       "1 NA            35     NA        "
      ]
     },
     "metadata": {},
     "output_type": "display_data"
    }
   ],
   "source": [
    "newnames<-c(\"CodigoPostal\",\"Barrio\",\"TipoPropiedad\",\"TipoAlquiler\",\"MaxOcupantes\",\"NumBanyos\",\n",
    "\"NumDormitorios\",\"NumCamas\",\"TipoCama\",\"Comodidades\",\"PiesCuadrados\",\"Precio\",\"Puntuacion\")\n",
    "\n",
    "colnames(airbnb) <- newnames\n",
    "head(airbnb, 1)"
   ]
  },
  {
   "cell_type": "markdown",
   "metadata": {},
   "source": [
    "Crea una nueva columna llamada MetrosCuadrados a partir de la columna PiesCuadrados.\n",
    "\n",
    "Ayuda: 1 pie cuadrado son 0,092903 metros cuadrados"
   ]
  },
  {
   "cell_type": "code",
   "execution_count": 6,
   "metadata": {},
   "outputs": [
    {
     "data": {
      "text/html": [
       "<table class=\"dataframe\">\n",
       "<caption>A data.frame: 1 × 14</caption>\n",
       "<thead>\n",
       "\t<tr><th></th><th scope=col>CodigoPostal</th><th scope=col>Barrio</th><th scope=col>TipoPropiedad</th><th scope=col>TipoAlquiler</th><th scope=col>MaxOcupantes</th><th scope=col>NumBanyos</th><th scope=col>NumDormitorios</th><th scope=col>NumCamas</th><th scope=col>TipoCama</th><th scope=col>Comodidades</th><th scope=col>PiesCuadrados</th><th scope=col>Precio</th><th scope=col>Puntuacion</th><th scope=col>MetrosCuadrados</th></tr>\n",
       "\t<tr><th></th><th scope=col>&lt;chr&gt;</th><th scope=col>&lt;chr&gt;</th><th scope=col>&lt;chr&gt;</th><th scope=col>&lt;chr&gt;</th><th scope=col>&lt;int&gt;</th><th scope=col>&lt;dbl&gt;</th><th scope=col>&lt;int&gt;</th><th scope=col>&lt;int&gt;</th><th scope=col>&lt;chr&gt;</th><th scope=col>&lt;chr&gt;</th><th scope=col>&lt;int&gt;</th><th scope=col>&lt;int&gt;</th><th scope=col>&lt;int&gt;</th><th scope=col>&lt;dbl&gt;</th></tr>\n",
       "</thead>\n",
       "<tbody>\n",
       "\t<tr><th scope=row>1</th><td>28004</td><td>Universidad</td><td>Apartment</td><td>Private room</td><td>2</td><td>2</td><td>1</td><td>1</td><td>Real Bed</td><td>TV,Wireless Internet,Kitchen,Pets allowed,Pets live on this property,Buzzer/wireless intercom,Heating,Suitable for events,Washer,First aid kit,Essentials,Lock on bedroom door,Iron</td><td>NA</td><td>35</td><td>NA</td><td>NA</td></tr>\n",
       "</tbody>\n",
       "</table>\n"
      ],
      "text/latex": [
       "A data.frame: 1 × 14\n",
       "\\begin{tabular}{r|llllllllllllll}\n",
       "  & CodigoPostal & Barrio & TipoPropiedad & TipoAlquiler & MaxOcupantes & NumBanyos & NumDormitorios & NumCamas & TipoCama & Comodidades & PiesCuadrados & Precio & Puntuacion & MetrosCuadrados\\\\\n",
       "  & <chr> & <chr> & <chr> & <chr> & <int> & <dbl> & <int> & <int> & <chr> & <chr> & <int> & <int> & <int> & <dbl>\\\\\n",
       "\\hline\n",
       "\t1 & 28004 & Universidad & Apartment & Private room & 2 & 2 & 1 & 1 & Real Bed & TV,Wireless Internet,Kitchen,Pets allowed,Pets live on this property,Buzzer/wireless intercom,Heating,Suitable for events,Washer,First aid kit,Essentials,Lock on bedroom door,Iron & NA & 35 & NA & NA\\\\\n",
       "\\end{tabular}\n"
      ],
      "text/markdown": [
       "\n",
       "A data.frame: 1 × 14\n",
       "\n",
       "| <!--/--> | CodigoPostal &lt;chr&gt; | Barrio &lt;chr&gt; | TipoPropiedad &lt;chr&gt; | TipoAlquiler &lt;chr&gt; | MaxOcupantes &lt;int&gt; | NumBanyos &lt;dbl&gt; | NumDormitorios &lt;int&gt; | NumCamas &lt;int&gt; | TipoCama &lt;chr&gt; | Comodidades &lt;chr&gt; | PiesCuadrados &lt;int&gt; | Precio &lt;int&gt; | Puntuacion &lt;int&gt; | MetrosCuadrados &lt;dbl&gt; |\n",
       "|---|---|---|---|---|---|---|---|---|---|---|---|---|---|---|\n",
       "| 1 | 28004 | Universidad | Apartment | Private room | 2 | 2 | 1 | 1 | Real Bed | TV,Wireless Internet,Kitchen,Pets allowed,Pets live on this property,Buzzer/wireless intercom,Heating,Suitable for events,Washer,First aid kit,Essentials,Lock on bedroom door,Iron | NA | 35 | NA | NA |\n",
       "\n"
      ],
      "text/plain": [
       "  CodigoPostal Barrio      TipoPropiedad TipoAlquiler MaxOcupantes NumBanyos\n",
       "1 28004        Universidad Apartment     Private room 2            2        \n",
       "  NumDormitorios NumCamas TipoCama\n",
       "1 1              1        Real Bed\n",
       "  Comodidades                                                                                                                                                                        \n",
       "1 TV,Wireless Internet,Kitchen,Pets allowed,Pets live on this property,Buzzer/wireless intercom,Heating,Suitable for events,Washer,First aid kit,Essentials,Lock on bedroom door,Iron\n",
       "  PiesCuadrados Precio Puntuacion MetrosCuadrados\n",
       "1 NA            35     NA         NA             "
      ]
     },
     "metadata": {},
     "output_type": "display_data"
    }
   ],
   "source": [
    "airbnb <- data.frame(airbnb, MetrosCuadrados = (airbnb$PiesCuadrados*0.092903))\n",
    "head(airbnb, 1)"
   ]
  },
  {
   "cell_type": "markdown",
   "metadata": {},
   "source": [
    "Miremos el código postal. Es una variable con entradas erroneas.\n",
    "Hay valores como '', '-'  y '28' que deberían ser considerados como NA.\n",
    "Así mismo también debería ser NA todos los que no compiencen por 28, ya que estamos con códigos postales de Madrid\n",
    "\n",
    "El código postal 28002, 28004 y 28051 tienen entradas repetidas. \n",
    "Por ejemplo las entradas 28002\\n20882 deberían ir dentro de 28002\n",
    "\n",
    "El codigo 2804 debería ser 28004, 2805 deberia ser 28005 y 2815 junto con 2815 debería ser 28015\n",
    "\n",
    "Limpia los datos de la columna Codigo Postal"
   ]
  },
  {
   "cell_type": "code",
   "execution_count": 7,
   "metadata": {},
   "outputs": [
    {
     "name": "stdout",
     "output_type": "stream",
     "text": [
      "[1] \"airbnb tiene 13207 rows\"\n"
     ]
    }
   ],
   "source": [
    "print(paste0(\"airbnb tiene \",count(airbnb), \" rows\"))"
   ]
  },
  {
   "cell_type": "code",
   "execution_count": 8,
   "metadata": {},
   "outputs": [
    {
     "data": {
      "text/html": [
       "<style>\n",
       ".list-inline {list-style: none; margin:0; padding: 0}\n",
       ".list-inline>li {display: inline-block}\n",
       ".list-inline>li:not(:last-child)::after {content: \"\\00b7\"; padding: 0 .5ex}\n",
       "</style>\n",
       "<ol class=list-inline><li>'28004'</li><li>'28015'</li><li>'28013'</li><li>'28005'</li><li>'28012'</li><li>'28014'</li><li>'28045'</li><li>'27013'</li><li>''</li><li>'28007'</li><li>'28028'</li><li>'28009'</li><li>'28001'</li><li>'28006'</li><li>'28010'</li><li>'28002'</li><li>'28034'</li><li>'28050'</li><li>'28008'</li><li>'28011'</li><li>'28049'</li><li>'28038'</li><li>'28053'</li><li>'28047'</li><li>'28025'</li><li>'28019'</li><li>'28024'</li><li>'28016'</li><li>'28036'</li><li>'28046'</li><li>'28039'</li><li>'28020'</li><li>'28003'</li><li>'28029'</li><li>'28054'</li><li>'28041'</li><li>'28026'</li><li>'28058'</li><li>'28018'</li><li>'28030'</li><li>'28017'</li><li>'28027'</li><li>'28043'</li><li>'28033'</li><li>'28055'</li><li>'28021'</li><li>'28032'</li><li>'28037'</li><li>'28022'</li><li>'28042'</li><li>'28094'</li><li>'280013'</li><li>'28002\\n28002'</li><li>'28035'</li><li>'28040'</li><li>'28031'</li><li>'28044'</li><li>'28105'</li><li>'28023'</li><li>'2805'</li><li>'28051'</li><li>'Madrid 28004'</li><li>'20126'</li><li>'28051\\n28051'</li><li>'28850'</li><li>'28048'</li><li>'28056'</li><li>'20013'</li><li>'27004'</li><li>'28060'</li><li>'-'</li><li>'28'</li><li>'2815'</li><li>'25008'</li><li>'2015'</li><li>'28052'</li><li>'2804'</li></ol>\n"
      ],
      "text/latex": [
       "\\begin{enumerate*}\n",
       "\\item '28004'\n",
       "\\item '28015'\n",
       "\\item '28013'\n",
       "\\item '28005'\n",
       "\\item '28012'\n",
       "\\item '28014'\n",
       "\\item '28045'\n",
       "\\item '27013'\n",
       "\\item ''\n",
       "\\item '28007'\n",
       "\\item '28028'\n",
       "\\item '28009'\n",
       "\\item '28001'\n",
       "\\item '28006'\n",
       "\\item '28010'\n",
       "\\item '28002'\n",
       "\\item '28034'\n",
       "\\item '28050'\n",
       "\\item '28008'\n",
       "\\item '28011'\n",
       "\\item '28049'\n",
       "\\item '28038'\n",
       "\\item '28053'\n",
       "\\item '28047'\n",
       "\\item '28025'\n",
       "\\item '28019'\n",
       "\\item '28024'\n",
       "\\item '28016'\n",
       "\\item '28036'\n",
       "\\item '28046'\n",
       "\\item '28039'\n",
       "\\item '28020'\n",
       "\\item '28003'\n",
       "\\item '28029'\n",
       "\\item '28054'\n",
       "\\item '28041'\n",
       "\\item '28026'\n",
       "\\item '28058'\n",
       "\\item '28018'\n",
       "\\item '28030'\n",
       "\\item '28017'\n",
       "\\item '28027'\n",
       "\\item '28043'\n",
       "\\item '28033'\n",
       "\\item '28055'\n",
       "\\item '28021'\n",
       "\\item '28032'\n",
       "\\item '28037'\n",
       "\\item '28022'\n",
       "\\item '28042'\n",
       "\\item '28094'\n",
       "\\item '280013'\n",
       "\\item '28002\\textbackslash{}n28002'\n",
       "\\item '28035'\n",
       "\\item '28040'\n",
       "\\item '28031'\n",
       "\\item '28044'\n",
       "\\item '28105'\n",
       "\\item '28023'\n",
       "\\item '2805'\n",
       "\\item '28051'\n",
       "\\item 'Madrid 28004'\n",
       "\\item '20126'\n",
       "\\item '28051\\textbackslash{}n28051'\n",
       "\\item '28850'\n",
       "\\item '28048'\n",
       "\\item '28056'\n",
       "\\item '20013'\n",
       "\\item '27004'\n",
       "\\item '28060'\n",
       "\\item '-'\n",
       "\\item '28'\n",
       "\\item '2815'\n",
       "\\item '25008'\n",
       "\\item '2015'\n",
       "\\item '28052'\n",
       "\\item '2804'\n",
       "\\end{enumerate*}\n"
      ],
      "text/markdown": [
       "1. '28004'\n",
       "2. '28015'\n",
       "3. '28013'\n",
       "4. '28005'\n",
       "5. '28012'\n",
       "6. '28014'\n",
       "7. '28045'\n",
       "8. '27013'\n",
       "9. ''\n",
       "10. '28007'\n",
       "11. '28028'\n",
       "12. '28009'\n",
       "13. '28001'\n",
       "14. '28006'\n",
       "15. '28010'\n",
       "16. '28002'\n",
       "17. '28034'\n",
       "18. '28050'\n",
       "19. '28008'\n",
       "20. '28011'\n",
       "21. '28049'\n",
       "22. '28038'\n",
       "23. '28053'\n",
       "24. '28047'\n",
       "25. '28025'\n",
       "26. '28019'\n",
       "27. '28024'\n",
       "28. '28016'\n",
       "29. '28036'\n",
       "30. '28046'\n",
       "31. '28039'\n",
       "32. '28020'\n",
       "33. '28003'\n",
       "34. '28029'\n",
       "35. '28054'\n",
       "36. '28041'\n",
       "37. '28026'\n",
       "38. '28058'\n",
       "39. '28018'\n",
       "40. '28030'\n",
       "41. '28017'\n",
       "42. '28027'\n",
       "43. '28043'\n",
       "44. '28033'\n",
       "45. '28055'\n",
       "46. '28021'\n",
       "47. '28032'\n",
       "48. '28037'\n",
       "49. '28022'\n",
       "50. '28042'\n",
       "51. '28094'\n",
       "52. '280013'\n",
       "53. '28002\\n28002'\n",
       "54. '28035'\n",
       "55. '28040'\n",
       "56. '28031'\n",
       "57. '28044'\n",
       "58. '28105'\n",
       "59. '28023'\n",
       "60. '2805'\n",
       "61. '28051'\n",
       "62. 'Madrid 28004'\n",
       "63. '20126'\n",
       "64. '28051\\n28051'\n",
       "65. '28850'\n",
       "66. '28048'\n",
       "67. '28056'\n",
       "68. '20013'\n",
       "69. '27004'\n",
       "70. '28060'\n",
       "71. '-'\n",
       "72. '28'\n",
       "73. '2815'\n",
       "74. '25008'\n",
       "75. '2015'\n",
       "76. '28052'\n",
       "77. '2804'\n",
       "\n",
       "\n"
      ],
      "text/plain": [
       " [1] \"28004\"        \"28015\"        \"28013\"        \"28005\"        \"28012\"       \n",
       " [6] \"28014\"        \"28045\"        \"27013\"        \"\"             \"28007\"       \n",
       "[11] \"28028\"        \"28009\"        \"28001\"        \"28006\"        \"28010\"       \n",
       "[16] \"28002\"        \"28034\"        \"28050\"        \"28008\"        \"28011\"       \n",
       "[21] \"28049\"        \"28038\"        \"28053\"        \"28047\"        \"28025\"       \n",
       "[26] \"28019\"        \"28024\"        \"28016\"        \"28036\"        \"28046\"       \n",
       "[31] \"28039\"        \"28020\"        \"28003\"        \"28029\"        \"28054\"       \n",
       "[36] \"28041\"        \"28026\"        \"28058\"        \"28018\"        \"28030\"       \n",
       "[41] \"28017\"        \"28027\"        \"28043\"        \"28033\"        \"28055\"       \n",
       "[46] \"28021\"        \"28032\"        \"28037\"        \"28022\"        \"28042\"       \n",
       "[51] \"28094\"        \"280013\"       \"28002\\n28002\" \"28035\"        \"28040\"       \n",
       "[56] \"28031\"        \"28044\"        \"28105\"        \"28023\"        \"2805\"        \n",
       "[61] \"28051\"        \"Madrid 28004\" \"20126\"        \"28051\\n28051\" \"28850\"       \n",
       "[66] \"28048\"        \"28056\"        \"20013\"        \"27004\"        \"28060\"       \n",
       "[71] \"-\"            \"28\"           \"2815\"         \"25008\"        \"2015\"        \n",
       "[76] \"28052\"        \"2804\"        "
      ]
     },
     "metadata": {},
     "output_type": "display_data"
    }
   ],
   "source": [
    "#ccpp <- distinct(airbnb, CodigoPostal)\n",
    "distinct(airbnb, CodigoPostal)$CodigoPostal"
   ]
  },
  {
   "cell_type": "code",
   "execution_count": 9,
   "metadata": {},
   "outputs": [],
   "source": [
    "airbnb$CodigoPostal[(airbnb$CodigoPostal=='' )\n",
    "                    | (airbnb$CodigoPostal=='-')\n",
    "                    | (airbnb$CodigoPostal=='28')\n",
    "                    | (substring(airbnb$CodigoPostal,1,2)!='28')] <- NA\n",
    "\n",
    "airbnb <- filter(airbnb, !is.na(airbnb$CodigoPostal))\n",
    "\n",
    "airbnb$CodigoPostal[airbnb$CodigoPostal=='Madrid 28004'] <- '28004'\n",
    "airbnb$CodigoPostal[airbnb$CodigoPostal=='28002\\n28002'] <- '28002'\n",
    "airbnb$CodigoPostal[airbnb$CodigoPostal=='28051\\n28051'] <- '28051'\n",
    "airbnb$CodigoPostal[airbnb$CodigoPostal=='280013'] <- '28013'\n",
    "airbnb$CodigoPostal[airbnb$CodigoPostal=='2804'] <- '28004'\n",
    "airbnb$CodigoPostal[airbnb$CodigoPostal=='2805'] <- '28005'\n",
    "airbnb$CodigoPostal[airbnb$CodigoPostal=='2815'] <- '28015'"
   ]
  },
  {
   "cell_type": "markdown",
   "metadata": {},
   "source": [
    "## <font color='red'>**Comentarios**</font>\n",
    "\n",
    "Un pequeño truco, también puedes usar la siguiente linea para escribir menos:\n",
    "\n",
    "`airbnb$CodigoPostal[airbnb$CodigoPostal %in% c('','-','28')]<-NA`\n",
    "\n",
    "Para fijar a NA los codigos postales que no empiezan por 28 puedes usar expresiones regulares:\n",
    "\n",
    "`airbnb$CodigoPostal[!grepl(\"^28\",airbnb$CodigoPostal)]<-NA`\n"
   ]
  },
  {
   "cell_type": "code",
   "execution_count": 10,
   "metadata": {},
   "outputs": [
    {
     "name": "stdout",
     "output_type": "stream",
     "text": [
      "[1] \"airbnb filtrado tiene 12759 rows\"\n"
     ]
    }
   ],
   "source": [
    "print(paste0(\"airbnb filtrado tiene \", count(airbnb), \" rows\"))"
   ]
  },
  {
   "cell_type": "markdown",
   "metadata": {},
   "source": [
    "Una vez limpios los datos ¿Cuales son los códigos postales que tenemos? "
   ]
  },
  {
   "cell_type": "code",
   "execution_count": 11,
   "metadata": {},
   "outputs": [
    {
     "data": {
      "text/html": [
       "<style>\n",
       ".list-inline {list-style: none; margin:0; padding: 0}\n",
       ".list-inline>li {display: inline-block}\n",
       ".list-inline>li:not(:last-child)::after {content: \"\\00b7\"; padding: 0 .5ex}\n",
       "</style>\n",
       "<ol class=list-inline><li>'28001'</li><li>'28002'</li><li>'28003'</li><li>'28004'</li><li>'28005'</li><li>'28006'</li><li>'28007'</li><li>'28008'</li><li>'28009'</li><li>'28010'</li><li>'28011'</li><li>'28012'</li><li>'28013'</li><li>'28014'</li><li>'28015'</li><li>'28016'</li><li>'28017'</li><li>'28018'</li><li>'28019'</li><li>'28020'</li><li>'28021'</li><li>'28022'</li><li>'28023'</li><li>'28024'</li><li>'28025'</li><li>'28026'</li><li>'28027'</li><li>'28028'</li><li>'28029'</li><li>'28030'</li><li>'28031'</li><li>'28032'</li><li>'28033'</li><li>'28034'</li><li>'28035'</li><li>'28036'</li><li>'28037'</li><li>'28038'</li><li>'28039'</li><li>'28040'</li><li>'28041'</li><li>'28042'</li><li>'28043'</li><li>'28044'</li><li>'28045'</li><li>'28046'</li><li>'28047'</li><li>'28048'</li><li>'28049'</li><li>'28050'</li><li>'28051'</li><li>'28052'</li><li>'28053'</li><li>'28054'</li><li>'28055'</li><li>'28056'</li><li>'28058'</li><li>'28060'</li><li>'28094'</li><li>'28105'</li><li>'28850'</li></ol>\n"
      ],
      "text/latex": [
       "\\begin{enumerate*}\n",
       "\\item '28001'\n",
       "\\item '28002'\n",
       "\\item '28003'\n",
       "\\item '28004'\n",
       "\\item '28005'\n",
       "\\item '28006'\n",
       "\\item '28007'\n",
       "\\item '28008'\n",
       "\\item '28009'\n",
       "\\item '28010'\n",
       "\\item '28011'\n",
       "\\item '28012'\n",
       "\\item '28013'\n",
       "\\item '28014'\n",
       "\\item '28015'\n",
       "\\item '28016'\n",
       "\\item '28017'\n",
       "\\item '28018'\n",
       "\\item '28019'\n",
       "\\item '28020'\n",
       "\\item '28021'\n",
       "\\item '28022'\n",
       "\\item '28023'\n",
       "\\item '28024'\n",
       "\\item '28025'\n",
       "\\item '28026'\n",
       "\\item '28027'\n",
       "\\item '28028'\n",
       "\\item '28029'\n",
       "\\item '28030'\n",
       "\\item '28031'\n",
       "\\item '28032'\n",
       "\\item '28033'\n",
       "\\item '28034'\n",
       "\\item '28035'\n",
       "\\item '28036'\n",
       "\\item '28037'\n",
       "\\item '28038'\n",
       "\\item '28039'\n",
       "\\item '28040'\n",
       "\\item '28041'\n",
       "\\item '28042'\n",
       "\\item '28043'\n",
       "\\item '28044'\n",
       "\\item '28045'\n",
       "\\item '28046'\n",
       "\\item '28047'\n",
       "\\item '28048'\n",
       "\\item '28049'\n",
       "\\item '28050'\n",
       "\\item '28051'\n",
       "\\item '28052'\n",
       "\\item '28053'\n",
       "\\item '28054'\n",
       "\\item '28055'\n",
       "\\item '28056'\n",
       "\\item '28058'\n",
       "\\item '28060'\n",
       "\\item '28094'\n",
       "\\item '28105'\n",
       "\\item '28850'\n",
       "\\end{enumerate*}\n"
      ],
      "text/markdown": [
       "1. '28001'\n",
       "2. '28002'\n",
       "3. '28003'\n",
       "4. '28004'\n",
       "5. '28005'\n",
       "6. '28006'\n",
       "7. '28007'\n",
       "8. '28008'\n",
       "9. '28009'\n",
       "10. '28010'\n",
       "11. '28011'\n",
       "12. '28012'\n",
       "13. '28013'\n",
       "14. '28014'\n",
       "15. '28015'\n",
       "16. '28016'\n",
       "17. '28017'\n",
       "18. '28018'\n",
       "19. '28019'\n",
       "20. '28020'\n",
       "21. '28021'\n",
       "22. '28022'\n",
       "23. '28023'\n",
       "24. '28024'\n",
       "25. '28025'\n",
       "26. '28026'\n",
       "27. '28027'\n",
       "28. '28028'\n",
       "29. '28029'\n",
       "30. '28030'\n",
       "31. '28031'\n",
       "32. '28032'\n",
       "33. '28033'\n",
       "34. '28034'\n",
       "35. '28035'\n",
       "36. '28036'\n",
       "37. '28037'\n",
       "38. '28038'\n",
       "39. '28039'\n",
       "40. '28040'\n",
       "41. '28041'\n",
       "42. '28042'\n",
       "43. '28043'\n",
       "44. '28044'\n",
       "45. '28045'\n",
       "46. '28046'\n",
       "47. '28047'\n",
       "48. '28048'\n",
       "49. '28049'\n",
       "50. '28050'\n",
       "51. '28051'\n",
       "52. '28052'\n",
       "53. '28053'\n",
       "54. '28054'\n",
       "55. '28055'\n",
       "56. '28056'\n",
       "57. '28058'\n",
       "58. '28060'\n",
       "59. '28094'\n",
       "60. '28105'\n",
       "61. '28850'\n",
       "\n",
       "\n"
      ],
      "text/plain": [
       " [1] \"28001\" \"28002\" \"28003\" \"28004\" \"28005\" \"28006\" \"28007\" \"28008\" \"28009\"\n",
       "[10] \"28010\" \"28011\" \"28012\" \"28013\" \"28014\" \"28015\" \"28016\" \"28017\" \"28018\"\n",
       "[19] \"28019\" \"28020\" \"28021\" \"28022\" \"28023\" \"28024\" \"28025\" \"28026\" \"28027\"\n",
       "[28] \"28028\" \"28029\" \"28030\" \"28031\" \"28032\" \"28033\" \"28034\" \"28035\" \"28036\"\n",
       "[37] \"28037\" \"28038\" \"28039\" \"28040\" \"28041\" \"28042\" \"28043\" \"28044\" \"28045\"\n",
       "[46] \"28046\" \"28047\" \"28048\" \"28049\" \"28050\" \"28051\" \"28052\" \"28053\" \"28054\"\n",
       "[55] \"28055\" \"28056\" \"28058\" \"28060\" \"28094\" \"28105\" \"28850\""
      ]
     },
     "metadata": {},
     "output_type": "display_data"
    }
   ],
   "source": [
    "sort(distinct(airbnb, CodigoPostal)$CodigoPostal)"
   ]
  },
  {
   "cell_type": "markdown",
   "metadata": {},
   "source": [
    "¿Cuales son los 5 códigos postales con más entradas? ¿Y con menos? ¿Cuantas entradas tienen?"
   ]
  },
  {
   "cell_type": "code",
   "execution_count": 12,
   "metadata": {},
   "outputs": [
    {
     "name": "stdout",
     "output_type": "stream",
     "text": [
      "\n",
      "28012 28004 28005 28013 28014 \n",
      " 2060  1795  1195  1020   630 \n"
     ]
    }
   ],
   "source": [
    "#Los 5 códigos postales con más entradas son\n",
    "print(head(sort(table(airbnb$CodigoPostal),decreasing = TRUE),5))"
   ]
  },
  {
   "cell_type": "code",
   "execution_count": 13,
   "metadata": {},
   "outputs": [
    {
     "name": "stdout",
     "output_type": "stream",
     "text": [
      "\n",
      "28048 28052 28056 28058 28060 \n",
      "    1     1     1     1     1 \n"
     ]
    }
   ],
   "source": [
    "#Los 5 códigos postales con menos entradas son\n",
    "print(head(sort(table(airbnb$CodigoPostal),decreasing = FALSE),5))"
   ]
  },
  {
   "cell_type": "markdown",
   "metadata": {},
   "source": [
    "¿Cuales son los barrios que hay en el código postal 28012?"
   ]
  },
  {
   "cell_type": "code",
   "execution_count": 14,
   "metadata": {},
   "outputs": [
    {
     "data": {
      "text/html": [
       "<table class=\"dataframe\">\n",
       "<caption>A data.frame: 11 × 1</caption>\n",
       "<thead>\n",
       "\t<tr><th scope=col>Barrio</th></tr>\n",
       "\t<tr><th scope=col>&lt;chr&gt;</th></tr>\n",
       "</thead>\n",
       "<tbody>\n",
       "\t<tr><td>Sol            </td></tr>\n",
       "\t<tr><td>Acacias        </td></tr>\n",
       "\t<tr><td>Palos de Moguer</td></tr>\n",
       "\t<tr><td>Embajadores    </td></tr>\n",
       "\t<tr><td>Cortes         </td></tr>\n",
       "\t<tr><td>Palacio        </td></tr>\n",
       "\t<tr><td>Universidad    </td></tr>\n",
       "\t<tr><td>Delicias       </td></tr>\n",
       "\t<tr><td>Arapiles       </td></tr>\n",
       "\t<tr><td>Atocha         </td></tr>\n",
       "\t<tr><td>Goya           </td></tr>\n",
       "</tbody>\n",
       "</table>\n"
      ],
      "text/latex": [
       "A data.frame: 11 × 1\n",
       "\\begin{tabular}{l}\n",
       " Barrio\\\\\n",
       " <chr>\\\\\n",
       "\\hline\n",
       "\t Sol            \\\\\n",
       "\t Acacias        \\\\\n",
       "\t Palos de Moguer\\\\\n",
       "\t Embajadores    \\\\\n",
       "\t Cortes         \\\\\n",
       "\t Palacio        \\\\\n",
       "\t Universidad    \\\\\n",
       "\t Delicias       \\\\\n",
       "\t Arapiles       \\\\\n",
       "\t Atocha         \\\\\n",
       "\t Goya           \\\\\n",
       "\\end{tabular}\n"
      ],
      "text/markdown": [
       "\n",
       "A data.frame: 11 × 1\n",
       "\n",
       "| Barrio &lt;chr&gt; |\n",
       "|---|\n",
       "| Sol             |\n",
       "| Acacias         |\n",
       "| Palos de Moguer |\n",
       "| Embajadores     |\n",
       "| Cortes          |\n",
       "| Palacio         |\n",
       "| Universidad     |\n",
       "| Delicias        |\n",
       "| Arapiles        |\n",
       "| Atocha          |\n",
       "| Goya            |\n",
       "\n"
      ],
      "text/plain": [
       "   Barrio         \n",
       "1  Sol            \n",
       "2  Acacias        \n",
       "3  Palos de Moguer\n",
       "4  Embajadores    \n",
       "5  Cortes         \n",
       "6  Palacio        \n",
       "7  Universidad    \n",
       "8  Delicias       \n",
       "9  Arapiles       \n",
       "10 Atocha         \n",
       "11 Goya           "
      ]
     },
     "metadata": {},
     "output_type": "display_data"
    }
   ],
   "source": [
    "distinct(filter(airbnb, airbnb$CodigoPostal == \"28012\"), Barrio)"
   ]
  },
  {
   "cell_type": "markdown",
   "metadata": {},
   "source": [
    "¿Cuantas entradas hay en cada uno de esos barrios para el codigo postal 28012?"
   ]
  },
  {
   "cell_type": "code",
   "execution_count": 15,
   "metadata": {},
   "outputs": [
    {
     "data": {
      "text/html": [
       "<table class=\"dataframe\">\n",
       "<caption>A grouped_df: 11 × 2</caption>\n",
       "<thead>\n",
       "\t<tr><th scope=col>Barrio</th><th scope=col>n</th></tr>\n",
       "\t<tr><th scope=col>&lt;chr&gt;</th><th scope=col>&lt;int&gt;</th></tr>\n",
       "</thead>\n",
       "<tbody>\n",
       "\t<tr><td>Acacias        </td><td>  13</td></tr>\n",
       "\t<tr><td>Arapiles       </td><td>   1</td></tr>\n",
       "\t<tr><td>Atocha         </td><td>   1</td></tr>\n",
       "\t<tr><td>Cortes         </td><td> 216</td></tr>\n",
       "\t<tr><td>Delicias       </td><td>   1</td></tr>\n",
       "\t<tr><td>Embajadores    </td><td>1449</td></tr>\n",
       "\t<tr><td>Goya           </td><td>   1</td></tr>\n",
       "\t<tr><td>Palacio        </td><td>  27</td></tr>\n",
       "\t<tr><td>Palos de Moguer</td><td>  46</td></tr>\n",
       "\t<tr><td>Sol            </td><td> 301</td></tr>\n",
       "\t<tr><td>Universidad    </td><td>   4</td></tr>\n",
       "</tbody>\n",
       "</table>\n"
      ],
      "text/latex": [
       "A grouped\\_df: 11 × 2\n",
       "\\begin{tabular}{ll}\n",
       " Barrio & n\\\\\n",
       " <chr> & <int>\\\\\n",
       "\\hline\n",
       "\t Acacias         &   13\\\\\n",
       "\t Arapiles        &    1\\\\\n",
       "\t Atocha          &    1\\\\\n",
       "\t Cortes          &  216\\\\\n",
       "\t Delicias        &    1\\\\\n",
       "\t Embajadores     & 1449\\\\\n",
       "\t Goya            &    1\\\\\n",
       "\t Palacio         &   27\\\\\n",
       "\t Palos de Moguer &   46\\\\\n",
       "\t Sol             &  301\\\\\n",
       "\t Universidad     &    4\\\\\n",
       "\\end{tabular}\n"
      ],
      "text/markdown": [
       "\n",
       "A grouped_df: 11 × 2\n",
       "\n",
       "| Barrio &lt;chr&gt; | n &lt;int&gt; |\n",
       "|---|---|\n",
       "| Acacias         |   13 |\n",
       "| Arapiles        |    1 |\n",
       "| Atocha          |    1 |\n",
       "| Cortes          |  216 |\n",
       "| Delicias        |    1 |\n",
       "| Embajadores     | 1449 |\n",
       "| Goya            |    1 |\n",
       "| Palacio         |   27 |\n",
       "| Palos de Moguer |   46 |\n",
       "| Sol             |  301 |\n",
       "| Universidad     |    4 |\n",
       "\n"
      ],
      "text/plain": [
       "   Barrio          n   \n",
       "1  Acacias           13\n",
       "2  Arapiles           1\n",
       "3  Atocha             1\n",
       "4  Cortes           216\n",
       "5  Delicias           1\n",
       "6  Embajadores     1449\n",
       "7  Goya               1\n",
       "8  Palacio           27\n",
       "9  Palos de Moguer   46\n",
       "10 Sol              301\n",
       "11 Universidad        4"
      ]
     },
     "metadata": {},
     "output_type": "display_data"
    }
   ],
   "source": [
    "count(group_by(filter(airbnb, airbnb$CodigoPostal == \"28012\"), Barrio))"
   ]
  },
  {
   "cell_type": "markdown",
   "metadata": {},
   "source": [
    "¿Cuantos barrios hay en todo el dataset airbnb? ¿Cuales son?"
   ]
  },
  {
   "cell_type": "code",
   "execution_count": 16,
   "metadata": {},
   "outputs": [
    {
     "name": "stdout",
     "output_type": "stream",
     "text": [
      "    n\n",
      "1 125\n",
      "                          Barrio\n",
      "1                    Universidad\n",
      "2                            Sol\n",
      "3                       Imperial\n",
      "4                        Acacias\n",
      "5                        Chopera\n",
      "6                       Delicias\n",
      "7                Palos de Moguer\n",
      "8                    Embajadores\n",
      "9                         Cortes\n",
      "10                        Atocha\n",
      "11                      Pacífico\n",
      "12                       Adelfas\n",
      "13                      Estrella\n",
      "14                         Ibiza\n",
      "15                     Jerónimos\n",
      "16                    Niño Jesús\n",
      "17                       Palacio\n",
      "18                      Justicia\n",
      "19                     Recoletos\n",
      "20                          Goya\n",
      "21              Fuente del Berro\n",
      "22                      Arapiles\n",
      "23                     Trafalgar\n",
      "24                       Almagro\n",
      "25                    Guindalera\n",
      "26                         Lista\n",
      "27                    Castellana\n",
      "28                       El Viso\n",
      "29                   Prosperidad\n",
      "30                      Valverde\n",
      "31                 Casa de Campo\n",
      "32                     El Goloso\n",
      "33                      Numancia\n",
      "34                      Cármenes\n",
      "35              Puerta del Angel\n",
      "36                        Lucero\n",
      "37                    San Isidro\n",
      "38                    Campamento\n",
      "39                      Comillas\n",
      "40                        Opañel\n",
      "41                  Vista Alegre\n",
      "42                 Ciudad Jardín\n",
      "43                Hispanoamérica\n",
      "44                  Nueva España\n",
      "45                      Castilla\n",
      "46                 Bellas Vistas\n",
      "47                Cuatro Caminos\n",
      "48                   Castillejos\n",
      "49                  Vallehermoso\n",
      "50                      Almenara\n",
      "51                 Valdeacederas\n",
      "52                    Berruguete\n",
      "53                    Gaztambide\n",
      "54                    Rios Rosas\n",
      "55                    Peñagrande\n",
      "56                     Argüelles\n",
      "57                 Puerta Bonita\n",
      "58                    Buenavista\n",
      "59                      Abrantes\n",
      "60                       Orcasur\n",
      "61                    San Fermín\n",
      "62                   Almendrales\n",
      "63                    Pradolongo\n",
      "64                      Portazgo\n",
      "65                     Entrevías\n",
      "66                     San Diego\n",
      "67               Palomeras Bajas\n",
      "68                     Fontarrón\n",
      "69                     Vinateros\n",
      "70                        Ventas\n",
      "71                  Pueblo Nuevo\n",
      "72                      Quintana\n",
      "73                    Concepción\n",
      "74             San Juan Bautista\n",
      "75                   Costillares\n",
      "76                       Piovera\n",
      "77                      Canillas\n",
      "78                 Pinar del Rey\n",
      "79              Apostol Santiago\n",
      "80                    San Andrés\n",
      "81                  Valdefuentes\n",
      "82                      Butarque\n",
      "83                   Los Angeles\n",
      "84  Casco Histórico de Vicálvaro\n",
      "85                      Simancas\n",
      "86                         Rejas\n",
      "87                      Salvador\n",
      "88    Casco Histórico de Barajas\n",
      "89                         Pilar\n",
      "90                        La Paz\n",
      "91                    Mirasierra\n",
      "92          Ciudad Universitaria\n",
      "93                      Moscardó\n",
      "94             Palomeras Sureste\n",
      "95                    Marroquina\n",
      "96                   Media Legua\n",
      "97                   Los Rosales\n",
      "98   Casco Histórico de Vallecas\n",
      "99                         Timón\n",
      "100                   Corralejos\n",
      "101                       Aluche\n",
      "102               Cuatro Vientos\n",
      "103                       Colina\n",
      "104                San Cristobal\n",
      "105             Alameda de Osuna\n",
      "106                      Palomas\n",
      "107                        Zofío\n",
      "108                      Aguilas\n",
      "109                      Legazpi\n",
      "110                Fuentelareina\n",
      "111                      Aravaca\n",
      "112                       Ambroz\n",
      "113                   Canillejas\n",
      "114                   Valdezarza\n",
      "115                      Amposta\n",
      "116                  San Pascual\n",
      "117                Santa Eugenia\n",
      "118                        Arcos\n",
      "119                        Rosas\n",
      "120                   Valdemarín\n",
      "121                   Aeropuerto\n",
      "122                   El Plantío\n",
      "123                       Hellín\n",
      "124                      Pavones\n",
      "125                    Orcasitas\n"
     ]
    }
   ],
   "source": [
    "print(count(distinct(airbnb, Barrio)))\n",
    "print(distinct(airbnb, Barrio))"
   ]
  },
  {
   "cell_type": "markdown",
   "metadata": {},
   "source": [
    "¿Cuales son los 5 barrios que tienen mayor número entradas?"
   ]
  },
  {
   "cell_type": "code",
   "execution_count": 17,
   "metadata": {},
   "outputs": [
    {
     "data": {
      "text/plain": [
       "\n",
       "Embajadores Universidad     Palacio         Sol    Justicia \n",
       "       1800        1326        1055         908         764 "
      ]
     },
     "metadata": {},
     "output_type": "display_data"
    }
   ],
   "source": [
    "head(sort(table(airbnb$Barrio),decreasing = TRUE),5)"
   ]
  },
  {
   "cell_type": "markdown",
   "metadata": {},
   "source": [
    "¿Cuantos Tipos de Alquiler diferentes hay? ¿Cuales son? ¿Cuantas entradas en el dataframe hay por cada tipo?"
   ]
  },
  {
   "cell_type": "code",
   "execution_count": 18,
   "metadata": {},
   "outputs": [
    {
     "name": "stdout",
     "output_type": "stream",
     "text": [
      "  n\n",
      "1 3\n"
     ]
    }
   ],
   "source": [
    "print(count(distinct(airbnb,TipoAlquiler)))"
   ]
  },
  {
   "cell_type": "code",
   "execution_count": 19,
   "metadata": {},
   "outputs": [
    {
     "name": "stdout",
     "output_type": "stream",
     "text": [
      "     TipoAlquiler\n",
      "1    Private room\n",
      "2 Entire home/apt\n",
      "3     Shared room\n"
     ]
    }
   ],
   "source": [
    "print(distinct(airbnb,TipoAlquiler))"
   ]
  },
  {
   "cell_type": "code",
   "execution_count": 20,
   "metadata": {},
   "outputs": [
    {
     "name": "stdout",
     "output_type": "stream",
     "text": [
      "\u001b[90m# A tibble: 3 x 2\u001b[39m\n",
      "\u001b[90m# Groups:   TipoAlquiler [3]\u001b[39m\n",
      "  TipoAlquiler        n\n",
      "  \u001b[3m\u001b[90m<chr>\u001b[39m\u001b[23m           \u001b[3m\u001b[90m<int>\u001b[39m\u001b[23m\n",
      "\u001b[90m1\u001b[39m Entire home/apt  \u001b[4m7\u001b[24m682\n",
      "\u001b[90m2\u001b[39m Private room     \u001b[4m4\u001b[24m897\n",
      "\u001b[90m3\u001b[39m Shared room       180\n"
     ]
    }
   ],
   "source": [
    "print(count(group_by(airbnb, TipoAlquiler)))"
   ]
  },
  {
   "cell_type": "markdown",
   "metadata": {},
   "source": [
    "Muestra el diagrama de cajas del precio para cada uno de los diferentes Tipos de Alquiler"
   ]
  },
  {
   "cell_type": "code",
   "execution_count": 21,
   "metadata": {},
   "outputs": [
    {
     "name": "stderr",
     "output_type": "stream",
     "text": [
      "Warning message:\n",
      "“Removed 8 rows containing non-finite values (stat_boxplot).”\n"
     ]
    },
    {
     "data": {
      "image/png": "[encoded data removed]",
      "text/plain": [
       "plot without title"
      ]
     },
     "metadata": {
      "image/png": {
       "height": 240,
       "width": 360
      }
     },
     "output_type": "display_data"
    }
   ],
   "source": [
    "ggplot(data=airbnb,aes(x=TipoAlquiler, \n",
    "                       y=Precio,\n",
    "                       color=TipoAlquiler\n",
    "                      )\n",
    "      ) + geom_boxplot() +\n",
    "          scale_color_discrete(name=\"Alquileres\") + \n",
    "          ylab(\"Precio\") + \n",
    "          xlab(\"Tipo de Alquiler\")"
   ]
  },
  {
   "cell_type": "markdown",
   "metadata": {},
   "source": [
    "Cual es el precio medio de alquiler de cada uno, la diferencia que hay ¿es estadísticamente significativa?\n",
    "¿Con que test lo comprobarías?"
   ]
  },
  {
   "cell_type": "code",
   "execution_count": 22,
   "metadata": {},
   "outputs": [
    {
     "name": "stdout",
     "output_type": "stream",
     "text": [
      "[1] \"Media en Entire home/apt : 87.1727462219906\"\n",
      "[1] \"Media en Private room : 34.0377936670072\"\n",
      "[1] \"Media en Shared room : 30.1833333333333\"\n",
      "[1] \"Hay mucha diferencia con el Tipo de alquiler (Entire home/apt).\"\n",
      "[1] \"Creo que si que es estadísticamente significativa\"\n"
     ]
    }
   ],
   "source": [
    "precios_sin_Na <- filter(airbnb, !is.na(airbnb$Precio))\n",
    "\n",
    "Entire_home_mean <- mean(precios_sin_Na$Precio[precios_sin_Na$TipoAlquiler=='Entire home/apt'])\n",
    "Private_room_mean <- mean(precios_sin_Na$Precio[precios_sin_Na$TipoAlquiler=='Private room'])\n",
    "Shared_room_mean <- mean(precios_sin_Na$Precio[precios_sin_Na$TipoAlquiler=='Shared room'])\n",
    "\n",
    "print(paste0(\"Media en Entire home/apt : \", Entire_home_mean))\n",
    "print(paste0(\"Media en Private room : \", Private_room_mean))\n",
    "print(paste0(\"Media en Shared room : \", Shared_room_mean))\n",
    "print(\"Hay mucha diferencia con el Tipo de alquiler (Entire home/apt).\")\n",
    "print(\"Creo que si que es estadísticamente significativa\")"
   ]
  },
  {
   "cell_type": "code",
   "execution_count": 23,
   "metadata": {},
   "outputs": [
    {
     "data": {
      "text/plain": [
       "\n",
       "\tShapiro-Wilk normality test\n",
       "\n",
       "data:  rnorm(100, mean = Entire_home_mean, sd = 4)\n",
       "W = 0.98867, p-value = 0.5592\n"
      ]
     },
     "metadata": {},
     "output_type": "display_data"
    },
    {
     "data": {
      "text/plain": [
       "\n",
       "\tShapiro-Wilk normality test\n",
       "\n",
       "data:  rnorm(100, mean = Private_room_mean, sd = 4)\n",
       "W = 0.99308, p-value = 0.8926\n"
      ]
     },
     "metadata": {},
     "output_type": "display_data"
    },
    {
     "data": {
      "text/plain": [
       "\n",
       "\tShapiro-Wilk normality test\n",
       "\n",
       "data:  rnorm(100, mean = Shared_room_mean, sd = 4)\n",
       "W = 0.97885, p-value = 0.1081\n"
      ]
     },
     "metadata": {},
     "output_type": "display_data"
    }
   ],
   "source": [
    "#test de Shapiro, ya que se considera uno de los tests más fiables\n",
    "shapiro.test(rnorm(100, mean=Entire_home_mean, sd=4))\n",
    "shapiro.test(rnorm(100, mean=Private_room_mean, sd=4))\n",
    "shapiro.test(rnorm(100, mean=Shared_room_mean, sd=4))"
   ]
  },
  {
   "cell_type": "markdown",
   "metadata": {},
   "source": [
    "Como el p-value de 'Shared_room_mean' sale muy pequeño se rechaza la hipótesis nula, es decir, los datos no están en una distribución normal"
   ]
  },
  {
   "cell_type": "markdown",
   "metadata": {},
   "source": [
    "## <font color='red'>**Comentarios**</font>\n",
    "\n",
    "Es justo al revés:\n",
    "\n",
    "*Como el p-value de 'Shared_room_mean' sale muy GRANDE (>0.05) se rechaza la hipótesis nula, es decir, los datos no están en una distribución normal*\n",
    "\n",
    "\n",
    "\n",
    "Para responder la pregunta de si los valores son estadísticamente independientes había que haber hecho un test tipo ANOVA.\n",
    "\n",
    "Pero hay que tener cuidado porque el test ANOVA es óptimo cuando la distribución de valores dentro de cada grupo sigue una distribución gaussiana. En caso contrario se podría usar un test como el de kruskal. \n",
    "\n",
    "Para comprobar si una variable sigue una distribución gaussiana podemos aplicar el test de shapiro. En ese caso veríamos que ningún grupo seguiría una distribución gaussiana. Por lo tanto tendríamos que aplicar un test de kruskal, el cual nos daría un pvalor muy bajo indicando que los grupos tienen medias diferentes.\n"
   ]
  },
  {
   "cell_type": "markdown",
   "metadata": {},
   "source": [
    "Filtra el dataframe cuyos tipo de alquiler sea  'Entire home/apt' y guardalo en un dataframe llamado \n",
    "*airbnb_entire*.\n",
    "Estas serán las entradas que tienen un alquiler del piso completo."
   ]
  },
  {
   "cell_type": "code",
   "execution_count": 24,
   "metadata": {},
   "outputs": [
    {
     "data": {
      "text/html": [
       "<table class=\"dataframe\">\n",
       "<caption>A data.frame: 2 × 14</caption>\n",
       "<thead>\n",
       "\t<tr><th></th><th scope=col>CodigoPostal</th><th scope=col>Barrio</th><th scope=col>TipoPropiedad</th><th scope=col>TipoAlquiler</th><th scope=col>MaxOcupantes</th><th scope=col>NumBanyos</th><th scope=col>NumDormitorios</th><th scope=col>NumCamas</th><th scope=col>TipoCama</th><th scope=col>Comodidades</th><th scope=col>PiesCuadrados</th><th scope=col>Precio</th><th scope=col>Puntuacion</th><th scope=col>MetrosCuadrados</th></tr>\n",
       "\t<tr><th></th><th scope=col>&lt;chr&gt;</th><th scope=col>&lt;chr&gt;</th><th scope=col>&lt;chr&gt;</th><th scope=col>&lt;chr&gt;</th><th scope=col>&lt;int&gt;</th><th scope=col>&lt;dbl&gt;</th><th scope=col>&lt;int&gt;</th><th scope=col>&lt;int&gt;</th><th scope=col>&lt;chr&gt;</th><th scope=col>&lt;chr&gt;</th><th scope=col>&lt;int&gt;</th><th scope=col>&lt;int&gt;</th><th scope=col>&lt;int&gt;</th><th scope=col>&lt;dbl&gt;</th></tr>\n",
       "</thead>\n",
       "<tbody>\n",
       "\t<tr><th scope=row>1</th><td>28004</td><td>Universidad</td><td>Apartment</td><td>Entire home/apt</td><td>6</td><td>1</td><td>3</td><td>5</td><td>Real Bed</td><td>TV,Internet,Wireless Internet,Air conditioning,Kitchen,Indoor fireplace,Heating,Family/kid friendly,Washer,Dryer,Smoke detector,Carbon monoxide detector,Essentials,Shampoo</td><td>NA</td><td>92</td><td>96</td><td>NA</td></tr>\n",
       "\t<tr><th scope=row>2</th><td>28004</td><td>Universidad</td><td>Apartment</td><td>Entire home/apt</td><td>3</td><td>1</td><td>2</td><td>2</td><td>Real Bed</td><td>TV,Internet,Wireless Internet,Air conditioning,Kitchen,Doorman,Heating,Family/kid friendly,Washer,Essentials,Shampoo,Hangers,Hair dryer,Iron,Laptop friendly workspace     </td><td>NA</td><td>55</td><td>91</td><td>NA</td></tr>\n",
       "</tbody>\n",
       "</table>\n"
      ],
      "text/latex": [
       "A data.frame: 2 × 14\n",
       "\\begin{tabular}{r|llllllllllllll}\n",
       "  & CodigoPostal & Barrio & TipoPropiedad & TipoAlquiler & MaxOcupantes & NumBanyos & NumDormitorios & NumCamas & TipoCama & Comodidades & PiesCuadrados & Precio & Puntuacion & MetrosCuadrados\\\\\n",
       "  & <chr> & <chr> & <chr> & <chr> & <int> & <dbl> & <int> & <int> & <chr> & <chr> & <int> & <int> & <int> & <dbl>\\\\\n",
       "\\hline\n",
       "\t1 & 28004 & Universidad & Apartment & Entire home/apt & 6 & 1 & 3 & 5 & Real Bed & TV,Internet,Wireless Internet,Air conditioning,Kitchen,Indoor fireplace,Heating,Family/kid friendly,Washer,Dryer,Smoke detector,Carbon monoxide detector,Essentials,Shampoo & NA & 92 & 96 & NA\\\\\n",
       "\t2 & 28004 & Universidad & Apartment & Entire home/apt & 3 & 1 & 2 & 2 & Real Bed & TV,Internet,Wireless Internet,Air conditioning,Kitchen,Doorman,Heating,Family/kid friendly,Washer,Essentials,Shampoo,Hangers,Hair dryer,Iron,Laptop friendly workspace      & NA & 55 & 91 & NA\\\\\n",
       "\\end{tabular}\n"
      ],
      "text/markdown": [
       "\n",
       "A data.frame: 2 × 14\n",
       "\n",
       "| <!--/--> | CodigoPostal &lt;chr&gt; | Barrio &lt;chr&gt; | TipoPropiedad &lt;chr&gt; | TipoAlquiler &lt;chr&gt; | MaxOcupantes &lt;int&gt; | NumBanyos &lt;dbl&gt; | NumDormitorios &lt;int&gt; | NumCamas &lt;int&gt; | TipoCama &lt;chr&gt; | Comodidades &lt;chr&gt; | PiesCuadrados &lt;int&gt; | Precio &lt;int&gt; | Puntuacion &lt;int&gt; | MetrosCuadrados &lt;dbl&gt; |\n",
       "|---|---|---|---|---|---|---|---|---|---|---|---|---|---|---|\n",
       "| 1 | 28004 | Universidad | Apartment | Entire home/apt | 6 | 1 | 3 | 5 | Real Bed | TV,Internet,Wireless Internet,Air conditioning,Kitchen,Indoor fireplace,Heating,Family/kid friendly,Washer,Dryer,Smoke detector,Carbon monoxide detector,Essentials,Shampoo | NA | 92 | 96 | NA |\n",
       "| 2 | 28004 | Universidad | Apartment | Entire home/apt | 3 | 1 | 2 | 2 | Real Bed | TV,Internet,Wireless Internet,Air conditioning,Kitchen,Doorman,Heating,Family/kid friendly,Washer,Essentials,Shampoo,Hangers,Hair dryer,Iron,Laptop friendly workspace      | NA | 55 | 91 | NA |\n",
       "\n"
      ],
      "text/plain": [
       "  CodigoPostal Barrio      TipoPropiedad TipoAlquiler    MaxOcupantes NumBanyos\n",
       "1 28004        Universidad Apartment     Entire home/apt 6            1        \n",
       "2 28004        Universidad Apartment     Entire home/apt 3            1        \n",
       "  NumDormitorios NumCamas TipoCama\n",
       "1 3              5        Real Bed\n",
       "2 2              2        Real Bed\n",
       "  Comodidades                                                                                                                                                                \n",
       "1 TV,Internet,Wireless Internet,Air conditioning,Kitchen,Indoor fireplace,Heating,Family/kid friendly,Washer,Dryer,Smoke detector,Carbon monoxide detector,Essentials,Shampoo\n",
       "2 TV,Internet,Wireless Internet,Air conditioning,Kitchen,Doorman,Heating,Family/kid friendly,Washer,Essentials,Shampoo,Hangers,Hair dryer,Iron,Laptop friendly workspace     \n",
       "  PiesCuadrados Precio Puntuacion MetrosCuadrados\n",
       "1 NA            92     96         NA             \n",
       "2 NA            55     91         NA             "
      ]
     },
     "metadata": {},
     "output_type": "display_data"
    }
   ],
   "source": [
    "airbnb_entire <- filter(precios_sin_Na, \n",
    "                        precios_sin_Na$TipoAlquiler=='Entire home/apt')\n",
    "head(airbnb_entire,2)"
   ]
  },
  {
   "cell_type": "markdown",
   "metadata": {},
   "source": [
    "¿Cuales son los 5 barrios que tienen un mayor número de apartamentos enteros en alquiler?\n",
    "Nota: Mirar solo en airbnb_entire. A partir de este punto y hasta que se diga lo contrario partiremos de airbnb_entire."
   ]
  },
  {
   "cell_type": "code",
   "execution_count": 25,
   "metadata": {},
   "outputs": [
    {
     "data": {
      "text/html": [
       "<table class=\"dataframe\">\n",
       "<caption>A grouped_df: 5 × 2</caption>\n",
       "<thead>\n",
       "\t<tr><th scope=col>Barrio</th><th scope=col>Frecuencia</th></tr>\n",
       "\t<tr><th scope=col>&lt;chr&gt;</th><th scope=col>&lt;int&gt;</th></tr>\n",
       "</thead>\n",
       "<tbody>\n",
       "\t<tr><td>Embajadores</td><td>1077</td></tr>\n",
       "\t<tr><td>Universidad</td><td> 877</td></tr>\n",
       "\t<tr><td>Palacio    </td><td> 672</td></tr>\n",
       "\t<tr><td>Sol        </td><td> 636</td></tr>\n",
       "\t<tr><td>Cortes     </td><td> 522</td></tr>\n",
       "</tbody>\n",
       "</table>\n"
      ],
      "text/latex": [
       "A grouped\\_df: 5 × 2\n",
       "\\begin{tabular}{ll}\n",
       " Barrio & Frecuencia\\\\\n",
       " <chr> & <int>\\\\\n",
       "\\hline\n",
       "\t Embajadores & 1077\\\\\n",
       "\t Universidad &  877\\\\\n",
       "\t Palacio     &  672\\\\\n",
       "\t Sol         &  636\\\\\n",
       "\t Cortes      &  522\\\\\n",
       "\\end{tabular}\n"
      ],
      "text/markdown": [
       "\n",
       "A grouped_df: 5 × 2\n",
       "\n",
       "| Barrio &lt;chr&gt; | Frecuencia &lt;int&gt; |\n",
       "|---|---|\n",
       "| Embajadores | 1077 |\n",
       "| Universidad |  877 |\n",
       "| Palacio     |  672 |\n",
       "| Sol         |  636 |\n",
       "| Cortes      |  522 |\n",
       "\n"
      ],
      "text/plain": [
       "  Barrio      Frecuencia\n",
       "1 Embajadores 1077      \n",
       "2 Universidad  877      \n",
       "3 Palacio      672      \n",
       "4 Sol          636      \n",
       "5 Cortes       522      "
      ]
     },
     "metadata": {},
     "output_type": "display_data"
    }
   ],
   "source": [
    "apartment <- filter(airbnb_entire, airbnb_entire$TipoPropiedad=='Apartment')\n",
    "apartment_count <- count(group_by(apartment,Barrio))\n",
    "colnames(apartment_count) <- c('Barrio', 'Frecuencia')\n",
    "head(apartment_count[order(apartment_count$Frecuencia,decreasing = TRUE),],5)"
   ]
  },
  {
   "cell_type": "markdown",
   "metadata": {},
   "source": [
    "¿Cuales son los 5 barrios que tienen un mayor precio medio de alquiler para apartamentos enteros (es decir, del dataframe airbnb_entire)?\n",
    "\n",
    "¿Cual es su precio medio?\n",
    "\n",
    "Ayuda: Usa la función aggregate `aggregate(.~colname,df,mean,na.rm=TRUE)`"
   ]
  },
  {
   "cell_type": "code",
   "execution_count": 26,
   "metadata": {},
   "outputs": [
    {
     "data": {
      "text/html": [
       "<table class=\"dataframe\">\n",
       "<caption>A data.frame: 5 × 2</caption>\n",
       "<thead>\n",
       "\t<tr><th></th><th scope=col>Barrio</th><th scope=col>Precio</th></tr>\n",
       "\t<tr><th></th><th scope=col>&lt;chr&gt;</th><th scope=col>&lt;dbl&gt;</th></tr>\n",
       "</thead>\n",
       "<tbody>\n",
       "\t<tr><th scope=row>77</th><td>Palomas                   </td><td>309.7500</td></tr>\n",
       "\t<tr><th scope=row>50</th><td>Fuentelareina             </td><td>180.0000</td></tr>\n",
       "\t<tr><th scope=row>92</th><td>Recoletos                 </td><td>158.8968</td></tr>\n",
       "\t<tr><th scope=row>43</th><td>El Plantío                </td><td>150.0000</td></tr>\n",
       "\t<tr><th scope=row>27</th><td>Casco Histórico de Barajas</td><td>141.2500</td></tr>\n",
       "</tbody>\n",
       "</table>\n"
      ],
      "text/latex": [
       "A data.frame: 5 × 2\n",
       "\\begin{tabular}{r|ll}\n",
       "  & Barrio & Precio\\\\\n",
       "  & <chr> & <dbl>\\\\\n",
       "\\hline\n",
       "\t77 & Palomas                    & 309.7500\\\\\n",
       "\t50 & Fuentelareina              & 180.0000\\\\\n",
       "\t92 & Recoletos                  & 158.8968\\\\\n",
       "\t43 & El Plantío                 & 150.0000\\\\\n",
       "\t27 & Casco Histórico de Barajas & 141.2500\\\\\n",
       "\\end{tabular}\n"
      ],
      "text/markdown": [
       "\n",
       "A data.frame: 5 × 2\n",
       "\n",
       "| <!--/--> | Barrio &lt;chr&gt; | Precio &lt;dbl&gt; |\n",
       "|---|---|---|\n",
       "| 77 | Palomas                    | 309.7500 |\n",
       "| 50 | Fuentelareina              | 180.0000 |\n",
       "| 92 | Recoletos                  | 158.8968 |\n",
       "| 43 | El Plantío                 | 150.0000 |\n",
       "| 27 | Casco Histórico de Barajas | 141.2500 |\n",
       "\n"
      ],
      "text/plain": [
       "   Barrio                     Precio  \n",
       "77 Palomas                    309.7500\n",
       "50 Fuentelareina              180.0000\n",
       "92 Recoletos                  158.8968\n",
       "43 El Plantío                 150.0000\n",
       "27 Casco Histórico de Barajas 141.2500"
      ]
     },
     "metadata": {},
     "output_type": "display_data"
    }
   ],
   "source": [
    "barrios_precio_medio <- aggregate(Precio ~ Barrio, \n",
    "                                  FUN = mean, \n",
    "                                  data = airbnb_entire)\n",
    "barrios_precio_medio <- barrios_precio_medio[order(barrios_precio_medio$Precio,\n",
    "                                                   decreasing = TRUE),]\n",
    "head(barrios_precio_medio,5)"
   ]
  },
  {
   "cell_type": "markdown",
   "metadata": {},
   "source": [
    "¿Cuantos apartamentos hay en cada uno de esos barrios?\n",
    "\n",
    "Mostrar una dataframe con el nombre del barrio, el precio y el número de entradas.\n",
    "\n",
    "Ayuda: Podeis crear un nuevo dataframe con las columnas \"Barrio\" y \"Freq\" que contenga el número de entradas en cada barrio y hacer un merge con el dataframe del punto anterior."
   ]
  },
  {
   "cell_type": "code",
   "execution_count": 27,
   "metadata": {},
   "outputs": [
    {
     "data": {
      "text/html": [
       "<table class=\"dataframe\">\n",
       "<caption>A data.frame: 5 × 3</caption>\n",
       "<thead>\n",
       "\t<tr><th></th><th scope=col>Barrio</th><th scope=col>Frecuencia</th><th scope=col>Precio</th></tr>\n",
       "\t<tr><th></th><th scope=col>&lt;chr&gt;</th><th scope=col>&lt;int&gt;</th><th scope=col>&lt;dbl&gt;</th></tr>\n",
       "</thead>\n",
       "<tbody>\n",
       "\t<tr><th scope=row>77</th><td>Palomas                   </td><td>  2</td><td>309.7500</td></tr>\n",
       "\t<tr><th scope=row>50</th><td>Fuentelareina             </td><td>  1</td><td>180.0000</td></tr>\n",
       "\t<tr><th scope=row>92</th><td>Recoletos                 </td><td>115</td><td>158.8968</td></tr>\n",
       "\t<tr><th scope=row>43</th><td>El Plantío                </td><td> NA</td><td>150.0000</td></tr>\n",
       "\t<tr><th scope=row>27</th><td>Casco Histórico de Barajas</td><td>  6</td><td>141.2500</td></tr>\n",
       "</tbody>\n",
       "</table>\n"
      ],
      "text/latex": [
       "A data.frame: 5 × 3\n",
       "\\begin{tabular}{r|lll}\n",
       "  & Barrio & Frecuencia & Precio\\\\\n",
       "  & <chr> & <int> & <dbl>\\\\\n",
       "\\hline\n",
       "\t77 & Palomas                    &   2 & 309.7500\\\\\n",
       "\t50 & Fuentelareina              &   1 & 180.0000\\\\\n",
       "\t92 & Recoletos                  & 115 & 158.8968\\\\\n",
       "\t43 & El Plantío                 &  NA & 150.0000\\\\\n",
       "\t27 & Casco Histórico de Barajas &   6 & 141.2500\\\\\n",
       "\\end{tabular}\n"
      ],
      "text/markdown": [
       "\n",
       "A data.frame: 5 × 3\n",
       "\n",
       "| <!--/--> | Barrio &lt;chr&gt; | Frecuencia &lt;int&gt; | Precio &lt;dbl&gt; |\n",
       "|---|---|---|---|\n",
       "| 77 | Palomas                    |   2 | 309.7500 |\n",
       "| 50 | Fuentelareina              |   1 | 180.0000 |\n",
       "| 92 | Recoletos                  | 115 | 158.8968 |\n",
       "| 43 | El Plantío                 |  NA | 150.0000 |\n",
       "| 27 | Casco Histórico de Barajas |   6 | 141.2500 |\n",
       "\n"
      ],
      "text/plain": [
       "   Barrio                     Frecuencia Precio  \n",
       "77 Palomas                      2        309.7500\n",
       "50 Fuentelareina                1        180.0000\n",
       "92 Recoletos                  115        158.8968\n",
       "43 El Plantío                  NA        150.0000\n",
       "27 Casco Histórico de Barajas   6        141.2500"
      ]
     },
     "metadata": {},
     "output_type": "display_data"
    }
   ],
   "source": [
    "apartamentos_por_barrio <- merge(apartment_count,\n",
    "                                 barrios_precio_medio,\n",
    "                                 all.y = TRUE)\n",
    "apartamentos_por_barrio <- apartamentos_por_barrio[order(apartamentos_por_barrio$Precio,\n",
    "                                                         decreasing = TRUE),]\n",
    "head(apartamentos_por_barrio,5)"
   ]
  },
  {
   "cell_type": "markdown",
   "metadata": {},
   "source": [
    "Partiendo del dataframe anterior, muestra los 5 barrios con mayor precio, pero que tengan más de 100 entradas de alquiler."
   ]
  },
  {
   "cell_type": "code",
   "execution_count": 28,
   "metadata": {},
   "outputs": [
    {
     "data": {
      "text/html": [
       "<table class=\"dataframe\">\n",
       "<caption>A data.frame: 5 × 3</caption>\n",
       "<thead>\n",
       "\t<tr><th></th><th scope=col>Barrio</th><th scope=col>Frecuencia</th><th scope=col>Precio</th></tr>\n",
       "\t<tr><th></th><th scope=col>&lt;chr&gt;</th><th scope=col>&lt;int&gt;</th><th scope=col>&lt;dbl&gt;</th></tr>\n",
       "</thead>\n",
       "<tbody>\n",
       "\t<tr><th scope=row>1</th><td>Recoletos</td><td>115</td><td>158.89683</td></tr>\n",
       "\t<tr><th scope=row>2</th><td>Goya     </td><td>119</td><td>109.98540</td></tr>\n",
       "\t<tr><th scope=row>3</th><td>Sol      </td><td>636</td><td>100.59593</td></tr>\n",
       "\t<tr><th scope=row>4</th><td>Justicia </td><td>473</td><td> 99.04624</td></tr>\n",
       "\t<tr><th scope=row>5</th><td>Trafalgar</td><td>198</td><td> 98.86977</td></tr>\n",
       "</tbody>\n",
       "</table>\n"
      ],
      "text/latex": [
       "A data.frame: 5 × 3\n",
       "\\begin{tabular}{r|lll}\n",
       "  & Barrio & Frecuencia & Precio\\\\\n",
       "  & <chr> & <int> & <dbl>\\\\\n",
       "\\hline\n",
       "\t1 & Recoletos & 115 & 158.89683\\\\\n",
       "\t2 & Goya      & 119 & 109.98540\\\\\n",
       "\t3 & Sol       & 636 & 100.59593\\\\\n",
       "\t4 & Justicia  & 473 &  99.04624\\\\\n",
       "\t5 & Trafalgar & 198 &  98.86977\\\\\n",
       "\\end{tabular}\n"
      ],
      "text/markdown": [
       "\n",
       "A data.frame: 5 × 3\n",
       "\n",
       "| <!--/--> | Barrio &lt;chr&gt; | Frecuencia &lt;int&gt; | Precio &lt;dbl&gt; |\n",
       "|---|---|---|---|\n",
       "| 1 | Recoletos | 115 | 158.89683 |\n",
       "| 2 | Goya      | 119 | 109.98540 |\n",
       "| 3 | Sol       | 636 | 100.59593 |\n",
       "| 4 | Justicia  | 473 |  99.04624 |\n",
       "| 5 | Trafalgar | 198 |  98.86977 |\n",
       "\n"
      ],
      "text/plain": [
       "  Barrio    Frecuencia Precio   \n",
       "1 Recoletos 115        158.89683\n",
       "2 Goya      119        109.98540\n",
       "3 Sol       636        100.59593\n",
       "4 Justicia  473         99.04624\n",
       "5 Trafalgar 198         98.86977"
      ]
     },
     "metadata": {},
     "output_type": "display_data"
    }
   ],
   "source": [
    "barrios_frecuencia <- filter(apartamentos_por_barrio, \n",
    "                             apartamentos_por_barrio$Frecuencia > 100)\n",
    "head(barrios_frecuencia,5)"
   ]
  },
  {
   "cell_type": "markdown",
   "metadata": {},
   "source": [
    "Dibuja el diagrama de densidad de distribución de los diferentes precios. Serían 5 gráficas, una por cada barrio."
   ]
  },
  {
   "cell_type": "code",
   "execution_count": 29,
   "metadata": {},
   "outputs": [
    {
     "data": {
      "image/png": "[encoded data removed]",
      "text/plain": [
       "plot without title"
      ]
     },
     "metadata": {
      "image/png": {
       "height": 240,
       "width": 360
      }
     },
     "output_type": "display_data"
    },
    {
     "data": {
      "image/png": "[encoded data removed]",
      "text/plain": [
       "plot without title"
      ]
     },
     "metadata": {
      "image/png": {
       "height": 240,
       "width": 360
      }
     },
     "output_type": "display_data"
    },
    {
     "data": {
      "image/png": "[encoded data removed]",
      "text/plain": [
       "plot without title"
      ]
     },
     "metadata": {
      "image/png": {
       "height": 240,
       "width": 360
      }
     },
     "output_type": "display_data"
    },
    {
     "data": {
      "image/png": "[encoded data removed]",
      "text/plain": [
       "plot without title"
      ]
     },
     "metadata": {
      "image/png": {
       "height": 240,
       "width": 360
      }
     },
     "output_type": "display_data"
    },
    {
     "data": {
      "image/png": "[encoded data removed]",
      "text/plain": [
       "plot without title"
      ]
     },
     "metadata": {
      "image/png": {
       "height": 240,
       "width": 360
      }
     },
     "output_type": "display_data"
    }
   ],
   "source": [
    "barrios = c('Recoletos', 'Goya', 'Sol', 'Justicia', 'Trafalgar')\n",
    "for (bar in barrios){\n",
    "        df <- filter(apartment, apartment$Barrio==bar)\n",
    "        print(ggplot(data=df, \n",
    "                     aes(Precio)) + \n",
    "              geom_density(adjust = 3) + \n",
    "              ylab(bar))        \n",
    "     }"
   ]
  },
  {
   "cell_type": "markdown",
   "metadata": {},
   "source": [
    "## <font color='red'>**Comentarios**</font>\n",
    "\n",
    "Correcto, aunque también podías haberlo pintado todo en el mismo gráfico. Las líneas anteriores se podrían haber simplicado en dos líneas:\n",
    "\n",
    "```\n",
    "top_barrios<-subset(airbnb_entire,Barrio %in% barrios)\n",
    "ggplot(top_barrios,aes(x=Precio,color=Barrio))+geom_density(bw=10)\n",
    "```"
   ]
  },
  {
   "cell_type": "markdown",
   "metadata": {},
   "source": [
    "Calcula el tamaño medio, en metros cuadrados, para los 5 barrios anteriores y muestralo en el mismo dataframe junto con el precio y número de entradas"
   ]
  },
  {
   "cell_type": "code",
   "execution_count": 30,
   "metadata": {},
   "outputs": [
    {
     "data": {
      "text/html": [
       "<table class=\"dataframe\">\n",
       "<caption>A data.frame: 5 × 4</caption>\n",
       "<thead>\n",
       "\t<tr><th scope=col>Barrio</th><th scope=col>Frecuencia</th><th scope=col>Precio</th><th scope=col>MetrosCuadrados</th></tr>\n",
       "\t<tr><th scope=col>&lt;chr&gt;</th><th scope=col>&lt;int&gt;</th><th scope=col>&lt;dbl&gt;</th><th scope=col>&lt;dbl&gt;</th></tr>\n",
       "</thead>\n",
       "<tbody>\n",
       "\t<tr><td>Goya     </td><td>119</td><td>109.98540</td><td>51.68504</td></tr>\n",
       "\t<tr><td>Justicia </td><td>473</td><td> 99.04624</td><td>30.30960</td></tr>\n",
       "\t<tr><td>Recoletos</td><td>115</td><td>158.89683</td><td>26.66316</td></tr>\n",
       "\t<tr><td>Sol      </td><td>636</td><td>100.59593</td><td>43.42527</td></tr>\n",
       "\t<tr><td>Trafalgar</td><td>198</td><td> 98.86977</td><td>29.30426</td></tr>\n",
       "</tbody>\n",
       "</table>\n"
      ],
      "text/latex": [
       "A data.frame: 5 × 4\n",
       "\\begin{tabular}{llll}\n",
       " Barrio & Frecuencia & Precio & MetrosCuadrados\\\\\n",
       " <chr> & <int> & <dbl> & <dbl>\\\\\n",
       "\\hline\n",
       "\t Goya      & 119 & 109.98540 & 51.68504\\\\\n",
       "\t Justicia  & 473 &  99.04624 & 30.30960\\\\\n",
       "\t Recoletos & 115 & 158.89683 & 26.66316\\\\\n",
       "\t Sol       & 636 & 100.59593 & 43.42527\\\\\n",
       "\t Trafalgar & 198 &  98.86977 & 29.30426\\\\\n",
       "\\end{tabular}\n"
      ],
      "text/markdown": [
       "\n",
       "A data.frame: 5 × 4\n",
       "\n",
       "| Barrio &lt;chr&gt; | Frecuencia &lt;int&gt; | Precio &lt;dbl&gt; | MetrosCuadrados &lt;dbl&gt; |\n",
       "|---|---|---|---|\n",
       "| Goya      | 119 | 109.98540 | 51.68504 |\n",
       "| Justicia  | 473 |  99.04624 | 30.30960 |\n",
       "| Recoletos | 115 | 158.89683 | 26.66316 |\n",
       "| Sol       | 636 | 100.59593 | 43.42527 |\n",
       "| Trafalgar | 198 |  98.86977 | 29.30426 |\n",
       "\n"
      ],
      "text/plain": [
       "  Barrio    Frecuencia Precio    MetrosCuadrados\n",
       "1 Goya      119        109.98540 51.68504       \n",
       "2 Justicia  473         99.04624 30.30960       \n",
       "3 Recoletos 115        158.89683 26.66316       \n",
       "4 Sol       636        100.59593 43.42527       \n",
       "5 Trafalgar 198         98.86977 29.30426       "
      ]
     },
     "metadata": {},
     "output_type": "display_data"
    }
   ],
   "source": [
    "barrios_medio <- aggregate(MetrosCuadrados ~ Barrio,\n",
    "                           FUN = mean, data = apartment, \n",
    "                           na.rm = TRUE)\n",
    "barrios_medio <- merge(head(barrios_frecuencia,5),\n",
    "                       barrios_medio,\n",
    "                       by=\"Barrio\")\n",
    "barrios_medio"
   ]
  },
  {
   "cell_type": "markdown",
   "metadata": {},
   "source": [
    "Dibuja el diagrama de densidad de distribución de los diferentes tamaños de apartamentos. Serían 5 gráficas, una por cada barrio."
   ]
  },
  {
   "cell_type": "code",
   "execution_count": 31,
   "metadata": {},
   "outputs": [
    {
     "data": {
      "image/png": "[encoded data removed]",
      "text/plain": [
       "plot without title"
      ]
     },
     "metadata": {
      "image/png": {
       "height": 240,
       "width": 360
      }
     },
     "output_type": "display_data"
    },
    {
     "data": {
      "image/png": "[encoded data removed]",
      "text/plain": [
       "plot without title"
      ]
     },
     "metadata": {
      "image/png": {
       "height": 240,
       "width": 360
      }
     },
     "output_type": "display_data"
    },
    {
     "data": {
      "image/png": "[encoded data removed]",
      "text/plain": [
       "plot without title"
      ]
     },
     "metadata": {
      "image/png": {
       "height": 240,
       "width": 360
      }
     },
     "output_type": "display_data"
    },
    {
     "data": {
      "image/png": "[encoded data removed]",
      "text/plain": [
       "plot without title"
      ]
     },
     "metadata": {
      "image/png": {
       "height": 240,
       "width": 360
      }
     },
     "output_type": "display_data"
    },
    {
     "data": {
      "image/png": "[encoded data removed]",
      "text/plain": [
       "plot without title"
      ]
     },
     "metadata": {
      "image/png": {
       "height": 240,
       "width": 360
      }
     },
     "output_type": "display_data"
    }
   ],
   "source": [
    "for (bar in barrios){\n",
    "        df <- filter(apartment, \n",
    "                     apartment$Barrio==bar,\n",
    "                     !is.na(apartment$MetrosCuadrados)\n",
    "                    )\n",
    "        print(ggplot(data=df, \n",
    "                     aes(MetrosCuadrados)\n",
    "                    ) + \n",
    "              geom_density(adjust = 3) + \n",
    "              ylab('Recoletos')\n",
    "             )        \n",
    "     }"
   ]
  },
  {
   "cell_type": "markdown",
   "metadata": {},
   "source": [
    "Esta claro que las medias de metros cuadrados de cada uno de estos 5 barrios parecen ser diferentes, pero ¿son estadísticamente diferentes?\n",
    "¿Que test habría que usar para comprobarlo?"
   ]
  },
  {
   "cell_type": "code",
   "execution_count": 32,
   "metadata": {},
   "outputs": [
    {
     "name": "stderr",
     "output_type": "stream",
     "text": [
      "Warning message in qtukey(conf.level, length(means), x$df.residual):\n",
      "“NaNs produced”\n"
     ]
    },
    {
     "data": {
      "text/plain": [
       "  Tukey multiple comparisons of means\n",
       "    95% family-wise confidence level\n",
       "\n",
       "Fit: aov(formula = Precio ~ Barrio, data = barrios_medio)\n",
       "\n",
       "$Barrio\n",
       "                           diff lwr upr p adj\n",
       "Justicia-Goya       -10.9391587 NaN NaN   NaN\n",
       "Recoletos-Goya       48.9114239 NaN NaN   NaN\n",
       "Sol-Goya             -9.3894712 NaN NaN   NaN\n",
       "Trafalgar-Goya      -11.1156340 NaN NaN   NaN\n",
       "Recoletos-Justicia   59.8505826 NaN NaN   NaN\n",
       "Sol-Justicia          1.5496875 NaN NaN   NaN\n",
       "Trafalgar-Justicia   -0.1764753 NaN NaN   NaN\n",
       "Sol-Recoletos       -58.3008952 NaN NaN   NaN\n",
       "Trafalgar-Recoletos -60.0270580 NaN NaN   NaN\n",
       "Trafalgar-Sol        -1.7261628 NaN NaN   NaN\n"
      ]
     },
     "metadata": {},
     "output_type": "display_data"
    }
   ],
   "source": [
    "#El Test de Tukey\n",
    "TukeyHSD(aov(Precio ~ Barrio, data=barrios_medio))"
   ]
  },
  {
   "cell_type": "markdown",
   "metadata": {},
   "source": [
    "## <font color='red'>**Comentarios**</font>\n",
    "\n",
    "Este caso es igual que el anterior. El test de Tukey solo deberías usarlo cuando sepas que los datos siguen una ditribución normal.\n",
    "\n",
    "Para responder la pregunta de si los valores son estadísticamente independientes había que haber hecho un test tipo ANOVA.\n",
    "\n",
    "Pero hay que tener cuidado porque el test ANOVA es óptimo cuando la distribución de valores dentro de cada grupo sigue una distribución gaussiana. En caso contrario se podría usar un test como el de kruskal. \n",
    "\n",
    "Para comprobar si una variable sigue una distribución gaussiana podemos aplicar el test de shapiro. En ese caso veríamos que ningún grupo seguiría una distribución gaussiana. Por lo tanto tendríamos que aplicar un test de kruskal, el cual nos daría un pvalor muy bajo indicando que los grupos tienen medias diferentes.\n",
    "\n"
   ]
  },
  {
   "cell_type": "markdown",
   "metadata": {},
   "source": [
    "Para únicamente los pisos de alquiler en el barrio de Sol:\n",
    "\n",
    "``barrio_sol<-subset(airbnb_entire,Barrio==\"Sol\")``\n",
    "\n",
    "Calcular un modelo lineal que combine alguna de estas variables:\n",
    "* NumBanyos\n",
    "* NumDormitorios\n",
    "* MaxOcupantes\n",
    "* MetrosCuadrados"
   ]
  },
  {
   "cell_type": "code",
   "execution_count": 33,
   "metadata": {},
   "outputs": [
    {
     "data": {
      "text/plain": [
       "\n",
       "Call:\n",
       "lm(formula = NumBanyos ~ MaxOcupantes, data = barrio_sol)\n",
       "\n",
       "Residuals:\n",
       "    Min      1Q  Median      3Q     Max \n",
       "-1.2177 -0.1607 -0.1607  0.1821  2.7823 \n",
       "\n",
       "Coefficients:\n",
       "             Estimate Std. Error t value Pr(>|t|)    \n",
       "(Intercept)  0.475069   0.038295   12.40   <2e-16 ***\n",
       "MaxOcupantes 0.171414   0.007548   22.71   <2e-16 ***\n",
       "---\n",
       "Signif. codes:  0 ‘***’ 0.001 ‘**’ 0.01 ‘*’ 0.05 ‘.’ 0.1 ‘ ’ 1\n",
       "\n",
       "Residual standard error: 0.4066 on 686 degrees of freedom\n",
       "Multiple R-squared:  0.4292,\tAdjusted R-squared:  0.4284 \n",
       "F-statistic: 515.8 on 1 and 686 DF,  p-value: < 2.2e-16\n"
      ]
     },
     "metadata": {},
     "output_type": "display_data"
    }
   ],
   "source": [
    "barrio_sol <- subset(airbnb_entire,Barrio == \"Sol\")\n",
    "\n",
    "lineal <- lm(data=barrio_sol,\n",
    "             formula=NumBanyos~MaxOcupantes\n",
    "            )\n",
    "summary(lineal)"
   ]
  },
  {
   "cell_type": "markdown",
   "metadata": {},
   "source": [
    "Calculamos la correlación."
   ]
  },
  {
   "cell_type": "code",
   "execution_count": 34,
   "metadata": {},
   "outputs": [
    {
     "data": {
      "text/html": [
       "<table class=\"dataframe\">\n",
       "<caption>A matrix: 4 × 4 of type dbl</caption>\n",
       "<thead>\n",
       "\t<tr><th></th><th scope=col>NumBanyos</th><th scope=col>NumDormitorios</th><th scope=col>MaxOcupantes</th><th scope=col>MetrosCuadrados</th></tr>\n",
       "</thead>\n",
       "<tbody>\n",
       "\t<tr><th scope=row>NumBanyos</th><td>1.0000000</td><td>0.6819063</td><td>0.6802388</td><td>0.4525919</td></tr>\n",
       "\t<tr><th scope=row>NumDormitorios</th><td>0.6819063</td><td>1.0000000</td><td>0.7788753</td><td>0.5549008</td></tr>\n",
       "\t<tr><th scope=row>MaxOcupantes</th><td>0.6802388</td><td>0.7788753</td><td>1.0000000</td><td>0.4027592</td></tr>\n",
       "\t<tr><th scope=row>MetrosCuadrados</th><td>0.4525919</td><td>0.5549008</td><td>0.4027592</td><td>1.0000000</td></tr>\n",
       "</tbody>\n",
       "</table>\n"
      ],
      "text/latex": [
       "A matrix: 4 × 4 of type dbl\n",
       "\\begin{tabular}{r|llll}\n",
       "  & NumBanyos & NumDormitorios & MaxOcupantes & MetrosCuadrados\\\\\n",
       "\\hline\n",
       "\tNumBanyos & 1.0000000 & 0.6819063 & 0.6802388 & 0.4525919\\\\\n",
       "\tNumDormitorios & 0.6819063 & 1.0000000 & 0.7788753 & 0.5549008\\\\\n",
       "\tMaxOcupantes & 0.6802388 & 0.7788753 & 1.0000000 & 0.4027592\\\\\n",
       "\tMetrosCuadrados & 0.4525919 & 0.5549008 & 0.4027592 & 1.0000000\\\\\n",
       "\\end{tabular}\n"
      ],
      "text/markdown": [
       "\n",
       "A matrix: 4 × 4 of type dbl\n",
       "\n",
       "| <!--/--> | NumBanyos | NumDormitorios | MaxOcupantes | MetrosCuadrados |\n",
       "|---|---|---|---|---|\n",
       "| NumBanyos | 1.0000000 | 0.6819063 | 0.6802388 | 0.4525919 |\n",
       "| NumDormitorios | 0.6819063 | 1.0000000 | 0.7788753 | 0.5549008 |\n",
       "| MaxOcupantes | 0.6802388 | 0.7788753 | 1.0000000 | 0.4027592 |\n",
       "| MetrosCuadrados | 0.4525919 | 0.5549008 | 0.4027592 | 1.0000000 |\n",
       "\n"
      ],
      "text/plain": [
       "                NumBanyos NumDormitorios MaxOcupantes MetrosCuadrados\n",
       "NumBanyos       1.0000000 0.6819063      0.6802388    0.4525919      \n",
       "NumDormitorios  0.6819063 1.0000000      0.7788753    0.5549008      \n",
       "MaxOcupantes    0.6802388 0.7788753      1.0000000    0.4027592      \n",
       "MetrosCuadrados 0.4525919 0.5549008      0.4027592    1.0000000      "
      ]
     },
     "metadata": {},
     "output_type": "display_data"
    }
   ],
   "source": [
    "cor(barrio_sol[,c(\"NumBanyos\",\"NumDormitorios\",\"MaxOcupantes\", \"MetrosCuadrados\")],\n",
    "    use = \"complete.obs\")"
   ]
  },
  {
   "cell_type": "markdown",
   "metadata": {},
   "source": [
    "## <font color='red'>**Comentarios**</font>\n",
    "\n",
    "En este caso es ligeramente mejor usar `pairwise.complete.obs` que `complete.obs`.\n",
    "La última lo que hace es equivalente a un `na.omit()` elimina todas las filas con al menos un NA y luego calcula la correlación. La opción `pairwise.complete.obs` en cambio va pareja a pareja de elementos y solo elimina aquellos en los que una pareja hay al menos un NA.\n"
   ]
  },
  {
   "cell_type": "markdown",
   "metadata": {},
   "source": [
    "Vemos que la correlación entre el número de dormitorios y los metros cuadrados es muy baja.\n",
    "Mediante un histograma o curvas de densidad podemos descartar vañores que no tienen sentido.\n"
   ]
  },
  {
   "cell_type": "code",
   "execution_count": 35,
   "metadata": {},
   "outputs": [
    {
     "name": "stderr",
     "output_type": "stream",
     "text": [
      "Warning message:\n",
      "“Removed 629 rows containing missing values (position_stack).”\n"
     ]
    },
    {
     "data": {
      "image/png": "[encoded data removed]",
      "text/plain": [
       "plot without title"
      ]
     },
     "metadata": {
      "image/png": {
       "height": 240,
       "width": 360
      }
     },
     "output_type": "display_data"
    },
    {
     "data": {
      "text/html": [
       "<table class=\"dataframe\">\n",
       "<caption>A matrix: 4 × 4 of type dbl</caption>\n",
       "<thead>\n",
       "\t<tr><th></th><th scope=col>NumBanyos</th><th scope=col>NumDormitorios</th><th scope=col>MaxOcupantes</th><th scope=col>MetrosCuadrados</th></tr>\n",
       "</thead>\n",
       "<tbody>\n",
       "\t<tr><th scope=row>NumBanyos</th><td>1.0000000</td><td>0.7220384</td><td>0.8482725</td><td>0.5695087</td></tr>\n",
       "\t<tr><th scope=row>NumDormitorios</th><td>0.7220384</td><td>1.0000000</td><td>0.7687103</td><td>0.8098261</td></tr>\n",
       "\t<tr><th scope=row>MaxOcupantes</th><td>0.8482725</td><td>0.7687103</td><td>1.0000000</td><td>0.6379055</td></tr>\n",
       "\t<tr><th scope=row>MetrosCuadrados</th><td>0.5695087</td><td>0.8098261</td><td>0.6379055</td><td>1.0000000</td></tr>\n",
       "</tbody>\n",
       "</table>\n"
      ],
      "text/latex": [
       "A matrix: 4 × 4 of type dbl\n",
       "\\begin{tabular}{r|llll}\n",
       "  & NumBanyos & NumDormitorios & MaxOcupantes & MetrosCuadrados\\\\\n",
       "\\hline\n",
       "\tNumBanyos & 1.0000000 & 0.7220384 & 0.8482725 & 0.5695087\\\\\n",
       "\tNumDormitorios & 0.7220384 & 1.0000000 & 0.7687103 & 0.8098261\\\\\n",
       "\tMaxOcupantes & 0.8482725 & 0.7687103 & 1.0000000 & 0.6379055\\\\\n",
       "\tMetrosCuadrados & 0.5695087 & 0.8098261 & 0.6379055 & 1.0000000\\\\\n",
       "\\end{tabular}\n"
      ],
      "text/markdown": [
       "\n",
       "A matrix: 4 × 4 of type dbl\n",
       "\n",
       "| <!--/--> | NumBanyos | NumDormitorios | MaxOcupantes | MetrosCuadrados |\n",
       "|---|---|---|---|---|\n",
       "| NumBanyos | 1.0000000 | 0.7220384 | 0.8482725 | 0.5695087 |\n",
       "| NumDormitorios | 0.7220384 | 1.0000000 | 0.7687103 | 0.8098261 |\n",
       "| MaxOcupantes | 0.8482725 | 0.7687103 | 1.0000000 | 0.6379055 |\n",
       "| MetrosCuadrados | 0.5695087 | 0.8098261 | 0.6379055 | 1.0000000 |\n",
       "\n"
      ],
      "text/plain": [
       "                NumBanyos NumDormitorios MaxOcupantes MetrosCuadrados\n",
       "NumBanyos       1.0000000 0.7220384      0.8482725    0.5695087      \n",
       "NumDormitorios  0.7220384 1.0000000      0.7687103    0.8098261      \n",
       "MaxOcupantes    0.8482725 0.7687103      1.0000000    0.6379055      \n",
       "MetrosCuadrados 0.5695087 0.8098261      0.6379055    1.0000000      "
      ]
     },
     "metadata": {},
     "output_type": "display_data"
    },
    {
     "data": {
      "image/png": "[encoded data removed]",
      "text/plain": [
       "plot without title"
      ]
     },
     "metadata": {
      "image/png": {
       "height": 240,
       "width": 360
      }
     },
     "output_type": "display_data"
    }
   ],
   "source": [
    "ggplot(barrio_sol,\n",
    "       aes(x=MetrosCuadrados, \n",
    "           y=NumDormitorios, \n",
    "           color=MetrosCuadrados)\n",
    "      ) + geom_col(size=3)\n",
    "\n",
    "barrio_sol_filter <- filter(barrio_sol, \n",
    "                            barrio_sol$MetrosCuadrados > 29, \n",
    "                            !is.na(barrio_sol$MetrosCuadrados), \n",
    "                            barrio_sol$NumDormitorios > 0\n",
    "                           )\n",
    "\n",
    "ggplot(barrio_sol_filter,\n",
    "       aes(x=MetrosCuadrados, \n",
    "                             y=NumDormitorios, \n",
    "                             color=MetrosCuadrados)\n",
    "      ) + geom_col(size=3)\n",
    "\n",
    " cor(barrio_sol_filter[,c(\"NumBanyos\",\n",
    "                          \"NumDormitorios\",\n",
    "                          \"MaxOcupantes\", \n",
    "                          \"MetrosCuadrados\")],\n",
    "     use = \"complete.obs\")"
   ]
  },
  {
   "cell_type": "markdown",
   "metadata": {},
   "source": [
    "Con los datos filtrados calculamos el valor o la combinación de valores que mejor nos permite obtener el precio de un inmueble."
   ]
  },
  {
   "cell_type": "code",
   "execution_count": 36,
   "metadata": {},
   "outputs": [
    {
     "data": {
      "text/html": [
       "<table class=\"dataframe\">\n",
       "<caption>A matrix: 4 × 4 of type dbl</caption>\n",
       "<thead>\n",
       "\t<tr><th></th><th scope=col>NumBanyos</th><th scope=col>NumDormitorios</th><th scope=col>MaxOcupantes</th><th scope=col>MetrosCuadrados</th></tr>\n",
       "</thead>\n",
       "<tbody>\n",
       "\t<tr><th scope=row>NumBanyos</th><td> 0.5641026</td><td> 0.6880342</td><td> 1.688034</td><td>  19.86774</td></tr>\n",
       "\t<tr><th scope=row>NumDormitorios</th><td> 0.6880342</td><td> 1.6096866</td><td> 2.584046</td><td>  47.72342</td></tr>\n",
       "\t<tr><th scope=row>MaxOcupantes</th><td> 1.6880342</td><td> 2.5840456</td><td> 7.019943</td><td>  78.50409</td></tr>\n",
       "\t<tr><th scope=row>MetrosCuadrados</th><td>19.8677433</td><td>47.7234241</td><td>78.504094</td><td>2157.43802</td></tr>\n",
       "</tbody>\n",
       "</table>\n"
      ],
      "text/latex": [
       "A matrix: 4 × 4 of type dbl\n",
       "\\begin{tabular}{r|llll}\n",
       "  & NumBanyos & NumDormitorios & MaxOcupantes & MetrosCuadrados\\\\\n",
       "\\hline\n",
       "\tNumBanyos &  0.5641026 &  0.6880342 &  1.688034 &   19.86774\\\\\n",
       "\tNumDormitorios &  0.6880342 &  1.6096866 &  2.584046 &   47.72342\\\\\n",
       "\tMaxOcupantes &  1.6880342 &  2.5840456 &  7.019943 &   78.50409\\\\\n",
       "\tMetrosCuadrados & 19.8677433 & 47.7234241 & 78.504094 & 2157.43802\\\\\n",
       "\\end{tabular}\n"
      ],
      "text/markdown": [
       "\n",
       "A matrix: 4 × 4 of type dbl\n",
       "\n",
       "| <!--/--> | NumBanyos | NumDormitorios | MaxOcupantes | MetrosCuadrados |\n",
       "|---|---|---|---|---|\n",
       "| NumBanyos |  0.5641026 |  0.6880342 |  1.688034 |   19.86774 |\n",
       "| NumDormitorios |  0.6880342 |  1.6096866 |  2.584046 |   47.72342 |\n",
       "| MaxOcupantes |  1.6880342 |  2.5840456 |  7.019943 |   78.50409 |\n",
       "| MetrosCuadrados | 19.8677433 | 47.7234241 | 78.504094 | 2157.43802 |\n",
       "\n"
      ],
      "text/plain": [
       "                NumBanyos  NumDormitorios MaxOcupantes MetrosCuadrados\n",
       "NumBanyos        0.5641026  0.6880342      1.688034      19.86774     \n",
       "NumDormitorios   0.6880342  1.6096866      2.584046      47.72342     \n",
       "MaxOcupantes     1.6880342  2.5840456      7.019943      78.50409     \n",
       "MetrosCuadrados 19.8677433 47.7234241     78.504094    2157.43802     "
      ]
     },
     "metadata": {},
     "output_type": "display_data"
    }
   ],
   "source": [
    "cov(barrio_sol_filter[,c(\"NumBanyos\",\n",
    "                         \"NumDormitorios\",\n",
    "                         \"MaxOcupantes\", \n",
    "                         \"MetrosCuadrados\")],\n",
    "    use = \"complete.obs\")"
   ]
  },
  {
   "cell_type": "markdown",
   "metadata": {},
   "source": [
    "¿Que variable es más fiable para conocer el precio de un inmueble, el número de habitaciones o los metros cuadrados?"
   ]
  },
  {
   "cell_type": "code",
   "execution_count": 37,
   "metadata": {},
   "outputs": [
    {
     "data": {
      "image/png": "[encoded data removed]",
      "text/plain": [
       "plot without title"
      ]
     },
     "metadata": {
      "image/png": {
       "height": 240,
       "width": 360
      }
     },
     "output_type": "display_data"
    }
   ],
   "source": [
    "ggplot(barrio_sol_filter,\n",
    "       aes(y=MetrosCuadrados, \n",
    "                             x=NumDormitorios, \n",
    "                             color=Precio)\n",
    "      ) + geom_col(size=3)"
   ]
  },
  {
   "cell_type": "markdown",
   "metadata": {},
   "source": [
    "Viendo la gráfica observamos que cuantas mas habitaciones mas caro es el inmueble"
   ]
  },
  {
   "cell_type": "markdown",
   "metadata": {},
   "source": [
    "## <font color='red'>**Comentarios**</font>\n",
    "\n",
    "Lo que pregunto es que variable es más fiable a la hora de calcular el precio.\n",
    "\n",
    "Una forma de hacerlo es creando un modelo de regresión lineal tomando como variable dependiente el Precio y como variables independientes el número de habitaciones y los metros cuadrados. Mirando el pvalor de cada uno de los coeficientes verías cual es más significativo. De la misma forma que en clase veiamos que variables afectaban en mayor medida al peso de un niño al nacer en el notebook donde vimos las regresiones lineales."
   ]
  },
  {
   "cell_type": "markdown",
   "metadata": {},
   "source": [
    "Responde con su correspondiente margen de error del 95%, ¿cuantos euros incrementa el precio del alquiler por cada metro cuadrado extra del piso?"
   ]
  },
  {
   "cell_type": "code",
   "execution_count": 38,
   "metadata": {},
   "outputs": [
    {
     "data": {
      "text/plain": [
       "\n",
       "Call:\n",
       "lm(formula = MetrosCuadrados ~ Precio, data = barrio_sol_filter)\n",
       "\n",
       "Coefficients:\n",
       "(Intercept)       Precio  \n",
       "    20.9337       0.5578  \n"
      ]
     },
     "metadata": {},
     "output_type": "display_data"
    }
   ],
   "source": [
    "modelo <- lm(data = barrio_sol_filter, \n",
    "             formula= MetrosCuadrados ~ Precio)\n",
    "modelo"
   ]
  },
  {
   "cell_type": "code",
   "execution_count": 39,
   "metadata": {},
   "outputs": [
    {
     "data": {
      "text/plain": [
       "\n",
       "Call:\n",
       "lm(formula = MetrosCuadrados ~ Precio, data = barrio_sol_filter)\n",
       "\n",
       "Residuals:\n",
       "    Min      1Q  Median      3Q     Max \n",
       "-45.369 -20.139  -6.757  11.601  68.085 \n",
       "\n",
       "Coefficients:\n",
       "            Estimate Std. Error t value Pr(>|t|)    \n",
       "(Intercept) 20.93373   13.08538   1.600    0.122    \n",
       "Precio       0.55780    0.09762   5.714 5.95e-06 ***\n",
       "---\n",
       "Signif. codes:  0 ‘***’ 0.001 ‘**’ 0.01 ‘*’ 0.05 ‘.’ 0.1 ‘ ’ 1\n",
       "\n",
       "Residual standard error: 31.19 on 25 degrees of freedom\n",
       "Multiple R-squared:  0.5664,\tAdjusted R-squared:  0.549 \n",
       "F-statistic: 32.65 on 1 and 25 DF,  p-value: 5.951e-06\n"
      ]
     },
     "metadata": {},
     "output_type": "display_data"
    }
   ],
   "source": [
    "summary(modelo)"
   ]
  },
  {
   "cell_type": "code",
   "execution_count": 40,
   "metadata": {},
   "outputs": [
    {
     "data": {
      "text/html": [
       "<strong>Precio:</strong> 0.557797008169017"
      ],
      "text/latex": [
       "\\textbf{Precio:} 0.557797008169017"
      ],
      "text/markdown": [
       "**Precio:** 0.557797008169017"
      ],
      "text/plain": [
       "  Precio \n",
       "0.557797 "
      ]
     },
     "metadata": {},
     "output_type": "display_data"
    }
   ],
   "source": [
    "modelo$coefficients[2]"
   ]
  },
  {
   "cell_type": "code",
   "execution_count": 41,
   "metadata": {},
   "outputs": [
    {
     "data": {
      "text/html": [
       "<table class=\"dataframe\">\n",
       "<caption>A matrix: 1 × 2 of type dbl</caption>\n",
       "<thead>\n",
       "\t<tr><th></th><th scope=col>2.5 %</th><th scope=col>97.5 %</th></tr>\n",
       "</thead>\n",
       "<tbody>\n",
       "\t<tr><th scope=row>Precio</th><td>0.3567526</td><td>0.7588414</td></tr>\n",
       "</tbody>\n",
       "</table>\n"
      ],
      "text/latex": [
       "A matrix: 1 × 2 of type dbl\n",
       "\\begin{tabular}{r|ll}\n",
       "  & 2.5 \\% & 97.5 \\%\\\\\n",
       "\\hline\n",
       "\tPrecio & 0.3567526 & 0.7588414\\\\\n",
       "\\end{tabular}\n"
      ],
      "text/markdown": [
       "\n",
       "A matrix: 1 × 2 of type dbl\n",
       "\n",
       "| <!--/--> | 2.5 % | 97.5 % |\n",
       "|---|---|---|\n",
       "| Precio | 0.3567526 | 0.7588414 |\n",
       "\n"
      ],
      "text/plain": [
       "       2.5 %     97.5 %   \n",
       "Precio 0.3567526 0.7588414"
      ]
     },
     "metadata": {},
     "output_type": "display_data"
    }
   ],
   "source": [
    "#intervalo_confianza\n",
    "confint(object = modelo, \n",
    "        parm = \"Precio\",\n",
    "        level = 0.95)"
   ]
  },
  {
   "cell_type": "code",
   "execution_count": 42,
   "metadata": {},
   "outputs": [
    {
     "data": {
      "text/html": [
       "<table class=\"dataframe\">\n",
       "<caption>A matrix: 5 × 3 of type dbl</caption>\n",
       "<thead>\n",
       "\t<tr><th></th><th scope=col>fit</th><th scope=col>lwr</th><th scope=col>upr</th></tr>\n",
       "</thead>\n",
       "<tbody>\n",
       "\t<tr><th scope=row>1</th><td> 62.76851</td><td> 47.55339</td><td> 77.98362</td></tr>\n",
       "\t<tr><th scope=row>2</th><td> 76.71343</td><td> 63.76679</td><td> 89.66007</td></tr>\n",
       "\t<tr><th scope=row>3</th><td>160.38298</td><td>131.30886</td><td>189.45711</td></tr>\n",
       "\t<tr><th scope=row>4</th><td> 81.17581</td><td> 68.61225</td><td> 93.73937</td></tr>\n",
       "\t<tr><th scope=row>5</th><td> 75.59784</td><td> 62.52623</td><td> 88.66944</td></tr>\n",
       "</tbody>\n",
       "</table>\n"
      ],
      "text/latex": [
       "A matrix: 5 × 3 of type dbl\n",
       "\\begin{tabular}{r|lll}\n",
       "  & fit & lwr & upr\\\\\n",
       "\\hline\n",
       "\t1 &  62.76851 &  47.55339 &  77.98362\\\\\n",
       "\t2 &  76.71343 &  63.76679 &  89.66007\\\\\n",
       "\t3 & 160.38298 & 131.30886 & 189.45711\\\\\n",
       "\t4 &  81.17581 &  68.61225 &  93.73937\\\\\n",
       "\t5 &  75.59784 &  62.52623 &  88.66944\\\\\n",
       "\\end{tabular}\n"
      ],
      "text/markdown": [
       "\n",
       "A matrix: 5 × 3 of type dbl\n",
       "\n",
       "| <!--/--> | fit | lwr | upr |\n",
       "|---|---|---|---|\n",
       "| 1 |  62.76851 |  47.55339 |  77.98362 |\n",
       "| 2 |  76.71343 |  63.76679 |  89.66007 |\n",
       "| 3 | 160.38298 | 131.30886 | 189.45711 |\n",
       "| 4 |  81.17581 |  68.61225 |  93.73937 |\n",
       "| 5 |  75.59784 |  62.52623 |  88.66944 |\n",
       "\n"
      ],
      "text/plain": [
       "  fit       lwr       upr      \n",
       "1  62.76851  47.55339  77.98362\n",
       "2  76.71343  63.76679  89.66007\n",
       "3 160.38298 131.30886 189.45711\n",
       "4  81.17581  68.61225  93.73937\n",
       "5  75.59784  62.52623  88.66944"
      ]
     },
     "metadata": {},
     "output_type": "display_data"
    }
   ],
   "source": [
    "#prediccion_confianza\n",
    "head(predict(modelo,\n",
    "             barrio_sol_filter,\n",
    "             interval = 'confidence'),5)"
   ]
  },
  {
   "cell_type": "markdown",
   "metadata": {},
   "source": [
    "Responde con su correspondiente margen de error del 95%, ¿cuantos euros incrementa el precio del alquiler por cada habitación?"
   ]
  },
  {
   "cell_type": "code",
   "execution_count": 43,
   "metadata": {},
   "outputs": [
    {
     "data": {
      "text/plain": [
       "\n",
       "Call:\n",
       "lm(formula = NumDormitorios ~ Precio, data = barrio_sol_filter)\n",
       "\n",
       "Coefficients:\n",
       "(Intercept)       Precio  \n",
       "   -0.18110      0.01769  \n"
      ]
     },
     "metadata": {},
     "output_type": "display_data"
    }
   ],
   "source": [
    "modelo2 <- lm(data = barrio_sol_filter,\n",
    "              formula = NumDormitorios ~ Precio)\n",
    "modelo2"
   ]
  },
  {
   "cell_type": "code",
   "execution_count": 44,
   "metadata": {},
   "outputs": [
    {
     "data": {
      "text/plain": [
       "\n",
       "Call:\n",
       "lm(formula = NumDormitorios ~ Precio, data = barrio_sol_filter)\n",
       "\n",
       "Residuals:\n",
       "    Min      1Q  Median      3Q     Max \n",
       "-0.7294 -0.3090 -0.1456  0.2659  2.5454 \n",
       "\n",
       "Coefficients:\n",
       "             Estimate Std. Error t value Pr(>|t|)    \n",
       "(Intercept) -0.181097   0.263996  -0.686    0.499    \n",
       "Precio       0.017690   0.001969   8.982 2.67e-09 ***\n",
       "---\n",
       "Signif. codes:  0 ‘***’ 0.001 ‘**’ 0.01 ‘*’ 0.05 ‘.’ 0.1 ‘ ’ 1\n",
       "\n",
       "Residual standard error: 0.6293 on 25 degrees of freedom\n",
       "Multiple R-squared:  0.7634,\tAdjusted R-squared:  0.754 \n",
       "F-statistic: 80.68 on 1 and 25 DF,  p-value: 2.671e-09\n"
      ]
     },
     "metadata": {},
     "output_type": "display_data"
    }
   ],
   "source": [
    "summary(modelo2)"
   ]
  },
  {
   "cell_type": "code",
   "execution_count": 45,
   "metadata": {},
   "outputs": [
    {
     "data": {
      "text/html": [
       "<strong>Precio:</strong> 0.0176895621136937"
      ],
      "text/latex": [
       "\\textbf{Precio:} 0.0176895621136937"
      ],
      "text/markdown": [
       "**Precio:** 0.0176895621136937"
      ],
      "text/plain": [
       "    Precio \n",
       "0.01768956 "
      ]
     },
     "metadata": {},
     "output_type": "display_data"
    }
   ],
   "source": [
    "modelo2$coefficients[2]"
   ]
  },
  {
   "cell_type": "markdown",
   "metadata": {},
   "source": [
    "\n",
    "## <font color='red'>**Comentarios**</font>\n",
    "\n",
    "Realmente es más fácil de ver si haces el modelo con la variable dependiente con el Precio. \n",
    "\n",
    "Así puedes ver como afecta al precio el número de habitaciones o los metros cuadrados.\n",
    "\n",
    "Con los modelos que has hecho estas viendo como un cambio de precio hace que un piso tenga más habitaciones o más metros cuadrados."
   ]
  },
  {
   "cell_type": "markdown",
   "metadata": {},
   "source": [
    "¿Cual es la probabilidad de encontrar, en el barrio de Sol, un apartamento en alquiler con 3 dormitorios?\n",
    "¿Cual es el intervalo de confianza de esa probabilidad?"
   ]
  },
  {
   "cell_type": "code",
   "execution_count": 46,
   "metadata": {},
   "outputs": [
    {
     "data": {
      "text/html": [
       "0.0740740740740741"
      ],
      "text/latex": [
       "0.0740740740740741"
      ],
      "text/markdown": [
       "0.0740740740740741"
      ],
      "text/plain": [
       "[1] 0.07407407"
      ]
     },
     "metadata": {},
     "output_type": "display_data"
    }
   ],
   "source": [
    "three_rooms <- filter(barrio_sol_filter,\n",
    "                      barrio_sol_filter$NumDormitorios == 3)\n",
    "prob_three_rooms = (count(three_rooms)/count(barrio_sol_filter))$n[1]\n",
    "prob_three_rooms "
   ]
  },
  {
   "cell_type": "code",
   "execution_count": 47,
   "metadata": {},
   "outputs": [
    {
     "name": "stdout",
     "output_type": "stream",
     "text": [
      "[1] \"Entre  -3.17828675982275  y  3.17828675982275\"\n"
     ]
    }
   ],
   "source": [
    "print(paste(\"Entre \",\n",
    "            qnorm(prob_three_rooms/100, lower.tail = T),\n",
    "            \" y \",\n",
    "            qnorm(prob_three_rooms/100, lower.tail = F)\n",
    "           )\n",
    "      )"
   ]
  },
  {
   "cell_type": "markdown",
   "metadata": {},
   "source": [
    "## <font color='red'>**Comentarios**</font>\n",
    "\n",
    "Esto viene explicado al final del notebook 6. Las variable sigue una distribución binomial, deberías usar un binom test.\n",
    "\n",
    "El intervalo de confianza de una probabilidad tiene que estar por definición entre 0 y 1. Aqui estas mostrando valores muy fuera de ese margen."
   ]
  },
  {
   "cell_type": "code",
   "execution_count": null,
   "metadata": {},
   "outputs": [],
   "source": []
  }
 ],
 "metadata": {
  "kernelspec": {
   "display_name": "R",
   "language": "R",
   "name": "ir"
  },
  "language_info": {
   "codemirror_mode": "r",
   "file_extension": ".r",
   "mimetype": "text/x-r-source",
   "name": "R",
   "pygments_lexer": "r",
   "version": "4.1.1"
  }
 },
 "nbformat": 4,
 "nbformat_minor": 2
}
