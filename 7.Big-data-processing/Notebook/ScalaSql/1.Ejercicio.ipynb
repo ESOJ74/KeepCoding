{
 "cells": [
  {
   "cell_type": "code",
   "execution_count": 9,
   "id": "6138e68e",
   "metadata": {},
   "outputs": [
    {
     "data": {
      "text/plain": [
       "import org.apache.spark.sql.SparkSession\n",
       "spark: org.apache.spark.sql.SparkSession = org.apache.spark.sql.SparkSession@19a7fe5e\n"
      ]
     },
     "execution_count": 9,
     "metadata": {},
     "output_type": "execute_result"
    }
   ],
   "source": [
    "import org.apache.spark.sql.SparkSession\n",
    "\n",
    "val spark = SparkSession\n",
    "      .builder()\n",
    "      .master(\"local[*]\")\n",
    "      .appName(\"Spark SQL KeepCoding Base\")\n",
    "      .getOrCreate()"
   ]
  },
  {
   "cell_type": "code",
   "execution_count": 16,
   "id": "020a5cbb",
   "metadata": {},
   "outputs": [
    {
     "data": {
      "text/plain": [
       "csvDefault: org.apache.spark.sql.DataFrame = [_c0: string, _c1: string ... 2 more fields]\n",
       "res0: Array[org.apache.spark.sql.Row] = Array([nombre,apellido,clase,nota], [sara,garcia,ingles,8], [pepe,gomez,matematicas,8], [pepe,gomez,tecnologia,7], [pepe,gomez,ingles,7], [lucia,fuentes,filosofia,7], [lucia,fuentes,historia,8], [lucia,fuentes,ingles,6])\n"
      ]
     },
     "execution_count": 16,
     "metadata": {},
     "output_type": "execute_result"
    }
   ],
   "source": [
    " // Read CSV\n",
    "val csvDefault = spark\n",
    "      .read\n",
    "      .csv(\"sample.csv\")"
   ]
  },
  {
   "cell_type": "code",
   "execution_count": 18,
   "id": "70a8e2dc",
   "metadata": {},
   "outputs": [
    {
     "data": {
      "text/plain": [
       "csv: org.apache.spark.sql.DataFrame = [nombre: string, apellido: string ... 2 more fields]\n",
       "res2: Array[org.apache.spark.sql.Row] = Array([sara,garcia,ingles,8], [pepe,gomez,matematicas,8], [pepe,gomez,tecnologia,7], [pepe,gomez,ingles,7], [lucia,fuentes,filosofia,7], [lucia,fuentes,historia,8], [lucia,fuentes,ingles,6])\n"
      ]
     },
     "execution_count": 18,
     "metadata": {},
     "output_type": "execute_result"
    }
   ],
   "source": [
    "val csv = spark\n",
    "      .read\n",
    "      .format(\"csv\")\n",
    "      .option(\"sep\", \",\")\n",
    "      .option(\"inferSchema\", \"true\")\n",
    "      .option(\"header\", \"true\")\n",
    "      .load(\"sample.csv\")"
   ]
  },
  {
   "cell_type": "code",
   "execution_count": 19,
   "id": "68d25393",
   "metadata": {},
   "outputs": [
    {
     "name": "stdout",
     "output_type": "stream",
     "text": [
      "+------+--------+-----------+----+\n",
      "|   _c0|     _c1|        _c2| _c3|\n",
      "+------+--------+-----------+----+\n",
      "|nombre|apellido|      clase|nota|\n",
      "|  sara|  garcia|     ingles|   8|\n",
      "|  pepe|   gomez|matematicas|   8|\n",
      "|  pepe|   gomez| tecnologia|   7|\n",
      "|  pepe|   gomez|     ingles|   7|\n",
      "| lucia| fuentes|  filosofia|   7|\n",
      "| lucia| fuentes|   historia|   8|\n",
      "| lucia| fuentes|     ingles|   6|\n",
      "+------+--------+-----------+----+\n",
      "\n",
      "root\n",
      " |-- _c0: string (nullable = true)\n",
      " |-- _c1: string (nullable = true)\n",
      " |-- _c2: string (nullable = true)\n",
      " |-- _c3: string (nullable = true)\n",
      "\n",
      "+------+--------+-----------+----+\n",
      "|nombre|apellido|      clase|nota|\n",
      "+------+--------+-----------+----+\n",
      "|  sara|  garcia|     ingles|   8|\n",
      "|  pepe|   gomez|matematicas|   8|\n",
      "|  pepe|   gomez| tecnologia|   7|\n",
      "|  pepe|   gomez|     ingles|   7|\n",
      "| lucia| fuentes|  filosofia|   7|\n",
      "| lucia| fuentes|   historia|   8|\n",
      "| lucia| fuentes|     ingles|   6|\n",
      "+------+--------+-----------+----+\n",
      "\n",
      "root\n",
      " |-- nombre: string (nullable = true)\n",
      " |-- apellido: string (nullable = true)\n",
      " |-- clase: string (nullable = true)\n",
      " |-- nota: integer (nullable = true)\n",
      "\n"
     ]
    }
   ],
   "source": [
    "csvDefault.show\n",
    "csvDefault.printSchema\n",
    "\n",
    "csv.show\n",
    "csv.printSchema"
   ]
  },
  {
   "cell_type": "code",
   "execution_count": 21,
   "id": "64974f4b",
   "metadata": {},
   "outputs": [
    {
     "name": "stdout",
     "output_type": "stream",
     "text": [
      "+--------+-----------+------+----+\n",
      "|apellido|      clase|nombre|nota|\n",
      "+--------+-----------+------+----+\n",
      "|  ferrer|   historia|  juan|  10|\n",
      "|  ferrer|  filosofia|  juan|   8|\n",
      "|  ferrer|     ingles|  juan|   7|\n",
      "|  garcia|matematicas|  sara|   9|\n",
      "|  garcia| tecnologia|  sara|  10|\n",
      "|   gomez|   historia|  juan|   6|\n",
      "|   gomez|  filosofia|  juan|   8|\n",
      "|   gomez|     ingles|  juan|   5|\n",
      "+--------+-----------+------+----+\n",
      "\n",
      "root\n",
      " |-- apellido: string (nullable = true)\n",
      " |-- clase: string (nullable = true)\n",
      " |-- nombre: string (nullable = true)\n",
      " |-- nota: long (nullable = true)\n",
      "\n",
      "+--------+-----------+------+----+\n",
      "|apellido|      clase|nombre|nota|\n",
      "+--------+-----------+------+----+\n",
      "|  ferrer|   historia|  juan|  10|\n",
      "|  ferrer|  filosofia|  juan|   8|\n",
      "|  ferrer|     ingles|  juan|   7|\n",
      "|  garcia|matematicas|  sara|   9|\n",
      "|  garcia| tecnologia|  sara|  10|\n",
      "|   gomez|   historia|  juan|   6|\n",
      "|   gomez|  filosofia|  juan|   8|\n",
      "|   gomez|     ingles|  juan|   5|\n",
      "+--------+-----------+------+----+\n",
      "\n",
      "root\n",
      " |-- apellido: string (nullable = true)\n",
      " |-- clase: string (nullable = true)\n",
      " |-- nombre: string (nullable = true)\n",
      " |-- nota: long (nullable = true)\n",
      "\n"
     ]
    },
    {
     "data": {
      "text/plain": [
       "jsonDefault: org.apache.spark.sql.DataFrame = [apellido: string, clase: string ... 2 more fields]\n",
       "json: org.apache.spark.sql.DataFrame = [apellido: string, clase: string ... 2 more fields]\n"
      ]
     },
     "execution_count": 21,
     "metadata": {},
     "output_type": "execute_result"
    }
   ],
   "source": [
    "// Read JSON\n",
    "\n",
    "val jsonDefault = spark\n",
    "      .read\n",
    "      .json(\"sample.json\")    \n",
    "\n",
    "val json = spark\n",
    "      .read\n",
    "      .format(\"json\")\n",
    "      .load(\"sample.json\")\n",
    "\n",
    "jsonDefault.show\n",
    "jsonDefault.printSchema\n",
    "\n",
    "json.show\n",
    "json.printSchema\n",
    "\n",
    "spark.close()    "
   ]
  },
  {
   "cell_type": "code",
   "execution_count": null,
   "id": "28eaa0e9",
   "metadata": {},
   "outputs": [],
   "source": []
  }
 ],
 "metadata": {
  "kernelspec": {
   "display_name": "spylon-kernel",
   "language": "scala",
   "name": "spylon-kernel"
  },
  "language_info": {
   "codemirror_mode": "text/x-scala",
   "file_extension": ".scala",
   "help_links": [
    {
     "text": "MetaKernel Magics",
     "url": "https://metakernel.readthedocs.io/en/latest/source/README.html"
    }
   ],
   "mimetype": "text/x-scala",
   "name": "scala",
   "pygments_lexer": "scala",
   "version": "0.4.1"
  }
 },
 "nbformat": 4,
 "nbformat_minor": 5
}
