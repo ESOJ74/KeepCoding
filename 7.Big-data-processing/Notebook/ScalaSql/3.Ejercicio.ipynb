{
 "cells": [
  {
   "cell_type": "code",
   "execution_count": 24,
   "id": "34bf7eb6",
   "metadata": {},
   "outputs": [
    {
     "data": {
      "text/plain": [
       "import org.apache.spark.sql.SparkSession\n",
       "spark: org.apache.spark.sql.SparkSession = org.apache.spark.sql.SparkSession@3e202f3f\n"
      ]
     },
     "execution_count": 24,
     "metadata": {},
     "output_type": "execute_result"
    }
   ],
   "source": [
    "import org.apache.spark.sql.SparkSession\n",
    "\n",
    "val spark = SparkSession\n",
    "      .builder()\n",
    "      .master(\"local[*]\")\n",
    "      .appName(\"Spark SQL KeepCoding Base\")\n",
    "      .getOrCreate()"
   ]
  },
  {
   "cell_type": "code",
   "execution_count": 25,
   "id": "fbd576a4",
   "metadata": {},
   "outputs": [
    {
     "data": {
      "text/plain": [
       "parquet: (spark: org.apache.spark.sql.SparkSession)Unit\n"
      ]
     },
     "execution_count": 25,
     "metadata": {},
     "output_type": "execute_result"
    }
   ],
   "source": [
    "def parquet(spark: SparkSession): Unit = {\n",
    "    \n",
    "    spark\n",
    "      .read\n",
    "      .format(\"json\")\n",
    "      .load(\"Resultados/exercise2_output/*.json\")\n",
    "      .write\n",
    "      .format(\"parquet\")\n",
    "      .save(\"Resultados/exercise3_output/spark-parquet\")\n",
    "    \n",
    "    spark\n",
    "      .read\n",
    "      .format(\"json\")\n",
    "      .load(\"Resultados/exercise2_output/*.json\")\n",
    "      .write\n",
    "      .partitionBy(\"curso\", \"clase\")\n",
    "      .format(\"parquet\")\n",
    "      .save(\"Resultados/exercise3_output/spark-parquet-partitioned\")\n",
    "  }"
   ]
  },
  {
   "cell_type": "code",
   "execution_count": 26,
   "id": "a5809687",
   "metadata": {},
   "outputs": [
    {
     "data": {
      "text/plain": [
       "avro: (spark: org.apache.spark.sql.SparkSession)Unit\n"
      ]
     },
     "execution_count": 26,
     "metadata": {},
     "output_type": "execute_result"
    }
   ],
   "source": [
    "  def avro(spark: SparkSession): Unit = {\n",
    "      \n",
    "    spark\n",
    "      .read\n",
    "      .format(\"json\")\n",
    "      .load(\"Resultados/exercise2_output/*.json\")\n",
    "      .write\n",
    "      .option(\"avroSchema\", \"avro/highschool_user_schema_v1_0_0.avsc\")\n",
    "      .save(\"Resultados/exercise3_output/spark-avro-user_schema_v1_0_0\")\n",
    "      \n",
    "    spark\n",
    "      .read\n",
    "      .option(\"avroSchema\", \"avro/highschool_user_schema_v1_1_0.avsc\")\n",
    "      .format(\"parquet\")\n",
    "      .load(\"Resultados/exercise3_output/spark-avro-user_schema_v1_0_0/*.*\")\n",
    "      .withColumn(\"edad\", when($\"nombre\" === \"sara\" && $\"apellido\" === \"garcia\", 18L))\n",
    "      .write\n",
    "      .option(\"avroSchema\", \"avro/highschool_user_schema_v1_1_0.avsc\")\n",
    "      .format(\"json\")\n",
    "      .save(\"Resultados/exercise3_output/spark-avro-user_schema_v1_1_0\")\n",
    "  }"
   ]
  },
  {
   "cell_type": "code",
   "execution_count": 27,
   "id": "ee3e30d6",
   "metadata": {},
   "outputs": [],
   "source": [
    "parquet(spark)\n",
    "avro(spark)"
   ]
  },
  {
   "cell_type": "code",
   "execution_count": null,
   "id": "28d7191f",
   "metadata": {},
   "outputs": [],
   "source": []
  }
 ],
 "metadata": {
  "kernelspec": {
   "display_name": "spylon-kernel",
   "language": "scala",
   "name": "spylon-kernel"
  },
  "language_info": {
   "codemirror_mode": "text/x-scala",
   "file_extension": ".scala",
   "help_links": [
    {
     "text": "MetaKernel Magics",
     "url": "https://metakernel.readthedocs.io/en/latest/source/README.html"
    }
   ],
   "mimetype": "text/x-scala",
   "name": "scala",
   "pygments_lexer": "scala",
   "version": "0.4.1"
  }
 },
 "nbformat": 4,
 "nbformat_minor": 5
}
