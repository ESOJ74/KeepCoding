{
 "cells": [
  {
   "cell_type": "code",
   "execution_count": 1,
   "id": "249fe3fe",
   "metadata": {},
   "outputs": [
    {
     "data": {
      "text/plain": [
       "Intitializing Scala interpreter ..."
      ]
     },
     "metadata": {},
     "output_type": "display_data"
    },
    {
     "data": {
      "text/plain": [
       "Spark Web UI available at http://192.168.0.11:4041\n",
       "SparkContext available as 'sc' (version = 3.1.2, master = local[*], app id = local-1632378507955)\n",
       "SparkSession available as 'spark'\n"
      ]
     },
     "metadata": {},
     "output_type": "display_data"
    },
    {
     "data": {
      "text/plain": [
       "import org.apache.spark.sql.SparkSession\n",
       "import org.apache.spark.sql.functions.udf\n"
      ]
     },
     "execution_count": 1,
     "metadata": {},
     "output_type": "execute_result"
    }
   ],
   "source": [
    "import org.apache.spark.sql.SparkSession\n",
    "import org.apache.spark.sql.functions.udf"
   ]
  },
  {
   "cell_type": "code",
   "execution_count": 2,
   "id": "d694f33c",
   "metadata": {},
   "outputs": [
    {
     "data": {
      "text/plain": [
       "spark: org.apache.spark.sql.SparkSession = org.apache.spark.sql.SparkSession@55d3736c\n"
      ]
     },
     "execution_count": 2,
     "metadata": {},
     "output_type": "execute_result"
    }
   ],
   "source": [
    "val spark = SparkSession\n",
    "      .builder()\n",
    "      .master(\"local[*]\")\n",
    "      .appName(\"Spark SQL KeepCoding Base\")\n",
    "      .getOrCreate()"
   ]
  },
  {
   "cell_type": "code",
   "execution_count": 3,
   "id": "1f6818a4",
   "metadata": {},
   "outputs": [],
   "source": [
    " spark.sparkContext\n",
    "      .parallelize(Seq(\"Andres\", \"Pepe\", \"Juan\"))\n",
    "      .toDF(\"name\")\n",
    "      .createTempView(\"name_table\")"
   ]
  },
  {
   "cell_type": "code",
   "execution_count": 4,
   "id": "e463e166",
   "metadata": {},
   "outputs": [
    {
     "name": "stdout",
     "output_type": "stream",
     "text": [
      "+---------+\n",
      "|UDF(name)|\n",
      "+---------+\n",
      "|   ANDRES|\n",
      "|     Pepe|\n",
      "|     Juan|\n",
      "+---------+\n",
      "\n"
     ]
    }
   ],
   "source": [
    "/*\n",
    "    1. Usando los datos de la tabla `name_table`, escribe una función UDF que transforme\n",
    "       a upperCase las nombres que sean igual a 'Andres', ejecuta la sentencia usando sintasix SQL.\n",
    "     */\n",
    "\n",
    "    spark.udf.register(\"upperCaseAndres\", udf((x: String) => if(x == \"Andres\") x.toUpperCase else x))\n",
    "\n",
    "    spark.sql(\"SELECT upperCaseAndres(name) FROM name_table\")\n",
    "      .show()"
   ]
  },
  {
   "cell_type": "code",
   "execution_count": null,
   "id": "f1ad0679",
   "metadata": {},
   "outputs": [],
   "source": []
  }
 ],
 "metadata": {
  "kernelspec": {
   "display_name": "spylon-kernel",
   "language": "scala",
   "name": "spylon-kernel"
  },
  "language_info": {
   "codemirror_mode": "text/x-scala",
   "file_extension": ".scala",
   "help_links": [
    {
     "text": "MetaKernel Magics",
     "url": "https://metakernel.readthedocs.io/en/latest/source/README.html"
    }
   ],
   "mimetype": "text/x-scala",
   "name": "scala",
   "pygments_lexer": "scala",
   "version": "0.4.1"
  }
 },
 "nbformat": 4,
 "nbformat_minor": 5
}
