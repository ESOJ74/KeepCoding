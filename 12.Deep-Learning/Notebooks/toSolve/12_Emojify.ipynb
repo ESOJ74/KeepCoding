{
  "nbformat": 4,
  "nbformat_minor": 0,
  "metadata": {
    "coursera": {
      "course_slug": "nlp-sequence-models",
      "graded_item_id": "RNnEs",
      "launcher_item_id": "acNYU"
    },
    "kernelspec": {
      "display_name": "Python 3",
      "language": "python",
      "name": "python3"
    },
    "language_info": {
      "codemirror_mode": {
        "name": "ipython",
        "version": 3
      },
      "file_extension": ".py",
      "mimetype": "text/x-python",
      "name": "python",
      "nbconvert_exporter": "python",
      "pygments_lexer": "ipython3",
      "version": "3.6.5"
    },
    "colab": {
      "name": "12_Emojify.ipynb",
      "provenance": [],
      "collapsed_sections": [
        "hupC-4OXMmfl"
      ],
      "toc_visible": true
    }
  },
  "cells": [
    {
      "cell_type": "code",
      "metadata": {
        "id": "NCE4rTcwM2SE"
      },
      "source": [
        "!tar -xf ./12_Emojify.tar.xz"
      ],
      "execution_count": null,
      "outputs": []
    },
    {
      "cell_type": "code",
      "metadata": {
        "id": "_0RHWuMCM6KO",
        "colab": {
          "base_uri": "https://localhost:8080/"
        },
        "outputId": "5aabe468-f802-4a5b-a590-23b65837b7ed"
      },
      "source": [
        "!pip install emoji"
      ],
      "execution_count": null,
      "outputs": [
        {
          "output_type": "stream",
          "text": [
            "Collecting emoji\n",
            "\u001b[?25l  Downloading https://files.pythonhosted.org/packages/24/fa/b3368f41b95a286f8d300e323449ab4e86b85334c2e0b477e94422b8ed0f/emoji-1.2.0-py3-none-any.whl (131kB)\n",
            "\r\u001b[K     |██▌                             | 10kB 10.5MB/s eta 0:00:01\r\u001b[K     |█████                           | 20kB 13.2MB/s eta 0:00:01\r\u001b[K     |███████▌                        | 30kB 16.0MB/s eta 0:00:01\r\u001b[K     |██████████                      | 40kB 10.9MB/s eta 0:00:01\r\u001b[K     |████████████▌                   | 51kB 5.6MB/s eta 0:00:01\r\u001b[K     |███████████████                 | 61kB 5.3MB/s eta 0:00:01\r\u001b[K     |█████████████████▌              | 71kB 5.8MB/s eta 0:00:01\r\u001b[K     |████████████████████            | 81kB 6.4MB/s eta 0:00:01\r\u001b[K     |██████████████████████▌         | 92kB 6.3MB/s eta 0:00:01\r\u001b[K     |█████████████████████████       | 102kB 5.3MB/s eta 0:00:01\r\u001b[K     |███████████████████████████▌    | 112kB 5.3MB/s eta 0:00:01\r\u001b[K     |██████████████████████████████  | 122kB 5.3MB/s eta 0:00:01\r\u001b[K     |████████████████████████████████| 133kB 5.3MB/s \n",
            "\u001b[?25hInstalling collected packages: emoji\n",
            "Successfully installed emoji-1.2.0\n"
          ],
          "name": "stdout"
        }
      ]
    },
    {
      "cell_type": "markdown",
      "metadata": {
        "id": "s1gwCFagMmfJ"
      },
      "source": [
        "# Emojify! \n",
        "\n",
        "In this exercise, we are going to use word vector representations to build an Emojifier. \n",
        "\n",
        "This emojifier app will help us to make text messages more expressive :)\n",
        "\n",
        "So rather than writing:\n",
        ">\"Congratulations on the promotion! Let's get coffee and talk. Love you!\"   \n",
        "\n",
        "The emojifier can automatically turn this into:\n",
        "\n",
        ">\"Congratulations on the promotion! 👍 Let's get coffee and talk. ☕️ Love you! ❤️\"\n",
        "\n",
        "* We will implement a model which inputs a sentence (such as \"Let's go see the baseball game tonight!\") and finds the most appropriate emoji to be used with this sentence (⚾️).\n",
        "\n",
        "#### Using word vectors to improve emoji lookups\n",
        "* In many emoji interfaces, we need to remember that ❤️ is the \"heart\" symbol rather than the \"love\" symbol. \n",
        "    * In other words, we'll have to remember to type \"heart\" to find the desired emoji, and typing \"love\" won't bring up that symbol.\n",
        "* We can make a more flexible emoji interface by using word vectors!\n",
        "* When using word vectors, we'll see that even if our training set explicitly relates only a few words to a particular emoji, our algorithm will be able to generalize and associate additional words in the test set to the same emoji.\n",
        "    * This works even if those additional words don't even appear in the training set. \n",
        "    * This allows us to build an accurate classifier mapping from sentences to emojis, even using a small training set. \n",
        "\n",
        "#### What we'll build\n",
        "1. We'll start with a baseline model (Emojifier-V1) using word embeddings.\n",
        "2. Then we will build a more sophisticated model (Emojifier-V2) that further incorporates an LSTM. "
      ]
    },
    {
      "cell_type": "code",
      "metadata": {
        "id": "AvV6g-c9MmfW"
      },
      "source": [
        "import numpy as np\n",
        "from emo_utils import *\n",
        "import emoji\n",
        "import matplotlib.pyplot as plt\n",
        "\n",
        "%matplotlib inline"
      ],
      "execution_count": null,
      "outputs": []
    },
    {
      "cell_type": "markdown",
      "metadata": {
        "id": "VQu2LXlIMmfX"
      },
      "source": [
        "## 1 - Baseline model: Emojifier-V1\n",
        "\n",
        "### 1.1 - Dataset EMOJISET\n",
        "\n",
        "Let's start by building a simple baseline classifier. \n",
        "\n",
        "We have a tiny dataset (X, Y) where:\n",
        "\n",
        "- X contains 127 sentences (strings).\n",
        "- Y contains an integer label between 0 and 4 corresponding to an emoji for each sentence.\n",
        "\n",
        "<img src=\"https://docs.google.com/uc?export=download&id=1164UTKLVn-pxmoxoZ4F4di7gZidqDQFX\" style=\"width:700px;height:300px;\">\n",
        "<caption><center> Figure 1: EMOJISET - a classification problem with 5 classes. A few examples of sentences are given here. </center></caption>\n",
        "\n",
        "Let's load the dataset using the code below. We split the dataset between training (127 examples) and testing (56 examples)."
      ]
    },
    {
      "cell_type": "code",
      "metadata": {
        "id": "QNmQwfTXMmfY"
      },
      "source": [
        "X_train, Y_train = read_csv('data/train_emoji.csv')\n",
        "X_test, Y_test = read_csv('data/tesss.csv')"
      ],
      "execution_count": null,
      "outputs": []
    },
    {
      "cell_type": "code",
      "metadata": {
        "id": "IDeyNrXoMmfY"
      },
      "source": [
        "maxLen = len(max(X_train, key=len).split())"
      ],
      "execution_count": null,
      "outputs": []
    },
    {
      "cell_type": "code",
      "metadata": {
        "colab": {
          "base_uri": "https://localhost:8080/"
        },
        "id": "pF0nzPxSSDcC",
        "outputId": "cf09b579-9273-483b-9c2a-f502ee1d8ad4"
      },
      "source": [
        "print(maxLen)"
      ],
      "execution_count": null,
      "outputs": [
        {
          "output_type": "stream",
          "text": [
            "10\n"
          ],
          "name": "stdout"
        }
      ]
    },
    {
      "cell_type": "markdown",
      "metadata": {
        "id": "GILDns96MmfY"
      },
      "source": [
        "Run the following cell to print sentences from X_train and corresponding labels from Y_train. \n",
        "* Change `idx` to see different examples. \n",
        "* Note that due to the font used by iPython notebook, the heart emoji may be colored black rather than red."
      ]
    },
    {
      "cell_type": "code",
      "metadata": {
        "id": "mZkxAumrMmfZ",
        "colab": {
          "base_uri": "https://localhost:8080/"
        },
        "outputId": "d6c4975e-2c33-487a-b77b-82d590b4505b"
      },
      "source": [
        "for idx in range(10):\n",
        "    print(X_train[idx], label_to_emoji(Y_train[idx]))"
      ],
      "execution_count": null,
      "outputs": [
        {
          "output_type": "stream",
          "text": [
            "never talk to me again 😞\n",
            "I am proud of your achievements 😄\n",
            "It is the worst day in my life 😞\n",
            "Miss you so much ❤️\n",
            "food is life 🍴\n",
            "I love you mum ❤️\n",
            "Stop saying bullshit 😞\n",
            "congratulations on your acceptance 😄\n",
            "The assignment is too long  😞\n",
            "I want to go play ⚾\n"
          ],
          "name": "stdout"
        }
      ]
    },
    {
      "cell_type": "markdown",
      "metadata": {
        "id": "yVe-SxksMmfZ"
      },
      "source": [
        "### 1.2 - Overview of the Emojifier-V1\n",
        "\n",
        "In this part, we are going to implement a baseline model called \"Emojifier-v1\".  \n",
        "\n",
        "<center>\n",
        "<img src=\"https://docs.google.com/uc?export=download&id=17mAugXhymFuJ6boy6hnOjjhoAxfNGtpz\" style=\"width:900px;height:300px;\">\n",
        "<caption><center> Figure 2: Baseline model (Emojifier-V1).</center></caption>\n",
        "</center>\n",
        "\n",
        "\n",
        "#### Inputs and outputs\n",
        "* The input of the model is a string corresponding to a sentence (e.g. \"I love you). \n",
        "* The output will be a probability vector of shape (1,5), (there are 5 emojis to choose from).\n",
        "* The (1,5) probability vector is passed to an argmax layer, which extracts the index of the emoji with the highest probability."
      ]
    },
    {
      "cell_type": "markdown",
      "metadata": {
        "id": "cj-f1WHIMmfa"
      },
      "source": [
        "#### One-hot encoding\n",
        "* To get our labels into a format suitable for training a softmax classifier, lets convert $Y$ from its current shape  $(m, 1)$ into a \"one-hot representation\" $(m, 5)$, \n",
        "    * Each row is a one-hot vector giving the label of one example.\n",
        "    * Here, `Y_oh` stands for \"Y-one-hot\" in the variable names `Y_oh_train` and `Y_oh_test`: "
      ]
    },
    {
      "cell_type": "code",
      "metadata": {
        "id": "T-v2s4rOMmfa"
      },
      "source": [
        "Y_oh_train = convert_to_one_hot(Y_train, C = 5)\n",
        "Y_oh_test = convert_to_one_hot(Y_test, C = 5)"
      ],
      "execution_count": null,
      "outputs": []
    },
    {
      "cell_type": "code",
      "metadata": {
        "colab": {
          "base_uri": "https://localhost:8080/"
        },
        "id": "8qLySA9BSeQq",
        "outputId": "4d7d92a6-55a2-44c8-a57e-4a324d79ea2c"
      },
      "source": [
        "print(Y_oh_train.shape)"
      ],
      "execution_count": null,
      "outputs": [
        {
          "output_type": "stream",
          "text": [
            "(132, 5)\n"
          ],
          "name": "stdout"
        }
      ]
    },
    {
      "cell_type": "markdown",
      "metadata": {
        "id": "31qSOsmuMmfa"
      },
      "source": [
        "Let's see what `convert_to_one_hot()` did. Feel free to change `index` to print out different values. "
      ]
    },
    {
      "cell_type": "code",
      "metadata": {
        "id": "nlvkv3V6Mmfb",
        "colab": {
          "base_uri": "https://localhost:8080/"
        },
        "outputId": "f90132d7-4922-4606-e79f-5617b9bcb30e"
      },
      "source": [
        "idx = 50\n",
        "print(f\"Sentence '{X_train[50]}' has label index {Y_train[idx]}, which is emoji {label_to_emoji(Y_train[idx])}\", )\n",
        "print(f\"Label index {Y_train[idx]} in one-hot encoding format is {Y_oh_train[idx]}\")"
      ],
      "execution_count": null,
      "outputs": [
        {
          "output_type": "stream",
          "text": [
            "Sentence 'I missed you' has label index 0, which is emoji ❤️\n",
            "Label index 0 in one-hot encoding format is [1. 0. 0. 0. 0.]\n"
          ],
          "name": "stdout"
        }
      ]
    },
    {
      "cell_type": "markdown",
      "metadata": {
        "id": "1AwC1EZTMmfb"
      },
      "source": [
        "All the data is now ready to be fed into the Emojify-V1 model. Let's implement the model!"
      ]
    },
    {
      "cell_type": "markdown",
      "metadata": {
        "id": "_5EWxKDMMmfb"
      },
      "source": [
        "### 1.3 - Implementing Emojifier-V1\n",
        "\n",
        "As shown in Figure 2 (above), the first step is to:\n",
        "* Convert each word in the input sentence into their word vector representations.\n",
        "* Then take an average of the word vectors. \n",
        "* Similar to the previous exercise, we will use pre-trained 50-dimensional GloVe embeddings. \n",
        "\n",
        "Run the following cell to load the `word_to_vec_map`, which contains all the vector representations."
      ]
    },
    {
      "cell_type": "code",
      "metadata": {
        "id": "Q9kkNitvMmfb"
      },
      "source": [
        "word_to_index, index_to_word, word_to_vec_map = read_glove_vecs('data/glove.6B.50d.txt')"
      ],
      "execution_count": null,
      "outputs": []
    },
    {
      "cell_type": "markdown",
      "metadata": {
        "id": "jLOewSLbMmfc"
      },
      "source": [
        "We've loaded:\n",
        "\n",
        "- `word_to_index`: dictionary mapping from words to their indices in the vocabulary \n",
        "    - (400,001 words, with the valid indices ranging from 0 to 400,000)\n",
        "- `index_to_word`: dictionary mapping from indices to their corresponding words in the vocabulary\n",
        "- `word_to_vec_map`: dictionary mapping words to their GloVe vector representation.\n",
        "\n",
        "Run the following cell to check if it works."
      ]
    },
    {
      "cell_type": "code",
      "metadata": {
        "id": "zrHeHpLWMmfc",
        "colab": {
          "base_uri": "https://localhost:8080/"
        },
        "outputId": "a504e9e4-083c-4ccf-a25c-e1a5347f7692"
      },
      "source": [
        "word = \"cucumber\"\n",
        "idx = 289846\n",
        "print(\"the index of\", word, \"in the vocabulary is\", word_to_index[word])\n",
        "print(\"the\", str(idx) + \"th word in the vocabulary is\", index_to_word[idx])"
      ],
      "execution_count": null,
      "outputs": [
        {
          "output_type": "stream",
          "text": [
            "the index of cucumber in the vocabulary is 113317\n",
            "the 289846th word in the vocabulary is potatos\n"
          ],
          "name": "stdout"
        }
      ]
    },
    {
      "cell_type": "markdown",
      "metadata": {
        "id": "IJ1lVV7jMmfc"
      },
      "source": [
        "**Exercise**: Implement `sentence_to_avg()`. We will need to carry out two steps:\n",
        "1. Convert every sentence to lower-case, then split the sentence into a list of words. \n",
        "    * `X.lower()` and `X.split()` might be useful. \n",
        "2. For each word in the sentence, access its GloVe representation.\n",
        "    * Then take the average of all of these word vectors.\n",
        "    * We might use `numpy.zeros()`.\n",
        "    \n",
        "    \n",
        "#### Additional Hints\n",
        "* When creating the `avg` array of zeros, we'll want it to be a vector of the same shape as the other word vectors in the `word_to_vec_map`.  \n",
        "    * We can choose a word that exists in the `word_to_vec_map` and access its `.shape` field.\n",
        "    * Be careful not to hard code the word that you access.  In other words, don't assume that if you see the word 'the' in the `word_to_vec_map` within this notebook, that this word will be in the `word_to_vec_map` when the function is being called by the automatic grader.\n",
        "    * Hint: you can use any one of the word vectors that you retrieved from the input `sentence` to find the shape of a word vector."
      ]
    },
    {
      "cell_type": "code",
      "metadata": {
        "id": "BSL5BBYqMmfd"
      },
      "source": [
        "# IMPLEMENT FUNCTION: sentence_to_avg\n",
        "\n",
        "def sentence_to_avg(sentence, word_to_vec_map):\n",
        "    \"\"\"\n",
        "    Converts a sentence (string) into a list of words (strings). Extracts the GloVe representation of each word\n",
        "    and averages its value into a single vector encoding the meaning of the sentence.\n",
        "    \n",
        "    Arguments:\n",
        "    sentence -- string, one training example from X\n",
        "    word_to_vec_map -- dictionary mapping every word in a vocabulary into its 50-dimensional vector representation\n",
        "    \n",
        "    Returns:\n",
        "    avg -- average vector encoding information about the sentence, numpy-array of shape (50,)\n",
        "    \"\"\"\n",
        "    \n",
        "    ### START CODE HERE ###\n",
        "    # Step 1: Split sentence into list of lower case words (≈ 1 line)\n",
        "    words = \n",
        "\n",
        "    # Initialize the average word vector, should have the same shape as your word vectors.\n",
        "    avg = \n",
        "    \n",
        "    # Step 2: average the word vectors. You can loop over the words in the list \"words\".\n",
        "    total = 0\n",
        "    for w in words:\n",
        "        total += \n",
        "    avg = total/len(words)\n",
        "    \n",
        "    ### END CODE HERE ###\n",
        "    \n",
        "    return avg"
      ],
      "execution_count": null,
      "outputs": []
    },
    {
      "cell_type": "code",
      "metadata": {
        "scrolled": true,
        "id": "ea-5xBJmMmfe",
        "colab": {
          "base_uri": "https://localhost:8080/"
        },
        "outputId": "30005838-7d54-4cf9-ca38-396a92eefe78"
      },
      "source": [
        "avg = sentence_to_avg(\"Morrocan couscous is my favorite dish\", word_to_vec_map)\n",
        "print(\"avg = \\n\", avg)"
      ],
      "execution_count": null,
      "outputs": [
        {
          "output_type": "stream",
          "text": [
            "avg = \n",
            " [-0.008005    0.56370833 -0.50427333  0.258865    0.55131103  0.03104983\n",
            " -0.21013718  0.16893933 -0.09590267  0.141784   -0.15708967  0.18525867\n",
            "  0.6495785   0.38371117  0.21102167  0.11301667  0.02613967  0.26037767\n",
            "  0.05820667 -0.01578167 -0.12078833 -0.02471267  0.4128455   0.5152061\n",
            "  0.38756167 -0.898661   -0.535145    0.33501167  0.68806933 -0.2156265\n",
            "  1.797155    0.10476933 -0.36775333  0.750785    0.10282583  0.348925\n",
            " -0.27262833  0.66768    -0.10706167 -0.283635    0.59580117  0.28747333\n",
            " -0.3366635   0.23393817  0.34349183  0.178405    0.1166155  -0.076433\n",
            "  0.1445417   0.09808667]\n"
          ],
          "name": "stdout"
        }
      ]
    },
    {
      "cell_type": "code",
      "metadata": {
        "colab": {
          "base_uri": "https://localhost:8080/"
        },
        "id": "MSgHB2-4TJIV",
        "outputId": "d7bb3fe8-1f38-4768-c073-1a24f987aec4"
      },
      "source": [
        "print(avg.shape)"
      ],
      "execution_count": null,
      "outputs": [
        {
          "output_type": "stream",
          "text": [
            "(50,)\n"
          ],
          "name": "stdout"
        }
      ]
    },
    {
      "cell_type": "code",
      "metadata": {
        "colab": {
          "base_uri": "https://localhost:8080/"
        },
        "id": "Ccb2luN8TTU4",
        "outputId": "d484f8d3-09d9-4cf4-dde3-30025f90bd5e"
      },
      "source": [
        "avg = sentence_to_avg(\"I like hot dogs\", word_to_vec_map)\n",
        "print(\"avg = \\n\", avg)"
      ],
      "execution_count": null,
      "outputs": [
        {
          "output_type": "stream",
          "text": [
            "avg = \n",
            " [ 0.0958225   0.02104    -0.09328525 -0.33371675  0.102995   -0.0456175\n",
            " -0.700025   -0.1153725  -0.04918     0.10086939 -0.1610125   0.34451675\n",
            "  0.0640175   0.3183825   0.576145    0.29098875  0.24258475  0.5340275\n",
            " -0.61955675 -0.873645   -0.3041925   0.4150955   0.941065    0.4843775\n",
            "  0.402551   -1.5268025  -0.9712825   0.48778125  0.928965   -0.7344725\n",
            "  2.79225     0.51728    -0.27919     0.130223   -0.06332635  0.1787975\n",
            "  0.04959     0.19698     0.3631175  -0.268405   -0.05047108  0.215278\n",
            "  0.0332472   0.5335439   0.835919    0.213425   -0.1396585  -0.6868875\n",
            " -0.08138175  0.38275725]\n"
          ],
          "name": "stdout"
        }
      ]
    },
    {
      "cell_type": "markdown",
      "metadata": {
        "id": "eCCIP1PsMmfe"
      },
      "source": [
        "**Expected Output**:\n",
        "\n",
        "```Python\n",
        "avg =\n",
        "[-0.008005    0.56370833 -0.50427333  0.258865    0.55131103  0.03104983\n",
        " -0.21013718  0.16893933 -0.09590267  0.141784   -0.15708967  0.18525867\n",
        "  0.6495785   0.38371117  0.21102167  0.11301667  0.02613967  0.26037767\n",
        "  0.05820667 -0.01578167 -0.12078833 -0.02471267  0.4128455   0.5152061\n",
        "  0.38756167 -0.898661   -0.535145    0.33501167  0.68806933 -0.2156265\n",
        "  1.797155    0.10476933 -0.36775333  0.750785    0.10282583  0.348925\n",
        " -0.27262833  0.66768    -0.10706167 -0.283635    0.59580117  0.28747333\n",
        " -0.3366635   0.23393817  0.34349183  0.178405    0.1166155  -0.076433\n",
        "  0.1445417   0.09808667]\n",
        "```"
      ]
    },
    {
      "cell_type": "markdown",
      "metadata": {
        "id": "dJxFVK41Mmfe"
      },
      "source": [
        "#### Model\n",
        "\n",
        "We now have all the pieces to finish implementing the `model()` function. \n",
        "After using `sentence_to_avg()` we need to:\n",
        "\n",
        "* Pass the average through forward propagation\n",
        "* Compute the cost\n",
        "* Backpropagate to update the softmax parameters\n",
        "\n",
        "**Exercise**: Implement the `model()` function described in Figure (2). \n",
        "\n",
        "* The equations you need to implement in the forward pass and to compute the cross-entropy cost are below:\n",
        "* The variable $Y_{oh}$ (\"Y one hot\") is the one-hot encoding of the output labels. \n",
        "\n",
        "$$ z^{(i)} = W . avg^{(i)} + b$$\n",
        "\n",
        "$$ a^{(i)} = softmax(z^{(i)})$$\n",
        "\n",
        "$$ \\mathcal{L}^{(i)} = - \\sum_{k = 0}^{n_y - 1} Y_{oh,k}^{(i)} * log(a^{(i)}_k)$$\n",
        "\n",
        "**Note** It is possible to come up with a more efficient vectorized implementation. For now, let's use nested for loops to better understand the algorithm, and for easier debugging.\n",
        "\n",
        "We provided the function `softmax()`, which was imported earlier."
      ]
    },
    {
      "cell_type": "code",
      "metadata": {
        "id": "RXvlWzgNMmff"
      },
      "source": [
        "# IMPLEMENT FUNCTION: model\n",
        "\n",
        "def model(X, Y, word_to_vec_map, learning_rate = 0.01, num_iterations = 400):\n",
        "    \"\"\"\n",
        "    Model to train word vector representations in numpy.\n",
        "    \n",
        "    Arguments:\n",
        "    X -- input data, numpy array of sentences as strings, of shape (m, 1)\n",
        "    Y -- labels, numpy array of integers between 0 and 7, numpy-array of shape (m, 1)\n",
        "    word_to_vec_map -- dictionary mapping every word in a vocabulary into its 50-dimensional vector representation\n",
        "    learning_rate -- learning_rate for the stochastic gradient descent algorithm\n",
        "    num_iterations -- number of iterations\n",
        "    \n",
        "    Returns:\n",
        "    pred -- vector of predictions, numpy-array of shape (m, 1)\n",
        "    W -- weight matrix of the softmax layer, of shape (n_y, n_h)\n",
        "    b -- bias of the softmax layer, of shape (n_y,)\n",
        "    \"\"\"\n",
        "    \n",
        "    np.random.seed(1)\n",
        "\n",
        "    # Define number of training examples\n",
        "    m = Y.shape[0]                          # number of training examples\n",
        "    n_y = 5                                 # number of classes  \n",
        "    n_h = 50                                # dimensions of the GloVe vectors \n",
        "    \n",
        "    # Initialize parameters using Xavier initialization\n",
        "    W = np.random.randn(n_y, n_h) / np.sqrt(n_h)\n",
        "    b = np.zeros((n_y,))\n",
        "    \n",
        "    # Convert Y to Y_onehot with n_y classes\n",
        "    Y_oh = convert_to_one_hot(Y, C = n_y) \n",
        "    \n",
        "    # Optimization loop\n",
        "    for t in range(num_iterations): # Loop over the number of iterations\n",
        "        for i in range(m):          # Loop over the training examples\n",
        "            \n",
        "            ### START CODE HERE ### (≈ 4 lines of code)\n",
        "            # Average the word vectors of the words from the i'th training example\n",
        "            avg = sentence_to_avg(X[i], word_to_vec_map)\n",
        "\n",
        "            # Forward propagate the avg through the softmax layer\n",
        "            z = # Linear function for the neuron/Fc layer\n",
        "            a = softmax(z)\n",
        "\n",
        "            # Compute cost using the i'th training label's one hot representation and \"A\" (the output of the softmax)\n",
        "            cost = -np.sum(Y_oh[i]*np.log(a))\n",
        "            ### END CODE HERE ###\n",
        "            \n",
        "            # Compute gradients \n",
        "            dz = a - Y_oh[i]\n",
        "            dW = np.dot(dz.reshape(n_y,1), avg.reshape(1, n_h))\n",
        "            db = dz\n",
        "\n",
        "            # Update parameters with Stochastic Gradient Descent\n",
        "            W = W - learning_rate * dW\n",
        "            b = b - learning_rate * db\n",
        "        \n",
        "        if t % 100 == 0:\n",
        "            print(\"Epoch: \" + str(t) + \" --- cost = \" + str(cost))\n",
        "            pred = predict(X, Y, W, b, word_to_vec_map) #predict is defined in emo_utils.py\n",
        "\n",
        "    return pred, W, b"
      ],
      "execution_count": null,
      "outputs": []
    },
    {
      "cell_type": "code",
      "metadata": {
        "id": "ngnhbhZpMmfg",
        "colab": {
          "base_uri": "https://localhost:8080/"
        },
        "outputId": "31884642-f0b5-436d-d5fd-a923c2be22ef"
      },
      "source": [
        "print(X_train.shape)\n",
        "print(Y_train.shape)\n",
        "print(np.eye(5)[Y_train.reshape(-1)].shape)\n",
        "print(X_train[0])\n",
        "print(type(X_train))\n",
        "Y = np.asarray([5,0,0,5, 4, 4, 4, 6, 6, 4, 1, 1, 5, 6, 6, 3, 6, 3, 4, 4])\n",
        "print(Y.shape)\n",
        "\n",
        "X = np.asarray(['I am going to the bar tonight', 'I love you', 'miss you my dear',\n",
        " 'Lets go party and drinks','Congrats on the new job','Congratulations',\n",
        " 'I am so happy for you', 'Why are you feeling bad', 'What is wrong with you',\n",
        " 'You totally deserve this prize', 'Let us go play football',\n",
        " 'Are you down for football this afternoon', 'Work hard play harder',\n",
        " 'It is suprising how people can be dumb sometimes',\n",
        " 'I am very disappointed','It is the best day in my life',\n",
        " 'I think I will end up alone','My life is so boring','Good job',\n",
        " 'Great so awesome'])\n",
        "\n",
        "print(X.shape)\n",
        "print(np.eye(5)[Y_train.reshape(-1)].shape)\n",
        "print(type(X_train))\n"
      ],
      "execution_count": null,
      "outputs": [
        {
          "output_type": "stream",
          "text": [
            "(132,)\n",
            "(132,)\n",
            "(132, 5)\n",
            "never talk to me again\n",
            "<class 'numpy.ndarray'>\n",
            "(20,)\n",
            "(20,)\n",
            "(132, 5)\n",
            "<class 'numpy.ndarray'>\n"
          ],
          "name": "stdout"
        }
      ]
    },
    {
      "cell_type": "markdown",
      "metadata": {
        "id": "rWpfar6YMmfg"
      },
      "source": [
        "Run the next cell to train your model and learn the softmax parameters (W,b). "
      ]
    },
    {
      "cell_type": "code",
      "metadata": {
        "scrolled": true,
        "id": "UMkSS5ItMmfh",
        "colab": {
          "base_uri": "https://localhost:8080/"
        },
        "outputId": "43e21885-4929-47b9-a2af-efac131e1a35"
      },
      "source": [
        "pred, W, b = model(X_train, Y_train, word_to_vec_map)\n",
        "# print(pred)"
      ],
      "execution_count": null,
      "outputs": [
        {
          "output_type": "stream",
          "text": [
            "Epoch: 0 --- cost = 1.9520498812810076\n",
            "Accuracy: 0.3484848484848485\n",
            "Epoch: 100 --- cost = 0.07971818726014807\n",
            "Accuracy: 0.9318181818181818\n",
            "Epoch: 200 --- cost = 0.04456369243681402\n",
            "Accuracy: 0.9545454545454546\n",
            "Epoch: 300 --- cost = 0.03432267378786059\n",
            "Accuracy: 0.9696969696969697\n"
          ],
          "name": "stdout"
        }
      ]
    },
    {
      "cell_type": "markdown",
      "metadata": {
        "id": "KGFGgHTGMmfh"
      },
      "source": [
        "**Expected Output** (on a subset of iterations):\n",
        "<table>\n",
        "    <tr>\n",
        "        <td>\n",
        "            <b>Epoch: 0</b>\n",
        "        </td>\n",
        "        <td>\n",
        "           cost = 1.95204988128\n",
        "        </td>\n",
        "        <td>\n",
        "           Accuracy: 0.348484848485\n",
        "        </td>\n",
        "    </tr>\n",
        "<tr>\n",
        "        <td>\n",
        "            <b>Epoch: 100</b>\n",
        "        </td>\n",
        "        <td>\n",
        "           cost = 0.0797181872601\n",
        "        </td>\n",
        "        <td>\n",
        "           Accuracy: 0.931818181818\n",
        "        </td>\n",
        "    </tr>    \n",
        "<tr>\n",
        "        <td>\n",
        "            <b>Epoch: 200</b>\n",
        "        </td>\n",
        "        <td>\n",
        "           cost = 0.0445636924368\n",
        "        </td>\n",
        "        <td>\n",
        "           Accuracy: 0.954545454545\n",
        "        </td>\n",
        "    </tr>    \n",
        "    <tr>\n",
        "        <td>\n",
        "            <b>Epoch: 300</b>\n",
        "        </td>\n",
        "        <td>\n",
        "           cost = 0.0343226737879\n",
        "        </td>\n",
        "        <td>\n",
        "           Accuracy: 0.969696969697\n",
        "        </td>\n",
        "    </tr>\n",
        "</table>"
      ]
    },
    {
      "cell_type": "markdown",
      "metadata": {
        "id": "pBmsujlMMmfh"
      },
      "source": [
        "Great! Your model has pretty high accuracy on the training set. Lets now see how it does on the test set. "
      ]
    },
    {
      "cell_type": "markdown",
      "metadata": {
        "id": "6LKTDPLLMmfi"
      },
      "source": [
        "### 1.4 - Examining test set performance \n",
        "\n",
        "* Note that the `predict` function used here is defined in emo_util.spy."
      ]
    },
    {
      "cell_type": "code",
      "metadata": {
        "scrolled": false,
        "id": "IXE_WmmLMmfi",
        "colab": {
          "base_uri": "https://localhost:8080/"
        },
        "outputId": "3261da88-b1ab-43a2-aa19-650ac2e8d4b8"
      },
      "source": [
        "print(\"Training set:\")\n",
        "pred_train = predict(X_train, Y_train, W, b, word_to_vec_map)\n",
        "print('Test set:')\n",
        "pred_test = predict(X_test, Y_test, W, b, word_to_vec_map)"
      ],
      "execution_count": null,
      "outputs": [
        {
          "output_type": "stream",
          "text": [
            "Training set:\n",
            "Accuracy: 0.9772727272727273\n",
            "Test set:\n",
            "Accuracy: 0.8571428571428571\n"
          ],
          "name": "stdout"
        }
      ]
    },
    {
      "cell_type": "markdown",
      "metadata": {
        "id": "PvquD5RfMmfi"
      },
      "source": [
        "**Expected Output**:\n",
        "\n",
        "<table>\n",
        "    <tr>\n",
        "        <td>\n",
        "            <b>Train set accuracy</b>\n",
        "        </td>\n",
        "        <td>\n",
        "           97.7\n",
        "        </td>\n",
        "    </tr>\n",
        "    <tr>\n",
        "        <td>\n",
        "            <b>Test set accuracy</b>\n",
        "        </td>\n",
        "        <td>\n",
        "           85.7\n",
        "        </td>\n",
        "    </tr>\n",
        "</table>"
      ]
    },
    {
      "cell_type": "markdown",
      "metadata": {
        "id": "pyM_D-FDMmfj"
      },
      "source": [
        "* Random guessing would have had 20% accuracy given that there are 5 classes. (1/5 = 20%).\n",
        "* This is pretty good performance after training on only 127 examples. \n",
        "\n",
        "\n",
        "#### The model matches emojis to relevant words\n",
        "In the training set, the algorithm saw the sentence \n",
        ">\"*I love you*\" \n",
        "\n",
        "with the label ❤️. \n",
        "\n",
        "* We can check that the word \"adore\" does not appear in the training set. \n",
        "* Nonetheless, lets see what happens if you write \"*I adore you*.\"\n",
        "\n"
      ]
    },
    {
      "cell_type": "code",
      "metadata": {
        "id": "rBoZiqeqMmfj",
        "colab": {
          "base_uri": "https://localhost:8080/"
        },
        "outputId": "eba1d0e5-96ab-4a3c-814d-6f915457428c"
      },
      "source": [
        "X_my_sentences = np.array([\"i adore you\", \"i love you\", \"angry\", \"lets play with a ball\", \"food is ready\", \"feeling happy\", \"\"])\n",
        "Y_my_labels = np.array([[0], [0], [2], [1], [4],[3]])\n",
        "\n",
        "pred = predict(X_my_sentences, Y_my_labels , W, b, word_to_vec_map)\n",
        "print_predictions(X_my_sentences, pred)"
      ],
      "execution_count": null,
      "outputs": [
        {
          "output_type": "stream",
          "text": [
            "Accuracy: 0.0\n",
            "\n",
            "i adore you ❤️\n",
            "i love you ❤️\n",
            "angry 😞\n",
            "lets play with a ball ⚾\n",
            "food is ready 🍴\n",
            "feeling happy 😄\n",
            " ❤️\n"
          ],
          "name": "stdout"
        },
        {
          "output_type": "stream",
          "text": [
            "/content/emo_utils.py:113: RuntimeWarning: invalid value encountered in true_divide\n",
            "  avg = avg/len(words)\n"
          ],
          "name": "stderr"
        }
      ]
    },
    {
      "cell_type": "markdown",
      "metadata": {
        "id": "2t2k4mAIMmfj"
      },
      "source": [
        "Amazing! \n",
        "* Because *adore* has a similar embedding as *love*, the algorithm has generalized correctly even to a word it has never seen before. \n",
        "* Words such as *heart*, *dear*, *beloved* or *adore* have embedding vectors similar to *love*. \n",
        "    * Feel free to modify the inputs above and try out a variety of input sentences. \n",
        "    * How well does it work?\n",
        "\n",
        "#### Word ordering isn't considered in this model\n",
        "* Note that the model doesn't get the following sentence correct:\n",
        ">\"not feeling happy\" \n",
        "\n",
        "* This algorithm ignores word ordering, so is not good at understanding phrases like \"not happy.\" \n",
        "\n",
        "#### Confusion matrix\n",
        "* Printing the confusion matrix can also help understand which classes are more difficult for your model. \n",
        "* A confusion matrix shows how often an example whose label is one class (\"actual\" class) is mislabeled by the algorithm with a different class (\"predicted\" class)."
      ]
    },
    {
      "cell_type": "code",
      "metadata": {
        "id": "pqnB1Ro7Mmfj",
        "colab": {
          "base_uri": "https://localhost:8080/",
          "height": 445
        },
        "outputId": "25b00acd-0cb4-4bf7-f7fe-6c4e91714bf2"
      },
      "source": [
        "print(Y_test.shape)\n",
        "print('           '+ label_to_emoji(0)+ '    ' + label_to_emoji(1) + '    ' +  label_to_emoji(2)+ '    ' + label_to_emoji(3)+'   ' + label_to_emoji(4))\n",
        "print(pd.crosstab(Y_test, pred_test.reshape(56,), rownames=['Actual'], colnames=['Predicted'], margins=True))\n",
        "plot_confusion_matrix(Y_test, pred_test)"
      ],
      "execution_count": null,
      "outputs": [
        {
          "output_type": "stream",
          "text": [
            "(56,)\n",
            "           ❤️    ⚾    😄    😞   🍴\n",
            "Predicted  0.0  1.0  2.0  3.0  4.0  All\n",
            "Actual                                 \n",
            "0            6    0    0    1    0    7\n",
            "1            0    8    0    0    0    8\n",
            "2            2    0   16    0    0   18\n",
            "3            1    1    2   12    0   16\n",
            "4            0    0    1    0    6    7\n",
            "All          9    9   19   13    6   56\n"
          ],
          "name": "stdout"
        },
        {
          "output_type": "display_data",
          "data": {
            "image/png": "[encoded data removed]",
            "text/plain": [
              "<Figure size 288x288 with 2 Axes>"
            ]
          },
          "metadata": {
            "tags": [],
            "needs_background": "light"
          }
        }
      ]
    },
    {
      "cell_type": "markdown",
      "metadata": {
        "id": "L3vMvuBWMmfj"
      },
      "source": [
        "\n",
        "## What you should remember from this section\n",
        "- Even with a 127 training examples, you can get a reasonably good model for Emojifying. \n",
        "    - This is due to the generalization power word vectors gives you. \n",
        "- Emojify-V1 will perform poorly on sentences such as *\"This movie is not good and not enjoyable\"* \n",
        "    - It doesn't understand combinations of words.\n",
        "    - It just averages all the words' embedding vectors together, without considering the ordering of words. \n",
        "    \n",
        "**You will build a better algorithm in the next section!**"
      ]
    },
    {
      "cell_type": "markdown",
      "metadata": {
        "id": "uSMZEsM7Mmfk"
      },
      "source": [
        "## 2 - Emojifier-V2: Using LSTMs in Keras: \n",
        "\n",
        "Let's build an LSTM model that takes word **sequences** as input!\n",
        "* This model will be able to account for the word ordering. \n",
        "* Emojifier-V2 will continue to use pre-trained word embeddings to represent words.\n",
        "* We will feed word embeddings into an LSTM.\n",
        "* The LSTM will learn to predict the most appropriate emoji. \n",
        "\n",
        "Run the following cell to load the Keras packages."
      ]
    },
    {
      "cell_type": "code",
      "metadata": {
        "id": "u3YBXMksMmfk"
      },
      "source": [
        "import numpy as np\n",
        "np.random.seed(0)\n",
        "from keras.models import Model\n",
        "from keras.layers import Dense, Input, Dropout, LSTM, Activation\n",
        "from keras.layers.embeddings import Embedding\n",
        "from keras.preprocessing import sequence\n",
        "from keras.initializers import glorot_uniform\n",
        "np.random.seed(1)"
      ],
      "execution_count": null,
      "outputs": []
    },
    {
      "cell_type": "markdown",
      "metadata": {
        "id": "ft4VE8F3Mmfk"
      },
      "source": [
        "### 2.1 - Overview of the model\n",
        "\n",
        "Here is the Emojifier-v2 you will implement:\n",
        "\n",
        "<img src=\"https://docs.google.com/uc?export=download&id=1k40-fYSfmdzarq7Ew3kewccv_whPum7f\" style=\"width:700px;height:400px;\"> <br>\n",
        "<caption><center> Figure 3: Emojifier-V2. A 2-layer LSTM sequence classifier. </center></caption>\n",
        "\n"
      ]
    },
    {
      "cell_type": "markdown",
      "metadata": {
        "id": "fOsFN9bBMmfk"
      },
      "source": [
        "### 2.2 Keras and mini-batching \n",
        "\n",
        "* In this exercise, we want to train Keras using mini-batches. \n",
        "* However, most deep learning frameworks require that all sequences in the same mini-batch have the **same length**. \n",
        "    * This is what allows vectorization to work: If you had a 3-word sentence and a 4-word sentence, then the computations needed for them are different (one takes 3 steps of an LSTM, one takes 4 steps) so it's just not possible to do them both at the same time.\n",
        "    \n",
        "#### Padding handles sequences of varying length\n",
        "* The common solution to handling sequences of **different length** is to use padding.  Specifically:\n",
        "    * Set a maximum sequence length\n",
        "    * Pad all sequences to have the same length. \n",
        "    \n",
        "##### Example of padding\n",
        "* Given a maximum sequence length of 20, we could pad every sentence with \"0\"s so that each input sentence is of length 20. \n",
        "* Thus, the sentence \"I love you\" would be represented as $(e_{I}, e_{love}, e_{you}, \\vec{0}, \\vec{0}, \\ldots, \\vec{0})$. \n",
        "* In this example, any sentences longer than 20 words would have to be truncated. \n",
        "* One way to choose the maximum sequence length is to just pick the length of the longest sentence in the training set. \n"
      ]
    },
    {
      "cell_type": "markdown",
      "metadata": {
        "id": "5LEBe7EIMmfk"
      },
      "source": [
        "### 2.3 - The Embedding layer\n",
        "\n",
        "* In Keras, the embedding matrix is represented as a \"layer\".\n",
        "* The embedding matrix maps word indices to embedding vectors.\n",
        "    * The word indices are positive integers.\n",
        "    * The embedding vectors are dense vectors of fixed size.\n",
        "    * When we say a vector is \"dense\", in this context, it means that most of the values are non-zero.  As a counter-example, a one-hot encoded vector is not \"dense.\"\n",
        "* The embedding matrix can be derived in two ways:\n",
        "    * Training a model to derive the embeddings from scratch. \n",
        "    * Using a pretrained embedding\n",
        "    \n",
        "#### Using and updating pre-trained embeddings\n",
        "* In this part, we will learn how to create an [Embedding()](https://keras.io/layers/embeddings/) layer in Keras\n",
        "* We will initialize the Embedding layer with the GloVe 50-dimensional vectors. \n",
        "* In the code below, it is shown how Keras allows us to either train or leave fixed this layer.  \n",
        "* Because our training set is quite small, we will leave the GloVe embeddings fixed instead of updating them.\n",
        "\n"
      ]
    },
    {
      "cell_type": "markdown",
      "metadata": {
        "id": "hupC-4OXMmfl"
      },
      "source": [
        "#### Inputs and outputs to the embedding layer\n",
        "\n",
        "* The `Embedding()` layer's input is an integer matrix of size **(batch size, max input length)**. \n",
        "    * This input corresponds to sentences converted into lists of indices (integers).\n",
        "    * The largest integer (the highest word index) in the input should be no larger than the vocabulary size.\n",
        "* The embedding layer outputs an array of shape (batch size, max input length, dimension of word vectors).\n",
        "\n",
        "* The figure shows the propagation of two example sentences through the embedding layer. \n",
        "    * Both examples have been zero-padded to a length of `max_len=5`.\n",
        "    * The word embeddings are 50 units in length.\n",
        "    * The final dimension of the representation is  `(2,max_len,50)`. \n",
        "\n",
        "<img src=\"https://docs.google.com/uc?export=download&id=12-0kgh0mOjzg47KpKMBZcQ5lR2vmySlM\" style=\"width:700px;height:250px;\">\n",
        "<caption><center> Figure 4: Embedding layer</center></caption>"
      ]
    },
    {
      "cell_type": "markdown",
      "metadata": {
        "id": "egallvLfMmfl"
      },
      "source": [
        "#### Prepare the input sentences\n",
        "**Exercise**: \n",
        "* Implement `sentences_to_indices`, which processes an array of sentences (X) and returns inputs to the embedding layer:\n",
        "    * Convert each training sentences into a list of indices (the indices correspond to each word in the sentence)\n",
        "    * Zero-pad all these lists so that their length is the length of the longest sentence.\n",
        "    \n",
        "##### Additional Hints\n",
        "* Note that you may have considered using the `enumerate()` function in the for loop, but for the purposes of passing the autograder, please follow the starter code by initializing and incrementing `j` explicitly."
      ]
    },
    {
      "cell_type": "code",
      "metadata": {
        "id": "7M9LAZ9DMmfl",
        "colab": {
          "base_uri": "https://localhost:8080/"
        },
        "outputId": "fea8b9a2-da8f-4511-a585-89f589ac0ea3"
      },
      "source": [
        "for idx, val in enumerate([\"I\", \"like\", \"learning\"]):\n",
        "    print(idx,val)"
      ],
      "execution_count": null,
      "outputs": [
        {
          "output_type": "stream",
          "text": [
            "0 I\n",
            "1 like\n",
            "2 learning\n"
          ],
          "name": "stdout"
        }
      ]
    },
    {
      "cell_type": "code",
      "metadata": {
        "id": "e2UbI5bCMmfl"
      },
      "source": [
        "# IMPLEMENT FUNCTION: sentences_to_indices\n",
        "\n",
        "def sentences_to_indices(X, word_to_index, max_len):\n",
        "    \"\"\"\n",
        "    Converts an array of sentences (strings) into an array of indices corresponding to words in the sentences.\n",
        "    The output shape should be such that it can be given to `Embedding()` (described in Figure 4). \n",
        "    \n",
        "    Arguments:\n",
        "    X -- array of sentences (strings), of shape (m, 1)\n",
        "    word_to_index -- a dictionary containing the each word mapped to its index\n",
        "    max_len -- maximum number of words in a sentence. You can assume every sentence in X is no longer than this. \n",
        "    \n",
        "    Returns:\n",
        "    X_indices -- array of indices corresponding to words in the sentences from X, of shape (m, max_len)\n",
        "    \"\"\"\n",
        "    \n",
        "    m = X.shape[0]                                   # number of training examples\n",
        "    \n",
        "    ### START CODE HERE ###\n",
        "    # Initialize X_indices as a numpy matrix of zeros and the correct shape (≈ 1 line)\n",
        "    X_indices = np.zeros((m, max_len))\n",
        "    \n",
        "    for i in range(m):                               # loop over training examples\n",
        "        \n",
        "        # Convert the ith training sentence in lower case and split is into words. You should get a list of words.\n",
        "        sentence_words = X[i].lower().split()\n",
        "        \n",
        "        # Initialize j to 0\n",
        "        j = 0\n",
        "        \n",
        "        # Loop over the words of sentence_words\n",
        "        for w in sentence_words:\n",
        "            # Set the (i,j)th entry of X_indices to the index of the correct word.\n",
        "            X_indices[i, j] = word_to_index[w]\n",
        "            # Increment j to j + 1\n",
        "            j = j + 1\n",
        "            \n",
        "    ### END CODE HERE ###\n",
        "    \n",
        "    return X_indices"
      ],
      "execution_count": null,
      "outputs": []
    },
    {
      "cell_type": "markdown",
      "metadata": {
        "id": "3qHByyJEMmfl"
      },
      "source": [
        "Run the following cell to check what `sentences_to_indices()` does, and check your results."
      ]
    },
    {
      "cell_type": "code",
      "metadata": {
        "id": "LbEPEsAnMmfm",
        "colab": {
          "base_uri": "https://localhost:8080/"
        },
        "outputId": "6d125337-cd16-4c10-dfe8-e729befce1ee"
      },
      "source": [
        "X1 = np.array([\"funny lol\", \"lets play baseball\", \"food is ready for you\"])\n",
        "X1_indices = sentences_to_indices(X1,word_to_index, max_len = 5)\n",
        "print(\"X1 =\", X1)\n",
        "print(\"X1_indices =\\n\", X1_indices)"
      ],
      "execution_count": null,
      "outputs": [
        {
          "output_type": "stream",
          "text": [
            "X1 = ['funny lol' 'lets play baseball' 'food is ready for you']\n",
            "X1_indices =\n",
            " [[155345. 225122.      0.      0.      0.]\n",
            " [220930. 286375.  69714.      0.      0.]\n",
            " [151204. 192973. 302254. 151349. 394475.]]\n"
          ],
          "name": "stdout"
        }
      ]
    },
    {
      "cell_type": "markdown",
      "metadata": {
        "id": "9Y0gZGUKMmfm"
      },
      "source": [
        "**Expected Output**:\n",
        "\n",
        "```Python\n",
        "X1 = ['funny lol' 'lets play baseball' 'food is ready for you']\n",
        "X1_indices =\n",
        " [[ 155345.  225122.       0.       0.       0.]\n",
        " [ 220930.  286375.   69714.       0.       0.]\n",
        " [ 151204.  192973.  302254.  151349.  394475.]]\n",
        "```"
      ]
    },
    {
      "cell_type": "markdown",
      "metadata": {
        "id": "0V7ej2NZMmfm"
      },
      "source": [
        "#### Build embedding layer\n",
        "\n",
        "* Let's build the `Embedding()` layer in Keras, using pre-trained word vectors. \n",
        "* The embedding layer takes as input a list of word indices.\n",
        "    * `sentences_to_indices()` creates these word indices.\n",
        "* The embedding layer will return the word embeddings for a sentence. \n",
        "\n",
        "**Exercise**: Implement `pretrained_embedding_layer()` with these steps:\n",
        "1. Initialize the embedding matrix as a numpy array of zeros.\n",
        "    * The embedding matrix has a row for each unique word in the vocabulary.\n",
        "        * There is one additional row to handle \"unknown\" words.\n",
        "        * So vocab_len is the number of unique words plus one.\n",
        "    * Each row will store the vector representation of one word. \n",
        "        * For example, one row may be 50 positions long if using GloVe word vectors.\n",
        "    * In the code below, `emb_dim` represents the length of a word embedding.\n",
        "2. Fill in each row of the embedding matrix with the vector representation of a word\n",
        "    * Each word in `word_to_index` is a string.\n",
        "    * word_to_vec_map is a dictionary where the keys are strings and the values are the word vectors.\n",
        "3. Define the Keras embedding layer. \n",
        "    * Use [Embedding()](https://keras.io/layers/embeddings/). \n",
        "    * The input dimension is equal to the vocabulary length (number of unique words plus one).\n",
        "    * The output dimension is equal to the number of positions in a word embedding.\n",
        "    * Make this layer's embeddings fixed.\n",
        "        * If you were to set `trainable = True`, then it will allow the optimization algorithm to modify the values of the word embeddings.\n",
        "        * In this case, we don't want the model to modify the word embeddings.\n",
        "4. Set the embedding weights to be equal to the embedding matrix.\n",
        "    * Note that this is part of the code is already completed for you and does not need to be modified. "
      ]
    },
    {
      "cell_type": "code",
      "metadata": {
        "id": "ADHeVGaxMmfm"
      },
      "source": [
        "# IMPLEMENT FUNCTION: pretrained_embedding_layer\n",
        "\n",
        "def pretrained_embedding_layer(word_to_vec_map, word_to_index):\n",
        "    \"\"\"\n",
        "    Creates a Keras Embedding() layer and loads in pre-trained GloVe 50-dimensional vectors.\n",
        "    \n",
        "    Arguments:\n",
        "    word_to_vec_map -- dictionary mapping words to their GloVe vector representation.\n",
        "    word_to_index -- dictionary mapping from words to their indices in the vocabulary (400,001 words)\n",
        "\n",
        "    Returns:\n",
        "    embedding_layer -- pretrained layer Keras instance\n",
        "    \"\"\"\n",
        "    \n",
        "    vocab_len = len(word_to_index) + 1                  # adding 1 to fit Keras embedding (requirement)\n",
        "    emb_dim = word_to_vec_map[\"cucumber\"].shape[0]      # define dimensionality of your GloVe word vectors (= 50)\n",
        "    \n",
        "    ### START CODE HERE ###\n",
        "    # Step 1\n",
        "    # Initialize the embedding matrix as a numpy array of zeros.\n",
        "    # See instructions above to choose the correct shape.\n",
        "    emb_matrix = np.zeros((vocab_len,emb_dim))\n",
        "    \n",
        "    # Step 2\n",
        "    # Set each row \"idx\" of the embedding matrix to be \n",
        "    # the word vector representation of the idx'th word of the vocabulary\n",
        "    for word, idx in word_to_index.items():\n",
        "        emb_matrix[idx, :] = word_to_vec_map[word]\n",
        "\n",
        "    # Step 3\n",
        "    # Define Keras embedding layer with the correct input and output sizes\n",
        "    # Make it non-trainable.\n",
        "    embedding_layer = Embedding(vocab_len, emb_dim, trainable = False)\n",
        "    ### END CODE HERE ###\n",
        "\n",
        "    # Step 4 (already done for you; please do not modify)\n",
        "    # Build the embedding layer, it is required before setting the weights of the embedding layer. \n",
        "    embedding_layer.build((None,)) # Do not modify the \"None\".  This line of code is complete as-is.\n",
        "    \n",
        "    # Set the weights of the embedding layer to the embedding matrix. Your layer is now pretrained.\n",
        "    embedding_layer.set_weights([emb_matrix])\n",
        "    \n",
        "    return embedding_layer"
      ],
      "execution_count": null,
      "outputs": []
    },
    {
      "cell_type": "code",
      "metadata": {
        "id": "xcWM-yTPMmfm",
        "colab": {
          "base_uri": "https://localhost:8080/"
        },
        "outputId": "64086b28-2a23-44f1-f049-af45fc6fea76"
      },
      "source": [
        "embedding_layer = pretrained_embedding_layer(word_to_vec_map, word_to_index)\n",
        "print(\"weights[0][1][3] =\", embedding_layer.get_weights()[0][1][3])"
      ],
      "execution_count": null,
      "outputs": [
        {
          "output_type": "stream",
          "text": [
            "weights[0][1][3] = -0.3403\n"
          ],
          "name": "stdout"
        }
      ]
    },
    {
      "cell_type": "markdown",
      "metadata": {
        "id": "4lZY_mfXMmfm"
      },
      "source": [
        "**Expected Output**:\n",
        "\n",
        "```Python\n",
        "weights[0][1][3] = -0.3403\n",
        "```"
      ]
    },
    {
      "cell_type": "markdown",
      "metadata": {
        "id": "rOruNqOYMmfn"
      },
      "source": [
        "## 2.3 Building the Emojifier-V2\n",
        "\n",
        "Lets now build the Emojifier-V2 model. \n",
        "* You feed the embedding layer's output to an LSTM network. \n",
        "\n",
        "<img src=\"https://docs.google.com/uc?export=download&id=1k40-fYSfmdzarq7Ew3kewccv_whPum7f\" style=\"width:700px;height:400px;\"> <br>\n",
        "<caption><center> Figure 3: Emojifier-v2. A 2-layer LSTM sequence classifier. </center></caption>\n",
        "\n",
        "\n",
        "**Exercise:** Implement `Emojify_V2()`, which builds a Keras graph of the architecture shown in Figure 3. \n",
        "* The model takes as input an array of sentences of shape (`m`, `max_len`, ) defined by `input_shape`. \n",
        "* The model outputs a softmax probability vector of shape (`m`, `C = 5`). \n",
        "\n",
        "* You may need to use the following Keras layers:\n",
        "    * [Input()](https://keras.io/api/layers/core_layers/input/)\n",
        "        * Set the `shape` and `dtype` parameters.\n",
        "        * The inputs are integers, so you can specify the data type as a string, 'int32'.\n",
        "    * [LSTM()](https://keras.io/api/layers/recurrent_layers/lstm/)\n",
        "        * Set the `units` and `return_sequences` parameters.\n",
        "    * [Dropout()](https://keras.io/api/layers/regularization_layers/dropout/)\n",
        "        * Set the `rate` parameter.\n",
        "    * [Dense()](https://keras.io/api/layers/core_layers/dense/)\n",
        "        * Set the `units`, \n",
        "        * Note that `Dense()` has an `activation` parameter.  For the purposes of passing the autograder, please do not set the activation within `Dense()`.  Use the separate `Activation` layer to do so.\n",
        "    * [Activation()](https://keras.io/activations/).\n",
        "        * You can pass in the activation of your choice as a lowercase string.\n",
        "    * [Model](https://keras.io/models/model/)\n",
        "        Set `inputs` and `outputs`.\n",
        "\n",
        "\n",
        "#### Additional Hints\n",
        "* Remember that these Keras layers return an object, and you will feed in the outputs of the previous layer as the input arguments to that object.  The returned object can be created and called in the same line.\n",
        "\n",
        "```Python\n",
        "# How to use Keras layers in two lines of code\n",
        "dense_object = Dense(units = ...)\n",
        "X = dense_object(inputs)\n",
        "\n",
        "# How to use Keras layers in one line of code\n",
        "X = Dense(units = ...)(inputs)\n",
        "```\n",
        "\n",
        "* The `embedding_layer` that is returned by `pretrained_embedding_layer` is a layer object that can be called as a function, passing in a single argument (sentence indices).\n",
        "\n",
        "* Here is some sample code in case you're stuck\n",
        "```Python\n",
        "raw_inputs = Input(shape=(maxLen,), dtype='int32')\n",
        "preprocessed_inputs = ... # some pre-processing\n",
        "X = LSTM(units = ..., return_sequences= ...)(processed_inputs)\n",
        "X = Dropout(rate = ..., )(X)\n",
        "...\n",
        "X = Dense(units = ...)(X)\n",
        "X = Activation(...)(X)\n",
        "model = Model(inputs=..., outputs=...)\n",
        "...\n",
        "```\n",
        "\n"
      ]
    },
    {
      "cell_type": "code",
      "metadata": {
        "id": "DQKY_9siMmfn"
      },
      "source": [
        "# IMPLEMENT FUNCTION: Emojify_V2\n",
        "\n",
        "def Emojify_V2(input_shape, word_to_vec_map, word_to_index):\n",
        "    \"\"\"\n",
        "    Function creating the Emojify-v2 model's graph.\n",
        "    \n",
        "    Arguments:\n",
        "    input_shape -- shape of the input, usually (max_len,)\n",
        "    word_to_vec_map -- dictionary mapping every word in a vocabulary into its 50-dimensional vector representation\n",
        "    word_to_index -- dictionary mapping from words to their indices in the vocabulary (400,001 words)\n",
        "\n",
        "    Returns:\n",
        "    model -- a model instance in Keras\n",
        "    \"\"\"\n",
        "    \n",
        "    ### START CODE HERE ###\n",
        "    # Define sentence_indices as the input of the graph.\n",
        "    # It should be of shape input_shape and dtype 'int32' (as it contains indices, which are integers).\n",
        "    sentence_indices = Input(shape=input_shape, dtype='int32')\n",
        "    \n",
        "    # Create the embedding layer pretrained with GloVe Vectors (≈1 line)\n",
        "    embedding_layer = pretrained_embedding_layer(word_to_vec_map, word_to_index)\n",
        "    \n",
        "    # Propagate sentence_indices through your embedding layer\n",
        "    # (See additional hints in the instructions).\n",
        "    embeddings = embedding_layer(sentence_indices)   \n",
        "    \n",
        "    # Propagate the embeddings through an LSTM layer with 128-dimensional hidden state\n",
        "    # The returned output should be a batch of sequences.\n",
        "    X = \n",
        "    # Add dropout with a probability of 0.5\n",
        "    X = \n",
        "    # Propagate X trough another LSTM layer with 128-dimensional hidden state\n",
        "    # The returned output should be a single hidden state, not a batch of sequences.\n",
        "    X = \n",
        "    # Add dropout with a probability of 0.5\n",
        "    X = \n",
        "    # Propagate X through a Dense layer with 5 units\n",
        "    X = \n",
        "    # Add a softmax activation\n",
        "    X = \n",
        "    \n",
        "    # Create Model instance which converts sentence_indices into X.\n",
        "    model = Model(sentence_indices, X)\n",
        "    \n",
        "    ### END CODE HERE ###\n",
        "    \n",
        "    return model"
      ],
      "execution_count": null,
      "outputs": []
    },
    {
      "cell_type": "markdown",
      "metadata": {
        "id": "ON8LCXipMmfn"
      },
      "source": [
        "Run the following cell to create your model and check its summary. Because all sentences in the dataset are less than 10 words, we chose `max_len = 10`.  You should see your architecture, it uses \"20,223,927\" parameters, of which 20,000,050 (the word embeddings) are non-trainable, and the remaining 223,877 are. Because our vocabulary size has 400,001 words (with valid indices from 0 to 400,000) there are 400,001\\*50 = 20,000,050 non-trainable parameters. "
      ]
    },
    {
      "cell_type": "code",
      "metadata": {
        "scrolled": false,
        "id": "ACLN2P7MMmfn",
        "colab": {
          "base_uri": "https://localhost:8080/"
        },
        "outputId": "f4121e80-73d0-4797-c920-174c10e966fd"
      },
      "source": [
        "model = Emojify_V2((maxLen,), word_to_vec_map, word_to_index)\n",
        "model.summary()"
      ],
      "execution_count": null,
      "outputs": [
        {
          "output_type": "stream",
          "text": [
            "Model: \"model\"\n",
            "_________________________________________________________________\n",
            "Layer (type)                 Output Shape              Param #   \n",
            "=================================================================\n",
            "input_2 (InputLayer)         [(None, 10)]              0         \n",
            "_________________________________________________________________\n",
            "embedding_1 (Embedding)      (None, 10, 50)            20000050  \n",
            "_________________________________________________________________\n",
            "lstm (LSTM)                  (None, 10, 128)           91648     \n",
            "_________________________________________________________________\n",
            "dropout (Dropout)            (None, 10, 128)           0         \n",
            "_________________________________________________________________\n",
            "lstm_1 (LSTM)                (None, 128)               131584    \n",
            "_________________________________________________________________\n",
            "dropout_1 (Dropout)          (None, 128)               0         \n",
            "_________________________________________________________________\n",
            "dense (Dense)                (None, 5)                 645       \n",
            "_________________________________________________________________\n",
            "activation (Activation)      (None, 5)                 0         \n",
            "=================================================================\n",
            "Total params: 20,223,927\n",
            "Trainable params: 223,877\n",
            "Non-trainable params: 20,000,050\n",
            "_________________________________________________________________\n"
          ],
          "name": "stdout"
        }
      ]
    },
    {
      "cell_type": "markdown",
      "metadata": {
        "id": "jmK_qEcgMmfo"
      },
      "source": [
        "As usual, after creating your model in Keras, you need to compile it and define what loss, optimizer and metrics your are want to use. Compile your model using `categorical_crossentropy` loss, `adam` optimizer and `['accuracy']` metrics:"
      ]
    },
    {
      "cell_type": "code",
      "metadata": {
        "id": "_7pHaXxDMmfo"
      },
      "source": [
        "model.compile(loss='categorical_crossentropy', optimizer='adam', metrics=['accuracy'])"
      ],
      "execution_count": null,
      "outputs": []
    },
    {
      "cell_type": "markdown",
      "metadata": {
        "id": "LwGr8BeiMmfo"
      },
      "source": [
        "It's time to train your model. Your Emojifier-V2 `model` takes as input an array of shape (`m`, `max_len`) and outputs probability vectors of shape (`m`, `number of classes`). We thus have to convert X_train (array of sentences as strings) to X_train_indices (array of sentences as list of word indices), and Y_train (labels as indices) to Y_train_oh (labels as one-hot vectors)."
      ]
    },
    {
      "cell_type": "code",
      "metadata": {
        "id": "chGD_ozeMmfo"
      },
      "source": [
        "X_train_indices = sentences_to_indices(X_train, word_to_index, maxLen)\n",
        "Y_train_oh = convert_to_one_hot(Y_train, C = 5)"
      ],
      "execution_count": null,
      "outputs": []
    },
    {
      "cell_type": "markdown",
      "metadata": {
        "id": "BUexr--dMmfo"
      },
      "source": [
        "Fit the Keras model on `X_train_indices` and `Y_train_oh`. We will use `epochs = 50` and `batch_size = 32`."
      ]
    },
    {
      "cell_type": "code",
      "metadata": {
        "scrolled": true,
        "id": "CZYOmROtMmfp",
        "colab": {
          "base_uri": "https://localhost:8080/"
        },
        "outputId": "69c401e6-ac35-4817-f0d2-65f428843c27"
      },
      "source": [
        "model.fit(X_train_indices, Y_train_oh, epochs = 50, batch_size = 32, shuffle=True)"
      ],
      "execution_count": null,
      "outputs": [
        {
          "output_type": "stream",
          "text": [
            "Epoch 1/50\n",
            "5/5 [==============================] - 5s 32ms/step - loss: 1.5861 - accuracy: 0.2697\n",
            "Epoch 2/50\n",
            "5/5 [==============================] - 0s 30ms/step - loss: 1.5041 - accuracy: 0.2854\n",
            "Epoch 3/50\n",
            "5/5 [==============================] - 0s 31ms/step - loss: 1.4471 - accuracy: 0.3974\n",
            "Epoch 4/50\n",
            "5/5 [==============================] - 0s 27ms/step - loss: 1.3258 - accuracy: 0.6180\n",
            "Epoch 5/50\n",
            "5/5 [==============================] - 0s 35ms/step - loss: 1.2810 - accuracy: 0.5147\n",
            "Epoch 6/50\n",
            "5/5 [==============================] - 0s 33ms/step - loss: 1.1002 - accuracy: 0.5853\n",
            "Epoch 7/50\n",
            "5/5 [==============================] - 0s 33ms/step - loss: 0.9956 - accuracy: 0.6506\n",
            "Epoch 8/50\n",
            "5/5 [==============================] - 0s 33ms/step - loss: 0.9186 - accuracy: 0.6336\n",
            "Epoch 9/50\n",
            "5/5 [==============================] - 0s 31ms/step - loss: 0.8375 - accuracy: 0.6323\n",
            "Epoch 10/50\n",
            "5/5 [==============================] - 0s 31ms/step - loss: 0.7640 - accuracy: 0.6823\n",
            "Epoch 11/50\n",
            "5/5 [==============================] - 0s 29ms/step - loss: 0.5568 - accuracy: 0.7824\n",
            "Epoch 12/50\n",
            "5/5 [==============================] - 0s 31ms/step - loss: 0.4825 - accuracy: 0.8452\n",
            "Epoch 13/50\n",
            "5/5 [==============================] - 0s 31ms/step - loss: 0.4550 - accuracy: 0.8498\n",
            "Epoch 14/50\n",
            "5/5 [==============================] - 0s 29ms/step - loss: 0.4297 - accuracy: 0.8223\n",
            "Epoch 15/50\n",
            "5/5 [==============================] - 0s 31ms/step - loss: 0.4716 - accuracy: 0.8208\n",
            "Epoch 16/50\n",
            "5/5 [==============================] - 0s 28ms/step - loss: 0.7079 - accuracy: 0.7665\n",
            "Epoch 17/50\n",
            "5/5 [==============================] - 0s 30ms/step - loss: 0.5333 - accuracy: 0.7797\n",
            "Epoch 18/50\n",
            "5/5 [==============================] - 0s 35ms/step - loss: 0.5987 - accuracy: 0.7768\n",
            "Epoch 19/50\n",
            "5/5 [==============================] - 0s 29ms/step - loss: 0.5030 - accuracy: 0.8388\n",
            "Epoch 20/50\n",
            "5/5 [==============================] - 0s 31ms/step - loss: 0.4276 - accuracy: 0.8419\n",
            "Epoch 21/50\n",
            "5/5 [==============================] - 0s 30ms/step - loss: 0.4190 - accuracy: 0.8497\n",
            "Epoch 22/50\n",
            "5/5 [==============================] - 0s 27ms/step - loss: 0.3056 - accuracy: 0.9167\n",
            "Epoch 23/50\n",
            "5/5 [==============================] - 0s 27ms/step - loss: 0.3522 - accuracy: 0.8950\n",
            "Epoch 24/50\n",
            "5/5 [==============================] - 0s 31ms/step - loss: 0.2650 - accuracy: 0.9150\n",
            "Epoch 25/50\n",
            "5/5 [==============================] - 0s 28ms/step - loss: 0.2176 - accuracy: 0.9091\n",
            "Epoch 26/50\n",
            "5/5 [==============================] - 0s 29ms/step - loss: 0.1875 - accuracy: 0.9395\n",
            "Epoch 27/50\n",
            "5/5 [==============================] - 0s 30ms/step - loss: 0.2090 - accuracy: 0.9204\n",
            "Epoch 28/50\n",
            "5/5 [==============================] - 0s 30ms/step - loss: 0.1699 - accuracy: 0.9446\n",
            "Epoch 29/50\n",
            "5/5 [==============================] - 0s 27ms/step - loss: 0.1412 - accuracy: 0.9472\n",
            "Epoch 30/50\n",
            "5/5 [==============================] - 0s 26ms/step - loss: 0.1843 - accuracy: 0.9225\n",
            "Epoch 31/50\n",
            "5/5 [==============================] - 0s 30ms/step - loss: 0.1220 - accuracy: 0.9541\n",
            "Epoch 32/50\n",
            "5/5 [==============================] - 0s 33ms/step - loss: 0.1373 - accuracy: 0.9446\n",
            "Epoch 33/50\n",
            "5/5 [==============================] - 0s 29ms/step - loss: 0.1007 - accuracy: 0.9786\n",
            "Epoch 34/50\n",
            "5/5 [==============================] - 0s 29ms/step - loss: 0.1285 - accuracy: 0.9627\n",
            "Epoch 35/50\n",
            "5/5 [==============================] - 0s 31ms/step - loss: 0.2754 - accuracy: 0.9139\n",
            "Epoch 36/50\n",
            "5/5 [==============================] - 0s 30ms/step - loss: 0.2477 - accuracy: 0.9331\n",
            "Epoch 37/50\n",
            "5/5 [==============================] - 0s 31ms/step - loss: 0.1712 - accuracy: 0.9459\n",
            "Epoch 38/50\n",
            "5/5 [==============================] - 0s 29ms/step - loss: 0.1494 - accuracy: 0.9597\n",
            "Epoch 39/50\n",
            "5/5 [==============================] - 0s 27ms/step - loss: 0.1116 - accuracy: 0.9647\n",
            "Epoch 40/50\n",
            "5/5 [==============================] - 0s 26ms/step - loss: 0.1773 - accuracy: 0.9479\n",
            "Epoch 41/50\n",
            "5/5 [==============================] - 0s 28ms/step - loss: 0.0585 - accuracy: 0.9881\n",
            "Epoch 42/50\n",
            "5/5 [==============================] - 0s 28ms/step - loss: 0.0806 - accuracy: 0.9866\n",
            "Epoch 43/50\n",
            "5/5 [==============================] - 0s 32ms/step - loss: 0.1011 - accuracy: 0.9703\n",
            "Epoch 44/50\n",
            "5/5 [==============================] - 0s 32ms/step - loss: 0.0316 - accuracy: 0.9962\n",
            "Epoch 45/50\n",
            "5/5 [==============================] - 0s 28ms/step - loss: 0.0658 - accuracy: 0.9729\n",
            "Epoch 46/50\n",
            "5/5 [==============================] - 0s 29ms/step - loss: 0.0330 - accuracy: 0.9944\n",
            "Epoch 47/50\n",
            "5/5 [==============================] - 0s 30ms/step - loss: 0.0247 - accuracy: 0.9918\n",
            "Epoch 48/50\n",
            "5/5 [==============================] - 0s 30ms/step - loss: 0.0263 - accuracy: 1.0000\n",
            "Epoch 49/50\n",
            "5/5 [==============================] - 0s 27ms/step - loss: 0.0261 - accuracy: 1.0000\n",
            "Epoch 50/50\n",
            "5/5 [==============================] - 0s 29ms/step - loss: 0.0103 - accuracy: 1.0000\n"
          ],
          "name": "stdout"
        },
        {
          "output_type": "execute_result",
          "data": {
            "text/plain": [
              "<tensorflow.python.keras.callbacks.History at 0x7f07ee697f50>"
            ]
          },
          "metadata": {
            "tags": []
          },
          "execution_count": 37
        }
      ]
    },
    {
      "cell_type": "markdown",
      "metadata": {
        "id": "W2W2QJVrMmfp"
      },
      "source": [
        "Your model should perform around **90% to 100% accuracy** on the training set. The exact accuracy you get may be a little different. Run the following cell to evaluate your model on the test set. "
      ]
    },
    {
      "cell_type": "code",
      "metadata": {
        "scrolled": true,
        "id": "_es51gowMmfp",
        "colab": {
          "base_uri": "https://localhost:8080/"
        },
        "outputId": "7c8d6b37-fc91-4357-80b6-20e2291a3943"
      },
      "source": [
        "X_test_indices = sentences_to_indices(X_test, word_to_index, max_len = maxLen)\n",
        "Y_test_oh = convert_to_one_hot(Y_test, C = 5)\n",
        "loss, acc = model.evaluate(X_test_indices, Y_test_oh)\n",
        "print()\n",
        "print(\"Test accuracy = \", acc)"
      ],
      "execution_count": null,
      "outputs": [
        {
          "output_type": "stream",
          "text": [
            "2/2 [==============================] - 1s 14ms/step - loss: 0.4552 - accuracy: 0.8393\n",
            "\n",
            "Test accuracy =  0.8392857313156128\n"
          ],
          "name": "stdout"
        }
      ]
    },
    {
      "cell_type": "markdown",
      "metadata": {
        "id": "3A3kTRnNMmfp"
      },
      "source": [
        "You should get a test accuracy between 80% and 95%. Run the cell below to see the mislabelled examples. "
      ]
    },
    {
      "cell_type": "code",
      "metadata": {
        "id": "khPIam6FMmfq",
        "colab": {
          "base_uri": "https://localhost:8080/"
        },
        "outputId": "a72bef67-88b7-4205-c2b4-c9b4271fe3cd"
      },
      "source": [
        "# This code allows you to see the mislabelled examples\n",
        "C = 5\n",
        "y_test_oh = np.eye(C)[Y_test.reshape(-1)]\n",
        "X_test_indices = sentences_to_indices(X_test, word_to_index, maxLen)\n",
        "pred = model.predict(X_test_indices)\n",
        "for i in range(len(X_test)):\n",
        "    x = X_test_indices\n",
        "    num = np.argmax(pred[i])\n",
        "    if(num != Y_test[i]):\n",
        "        print('Expected emoji:'+ label_to_emoji(Y_test[i]) + ' prediction: '+ X_test[i] + label_to_emoji(num).strip())"
      ],
      "execution_count": null,
      "outputs": [
        {
          "output_type": "stream",
          "text": [
            "Expected emoji:😄 prediction: she got me a nice present\t❤️\n",
            "Expected emoji:😞 prediction: work is hard\t😄\n",
            "Expected emoji:😞 prediction: This girl is messing with me\t❤️\n",
            "Expected emoji:🍴 prediction: any suggestions for dinner\t😄\n",
            "Expected emoji:😄 prediction: you brighten my day\t❤️\n",
            "Expected emoji:😞 prediction: she is a bully\t😄\n",
            "Expected emoji:❤️ prediction: I love you to the stars and back\t😄\n",
            "Expected emoji:😞 prediction: go away\t⚾\n",
            "Expected emoji:🍴 prediction: I did not have breakfast ❤️\n"
          ],
          "name": "stdout"
        }
      ]
    },
    {
      "cell_type": "markdown",
      "metadata": {
        "id": "ufazfP1kMmfq"
      },
      "source": [
        "Now you can try it on your own example. Write your own sentence below. "
      ]
    },
    {
      "cell_type": "code",
      "metadata": {
        "id": "L5Cge6mCMmfr",
        "colab": {
          "base_uri": "https://localhost:8080/"
        },
        "outputId": "4215ed3c-9dbb-4f82-f6b9-c42e8d14fc21"
      },
      "source": [
        "# Change the sentence below to see your prediction. Make sure all the words are in the Glove embeddings.  \n",
        "x_test = np.array(['Not happy'])\n",
        "X_test_indices = sentences_to_indices(x_test, word_to_index, maxLen)\n",
        "print(x_test[0] +' '+  label_to_emoji(np.argmax(model.predict(X_test_indices))))"
      ],
      "execution_count": null,
      "outputs": [
        {
          "output_type": "stream",
          "text": [
            "Not happy 😞\n"
          ],
          "name": "stdout"
        }
      ]
    },
    {
      "cell_type": "markdown",
      "metadata": {
        "id": "QxCBavonMmfr"
      },
      "source": [
        "## LSTM version accounts for word order\n",
        "* Previously, Emojify-V1 model did not correctly label \"not feeling happy,\" but our implementation of Emojiy-V2 got it right. \n",
        "    * (Keras' outputs are slightly random each time, so you may not have obtained the same result.) \n",
        "* The current model still isn't very robust at understanding negation (such as \"not happy\")\n",
        "    * This is because the training set is small and doesn't have a lot of examples of negation. \n",
        "    * But if the training set were larger, the LSTM model would be much better than the Emojify-V1 model at understanding such complex sentences. \n"
      ]
    },
    {
      "cell_type": "markdown",
      "metadata": {
        "id": "Mc_uyyRrMmfr"
      },
      "source": [
        "## What you should remember\n",
        "- If you have an NLP task where the training set is small, using word embeddings can help your algorithm significantly. \n",
        "- Word embeddings allow your model to work on words in the test set that may not even appear in the training set. \n",
        "- Training sequence models in Keras (and in most other deep learning frameworks) requires a few important details:\n",
        "    - To use mini-batches, the sequences need to be **padded** so that all the examples in a mini-batch have the **same length**. \n",
        "    - An `Embedding()` layer can be initialized with pretrained values. \n",
        "        - These values can be either fixed or trained further on your dataset. \n",
        "        - If however your labeled dataset is small, it's usually not worth trying to train a large pre-trained set of embeddings.   \n",
        "    - `LSTM()` has a flag called `return_sequences` to decide if you would like to return every hidden states or only the last one. \n",
        "    - You can use `Dropout()` right after `LSTM()` to regularize your network. "
      ]
    },
    {
      "cell_type": "markdown",
      "metadata": {
        "collapsed": true,
        "id": "ROIVWahRMmfr"
      },
      "source": [
        "**Reference**:\n",
        "- This material is based on the DeepLearning.ai Deep Learning Specialization"
      ]
    }
  ]
}