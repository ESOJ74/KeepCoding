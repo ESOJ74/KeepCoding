{
 "cells": [
  {
   "cell_type": "code",
   "execution_count": 1,
   "metadata": {
    "id": "N0NMM6apsqs-"
   },
   "outputs": [],
   "source": [
    "# Dataset: https://public.opendatasoft.com/explore/dataset/airbnb-listings/export/?disjunctive.host_verifications&disjunctive.amenities&disjunctive.features&refine.country=Spain&q=Madrid\n",
    "\n",
    "\n",
    "# Direct link\n",
    "\n",
    "# https://public.opendatasoft.com/explore/dataset/airbnb-listings/download/?format=csv&disjunctive.host_verifications=true&disjunctive.amenities=true&disjunctive.features=true&refine.country=Spain&q=Madrid&timezone=Europe/London&use_labels_for_header=true&csv_separator=%3B"
   ]
  },
  {
   "cell_type": "code",
   "execution_count": 1,
   "metadata": {
    "colab": {
     "base_uri": "https://localhost:8080/"
    },
    "executionInfo": {
     "elapsed": 19256,
     "status": "ok",
     "timestamp": 1639680366489,
     "user": {
      "displayName": "Andres Diaz-Pinto",
      "photoUrl": "https://lh3.googleusercontent.com/a-/AOh14GiXXwIAoHpR5_bTNNhJdaidkMbZTGeGYTUWqG2-zg=s64",
      "userId": "04256945523315149204"
     },
     "user_tz": 0
    },
    "id": "11tGGRgrRodv",
    "outputId": "c9b68c87-f05b-4c6a-93e0-9f4b5336228e"
   },
   "outputs": [
    {
     "name": "stdout",
     "output_type": "stream",
     "text": [
      "--2021-12-22 05:45:46--  https://public.opendatasoft.com/explore/dataset/airbnb-listings/download/?format=csv&disjunctive.host_verifications=true&disjunctive.amenities=true&disjunctive.features=true&refine.country=Spain&q=Madrid&timezone=Europe/London&use_labels_for_header=true&csv_separator=%3B\n",
      "Resolviendo public.opendatasoft.com (public.opendatasoft.com)... 34.248.20.69, 34.249.199.226\n",
      "Conectando con public.opendatasoft.com (public.opendatasoft.com)[34.248.20.69]:443... conectado.\n",
      "Petición HTTP enviada, esperando respuesta... 200 OK\n",
      "Longitud: no especificado [application/csv]\n",
      "Guardando como: “airbnb-listings.csv”\n",
      "\n",
      "airbnb-listings.csv     [              <=>   ]  54,31M  5,77MB/s    en 20s     \n",
      "\n",
      "2021-12-22 05:46:08 (2,66 MB/s) - “airbnb-listings.csv” guardado [56950929]\n",
      "\n"
     ]
    }
   ],
   "source": [
    "# Let's download the dataset\n",
    "!wget -O \"airbnb-listings.csv\" \"https://public.opendatasoft.com/explore/dataset/airbnb-listings/download/?format=csv&disjunctive.host_verifications=true&disjunctive.amenities=true&disjunctive.features=true&refine.country=Spain&q=Madrid&timezone=Europe/London&use_labels_for_header=true&csv_separator=%3B\""
   ]
  },
  {
   "cell_type": "code",
   "execution_count": 2,
   "metadata": {
    "colab": {
     "base_uri": "https://localhost:8080/"
    },
    "executionInfo": {
     "elapsed": 385,
     "status": "ok",
     "timestamp": 1639680366866,
     "user": {
      "displayName": "Andres Diaz-Pinto",
      "photoUrl": "https://lh3.googleusercontent.com/a-/AOh14GiXXwIAoHpR5_bTNNhJdaidkMbZTGeGYTUWqG2-zg=s64",
      "userId": "04256945523315149204"
     },
     "user_tz": 0
    },
    "id": "qnlm55IBu_Vv",
    "outputId": "1693204e-f293-43c9-bace-08c26c89a84d"
   },
   "outputs": [
    {
     "name": "stdout",
     "output_type": "stream",
     "text": [
      "total 70424\r\n",
      "-rwxrwxrwx 1 jose jose 56950929 dic 22 05:46 airbnb-listings.csv\r\n",
      "-rwxrwxrwx 1 jose jose    48482 dic 14 16:34 deepLearningPractice.docx\r\n",
      "-rwxrwxrwx 1 jose jose 15052928 dic 22 05:44 images.npy\r\n",
      "-rwxrwxrwx 1 jose jose    45324 dic 22 05:45 loadingAirbnbDataset.ipynb\r\n",
      "-rwxrwxrwx 1 jose jose      928 dic 22 05:44 was_loaded.npy\r\n"
     ]
    }
   ],
   "source": [
    "# Checking what we downloaded\n",
    "!ls -ll"
   ]
  },
  {
   "cell_type": "code",
   "execution_count": 31,
   "metadata": {
    "colab": {
     "base_uri": "https://localhost:8080/",
     "height": 9713
    },
    "executionInfo": {
     "elapsed": 1333,
     "status": "ok",
     "timestamp": 1639680368195,
     "user": {
      "displayName": "Andres Diaz-Pinto",
      "photoUrl": "https://lh3.googleusercontent.com/a-/AOh14GiXXwIAoHpR5_bTNNhJdaidkMbZTGeGYTUWqG2-zg=s64",
      "userId": "04256945523315149204"
     },
     "user_tz": 0
    },
    "id": "fHqnNEDmihhO",
    "outputId": "bf855e27-2738-4653-a368-6164b73e249b"
   },
   "outputs": [
    {
     "data": {
      "text/html": [
       "<div>\n",
       "<style scoped>\n",
       "    .dataframe tbody tr th:only-of-type {\n",
       "        vertical-align: middle;\n",
       "    }\n",
       "\n",
       "    .dataframe tbody tr th {\n",
       "        vertical-align: top;\n",
       "    }\n",
       "\n",
       "    .dataframe thead th {\n",
       "        text-align: right;\n",
       "    }\n",
       "</style>\n",
       "<table border=\"1\" class=\"dataframe\">\n",
       "  <thead>\n",
       "    <tr style=\"text-align: right;\">\n",
       "      <th></th>\n",
       "      <th>ID</th>\n",
       "      <th>Listing Url</th>\n",
       "      <th>Scrape ID</th>\n",
       "      <th>Last Scraped</th>\n",
       "      <th>Name</th>\n",
       "      <th>Summary</th>\n",
       "      <th>Space</th>\n",
       "      <th>Description</th>\n",
       "      <th>Experiences Offered</th>\n",
       "      <th>Neighborhood Overview</th>\n",
       "      <th>...</th>\n",
       "      <th>Review Scores Communication</th>\n",
       "      <th>Review Scores Location</th>\n",
       "      <th>Review Scores Value</th>\n",
       "      <th>License</th>\n",
       "      <th>Jurisdiction Names</th>\n",
       "      <th>Cancellation Policy</th>\n",
       "      <th>Calculated host listings count</th>\n",
       "      <th>Reviews per Month</th>\n",
       "      <th>Geolocation</th>\n",
       "      <th>Features</th>\n",
       "    </tr>\n",
       "  </thead>\n",
       "  <tbody>\n",
       "    <tr>\n",
       "      <th>0</th>\n",
       "      <td>3150371</td>\n",
       "      <td>https://www.airbnb.com/rooms/3150371</td>\n",
       "      <td>20170407214119</td>\n",
       "      <td>2017-04-08</td>\n",
       "      <td>Double room + bathroom - La Latina</td>\n",
       "      <td>Double room with own bathroom in La Latina, in...</td>\n",
       "      <td>The apartment is spacious and cozy. It is 90 m...</td>\n",
       "      <td>Double room with own bathroom in La Latina, in...</td>\n",
       "      <td>none</td>\n",
       "      <td>La Latina is one of the most famous neighbourh...</td>\n",
       "      <td>...</td>\n",
       "      <td>10.0</td>\n",
       "      <td>10.0</td>\n",
       "      <td>10.0</td>\n",
       "      <td>NaN</td>\n",
       "      <td>NaN</td>\n",
       "      <td>flexible</td>\n",
       "      <td>1</td>\n",
       "      <td>2.33</td>\n",
       "      <td>40.41010608050749,-3.714754034177323</td>\n",
       "      <td>Host Has Profile Pic,Host Identity Verified,Is...</td>\n",
       "    </tr>\n",
       "    <tr>\n",
       "      <th>1</th>\n",
       "      <td>3378181</td>\n",
       "      <td>https://www.airbnb.com/rooms/3378181</td>\n",
       "      <td>20170407214119</td>\n",
       "      <td>2017-04-08</td>\n",
       "      <td>Ópera/Plz Mayor -- A/C, elevator</td>\n",
       "      <td>Old world charm meets modern comfort in our ne...</td>\n",
       "      <td>Designed with the traveler in mind, our one-be...</td>\n",
       "      <td>Old world charm meets modern comfort in our ne...</td>\n",
       "      <td>none</td>\n",
       "      <td>The neighborhood is steeped in history and clo...</td>\n",
       "      <td>...</td>\n",
       "      <td>10.0</td>\n",
       "      <td>10.0</td>\n",
       "      <td>10.0</td>\n",
       "      <td>NaN</td>\n",
       "      <td>NaN</td>\n",
       "      <td>strict</td>\n",
       "      <td>2</td>\n",
       "      <td>2.69</td>\n",
       "      <td>40.416968822636726,-3.7094389211089993</td>\n",
       "      <td>Host Has Profile Pic,Host Identity Verified,Is...</td>\n",
       "    </tr>\n",
       "    <tr>\n",
       "      <th>2</th>\n",
       "      <td>2070750</td>\n",
       "      <td>https://www.airbnb.com/rooms/2070750</td>\n",
       "      <td>20170407214119</td>\n",
       "      <td>2017-04-08</td>\n",
       "      <td>Centric room with a balcony</td>\n",
       "      <td>Lominous room for rent in the heart of the old...</td>\n",
       "      <td>Lominous room for rent in the heart of the old...</td>\n",
       "      <td>Lominous room for rent in the heart of the old...</td>\n",
       "      <td>none</td>\n",
       "      <td>-</td>\n",
       "      <td>...</td>\n",
       "      <td>9.0</td>\n",
       "      <td>10.0</td>\n",
       "      <td>9.0</td>\n",
       "      <td>NaN</td>\n",
       "      <td>NaN</td>\n",
       "      <td>flexible</td>\n",
       "      <td>4</td>\n",
       "      <td>0.60</td>\n",
       "      <td>40.40970517560235,-3.7135611928841086</td>\n",
       "      <td>Host Has Profile Pic,Host Identity Verified,Is...</td>\n",
       "    </tr>\n",
       "    <tr>\n",
       "      <th>3</th>\n",
       "      <td>9832499</td>\n",
       "      <td>https://www.airbnb.com/rooms/9832499</td>\n",
       "      <td>20170407214119</td>\n",
       "      <td>2017-04-08</td>\n",
       "      <td>PLAZA DE ESPAÑA - Único - Gimnasio.</td>\n",
       "      <td>Ubicado en el famoso edificio Torre de Madrid,...</td>\n",
       "      <td>Ubicado en el famoso edificio Torre de Madrid,...</td>\n",
       "      <td>Ubicado en el famoso edificio Torre de Madrid,...</td>\n",
       "      <td>none</td>\n",
       "      <td>NaN</td>\n",
       "      <td>...</td>\n",
       "      <td>10.0</td>\n",
       "      <td>10.0</td>\n",
       "      <td>10.0</td>\n",
       "      <td>VT-1520</td>\n",
       "      <td>NaN</td>\n",
       "      <td>strict</td>\n",
       "      <td>9</td>\n",
       "      <td>3.56</td>\n",
       "      <td>40.42319271738103,-3.7112486513892</td>\n",
       "      <td>Host Is Superhost,Host Has Profile Pic,Host Id...</td>\n",
       "    </tr>\n",
       "    <tr>\n",
       "      <th>4</th>\n",
       "      <td>1868170</td>\n",
       "      <td>https://www.airbnb.com/rooms/1868170</td>\n",
       "      <td>20170407214119</td>\n",
       "      <td>2017-04-08</td>\n",
       "      <td>Loft/duplex 150m2, 3 double rooms</td>\n",
       "      <td>Huge, open plan spacious apartment in the cent...</td>\n",
       "      <td>Huge, open plan spacious apartment in the cent...</td>\n",
       "      <td>Huge, open plan spacious apartment in the cent...</td>\n",
       "      <td>none</td>\n",
       "      <td>NaN</td>\n",
       "      <td>...</td>\n",
       "      <td>10.0</td>\n",
       "      <td>10.0</td>\n",
       "      <td>9.0</td>\n",
       "      <td>NaN</td>\n",
       "      <td>NaN</td>\n",
       "      <td>moderate</td>\n",
       "      <td>1</td>\n",
       "      <td>1.13</td>\n",
       "      <td>40.416513932601625,-3.7178427529546973</td>\n",
       "      <td>Host Is Superhost,Host Has Profile Pic,Host Id...</td>\n",
       "    </tr>\n",
       "    <tr>\n",
       "      <th>5</th>\n",
       "      <td>6554204</td>\n",
       "      <td>https://www.airbnb.com/rooms/6554204</td>\n",
       "      <td>20170407214119</td>\n",
       "      <td>2017-04-08</td>\n",
       "      <td>CITY CENTER OPERA ROOM 8</td>\n",
       "      <td>Situado junto al Palacio Real y la Plaza de Op...</td>\n",
       "      <td>Una gran opción si deseas vivir en el centro d...</td>\n",
       "      <td>Situado junto al Palacio Real y la Plaza de Op...</td>\n",
       "      <td>none</td>\n",
       "      <td>Se encuentra en la zona de Palacio, por lo que...</td>\n",
       "      <td>...</td>\n",
       "      <td>10.0</td>\n",
       "      <td>10.0</td>\n",
       "      <td>7.0</td>\n",
       "      <td>NaN</td>\n",
       "      <td>NaN</td>\n",
       "      <td>strict</td>\n",
       "      <td>97</td>\n",
       "      <td>0.14</td>\n",
       "      <td>40.416833945573366,-3.7102397557129683</td>\n",
       "      <td>Host Has Profile Pic,Is Location Exact,Require...</td>\n",
       "    </tr>\n",
       "    <tr>\n",
       "      <th>6</th>\n",
       "      <td>3861249</td>\n",
       "      <td>https://www.airbnb.com/rooms/3861249</td>\n",
       "      <td>20170407214119</td>\n",
       "      <td>2017-04-08</td>\n",
       "      <td>CITY CENTER SOL B ROOM 3</td>\n",
       "      <td>Ubicado a pocos minutos de la Puerta del Sol, ...</td>\n",
       "      <td>Dispone de 4 habitaciones, un baño y cocina co...</td>\n",
       "      <td>Ubicado a pocos minutos de la Puerta del Sol, ...</td>\n",
       "      <td>none</td>\n",
       "      <td>A dos minutos de la Puerta de Sol y justo al l...</td>\n",
       "      <td>...</td>\n",
       "      <td>NaN</td>\n",
       "      <td>NaN</td>\n",
       "      <td>NaN</td>\n",
       "      <td>NaN</td>\n",
       "      <td>NaN</td>\n",
       "      <td>strict</td>\n",
       "      <td>97</td>\n",
       "      <td>NaN</td>\n",
       "      <td>40.41394547020656,-3.70563748329694</td>\n",
       "      <td>Host Has Profile Pic,Is Location Exact,Require...</td>\n",
       "    </tr>\n",
       "    <tr>\n",
       "      <th>7</th>\n",
       "      <td>2816173</td>\n",
       "      <td>https://www.airbnb.com/rooms/2816173</td>\n",
       "      <td>20170407214119</td>\n",
       "      <td>2017-04-08</td>\n",
       "      <td>Luminoso Apartamento Lavapiés</td>\n",
       "      <td>Cosy room with a doble bed.  The bathroom may ...</td>\n",
       "      <td>NaN</td>\n",
       "      <td>Cosy room with a doble bed.  The bathroom may ...</td>\n",
       "      <td>none</td>\n",
       "      <td>Nearest Tourist Office  Location: Plaza Mayor ...</td>\n",
       "      <td>...</td>\n",
       "      <td>10.0</td>\n",
       "      <td>9.0</td>\n",
       "      <td>9.0</td>\n",
       "      <td>NaN</td>\n",
       "      <td>NaN</td>\n",
       "      <td>moderate</td>\n",
       "      <td>3</td>\n",
       "      <td>2.20</td>\n",
       "      <td>40.40924754500767,-3.7040517514192786</td>\n",
       "      <td>Host Has Profile Pic,Host Identity Verified,Is...</td>\n",
       "    </tr>\n",
       "    <tr>\n",
       "      <th>8</th>\n",
       "      <td>12660354</td>\n",
       "      <td>https://www.airbnb.com/rooms/12660354</td>\n",
       "      <td>20170407214119</td>\n",
       "      <td>2017-04-08</td>\n",
       "      <td>DLE10, Piso moderno en el centro</td>\n",
       "      <td>Piso exterior con balcón, en una calle tranqui...</td>\n",
       "      <td>NaN</td>\n",
       "      <td>Piso exterior con balcón, en una calle tranqui...</td>\n",
       "      <td>none</td>\n",
       "      <td>NaN</td>\n",
       "      <td>...</td>\n",
       "      <td>10.0</td>\n",
       "      <td>10.0</td>\n",
       "      <td>9.0</td>\n",
       "      <td>NaN</td>\n",
       "      <td>NaN</td>\n",
       "      <td>flexible</td>\n",
       "      <td>6</td>\n",
       "      <td>0.72</td>\n",
       "      <td>40.41200073894989,-3.7066913189759396</td>\n",
       "      <td>Host Has Profile Pic,Host Identity Verified,Is...</td>\n",
       "    </tr>\n",
       "    <tr>\n",
       "      <th>9</th>\n",
       "      <td>8394957</td>\n",
       "      <td>https://www.airbnb.com/rooms/8394957</td>\n",
       "      <td>20170407214119</td>\n",
       "      <td>2017-04-08</td>\n",
       "      <td>Sunny, quiet studio, Madrid centre</td>\n",
       "      <td>My studio is in the very centre of Madrid. It'...</td>\n",
       "      <td>The studio is open plan although the kitchen a...</td>\n",
       "      <td>My studio is in the very centre of Madrid. It'...</td>\n",
       "      <td>none</td>\n",
       "      <td>Calle Atocha is a road which has Plaza Mayor a...</td>\n",
       "      <td>...</td>\n",
       "      <td>10.0</td>\n",
       "      <td>10.0</td>\n",
       "      <td>9.0</td>\n",
       "      <td>NaN</td>\n",
       "      <td>NaN</td>\n",
       "      <td>moderate</td>\n",
       "      <td>1</td>\n",
       "      <td>2.72</td>\n",
       "      <td>40.40994868119749,-3.695516673053713</td>\n",
       "      <td>Host Has Profile Pic,Requires License</td>\n",
       "    </tr>\n",
       "  </tbody>\n",
       "</table>\n",
       "<p>10 rows × 89 columns</p>\n",
       "</div>"
      ],
      "text/plain": [
       "         ID                            Listing Url       Scrape ID  \\\n",
       "0   3150371   https://www.airbnb.com/rooms/3150371  20170407214119   \n",
       "1   3378181   https://www.airbnb.com/rooms/3378181  20170407214119   \n",
       "2   2070750   https://www.airbnb.com/rooms/2070750  20170407214119   \n",
       "3   9832499   https://www.airbnb.com/rooms/9832499  20170407214119   \n",
       "4   1868170   https://www.airbnb.com/rooms/1868170  20170407214119   \n",
       "5   6554204   https://www.airbnb.com/rooms/6554204  20170407214119   \n",
       "6   3861249   https://www.airbnb.com/rooms/3861249  20170407214119   \n",
       "7   2816173   https://www.airbnb.com/rooms/2816173  20170407214119   \n",
       "8  12660354  https://www.airbnb.com/rooms/12660354  20170407214119   \n",
       "9   8394957   https://www.airbnb.com/rooms/8394957  20170407214119   \n",
       "\n",
       "  Last Scraped                                 Name  \\\n",
       "0   2017-04-08   Double room + bathroom - La Latina   \n",
       "1   2017-04-08     Ópera/Plz Mayor -- A/C, elevator   \n",
       "2   2017-04-08          Centric room with a balcony   \n",
       "3   2017-04-08  PLAZA DE ESPAÑA - Único - Gimnasio.   \n",
       "4   2017-04-08    Loft/duplex 150m2, 3 double rooms   \n",
       "5   2017-04-08             CITY CENTER OPERA ROOM 8   \n",
       "6   2017-04-08             CITY CENTER SOL B ROOM 3   \n",
       "7   2017-04-08        Luminoso Apartamento Lavapiés   \n",
       "8   2017-04-08     DLE10, Piso moderno en el centro   \n",
       "9   2017-04-08   Sunny, quiet studio, Madrid centre   \n",
       "\n",
       "                                             Summary  \\\n",
       "0  Double room with own bathroom in La Latina, in...   \n",
       "1  Old world charm meets modern comfort in our ne...   \n",
       "2  Lominous room for rent in the heart of the old...   \n",
       "3  Ubicado en el famoso edificio Torre de Madrid,...   \n",
       "4  Huge, open plan spacious apartment in the cent...   \n",
       "5  Situado junto al Palacio Real y la Plaza de Op...   \n",
       "6  Ubicado a pocos minutos de la Puerta del Sol, ...   \n",
       "7  Cosy room with a doble bed.  The bathroom may ...   \n",
       "8  Piso exterior con balcón, en una calle tranqui...   \n",
       "9  My studio is in the very centre of Madrid. It'...   \n",
       "\n",
       "                                               Space  \\\n",
       "0  The apartment is spacious and cozy. It is 90 m...   \n",
       "1  Designed with the traveler in mind, our one-be...   \n",
       "2  Lominous room for rent in the heart of the old...   \n",
       "3  Ubicado en el famoso edificio Torre de Madrid,...   \n",
       "4  Huge, open plan spacious apartment in the cent...   \n",
       "5  Una gran opción si deseas vivir en el centro d...   \n",
       "6  Dispone de 4 habitaciones, un baño y cocina co...   \n",
       "7                                                NaN   \n",
       "8                                                NaN   \n",
       "9  The studio is open plan although the kitchen a...   \n",
       "\n",
       "                                         Description Experiences Offered  \\\n",
       "0  Double room with own bathroom in La Latina, in...                none   \n",
       "1  Old world charm meets modern comfort in our ne...                none   \n",
       "2  Lominous room for rent in the heart of the old...                none   \n",
       "3  Ubicado en el famoso edificio Torre de Madrid,...                none   \n",
       "4  Huge, open plan spacious apartment in the cent...                none   \n",
       "5  Situado junto al Palacio Real y la Plaza de Op...                none   \n",
       "6  Ubicado a pocos minutos de la Puerta del Sol, ...                none   \n",
       "7  Cosy room with a doble bed.  The bathroom may ...                none   \n",
       "8  Piso exterior con balcón, en una calle tranqui...                none   \n",
       "9  My studio is in the very centre of Madrid. It'...                none   \n",
       "\n",
       "                               Neighborhood Overview  ...  \\\n",
       "0  La Latina is one of the most famous neighbourh...  ...   \n",
       "1  The neighborhood is steeped in history and clo...  ...   \n",
       "2                                                  -  ...   \n",
       "3                                                NaN  ...   \n",
       "4                                                NaN  ...   \n",
       "5  Se encuentra en la zona de Palacio, por lo que...  ...   \n",
       "6  A dos minutos de la Puerta de Sol y justo al l...  ...   \n",
       "7  Nearest Tourist Office  Location: Plaza Mayor ...  ...   \n",
       "8                                                NaN  ...   \n",
       "9  Calle Atocha is a road which has Plaza Mayor a...  ...   \n",
       "\n",
       "  Review Scores Communication Review Scores Location Review Scores Value  \\\n",
       "0                        10.0                   10.0                10.0   \n",
       "1                        10.0                   10.0                10.0   \n",
       "2                         9.0                   10.0                 9.0   \n",
       "3                        10.0                   10.0                10.0   \n",
       "4                        10.0                   10.0                 9.0   \n",
       "5                        10.0                   10.0                 7.0   \n",
       "6                         NaN                    NaN                 NaN   \n",
       "7                        10.0                    9.0                 9.0   \n",
       "8                        10.0                   10.0                 9.0   \n",
       "9                        10.0                   10.0                 9.0   \n",
       "\n",
       "   License Jurisdiction Names Cancellation Policy  \\\n",
       "0      NaN                NaN            flexible   \n",
       "1      NaN                NaN              strict   \n",
       "2      NaN                NaN            flexible   \n",
       "3  VT-1520                NaN              strict   \n",
       "4      NaN                NaN            moderate   \n",
       "5      NaN                NaN              strict   \n",
       "6      NaN                NaN              strict   \n",
       "7      NaN                NaN            moderate   \n",
       "8      NaN                NaN            flexible   \n",
       "9      NaN                NaN            moderate   \n",
       "\n",
       "  Calculated host listings count Reviews per Month  \\\n",
       "0                              1              2.33   \n",
       "1                              2              2.69   \n",
       "2                              4              0.60   \n",
       "3                              9              3.56   \n",
       "4                              1              1.13   \n",
       "5                             97              0.14   \n",
       "6                             97               NaN   \n",
       "7                              3              2.20   \n",
       "8                              6              0.72   \n",
       "9                              1              2.72   \n",
       "\n",
       "                              Geolocation  \\\n",
       "0    40.41010608050749,-3.714754034177323   \n",
       "1  40.416968822636726,-3.7094389211089993   \n",
       "2   40.40970517560235,-3.7135611928841086   \n",
       "3      40.42319271738103,-3.7112486513892   \n",
       "4  40.416513932601625,-3.7178427529546973   \n",
       "5  40.416833945573366,-3.7102397557129683   \n",
       "6     40.41394547020656,-3.70563748329694   \n",
       "7   40.40924754500767,-3.7040517514192786   \n",
       "8   40.41200073894989,-3.7066913189759396   \n",
       "9    40.40994868119749,-3.695516673053713   \n",
       "\n",
       "                                            Features  \n",
       "0  Host Has Profile Pic,Host Identity Verified,Is...  \n",
       "1  Host Has Profile Pic,Host Identity Verified,Is...  \n",
       "2  Host Has Profile Pic,Host Identity Verified,Is...  \n",
       "3  Host Is Superhost,Host Has Profile Pic,Host Id...  \n",
       "4  Host Is Superhost,Host Has Profile Pic,Host Id...  \n",
       "5  Host Has Profile Pic,Is Location Exact,Require...  \n",
       "6  Host Has Profile Pic,Is Location Exact,Require...  \n",
       "7  Host Has Profile Pic,Host Identity Verified,Is...  \n",
       "8  Host Has Profile Pic,Host Identity Verified,Is...  \n",
       "9              Host Has Profile Pic,Requires License  \n",
       "\n",
       "[10 rows x 89 columns]"
      ]
     },
     "execution_count": 31,
     "metadata": {},
     "output_type": "execute_result"
    }
   ],
   "source": [
    "# Let's read the dataset using Pandas and show some rows\n",
    "import pandas as pd\n",
    "data = pd.read_csv('airbnb-listings.csv', sep = ';')\n",
    "data.head(10)"
   ]
  },
  {
   "cell_type": "code",
   "execution_count": 32,
   "metadata": {
    "colab": {
     "base_uri": "https://localhost:8080/"
    },
    "executionInfo": {
     "elapsed": 16,
     "status": "ok",
     "timestamp": 1639680368196,
     "user": {
      "displayName": "Andres Diaz-Pinto",
      "photoUrl": "https://lh3.googleusercontent.com/a-/AOh14GiXXwIAoHpR5_bTNNhJdaidkMbZTGeGYTUWqG2-zg=s64",
      "userId": "04256945523315149204"
     },
     "user_tz": 0
    },
    "id": "5PTgFC8JAClH",
    "outputId": "44aaeb95-5744-4029-955b-bc6b72058237"
   },
   "outputs": [
    {
     "data": {
      "text/plain": [
       "(14001, 89)"
      ]
     },
     "execution_count": 32,
     "metadata": {},
     "output_type": "execute_result"
    }
   ],
   "source": [
    "# Let's check the shape of our dataset. Rows and columns (variables) \n",
    "data.shape"
   ]
  },
  {
   "cell_type": "code",
   "execution_count": 33,
   "metadata": {
    "colab": {
     "base_uri": "https://localhost:8080/"
    },
    "executionInfo": {
     "elapsed": 13,
     "status": "ok",
     "timestamp": 1639680368196,
     "user": {
      "displayName": "Andres Diaz-Pinto",
      "photoUrl": "https://lh3.googleusercontent.com/a-/AOh14GiXXwIAoHpR5_bTNNhJdaidkMbZTGeGYTUWqG2-zg=s64",
      "userId": "04256945523315149204"
     },
     "user_tz": 0
    },
    "id": "vYtz5HYjjdEK",
    "outputId": "a624956f-af99-4e75-faab-83e9e9b29e37"
   },
   "outputs": [
    {
     "data": {
      "text/plain": [
       "Index(['ID', 'Listing Url', 'Scrape ID', 'Last Scraped', 'Name', 'Summary',\n",
       "       'Space', 'Description', 'Experiences Offered', 'Neighborhood Overview',\n",
       "       'Notes', 'Transit', 'Access', 'Interaction', 'House Rules',\n",
       "       'Thumbnail Url', 'Medium Url', 'Picture Url', 'XL Picture Url',\n",
       "       'Host ID', 'Host URL', 'Host Name', 'Host Since', 'Host Location',\n",
       "       'Host About', 'Host Response Time', 'Host Response Rate',\n",
       "       'Host Acceptance Rate', 'Host Thumbnail Url', 'Host Picture Url',\n",
       "       'Host Neighbourhood', 'Host Listings Count',\n",
       "       'Host Total Listings Count', 'Host Verifications', 'Street',\n",
       "       'Neighbourhood', 'Neighbourhood Cleansed',\n",
       "       'Neighbourhood Group Cleansed', 'City', 'State', 'Zipcode', 'Market',\n",
       "       'Smart Location', 'Country Code', 'Country', 'Latitude', 'Longitude',\n",
       "       'Property Type', 'Room Type', 'Accommodates', 'Bathrooms', 'Bedrooms',\n",
       "       'Beds', 'Bed Type', 'Amenities', 'Square Feet', 'Price', 'Weekly Price',\n",
       "       'Monthly Price', 'Security Deposit', 'Cleaning Fee', 'Guests Included',\n",
       "       'Extra People', 'Minimum Nights', 'Maximum Nights', 'Calendar Updated',\n",
       "       'Has Availability', 'Availability 30', 'Availability 60',\n",
       "       'Availability 90', 'Availability 365', 'Calendar last Scraped',\n",
       "       'Number of Reviews', 'First Review', 'Last Review',\n",
       "       'Review Scores Rating', 'Review Scores Accuracy',\n",
       "       'Review Scores Cleanliness', 'Review Scores Checkin',\n",
       "       'Review Scores Communication', 'Review Scores Location',\n",
       "       'Review Scores Value', 'License', 'Jurisdiction Names',\n",
       "       'Cancellation Policy', 'Calculated host listings count',\n",
       "       'Reviews per Month', 'Geolocation', 'Features'],\n",
       "      dtype='object')"
      ]
     },
     "execution_count": 33,
     "metadata": {},
     "output_type": "execute_result"
    }
   ],
   "source": [
    "# Variable names\n",
    "data.columns"
   ]
  },
  {
   "cell_type": "markdown",
   "metadata": {
    "id": "tv1BNRNB9V1e"
   },
   "source": [
    "Let's extract the images in an array"
   ]
  },
  {
   "cell_type": "code",
   "execution_count": 34,
   "metadata": {
    "id": "HpRZNlmD3LtS"
   },
   "outputs": [],
   "source": [
    "# Let's create a list with image url and index\n",
    "images_paths = []\n",
    "for i, img_url in enumerate(data['Thumbnail Url']):\n",
    "  images_paths.append([i, img_url])\n",
    "\n",
    "# A more simple and pythonist way\n",
    "# images_paths = [[i, img_url] for i, img_url in enumerate(data['Thumbnail Url'])]"
   ]
  },
  {
   "cell_type": "code",
   "execution_count": 35,
   "metadata": {
    "colab": {
     "base_uri": "https://localhost:8080/"
    },
    "executionInfo": {
     "elapsed": 10,
     "status": "ok",
     "timestamp": 1639680368197,
     "user": {
      "displayName": "Andres Diaz-Pinto",
      "photoUrl": "https://lh3.googleusercontent.com/a-/AOh14GiXXwIAoHpR5_bTNNhJdaidkMbZTGeGYTUWqG2-zg=s64",
      "userId": "04256945523315149204"
     },
     "user_tz": 0
    },
    "id": "4XxCtR2E79m7",
    "outputId": "b840c7e0-b77a-47dc-9c3b-7d2aa4856d42"
   },
   "outputs": [
    {
     "name": "stdout",
     "output_type": "stream",
     "text": [
      "[[0, 'https://a0.muscache.com/im/pictures/40713802/33eb3411_original.jpg?aki_policy=small'], [1, 'https://a0.muscache.com/im/pictures/44239584/c11cd625_original.jpg?aki_policy=small'], [2, 'https://a0.muscache.com/im/pictures/84378550/fa2dbe0d_original.jpg?aki_policy=small'], [3, 'https://a0.muscache.com/im/pictures/be441d1f-4d11-4fbf-86a4-d62c78356d32.jpg?aki_policy=small'], [4, 'https://a0.muscache.com/im/pictures/c232f016-f2cf-45e4-8a1c-2aadaaa44a73.jpg?aki_policy=small'], [5, 'https://a0.muscache.com/im/pictures/90548067/4746f77f_original.jpg?aki_policy=small'], [6, 'https://a0.muscache.com/im/pictures/48573525/acb63e6a_original.jpg?aki_policy=small'], [7, 'https://a0.muscache.com/im/pictures/37148597/483c364b_original.jpg?aki_policy=small'], [8, 'https://a0.muscache.com/im/pictures/5ecdbcc7-9a02-40e2-9801-54c2fbf5dbf4.jpg?aki_policy=small'], [9, 'https://a0.muscache.com/im/pictures/106816640/965e2d19_original.jpg?aki_policy=small']]\n",
      "14001\n"
     ]
    }
   ],
   "source": [
    "# Let's see what we build\n",
    "print(images_paths[:10])\n",
    "print(len(images_paths))"
   ]
  },
  {
   "cell_type": "code",
   "execution_count": 36,
   "metadata": {
    "id": "g_cnNHlk8EgP"
   },
   "outputs": [],
   "source": [
    "# import imageio as io\n",
    "# import cv2\n",
    "\n",
    "# # This function downloads the images and returns them with the index where to save them\n",
    "\n",
    "# def get_image(data_url, target_size=(224, 224)):\n",
    "#     idx, url = data_url\n",
    "#     try:\n",
    "#         img = io.imread(url)\n",
    "#         # Some images may be in black & white. I convert to to RGB as otherwise it generates error\n",
    "#         if img.ndim < 3:\n",
    "#             img = cv2.cvtColor(img, cv2.COLOR_GRAY2RGB)\n",
    "#         img = cv2.resize(img, dsize=target_size)\n",
    "#         return img, idx\n",
    "#     except IOError as err:\n",
    "#         return (None, idx)"
   ]
  },
  {
   "cell_type": "code",
   "execution_count": 37,
   "metadata": {
    "id": "1Lbgr2uQjW6q"
   },
   "outputs": [],
   "source": [
    "import imageio as io\n",
    "import cv2\n",
    "import numpy as np\n",
    "from numpy import moveaxis\n",
    "import PIL.Image\n",
    "\n",
    "# This function downloads the images and returns them with the index where to save them\n",
    "\n",
    "def get_image(data_url, target_size=(224, 224)):\n",
    "    idx, url = data_url\n",
    "    try:\n",
    "        img = io.imread(url)\n",
    "\n",
    "        # If channels info is in first place, move to last position\n",
    "        if (img.shape[0] < img.shape[1] ) and (img.shape[0] < img.shape[2]):\n",
    "          img = moveaxis(img, 0, 2)\n",
    "\n",
    "        # In case any image is RGBA, take onloy RGB channels\n",
    "        img = img[...,:3]\n",
    "\n",
    "        # Some images may be in black & white. I convert to to RGB as otherwise it generates error\n",
    "        if img.ndim < 3:\n",
    "            img = cv2.cvtColor(img, cv2.COLOR_GRAY2RGB)\n",
    "        img = cv2.resize(img, dsize=target_size)\n",
    "        return img, idx\n",
    "        \n",
    "    except IOError as err:\n",
    "        return (None, idx)"
   ]
  },
  {
   "cell_type": "code",
   "execution_count": 38,
   "metadata": {
    "colab": {
     "base_uri": "https://localhost:8080/"
    },
    "executionInfo": {
     "elapsed": 17,
     "status": "ok",
     "timestamp": 1639680368764,
     "user": {
      "displayName": "Andres Diaz-Pinto",
      "photoUrl": "https://lh3.googleusercontent.com/a-/AOh14GiXXwIAoHpR5_bTNNhJdaidkMbZTGeGYTUWqG2-zg=s64",
      "userId": "04256945523315149204"
     },
     "user_tz": 0
    },
    "id": "LZFfHh3Up-u9",
    "outputId": "948c11e3-cfab-4600-bd61-e84ff091d895"
   },
   "outputs": [
    {
     "name": "stdout",
     "output_type": "stream",
     "text": [
      "14001\n"
     ]
    }
   ],
   "source": [
    "print(len(images_paths))"
   ]
  },
  {
   "cell_type": "code",
   "execution_count": 39,
   "metadata": {
    "id": "Q1K_ro_C8N0U"
   },
   "outputs": [],
   "source": [
    "import numpy as np\n",
    "\n",
    "# Let's only work with the first 100 samples\n",
    "images_paths = images_paths[:3000]\n",
    "\n",
    "\n",
    "# Tensor to save the images\n",
    "loaded_images = np.zeros((len(images_paths), 224, 224, 3), dtype=np.uint8)\n",
    "\n",
    "# Tensor to check whihc images were not saved\n",
    "was_loaded = np.zeros(len(images_paths))"
   ]
  },
  {
   "cell_type": "code",
   "execution_count": 40,
   "metadata": {
    "colab": {
     "base_uri": "https://localhost:8080/"
    },
    "executionInfo": {
     "elapsed": 14,
     "status": "ok",
     "timestamp": 1639680368765,
     "user": {
      "displayName": "Andres Diaz-Pinto",
      "photoUrl": "https://lh3.googleusercontent.com/a-/AOh14GiXXwIAoHpR5_bTNNhJdaidkMbZTGeGYTUWqG2-zg=s64",
      "userId": "04256945523315149204"
     },
     "user_tz": 0
    },
    "id": "9TJCCd-j8SCR",
    "outputId": "c7936540-39b6-4943-b6a4-53b7339417b8"
   },
   "outputs": [
    {
     "name": "stdout",
     "output_type": "stream",
     "text": [
      "(3000, 224, 224, 3)\n"
     ]
    }
   ],
   "source": [
    "print(loaded_images.shape)"
   ]
  },
  {
   "cell_type": "code",
   "execution_count": 41,
   "metadata": {
    "colab": {
     "base_uri": "https://localhost:8080/"
    },
    "executionInfo": {
     "elapsed": 50210,
     "status": "ok",
     "timestamp": 1639680418964,
     "user": {
      "displayName": "Andres Diaz-Pinto",
      "photoUrl": "https://lh3.googleusercontent.com/a-/AOh14GiXXwIAoHpR5_bTNNhJdaidkMbZTGeGYTUWqG2-zg=s64",
      "userId": "04256945523315149204"
     },
     "user_tz": 0
    },
    "id": "h56SH5SS26fD",
    "outputId": "a789de6f-4e3f-4eb0-c4e6-0c44be4310df"
   },
   "outputs": [
    {
     "name": "stderr",
     "output_type": "stream",
     "text": [
      "100%|██████████| 3000/3000 [00:31<00:00, 96.04it/s] "
     ]
    },
    {
     "name": "stdout",
     "output_type": "stream",
     "text": [
      "Finished!\n",
      "Number of images loaded: 2401.0/3000\n"
     ]
    },
    {
     "name": "stderr",
     "output_type": "stream",
     "text": [
      "\n"
     ]
    }
   ],
   "source": [
    "import concurrent\n",
    "from tqdm import tqdm\n",
    "\n",
    "# Creating pool to load images. By default, it uses as much cores as your machine has\n",
    "\n",
    "with concurrent.futures.ProcessPoolExecutor() as executor:\n",
    "\n",
    "\n",
    "    for (img, idx) in tqdm(executor.map(get_image, images_paths), total=len(images_paths)):\n",
    "\n",
    "        # Loading the images\n",
    "\n",
    "        if img is not None:\n",
    "            loaded_images[idx] = img\n",
    "            was_loaded[idx] = 1\n",
    "        else:\n",
    "            was_loaded[idx] = 0\n",
    "\n",
    "print('Finished!')\n",
    "print(f'Number of images loaded: {sum(was_loaded)}/{len(images_paths)}')"
   ]
  },
  {
   "cell_type": "code",
   "execution_count": 42,
   "metadata": {
    "id": "3wnTyVd5VF_D"
   },
   "outputs": [],
   "source": [
    "# Saving images. I'd recommend to save this to not repeat this process\n",
    "np.save('images.npy', loaded_images)\n",
    "np.save('was_loaded.npy', was_loaded)"
   ]
  },
  {
   "cell_type": "code",
   "execution_count": 43,
   "metadata": {
    "id": "qxrlXC0mDzMh"
   },
   "outputs": [],
   "source": [
    "# Saving the images in Drive\n",
    "# !cp images.npy /content/drive/My\\ Drive/images.npy\n",
    "# !cp was_loaded.npy /content/drive/My\\ Drive/was_loaded.npy"
   ]
  },
  {
   "cell_type": "code",
   "execution_count": 44,
   "metadata": {
    "id": "PhgtsVsXMJrn"
   },
   "outputs": [],
   "source": [
    "# !ls -lah images.npy was_loaded.npy"
   ]
  },
  {
   "cell_type": "markdown",
   "metadata": {
    "id": "7YW-cq3uAz_f"
   },
   "source": [
    "## Labels"
   ]
  },
  {
   "cell_type": "code",
   "execution_count": 45,
   "metadata": {
    "colab": {
     "base_uri": "https://localhost:8080/",
     "height": 166
    },
    "executionInfo": {
     "elapsed": 253,
     "status": "error",
     "timestamp": 1639694180178,
     "user": {
      "displayName": "Andres Diaz-Pinto",
      "photoUrl": "https://lh3.googleusercontent.com/a-/AOh14GiXXwIAoHpR5_bTNNhJdaidkMbZTGeGYTUWqG2-zg=s64",
      "userId": "04256945523315149204"
     },
     "user_tz": 0
    },
    "id": "CrC1DB4MqzcD",
    "outputId": "e56dc390-51e2-4880-b1e1-216e983a4940"
   },
   "outputs": [
    {
     "name": "stdout",
     "output_type": "stream",
     "text": [
      "(3000, 224, 224, 3)\n"
     ]
    }
   ],
   "source": [
    "print(loaded_images.shape)"
   ]
  },
  {
   "cell_type": "code",
   "execution_count": 46,
   "metadata": {
    "id": "g5fgkXDwMkAF"
   },
   "outputs": [],
   "source": [
    "# Filter rows. Using only the ones with images\n",
    "data_with_imgs = data[:3000][was_loaded == 1]"
   ]
  },
  {
   "cell_type": "code",
   "execution_count": 47,
   "metadata": {
    "id": "55KOfqXW-Ick"
   },
   "outputs": [],
   "source": [
    "# Select what will be our label\n",
    "y_reg = data_with_imgs['Price']"
   ]
  },
  {
   "cell_type": "code",
   "execution_count": 48,
   "metadata": {
    "colab": {
     "base_uri": "https://localhost:8080/",
     "height": 265
    },
    "executionInfo": {
     "elapsed": 397,
     "status": "ok",
     "timestamp": 1639680419357,
     "user": {
      "displayName": "Andres Diaz-Pinto",
      "photoUrl": "https://lh3.googleusercontent.com/a-/AOh14GiXXwIAoHpR5_bTNNhJdaidkMbZTGeGYTUWqG2-zg=s64",
      "userId": "04256945523315149204"
     },
     "user_tz": 0
    },
    "id": "K3jNbKc3A7AH",
    "outputId": "763954ff-9a83-47ed-ab6a-67eefa575de9"
   },
   "outputs": [
    {
     "data": {
      "image/png": "[encoded data removed]",
      "text/plain": [
       "<Figure size 640x480 with 1 Axes>"
      ]
     },
     "metadata": {},
     "output_type": "display_data"
    }
   ],
   "source": [
    "# Plotting the labels\n",
    "import matplotlib.pyplot as plt\n",
    "plt.style.use(\"Solarize_Light2\")\n",
    "plt.hist(y_reg, bins=10)\n",
    "plt.show()"
   ]
  },
  {
   "cell_type": "code",
   "execution_count": 49,
   "metadata": {
    "id": "1xZRyEffBPOT"
   },
   "outputs": [],
   "source": [
    "# Create a range to convert this to a classification task.\n",
    "# For instance, from 1 to 3: Cheap, affordable, Expensive\n",
    "\n",
    "y_class = []\n",
    "for x in y_reg:\n",
    "    # Cheap\n",
    "    if x <= 50:\n",
    "        y_class.append(0)\n",
    "    # affordable\n",
    "    elif x <=150:\n",
    "        y_class.append(1)\n",
    "    # Expensive\n",
    "    else:\n",
    "        y_class.append(2)"
   ]
  },
  {
   "cell_type": "code",
   "execution_count": 50,
   "metadata": {
    "colab": {
     "base_uri": "https://localhost:8080/",
     "height": 265
    },
    "executionInfo": {
     "elapsed": 235,
     "status": "ok",
     "timestamp": 1639680419585,
     "user": {
      "displayName": "Andres Diaz-Pinto",
      "photoUrl": "https://lh3.googleusercontent.com/a-/AOh14GiXXwIAoHpR5_bTNNhJdaidkMbZTGeGYTUWqG2-zg=s64",
      "userId": "04256945523315149204"
     },
     "user_tz": 0
    },
    "id": "uAVd0C9vTBIk",
    "outputId": "49173315-e7ed-4255-9df1-a328e629ebf0"
   },
   "outputs": [
    {
     "data": {
      "image/png": "[encoded data removed]",
      "text/plain": [
       "<Figure size 640x480 with 1 Axes>"
      ]
     },
     "metadata": {},
     "output_type": "display_data"
    }
   ],
   "source": [
    "# Let's plot the new labels\n",
    "plt.hist(y_class, bins=3)\n",
    "plt.show()"
   ]
  },
  {
   "cell_type": "markdown",
   "metadata": {
    "id": "C0AuouaGNHQp"
   },
   "source": [
    "The more balance are the classes, the better performance we'll get from our model. As you can see, we have a significant unbalanced dataset. Is there any idea to reduce this?"
   ]
  },
  {
   "cell_type": "code",
   "execution_count": null,
   "metadata": {},
   "outputs": [],
   "source": []
  }
 ],
 "metadata": {
  "colab": {
   "collapsed_sections": [],
   "name": "loadingAirbnbDataset.ipynb",
   "provenance": [
    {
     "file_id": "1lLObwrmOKoLx4-JbzNh36a7Y6MXRr4LC",
     "timestamp": 1591970467338
    }
   ]
  },
  "kernelspec": {
   "display_name": "Python 3",
   "language": "python",
   "name": "python3"
  },
  "language_info": {
   "codemirror_mode": {
    "name": "ipython",
    "version": 3
   },
   "file_extension": ".py",
   "mimetype": "text/x-python",
   "name": "python",
   "nbconvert_exporter": "python",
   "pygments_lexer": "ipython3",
   "version": "3.8.6"
  }
 },
 "nbformat": 4,
 "nbformat_minor": 1
}
