{
 "cells": [
  {
   "cell_type": "markdown",
   "metadata": {},
   "source": [
    "Vamos a cargar el dataset de AirBnB"
   ]
  },
  {
   "cell_type": "code",
   "execution_count": 1,
   "metadata": {},
   "outputs": [
    {
     "name": "stderr",
     "output_type": "stream",
     "text": [
      "Warning message in file(file, \"rt\"):\n",
      "“cannot open file 'airbnb-listings.csv': No such file or directory”\n"
     ]
    },
    {
     "ename": "ERROR",
     "evalue": "Error in file(file, \"rt\"): cannot open the connection\n",
     "output_type": "error",
     "traceback": [
      "Error in file(file, \"rt\"): cannot open the connection\nTraceback:\n",
      "1. read.csv(\"airbnb-listings.csv\", sep = \";\")",
      "2. read.table(file = file, header = header, sep = sep, quote = quote, \n .     dec = dec, fill = fill, comment.char = comment.char, ...)",
      "3. file(file, \"rt\")"
     ]
    }
   ],
   "source": [
    "airbnb<-read.csv('airbnb-listings.csv',sep = ';')\n",
    "options(repr.plot.height=4,repr.plot.width=6,repr.plot.res = 300)"
   ]
  },
  {
   "cell_type": "markdown",
   "metadata": {},
   "source": [
    "Vamos a quedarnos con las columnas de mayor interés y convertimos de Square.Feet a Square.Meters (1 foot=0.092903m²):"
   ]
  },
  {
   "cell_type": "code",
   "execution_count": null,
   "metadata": {},
   "outputs": [],
   "source": [
    "library(tidyverse)\n",
    "\n",
    "df_airbnb <- airbnb %>% \n",
    "select(c('City','Room.Type','Neighbourhood','Accommodates','Bathrooms','Bedrooms','Beds',\n",
    "               'Price','Square.Feet',\n",
    "                'Guests.Included','Extra.People',\n",
    "               'Review.Scores.Rating','Latitude', 'Longitude')) %>% \n",
    "mutate(Square.Meters=Square.Feet*0.092903) %>%\n",
    "select(-c(\"Square.Feet\"))\n",
    "\n",
    "#Lo mismo pero con R básico:\n",
    "#df_airbnb<-airbnb[,c('City','Room.Type','Neighbourhood','Accommodates','Bathrooms','Bedrooms','Beds',\n",
    "#               'Price','Square.Feet',\n",
    "#                'Guests.Included','Extra.People',\n",
    "#               'Review.Scores.Rating','Latitude', 'Longitude')]\n",
    "#df_airbnb$Square.Meters<-df_airbnb$Square.Feet*0.092903"
   ]
  },
  {
   "cell_type": "markdown",
   "metadata": {},
   "source": [
    "Nos quedarmos solo con las entradas de Madrid para Room.Type==\"Entire home/apt\" y cuyo barrio (Neighbourhood) no está vacio ''\n",
    "Podemos eliminar las siguientes columnas que ya no son necesarias:\n",
    "\"Room.Type\",'City'\n",
    "\n",
    "Llama a nuevo dataframe df_madrid."
   ]
  },
  {
   "cell_type": "code",
   "execution_count": null,
   "metadata": {},
   "outputs": [],
   "source": [
    "\n",
    "df_madrid<-df_airbnb %>% \n",
    "    filter(Room.Type==\"Entire home/apt\" & City=='Madrid' & Neighbourhood!='') %>% \n",
    "    select(-c(\"Room.Type\",'City')) %>%\n",
    "    droplevels()\n",
    "\n",
    "set.seed(123)"
   ]
  },
  {
   "cell_type": "code",
   "execution_count": null,
   "metadata": {},
   "outputs": [],
   "source": [
    "summary(df_madrid)"
   ]
  },
  {
   "cell_type": "code",
   "execution_count": null,
   "metadata": {},
   "outputs": [],
   "source": []
  },
  {
   "cell_type": "markdown",
   "metadata": {},
   "source": [
    "¿Que porcentaje de los apartamentos no muestran los metros cuadrados? Es decir que tienen NA en Square.Meters"
   ]
  },
  {
   "cell_type": "code",
   "execution_count": null,
   "metadata": {},
   "outputs": [],
   "source": [
    "paste0(\"El porcentaje de NAs es: \",sum(is.na(df_madrid$Square.Meters)/nrow(df_madrid))*100,\"%\")"
   ]
  },
  {
   "cell_type": "markdown",
   "metadata": {},
   "source": [
    "De todos los apartamentos que tienen un valor de metros cuadrados diferente de NA \n",
    "¿Que porcentaje de los apartamentos tienen 0 metros cuadrados?"
   ]
  },
  {
   "cell_type": "code",
   "execution_count": null,
   "metadata": {},
   "outputs": [],
   "source": [
    "paste0(\"El porcentaje de 0s es: \",sum(df_madrid$Square.Meters==0,na.rm=T)/sum(!is.na(df_madrid$Square.Meters))*100,\"%\")"
   ]
  },
  {
   "cell_type": "markdown",
   "metadata": {},
   "source": [
    "Reemplazar todos los 0m^2 por NA "
   ]
  },
  {
   "cell_type": "code",
   "execution_count": null,
   "metadata": {},
   "outputs": [],
   "source": [
    "df_madrid<-df_madrid %>% mutate(Square.Meters = ifelse(Square.Meters==0, NA, Square.Meters))"
   ]
  },
  {
   "cell_type": "markdown",
   "metadata": {},
   "source": [
    "Son muchos, vamos a intentar crear un modelo que nos prediga cuantos son los metros cuadrados en función del resto de variables para tratar de rellenar esos NA."
   ]
  },
  {
   "cell_type": "markdown",
   "metadata": {},
   "source": [
    "Antes de eso deberíamos pintar el histograma de los metros cuadrados y ver si tenemos que filtrar algún elemento más."
   ]
  },
  {
   "cell_type": "code",
   "execution_count": null,
   "metadata": {},
   "outputs": [],
   "source": [
    "df_madrid %>% ggplot(aes(x=Square.Meters))+geom_histogram(bins=100)"
   ]
  },
  {
   "cell_type": "code",
   "execution_count": null,
   "metadata": {},
   "outputs": [],
   "source": [
    "df_madrid %>% filter(Square.Meters<10)\n",
    "\n",
    "# Existen muchos apartamentos con 0 m^2 y \n",
    "# hay algunos que tienen varias habitaciones y dicen que tienen menos de 20m^2\n"
   ]
  },
  {
   "cell_type": "markdown",
   "metadata": {},
   "source": [
    "Asigna el valor NA a la columna Square.Meters de los apartamentos que tengan menos de 20 m^2"
   ]
  },
  {
   "cell_type": "code",
   "execution_count": null,
   "metadata": {},
   "outputs": [],
   "source": [
    "df_madrid<-df_madrid %>% mutate(Square.Meters = ifelse(Square.Meters<20, NA, Square.Meters))\n",
    "# Esa línea es equivalente a:\n",
    "#df_madrid[,df_madrid$Square.Meters<20]<-NA"
   ]
  },
  {
   "cell_type": "markdown",
   "metadata": {},
   "source": [
    "Existen varios Barrios que todas sus entradas son NA, vamos a eliminar del dataset todos los pisos que pertenecen a estos barrios."
   ]
  },
  {
   "cell_type": "code",
   "execution_count": null,
   "metadata": {},
   "outputs": [],
   "source": [
    "neighb_all_na <- df_madrid %>% group_by(Neighbourhood) %>% \n",
    "  summarise(num_na=sum(is.na(Square.Meters))/length(Square.Meters)) %>% \n",
    "  filter(num_na==1) %>% select(Neighbourhood)"
   ]
  },
  {
   "cell_type": "code",
   "execution_count": null,
   "metadata": {},
   "outputs": [],
   "source": [
    "sum(apply(df_madrid,1,function(x) any(is.na(x))))"
   ]
  },
  {
   "cell_type": "code",
   "execution_count": null,
   "metadata": {},
   "outputs": [],
   "source": [
    "dim(df_madrid[,c(\"Neighbourhood\",\"Square.Meters\")])\n",
    "unique(na.omit(df_madrid[,c(\"Neighbourhood\",\"Square.Meters\")])$Neighbourhood)\n",
    "#dim(na.omit(df_madrid))"
   ]
  },
  {
   "cell_type": "code",
   "execution_count": null,
   "metadata": {},
   "outputs": [],
   "source": [
    "#Eliminamos los barrios que tienen todo NA\n",
    "\n",
    "neighb_all_na <- df_madrid %>% group_by(Neighbourhood) %>% \n",
    "  summarise(num_na=sum(is.na(Square.Meters))/length(Square.Meters)) %>% \n",
    "  filter(num_na==1) %>% select(Neighbourhood)\n",
    "df_madrid <- df_madrid[!df_madrid$Neighbourhood %in% neighb_all_na$Neighbourhood,]\n",
    "paste(\"Quedan \",length(unique(df_madrid$Neighbourhood)),\"barrios\")\n",
    "dim(df_madrid)"
   ]
  },
  {
   "cell_type": "markdown",
   "metadata": {},
   "source": [
    "El barrio parece ser un indicador importante para los metros cuadrados de un apartamento.\n",
    "\n",
    "Vamos a agrupar los barrios por metros cuadrados. Podemos usar una matriz de similaridad de Tukey tal y como hicimos en el curso de estadística:"
   ]
  },
  {
   "cell_type": "code",
   "execution_count": null,
   "metadata": {},
   "outputs": [],
   "source": [
    "tky<-TukeyHSD(aov( formula=Square.Meters~Neighbourhood, data=df_madrid ))\n",
    "tky.result<-data.frame(tky$Neighbourhood)\n",
    "cn <-sort(unique(df_madrid$Neighbourhood))\n",
    "resm <- matrix(NA, length(cn),length(cn))\n",
    "rownames(resm) <- cn\n",
    "colnames(resm) <- cn\n",
    "resm[lower.tri(resm) ] <- round(tky.result$p.adj,4)\n",
    "resm[upper.tri(resm) ] <- t(resm)[upper.tri(resm)] \n",
    "diag(resm) <- 1\n",
    "library(ggplot2)\n",
    "library(reshape2)\n",
    "dfResm <- melt(resm)\n",
    "ggplot(dfResm, aes(x=Var1, y=Var2, fill=value))+\n",
    "  geom_tile(colour = \"black\")+\n",
    "  scale_fill_gradient(low = \"white\",high = \"steelblue\")+\n",
    "  ylab(\"Class\")+xlab(\"Class\")+theme_bw()+\n",
    "  theme(axis.text.x = element_text(angle = 90, hjust = 1),legend.position=\"none\")"
   ]
  },
  {
   "cell_type": "markdown",
   "metadata": {},
   "source": [
    "Usando como variable de distancia: 1-resm\n",
    "Dibuja un dendrograma de los diferentes barrios.\n"
   ]
  },
  {
   "cell_type": "code",
   "execution_count": null,
   "metadata": {},
   "outputs": [],
   "source": [
    "f_dist<-as.dist(1-resm)\n",
    "hc <- hclust(f_dist,method=\"complete\")\n",
    "hcd <- as.dendrogram(hc)"
   ]
  },
  {
   "cell_type": "code",
   "execution_count": null,
   "metadata": {},
   "outputs": [],
   "source": [
    "plot(hcd)"
   ]
  },
  {
   "cell_type": "code",
   "execution_count": null,
   "metadata": {},
   "outputs": [],
   "source": [
    "library(dendextend)\n",
    "#labels(hcd)<-iris$Species[labels(hcd)]\n",
    "#hcd<-set(hcd,\"labels_cex\", 0.45) \n",
    "hcd <- as.dendrogram(hc)\n",
    "hcd<-set(hcd,\"labels_cex\", 0.45) \n",
    "plot(color_branches(hcd,h=0.9),horiz=TRUE)\n"
   ]
  },
  {
   "cell_type": "code",
   "execution_count": null,
   "metadata": {},
   "outputs": [],
   "source": []
  },
  {
   "cell_type": "markdown",
   "metadata": {},
   "source": [
    "¿Que punto de corte sería el aconsejable?, ¿cuantos clusters aparecen?"
   ]
  },
  {
   "cell_type": "code",
   "execution_count": null,
   "metadata": {},
   "outputs": [],
   "source": [
    "#Como hemos eliminado barrios parece que el mejor corte es a 0.2\n",
    "ct<-cutree(hc,h=0.2)"
   ]
  },
  {
   "cell_type": "code",
   "execution_count": null,
   "metadata": {},
   "outputs": [],
   "source": [
    "print(\"Vemos como en el modelo los clusters en general son buenos.\")\n",
    "library(cluster)\n",
    "sil<-silhouette(ct,f_dist)\n",
    "plot(sil,border=NA)"
   ]
  },
  {
   "cell_type": "markdown",
   "metadata": {},
   "source": [
    "Vamos a crear una nueva columna en el dataframe df_madrid con un nuevo identificador marcado por los clusters obtenidos. Esta columna la llamaremos neighb_id"
   ]
  },
  {
   "cell_type": "code",
   "execution_count": null,
   "metadata": {},
   "outputs": [],
   "source": [
    "df_barrios<-data.frame(names=names(ct),neighb_id=paste0(\"Neighb_id_\",ct))\n",
    "head(df_barrios)"
   ]
  },
  {
   "cell_type": "code",
   "execution_count": null,
   "metadata": {},
   "outputs": [],
   "source": [
    "df_madrid_id <- df_madrid %>% \n",
    "    inner_join(df_barrios,by=c(\"Neighbourhood\"='names')) %>%\n",
    "    filter(!is.na(Square.Meters))\n",
    "# El inner join es equivalente a:\n",
    "#df_madrid<-merge(df_madrid,df_barrios,by.x = \"Neighbourhood\",by.y='names')\n",
    "\n",
    "# Y esto sería equivalente a:\n",
    "#df_madrid$neighb_id <- ct[df_madrid$Neighbourhood]\n",
    "\n",
    "dim(df_madrid_id) \n",
    "head(df_madrid_id)"
   ]
  },
  {
   "cell_type": "markdown",
   "metadata": {},
   "source": [
    "Vamos a crear dos grupos, uno test y otro train.\n",
    "\n",
    "Tratamos de predecir los metros cuadrados."
   ]
  },
  {
   "cell_type": "code",
   "execution_count": null,
   "metadata": {},
   "outputs": [],
   "source": [
    "set.seed(12)\n",
    "idx<-sample(1:nrow(df_madrid_id),nrow(df_madrid_id)*0.8)\n",
    "df_madrid_id_train<-df_madrid_id[idx,]\n",
    "df_madrid_id_test<-df_madrid_id[-idx,]"
   ]
  },
  {
   "cell_type": "code",
   "execution_count": null,
   "metadata": {},
   "outputs": [],
   "source": [
    "model<-lm(formula=Square.Meters~neighb_id+neighb_id+Price+Bedrooms, df_madrid_id_train)\n",
    "#model<-lm(formula=Square.Meters~neighb_id+Bedrooms+Price:Accommodates, df_madrid_id_train) # Este modelo hace overfitting\n",
    "#model<-lm(formula=Square.Meters~neighb_id+Bedrooms+Price, df_madrid_id_train)\n",
    "summary(model)"
   ]
  },
  {
   "cell_type": "code",
   "execution_count": null,
   "metadata": {},
   "outputs": [],
   "source": [
    "print(\"Comprobamos en el R² y otras medidas en train y test para ver si tenemos overfitting:\")\n",
    "caret::postResample(predict(model,df_madrid_id_train),obs = df_madrid_id_train$Square.Meters)\n",
    "caret::postResample(predict(model,df_madrid_id_test),obs = df_madrid_id_test$Square.Meters)"
   ]
  },
  {
   "cell_type": "code",
   "execution_count": null,
   "metadata": {},
   "outputs": [],
   "source": [
    "plot(model$model$Square.Meters,model$residual)\n",
    "# Parece que tenemos un poco de heterocedasticidad, la varianza parece aumentar ligeramente, pero no es preocupante\n",
    "# También vemos un outlier que podemos tratar."
   ]
  },
  {
   "cell_type": "code",
   "execution_count": null,
   "metadata": {},
   "outputs": [],
   "source": [
    "hist(model$residual,breaks=20)"
   ]
  },
  {
   "cell_type": "code",
   "execution_count": null,
   "metadata": {},
   "outputs": [],
   "source": [
    "print(\"Tenemos un elemento que tiene un residuo muy alto, ¿nos afectará a la predicción?\")\n",
    "plot(cooks.distance(model))"
   ]
  },
  {
   "cell_type": "code",
   "execution_count": null,
   "metadata": {},
   "outputs": [],
   "source": [
    "cook_d<-cooks.distance(model)\n",
    "\n",
    "df_madrid_id_train[names(cook_d),] %>% filter(cook_d>0.2)\n",
    "# La línea anterior es equivalente a:\n",
    "#df_madrid_id_train[names(which(cook_d>0.2)),]"
   ]
  },
  {
   "cell_type": "code",
   "execution_count": null,
   "metadata": {},
   "outputs": [],
   "source": [
    "head(cook_d)"
   ]
  },
  {
   "cell_type": "code",
   "execution_count": null,
   "metadata": {},
   "outputs": [],
   "source": [
    "# Aquí usamos como índice names(cook_d) porque los NAs no aparecen en la variable cook_d, por eso los indices no tienen porque coincidir\n",
    "model_cook<-lm(formula=Square.Meters~neighb_id+Price+Bedrooms, df_madrid_id_train[names(cook_d),] %>% filter(cook_d<0.2))\n",
    "print(\"Comprobamos en el R² y otras medidas en train y test para ver si tenemos overfitting:\")\n",
    "#caret::postResample(predict(model_cook,df_madrid_id_train),obs = df_madrid_id_train$Square.Meters)\n",
    "#caret::postResample(predict(model_cook,df_madrid_id_test),obs = df_madrid_id_test$Square.Meters)"
   ]
  },
  {
   "cell_type": "markdown",
   "metadata": {},
   "source": [
    "No podemos filtrar por la distancia de cooks porque eliminamos un grupo entero de barrios y daría error."
   ]
  },
  {
   "cell_type": "code",
   "execution_count": null,
   "metadata": {},
   "outputs": [],
   "source": [
    "plot(cooks.distance(model_cook))"
   ]
  },
  {
   "cell_type": "code",
   "execution_count": null,
   "metadata": {},
   "outputs": [],
   "source": [
    "plot(model_cook$model$Square.Meters,model_cook$residual)"
   ]
  },
  {
   "cell_type": "markdown",
   "metadata": {},
   "source": [
    "Vamos a probar con regularización por Ridge"
   ]
  },
  {
   "cell_type": "code",
   "execution_count": null,
   "metadata": {},
   "outputs": [],
   "source": [
    "library(glmnet)\n",
    "over_fit_model<-lm(formula=Square.Meters~neighb_id+Bedrooms+Price*Accommodates, df_madrid_id)\n",
    "X<-model.matrix(over_fit_model)\n",
    "y<-as.matrix(over_fit_model$model$Square.Meters,ncols=1)\n",
    "set.seed(12)\n",
    "idx<-sample(1:nrow(X),nrow(X)*0.8)\n",
    "X_train<-X[idx,]\n",
    "X_test<-X[-idx,]\n",
    "y_train<-y[idx,]\n",
    "y_test<-y[-idx,]\n",
    "\n",
    "cvfit<-cv.glmnet(X_train,y_train,nfolds=10,alpha=0)\n",
    "cvfit$lambda.1se\n",
    "cvfit$lambda.min\n",
    "plot(cvfit)"
   ]
  },
  {
   "cell_type": "code",
   "execution_count": null,
   "metadata": {},
   "outputs": [],
   "source": [
    "gmodel<-glmnet(X,y,alpha=0,lambda = cvfit$lambda.1se)\n",
    "caret::postResample(predict(gmodel,X_train),obs = y_train)\n",
    "caret::postResample(predict(gmodel,X_test),obs = y_test)\n",
    "# Aunque nos sale un R^2 muy bueno si miramos los residuos nos daremos cuenta que nuestro modelo es bastante malo\n",
    "# a Medida que aumenta el valor de los metros cuadrados el error crece de forma lineal.\n",
    "plot(y_train,y_train-predict(gmodel,X_train))"
   ]
  },
  {
   "cell_type": "code",
   "execution_count": null,
   "metadata": {},
   "outputs": [],
   "source": [
    "# Vamos a usar un valor más bajo de lambda:\n",
    "gmodel<-glmnet(X,y,alpha=0,lambda = cvfit$lambda.min)\n",
    "caret::postResample(predict(gmodel,X_train),obs = y_train)\n",
    "caret::postResample(predict(gmodel,X_test),obs = y_test)\n",
    "plot(y_train,y_train-predict(gmodel,X_train))\n",
    "hist(y_train-predict(gmodel,X_train),breaks=20)"
   ]
  },
  {
   "cell_type": "markdown",
   "metadata": {},
   "source": [
    "Después de todas las pruebas concluimos que el mejor modelo era el primero, el más sencillo como veremos más adelante comprobando sus residuos. \n",
    "\n",
    "Aunque con tan pocas muestras es dificil saber cual es el mejor modelo. Una regla buena es que en igualdad de condiciones, el modelo más sencillo suele ser el más fiable (navaja de Ockham). "
   ]
  },
  {
   "cell_type": "markdown",
   "metadata": {},
   "source": [
    "Mirad el histograma de los residuos sobre el conjunto de test para evaluar la calidad de vuestro modelo"
   ]
  },
  {
   "cell_type": "code",
   "execution_count": null,
   "metadata": {},
   "outputs": [],
   "source": [
    "df_madrid_id_test$pred<-model %>% predict(df_madrid_id_test)\n",
    "hist(df_madrid_id_test$Square.Meters-df_madrid_id_test$pred,breaks=15)\n"
   ]
  },
  {
   "cell_type": "code",
   "execution_count": null,
   "metadata": {},
   "outputs": [],
   "source": [
    "# Los residuos no siguen una distribución muy gaussiana, aunque con tan pocas muestras es dificil de verificarlo.\n",
    "# Al menos su diagrama de dispersión si tiene buena pinta, no se ven tendencias:\n",
    "plot(df_madrid_id_test$pred,df_madrid_id_test$Square.Meters-df_madrid_id_test$pred)"
   ]
  },
  {
   "cell_type": "code",
   "execution_count": null,
   "metadata": {},
   "outputs": [],
   "source": [
    "library(caret)\n",
    "postResample(df_madrid_id_test$pred,obs = df_madrid_id_test$Square.Meters)"
   ]
  },
  {
   "cell_type": "code",
   "execution_count": null,
   "metadata": {},
   "outputs": [],
   "source": [
    "hist(df_madrid_id_test$pred)\n",
    "hist(df_madrid_id_test$Square.Meters)"
   ]
  },
  {
   "cell_type": "markdown",
   "metadata": {},
   "source": [
    "Si tuvieramos un anuncio de un apartamento para 6 personas (Accommodates), con 1 baño, con un precio de 80€/noche y 3 habitaciones en el barrio de Sol, con 3 camas y un review de 80.\n",
    "¿Cuantos metros cuadrados tendría? Si tu modelo necesita algúna variable adicional puedes inventartela dentro del rango de valores del dataset.\n",
    "¿Como varía sus metros cuadrados con cada habitación adicional?"
   ]
  },
  {
   "cell_type": "code",
   "execution_count": null,
   "metadata": {},
   "outputs": [],
   "source": [
    "# Primero buscamos el neighb_id del barrio de Sol:\n",
    "neighb_id_sol<-df_barrios %>% filter(names==\"Sol\") %>% select(neighb_id)\n",
    "paste0(\"El id de barrio es:\",neighb_id_sol)\n",
    "# Luego creamos el dataframe:\n",
    "df_appartment<-data.frame(neighb_id=neighb_id_sol,Bedrooms=3,Price=80,Accommodates=6)\n",
    "# Por último damos la predicción\n",
    "pred_m2<-predict(model,df_appartment)\n",
    "paste(\"Los metros cuadrados son:\",round(pred_m2))"
   ]
  },
  {
   "cell_type": "code",
   "execution_count": null,
   "metadata": {},
   "outputs": [],
   "source": [
    "cf<-coefficients(model)\n",
    "cf_bedroom_sol<-cf['Bedrooms']\n",
    "\n",
    "paste(\"En media cada habitación aumenta el tamaño del apartemos en:\",round(cf_bedroom_sol,2),\"m^2\")\n"
   ]
  },
  {
   "cell_type": "markdown",
   "metadata": {},
   "source": [
    "Rellenar los Square.Meters con valor NA con el estimado con el modelo anterior."
   ]
  },
  {
   "cell_type": "code",
   "execution_count": null,
   "metadata": {},
   "outputs": [],
   "source": [
    "df_madrid_id_all <- df_madrid %>% inner_join(df_barrios,by=c(\"Neighbourhood\"='names')) \n",
    "\n",
    "df_madrid_id_all$Square.Meters[is.na(df_madrid_id_all$Square.Meters)]<-\n",
    " round(predict(model,df_madrid_id_all[is.na(df_madrid_id_all$Square.Meters),]))\n",
    "\n",
    "head(df_madrid_id_all)"
   ]
  },
  {
   "cell_type": "markdown",
   "metadata": {},
   "source": [
    "Usar PCA para encontrar el apartamento más cercano a uno dado.\n",
    "\n",
    "Este algoritmo nos ayudaría a dado un apartamento que el algoritmo nos devolvería los 5 apartamentos más similares.\n",
    "\n",
    "\n",
    "Crearemos una función tal que le pasemos un apartamento con los siguientes datos:\n",
    "* Accommodates\t\n",
    "* Bathrooms\t\n",
    "* Bedrooms\t\n",
    "* Beds\t\n",
    "* Price\t\n",
    "* Guests.Included\t\n",
    "* Extra.People\t\n",
    "* Review.Scores.Rating\t\n",
    "* Latitude\t\n",
    "* Longitude\t\n",
    "* Square.Meters\n",
    "\n",
    "y nos devuelva los 5 más similares de:"
   ]
  },
  {
   "cell_type": "code",
   "execution_count": null,
   "metadata": {},
   "outputs": [],
   "source": [
    "df_madrid_pca<-na.omit(df_madrid_id_all[,c(\"Accommodates\",\"Bathrooms\",\"Bedrooms\",\"Latitude\",\"Longitude\",\n",
    "                                           \"Beds\",\"Price\",\"Review.Scores.Rating\",\"Square.Meters\",'neighb_id')])\n",
    "\n",
    "# Aunque podríamos dividir los datos entre test y training, aquí realmente no estamos tratando de hacer una \n",
    "# predicción, sino tratando de encontrar en el mismo dataset los elementos más similares.\n",
    "pca_df<-prcomp(df_madrid_pca %>% select(-neighb_id),center = TRUE, scale. = TRUE)"
   ]
  },
  {
   "cell_type": "code",
   "execution_count": null,
   "metadata": {},
   "outputs": [],
   "source": [
    "summary(df_madrid_pca)"
   ]
  },
  {
   "cell_type": "code",
   "execution_count": null,
   "metadata": {},
   "outputs": [],
   "source": [
    "plot(pca_df$sdev^2/sum(pca_df$sdev^2),main=\"Autovalores\")"
   ]
  },
  {
   "cell_type": "code",
   "execution_count": null,
   "metadata": {},
   "outputs": [],
   "source": [
    "str(pca_df)"
   ]
  },
  {
   "cell_type": "code",
   "execution_count": null,
   "metadata": {},
   "outputs": [],
   "source": [
    "get_closest_element<-function(pca_df, new_flat,num_flats){\n",
    "    pca_new<-predict(pca_df,newdata = new_vector)\n",
    "    pca_orig<-pca_df$x[,1:2]\n",
    "    pca_new <-pca_new[,1:2]\n",
    "\n",
    "    idx<-order(rowSums((pca_new-pca_orig)^2))\n",
    "    df_madrid_pca[idx %in% 1:num_flats,]\n",
    "}"
   ]
  },
  {
   "cell_type": "code",
   "execution_count": null,
   "metadata": {},
   "outputs": [],
   "source": [
    "new_vector<-(df_madrid_pca %>% select(-neighb_id))[10,]\n",
    "new_vector\n",
    "get_closest_element(pca_df,new_vector,5)"
   ]
  },
  {
   "cell_type": "markdown",
   "metadata": {},
   "source": [
    "Bonus: ¿de todas las coordenadas PCA cual es la que mejor permite clasificar por id de barrio?\n",
    "\n",
    "¿Por qué?"
   ]
  },
  {
   "cell_type": "markdown",
   "metadata": {},
   "source": [
    "##### Forma 1"
   ]
  },
  {
   "cell_type": "code",
   "execution_count": null,
   "metadata": {},
   "outputs": [],
   "source": [
    "# Realizadmos un test de ANOVA de cada componente principal (PC) por neighb_id\n",
    "\n",
    "pca_x_neighb<-cbind(data.frame(pca_df$x),neighb_id=df_madrid_pca$neighb_id)\n",
    "pca_cols<-colnames(pca_x_neighb)[1:ncol(pca_x_neighb)-1]\n",
    "df_F_val<-data.frame(pca=pca_cols,F=NA)\n",
    "for (idx in (1:nrow(df_F_val))){\n",
    "    formula<-paste(pca_cols[idx],\"~ neighb_id\")\n",
    "    df_F_val$F[idx]<-oneway.test(pca_x_neighb,formula = as.formula(formula))$statistic\n",
    "}\n",
    "df_F_val"
   ]
  },
  {
   "cell_type": "markdown",
   "metadata": {},
   "source": [
    "Parece que PC6 y PC9 son los que más varían a la hora de elegir por id de barrio. Vamos a analizar porqué."
   ]
  },
  {
   "cell_type": "code",
   "execution_count": null,
   "metadata": {},
   "outputs": [],
   "source": [
    "library(ggpubr)\n",
    "g1<-ggplot(data.frame(pca_df$x),aes(x=PC6,color=df_madrid_pca$neighb_id))+geom_density(size=1)\n",
    "g2<-ggplot(data.frame(pca_df$x),aes(x=PC9,color=df_madrid_pca$neighb_id))+geom_density(size=1)\n",
    "\n",
    "ggarrange(g1,g2,ncol=1)"
   ]
  },
  {
   "cell_type": "code",
   "execution_count": null,
   "metadata": {},
   "outputs": [],
   "source": [
    "pca_df$rotation\n",
    "# Vemos como la contribución principal a PC6 y PC9 son los metros cuadrados \n",
    "# o medidas relacionadas con los mismos como el número de habitaciones.\n",
    "# Lo cual es lógico porque hemos clusterizado utilizando los metros cuadrados."
   ]
  },
  {
   "cell_type": "markdown",
   "metadata": {},
   "source": [
    "##### Forma 2\n",
    "\n",
    "Otra forma de obtener lo mismo con LDA"
   ]
  },
  {
   "cell_type": "code",
   "execution_count": null,
   "metadata": {},
   "outputs": [],
   "source": [
    "MASS::lda(formula=neighb_id~.,data=pca_x_neighb)"
   ]
  },
  {
   "cell_type": "markdown",
   "metadata": {},
   "source": [
    "Si nos fijamos en los coeficiente, en \"Proportion of trace\" vemos que con los dos primeros componentes LD1 y LD2 son los más importantes para clasificar por neighb_id.\n",
    "Y si miramos los coeficientes que más importancia tienen en LD1 y LD2 son a su vez PC2 y PC9 como habíamos visto antes con el test ANOVA."
   ]
  },
  {
   "cell_type": "code",
   "execution_count": null,
   "metadata": {},
   "outputs": [],
   "source": []
  },
  {
   "cell_type": "code",
   "execution_count": null,
   "metadata": {},
   "outputs": [],
   "source": []
  }
 ],
 "metadata": {
  "kernelspec": {
   "display_name": "R",
   "language": "R",
   "name": "ir"
  },
  "language_info": {
   "codemirror_mode": "r",
   "file_extension": ".r",
   "mimetype": "text/x-r-source",
   "name": "R",
   "pygments_lexer": "r",
   "version": "4.1.0"
  }
 },
 "nbformat": 4,
 "nbformat_minor": 2
}
